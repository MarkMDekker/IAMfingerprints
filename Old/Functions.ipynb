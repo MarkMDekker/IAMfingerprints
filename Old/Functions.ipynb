{
 "cells": [
  {
   "cell_type": "markdown",
   "metadata": {},
   "source": [
    "# Functions for Diagnostic Indicators"
   ]
  },
  {
   "cell_type": "markdown",
   "metadata": {},
   "source": [
    "### Functions regarding import data"
   ]
  },
  {
   "cell_type": "code",
   "execution_count": 5,
   "metadata": {},
   "outputs": [],
   "source": [
    "def prepare_data(database, startyear=2010, dt=10, Region='European', **kwargs):\n",
    "    data_raw = pd.read_csv(database, **kwargs)\n",
    "    \n",
    "    # Choose only decadal data\n",
    "    data = data_raw.loc[:,['Model', 'Scenario', 'Region', 'Variable', 'Unit']+[str(y) for y in np.arange(startyear, 2101, dt)]]\n",
    "    \n",
    "    # Choose only region == World\n",
    "    if Region == 'European':\n",
    "        data = data[data['Region'].isin(['Europe', 'Europe (excl. Turkey)', 'EU27', 'Europe (incl. Turkey)', 'all'])]\n",
    "    \n",
    "    # Set all scenario names to lowercase\n",
    "    data['Scenario'] = data['Scenario'].str.lower()\n",
    "    \n",
    "    # Add column Name, equal to Model + Scenario\n",
    "    data.insert(2, 'Name', data['Model'] + ' ' + data['Scenario'])\n",
    "    \n",
    "    return data\n",
    "\n",
    "def interpolate_missing_5years(data):\n",
    "    col_2010 = list(data.columns).index('2010')\n",
    "    for i, year in enumerate(range(2015, 2105, 10)):\n",
    "        data.insert(col_2010+2*i+1, str(year), data[[str(year-5), str(year+5)]].mean(axis=1))"
   ]
  },
  {
   "cell_type": "code",
   "execution_count": 6,
   "metadata": {},
   "outputs": [],
   "source": [
    "def get(data, scenario, variable, year=None):\n",
    "    selection = data[(data['Scenario'] == scenario) & (data['Variable'] == variable)].set_index('Model')\n",
    "    if year is None:\n",
    "        return selection.loc[:,'2010':]\n",
    "    else:\n",
    "        return selection[year]"
   ]
  },
  {
   "cell_type": "code",
   "execution_count": 7,
   "metadata": {},
   "outputs": [],
   "source": [
    "def set_value_from_var_column(data, meta, metacol, col, year, scenario):\n",
    "    \"\"\"\n",
    "    Adds a column to the meta df using the `data` df. Which variable to use\n",
    "    is taken from a `metacol` column in the meta df. For example, the GDP\n",
    "    metric is sometimes GDP|PPP and sometimes GDP|MER, depending on the model.\n",
    "    \n",
    "    In this example, metacol would be 'GDP_metric'.\n",
    "    \"\"\"\n",
    "    meta[col] = np.nan\n",
    "    for model, info in meta.iterrows():\n",
    "        var = info[metacol]\n",
    "        selection = data[\n",
    "            (data['Variable'] == var)\n",
    "            & (data['Model'] == model)\n",
    "            & (data['Scenario'] == scenario)\n",
    "        ]\n",
    "        if len(selection) > 0:\n",
    "            meta.loc[model, col] = selection.iloc[0][year]"
   ]
  },
  {
   "cell_type": "code",
   "execution_count": 8,
   "metadata": {},
   "outputs": [],
   "source": [
    "def add_legend_item(fig, name='', mode='markers', **kwargs):\n",
    "    \"\"\"\n",
    "    In Plotly, a legend item can be added manually by adding an empty trace\n",
    "    \"\"\"\n",
    "    fig.add_scatter(x=[None], y=[None], name=name, mode=mode, **kwargs)"
   ]
  },
  {
   "cell_type": "markdown",
   "metadata": {},
   "source": [
    "## Function for the indicator comparison"
   ]
  },
  {
   "cell_type": "code",
   "execution_count": 10,
   "metadata": {},
   "outputs": [
    {
     "ename": "NameError",
     "evalue": "name 'models' is not defined",
     "output_type": "error",
     "traceback": [
      "\u001b[1;31m---------------------------------------------------------------------------\u001b[0m",
      "\u001b[1;31mNameError\u001b[0m                                 Traceback (most recent call last)",
      "\u001b[1;32m<ipython-input-10-46139f2638c7>\u001b[0m in \u001b[0;36m<module>\u001b[1;34m\u001b[0m\n\u001b[0;32m      4\u001b[0m     \u001b[0mnarrative_left\u001b[0m\u001b[1;33m=\u001b[0m\u001b[1;32mNone\u001b[0m\u001b[1;33m,\u001b[0m \u001b[0mnarrative_right\u001b[0m\u001b[1;33m=\u001b[0m\u001b[1;32mNone\u001b[0m\u001b[1;33m,\u001b[0m\u001b[1;33m\u001b[0m\u001b[1;33m\u001b[0m\u001b[0m\n\u001b[0;32m      5\u001b[0m     \u001b[0mshared_yaxes\u001b[0m\u001b[1;33m=\u001b[0m\u001b[1;32mFalse\u001b[0m\u001b[1;33m,\u001b[0m \u001b[0mshowlegendlines\u001b[0m\u001b[1;33m=\u001b[0m\u001b[1;32mTrue\u001b[0m\u001b[1;33m,\u001b[0m\u001b[1;33m\u001b[0m\u001b[1;33m\u001b[0m\u001b[0m\n\u001b[1;32m----> 6\u001b[1;33m     \u001b[0mlabelshift\u001b[0m\u001b[1;33m=\u001b[0m\u001b[1;36m1\u001b[0m\u001b[1;33m,\u001b[0m \u001b[0mexclude_models\u001b[0m\u001b[1;33m=\u001b[0m\u001b[1;32mNone\u001b[0m\u001b[1;33m,\u001b[0m \u001b[0mmodels\u001b[0m\u001b[1;33m=\u001b[0m\u001b[0mmodels\u001b[0m\u001b[1;33m\u001b[0m\u001b[1;33m\u001b[0m\u001b[0m\n\u001b[0m\u001b[0;32m      7\u001b[0m ):\n\u001b[0;32m      8\u001b[0m     \"\"\"\n",
      "\u001b[1;31mNameError\u001b[0m: name 'models' is not defined"
     ]
    }
   ],
   "source": [
    "def add_model_comparison(\n",
    "    fig, fig_col, meta_col,\n",
    "    label_posx=None, label_width=None,\n",
    "    narrative_left=None, narrative_right=None,\n",
    "    shared_yaxes=False, showlegendlines=True,\n",
    "    labelshift=1, exclude_models=None, models=models\n",
    "):\n",
    "    \"\"\"\n",
    "    Used to create the right part of each figure: the indicator comparison.\n",
    "    This is shared code for each indicator.\n",
    "                        \n",
    "    fig:            Plotly subplot figure\n",
    "    fig_col:        typically will be 2 if the right subplot is used\n",
    "    meta_col:       column from meta df used to get the indicator values\n",
    "    label_posx [None]: by default, the position (relative to the x-axis of col fig_col)\n",
    "            is calculated automatically based on the spread of indicator values. This can\n",
    "            be overrided manually if this calculation doesn't work properly.\n",
    "    narrative_left: string for arrow pointing left of median value of indicators\n",
    "    narrative_right: same for right\n",
    "    shared_yaxes:   if the left subplot has to share the same y-axis, set to True\n",
    "    showlegendlines: while the legend is always shown, the coloured lines are not always\n",
    "            necessary. Setting this to False hides these lines.\n",
    "    labelshift:     shift the labels a bit more ( > 1) or less ( < 1) to the left.\n",
    "    exclude_models: list of model names that should be excluded from this plot\n",
    "    models:         by default the normal `models` dataframe, but can be used as override.\n",
    "    \"\"\"\n",
    "    \n",
    "    if exclude_models is not None:\n",
    "        models = models[~models['Full model'].str.contains(exclude_models)].copy()\n",
    "        models['i'] = np.arange(len(models))\n",
    "    \n",
    "    n = models['i'].max()\n",
    "    meta_selection = meta[meta['Stripped model'].isin(models.index)]\n",
    "\n",
    "    # Add legend items\n",
    "    for name, symbol, size in [('Newest', 'star', 8), ('Older version', 'circle', 4)]:\n",
    "        add_legend_item(fig, name, marker={'symbol': symbol, 'size': size, 'color': 'black'}, legendgroup='Age')\n",
    "\n",
    "    # Add shade for 1-sigma range\n",
    "    q0, median, q1 = meta_selection[meta_col].quantile([0.16, 0.5, 0.84])\n",
    "    # mean = meta_selection[meta_col].mean()\n",
    "    fig.add_scatter(\n",
    "        x=[q0, q0, q1, q1], y=[-1, n+1, n+1, -1],\n",
    "        fill='toself', fillcolor='rgba(0,0,0,.1)',\n",
    "        line_width=0, mode='lines',\n",
    "        name='16-84th perc.', row=1, col=fig_col\n",
    "    )\n",
    "\n",
    "    # Add lines for median and mean\n",
    "    fig.add_scatter(\n",
    "        x=[median, median], y=[-1, n+1],\n",
    "        mode='lines', line={'color': '#888', 'width': 2},\n",
    "        name='Median', row=1, col=fig_col\n",
    "    )\n",
    "    \n",
    "    # Calculate position of legend items\n",
    "    vmin, vmax = meta_selection[meta_col].min(), meta_selection[meta_col].max()\n",
    "    label_posx = vmin - 0.66 * labelshift * (vmax - vmin) if label_posx is None else label_posx\n",
    "    label_width = 0.15 * (vmax - vmin) if label_width is None else label_width\n",
    "\n",
    "    for model, (modeltype, fullmodel, i, color) in models.iterrows():\n",
    "\n",
    "        selection = meta_selection[meta_selection['Stripped model'] == model]\n",
    "\n",
    "        # Add dots and stars\n",
    "        fig.add_scatter(\n",
    "            x=selection[meta_col], y=[i] * len(selection),\n",
    "            marker={\n",
    "                'color': color, 'opacity': 1,\n",
    "                'symbol': ['star' if is_newest else 'circle' for is_newest in selection['Newest']],\n",
    "                'size': [12 if is_newest else 7 for is_newest in selection['Newest']],\n",
    "                'line': {'color': '#FFF', 'width': 1}\n",
    "            },\n",
    "            mode='markers', showlegend=False,\n",
    "            row=1, col=fig_col\n",
    "        )\n",
    "\n",
    "        # Add legend line\n",
    "        if showlegendlines:\n",
    "            fig.add_scatter(\n",
    "                x=[label_posx-label_width, label_posx], y=[i, i],\n",
    "                mode='lines', line={'color': color, 'width': 3},\n",
    "                row=1, col=fig_col, showlegend=False\n",
    "            )\n",
    "\n",
    "        # Name of model\n",
    "        fig.add_annotation(\n",
    "            text=model, \n",
    "            x=label_posx, y=i, xanchor='left',\n",
    "            row=1, col=fig_col,\n",
    "            bgcolor='#FFF',\n",
    "            showarrow=False\n",
    "        )\n",
    "\n",
    "    \n",
    "\n",
    "    # Add model type brackets\n",
    "    x_max = meta_selection[meta_col].max()\n",
    "    dx = x_max - meta_selection[meta_col].min()\n",
    "    \n",
    "    x_right = 0.05 * dx + x_max # 6% to the right of the most right point\n",
    "    x_width = 0.03 * dx\n",
    "    for modeltype, selection in models.groupby('Type'):\n",
    "        first, last = selection['i'].min(), selection['i'].max()\n",
    "        # Bracket itself\n",
    "        dy = 0.3\n",
    "        fig.add_scatter(\n",
    "            x=[x_right, x_right+x_width, x_right+x_width, x_right], y=[first-dy, first-dy, last+dy, last+dy],\n",
    "            mode='lines', line_color='#999', showlegend=False,\n",
    "            row=1, col=fig_col\n",
    "        )\n",
    "        # Name of model type\n",
    "        fig.add_annotation(\n",
    "            x=x_right+1.25*x_width, y=(first+last)/2,\n",
    "            text=modeltype, textangle=90,\n",
    "            bgcolor='#FFF',\n",
    "            showarrow=False, yanchor='middle', xanchor='left',\n",
    "            row=1, col=fig_col\n",
    "        )\n",
    "        \n",
    "        \n",
    "    \n",
    "    # Add narrative arrows\n",
    "    for label, toLeft in [(narrative_left, True), (narrative_right, False)]:\n",
    "        if label is None:\n",
    "            continue\n",
    "        arrowlength=65\n",
    "        multiplier = -1 if toLeft else 1\n",
    "        fig.add_annotation(\n",
    "            xref=f'x{fig_col}', yref='paper', xanchor='center', yanchor='top',\n",
    "            x=median, y=-0.08, ax=arrowlength*multiplier, ay=0, xshift=multiplier*5,\n",
    "            width=arrowlength*2, align='right' if toLeft else 'left',\n",
    "            text=label,\n",
    "            showarrow=True, arrowside='start'\n",
    "        )\n",
    "        \n",
    "    # Update layout\n",
    "    fig.update_yaxes(\n",
    "        col=None if shared_yaxes else fig_col,\n",
    "        gridcolor=gridcolor,\n",
    "        tickvals=models['i'],\n",
    "        range=[n+1, -1],\n",
    "        zeroline=False,\n",
    "        showticklabels=False\n",
    "    ).update_layout(\n",
    "        legend={'tracegroupgap': 0, 'y': 0.5},\n",
    "    )\n",
    "\n"
   ]
  },
  {
   "cell_type": "markdown",
   "metadata": {},
   "source": [
    "## Indicator: relative abatement index"
   ]
  },
  {
   "cell_type": "markdown",
   "metadata": {},
   "source": [
    "$$RAI(t) = \\frac{CO_2\\text{FFI Base}(t)-CO_2\\text{FFI Pol}(t)}{CO_2\\text{FFI Base}(t)}$$"
   ]
  },
  {
   "cell_type": "code",
   "execution_count": null,
   "metadata": {},
   "outputs": [],
   "source": [
    "def calc_relative_abatement_index(data, year, pol='diag-c80-gr5', base='diag-base', var=var_CO2_FFI):\n",
    "    \n",
    "    # Get CO2 FFI Base and Pol\n",
    "    CO2_FFI_base = get(data, base, var, year)\n",
    "    CO2_FFI_pol  = get(data, pol, var, year)\n",
    "    \n",
    "    return (CO2_FFI_base - CO2_FFI_pol) / CO2_FFI_base"
   ]
  },
  {
   "cell_type": "code",
   "execution_count": null,
   "metadata": {},
   "outputs": [],
   "source": [
    "def create_fig_RAI(\n",
    "    year: str, var, var_name='CO2 FFI', \n",
    "    narrative_left='Less CO<sub>2</sub> reduction', narrative_right='More CO<sub>2</sub> reduction',\n",
    "    xrange=None, **kwargs\n",
    "):\n",
    "    \n",
    "    \n",
    "    # Calculate indicators\n",
    "    col_c30_RAI = f'RAI c30 {year} {var_name}'\n",
    "    col_c80_RAI = f'RAI c80 {year} {var_name}'\n",
    "    col_c30_cprice = f'Carbon price c30 {year}'\n",
    "    col_c80_cprice = f'Carbon price c80 {year}'\n",
    "    \n",
    "    meta[col_c30_RAI] = calc_relative_abatement_index(data, year, pol='diag-c30-gr5', var=var)\n",
    "    meta[col_c80_RAI] = calc_relative_abatement_index(data, year, pol='diag-c80-gr5', var=var)\n",
    "    meta[col_c30_cprice] = get(data, 'diag-c30-gr5', 'Price|Carbon', year)\n",
    "    meta[col_c80_cprice] = get(data, 'diag-c80-gr5', 'Price|Carbon', year)\n",
    "    meta.loc[meta[col_c30_cprice] == 0, col_c30_cprice] = np.nan\n",
    "    meta.loc[meta[col_c80_cprice] == 0, col_c80_cprice] = np.nan\n",
    "    \n",
    "    # Create figure\n",
    "    fig_RAI = make_subplots(1, 2, horizontal_spacing=0.02, column_widths=[0.4, 0.6], subplot_titles=(\n",
    "        '<b>a.</b> Carbon price vs RAI<br> ', '<b>b.</b> RAI per model<br> '\n",
    "    ))\n",
    "    col_RAI_vs_cprice = 1\n",
    "    col_RAI = 2\n",
    "\n",
    "\n",
    "    ##############\n",
    "    # 1a: RAI vs cprice for c30 and c80\n",
    "    ##############\n",
    "\n",
    "\n",
    "    curr_cols = [col_c30_RAI, col_c80_RAI, col_c30_cprice, col_c80_cprice]\n",
    "\n",
    "    for is_newest, selection in meta[~meta[curr_cols].isna().any(axis=1)].groupby('Newest'):\n",
    "        for i, (model, info) in enumerate(selection.iterrows()):\n",
    "            stripped_model = info['Stripped model']\n",
    "\n",
    "            if stripped_model not in models.index:\n",
    "                # Ignore entries that are not in `models`\n",
    "                continue\n",
    "\n",
    "            color = models.loc[stripped_model, 'Color'] if is_newest else '#DDD'\n",
    "            label = info['Stripped model'] if is_newest else 'Older model version'\n",
    "            dash = 'solid'\n",
    "\n",
    "            fig_RAI.add_scatter(\n",
    "                x=[0, info[col_c30_RAI], info[col_c80_RAI]],\n",
    "                # y=[0, info[col_c30_cprice], info[col_c80_cprice]],\n",
    "                # Hardcoded carbon price:\n",
    "                y=[0, 48.86, 130.31],\n",
    "                line={'color': color, 'dash': dash},\n",
    "                mode='lines',\n",
    "                name=label, legendgroup=label, showlegend=False,\n",
    "                row=1, col=col_RAI_vs_cprice\n",
    "            )\n",
    "\n",
    "\n",
    "\n",
    "\n",
    "    ##############\n",
    "    # 1b: RAI based on c80\n",
    "    ##############\n",
    "\n",
    "    add_model_comparison(\n",
    "        fig_RAI, col_RAI, col_c80_RAI,\n",
    "        narrative_left=narrative_left, narrative_right=narrative_right,\n",
    "        **kwargs\n",
    "    )\n",
    "\n",
    "\n",
    "    # Update layout\n",
    "\n",
    "    (\n",
    "        fig_RAI\n",
    "        .update_xaxes(\n",
    "            title=f'Relative Abatement Index in {year}',\n",
    "            gridcolor=gridcolor,\n",
    "            tickvals=np.arange(0, 2, 0.2),\n",
    "            zeroline=True,\n",
    "            title_standoff=40\n",
    "        )\n",
    "        .update_xaxes(\n",
    "            col=col_RAI,\n",
    "            range=xrange\n",
    "        )\n",
    "        .update_yaxes(\n",
    "            col=col_RAI_vs_cprice,\n",
    "            title=f'Carbon price in {year} (2010$/tCO<sub>2</sub>)'\n",
    "        )\n",
    "        .update_layout(\n",
    "            width=860,\n",
    "            height=400,\n",
    "            margin={'l': 60, 'r': 30, 't': 50, 'b': 70},\n",
    "            hovermode='closest'\n",
    "        )\n",
    "    )\n",
    "    return fig_RAI"
   ]
  },
  {
   "cell_type": "markdown",
   "metadata": {},
   "source": [
    "## Carbon intensity over energy intensity"
   ]
  },
  {
   "cell_type": "markdown",
   "metadata": {},
   "source": [
    "$$\\text{CoEI}=\\frac{\\text{Res}(CI)}{\\text{Res}(EI)}$$"
   ]
  },
  {
   "cell_type": "code",
   "execution_count": null,
   "metadata": {},
   "outputs": [],
   "source": [
    "def calc_carbon_and_energy_intensity(data, year, scenario):\n",
    "    \n",
    "    # For each model, get either GDP|PPP or GDP|MER (depending on column `GDP_metric`)\n",
    "    GDP_column = f'GDP {year} {scenario}'\n",
    "    set_value_from_var_column(data, meta, 'GDP_metric', GDP_column, year, scenario)\n",
    "    \n",
    "    CO2_FFI      = get(data, scenario, var_CO2_FFI, year)\n",
    "    final_energy = get(data, scenario, 'Final Energy', year)\n",
    "    GDP_PPP      = meta[GDP_column]\n",
    "    \n",
    "    carbon_intensity = CO2_FFI / final_energy\n",
    "    energy_intensity = final_energy / GDP_PPP\n",
    "    \n",
    "    return carbon_intensity, energy_intensity\n",
    "\n",
    "def calc_normalised_carbon_and_energy_intensity(data, year):\n",
    "    CI_pol, EI_pol           = calc_carbon_and_energy_intensity(data, year, 'diag-c80-gr5')\n",
    "    CI_baseline, EI_baseline = calc_carbon_and_energy_intensity(data, year, 'diag-base')\n",
    "    return CI_pol / CI_baseline, EI_pol / EI_baseline"
   ]
  },
  {
   "cell_type": "code",
   "execution_count": null,
   "metadata": {},
   "outputs": [],
   "source": [
    "##################\n",
    "## Functions required to generate confidence ellipse\n",
    "##################\n",
    "\n",
    "def ellipse(a, b, npoints):\n",
    "    x = np.linspace(-a, a, npoints)\n",
    "    y1 = b * np.sqrt(1-(x/a)**2)\n",
    "    y2 = -y1\n",
    "    return np.concatenate([x,x[::-1]]), np.concatenate([y1,y2[::-1]])\n",
    "\n",
    "def rotate(x, y, theta):\n",
    "    return x*np.cos(theta)-y*np.sin(theta), x*np.sin(theta)+y*np.cos(theta)\n",
    "\n",
    "\n",
    "def confidence_ellipse(x_values, y_values, nsigma, npoints=300):\n",
    "    # Calculate center of confidence ellipse\n",
    "    mu_x, mu_y = np.mean(x_values), np.mean(y_values)\n",
    "    \n",
    "    # Calculate correlation coefficient and covariances\n",
    "    cov_matrix = np.cov([x_values, y_values])\n",
    "    cov_xy = cov_matrix[0,1]\n",
    "    sigma_x, sigma_y = np.sqrt(cov_matrix[0,0]), np.sqrt(cov_matrix[1,1])\n",
    "    rho = cov_xy / (sigma_x * sigma_y)\n",
    "    \n",
    "    # Get the x-y points for the default ellipse with a=sqrt(1+rho), b=sqrt(1-rho)\n",
    "    ellipse_x, ellipse_y = ellipse(np.sqrt(1+rho), np.sqrt(1-rho), npoints)\n",
    "    \n",
    "    # Rotate ellipse 45 degrees counter-clockwise\n",
    "    ellipse_x, ellipse_y = rotate(ellipse_x, ellipse_y, np.pi/4)\n",
    "    \n",
    "    # Scale ellipse horizontally by (2*n*sigma_x) and vertically by (2*n*sigma_y)\n",
    "    # Note: scaling by 2*n*sigma_x means that the x_values (centered around 0) should\n",
    "    # be multiplied by n*sigma_x, not 2*n*sigma_x\n",
    "    ellipse_x = nsigma*sigma_x * ellipse_x\n",
    "    ellipse_y = nsigma*sigma_y * ellipse_y\n",
    "    \n",
    "    # Shift ellipse such that its center is situated at the point mu_x, mu_y\n",
    "    ellipse_x += mu_x\n",
    "    ellipse_y += mu_y\n",
    "    \n",
    "    return ellipse_x, ellipse_y"
   ]
  },
  {
   "cell_type": "code",
   "execution_count": null,
   "metadata": {},
   "outputs": [
    {
     "data": {
      "application/vnd.plotly.v1+json": {
       "config": {
        "plotlyServerURL": "https://plot.ly"
       },
       "data": [
        {
         "fill": "toself",
         "fillcolor": "rgba(0,0,0,.08)",
         "line": {
          "width": 0
         },
         "showlegend": false,
         "type": "scatter",
         "x": [
          -0.05926668966754689,
          -0.08151714186835157,
          -0.08852752227742355,
          -0.09301287259856983,
          -0.09618422054917108,
          -0.09851148031615709,
          -0.10023605703262761,
          -0.101501590172966,
          -0.10240181816186122,
          -0.10300195400277634,
          -0.10334955210466723,
          -0.10348056668997008,
          -0.10342297234194886,
          -0.10319904848659278,
          -0.10282688532720619,
          -0.10232141299420938,
          -0.10169512644864098,
          -0.10095860939386014,
          -0.10012092141665052,
          -0.09918988964421938,
          -0.09817233223176569,
          -0.09707423221167732,
          -0.09590087455876461,
          -0.09465695556635878,
          -0.09334667108320172,
          -0.09197378840428228,
          -0.09054170537437134,
          -0.0890534993816049,
          -0.08751196827981711,
          -0.08591966480930546,
          -0.08427892573700546,
          -0.08259189667480926,
          -0.08086055333547193,
          -0.07908671983258708,
          -0.07727208451266754,
          -0.07541821371482405,
          -0.07352656378070299,
          -0.07159849157954601,
          -0.06963526376708307,
          -0.06763806495985825,
          -0.0656080049765565,
          -0.0635461252734637,
          -0.0614534046811962,
          -0.059330764533378266,
          -0.05717907326435101,
          -0.05499915054168769,
          -0.05279177098986898,
          -0.05055766755356428,
          -0.04829753454231733,
          -0.046012030392816206,
          -0.043701780180163796,
          -0.041367377905512814,
          -0.03900938858396552,
          -0.036628350153673384,
          -0.03422477522452516,
          -0.031799152682612686,
          -0.029351949164764024,
          -0.02688361041579035,
          -0.02439456253965744,
          -0.021885213154547722,
          -0.01935595246068922,
          -0.016807154228870358,
          -0.014239176716726365,
          -0.011652363519140285,
          -0.009047044358456935,
          -0.006423535819629178,
          -0.003782142034911895,
          -0.0011231553222628143,
          0.0015531432187855243,
          0.004246483150380953,
          0.0069566041756477515,
          0.009683255651220746,
          0.012426196130473688,
          0.015185192935120662,
          0.017960021753079702,
          0.020750466260667788,
          0.023556317767365886,
          0.026377374881539628,
          0.029213443195638122,
          0.03206433498951633,
          0.03492986895063488,
          0.03780986990999413,
          0.04070416859274856,
          0.04361260138253353,
          0.046535010098606444,
          0.0494712417849813,
          0.052421148510789495,
          0.05538458718116357,
          0.05836141935799177,
          0.061351511089935695,
          0.06435473275115289,
          0.06737095888820155,
          0.07040006807464605,
          0.07344194277291116,
          0.07649646920296899,
          0.07956353721746956,
          0.08264304018294949,
          0.08573487486678466,
          0.08883894132956882,
          0.09195514282262457,
          0.09508338569037134,
          0.0982235792772943,
          0.10137563583927212,
          0.1045394704590401,
          0.10771500096557751,
          0.11090214785722097,
          0.11410083422832007,
          0.11731098569926096,
          0.12053253034969613,
          0.12376539865482566,
          0.1270095234245891,
          0.13026483974563086,
          0.1335312849259142,
          0.13680879844186405,
          0.14009732188792684,
          0.14339679892844165,
          0.14670717525172566,
          0.15002839852627775,
          0.15336041835901465,
          0.15670318625545754,
          0.16005665558178955,
          0.1634207815287133,
          0.1667955210770376,
          0.17018083296493103,
          0.1735766776567792,
          0.17698301731359078,
          0.18039981576489605,
          0.18382703848209003,
          0.18726465255317087,
          0.1907126266588297,
          0.19417093104985056,
          0.19763953752577995,
          0.20111841941483127,
          0.20460755155498883,
          0.20810691027627937,
          0.2116164733841822,
          0.21513622014414935,
          0.21866613126721196,
          0.22220618889664645,
          0.22575637659568187,
          0.2293166793362259,
          0.23288708348859277,
          0.23646757681221636,
          0.2400581484473331,
          0.24365878890762183,
          0.24726949007378904,
          0.250890245188089,
          0.25452104884977056,
          0.25816189701144254,
          0.2618127869763537,
          0.26547371739658066,
          0.26914468827212346,
          0.2728257009509054,
          0.2765167581296779,
          0.2802178638558319,
          0.2839290235301187,
          0.28765024391028393,
          0.2913815331156212,
          0.2951229006324515,
          0.2988743573205386,
          0.3026359154204485,
          0.30640758856186706,
          0.3101893917728865,
          0.3139813414902779,
          0.3177834555707647,
          0.3215957533033159,
          0.3254182554224794,
          0.32925098412277576,
          0.3330939630741784,
          0.336947217438703,
          0.3408107738881361,
          0.3446846606229311,
          0.3485689073923043,
          0.3524635455155643,
          0.35636860790471303,
          0.3602841290883555,
          0.36421014523696116,
          0.36814669418952173,
          0.3720938154816514,
          0.37605155037518156,
          0.38001994188930355,
          0.38399903483331466,
          0.38798887584103176,
          0.39198951340693367,
          0.3960009979241036,
          0.4000233817240427,
          0.4040567191184339,
          0.40810106644293803,
          0.4121564821031086,
          0.4162230266225208,
          0.42030076269321137,
          0.4243897552285358,
          0.4284900714185546,
          0.43260178078806766,
          0.4367249552574226,
          0.44085966920623315,
          0.4450059995401497,
          0.44916402576083553,
          0.4533338300393117,
          0.4575154972928428,
          0.4617091152655499,
          0.4659147746129482,
          0.470132568990618,
          0.4743625951472368,
          0.47860495302221084,
          0.4828597458481644,
          0.4871270802585603,
          0.4914070664007492,
          0.4956998180547587,
          0.500005452758164,
          0.5043240919374008,
          0.5086558610459109,
          0.5130008897095367,
          0.5173593118796165,
          0.5217312659942623,
          0.5261168951483414,
          0.5305163472727223,
          0.5349297753233915,
          0.5393573374810909,
          0.5437991973621857,
          0.5482555242415211,
          0.5527264932880969,
          0.5572122858144524,
          0.5617130895407327,
          0.5662290988744885,
          0.5707605152073543,
          0.5753075472298492,
          0.5798704112656562,
          0.5844493316268573,
          0.5890445409917382,
          0.5936562808069253,
          0.598284801715784,
          0.6029303640151895,
          0.6075932381429946,
          0.612273705198731,
          0.6169720575003574,
          0.621688599180128,
          0.626423646822996,
          0.6311775301513058,
          0.6359505927599409,
          0.6407431929065365,
          0.6455557043618806,
          0.6503885173262018,
          0.655242039417682,
          0.6601166967402875,
          0.6650129350388287,
          0.6699312209501348,
          0.6748720433602964,
          0.6798359148792029,
          0.6848233734450061,
          0.6898349840728075,
          0.6948713407637604,
          0.6999330685929674,
          0.7050208259971169,
          0.710135307285752,
          0.7152772454035428,
          0.7204474149749693,
          0.7256466356676053,
          0.7308757759157919,
          0.736135757053153,
          0.7414275579103053,
          0.7467522199435344,
          0.7521108529715255,
          0.7575046416108224,
          0.7629348525171555,
          0.7684028425597659,
          0.7739100680802999,
          0.7794580954178695,
          0.7850486129189859,
          0.7906834446972438,
          0.7963645664653975,
          0.8020941238353402,
          0.8078744535740062,
          0.813708108421694,
          0.8195978862322368,
          0.8255468643937712,
          0.8315584407510683,
          0.8376363825991162,
          0.8437848857866577,
          0.8500086466070231,
          0.8563129500350237,
          0.8627037791030463,
          0.8691879519662908,
          0.8757732957519637,
          0.8824688700468492,
          0.8892852585543065,
          0.8962349562353737,
          0.9033328932204718,
          0.9105971597129044,
          0.9180500351386616,
          0.9257194940810062,
          0.9336414907623756,
          0.9418635795917245,
          0.9504509735725166,
          0.9594974111294414,
          0.9691465317368813,
          0.9796397405279367,
          0.9914469516895367,
          1.005779192939063,
          1.0353515059803213,
          1.0353515059803213,
          1.057601958181126,
          1.064612338590198,
          1.0690976889113442,
          1.0722690368619454,
          1.0745962966289315,
          1.0763208733454022,
          1.0775864064857403,
          1.0784866344746358,
          1.0790867703155507,
          1.0794343684174417,
          1.0795653830027445,
          1.0795077886547233,
          1.0792838647993672,
          1.0789117016399805,
          1.0784062293069838,
          1.0777799427614154,
          1.0770434257066346,
          1.076205737729425,
          1.0752747059569938,
          1.07425714854454,
          1.0731590485244518,
          1.071985690871539,
          1.0707417718791332,
          1.069431487395976,
          1.0680586047170566,
          1.0666265216871458,
          1.0651383156943792,
          1.0635967845925915,
          1.06200448112208,
          1.06036374204978,
          1.0586767129875838,
          1.0569453696482465,
          1.0551715361453615,
          1.053356900825442,
          1.0515030300275985,
          1.0496113800934774,
          1.0476833078923207,
          1.0457200800798576,
          1.043722881272633,
          1.0416928212893308,
          1.0396309415862381,
          1.0375382209939705,
          1.0354155808461527,
          1.0332638895771256,
          1.031083966854462,
          1.0288765873026433,
          1.0266424838663388,
          1.0243823508550918,
          1.0220968467055906,
          1.0197865964929382,
          1.0174521942182873,
          1.01509420489674,
          1.012713166466448,
          1.0103095915372995,
          1.0078839689953871,
          1.0054367654775385,
          1.0029684267285648,
          1.0004793788524318,
          0.9979700294673222,
          0.9954407687734635,
          0.9928919705416448,
          0.9903239930295008,
          0.9877371798319148,
          0.9851318606712314,
          0.9825083521324036,
          0.9798669583476863,
          0.9772079716350373,
          0.974531673093989,
          0.9718383331623934,
          0.9691282121371267,
          0.9664015606615537,
          0.9636586201823008,
          0.9608996233776538,
          0.9581247945596947,
          0.9553343500521068,
          0.9525284985454086,
          0.9497074414312349,
          0.9468713731171363,
          0.9440204813232581,
          0.9411549473621396,
          0.9382749464027803,
          0.9353806477200259,
          0.9324722149302409,
          0.929549806214168,
          0.9266135745277931,
          0.9236636678019849,
          0.9207002291316109,
          0.9177233969547827,
          0.9147333052228388,
          0.9117300835616216,
          0.9087138574245729,
          0.9056847482381284,
          0.9026428735398633,
          0.8995883471098054,
          0.896521279095305,
          0.893441776129825,
          0.8903499414459898,
          0.8872458749832055,
          0.8841296734901498,
          0.8810014306224031,
          0.8778612370354801,
          0.8747091804735023,
          0.8715453458537343,
          0.868369815347197,
          0.8651826684555535,
          0.8619839820844545,
          0.8587738306135135,
          0.8555522859630783,
          0.8523194176579487,
          0.8490752928881853,
          0.8458199765671436,
          0.8425535313868604,
          0.8392760178709104,
          0.8359874944248478,
          0.8326880173843327,
          0.8293776410610487,
          0.8260564177864966,
          0.8227243979537597,
          0.8193816300573169,
          0.8160281607309849,
          0.8126640347840612,
          0.8092892952357369,
          0.8059039833478434,
          0.8025081386559952,
          0.7991017989991837,
          0.7956850005478784,
          0.7922577778306844,
          0.7888201637596035,
          0.7853721896539447,
          0.7819138852629239,
          0.7784452787869947,
          0.7749663968979432,
          0.7714772647577857,
          0.7679779060364951,
          0.7644683429285922,
          0.7609485961686251,
          0.7574186850455624,
          0.753878627416128,
          0.7503284397170926,
          0.7467681369765486,
          0.7431977328241818,
          0.739617239500558,
          0.7360266678654414,
          0.7324260274051526,
          0.7288153262389854,
          0.7251945711246854,
          0.7215637674630039,
          0.7179229193013319,
          0.7142720293364209,
          0.7106110989161938,
          0.706940128040651,
          0.703259115361869,
          0.6995680581830965,
          0.6958669524569425,
          0.6921557927826558,
          0.6884345724024905,
          0.6847032831971532,
          0.680961915680323,
          0.677210458992236,
          0.6734489008923259,
          0.6696772277509073,
          0.6658954245398879,
          0.6621034748224965,
          0.6583013607420097,
          0.6544890630094585,
          0.6506665608902951,
          0.6468338321899988,
          0.6429908532385962,
          0.6391375988740715,
          0.6352740424246384,
          0.6314001556898433,
          0.6275159089204702,
          0.6236212707972102,
          0.6197162084080614,
          0.6158006872244189,
          0.6118746710758134,
          0.6079381221232528,
          0.6039910008311231,
          0.6000332659375929,
          0.5960648744234709,
          0.5920857814794598,
          0.5880959404717427,
          0.5840953029058408,
          0.5800838183886708,
          0.5760614345887318,
          0.5720280971943406,
          0.5679837498698365,
          0.5639283342096658,
          0.5598617896902537,
          0.5557840536195631,
          0.5516950610842386,
          0.5475947448942199,
          0.5434830355247068,
          0.5393598610553519,
          0.5352251471065413,
          0.5310788167726248,
          0.5269207905519389,
          0.5227509862734627,
          0.5185693190199316,
          0.5143757010472245,
          0.5101700416998263,
          0.5059522473221565,
          0.5017222211655377,
          0.4974798632905636,
          0.4932250704646101,
          0.48895773605421416,
          0.4846777499120252,
          0.4803849982580157,
          0.47607936355461045,
          0.47176072437537364,
          0.4674289552668636,
          0.46308392660323777,
          0.45872550443315796,
          0.4543535503185121,
          0.4499679211644331,
          0.4455684690400521,
          0.441155040989383,
          0.4367274788316835,
          0.4322856189505887,
          0.42782929207125336,
          0.42335832302467763,
          0.4188725304983221,
          0.4143717267720418,
          0.4098557174382861,
          0.40532430110542017,
          0.4007772690829252,
          0.39621440504711825,
          0.39163548468591713,
          0.38704027532103624,
          0.38242853550584904,
          0.37780001459699053,
          0.3731544522975848,
          0.36849157816977995,
          0.36381111111404335,
          0.35911275881241705,
          0.35439621713264646,
          0.34966116948977854,
          0.3449072861614686,
          0.34013422355283346,
          0.33534162340623797,
          0.33052911195089374,
          0.3256962989865727,
          0.32084277689509244,
          0.31596811957248705,
          0.3110718812739457,
          0.30615359536263975,
          0.30121277295247806,
          0.2962489014335714,
          0.29126144286776834,
          0.2862498322399669,
          0.28121347554901405,
          0.276151747719807,
          0.27106399031565764,
          0.2659495090270224,
          0.2608075709092318,
          0.2556374013378051,
          0.25043818064516904,
          0.24520904039698257,
          0.23994905925962137,
          0.2346572584024692,
          0.22933259636924008,
          0.22397396334124897,
          0.21858017470195207,
          0.213149963795619,
          0.20768197375300856,
          0.20217474823247444,
          0.19662672089490496,
          0.19103620339378857,
          0.18540137161553072,
          0.17972024984737683,
          0.17399069247743437,
          0.16821036273876822,
          0.1623767078910806,
          0.15648693008053766,
          0.150537951919003,
          0.14452637556170617,
          0.13844843371365828,
          0.13229993052611683,
          0.1260761697057513,
          0.119771866277751,
          0.11338103720972814,
          0.10689686434648371,
          0.10031152056081066,
          0.09361594626592507,
          0.08679955775846787,
          0.07984986007740064,
          0.07275192309230272,
          0.06548765659986999,
          0.05803478117411315,
          0.05036532223176826,
          0.042443325550399036,
          0.03422123672104993,
          0.025633842740257484,
          0.01658740518333307,
          0.006938284575893183,
          -0.003554924215162014,
          -0.015362135376762232,
          -0.029694376626288266,
          -0.05926668966754689
         ],
         "y": [
          -0.007548395518248374,
          0.003783968505576163,
          0.009276206291991496,
          0.0138008308894228,
          0.017821918507166107,
          0.021519544292499027,
          0.024986216763158847,
          0.028276979797844937,
          0.031427754764970756,
          0.034463531846849804,
          0.03740253430090773,
          0.040258540093591505,
          0.04304226932516925,
          0.04576225966278924,
          0.04842544342753241,
          0.05103754197344418,
          0.053603343476774146,
          0.05612690370343479,
          0.058611694364793326,
          0.061060714883135275,
          0.06347657803401799,
          0.06586157656677386,
          0.06821773572908399,
          0.0705468551808367,
          0.07285054280726139,
          0.07513024226811302,
          0.0773872556466538,
          0.07962276222441492,
          0.08183783416298505,
          0.08403344969434327,
          0.08621050428762354,
          0.08836982015970773,
          0.09051215442067079,
          0.09263820608648905,
          0.09474862214602815,
          0.09684400283387143,
          0.09892490623263003,
          0.1009918523062362,
          0.10304532644803095,
          0.10508578261323534,
          0.10711364609388929,
          0.10912931598497505,
          0.11113316738278099,
          0.11312555335025504,
          0.11510680667888593,
          0.11707724147231872,
          0.11903715457329903,
          0.12098682685251128,
          0.12292652437532825,
          0.12485649946033679,
          0.12677699164167808,
          0.12868822854568918,
          0.13059042669100374,
          0.13248379222013587,
          0.13436852156959206,
          0.1362448020847161,
          0.13811281258474342,
          0.1399727238829091,
          0.14182469926590785,
          0.14366889493652374,
          0.14550546042283116,
          0.1473345389570024,
          0.14915626782643637,
          0.15097077869963954,
          0.15277819792904274,
          0.15457864683271552,
          0.1563722419567467,
          0.15815909531988523,
          0.15993931464188318,
          0.16171300355684523,
          0.16348026181276698,
          0.16524118545833588,
          0.1669958670179703,
          0.1687443956559852,
          0.17048685733069452,
          0.17222333493918918,
          0.17395390845346614,
          0.17567865504852734,
          0.17739764922301376,
          0.1791109629128952,
          0.18081866559869203,
          0.18252082440666756,
          0.1842175042043945,
          0.18590876769106737,
          0.18759467548290346,
          0.18927528619394868,
          0.19095065651258086,
          0.19262084127398058,
          0.1942858935288198,
          0.1959458646084004,
          0.19760080418645715,
          0.19925076033782502,
          0.20089577959415572,
          0.20253590699685636,
          0.20417118614740945,
          0.20580165925522453,
          0.2074273671831594,
          0.20904834949084103,
          0.21066464447590727,
          0.21227628921328112,
          0.21388331959258444,
          0.21548577035378821,
          0.21708367512119228,
          0.21867706643582088,
          0.22026597578631413,
          0.2218504336383913,
          0.2234304694629573,
          0.22500611176291818,
          0.22657738809876804,
          0.22814432511300659,
          0.22970694855344137,
          0.231265283295427,
          0.23281935336308973,
          0.23436918194958267,
          0.23591479143641503,
          0.2374562034118952,
          0.23899343868872597,
          0.2405265173207875,
          0.2420554586191415,
          0.24358028116728825,
          0.2451010028357064,
          0.24661764079570309,
          0.24813021153260129,
          0.24963873085828892,
          0.2511432139231523,
          0.2526436752274177,
          0.2541401286319193,
          0.25563258736831473,
          0.25712106404876545,
          0.25860557067509915,
          0.26008611864747067,
          0.2615627187725357,
          0.26303538127115156,
          0.2645041157856185,
          0.2659689313864734,
          0.26742983657884695,
          0.26888683930839574,
          0.2703399469668182,
          0.2717891663969638,
          0.2732345038975443,
          0.2746759652274536,
          0.2761135556097041,
          0.27754727973498566,
          0.2789771417648531,
          0.2804031453345459,
          0.28182529355544694,
          0.28324358901718244,
          0.2846580337893666,
          0.28606862942299427,
          0.28747537695148384,
          0.2888782768913709,
          0.29027732924265565,
          0.2916725334888022,
          0.2930638885963924,
          0.29445139301443113,
          0.29583504467330435,
          0.2972148409833858,
          0.29859077883329266,
          0.29996285458778527,
          0.3013310640853091,
          0.302695402635174,
          0.30405586501436777,
          0.3054124454639964,
          0.30676513768534824,
          0.3081139348355737,
          0.30945882952297443,
          0.3107998138018938,
          0.3121368791672011,
          0.3134700165483595,
          0.3147992163030688,
          0.31612446821047147,
          0.31744576146391207,
          0.31876308466323566,
          0.32007642580661444,
          0.3213857722818871,
          0.322691110857396,
          0.3239924276723068,
          0.32528970822639347,
          0.3265829373692695,
          0.3278720992890471,
          0.3291571775004032,
          0.3304381548320307,
          0.331715013413451,
          0.3329877346611637,
          0.3342562992641072,
          0.33552068716840133,
          0.33678087756134323,
          0.3380368488546245,
          0.339288578666736,
          0.3405360438045247,
          0.34177922024386415,
          0.34301808310939985,
          0.34425260665332424,
          0.3454827642331376,
          0.34670852828834586,
          0.34792987031604306,
          0.34914676084532403,
          0.35035916941046963,
          0.3515670645228398,
          0.3527704136414104,
          0.3539691831418813,
          0.35516333828428165,
          0.35635284317898974,
          0.35753766075108234,
          0.3587177527029218,
          0.3598930794748809,
          0.36106360020410205,
          0.3622292726811757,
          0.36339005330461926,
          0.36454589703302565,
          0.36569675733474316,
          0.3668425861349368,
          0.3679833337598719,
          0.3691189488782465,
          0.37024937843938854,
          0.37137456760811755,
          0.3724944596960557,
          0.3736089960891571,
          0.37471811617120443,
          0.37582175724300315,
          0.3769198544369806,
          0.3780123406268734,
          0.37909914633216124,
          0.3801801996168743,
          0.3812554259823716,
          0.3823247482536512,
          0.38338808645871614,
          0.3844453577004755,
          0.3854964760206154,
          0.38654135225482067,
          0.3875798938786732,
          0.38861200484348546,
          0.38963758540126175,
          0.3906565319178975,
          0.39166873667364055,
          0.39267408764974204,
          0.3936724683001131,
          0.39466375730668424,
          0.3956478283170245,
          0.3966245496626275,
          0.39759378405609436,
          0.3985553882652527,
          0.3995092127620282,
          0.4004551013436368,
          0.4013928907233838,
          0.40232241008803393,
          0.4032434806183521,
          0.40415591496899417,
          0.40505951670345386,
          0.40595407967921704,
          0.40683938737764996,
          0.40771521217241574,
          0.40858131452937296,
          0.40943744212993505,
          0.410283328908729,
          0.41111869399507045,
          0.4119432405462138,
          0.412756654458514,
          0.4135586029404824,
          0.41434873292917085,
          0.4151266693282912,
          0.415892013042861,
          0.4166443387808406,
          0.4173831925870086,
          0.4181080890680243,
          0.41881850825995526,
          0.4195138920801904,
          0.4201936402941465,
          0.4208571059129576,
          0.42150358992064774,
          0.42213233520714166,
          0.42274251955555775,
          0.4233332474967619,
          0.423903540798775,
          0.4244523273000085,
          0.42497842771893113,
          0.42548053997228075,
          0.4259572204003022,
          0.4264068611177664,
          0.42682766246478476,
          0.4272175991936763,
          0.4275743785551086,
          0.4278953877735244,
          0.428177627426638,
          0.4284176258030823,
          0.42861132713694483,
          0.4287539432519758,
          0.4288397527941301,
          0.4288618234423266,
          0.4288116175294171,
          0.4286784149551335,
          0.42844843775302865,
          0.4281034626656771,
          0.42761849951076536,
          0.42695762691987976,
          0.426065801014321,
          0.4248505132763519,
          0.42313168855869493,
          0.42044525065205385,
          0.4119186865080036,
          0.4119186865080036,
          0.4005863224841792,
          0.39509408469776375,
          0.39056946010033256,
          0.3865483724825891,
          0.3828507466972562,
          0.37938407422659626,
          0.3760933111919103,
          0.37294253622478457,
          0.36990675914290544,
          0.3669677566888476,
          0.36411175089616377,
          0.3613280216645861,
          0.358608031326966,
          0.35594484756222283,
          0.35333274901631095,
          0.3507669475129811,
          0.3482433872863205,
          0.3457585966249619,
          0.34330957610662005,
          0.3408937129557372,
          0.3385087144229814,
          0.3361525552606712,
          0.33382343580891854,
          0.3315197481824938,
          0.32924004872164225,
          0.3269830353431015,
          0.3247475287653403,
          0.32253245682677023,
          0.32033684129541196,
          0.31815978670213174,
          0.3160004708300475,
          0.31385813656908446,
          0.3117320849032662,
          0.3096216688437271,
          0.30752628815588384,
          0.30544538475712524,
          0.3033784386835191,
          0.3013249645417243,
          0.29928450837651993,
          0.2972566448958659,
          0.2952409750047802,
          0.29323712360697424,
          0.2912447376395002,
          0.28926348431086935,
          0.2872930495174365,
          0.28533313641645625,
          0.28338346413724397,
          0.281443766614427,
          0.27951379152941846,
          0.2775932993480772,
          0.27568206244406607,
          0.2737798642987515,
          0.27188649876961946,
          0.2700017694201632,
          0.2681254889050392,
          0.2662574784050118,
          0.2643975671068462,
          0.26254559172384734,
          0.2607013960532315,
          0.25886483056692405,
          0.2570357520327528,
          0.2552140231633189,
          0.2533995122901157,
          0.25159209306071256,
          0.24979164415703972,
          0.24799804903300857,
          0.24621119566987,
          0.2444309763478721,
          0.24265728743290998,
          0.2408900291769883,
          0.23912910553141936,
          0.23737442397178493,
          0.23562589533377004,
          0.23388343365906072,
          0.2321469560505661,
          0.2304163825362891,
          0.22869163594122793,
          0.2269726417667415,
          0.22525932807686005,
          0.2235516253910632,
          0.22184946658308768,
          0.22015278678536074,
          0.21846152329868787,
          0.2167756155068518,
          0.2150950047958066,
          0.2134196344771744,
          0.2117494497157747,
          0.21008439746093543,
          0.20842442638135483,
          0.2067694868032981,
          0.20511953065193023,
          0.20347451139559952,
          0.20183438399289888,
          0.20019910484234582,
          0.1985686317345307,
          0.19694292380659587,
          0.19532194149891421,
          0.19370564651384803,
          0.19209400177647412,
          0.1904869713971708,
          0.18888452063596703,
          0.18728661586856296,
          0.18569322455393436,
          0.18410431520344114,
          0.182519857351364,
          0.18093982152679794,
          0.17936417922683706,
          0.1777929028909872,
          0.17622596587674866,
          0.17466334243631387,
          0.17310500769432824,
          0.17155093762666554,
          0.17000110904017257,
          0.16845549955334022,
          0.16691408757786005,
          0.16537685230102928,
          0.16384377366896774,
          0.16231483237061375,
          0.160790009822467,
          0.15926928815404884,
          0.1577526501940522,
          0.15624007945715399,
          0.15473156013146638,
          0.15322707706660296,
          0.15172661576233754,
          0.15023016235783593,
          0.14873770362144048,
          0.1472492269409898,
          0.1457647203146561,
          0.14428417234228458,
          0.1428075722172196,
          0.14133490971860374,
          0.13986617520413677,
          0.13840135960328187,
          0.1369404544109083,
          0.1354834516813595,
          0.1340303440229371,
          0.13258112459279145,
          0.13113578709221096,
          0.12969432576230172,
          0.12825673538005122,
          0.12682301125476958,
          0.12539314922490216,
          0.12396714565520936,
          0.12254499743430829,
          0.12112670197257279,
          0.11971225720038867,
          0.11830166156676097,
          0.11689491403827147,
          0.11549201409838433,
          0.11409296174709961,
          0.11269775750095304,
          0.11130640239336288,
          0.10991889797532411,
          0.10853524631645092,
          0.10715545000636945,
          0.10577951215646259,
          0.10440743640197002,
          0.10303922690444622,
          0.10167488835458123,
          0.10031442597538746,
          0.09895784552575884,
          0.09760515330440699,
          0.09625635615418152,
          0.0949114614667808,
          0.09357047718786143,
          0.09223341182255418,
          0.09090027444139577,
          0.0895710746866865,
          0.08824582277928375,
          0.08692452952584319,
          0.0856072063265196,
          0.08429386518314079,
          0.08298451870786815,
          0.08167918013235928,
          0.08037786331744848,
          0.0790805827633618,
          0.07778735362048578,
          0.07649819170070815,
          0.07521311348935206,
          0.07393213615772454,
          0.07265527757630427,
          0.07138255632859153,
          0.07011399172564803,
          0.06884960382135397,
          0.06758941342841204,
          0.06633344213513076,
          0.06508171232301924,
          0.06383424718523056,
          0.0625910707458911,
          0.061352207880355364,
          0.060117684336431,
          0.0588875267566176,
          0.05766176270140935,
          0.056440420673712244,
          0.05522353014443121,
          0.05401112157928559,
          0.052803226466915404,
          0.05159987734834487,
          0.05040110784787394,
          0.04920695270547357,
          0.04801744781076553,
          0.0468326302386729,
          0.045652538286833494,
          0.0444772115148743,
          0.04330669078565319,
          0.042141018308579525,
          0.04098023768513598,
          0.03982439395672957,
          0.038673533655012055,
          0.037527704854818406,
          0.03638695722988336,
          0.03525134211150882,
          0.03412091255036673,
          0.0329957233816377,
          0.03187583129369953,
          0.03076129490059812,
          0.029652174818550814,
          0.028548533746752064,
          0.027450436552774654,
          0.026357950362881855,
          0.025271144657594002,
          0.02419009137288089,
          0.023114865007383634,
          0.02204554273610404,
          0.020982204531039106,
          0.019924933289279745,
          0.018873814969139868,
          0.017828938734934546,
          0.016790397111082017,
          0.015758286146269812,
          0.014732705588493489,
          0.013713759071857734,
          0.012701554316114694,
          0.011696203340013228,
          0.010697822689642145,
          0.009706533683071034,
          0.008722462672730719,
          0.007745741327127714,
          0.006776506933660886,
          0.005814902724502524,
          0.00486107822772705,
          0.003915189646118422,
          0.0029774002663714716,
          0.002047880901721283,
          0.001126810371403164,
          0.0002143760207610479,
          -0.0006892257136986157,
          -0.0015837886894617959,
          -0.0024690963878947203,
          -0.0033449211826604985,
          -0.0042110235396177476,
          -0.005067151140179776,
          -0.00591303791897374,
          -0.006748403005315207,
          -0.007572949556458569,
          -0.00838636346875879,
          -0.00918831195072714,
          -0.009978441939415633,
          -0.010756378338535932,
          -0.011521722053105754,
          -0.012274047791085319,
          -0.013012901597253379,
          -0.013737798078269081,
          -0.014448217270200042,
          -0.015143601090435138,
          -0.01582334930439125,
          -0.016486814923202364,
          -0.017133298930892465,
          -0.017762044217386447,
          -0.018372228565802534,
          -0.018962956507006634,
          -0.019533249809019798,
          -0.020082036310253265,
          -0.020608136729175913,
          -0.021110248982525476,
          -0.021586929410546962,
          -0.022036570128011107,
          -0.02245737147502949,
          -0.022847308203921085,
          -0.023204087565353387,
          -0.023525096783769156,
          -0.023807336436882737,
          -0.024047334813327048,
          -0.02424103614718956,
          -0.024383652262220556,
          -0.02446946180437487,
          -0.02449153245257138,
          -0.024441326539661884,
          -0.02430812396537821,
          -0.02407814676327344,
          -0.02373317167592187,
          -0.02324820852101009,
          -0.02258733593012452,
          -0.021695510024565767,
          -0.020480222286596766,
          -0.018761397568939686,
          -0.01607495966229866,
          -0.007548395518248374
         ]
        },
        {
         "fill": "toself",
         "fillcolor": "rgba(0,0,0,.08)",
         "line": {
          "width": 0
         },
         "showlegend": false,
         "type": "scatter",
         "x": [
          1.2531009200949803,
          1.2504181986154852,
          1.2502096214064207,
          1.2504109693479775,
          1.250825638557363,
          1.251377340975763,
          1.2520268857689691,
          1.2527509538353778,
          1.2535343272423227,
          1.2543664190069415,
          1.25523950892489,
          1.2561477600201585,
          1.2570866307685435,
          1.2580525042242123,
          1.2590424435392635,
          1.2600540248867536,
          1.2610852197764832,
          1.262134310000731,
          1.2631998247839624,
          1.264280493433874,
          1.2653752090593797,
          1.2664830003471215,
          1.2676030093096617,
          1.2687344735288577,
          1.2698767118310723,
          1.2710291126160822,
          1.2721911242619344,
          1.2733622471710984,
          1.2745420271269454,
          1.2757300497057207,
          1.2769259355457907,
          1.2781293363185227,
          1.2793399312775016,
          1.2805574242876268,
          1.2817815412548579,
          1.2830120278924046,
          1.2842486477709782,
          1.2854911806101033,
          1.2867394207749858,
          1.2879931759494563,
          1.2892522659603778,
          1.2905165217328838,
          1.2917857843590508,
          1.2930599042652853,
          1.2943387404659095,
          1.29562215989227,
          1.2969100367882191,
          1.2982022521641037,
          1.299498693302477,
          1.3007992533096593,
          1.3021038307080453,
          1.3034123290647202,
          1.304724656652499,
          1.306040726139996,
          1.3073604543077328,
          1.3086837617876634,
          1.3100105728237907,
          1.3113408150518249,
          1.3126744192960624,
          1.3140113193818685,
          1.3153514519623197,
          1.3166947563577243,
          1.3180411744068687,
          1.3193906503289585,
          1.3207431305953314,
          1.3220985638101115,
          1.3234569005990509,
          1.3248180935058904,
          1.326182096895622,
          1.3275488668641047,
          1.3289183611535302,
          1.3302905390732875,
          1.3316653614258056,
          1.3330427904370077,
          1.3344227896910248,
          1.3358053240688623,
          1.337190359690729,
          1.3385778638617685,
          1.339967805020953,
          1.3413601526929195,
          1.3427548774425453,
          1.3441519508320792,
          1.3455513453806534,
          1.3469530345260252,
          1.3483569925883956,
          1.3497631947361772,
          1.3511716169535835,
          1.3525822360099267,
          1.353995029430519,
          1.3554099754690756,
          1.3568270530815334,
          1.3582462419011958,
          1.3596675222151298,
          1.3610908749417374,
          1.3625162816094392,
          1.3639437243364003,
          1.3653731858112481,
          1.366804649274717,
          1.3682380985021783,
          1.3696735177870007,
          1.3711108919247008,
          1.37255020619784,
          1.373991446361629,
          1.3754345986302028,
          1.3768796496635354,
          1.3783265865549563,
          1.3797753968192437,
          1.3812260683812645,
          1.3826785895651343,
          1.3841329490838734,
          1.385589136029534,
          1.3870471398637796,
          1.3885069504088927,
          1.3899685578391943,
          1.3914319526728545,
          1.3928971257640796,
          1.3943640682956582,
          1.3958327717718502,
          1.3973032280116078,
          1.3987754291421113,
          1.4002493675926095,
          1.4017250360885523,
          1.4032024276460038,
          1.4046815355663262,
          1.4061623534311232,
          1.4076448750974369,
          1.4091290946931847,
          1.410615006612832,
          1.4121026055132908,
          1.4135918863100387,
          1.4150828441734495,
          1.41657547452533,
          1.4180697730356582,
          1.4195657356195153,
          1.4210633584342072,
          1.4225626378765721,
          1.4240635705804672,
          1.425566153414431,
          1.42707038347952,
          1.428576258107312,
          1.4300837748580768,
          1.4315929315191076,
          1.4331037261032138,
          1.4346161568473705,
          1.4361302222115246,
          1.4376459208775518,
          1.4391632517483683,
          1.4406822139471913,
          1.442202806816948,
          1.4437250299198352,
          1.4452488830370251,
          1.4467743661685175,
          1.4483014795331406,
          1.4498302235686975,
          1.4513605989322607,
          1.4528926065006131,
          1.4544262473708387,
          1.4559615228610616,
          1.4574984345113353,
          1.4590369840846842,
          1.4605771735682993,
          1.4621190051748867,
          1.4636624813441774,
          1.4652076047445934,
          1.466754378275078,
          1.4683028050670928,
          1.4698528884867808,
          1.4714046321373035,
          1.4729580398613549,
          1.4745131157438542,
          1.476069864114823,
          1.4776282895524548,
          1.4791883968863757,
          1.4807501912011083,
          1.48231367783974,
          1.483878862407806,
          1.4854457507773888,
          1.4870143490914463,
          1.4885846637683744,
          1.4901567015068113,
          1.4917304692906928,
          1.493305974394569,
          1.4948832243891912,
          1.4964622271473789,
          1.4980429908501802,
          1.4996255239933347,
          1.5012098353940542,
          1.5027959341981323,
          1.5043838298873988,
          1.505973532287533,
          1.5075650515762522,
          1.5091583982918928,
          1.5107535833424026,
          1.5123506180147617,
          1.513949513984854,
          1.515550283327813,
          1.51715293852886,
          1.5187574924946659,
          1.5203639585652566,
          1.521972350526497,
          1.5235826826231766,
          1.525194969572734,
          1.5268092265796525,
          1.5284254693505632,
          1.5300437141100953,
          1.5316639776175136,
          1.533286277184192,
          1.534910630691964,
          1.5365370566124097,
          1.538165574027127,
          1.5397962026490488,
          1.5414289628448719,
          1.5430638756586594,
          1.544700962836696,
          1.5463402468536693,
          1.5479817509402676,
          1.5496254991122766,
          1.5512715162012847,
          1.5529198278870902,
          1.5545704607319362,
          1.55622344221669,
          1.5578788007791033,
          1.5595365658542983,
          1.5611967679176386,
          1.5628594385301517,
          1.5645246103866939,
          1.5661923173670564,
          1.5678625945902342,
          1.5695354784720958,
          1.5712110067867182,
          1.5728892187316723,
          1.5745701549975695,
          1.5762538578422176,
          1.577940371169758,
          1.5796297406151982,
          1.5813220136347979,
          1.5830172396028044,
          1.5847154699150945,
          1.58641675810033,
          1.588121159939305,
          1.5898287335932335,
          1.5915395397418073,
          1.5932536417319492,
          1.594971105738295,
          1.5966920009365473,
          1.5984163996909964,
          1.6001443777576394,
          1.601876014504522,
          1.6036113931511229,
          1.6053506010288279,
          1.6070937298648216,
          1.608840876092019,
          1.6105921411880253,
          1.6123476320465204,
          1.614107461384951,
          1.6158717481929703,
          1.6176406182267258,
          1.6194142045548712,
          1.6211926481630836,
          1.6229760986249575,
          1.6247647148484157,
          1.626558665908325,
          1.6283581319778222,
          1.630163305373077,
          1.6319743917288831,
          1.6337916113257158,
          1.6356152005928646,
          1.637445413817119,
          1.6392825250925198,
          1.6411268305541675,
          1.6429786509484774,
          1.644838334604082,
          1.6467062608826144,
          1.64858284420783,
          1.6504685387963578,
          1.6523638442457276,
          1.6542693121778926,
          1.6561855541930766,
          1.658113251464916,
          1.6600531664115539,
          1.662006157020428,
          1.6639731946048961,
          1.6659553860560443,
          1.6679540020661763,
          1.6699705134108265,
          1.6720066382977161,
          1.6740644052170446,
          1.6761462379957555,
          1.67825507348175,
          1.6803945286208615,
          1.6825691449372926,
          1.6847847594070535,
          1.6870490922344885,
          1.6893727304024595,
          1.6917708918436332,
          1.694266895659613,
          1.696899932684607,
          1.69974629097743,
          1.703002574420874,
          1.708733002134749,
          1.708733002134749,
          1.7114157236142442,
          1.7116243008233087,
          1.711422952881752,
          1.7110082836723663,
          1.7104565812539665,
          1.7098070364607603,
          1.7090829683943516,
          1.7082995949874067,
          1.707467503222788,
          1.7065944133048394,
          1.705686162209571,
          1.7047472914611859,
          1.703781418005517,
          1.7027914786904659,
          1.7017798973429759,
          1.7007487024532464,
          1.6996996122289985,
          1.698634097445767,
          1.6975534287958554,
          1.6964587131703497,
          1.695350921882608,
          1.6942309129200677,
          1.6930994487008717,
          1.691957210398657,
          1.6908048096136472,
          1.689642797967795,
          1.688471675058631,
          1.687291895102784,
          1.6861038725240087,
          1.6849079866839387,
          1.6837045859112068,
          1.6824939909522278,
          1.6812764979421027,
          1.6800523809748715,
          1.6788218943373248,
          1.6775852744587512,
          1.6763427416196262,
          1.6750945014547436,
          1.6738407462802731,
          1.6725816562693518,
          1.6713174004968456,
          1.6700481378706786,
          1.6687740179644441,
          1.66749518176382,
          1.6662117623374595,
          1.6649238854415103,
          1.6636316700656257,
          1.6623352289272524,
          1.6610346689200701,
          1.6597300915216842,
          1.6584215931650093,
          1.6571092655772304,
          1.6557931960897334,
          1.6544734679219966,
          1.653150160442066,
          1.6518233494059387,
          1.6504931071779045,
          1.6491595029336668,
          1.6478226028478609,
          1.6464824702674097,
          1.6451391658720051,
          1.6437927478228607,
          1.6424432719007709,
          1.641090791634398,
          1.639735358419618,
          1.6383770216306786,
          1.637015828723839,
          1.6356518253341075,
          1.6342850553656247,
          1.632915561076199,
          1.6315433831564419,
          1.6301685608039238,
          1.6287911317927217,
          1.6274111325387046,
          1.626028598160867,
          1.6246435625390003,
          1.623256058367961,
          1.6218661172087765,
          1.6204737695368099,
          1.6190790447871841,
          1.6176819713976502,
          1.616282576849076,
          1.6148808877037042,
          1.6134769296413338,
          1.6120707274935522,
          1.610662305276146,
          1.6092516862198027,
          1.6078388927992104,
          1.6064239467606538,
          1.605006869148196,
          1.6035876803285336,
          1.6021664000145996,
          1.600743047287992,
          1.5993176406202902,
          1.597890197893329,
          1.5964607364184813,
          1.5950292729550124,
          1.5935958237275512,
          1.5921604044427289,
          1.5907230303050286,
          1.5892837160318893,
          1.5878424758681005,
          1.5863993235995266,
          1.584954272566194,
          1.583507335674773,
          1.5820585254104857,
          1.580607853848465,
          1.579155332664595,
          1.577700973145856,
          1.5762447862001954,
          1.5747867823659498,
          1.5733269718208367,
          1.5718653643905351,
          1.570401969556875,
          1.5689367964656498,
          1.5674698539340712,
          1.5660011504578792,
          1.5645306942181216,
          1.5630584930876181,
          1.56158455463712,
          1.5601088861411772,
          1.5586314945837256,
          1.5571523866634034,
          1.5556715687986062,
          1.5541890471322926,
          1.5527048275365447,
          1.5512189156168974,
          1.5497313167164386,
          1.5482420359196907,
          1.5467510780562799,
          1.5452584477043994,
          1.5437641491940712,
          1.5422681866102141,
          1.5407705637955222,
          1.5392712843531573,
          1.5377703516492622,
          1.5362677688152984,
          1.5347635387502094,
          1.5332576641224174,
          1.5317501473716526,
          1.5302409907106218,
          1.5287301961265158,
          1.5272177653823589,
          1.5257037000182048,
          1.5241880013521776,
          1.522670670481361,
          1.521151708282538,
          1.5196311154127815,
          1.5181088923098942,
          1.5165850391927043,
          1.515059556061212,
          1.5135324426965888,
          1.512003698661032,
          1.5104733232974688,
          1.5089413157291163,
          1.5074076748588907,
          1.5058723993686678,
          1.504335487718394,
          1.5027969381450452,
          1.50125674866143,
          1.4997149170548427,
          1.498171440885552,
          1.496626317485136,
          1.4950795439546514,
          1.4935311171626366,
          1.4919810337429487,
          1.490429290092426,
          1.4888758823683745,
          1.4873208064858752,
          1.4857640581149063,
          1.4842056326772746,
          1.4826455253433537,
          1.4810837310286211,
          1.4795202443899893,
          1.4779550598219233,
          1.4763881714523406,
          1.4748195731382832,
          1.473249258461355,
          1.471677220722918,
          1.4701034529390367,
          1.4685279478351605,
          1.4669506978405382,
          1.4653716950823505,
          1.4637909313795492,
          1.4622083982363947,
          1.4606240868356752,
          1.4590379880315971,
          1.4574500923423306,
          1.4558603899421965,
          1.4542688706534772,
          1.4526755239378366,
          1.4510803388873268,
          1.4494833042149677,
          1.4478844082448754,
          1.4462836389019165,
          1.4446809837008694,
          1.4430764297350636,
          1.4414699636644728,
          1.4398615717032324,
          1.4382512396065528,
          1.4366389526569954,
          1.435024695650077,
          1.4334084528791662,
          1.431790208119634,
          1.4301699446122158,
          1.4285476450455374,
          1.4269232915377654,
          1.4252968656173197,
          1.4236683482026025,
          1.4220377195806806,
          1.4204049593848576,
          1.41877004657107,
          1.4171329593930335,
          1.41549367537606,
          1.4138521712894618,
          1.4122084231174528,
          1.4105624060284447,
          1.4089140943426393,
          1.4072634614977932,
          1.4056104800130393,
          1.4039551214506263,
          1.402297356375431,
          1.4006371543120908,
          1.3989744836995777,
          1.3973093118430355,
          1.395641604862673,
          1.3939713276394952,
          1.3922984437576336,
          1.390622915443011,
          1.388944703498057,
          1.38726376723216,
          1.3855800643875118,
          1.3838935510599715,
          1.3822041816145314,
          1.3805119085949316,
          1.378816682626925,
          1.377118452314635,
          1.3754171641293995,
          1.3737127622904246,
          1.372005188636496,
          1.3702943824879221,
          1.3685802804977802,
          1.3668628164914345,
          1.3651419212931821,
          1.363417522538733,
          1.3616895444720902,
          1.3599579077252073,
          1.3582225290786065,
          1.3564833212009015,
          1.3547401923649078,
          1.3529930461377104,
          1.3512417810417041,
          1.349486290183209,
          1.3477264608447783,
          1.345962174036759,
          1.3441933040030036,
          1.3424197176748582,
          1.3406412740666458,
          1.338857823604772,
          1.3370692073813137,
          1.3352752563214043,
          1.3334757902519072,
          1.3316706168566523,
          1.3298595305008463,
          1.3280423109040136,
          1.3262187216368648,
          1.3243885084126104,
          1.3225513971372096,
          1.3207070916755619,
          1.318855271281252,
          1.3169955876256474,
          1.315127661347115,
          1.3132510780218993,
          1.3113653834333716,
          1.3094700779840018,
          1.3075646100518368,
          1.3056483680366529,
          1.3037206707648135,
          1.3017807558181755,
          1.2998277652093013,
          1.2978607276248333,
          1.295878536173685,
          1.2938799201635531,
          1.291863408818903,
          1.2898272839320133,
          1.2877695170126848,
          1.285687684233974,
          1.2835788487479793,
          1.281439393608868,
          1.2792647772924368,
          1.2770491628226759,
          1.274784829995241,
          1.27246119182727,
          1.2700630303860962,
          1.2675670265701167,
          1.2649339895451226,
          1.2620876312522995,
          1.2588313478088553,
          1.2531009200949803
         ],
         "y": [
          -0.07513006077744111,
          -0.0683048617891116,
          -0.06442648070246099,
          -0.06103633903928968,
          -0.05790027266928527,
          -0.05492741905864751,
          -0.05207110014853916,
          -0.04930354183262506,
          -0.04660661886374606,
          -0.04396772166573648,
          -0.04137765512550698,
          -0.0388294671402222,
          -0.036317748548830714,
          -0.03383819140500258,
          -0.03138729778985194,
          -0.02896218081569238,
          -0.0265604244588086,
          -0.024179982255972038,
          -0.02181910244689686,
          -0.01947627157948864,
          -0.017150171296322902,
          -0.01483964471919147,
          -0.012543669946190245,
          -0.010261338902774225,
          -0.007991840280285933,
          -0.005734445635154489,
          -0.0034884979606457645,
          -0.0012534022134703393,
          0.0009713825989522695,
          0.0031863500740873796,
          0.005391952048824533,
          0.007588603398344301,
          0.009776686146156427,
          0.011956553002580528,
          0.014128530426034513,
          0.01629292128360446,
          0.018450007173283517,
          0.02060005045909638,
          0.022743296061397272,
          0.024879973037456093,
          0.027010295981640398,
          0.02913446626977509,
          0.03125267316839517,
          0.033365094826426495,
          0.035471899164197546,
          0.03757324467250228,
          0.03966928113260934,
          0.04176015026658553,
          0.04384598632601583,
          0.04592691662611534,
          0.04800306203130841,
          0.050074537397565205,
          0.052141451976117525,
          0.05420390978260248,
          0.056262009935187984,
          0.05831584696481254,
          0.06036551110030022,
          0.06241108853079813,
          0.06445266164770264,
          0.06649030926800176,
          0.06852410684075069,
          0.07055412663821065,
          0.07258043793302212,
          0.07460310716263799,
          0.07662219808211931,
          0.07863777190628322,
          0.08064988744209496,
          0.08265860121210923,
          0.08466396756968775,
          0.08666603880665132,
          0.08866486525396325,
          0.09066049537598546,
          0.09265297585879984,
          0.09464235169304348,
          0.09662866625166558,
          0.09861196136297956,
          0.1005922773793517,
          0.10256965324183695,
          0.10454412654104896,
          0.10651573357452566,
          0.10848450940083142,
          0.11045048789061654,
          0.1124137017748388,
          0.11437418269033293,
          0.11633196122290253,
          0.11828706694809324,
          0.12023952846979467,
          0.12218937345680805,
          0.1241366286775051,
          0.12608132003269562,
          0.12802347258681232,
          0.1299631105975131,
          0.13190025754379459,
          0.13383493615270395,
          0.13576716842472963,
          0.13769697565794603,
          0.13962437847098297,
          0.14154939682488454,
          0.14347205004391872,
          0.14539235683539464,
          0.14731033530854076,
          0.14922600299249325,
          0.15113937685344173,
          0.1530504733109752,
          0.15495930825366944,
          0.15686589705395365,
          0.1587702545822924,
          0.16067239522071616,
          0.16257233287573214,
          0.16447008099064478,
          0.16636565255731373,
          0.16825906012737515,
          0.17015031582295162,
          0.17203943134687208,
          0.17392641799242525,
          0.17581128665266577,
          0.17769404782929213,
          0.17957471164111521,
          0.18145328783213371,
          0.18332978577923253,
          0.18520421449951918,
          0.18707658265731236,
          0.18894689857079625,
          0.19081517021835206,
          0.19268140524458,
          0.19454561096602163,
          0.19640779437659325,
          0.1982679621527405,
          0.200126120658323,
          0.20198227594923737,
          0.20383643377778735,
          0.20568859959680827,
          0.2075387785635526,
          0.2093869755433437,
          0.21123319511300404,
          0.21307744156406258,
          0.21491971890574824,
          0.21676003086777315,
          0.2185983809029105,
          0.22043477218937177,
          0.22226920763298658,
          0.22410168986918882,
          0.22593222126481244,
          0.22776080391969955,
          0.2295874396681239,
          0.2314121300800307,
          0.23323487646209656,
          0.23505567985861003,
          0.23687454105217393,
          0.23869146056423166,
          0.24050643865541751,
          0.2423194753257315,
          0.24413057031453927,
          0.24593972310039752,
          0.24774693290070335,
          0.24955219867116823,
          0.25135551910511567,
          0.2531568926326002,
          0.25495631741934827,
          0.2567537913655178,
          0.2585493121042747,
          0.2603428770001851,
          0.26213448314741944,
          0.26392412736776627,
          0.26571180620845225,
          0.26749751593976545,
          0.2692812525524768,
          0.2710630117550574,
          0.2728427889706848,
          0.2746205793340356,
          0.2763963776878573,
          0.27817017857931464,
          0.27994197625610384,
          0.2817117646623283,
          0.28347953743412835,
          0.28524528789505843,
          0.2870090090512022,
          0.2887706935860181,
          0.2905303338549059,
          0.29228792187948444,
          0.2940434493415695,
          0.2957969075768424,
          0.2975482875681956,
          0.2992975799387442,
          0.30104477494448956,
          0.30278986246662076,
          0.3045328320034393,
          0.30627367266189054,
          0.3080123731486858,
          0.309748921760996,
          0.3114833063766988,
          0.3132155144441579,
          0.31494553297151356,
          0.31667334851546153,
          0.31839894716949446,
          0.320122314551582,
          0.3218434357912594,
          0.32356229551609766,
          0.3252788778375209,
          0.3269931663359401,
          0.3287051440451657,
          0.3304147934360615,
          0.332122096399399,
          0.3338270342278692,
          0.33552958759720397,
          0.33722973654635924,
          0.33892746045670524,
          0.3406227380301675,
          0.3423155472662578,
          0.3440058654379287,
          0.3456936690661837,
          0.3473789338933649,
          0.3490616348550396,
          0.3507417460503979,
          0.3524192407110681,
          0.3540940911682492,
          0.3557662688180512,
          0.3574357440849288,
          0.3591024863830783,
          0.3607664640756648,
          0.3624276444317308,
          0.3640859935806258,
          0.36574147646378546,
          0.36739405678367193,
          0.3690436969496715,
          0.37069035802072925,
          0.3723339996444789,
          0.37397457999260697,
          0.37561205569216416,
          0.3772463817525137,
          0.3788775114875735,
          0.38050539643298165,
          0.38212998625777483,
          0.3837512286701323,
          0.38536906931669224,
          0.3869834516749,
          0.38859431693779034,
          0.3902016038905462,
          0.39180524877810646,
          0.39340518516301815,
          0.395001343772641,
          0.3965936523347135,
          0.39818203540018077,
          0.3997664141520545,
          0.40134670619893853,
          0.4029228253516858,
          0.40449468138147193,
          0.4060621797573587,
          0.40762522136117796,
          0.40918370217729294,
          0.4107375129544716,
          0.4122865388367438,
          0.4138306589596852,
          0.41536974600808063,
          0.4169036657303453,
          0.4184322764044123,
          0.419955428249013,
          0.4214729627733534,
          0.422984712057105,
          0.424490497951342,
          0.42599013118952933,
          0.42748341039584226,
          0.42897012097591314,
          0.43045003387247194,
          0.43192290416516455,
          0.4333884694899664,
          0.434846448248884,
          0.4362965375748316,
          0.43773841100939126,
          0.4391717158422431,
          0.4405960700498777,
          0.44201105875711433,
          0.4434162301270633,
          0.44481109056225965,
          0.44619509907012267,
          0.4475676606073629,
          0.4489281181672463,
          0.450275743306202,
          0.4516097247155725,
          0.4529291543208127,
          0.4542330102200187,
          0.4555201355349823,
          0.45678921190827876,
          0.45803872588781386,
          0.45926692571330185,
          0.4604717649215139,
          0.461650827488735,
          0.4628012265272786,
          0.4639194641182588,
          0.4650012323153457,
          0.466041121957488,
          0.46703218094185,
          0.4679652141553427,
          0.46882761202180034,
          0.4696012492940637,
          0.4702583518657976,
          0.470752241678165,
          0.47099205619736534,
          0.47074363129308644,
          0.46754838848712865,
          0.46754838848712865,
          0.46072318949879915,
          0.4568448084121485,
          0.4534546667489772,
          0.4503186003789729,
          0.44734574676833505,
          0.4444894278582267,
          0.44172186954231263,
          0.4390249465734336,
          0.4363860493754241,
          0.4337959828351946,
          0.4312477948499097,
          0.4287360762585183,
          0.4262565191146901,
          0.4238056254995395,
          0.42138050852537995,
          0.4189787521684962,
          0.4165983099656596,
          0.41423743015658443,
          0.41189459928917616,
          0.40956849900601044,
          0.40725797242887896,
          0.4049619976558778,
          0.4026796666124618,
          0.4004101679899735,
          0.398152773344842,
          0.3959068256703333,
          0.39367172992315785,
          0.3914469451107353,
          0.38923197763560025,
          0.387026375660863,
          0.3848297243113432,
          0.3826416415635311,
          0.380461774707107,
          0.3782897972836531,
          0.37612540642608316,
          0.37396832053640405,
          0.37181827725059113,
          0.3696750316482903,
          0.36753835467223145,
          0.3654080317280472,
          0.36328386143991254,
          0.36116565454129235,
          0.3590532328832611,
          0.35694642854548997,
          0.3548450830371852,
          0.3527490465770782,
          0.350658177443102,
          0.34857234138367177,
          0.3464914110835722,
          0.3444152656783791,
          0.34234379031212236,
          0.34027687573356996,
          0.3382144179270852,
          0.33615631777449956,
          0.33410248074487503,
          0.33205281660938735,
          0.33000723917888936,
          0.32796566606198485,
          0.32592801844168584,
          0.32389422086893693,
          0.32186420107147695,
          0.31983788977666544,
          0.3178152205470496,
          0.3157961296275682,
          0.31378055580340436,
          0.3117684402675926,
          0.3097597264975783,
          0.3077543601399998,
          0.30575228890303624,
          0.30375346245572427,
          0.30175783233370207,
          0.2997653518508877,
          0.2977759760166441,
          0.295789661458022,
          0.293806366346708,
          0.2918260503303358,
          0.28984867446785056,
          0.2878742011686386,
          0.2859025941351619,
          0.28393381830885617,
          0.28196783981907103,
          0.28000462593484876,
          0.2780441450193546,
          0.2760863664867851,
          0.27413126076159433,
          0.2721787992398929,
          0.2702289542528795,
          0.26828169903218246,
          0.266337007676992,
          0.2643948551228752,
          0.26245521711217445,
          0.260518070165893,
          0.2585833915569836,
          0.2566511592849579,
          0.2547213520517415,
          0.2527939492387046,
          0.250868930884803,
          0.24894627766576885,
          0.2470259708742929,
          0.24510799240114678,
          0.24319232471719432,
          0.24127895085624584,
          0.23936785439871233,
          0.23745901945601813,
          0.2355524306557339,
          0.23364807312739513,
          0.23174593248897135,
          0.2298459948339554,
          0.22794824671904276,
          0.22605267515237382,
          0.2241592675823124,
          0.22226801188673592,
          0.22037889636281546,
          0.2184919097172623,
          0.21660704105702178,
          0.2147242798803954,
          0.21284361606857236,
          0.21096503987755383,
          0.209088541930455,
          0.20721411321016842,
          0.20534174505237518,
          0.2034714291388913,
          0.20160315749133553,
          0.19973692246510755,
          0.1978727167436659,
          0.19601053333309434,
          0.19415036555694704,
          0.19229220705136454,
          0.1904360517604502,
          0.1885818939319002,
          0.18672972811287927,
          0.184879549146135,
          0.18303135216634384,
          0.1811851325966835,
          0.17934088614562496,
          0.1774986088039393,
          0.1756582968419144,
          0.17381994680677704,
          0.17198355552031577,
          0.17014912007670097,
          0.16831663784049872,
          0.16648610644487516,
          0.164657523789988,
          0.16283088804156365,
          0.1610061976296569,
          0.15918345124759098,
          0.1573626478510775,
          0.15554378665751364,
          0.1537268671454559,
          0.15191188905427003,
          0.1500988523839561,
          0.14828775739514827,
          0.14647860460929002,
          0.14467139480898422,
          0.1428661290385193,
          0.1410628086045719,
          0.13926143507708738,
          0.13746201029033928,
          0.13566453634416975,
          0.13386901560541284,
          0.13207545070950244,
          0.1302838445622681,
          0.12849420034192127,
          0.1267065215012353,
          0.1249208117699221,
          0.1231370751572107,
          0.12135531595463016,
          0.11957553873900276,
          0.11779774837565195,
          0.11602195002183027,
          0.11424814913037291,
          0.11247635145358367,
          0.11070656304735928,
          0.10893879027555918,
          0.10717303981462908,
          0.10540931865848537,
          0.10364763412366947,
          0.10188799385478163,
          0.10013040583020315,
          0.09837487836811805,
          0.09662142013284514,
          0.09487004014149199,
          0.09312074777094337,
          0.091373552765198,
          0.08962846524306678,
          0.08788549570624829,
          0.08614465504779703,
          0.08440595456100175,
          0.08266940594869156,
          0.08093502133298873,
          0.07920281326552965,
          0.07747279473817395,
          0.07574497919422603,
          0.07401938054019308,
          0.07229601315810556,
          0.07057489191842811,
          0.0688560321935899,
          0.06713944987216666,
          0.06542516137374746,
          0.06371318366452186,
          0.062003534273626065,
          0.06029623131028855,
          0.05859129348181835,
          0.056888740112483654,
          0.05518859116332833,
          0.0534908672529823,
          0.05179558967952003,
          0.05010278044342978,
          0.04841246227175883,
          0.046724658643503836,
          0.04503939381632266,
          0.043356692854647966,
          0.04167658165928967,
          0.039999086998619426,
          0.038324236541438406,
          0.03665205889163631,
          0.03498258362475873,
          0.03331584132660925,
          0.031651863634022726,
          0.02999068327795673,
          0.028332334129061748,
          0.026676851245902078,
          0.025024270926015613,
          0.023374630760016057,
          0.02172796968895835,
          0.020084328065208684,
          0.018443747717080655,
          0.016806272017523383,
          0.015171945957173832,
          0.01354081622211406,
          0.011912931276705924,
          0.010288341451912736,
          0.008667099039555315,
          0.007049258392995333,
          0.005434876034787539,
          0.003824010771897174,
          0.002216723819141342,
          0.0006130789315811069,
          -0.0009868574533306307,
          -0.002583016062953414,
          -0.0041753246250259834,
          -0.005763707690493253,
          -0.007348086442366952,
          -0.008928378489250988,
          -0.010504497641998206,
          -0.012076353671784362,
          -0.013643852047671129,
          -0.015206893651490444,
          -0.016765374467605426,
          -0.018319185244784042,
          -0.01986821112705625,
          -0.02141233124999764,
          -0.022951418298393145,
          -0.024485338020657804,
          -0.02601394869472476,
          -0.027537100539325426,
          -0.029054635063665846,
          -0.030566384347417402,
          -0.03207217024165443,
          -0.033571803479841816,
          -0.035065082686154686,
          -0.03655179326622557,
          -0.038031706162784396,
          -0.039504576455477,
          -0.04097014178027883,
          -0.04242812053919648,
          -0.04387820986514407,
          -0.04532008329970369,
          -0.04675338813255561,
          -0.048177742340190094,
          -0.04959273104742676,
          -0.05099790241737584,
          -0.05239276285257208,
          -0.0537767713604351,
          -0.055149332897675374,
          -0.05650979045755872,
          -0.05785741559651447,
          -0.05919139700588494,
          -0.06051082661112517,
          -0.061814682510331176,
          -0.06310180782529473,
          -0.06437088419859122,
          -0.06562039817812632,
          -0.06684859800361426,
          -0.06805343721182638,
          -0.06923249977904744,
          -0.07038289881759108,
          -0.07150113640857125,
          -0.07258290460565814,
          -0.07362279424780038,
          -0.07461385323216252,
          -0.07554688644565516,
          -0.0764092843121128,
          -0.07718292158437617,
          -0.07784002415611008,
          -0.07833391396847744,
          -0.07857372848767785,
          -0.0783253035833989,
          -0.07513006077744111
         ]
        },
        {
         "line": {
          "color": "#7CCFF2",
          "dash": "solid",
          "width": 1
         },
         "marker": {
          "color": [
           "#7CCFF2",
           "#FFF"
          ],
          "line": {
           "color": "#7CCFF2",
           "width": 2
          },
          "size": 8
         },
         "mode": "markers+lines",
         "name": "IMAGE 3.2",
         "showlegend": false,
         "type": "scatter",
         "x": [
          0.24911576887452047,
          1.5367271820502952
         ],
         "y": [
          0.21474773609314357,
          0.30428863172226006
         ]
        },
        {
         "line": {
          "color": "#F198C1",
          "dash": "solid",
          "width": 1
         },
         "marker": {
          "color": [
           "#F198C1",
           "#FFF"
          ],
          "line": {
           "color": "#F198C1",
           "width": 2
          },
          "size": 8
         },
         "mode": "markers+lines",
         "name": "MESSAGEix-GLOBIOM_1.2",
         "showlegend": false,
         "type": "scatter",
         "x": [
          null,
          null
         ],
         "y": [
          null,
          null
         ]
        },
        {
         "line": {
          "color": "#78CBBF",
          "dash": "solid",
          "width": 1
         },
         "marker": {
          "color": [
           "#78CBBF",
           "#FFF"
          ],
          "line": {
           "color": "#78CBBF",
           "width": 2
          },
          "size": 8
         },
         "mode": "markers+lines",
         "name": "PROMETHEUS 1.2",
         "showlegend": false,
         "type": "scatter",
         "x": [
          0.3562760383039142,
          null
         ],
         "y": [
          0.05511398736049078,
          null
         ]
        },
        {
         "line": {
          "color": "#3F1464",
          "dash": "solid",
          "width": 1
         },
         "marker": {
          "color": [
           "#3F1464",
           "#FFF"
          ],
          "line": {
           "color": "#3F1464",
           "width": 2
          },
          "size": 8
         },
         "mode": "markers+lines",
         "name": "REMIND 2.1",
         "showlegend": false,
         "type": "scatter",
         "x": [
          0.9175938738408546,
          1.55775315857557
         ],
         "y": [
          0.3315002303071175,
          0.24274795057463905
         ]
        },
        {
         "line": {
          "color": "#00AEEF",
          "dash": "solid",
          "width": 1
         },
         "marker": {
          "color": [
           "#00AEEF",
           "#FFF"
          ],
          "line": {
           "color": "#00AEEF",
           "width": 2
          },
          "size": 8
         },
         "mode": "markers+lines",
         "name": "TIAM-ECN 1.2",
         "showlegend": false,
         "type": "scatter",
         "x": [
          null,
          null
         ],
         "y": [
          null,
          null
         ]
        },
        {
         "line": {
          "color": "#0071BB",
          "dash": "solid",
          "width": 1
         },
         "marker": {
          "color": [
           "#0071BB",
           "#FFF"
          ],
          "line": {
           "color": "#0071BB",
           "width": 2
          },
          "size": 8
         },
         "mode": "markers+lines",
         "name": "WITCH 5.0",
         "showlegend": false,
         "type": "scatter",
         "x": [
          0.42918395160625966,
          1.3482705427187294
         ],
         "y": [
          0.20737862821875863,
          0.0415909092676322
         ]
        },
        {
         "line": {
          "color": "#511607",
          "dash": "solid",
          "width": 1
         },
         "marker": {
          "color": [
           "#511607",
           "#FFF"
          ],
          "line": {
           "color": "#511607",
           "width": 2
          },
          "size": 8
         },
         "mode": "markers+lines",
         "name": "Euro-Calliope 2.0",
         "showlegend": false,
         "type": "scatter",
         "x": [
          null,
          null
         ],
         "y": [
          null,
          null
         ]
        },
        {
         "line": {
          "color": "#bc7fcd",
          "dash": "solid",
          "width": 1
         },
         "marker": {
          "color": [
           "#bc7fcd",
           "#FFF"
          ],
          "line": {
           "color": "#bc7fcd",
           "width": 2
          },
          "size": 8
         },
         "mode": "markers+lines",
         "name": "MEESA v1.1",
         "showlegend": false,
         "type": "scatter",
         "x": [
          null,
          null
         ],
         "y": [
          null,
          null
         ]
        },
        {
         "line": {
          "color": "#B6036C",
          "dash": "solid",
          "width": 1
         },
         "marker": {
          "color": [
           "#B6036C",
           "#FFF"
          ],
          "line": {
           "color": "#B6036C",
           "width": 2
          },
          "size": 8
         },
         "mode": "markers+lines",
         "name": "OSeMBE v1.0.0",
         "showlegend": false,
         "type": "scatter",
         "x": [
          null,
          null
         ],
         "y": [
          null,
          null
         ]
        },
        {
         "legendgroup": "Age",
         "marker": {
          "color": "black",
          "size": 8,
          "symbol": "star"
         },
         "mode": "markers",
         "name": "Newest",
         "type": "scatter",
         "x": [
          null
         ],
         "y": [
          null
         ]
        },
        {
         "legendgroup": "Age",
         "marker": {
          "color": "black",
          "size": 4,
          "symbol": "circle"
         },
         "mode": "markers",
         "name": "Older version",
         "type": "scatter",
         "x": [
          null
         ],
         "y": [
          null
         ]
        },
        {
         "fill": "toself",
         "fillcolor": "rgba(0,0,0,.1)",
         "line": {
          "width": 0
         },
         "mode": "lines",
         "name": "16-84th perc.",
         "type": "scatter",
         "x": [
          0.602889765917716,
          0.602889765917716,
          0.8029471081100817,
          0.8029471081100817
         ],
         "xaxis": "x2",
         "y": [
          -1,
          9,
          9,
          -1
         ],
         "yaxis": "y2"
        },
        {
         "line": {
          "color": "#888",
          "width": 2
         },
         "mode": "lines",
         "name": "Median",
         "type": "scatter",
         "x": [
          0.7044143133199173,
          0.7044143133199173
         ],
         "xaxis": "x2",
         "y": [
          -1,
          9
         ],
         "yaxis": "y2"
        },
        {
         "marker": {
          "color": "#511607",
          "line": {
           "color": "#FFF",
           "width": 1
          },
          "opacity": 1,
          "size": [
           12
          ],
          "symbol": [
           "star"
          ]
         },
         "mode": "markers",
         "showlegend": false,
         "type": "scatter",
         "x": [
          null
         ],
         "xaxis": "x2",
         "y": [
          0
         ],
         "yaxis": "y2"
        },
        {
         "line": {
          "color": "#511607",
          "width": 3
         },
         "mode": "lines",
         "showlegend": false,
         "type": "scatter",
         "x": [
          0.2271420876393889,
          0.27648975135055187
         ],
         "xaxis": "x2",
         "y": [
          0,
          0
         ],
         "yaxis": "y2"
        },
        {
         "marker": {
          "color": "#bc7fcd",
          "line": {
           "color": "#FFF",
           "width": 1
          },
          "opacity": 1,
          "size": [
           12
          ],
          "symbol": [
           "star"
          ]
         },
         "mode": "markers",
         "showlegend": false,
         "type": "scatter",
         "x": [
          null
         ],
         "xaxis": "x2",
         "y": [
          1
         ],
         "yaxis": "y2"
        },
        {
         "line": {
          "color": "#bc7fcd",
          "width": 3
         },
         "mode": "lines",
         "showlegend": false,
         "type": "scatter",
         "x": [
          0.2271420876393889,
          0.27648975135055187
         ],
         "xaxis": "x2",
         "y": [
          1,
          1
         ],
         "yaxis": "y2"
        },
        {
         "marker": {
          "color": "#B6036C",
          "line": {
           "color": "#FFF",
           "width": 1
          },
          "opacity": 1,
          "size": [
           12
          ],
          "symbol": [
           "star"
          ]
         },
         "mode": "markers",
         "showlegend": false,
         "type": "scatter",
         "x": [
          null
         ],
         "xaxis": "x2",
         "y": [
          2
         ],
         "yaxis": "y2"
        },
        {
         "line": {
          "color": "#B6036C",
          "width": 3
         },
         "mode": "lines",
         "showlegend": false,
         "type": "scatter",
         "x": [
          0.2271420876393889,
          0.27648975135055187
         ],
         "xaxis": "x2",
         "y": [
          2,
          2
         ],
         "yaxis": "y2"
        },
        {
         "marker": {
          "color": "#F198C1",
          "line": {
           "color": "#FFF",
           "width": 1
          },
          "opacity": 1,
          "size": [
           12
          ],
          "symbol": [
           "star"
          ]
         },
         "mode": "markers",
         "showlegend": false,
         "type": "scatter",
         "x": [
          null
         ],
         "xaxis": "x2",
         "y": [
          3
         ],
         "yaxis": "y2"
        },
        {
         "line": {
          "color": "#F198C1",
          "width": 3
         },
         "mode": "lines",
         "showlegend": false,
         "type": "scatter",
         "x": [
          0.2271420876393889,
          0.27648975135055187
         ],
         "xaxis": "x2",
         "y": [
          3,
          3
         ],
         "yaxis": "y2"
        },
        {
         "marker": {
          "color": "#3F1464",
          "line": {
           "color": "#FFF",
           "width": 1
          },
          "opacity": 1,
          "size": [
           12
          ],
          "symbol": [
           "star"
          ]
         },
         "mode": "markers",
         "showlegend": false,
         "type": "scatter",
         "x": [
          0.7346074813688763
         ],
         "xaxis": "x2",
         "y": [
          4
         ],
         "yaxis": "y2"
        },
        {
         "line": {
          "color": "#3F1464",
          "width": 3
         },
         "mode": "lines",
         "showlegend": false,
         "type": "scatter",
         "x": [
          0.2271420876393889,
          0.27648975135055187
         ],
         "xaxis": "x2",
         "y": [
          4,
          4
         ],
         "yaxis": "y2"
        },
        {
         "marker": {
          "color": "#0071BB",
          "line": {
           "color": "#FFF",
           "width": 1
          },
          "opacity": 1,
          "size": [
           12
          ],
          "symbol": [
           "star"
          ]
         },
         "mode": "markers",
         "showlegend": false,
         "type": "scatter",
         "x": [
          0.6742211452709583
         ],
         "xaxis": "x2",
         "y": [
          5
         ],
         "yaxis": "y2"
        },
        {
         "line": {
          "color": "#0071BB",
          "width": 3
         },
         "mode": "lines",
         "showlegend": false,
         "type": "scatter",
         "x": [
          0.2271420876393889,
          0.27648975135055187
         ],
         "xaxis": "x2",
         "y": [
          5,
          5
         ],
         "yaxis": "y2"
        },
        {
         "marker": {
          "color": "#00AEEF",
          "line": {
           "color": "#FFF",
           "width": 1
          },
          "opacity": 1,
          "size": [
           12
          ],
          "symbol": [
           "star"
          ]
         },
         "mode": "markers",
         "showlegend": false,
         "type": "scatter",
         "x": [
          null
         ],
         "xaxis": "x2",
         "y": [
          6
         ],
         "yaxis": "y2"
        },
        {
         "line": {
          "color": "#00AEEF",
          "width": 3
         },
         "mode": "lines",
         "showlegend": false,
         "type": "scatter",
         "x": [
          0.2271420876393889,
          0.27648975135055187
         ],
         "xaxis": "x2",
         "y": [
          6,
          6
         ],
         "yaxis": "y2"
        },
        {
         "marker": {
          "color": "#7CCFF2",
          "line": {
           "color": "#FFF",
           "width": 1
          },
          "opacity": 1,
          "size": [
           12
          ],
          "symbol": [
           "star"
          ]
         },
         "mode": "markers",
         "showlegend": false,
         "type": "scatter",
         "x": [
          0.5370454157454925
         ],
         "xaxis": "x2",
         "y": [
          7
         ],
         "yaxis": "y2"
        },
        {
         "line": {
          "color": "#7CCFF2",
          "width": 3
         },
         "mode": "lines",
         "showlegend": false,
         "type": "scatter",
         "x": [
          0.2271420876393889,
          0.27648975135055187
         ],
         "xaxis": "x2",
         "y": [
          7,
          7
         ],
         "yaxis": "y2"
        },
        {
         "marker": {
          "color": "#78CBBF",
          "line": {
           "color": "#FFF",
           "width": 1
          },
          "opacity": 1,
          "size": [
           12
          ],
          "symbol": [
           "star"
          ]
         },
         "mode": "markers",
         "showlegend": false,
         "type": "scatter",
         "x": [
          0.866029840486579
         ],
         "xaxis": "x2",
         "y": [
          8
         ],
         "yaxis": "y2"
        },
        {
         "line": {
          "color": "#78CBBF",
          "width": 3
         },
         "mode": "lines",
         "showlegend": false,
         "type": "scatter",
         "x": [
          0.2271420876393889,
          0.27648975135055187
         ],
         "xaxis": "x2",
         "y": [
          8,
          8
         ],
         "yaxis": "y2"
        },
        {
         "line": {
          "color": "#999"
         },
         "mode": "lines",
         "showlegend": false,
         "type": "scatter",
         "x": [
          0.8824790617236333,
          0.8923485944658659,
          0.8923485944658659,
          0.8824790617236333
         ],
         "xaxis": "x2",
         "y": [
          -0.3,
          -0.3,
          2.3,
          2.3
         ],
         "yaxis": "y2"
        },
        {
         "line": {
          "color": "#999"
         },
         "mode": "lines",
         "showlegend": false,
         "type": "scatter",
         "x": [
          0.8824790617236333,
          0.8923485944658659,
          0.8923485944658659,
          0.8824790617236333
         ],
         "xaxis": "x2",
         "y": [
          2.7,
          2.7,
          5.3,
          5.3
         ],
         "yaxis": "y2"
        },
        {
         "line": {
          "color": "#999"
         },
         "mode": "lines",
         "showlegend": false,
         "type": "scatter",
         "x": [
          0.8824790617236333,
          0.8923485944658659,
          0.8923485944658659,
          0.8824790617236333
         ],
         "xaxis": "x2",
         "y": [
          5.7,
          5.7,
          6.3,
          6.3
         ],
         "yaxis": "y2"
        },
        {
         "line": {
          "color": "#999"
         },
         "mode": "lines",
         "showlegend": false,
         "type": "scatter",
         "x": [
          0.8824790617236333,
          0.8923485944658659,
          0.8923485944658659,
          0.8824790617236333
         ],
         "xaxis": "x2",
         "y": [
          6.7,
          6.7,
          8.3,
          8.3
         ],
         "yaxis": "y2"
        },
        {
         "line": {
          "color": "#DDD",
          "dash": "dot"
         },
         "mode": "lines",
         "showlegend": false,
         "type": "scatter",
         "x": [
          0,
          0.449
         ],
         "y": [
          0,
          0.449
         ]
        }
       ],
       "layout": {
        "annotations": [
         {
          "font": {
           "size": 16
          },
          "showarrow": false,
          "text": "<b>a.</b> Energy Intensity vs Carbon Intensity<br> ",
          "x": 0.196,
          "xanchor": "center",
          "xref": "paper",
          "y": 1,
          "yanchor": "bottom",
          "yref": "paper"
         },
         {
          "font": {
           "size": 16
          },
          "showarrow": false,
          "text": "<b>b.</b> ERT per model (2050)<br> ",
          "x": 0.706,
          "xanchor": "center",
          "xref": "paper",
          "y": 1,
          "yanchor": "bottom",
          "yref": "paper"
         },
         {
          "font": {
           "color": "#999"
          },
          "showarrow": false,
          "text": "2050",
          "x": 1.0795653830027445,
          "y": -0.02449153245257138
         },
         {
          "font": {
           "color": "#999"
          },
          "showarrow": false,
          "text": "2100",
          "x": 1.7116243008233087,
          "y": -0.07857372848767785
         },
         {
          "bgcolor": "#FFF",
          "showarrow": false,
          "text": "Euro-Calliope 2.0",
          "x": 0.27648975135055187,
          "xanchor": "left",
          "xref": "x2",
          "y": 0,
          "yref": "y2"
         },
         {
          "bgcolor": "#FFF",
          "showarrow": false,
          "text": "MEESA v1.1",
          "x": 0.27648975135055187,
          "xanchor": "left",
          "xref": "x2",
          "y": 1,
          "yref": "y2"
         },
         {
          "bgcolor": "#FFF",
          "showarrow": false,
          "text": "OSeMBE v1.0.0",
          "x": 0.27648975135055187,
          "xanchor": "left",
          "xref": "x2",
          "y": 2,
          "yref": "y2"
         },
         {
          "bgcolor": "#FFF",
          "showarrow": false,
          "text": "MESSAGEix-GLOBIOM_1.2",
          "x": 0.27648975135055187,
          "xanchor": "left",
          "xref": "x2",
          "y": 3,
          "yref": "y2"
         },
         {
          "bgcolor": "#FFF",
          "showarrow": false,
          "text": "REMIND 2.1",
          "x": 0.27648975135055187,
          "xanchor": "left",
          "xref": "x2",
          "y": 4,
          "yref": "y2"
         },
         {
          "bgcolor": "#FFF",
          "showarrow": false,
          "text": "WITCH 5.0",
          "x": 0.27648975135055187,
          "xanchor": "left",
          "xref": "x2",
          "y": 5,
          "yref": "y2"
         },
         {
          "bgcolor": "#FFF",
          "showarrow": false,
          "text": "TIAM-ECN 1.2",
          "x": 0.27648975135055187,
          "xanchor": "left",
          "xref": "x2",
          "y": 6,
          "yref": "y2"
         },
         {
          "bgcolor": "#FFF",
          "showarrow": false,
          "text": "IMAGE 3.2",
          "x": 0.27648975135055187,
          "xanchor": "left",
          "xref": "x2",
          "y": 7,
          "yref": "y2"
         },
         {
          "bgcolor": "#FFF",
          "showarrow": false,
          "text": "PROMETHEUS 1.2",
          "x": 0.27648975135055187,
          "xanchor": "left",
          "xref": "x2",
          "y": 8,
          "yref": "y2"
         },
         {
          "bgcolor": "#FFF",
          "showarrow": false,
          "text": "?",
          "textangle": 90,
          "x": 0.8948159776514241,
          "xanchor": "left",
          "xref": "x2",
          "y": 1,
          "yanchor": "middle",
          "yref": "y2"
         },
         {
          "bgcolor": "#FFF",
          "showarrow": false,
          "text": "GE-IT",
          "textangle": 90,
          "x": 0.8948159776514241,
          "xanchor": "left",
          "xref": "x2",
          "y": 4,
          "yanchor": "middle",
          "yref": "y2"
         },
         {
          "bgcolor": "#FFF",
          "showarrow": false,
          "text": "PE-IT",
          "textangle": 90,
          "x": 0.8948159776514241,
          "xanchor": "left",
          "xref": "x2",
          "y": 6,
          "yanchor": "middle",
          "yref": "y2"
         },
         {
          "bgcolor": "#FFF",
          "showarrow": false,
          "text": "PE-RD",
          "textangle": 90,
          "x": 0.8948159776514241,
          "xanchor": "left",
          "xref": "x2",
          "y": 7.5,
          "yanchor": "middle",
          "yref": "y2"
         },
         {
          "align": "right",
          "arrowside": "start",
          "ax": -65,
          "ay": 0,
          "showarrow": true,
          "text": "More via demand red.",
          "width": 130,
          "x": 0.7044143133199173,
          "xanchor": "center",
          "xref": "x2",
          "xshift": -5,
          "y": -0.08,
          "yanchor": "top",
          "yref": "paper"
         },
         {
          "align": "left",
          "arrowside": "start",
          "ax": 65,
          "ay": 0,
          "showarrow": true,
          "text": "More via decarbon.",
          "width": 130,
          "x": 0.7044143133199173,
          "xanchor": "center",
          "xref": "x2",
          "xshift": 5,
          "y": -0.08,
          "yanchor": "top",
          "yref": "paper"
         },
         {
          "font": {
           "color": "#888"
          },
          "showarrow": false,
          "text": "Demand red. dominant",
          "textangle": -75,
          "x": 0.35,
          "xshift": -12,
          "y": 0.35
         },
         {
          "font": {
           "color": "#888"
          },
          "showarrow": false,
          "text": "Decarb. dominant",
          "textangle": -75,
          "x": 0.35,
          "xshift": 10,
          "y": 0.35
         }
        ],
        "height": 400,
        "hovermode": "closest",
        "legend": {
         "tracegroupgap": 0,
         "y": 0.5
        },
        "margin": {
         "b": 70,
         "l": 60,
         "r": 30,
         "t": 50
        },
        "template": {
         "data": {
          "scatter": [
           {
            "type": "scatter"
           }
          ]
         }
        },
        "width": 860,
        "xaxis": {
         "anchor": "y",
         "domain": [
          0,
          0.392
         ],
         "gridcolor": "rgba(.2,.2,.2,.1)",
         "title": {
          "standoff": 40,
          "text": "Carbon intensity (red. from baseline)"
         }
        },
        "xaxis2": {
         "anchor": "y2",
         "domain": [
          0.41200000000000003,
          1
         ],
         "tickvals": [
          0.5,
          0.6,
          0.7,
          0.7999999999999999,
          0.8999999999999999
         ],
         "title": {
          "standoff": 40,
          "text": "CI over (EI+CI) (red. from baseline)"
         }
        },
        "yaxis": {
         "anchor": "x",
         "domain": [
          0,
          1
         ],
         "gridcolor": "rgba(.2,.2,.2,.1)",
         "range": [
          -0.0113,
          0.449
         ],
         "title": {
          "text": "Energy intensity (red. from baseline)"
         }
        },
        "yaxis2": {
         "anchor": "x2",
         "domain": [
          0,
          1
         ],
         "gridcolor": "rgba(.2,.2,.2,.1)",
         "range": [
          9,
          -1
         ],
         "showticklabels": false,
         "tickvals": [
          0,
          1,
          2,
          3,
          4,
          5,
          6,
          7,
          8
         ],
         "zeroline": false
        }
       }
      }
     },
     "metadata": {},
     "output_type": "display_data"
    },
    {
     "data": {
      "application/vnd.plotly.v1+json": {
       "config": {
        "plotlyServerURL": "https://plot.ly"
       },
       "data": [
        {
         "fill": "toself",
         "fillcolor": "rgba(0,0,0,.08)",
         "line": {
          "width": 0
         },
         "showlegend": false,
         "type": "scatter",
         "x": [
          -0.05926668966754689,
          -0.08151714186835157,
          -0.08852752227742355,
          -0.09301287259856983,
          -0.09618422054917108,
          -0.09851148031615709,
          -0.10023605703262761,
          -0.101501590172966,
          -0.10240181816186122,
          -0.10300195400277634,
          -0.10334955210466723,
          -0.10348056668997008,
          -0.10342297234194886,
          -0.10319904848659278,
          -0.10282688532720619,
          -0.10232141299420938,
          -0.10169512644864098,
          -0.10095860939386014,
          -0.10012092141665052,
          -0.09918988964421938,
          -0.09817233223176569,
          -0.09707423221167732,
          -0.09590087455876461,
          -0.09465695556635878,
          -0.09334667108320172,
          -0.09197378840428228,
          -0.09054170537437134,
          -0.0890534993816049,
          -0.08751196827981711,
          -0.08591966480930546,
          -0.08427892573700546,
          -0.08259189667480926,
          -0.08086055333547193,
          -0.07908671983258708,
          -0.07727208451266754,
          -0.07541821371482405,
          -0.07352656378070299,
          -0.07159849157954601,
          -0.06963526376708307,
          -0.06763806495985825,
          -0.0656080049765565,
          -0.0635461252734637,
          -0.0614534046811962,
          -0.059330764533378266,
          -0.05717907326435101,
          -0.05499915054168769,
          -0.05279177098986898,
          -0.05055766755356428,
          -0.04829753454231733,
          -0.046012030392816206,
          -0.043701780180163796,
          -0.041367377905512814,
          -0.03900938858396552,
          -0.036628350153673384,
          -0.03422477522452516,
          -0.031799152682612686,
          -0.029351949164764024,
          -0.02688361041579035,
          -0.02439456253965744,
          -0.021885213154547722,
          -0.01935595246068922,
          -0.016807154228870358,
          -0.014239176716726365,
          -0.011652363519140285,
          -0.009047044358456935,
          -0.006423535819629178,
          -0.003782142034911895,
          -0.0011231553222628143,
          0.0015531432187855243,
          0.004246483150380953,
          0.0069566041756477515,
          0.009683255651220746,
          0.012426196130473688,
          0.015185192935120662,
          0.017960021753079702,
          0.020750466260667788,
          0.023556317767365886,
          0.026377374881539628,
          0.029213443195638122,
          0.03206433498951633,
          0.03492986895063488,
          0.03780986990999413,
          0.04070416859274856,
          0.04361260138253353,
          0.046535010098606444,
          0.0494712417849813,
          0.052421148510789495,
          0.05538458718116357,
          0.05836141935799177,
          0.061351511089935695,
          0.06435473275115289,
          0.06737095888820155,
          0.07040006807464605,
          0.07344194277291116,
          0.07649646920296899,
          0.07956353721746956,
          0.08264304018294949,
          0.08573487486678466,
          0.08883894132956882,
          0.09195514282262457,
          0.09508338569037134,
          0.0982235792772943,
          0.10137563583927212,
          0.1045394704590401,
          0.10771500096557751,
          0.11090214785722097,
          0.11410083422832007,
          0.11731098569926096,
          0.12053253034969613,
          0.12376539865482566,
          0.1270095234245891,
          0.13026483974563086,
          0.1335312849259142,
          0.13680879844186405,
          0.14009732188792684,
          0.14339679892844165,
          0.14670717525172566,
          0.15002839852627775,
          0.15336041835901465,
          0.15670318625545754,
          0.16005665558178955,
          0.1634207815287133,
          0.1667955210770376,
          0.17018083296493103,
          0.1735766776567792,
          0.17698301731359078,
          0.18039981576489605,
          0.18382703848209003,
          0.18726465255317087,
          0.1907126266588297,
          0.19417093104985056,
          0.19763953752577995,
          0.20111841941483127,
          0.20460755155498883,
          0.20810691027627937,
          0.2116164733841822,
          0.21513622014414935,
          0.21866613126721196,
          0.22220618889664645,
          0.22575637659568187,
          0.2293166793362259,
          0.23288708348859277,
          0.23646757681221636,
          0.2400581484473331,
          0.24365878890762183,
          0.24726949007378904,
          0.250890245188089,
          0.25452104884977056,
          0.25816189701144254,
          0.2618127869763537,
          0.26547371739658066,
          0.26914468827212346,
          0.2728257009509054,
          0.2765167581296779,
          0.2802178638558319,
          0.2839290235301187,
          0.28765024391028393,
          0.2913815331156212,
          0.2951229006324515,
          0.2988743573205386,
          0.3026359154204485,
          0.30640758856186706,
          0.3101893917728865,
          0.3139813414902779,
          0.3177834555707647,
          0.3215957533033159,
          0.3254182554224794,
          0.32925098412277576,
          0.3330939630741784,
          0.336947217438703,
          0.3408107738881361,
          0.3446846606229311,
          0.3485689073923043,
          0.3524635455155643,
          0.35636860790471303,
          0.3602841290883555,
          0.36421014523696116,
          0.36814669418952173,
          0.3720938154816514,
          0.37605155037518156,
          0.38001994188930355,
          0.38399903483331466,
          0.38798887584103176,
          0.39198951340693367,
          0.3960009979241036,
          0.4000233817240427,
          0.4040567191184339,
          0.40810106644293803,
          0.4121564821031086,
          0.4162230266225208,
          0.42030076269321137,
          0.4243897552285358,
          0.4284900714185546,
          0.43260178078806766,
          0.4367249552574226,
          0.44085966920623315,
          0.4450059995401497,
          0.44916402576083553,
          0.4533338300393117,
          0.4575154972928428,
          0.4617091152655499,
          0.4659147746129482,
          0.470132568990618,
          0.4743625951472368,
          0.47860495302221084,
          0.4828597458481644,
          0.4871270802585603,
          0.4914070664007492,
          0.4956998180547587,
          0.500005452758164,
          0.5043240919374008,
          0.5086558610459109,
          0.5130008897095367,
          0.5173593118796165,
          0.5217312659942623,
          0.5261168951483414,
          0.5305163472727223,
          0.5349297753233915,
          0.5393573374810909,
          0.5437991973621857,
          0.5482555242415211,
          0.5527264932880969,
          0.5572122858144524,
          0.5617130895407327,
          0.5662290988744885,
          0.5707605152073543,
          0.5753075472298492,
          0.5798704112656562,
          0.5844493316268573,
          0.5890445409917382,
          0.5936562808069253,
          0.598284801715784,
          0.6029303640151895,
          0.6075932381429946,
          0.612273705198731,
          0.6169720575003574,
          0.621688599180128,
          0.626423646822996,
          0.6311775301513058,
          0.6359505927599409,
          0.6407431929065365,
          0.6455557043618806,
          0.6503885173262018,
          0.655242039417682,
          0.6601166967402875,
          0.6650129350388287,
          0.6699312209501348,
          0.6748720433602964,
          0.6798359148792029,
          0.6848233734450061,
          0.6898349840728075,
          0.6948713407637604,
          0.6999330685929674,
          0.7050208259971169,
          0.710135307285752,
          0.7152772454035428,
          0.7204474149749693,
          0.7256466356676053,
          0.7308757759157919,
          0.736135757053153,
          0.7414275579103053,
          0.7467522199435344,
          0.7521108529715255,
          0.7575046416108224,
          0.7629348525171555,
          0.7684028425597659,
          0.7739100680802999,
          0.7794580954178695,
          0.7850486129189859,
          0.7906834446972438,
          0.7963645664653975,
          0.8020941238353402,
          0.8078744535740062,
          0.813708108421694,
          0.8195978862322368,
          0.8255468643937712,
          0.8315584407510683,
          0.8376363825991162,
          0.8437848857866577,
          0.8500086466070231,
          0.8563129500350237,
          0.8627037791030463,
          0.8691879519662908,
          0.8757732957519637,
          0.8824688700468492,
          0.8892852585543065,
          0.8962349562353737,
          0.9033328932204718,
          0.9105971597129044,
          0.9180500351386616,
          0.9257194940810062,
          0.9336414907623756,
          0.9418635795917245,
          0.9504509735725166,
          0.9594974111294414,
          0.9691465317368813,
          0.9796397405279367,
          0.9914469516895367,
          1.005779192939063,
          1.0353515059803213,
          1.0353515059803213,
          1.057601958181126,
          1.064612338590198,
          1.0690976889113442,
          1.0722690368619454,
          1.0745962966289315,
          1.0763208733454022,
          1.0775864064857403,
          1.0784866344746358,
          1.0790867703155507,
          1.0794343684174417,
          1.0795653830027445,
          1.0795077886547233,
          1.0792838647993672,
          1.0789117016399805,
          1.0784062293069838,
          1.0777799427614154,
          1.0770434257066346,
          1.076205737729425,
          1.0752747059569938,
          1.07425714854454,
          1.0731590485244518,
          1.071985690871539,
          1.0707417718791332,
          1.069431487395976,
          1.0680586047170566,
          1.0666265216871458,
          1.0651383156943792,
          1.0635967845925915,
          1.06200448112208,
          1.06036374204978,
          1.0586767129875838,
          1.0569453696482465,
          1.0551715361453615,
          1.053356900825442,
          1.0515030300275985,
          1.0496113800934774,
          1.0476833078923207,
          1.0457200800798576,
          1.043722881272633,
          1.0416928212893308,
          1.0396309415862381,
          1.0375382209939705,
          1.0354155808461527,
          1.0332638895771256,
          1.031083966854462,
          1.0288765873026433,
          1.0266424838663388,
          1.0243823508550918,
          1.0220968467055906,
          1.0197865964929382,
          1.0174521942182873,
          1.01509420489674,
          1.012713166466448,
          1.0103095915372995,
          1.0078839689953871,
          1.0054367654775385,
          1.0029684267285648,
          1.0004793788524318,
          0.9979700294673222,
          0.9954407687734635,
          0.9928919705416448,
          0.9903239930295008,
          0.9877371798319148,
          0.9851318606712314,
          0.9825083521324036,
          0.9798669583476863,
          0.9772079716350373,
          0.974531673093989,
          0.9718383331623934,
          0.9691282121371267,
          0.9664015606615537,
          0.9636586201823008,
          0.9608996233776538,
          0.9581247945596947,
          0.9553343500521068,
          0.9525284985454086,
          0.9497074414312349,
          0.9468713731171363,
          0.9440204813232581,
          0.9411549473621396,
          0.9382749464027803,
          0.9353806477200259,
          0.9324722149302409,
          0.929549806214168,
          0.9266135745277931,
          0.9236636678019849,
          0.9207002291316109,
          0.9177233969547827,
          0.9147333052228388,
          0.9117300835616216,
          0.9087138574245729,
          0.9056847482381284,
          0.9026428735398633,
          0.8995883471098054,
          0.896521279095305,
          0.893441776129825,
          0.8903499414459898,
          0.8872458749832055,
          0.8841296734901498,
          0.8810014306224031,
          0.8778612370354801,
          0.8747091804735023,
          0.8715453458537343,
          0.868369815347197,
          0.8651826684555535,
          0.8619839820844545,
          0.8587738306135135,
          0.8555522859630783,
          0.8523194176579487,
          0.8490752928881853,
          0.8458199765671436,
          0.8425535313868604,
          0.8392760178709104,
          0.8359874944248478,
          0.8326880173843327,
          0.8293776410610487,
          0.8260564177864966,
          0.8227243979537597,
          0.8193816300573169,
          0.8160281607309849,
          0.8126640347840612,
          0.8092892952357369,
          0.8059039833478434,
          0.8025081386559952,
          0.7991017989991837,
          0.7956850005478784,
          0.7922577778306844,
          0.7888201637596035,
          0.7853721896539447,
          0.7819138852629239,
          0.7784452787869947,
          0.7749663968979432,
          0.7714772647577857,
          0.7679779060364951,
          0.7644683429285922,
          0.7609485961686251,
          0.7574186850455624,
          0.753878627416128,
          0.7503284397170926,
          0.7467681369765486,
          0.7431977328241818,
          0.739617239500558,
          0.7360266678654414,
          0.7324260274051526,
          0.7288153262389854,
          0.7251945711246854,
          0.7215637674630039,
          0.7179229193013319,
          0.7142720293364209,
          0.7106110989161938,
          0.706940128040651,
          0.703259115361869,
          0.6995680581830965,
          0.6958669524569425,
          0.6921557927826558,
          0.6884345724024905,
          0.6847032831971532,
          0.680961915680323,
          0.677210458992236,
          0.6734489008923259,
          0.6696772277509073,
          0.6658954245398879,
          0.6621034748224965,
          0.6583013607420097,
          0.6544890630094585,
          0.6506665608902951,
          0.6468338321899988,
          0.6429908532385962,
          0.6391375988740715,
          0.6352740424246384,
          0.6314001556898433,
          0.6275159089204702,
          0.6236212707972102,
          0.6197162084080614,
          0.6158006872244189,
          0.6118746710758134,
          0.6079381221232528,
          0.6039910008311231,
          0.6000332659375929,
          0.5960648744234709,
          0.5920857814794598,
          0.5880959404717427,
          0.5840953029058408,
          0.5800838183886708,
          0.5760614345887318,
          0.5720280971943406,
          0.5679837498698365,
          0.5639283342096658,
          0.5598617896902537,
          0.5557840536195631,
          0.5516950610842386,
          0.5475947448942199,
          0.5434830355247068,
          0.5393598610553519,
          0.5352251471065413,
          0.5310788167726248,
          0.5269207905519389,
          0.5227509862734627,
          0.5185693190199316,
          0.5143757010472245,
          0.5101700416998263,
          0.5059522473221565,
          0.5017222211655377,
          0.4974798632905636,
          0.4932250704646101,
          0.48895773605421416,
          0.4846777499120252,
          0.4803849982580157,
          0.47607936355461045,
          0.47176072437537364,
          0.4674289552668636,
          0.46308392660323777,
          0.45872550443315796,
          0.4543535503185121,
          0.4499679211644331,
          0.4455684690400521,
          0.441155040989383,
          0.4367274788316835,
          0.4322856189505887,
          0.42782929207125336,
          0.42335832302467763,
          0.4188725304983221,
          0.4143717267720418,
          0.4098557174382861,
          0.40532430110542017,
          0.4007772690829252,
          0.39621440504711825,
          0.39163548468591713,
          0.38704027532103624,
          0.38242853550584904,
          0.37780001459699053,
          0.3731544522975848,
          0.36849157816977995,
          0.36381111111404335,
          0.35911275881241705,
          0.35439621713264646,
          0.34966116948977854,
          0.3449072861614686,
          0.34013422355283346,
          0.33534162340623797,
          0.33052911195089374,
          0.3256962989865727,
          0.32084277689509244,
          0.31596811957248705,
          0.3110718812739457,
          0.30615359536263975,
          0.30121277295247806,
          0.2962489014335714,
          0.29126144286776834,
          0.2862498322399669,
          0.28121347554901405,
          0.276151747719807,
          0.27106399031565764,
          0.2659495090270224,
          0.2608075709092318,
          0.2556374013378051,
          0.25043818064516904,
          0.24520904039698257,
          0.23994905925962137,
          0.2346572584024692,
          0.22933259636924008,
          0.22397396334124897,
          0.21858017470195207,
          0.213149963795619,
          0.20768197375300856,
          0.20217474823247444,
          0.19662672089490496,
          0.19103620339378857,
          0.18540137161553072,
          0.17972024984737683,
          0.17399069247743437,
          0.16821036273876822,
          0.1623767078910806,
          0.15648693008053766,
          0.150537951919003,
          0.14452637556170617,
          0.13844843371365828,
          0.13229993052611683,
          0.1260761697057513,
          0.119771866277751,
          0.11338103720972814,
          0.10689686434648371,
          0.10031152056081066,
          0.09361594626592507,
          0.08679955775846787,
          0.07984986007740064,
          0.07275192309230272,
          0.06548765659986999,
          0.05803478117411315,
          0.05036532223176826,
          0.042443325550399036,
          0.03422123672104993,
          0.025633842740257484,
          0.01658740518333307,
          0.006938284575893183,
          -0.003554924215162014,
          -0.015362135376762232,
          -0.029694376626288266,
          -0.05926668966754689
         ],
         "y": [
          -0.007548395518248374,
          0.003783968505576163,
          0.009276206291991496,
          0.0138008308894228,
          0.017821918507166107,
          0.021519544292499027,
          0.024986216763158847,
          0.028276979797844937,
          0.031427754764970756,
          0.034463531846849804,
          0.03740253430090773,
          0.040258540093591505,
          0.04304226932516925,
          0.04576225966278924,
          0.04842544342753241,
          0.05103754197344418,
          0.053603343476774146,
          0.05612690370343479,
          0.058611694364793326,
          0.061060714883135275,
          0.06347657803401799,
          0.06586157656677386,
          0.06821773572908399,
          0.0705468551808367,
          0.07285054280726139,
          0.07513024226811302,
          0.0773872556466538,
          0.07962276222441492,
          0.08183783416298505,
          0.08403344969434327,
          0.08621050428762354,
          0.08836982015970773,
          0.09051215442067079,
          0.09263820608648905,
          0.09474862214602815,
          0.09684400283387143,
          0.09892490623263003,
          0.1009918523062362,
          0.10304532644803095,
          0.10508578261323534,
          0.10711364609388929,
          0.10912931598497505,
          0.11113316738278099,
          0.11312555335025504,
          0.11510680667888593,
          0.11707724147231872,
          0.11903715457329903,
          0.12098682685251128,
          0.12292652437532825,
          0.12485649946033679,
          0.12677699164167808,
          0.12868822854568918,
          0.13059042669100374,
          0.13248379222013587,
          0.13436852156959206,
          0.1362448020847161,
          0.13811281258474342,
          0.1399727238829091,
          0.14182469926590785,
          0.14366889493652374,
          0.14550546042283116,
          0.1473345389570024,
          0.14915626782643637,
          0.15097077869963954,
          0.15277819792904274,
          0.15457864683271552,
          0.1563722419567467,
          0.15815909531988523,
          0.15993931464188318,
          0.16171300355684523,
          0.16348026181276698,
          0.16524118545833588,
          0.1669958670179703,
          0.1687443956559852,
          0.17048685733069452,
          0.17222333493918918,
          0.17395390845346614,
          0.17567865504852734,
          0.17739764922301376,
          0.1791109629128952,
          0.18081866559869203,
          0.18252082440666756,
          0.1842175042043945,
          0.18590876769106737,
          0.18759467548290346,
          0.18927528619394868,
          0.19095065651258086,
          0.19262084127398058,
          0.1942858935288198,
          0.1959458646084004,
          0.19760080418645715,
          0.19925076033782502,
          0.20089577959415572,
          0.20253590699685636,
          0.20417118614740945,
          0.20580165925522453,
          0.2074273671831594,
          0.20904834949084103,
          0.21066464447590727,
          0.21227628921328112,
          0.21388331959258444,
          0.21548577035378821,
          0.21708367512119228,
          0.21867706643582088,
          0.22026597578631413,
          0.2218504336383913,
          0.2234304694629573,
          0.22500611176291818,
          0.22657738809876804,
          0.22814432511300659,
          0.22970694855344137,
          0.231265283295427,
          0.23281935336308973,
          0.23436918194958267,
          0.23591479143641503,
          0.2374562034118952,
          0.23899343868872597,
          0.2405265173207875,
          0.2420554586191415,
          0.24358028116728825,
          0.2451010028357064,
          0.24661764079570309,
          0.24813021153260129,
          0.24963873085828892,
          0.2511432139231523,
          0.2526436752274177,
          0.2541401286319193,
          0.25563258736831473,
          0.25712106404876545,
          0.25860557067509915,
          0.26008611864747067,
          0.2615627187725357,
          0.26303538127115156,
          0.2645041157856185,
          0.2659689313864734,
          0.26742983657884695,
          0.26888683930839574,
          0.2703399469668182,
          0.2717891663969638,
          0.2732345038975443,
          0.2746759652274536,
          0.2761135556097041,
          0.27754727973498566,
          0.2789771417648531,
          0.2804031453345459,
          0.28182529355544694,
          0.28324358901718244,
          0.2846580337893666,
          0.28606862942299427,
          0.28747537695148384,
          0.2888782768913709,
          0.29027732924265565,
          0.2916725334888022,
          0.2930638885963924,
          0.29445139301443113,
          0.29583504467330435,
          0.2972148409833858,
          0.29859077883329266,
          0.29996285458778527,
          0.3013310640853091,
          0.302695402635174,
          0.30405586501436777,
          0.3054124454639964,
          0.30676513768534824,
          0.3081139348355737,
          0.30945882952297443,
          0.3107998138018938,
          0.3121368791672011,
          0.3134700165483595,
          0.3147992163030688,
          0.31612446821047147,
          0.31744576146391207,
          0.31876308466323566,
          0.32007642580661444,
          0.3213857722818871,
          0.322691110857396,
          0.3239924276723068,
          0.32528970822639347,
          0.3265829373692695,
          0.3278720992890471,
          0.3291571775004032,
          0.3304381548320307,
          0.331715013413451,
          0.3329877346611637,
          0.3342562992641072,
          0.33552068716840133,
          0.33678087756134323,
          0.3380368488546245,
          0.339288578666736,
          0.3405360438045247,
          0.34177922024386415,
          0.34301808310939985,
          0.34425260665332424,
          0.3454827642331376,
          0.34670852828834586,
          0.34792987031604306,
          0.34914676084532403,
          0.35035916941046963,
          0.3515670645228398,
          0.3527704136414104,
          0.3539691831418813,
          0.35516333828428165,
          0.35635284317898974,
          0.35753766075108234,
          0.3587177527029218,
          0.3598930794748809,
          0.36106360020410205,
          0.3622292726811757,
          0.36339005330461926,
          0.36454589703302565,
          0.36569675733474316,
          0.3668425861349368,
          0.3679833337598719,
          0.3691189488782465,
          0.37024937843938854,
          0.37137456760811755,
          0.3724944596960557,
          0.3736089960891571,
          0.37471811617120443,
          0.37582175724300315,
          0.3769198544369806,
          0.3780123406268734,
          0.37909914633216124,
          0.3801801996168743,
          0.3812554259823716,
          0.3823247482536512,
          0.38338808645871614,
          0.3844453577004755,
          0.3854964760206154,
          0.38654135225482067,
          0.3875798938786732,
          0.38861200484348546,
          0.38963758540126175,
          0.3906565319178975,
          0.39166873667364055,
          0.39267408764974204,
          0.3936724683001131,
          0.39466375730668424,
          0.3956478283170245,
          0.3966245496626275,
          0.39759378405609436,
          0.3985553882652527,
          0.3995092127620282,
          0.4004551013436368,
          0.4013928907233838,
          0.40232241008803393,
          0.4032434806183521,
          0.40415591496899417,
          0.40505951670345386,
          0.40595407967921704,
          0.40683938737764996,
          0.40771521217241574,
          0.40858131452937296,
          0.40943744212993505,
          0.410283328908729,
          0.41111869399507045,
          0.4119432405462138,
          0.412756654458514,
          0.4135586029404824,
          0.41434873292917085,
          0.4151266693282912,
          0.415892013042861,
          0.4166443387808406,
          0.4173831925870086,
          0.4181080890680243,
          0.41881850825995526,
          0.4195138920801904,
          0.4201936402941465,
          0.4208571059129576,
          0.42150358992064774,
          0.42213233520714166,
          0.42274251955555775,
          0.4233332474967619,
          0.423903540798775,
          0.4244523273000085,
          0.42497842771893113,
          0.42548053997228075,
          0.4259572204003022,
          0.4264068611177664,
          0.42682766246478476,
          0.4272175991936763,
          0.4275743785551086,
          0.4278953877735244,
          0.428177627426638,
          0.4284176258030823,
          0.42861132713694483,
          0.4287539432519758,
          0.4288397527941301,
          0.4288618234423266,
          0.4288116175294171,
          0.4286784149551335,
          0.42844843775302865,
          0.4281034626656771,
          0.42761849951076536,
          0.42695762691987976,
          0.426065801014321,
          0.4248505132763519,
          0.42313168855869493,
          0.42044525065205385,
          0.4119186865080036,
          0.4119186865080036,
          0.4005863224841792,
          0.39509408469776375,
          0.39056946010033256,
          0.3865483724825891,
          0.3828507466972562,
          0.37938407422659626,
          0.3760933111919103,
          0.37294253622478457,
          0.36990675914290544,
          0.3669677566888476,
          0.36411175089616377,
          0.3613280216645861,
          0.358608031326966,
          0.35594484756222283,
          0.35333274901631095,
          0.3507669475129811,
          0.3482433872863205,
          0.3457585966249619,
          0.34330957610662005,
          0.3408937129557372,
          0.3385087144229814,
          0.3361525552606712,
          0.33382343580891854,
          0.3315197481824938,
          0.32924004872164225,
          0.3269830353431015,
          0.3247475287653403,
          0.32253245682677023,
          0.32033684129541196,
          0.31815978670213174,
          0.3160004708300475,
          0.31385813656908446,
          0.3117320849032662,
          0.3096216688437271,
          0.30752628815588384,
          0.30544538475712524,
          0.3033784386835191,
          0.3013249645417243,
          0.29928450837651993,
          0.2972566448958659,
          0.2952409750047802,
          0.29323712360697424,
          0.2912447376395002,
          0.28926348431086935,
          0.2872930495174365,
          0.28533313641645625,
          0.28338346413724397,
          0.281443766614427,
          0.27951379152941846,
          0.2775932993480772,
          0.27568206244406607,
          0.2737798642987515,
          0.27188649876961946,
          0.2700017694201632,
          0.2681254889050392,
          0.2662574784050118,
          0.2643975671068462,
          0.26254559172384734,
          0.2607013960532315,
          0.25886483056692405,
          0.2570357520327528,
          0.2552140231633189,
          0.2533995122901157,
          0.25159209306071256,
          0.24979164415703972,
          0.24799804903300857,
          0.24621119566987,
          0.2444309763478721,
          0.24265728743290998,
          0.2408900291769883,
          0.23912910553141936,
          0.23737442397178493,
          0.23562589533377004,
          0.23388343365906072,
          0.2321469560505661,
          0.2304163825362891,
          0.22869163594122793,
          0.2269726417667415,
          0.22525932807686005,
          0.2235516253910632,
          0.22184946658308768,
          0.22015278678536074,
          0.21846152329868787,
          0.2167756155068518,
          0.2150950047958066,
          0.2134196344771744,
          0.2117494497157747,
          0.21008439746093543,
          0.20842442638135483,
          0.2067694868032981,
          0.20511953065193023,
          0.20347451139559952,
          0.20183438399289888,
          0.20019910484234582,
          0.1985686317345307,
          0.19694292380659587,
          0.19532194149891421,
          0.19370564651384803,
          0.19209400177647412,
          0.1904869713971708,
          0.18888452063596703,
          0.18728661586856296,
          0.18569322455393436,
          0.18410431520344114,
          0.182519857351364,
          0.18093982152679794,
          0.17936417922683706,
          0.1777929028909872,
          0.17622596587674866,
          0.17466334243631387,
          0.17310500769432824,
          0.17155093762666554,
          0.17000110904017257,
          0.16845549955334022,
          0.16691408757786005,
          0.16537685230102928,
          0.16384377366896774,
          0.16231483237061375,
          0.160790009822467,
          0.15926928815404884,
          0.1577526501940522,
          0.15624007945715399,
          0.15473156013146638,
          0.15322707706660296,
          0.15172661576233754,
          0.15023016235783593,
          0.14873770362144048,
          0.1472492269409898,
          0.1457647203146561,
          0.14428417234228458,
          0.1428075722172196,
          0.14133490971860374,
          0.13986617520413677,
          0.13840135960328187,
          0.1369404544109083,
          0.1354834516813595,
          0.1340303440229371,
          0.13258112459279145,
          0.13113578709221096,
          0.12969432576230172,
          0.12825673538005122,
          0.12682301125476958,
          0.12539314922490216,
          0.12396714565520936,
          0.12254499743430829,
          0.12112670197257279,
          0.11971225720038867,
          0.11830166156676097,
          0.11689491403827147,
          0.11549201409838433,
          0.11409296174709961,
          0.11269775750095304,
          0.11130640239336288,
          0.10991889797532411,
          0.10853524631645092,
          0.10715545000636945,
          0.10577951215646259,
          0.10440743640197002,
          0.10303922690444622,
          0.10167488835458123,
          0.10031442597538746,
          0.09895784552575884,
          0.09760515330440699,
          0.09625635615418152,
          0.0949114614667808,
          0.09357047718786143,
          0.09223341182255418,
          0.09090027444139577,
          0.0895710746866865,
          0.08824582277928375,
          0.08692452952584319,
          0.0856072063265196,
          0.08429386518314079,
          0.08298451870786815,
          0.08167918013235928,
          0.08037786331744848,
          0.0790805827633618,
          0.07778735362048578,
          0.07649819170070815,
          0.07521311348935206,
          0.07393213615772454,
          0.07265527757630427,
          0.07138255632859153,
          0.07011399172564803,
          0.06884960382135397,
          0.06758941342841204,
          0.06633344213513076,
          0.06508171232301924,
          0.06383424718523056,
          0.0625910707458911,
          0.061352207880355364,
          0.060117684336431,
          0.0588875267566176,
          0.05766176270140935,
          0.056440420673712244,
          0.05522353014443121,
          0.05401112157928559,
          0.052803226466915404,
          0.05159987734834487,
          0.05040110784787394,
          0.04920695270547357,
          0.04801744781076553,
          0.0468326302386729,
          0.045652538286833494,
          0.0444772115148743,
          0.04330669078565319,
          0.042141018308579525,
          0.04098023768513598,
          0.03982439395672957,
          0.038673533655012055,
          0.037527704854818406,
          0.03638695722988336,
          0.03525134211150882,
          0.03412091255036673,
          0.0329957233816377,
          0.03187583129369953,
          0.03076129490059812,
          0.029652174818550814,
          0.028548533746752064,
          0.027450436552774654,
          0.026357950362881855,
          0.025271144657594002,
          0.02419009137288089,
          0.023114865007383634,
          0.02204554273610404,
          0.020982204531039106,
          0.019924933289279745,
          0.018873814969139868,
          0.017828938734934546,
          0.016790397111082017,
          0.015758286146269812,
          0.014732705588493489,
          0.013713759071857734,
          0.012701554316114694,
          0.011696203340013228,
          0.010697822689642145,
          0.009706533683071034,
          0.008722462672730719,
          0.007745741327127714,
          0.006776506933660886,
          0.005814902724502524,
          0.00486107822772705,
          0.003915189646118422,
          0.0029774002663714716,
          0.002047880901721283,
          0.001126810371403164,
          0.0002143760207610479,
          -0.0006892257136986157,
          -0.0015837886894617959,
          -0.0024690963878947203,
          -0.0033449211826604985,
          -0.0042110235396177476,
          -0.005067151140179776,
          -0.00591303791897374,
          -0.006748403005315207,
          -0.007572949556458569,
          -0.00838636346875879,
          -0.00918831195072714,
          -0.009978441939415633,
          -0.010756378338535932,
          -0.011521722053105754,
          -0.012274047791085319,
          -0.013012901597253379,
          -0.013737798078269081,
          -0.014448217270200042,
          -0.015143601090435138,
          -0.01582334930439125,
          -0.016486814923202364,
          -0.017133298930892465,
          -0.017762044217386447,
          -0.018372228565802534,
          -0.018962956507006634,
          -0.019533249809019798,
          -0.020082036310253265,
          -0.020608136729175913,
          -0.021110248982525476,
          -0.021586929410546962,
          -0.022036570128011107,
          -0.02245737147502949,
          -0.022847308203921085,
          -0.023204087565353387,
          -0.023525096783769156,
          -0.023807336436882737,
          -0.024047334813327048,
          -0.02424103614718956,
          -0.024383652262220556,
          -0.02446946180437487,
          -0.02449153245257138,
          -0.024441326539661884,
          -0.02430812396537821,
          -0.02407814676327344,
          -0.02373317167592187,
          -0.02324820852101009,
          -0.02258733593012452,
          -0.021695510024565767,
          -0.020480222286596766,
          -0.018761397568939686,
          -0.01607495966229866,
          -0.007548395518248374
         ]
        },
        {
         "fill": "toself",
         "fillcolor": "rgba(0,0,0,.08)",
         "line": {
          "width": 0
         },
         "showlegend": false,
         "type": "scatter",
         "x": [
          1.2531009200949803,
          1.2504181986154852,
          1.2502096214064207,
          1.2504109693479775,
          1.250825638557363,
          1.251377340975763,
          1.2520268857689691,
          1.2527509538353778,
          1.2535343272423227,
          1.2543664190069415,
          1.25523950892489,
          1.2561477600201585,
          1.2570866307685435,
          1.2580525042242123,
          1.2590424435392635,
          1.2600540248867536,
          1.2610852197764832,
          1.262134310000731,
          1.2631998247839624,
          1.264280493433874,
          1.2653752090593797,
          1.2664830003471215,
          1.2676030093096617,
          1.2687344735288577,
          1.2698767118310723,
          1.2710291126160822,
          1.2721911242619344,
          1.2733622471710984,
          1.2745420271269454,
          1.2757300497057207,
          1.2769259355457907,
          1.2781293363185227,
          1.2793399312775016,
          1.2805574242876268,
          1.2817815412548579,
          1.2830120278924046,
          1.2842486477709782,
          1.2854911806101033,
          1.2867394207749858,
          1.2879931759494563,
          1.2892522659603778,
          1.2905165217328838,
          1.2917857843590508,
          1.2930599042652853,
          1.2943387404659095,
          1.29562215989227,
          1.2969100367882191,
          1.2982022521641037,
          1.299498693302477,
          1.3007992533096593,
          1.3021038307080453,
          1.3034123290647202,
          1.304724656652499,
          1.306040726139996,
          1.3073604543077328,
          1.3086837617876634,
          1.3100105728237907,
          1.3113408150518249,
          1.3126744192960624,
          1.3140113193818685,
          1.3153514519623197,
          1.3166947563577243,
          1.3180411744068687,
          1.3193906503289585,
          1.3207431305953314,
          1.3220985638101115,
          1.3234569005990509,
          1.3248180935058904,
          1.326182096895622,
          1.3275488668641047,
          1.3289183611535302,
          1.3302905390732875,
          1.3316653614258056,
          1.3330427904370077,
          1.3344227896910248,
          1.3358053240688623,
          1.337190359690729,
          1.3385778638617685,
          1.339967805020953,
          1.3413601526929195,
          1.3427548774425453,
          1.3441519508320792,
          1.3455513453806534,
          1.3469530345260252,
          1.3483569925883956,
          1.3497631947361772,
          1.3511716169535835,
          1.3525822360099267,
          1.353995029430519,
          1.3554099754690756,
          1.3568270530815334,
          1.3582462419011958,
          1.3596675222151298,
          1.3610908749417374,
          1.3625162816094392,
          1.3639437243364003,
          1.3653731858112481,
          1.366804649274717,
          1.3682380985021783,
          1.3696735177870007,
          1.3711108919247008,
          1.37255020619784,
          1.373991446361629,
          1.3754345986302028,
          1.3768796496635354,
          1.3783265865549563,
          1.3797753968192437,
          1.3812260683812645,
          1.3826785895651343,
          1.3841329490838734,
          1.385589136029534,
          1.3870471398637796,
          1.3885069504088927,
          1.3899685578391943,
          1.3914319526728545,
          1.3928971257640796,
          1.3943640682956582,
          1.3958327717718502,
          1.3973032280116078,
          1.3987754291421113,
          1.4002493675926095,
          1.4017250360885523,
          1.4032024276460038,
          1.4046815355663262,
          1.4061623534311232,
          1.4076448750974369,
          1.4091290946931847,
          1.410615006612832,
          1.4121026055132908,
          1.4135918863100387,
          1.4150828441734495,
          1.41657547452533,
          1.4180697730356582,
          1.4195657356195153,
          1.4210633584342072,
          1.4225626378765721,
          1.4240635705804672,
          1.425566153414431,
          1.42707038347952,
          1.428576258107312,
          1.4300837748580768,
          1.4315929315191076,
          1.4331037261032138,
          1.4346161568473705,
          1.4361302222115246,
          1.4376459208775518,
          1.4391632517483683,
          1.4406822139471913,
          1.442202806816948,
          1.4437250299198352,
          1.4452488830370251,
          1.4467743661685175,
          1.4483014795331406,
          1.4498302235686975,
          1.4513605989322607,
          1.4528926065006131,
          1.4544262473708387,
          1.4559615228610616,
          1.4574984345113353,
          1.4590369840846842,
          1.4605771735682993,
          1.4621190051748867,
          1.4636624813441774,
          1.4652076047445934,
          1.466754378275078,
          1.4683028050670928,
          1.4698528884867808,
          1.4714046321373035,
          1.4729580398613549,
          1.4745131157438542,
          1.476069864114823,
          1.4776282895524548,
          1.4791883968863757,
          1.4807501912011083,
          1.48231367783974,
          1.483878862407806,
          1.4854457507773888,
          1.4870143490914463,
          1.4885846637683744,
          1.4901567015068113,
          1.4917304692906928,
          1.493305974394569,
          1.4948832243891912,
          1.4964622271473789,
          1.4980429908501802,
          1.4996255239933347,
          1.5012098353940542,
          1.5027959341981323,
          1.5043838298873988,
          1.505973532287533,
          1.5075650515762522,
          1.5091583982918928,
          1.5107535833424026,
          1.5123506180147617,
          1.513949513984854,
          1.515550283327813,
          1.51715293852886,
          1.5187574924946659,
          1.5203639585652566,
          1.521972350526497,
          1.5235826826231766,
          1.525194969572734,
          1.5268092265796525,
          1.5284254693505632,
          1.5300437141100953,
          1.5316639776175136,
          1.533286277184192,
          1.534910630691964,
          1.5365370566124097,
          1.538165574027127,
          1.5397962026490488,
          1.5414289628448719,
          1.5430638756586594,
          1.544700962836696,
          1.5463402468536693,
          1.5479817509402676,
          1.5496254991122766,
          1.5512715162012847,
          1.5529198278870902,
          1.5545704607319362,
          1.55622344221669,
          1.5578788007791033,
          1.5595365658542983,
          1.5611967679176386,
          1.5628594385301517,
          1.5645246103866939,
          1.5661923173670564,
          1.5678625945902342,
          1.5695354784720958,
          1.5712110067867182,
          1.5728892187316723,
          1.5745701549975695,
          1.5762538578422176,
          1.577940371169758,
          1.5796297406151982,
          1.5813220136347979,
          1.5830172396028044,
          1.5847154699150945,
          1.58641675810033,
          1.588121159939305,
          1.5898287335932335,
          1.5915395397418073,
          1.5932536417319492,
          1.594971105738295,
          1.5966920009365473,
          1.5984163996909964,
          1.6001443777576394,
          1.601876014504522,
          1.6036113931511229,
          1.6053506010288279,
          1.6070937298648216,
          1.608840876092019,
          1.6105921411880253,
          1.6123476320465204,
          1.614107461384951,
          1.6158717481929703,
          1.6176406182267258,
          1.6194142045548712,
          1.6211926481630836,
          1.6229760986249575,
          1.6247647148484157,
          1.626558665908325,
          1.6283581319778222,
          1.630163305373077,
          1.6319743917288831,
          1.6337916113257158,
          1.6356152005928646,
          1.637445413817119,
          1.6392825250925198,
          1.6411268305541675,
          1.6429786509484774,
          1.644838334604082,
          1.6467062608826144,
          1.64858284420783,
          1.6504685387963578,
          1.6523638442457276,
          1.6542693121778926,
          1.6561855541930766,
          1.658113251464916,
          1.6600531664115539,
          1.662006157020428,
          1.6639731946048961,
          1.6659553860560443,
          1.6679540020661763,
          1.6699705134108265,
          1.6720066382977161,
          1.6740644052170446,
          1.6761462379957555,
          1.67825507348175,
          1.6803945286208615,
          1.6825691449372926,
          1.6847847594070535,
          1.6870490922344885,
          1.6893727304024595,
          1.6917708918436332,
          1.694266895659613,
          1.696899932684607,
          1.69974629097743,
          1.703002574420874,
          1.708733002134749,
          1.708733002134749,
          1.7114157236142442,
          1.7116243008233087,
          1.711422952881752,
          1.7110082836723663,
          1.7104565812539665,
          1.7098070364607603,
          1.7090829683943516,
          1.7082995949874067,
          1.707467503222788,
          1.7065944133048394,
          1.705686162209571,
          1.7047472914611859,
          1.703781418005517,
          1.7027914786904659,
          1.7017798973429759,
          1.7007487024532464,
          1.6996996122289985,
          1.698634097445767,
          1.6975534287958554,
          1.6964587131703497,
          1.695350921882608,
          1.6942309129200677,
          1.6930994487008717,
          1.691957210398657,
          1.6908048096136472,
          1.689642797967795,
          1.688471675058631,
          1.687291895102784,
          1.6861038725240087,
          1.6849079866839387,
          1.6837045859112068,
          1.6824939909522278,
          1.6812764979421027,
          1.6800523809748715,
          1.6788218943373248,
          1.6775852744587512,
          1.6763427416196262,
          1.6750945014547436,
          1.6738407462802731,
          1.6725816562693518,
          1.6713174004968456,
          1.6700481378706786,
          1.6687740179644441,
          1.66749518176382,
          1.6662117623374595,
          1.6649238854415103,
          1.6636316700656257,
          1.6623352289272524,
          1.6610346689200701,
          1.6597300915216842,
          1.6584215931650093,
          1.6571092655772304,
          1.6557931960897334,
          1.6544734679219966,
          1.653150160442066,
          1.6518233494059387,
          1.6504931071779045,
          1.6491595029336668,
          1.6478226028478609,
          1.6464824702674097,
          1.6451391658720051,
          1.6437927478228607,
          1.6424432719007709,
          1.641090791634398,
          1.639735358419618,
          1.6383770216306786,
          1.637015828723839,
          1.6356518253341075,
          1.6342850553656247,
          1.632915561076199,
          1.6315433831564419,
          1.6301685608039238,
          1.6287911317927217,
          1.6274111325387046,
          1.626028598160867,
          1.6246435625390003,
          1.623256058367961,
          1.6218661172087765,
          1.6204737695368099,
          1.6190790447871841,
          1.6176819713976502,
          1.616282576849076,
          1.6148808877037042,
          1.6134769296413338,
          1.6120707274935522,
          1.610662305276146,
          1.6092516862198027,
          1.6078388927992104,
          1.6064239467606538,
          1.605006869148196,
          1.6035876803285336,
          1.6021664000145996,
          1.600743047287992,
          1.5993176406202902,
          1.597890197893329,
          1.5964607364184813,
          1.5950292729550124,
          1.5935958237275512,
          1.5921604044427289,
          1.5907230303050286,
          1.5892837160318893,
          1.5878424758681005,
          1.5863993235995266,
          1.584954272566194,
          1.583507335674773,
          1.5820585254104857,
          1.580607853848465,
          1.579155332664595,
          1.577700973145856,
          1.5762447862001954,
          1.5747867823659498,
          1.5733269718208367,
          1.5718653643905351,
          1.570401969556875,
          1.5689367964656498,
          1.5674698539340712,
          1.5660011504578792,
          1.5645306942181216,
          1.5630584930876181,
          1.56158455463712,
          1.5601088861411772,
          1.5586314945837256,
          1.5571523866634034,
          1.5556715687986062,
          1.5541890471322926,
          1.5527048275365447,
          1.5512189156168974,
          1.5497313167164386,
          1.5482420359196907,
          1.5467510780562799,
          1.5452584477043994,
          1.5437641491940712,
          1.5422681866102141,
          1.5407705637955222,
          1.5392712843531573,
          1.5377703516492622,
          1.5362677688152984,
          1.5347635387502094,
          1.5332576641224174,
          1.5317501473716526,
          1.5302409907106218,
          1.5287301961265158,
          1.5272177653823589,
          1.5257037000182048,
          1.5241880013521776,
          1.522670670481361,
          1.521151708282538,
          1.5196311154127815,
          1.5181088923098942,
          1.5165850391927043,
          1.515059556061212,
          1.5135324426965888,
          1.512003698661032,
          1.5104733232974688,
          1.5089413157291163,
          1.5074076748588907,
          1.5058723993686678,
          1.504335487718394,
          1.5027969381450452,
          1.50125674866143,
          1.4997149170548427,
          1.498171440885552,
          1.496626317485136,
          1.4950795439546514,
          1.4935311171626366,
          1.4919810337429487,
          1.490429290092426,
          1.4888758823683745,
          1.4873208064858752,
          1.4857640581149063,
          1.4842056326772746,
          1.4826455253433537,
          1.4810837310286211,
          1.4795202443899893,
          1.4779550598219233,
          1.4763881714523406,
          1.4748195731382832,
          1.473249258461355,
          1.471677220722918,
          1.4701034529390367,
          1.4685279478351605,
          1.4669506978405382,
          1.4653716950823505,
          1.4637909313795492,
          1.4622083982363947,
          1.4606240868356752,
          1.4590379880315971,
          1.4574500923423306,
          1.4558603899421965,
          1.4542688706534772,
          1.4526755239378366,
          1.4510803388873268,
          1.4494833042149677,
          1.4478844082448754,
          1.4462836389019165,
          1.4446809837008694,
          1.4430764297350636,
          1.4414699636644728,
          1.4398615717032324,
          1.4382512396065528,
          1.4366389526569954,
          1.435024695650077,
          1.4334084528791662,
          1.431790208119634,
          1.4301699446122158,
          1.4285476450455374,
          1.4269232915377654,
          1.4252968656173197,
          1.4236683482026025,
          1.4220377195806806,
          1.4204049593848576,
          1.41877004657107,
          1.4171329593930335,
          1.41549367537606,
          1.4138521712894618,
          1.4122084231174528,
          1.4105624060284447,
          1.4089140943426393,
          1.4072634614977932,
          1.4056104800130393,
          1.4039551214506263,
          1.402297356375431,
          1.4006371543120908,
          1.3989744836995777,
          1.3973093118430355,
          1.395641604862673,
          1.3939713276394952,
          1.3922984437576336,
          1.390622915443011,
          1.388944703498057,
          1.38726376723216,
          1.3855800643875118,
          1.3838935510599715,
          1.3822041816145314,
          1.3805119085949316,
          1.378816682626925,
          1.377118452314635,
          1.3754171641293995,
          1.3737127622904246,
          1.372005188636496,
          1.3702943824879221,
          1.3685802804977802,
          1.3668628164914345,
          1.3651419212931821,
          1.363417522538733,
          1.3616895444720902,
          1.3599579077252073,
          1.3582225290786065,
          1.3564833212009015,
          1.3547401923649078,
          1.3529930461377104,
          1.3512417810417041,
          1.349486290183209,
          1.3477264608447783,
          1.345962174036759,
          1.3441933040030036,
          1.3424197176748582,
          1.3406412740666458,
          1.338857823604772,
          1.3370692073813137,
          1.3352752563214043,
          1.3334757902519072,
          1.3316706168566523,
          1.3298595305008463,
          1.3280423109040136,
          1.3262187216368648,
          1.3243885084126104,
          1.3225513971372096,
          1.3207070916755619,
          1.318855271281252,
          1.3169955876256474,
          1.315127661347115,
          1.3132510780218993,
          1.3113653834333716,
          1.3094700779840018,
          1.3075646100518368,
          1.3056483680366529,
          1.3037206707648135,
          1.3017807558181755,
          1.2998277652093013,
          1.2978607276248333,
          1.295878536173685,
          1.2938799201635531,
          1.291863408818903,
          1.2898272839320133,
          1.2877695170126848,
          1.285687684233974,
          1.2835788487479793,
          1.281439393608868,
          1.2792647772924368,
          1.2770491628226759,
          1.274784829995241,
          1.27246119182727,
          1.2700630303860962,
          1.2675670265701167,
          1.2649339895451226,
          1.2620876312522995,
          1.2588313478088553,
          1.2531009200949803
         ],
         "y": [
          -0.07513006077744111,
          -0.0683048617891116,
          -0.06442648070246099,
          -0.06103633903928968,
          -0.05790027266928527,
          -0.05492741905864751,
          -0.05207110014853916,
          -0.04930354183262506,
          -0.04660661886374606,
          -0.04396772166573648,
          -0.04137765512550698,
          -0.0388294671402222,
          -0.036317748548830714,
          -0.03383819140500258,
          -0.03138729778985194,
          -0.02896218081569238,
          -0.0265604244588086,
          -0.024179982255972038,
          -0.02181910244689686,
          -0.01947627157948864,
          -0.017150171296322902,
          -0.01483964471919147,
          -0.012543669946190245,
          -0.010261338902774225,
          -0.007991840280285933,
          -0.005734445635154489,
          -0.0034884979606457645,
          -0.0012534022134703393,
          0.0009713825989522695,
          0.0031863500740873796,
          0.005391952048824533,
          0.007588603398344301,
          0.009776686146156427,
          0.011956553002580528,
          0.014128530426034513,
          0.01629292128360446,
          0.018450007173283517,
          0.02060005045909638,
          0.022743296061397272,
          0.024879973037456093,
          0.027010295981640398,
          0.02913446626977509,
          0.03125267316839517,
          0.033365094826426495,
          0.035471899164197546,
          0.03757324467250228,
          0.03966928113260934,
          0.04176015026658553,
          0.04384598632601583,
          0.04592691662611534,
          0.04800306203130841,
          0.050074537397565205,
          0.052141451976117525,
          0.05420390978260248,
          0.056262009935187984,
          0.05831584696481254,
          0.06036551110030022,
          0.06241108853079813,
          0.06445266164770264,
          0.06649030926800176,
          0.06852410684075069,
          0.07055412663821065,
          0.07258043793302212,
          0.07460310716263799,
          0.07662219808211931,
          0.07863777190628322,
          0.08064988744209496,
          0.08265860121210923,
          0.08466396756968775,
          0.08666603880665132,
          0.08866486525396325,
          0.09066049537598546,
          0.09265297585879984,
          0.09464235169304348,
          0.09662866625166558,
          0.09861196136297956,
          0.1005922773793517,
          0.10256965324183695,
          0.10454412654104896,
          0.10651573357452566,
          0.10848450940083142,
          0.11045048789061654,
          0.1124137017748388,
          0.11437418269033293,
          0.11633196122290253,
          0.11828706694809324,
          0.12023952846979467,
          0.12218937345680805,
          0.1241366286775051,
          0.12608132003269562,
          0.12802347258681232,
          0.1299631105975131,
          0.13190025754379459,
          0.13383493615270395,
          0.13576716842472963,
          0.13769697565794603,
          0.13962437847098297,
          0.14154939682488454,
          0.14347205004391872,
          0.14539235683539464,
          0.14731033530854076,
          0.14922600299249325,
          0.15113937685344173,
          0.1530504733109752,
          0.15495930825366944,
          0.15686589705395365,
          0.1587702545822924,
          0.16067239522071616,
          0.16257233287573214,
          0.16447008099064478,
          0.16636565255731373,
          0.16825906012737515,
          0.17015031582295162,
          0.17203943134687208,
          0.17392641799242525,
          0.17581128665266577,
          0.17769404782929213,
          0.17957471164111521,
          0.18145328783213371,
          0.18332978577923253,
          0.18520421449951918,
          0.18707658265731236,
          0.18894689857079625,
          0.19081517021835206,
          0.19268140524458,
          0.19454561096602163,
          0.19640779437659325,
          0.1982679621527405,
          0.200126120658323,
          0.20198227594923737,
          0.20383643377778735,
          0.20568859959680827,
          0.2075387785635526,
          0.2093869755433437,
          0.21123319511300404,
          0.21307744156406258,
          0.21491971890574824,
          0.21676003086777315,
          0.2185983809029105,
          0.22043477218937177,
          0.22226920763298658,
          0.22410168986918882,
          0.22593222126481244,
          0.22776080391969955,
          0.2295874396681239,
          0.2314121300800307,
          0.23323487646209656,
          0.23505567985861003,
          0.23687454105217393,
          0.23869146056423166,
          0.24050643865541751,
          0.2423194753257315,
          0.24413057031453927,
          0.24593972310039752,
          0.24774693290070335,
          0.24955219867116823,
          0.25135551910511567,
          0.2531568926326002,
          0.25495631741934827,
          0.2567537913655178,
          0.2585493121042747,
          0.2603428770001851,
          0.26213448314741944,
          0.26392412736776627,
          0.26571180620845225,
          0.26749751593976545,
          0.2692812525524768,
          0.2710630117550574,
          0.2728427889706848,
          0.2746205793340356,
          0.2763963776878573,
          0.27817017857931464,
          0.27994197625610384,
          0.2817117646623283,
          0.28347953743412835,
          0.28524528789505843,
          0.2870090090512022,
          0.2887706935860181,
          0.2905303338549059,
          0.29228792187948444,
          0.2940434493415695,
          0.2957969075768424,
          0.2975482875681956,
          0.2992975799387442,
          0.30104477494448956,
          0.30278986246662076,
          0.3045328320034393,
          0.30627367266189054,
          0.3080123731486858,
          0.309748921760996,
          0.3114833063766988,
          0.3132155144441579,
          0.31494553297151356,
          0.31667334851546153,
          0.31839894716949446,
          0.320122314551582,
          0.3218434357912594,
          0.32356229551609766,
          0.3252788778375209,
          0.3269931663359401,
          0.3287051440451657,
          0.3304147934360615,
          0.332122096399399,
          0.3338270342278692,
          0.33552958759720397,
          0.33722973654635924,
          0.33892746045670524,
          0.3406227380301675,
          0.3423155472662578,
          0.3440058654379287,
          0.3456936690661837,
          0.3473789338933649,
          0.3490616348550396,
          0.3507417460503979,
          0.3524192407110681,
          0.3540940911682492,
          0.3557662688180512,
          0.3574357440849288,
          0.3591024863830783,
          0.3607664640756648,
          0.3624276444317308,
          0.3640859935806258,
          0.36574147646378546,
          0.36739405678367193,
          0.3690436969496715,
          0.37069035802072925,
          0.3723339996444789,
          0.37397457999260697,
          0.37561205569216416,
          0.3772463817525137,
          0.3788775114875735,
          0.38050539643298165,
          0.38212998625777483,
          0.3837512286701323,
          0.38536906931669224,
          0.3869834516749,
          0.38859431693779034,
          0.3902016038905462,
          0.39180524877810646,
          0.39340518516301815,
          0.395001343772641,
          0.3965936523347135,
          0.39818203540018077,
          0.3997664141520545,
          0.40134670619893853,
          0.4029228253516858,
          0.40449468138147193,
          0.4060621797573587,
          0.40762522136117796,
          0.40918370217729294,
          0.4107375129544716,
          0.4122865388367438,
          0.4138306589596852,
          0.41536974600808063,
          0.4169036657303453,
          0.4184322764044123,
          0.419955428249013,
          0.4214729627733534,
          0.422984712057105,
          0.424490497951342,
          0.42599013118952933,
          0.42748341039584226,
          0.42897012097591314,
          0.43045003387247194,
          0.43192290416516455,
          0.4333884694899664,
          0.434846448248884,
          0.4362965375748316,
          0.43773841100939126,
          0.4391717158422431,
          0.4405960700498777,
          0.44201105875711433,
          0.4434162301270633,
          0.44481109056225965,
          0.44619509907012267,
          0.4475676606073629,
          0.4489281181672463,
          0.450275743306202,
          0.4516097247155725,
          0.4529291543208127,
          0.4542330102200187,
          0.4555201355349823,
          0.45678921190827876,
          0.45803872588781386,
          0.45926692571330185,
          0.4604717649215139,
          0.461650827488735,
          0.4628012265272786,
          0.4639194641182588,
          0.4650012323153457,
          0.466041121957488,
          0.46703218094185,
          0.4679652141553427,
          0.46882761202180034,
          0.4696012492940637,
          0.4702583518657976,
          0.470752241678165,
          0.47099205619736534,
          0.47074363129308644,
          0.46754838848712865,
          0.46754838848712865,
          0.46072318949879915,
          0.4568448084121485,
          0.4534546667489772,
          0.4503186003789729,
          0.44734574676833505,
          0.4444894278582267,
          0.44172186954231263,
          0.4390249465734336,
          0.4363860493754241,
          0.4337959828351946,
          0.4312477948499097,
          0.4287360762585183,
          0.4262565191146901,
          0.4238056254995395,
          0.42138050852537995,
          0.4189787521684962,
          0.4165983099656596,
          0.41423743015658443,
          0.41189459928917616,
          0.40956849900601044,
          0.40725797242887896,
          0.4049619976558778,
          0.4026796666124618,
          0.4004101679899735,
          0.398152773344842,
          0.3959068256703333,
          0.39367172992315785,
          0.3914469451107353,
          0.38923197763560025,
          0.387026375660863,
          0.3848297243113432,
          0.3826416415635311,
          0.380461774707107,
          0.3782897972836531,
          0.37612540642608316,
          0.37396832053640405,
          0.37181827725059113,
          0.3696750316482903,
          0.36753835467223145,
          0.3654080317280472,
          0.36328386143991254,
          0.36116565454129235,
          0.3590532328832611,
          0.35694642854548997,
          0.3548450830371852,
          0.3527490465770782,
          0.350658177443102,
          0.34857234138367177,
          0.3464914110835722,
          0.3444152656783791,
          0.34234379031212236,
          0.34027687573356996,
          0.3382144179270852,
          0.33615631777449956,
          0.33410248074487503,
          0.33205281660938735,
          0.33000723917888936,
          0.32796566606198485,
          0.32592801844168584,
          0.32389422086893693,
          0.32186420107147695,
          0.31983788977666544,
          0.3178152205470496,
          0.3157961296275682,
          0.31378055580340436,
          0.3117684402675926,
          0.3097597264975783,
          0.3077543601399998,
          0.30575228890303624,
          0.30375346245572427,
          0.30175783233370207,
          0.2997653518508877,
          0.2977759760166441,
          0.295789661458022,
          0.293806366346708,
          0.2918260503303358,
          0.28984867446785056,
          0.2878742011686386,
          0.2859025941351619,
          0.28393381830885617,
          0.28196783981907103,
          0.28000462593484876,
          0.2780441450193546,
          0.2760863664867851,
          0.27413126076159433,
          0.2721787992398929,
          0.2702289542528795,
          0.26828169903218246,
          0.266337007676992,
          0.2643948551228752,
          0.26245521711217445,
          0.260518070165893,
          0.2585833915569836,
          0.2566511592849579,
          0.2547213520517415,
          0.2527939492387046,
          0.250868930884803,
          0.24894627766576885,
          0.2470259708742929,
          0.24510799240114678,
          0.24319232471719432,
          0.24127895085624584,
          0.23936785439871233,
          0.23745901945601813,
          0.2355524306557339,
          0.23364807312739513,
          0.23174593248897135,
          0.2298459948339554,
          0.22794824671904276,
          0.22605267515237382,
          0.2241592675823124,
          0.22226801188673592,
          0.22037889636281546,
          0.2184919097172623,
          0.21660704105702178,
          0.2147242798803954,
          0.21284361606857236,
          0.21096503987755383,
          0.209088541930455,
          0.20721411321016842,
          0.20534174505237518,
          0.2034714291388913,
          0.20160315749133553,
          0.19973692246510755,
          0.1978727167436659,
          0.19601053333309434,
          0.19415036555694704,
          0.19229220705136454,
          0.1904360517604502,
          0.1885818939319002,
          0.18672972811287927,
          0.184879549146135,
          0.18303135216634384,
          0.1811851325966835,
          0.17934088614562496,
          0.1774986088039393,
          0.1756582968419144,
          0.17381994680677704,
          0.17198355552031577,
          0.17014912007670097,
          0.16831663784049872,
          0.16648610644487516,
          0.164657523789988,
          0.16283088804156365,
          0.1610061976296569,
          0.15918345124759098,
          0.1573626478510775,
          0.15554378665751364,
          0.1537268671454559,
          0.15191188905427003,
          0.1500988523839561,
          0.14828775739514827,
          0.14647860460929002,
          0.14467139480898422,
          0.1428661290385193,
          0.1410628086045719,
          0.13926143507708738,
          0.13746201029033928,
          0.13566453634416975,
          0.13386901560541284,
          0.13207545070950244,
          0.1302838445622681,
          0.12849420034192127,
          0.1267065215012353,
          0.1249208117699221,
          0.1231370751572107,
          0.12135531595463016,
          0.11957553873900276,
          0.11779774837565195,
          0.11602195002183027,
          0.11424814913037291,
          0.11247635145358367,
          0.11070656304735928,
          0.10893879027555918,
          0.10717303981462908,
          0.10540931865848537,
          0.10364763412366947,
          0.10188799385478163,
          0.10013040583020315,
          0.09837487836811805,
          0.09662142013284514,
          0.09487004014149199,
          0.09312074777094337,
          0.091373552765198,
          0.08962846524306678,
          0.08788549570624829,
          0.08614465504779703,
          0.08440595456100175,
          0.08266940594869156,
          0.08093502133298873,
          0.07920281326552965,
          0.07747279473817395,
          0.07574497919422603,
          0.07401938054019308,
          0.07229601315810556,
          0.07057489191842811,
          0.0688560321935899,
          0.06713944987216666,
          0.06542516137374746,
          0.06371318366452186,
          0.062003534273626065,
          0.06029623131028855,
          0.05859129348181835,
          0.056888740112483654,
          0.05518859116332833,
          0.0534908672529823,
          0.05179558967952003,
          0.05010278044342978,
          0.04841246227175883,
          0.046724658643503836,
          0.04503939381632266,
          0.043356692854647966,
          0.04167658165928967,
          0.039999086998619426,
          0.038324236541438406,
          0.03665205889163631,
          0.03498258362475873,
          0.03331584132660925,
          0.031651863634022726,
          0.02999068327795673,
          0.028332334129061748,
          0.026676851245902078,
          0.025024270926015613,
          0.023374630760016057,
          0.02172796968895835,
          0.020084328065208684,
          0.018443747717080655,
          0.016806272017523383,
          0.015171945957173832,
          0.01354081622211406,
          0.011912931276705924,
          0.010288341451912736,
          0.008667099039555315,
          0.007049258392995333,
          0.005434876034787539,
          0.003824010771897174,
          0.002216723819141342,
          0.0006130789315811069,
          -0.0009868574533306307,
          -0.002583016062953414,
          -0.0041753246250259834,
          -0.005763707690493253,
          -0.007348086442366952,
          -0.008928378489250988,
          -0.010504497641998206,
          -0.012076353671784362,
          -0.013643852047671129,
          -0.015206893651490444,
          -0.016765374467605426,
          -0.018319185244784042,
          -0.01986821112705625,
          -0.02141233124999764,
          -0.022951418298393145,
          -0.024485338020657804,
          -0.02601394869472476,
          -0.027537100539325426,
          -0.029054635063665846,
          -0.030566384347417402,
          -0.03207217024165443,
          -0.033571803479841816,
          -0.035065082686154686,
          -0.03655179326622557,
          -0.038031706162784396,
          -0.039504576455477,
          -0.04097014178027883,
          -0.04242812053919648,
          -0.04387820986514407,
          -0.04532008329970369,
          -0.04675338813255561,
          -0.048177742340190094,
          -0.04959273104742676,
          -0.05099790241737584,
          -0.05239276285257208,
          -0.0537767713604351,
          -0.055149332897675374,
          -0.05650979045755872,
          -0.05785741559651447,
          -0.05919139700588494,
          -0.06051082661112517,
          -0.061814682510331176,
          -0.06310180782529473,
          -0.06437088419859122,
          -0.06562039817812632,
          -0.06684859800361426,
          -0.06805343721182638,
          -0.06923249977904744,
          -0.07038289881759108,
          -0.07150113640857125,
          -0.07258290460565814,
          -0.07362279424780038,
          -0.07461385323216252,
          -0.07554688644565516,
          -0.0764092843121128,
          -0.07718292158437617,
          -0.07784002415611008,
          -0.07833391396847744,
          -0.07857372848767785,
          -0.0783253035833989,
          -0.07513006077744111
         ]
        },
        {
         "line": {
          "color": "#7CCFF2",
          "dash": "solid",
          "width": 1
         },
         "marker": {
          "color": [
           "#7CCFF2",
           "#FFF"
          ],
          "line": {
           "color": "#7CCFF2",
           "width": 2
          },
          "size": 8
         },
         "mode": "markers+lines",
         "name": "IMAGE 3.2",
         "showlegend": false,
         "type": "scatter",
         "x": [
          0.24911576887452047,
          1.5367271820502952
         ],
         "y": [
          0.21474773609314357,
          0.30428863172226006
         ]
        },
        {
         "line": {
          "color": "#F198C1",
          "dash": "solid",
          "width": 1
         },
         "marker": {
          "color": [
           "#F198C1",
           "#FFF"
          ],
          "line": {
           "color": "#F198C1",
           "width": 2
          },
          "size": 8
         },
         "mode": "markers+lines",
         "name": "MESSAGEix-GLOBIOM_1.2",
         "showlegend": false,
         "type": "scatter",
         "x": [
          null,
          null
         ],
         "y": [
          null,
          null
         ]
        },
        {
         "line": {
          "color": "#78CBBF",
          "dash": "solid",
          "width": 1
         },
         "marker": {
          "color": [
           "#78CBBF",
           "#FFF"
          ],
          "line": {
           "color": "#78CBBF",
           "width": 2
          },
          "size": 8
         },
         "mode": "markers+lines",
         "name": "PROMETHEUS 1.2",
         "showlegend": false,
         "type": "scatter",
         "x": [
          0.3562760383039142,
          null
         ],
         "y": [
          0.05511398736049078,
          null
         ]
        },
        {
         "line": {
          "color": "#3F1464",
          "dash": "solid",
          "width": 1
         },
         "marker": {
          "color": [
           "#3F1464",
           "#FFF"
          ],
          "line": {
           "color": "#3F1464",
           "width": 2
          },
          "size": 8
         },
         "mode": "markers+lines",
         "name": "REMIND 2.1",
         "showlegend": false,
         "type": "scatter",
         "x": [
          0.9175938738408546,
          1.55775315857557
         ],
         "y": [
          0.3315002303071175,
          0.24274795057463905
         ]
        },
        {
         "line": {
          "color": "#00AEEF",
          "dash": "solid",
          "width": 1
         },
         "marker": {
          "color": [
           "#00AEEF",
           "#FFF"
          ],
          "line": {
           "color": "#00AEEF",
           "width": 2
          },
          "size": 8
         },
         "mode": "markers+lines",
         "name": "TIAM-ECN 1.2",
         "showlegend": false,
         "type": "scatter",
         "x": [
          null,
          null
         ],
         "y": [
          null,
          null
         ]
        },
        {
         "line": {
          "color": "#0071BB",
          "dash": "solid",
          "width": 1
         },
         "marker": {
          "color": [
           "#0071BB",
           "#FFF"
          ],
          "line": {
           "color": "#0071BB",
           "width": 2
          },
          "size": 8
         },
         "mode": "markers+lines",
         "name": "WITCH 5.0",
         "showlegend": false,
         "type": "scatter",
         "x": [
          0.42918395160625966,
          1.3482705427187294
         ],
         "y": [
          0.20737862821875863,
          0.0415909092676322
         ]
        },
        {
         "line": {
          "color": "#511607",
          "dash": "solid",
          "width": 1
         },
         "marker": {
          "color": [
           "#511607",
           "#FFF"
          ],
          "line": {
           "color": "#511607",
           "width": 2
          },
          "size": 8
         },
         "mode": "markers+lines",
         "name": "Euro-Calliope 2.0",
         "showlegend": false,
         "type": "scatter",
         "x": [
          null,
          null
         ],
         "y": [
          null,
          null
         ]
        },
        {
         "line": {
          "color": "#bc7fcd",
          "dash": "solid",
          "width": 1
         },
         "marker": {
          "color": [
           "#bc7fcd",
           "#FFF"
          ],
          "line": {
           "color": "#bc7fcd",
           "width": 2
          },
          "size": 8
         },
         "mode": "markers+lines",
         "name": "MEESA v1.1",
         "showlegend": false,
         "type": "scatter",
         "x": [
          null,
          null
         ],
         "y": [
          null,
          null
         ]
        },
        {
         "line": {
          "color": "#B6036C",
          "dash": "solid",
          "width": 1
         },
         "marker": {
          "color": [
           "#B6036C",
           "#FFF"
          ],
          "line": {
           "color": "#B6036C",
           "width": 2
          },
          "size": 8
         },
         "mode": "markers+lines",
         "name": "OSeMBE v1.0.0",
         "showlegend": false,
         "type": "scatter",
         "x": [
          null,
          null
         ],
         "y": [
          null,
          null
         ]
        },
        {
         "legendgroup": "Age",
         "marker": {
          "color": "black",
          "size": 8,
          "symbol": "star"
         },
         "mode": "markers",
         "name": "Newest",
         "type": "scatter",
         "x": [
          null
         ],
         "y": [
          null
         ]
        },
        {
         "legendgroup": "Age",
         "marker": {
          "color": "black",
          "size": 4,
          "symbol": "circle"
         },
         "mode": "markers",
         "name": "Older version",
         "type": "scatter",
         "x": [
          null
         ],
         "y": [
          null
         ]
        },
        {
         "fill": "toself",
         "fillcolor": "rgba(0,0,0,.1)",
         "line": {
          "width": 0
         },
         "mode": "lines",
         "name": "16-84th perc.",
         "type": "scatter",
         "x": [
          0.8444643740571076,
          0.8444643740571076,
          0.9365081594669324,
          0.9365081594669324
         ],
         "xaxis": "x2",
         "y": [
          -1,
          8,
          8,
          -1
         ],
         "yaxis": "y2"
        },
        {
         "line": {
          "color": "#888",
          "width": 2
         },
         "mode": "lines",
         "name": "Median",
         "type": "scatter",
         "x": [
          0.8651775612128282,
          0.8651775612128282
         ],
         "xaxis": "x2",
         "y": [
          -1,
          8
         ],
         "yaxis": "y2"
        },
        {
         "marker": {
          "color": "#511607",
          "line": {
           "color": "#FFF",
           "width": 1
          },
          "opacity": 1,
          "size": [
           12
          ],
          "symbol": [
           "star"
          ]
         },
         "mode": "markers",
         "showlegend": false,
         "type": "scatter",
         "x": [
          null
         ],
         "xaxis": "x2",
         "y": [
          0
         ],
         "yaxis": "y2"
        },
        {
         "line": {
          "color": "#511607",
          "width": 3
         },
         "mode": "lines",
         "showlegend": false,
         "type": "scatter",
         "x": [
          0.7072092773719818,
          0.7275130535653255
         ],
         "xaxis": "x2",
         "y": [
          0,
          0
         ],
         "yaxis": "y2"
        },
        {
         "marker": {
          "color": "#bc7fcd",
          "line": {
           "color": "#FFF",
           "width": 1
          },
          "opacity": 1,
          "size": [
           12
          ],
          "symbol": [
           "star"
          ]
         },
         "mode": "markers",
         "showlegend": false,
         "type": "scatter",
         "x": [
          null
         ],
         "xaxis": "x2",
         "y": [
          1
         ],
         "yaxis": "y2"
        },
        {
         "line": {
          "color": "#bc7fcd",
          "width": 3
         },
         "mode": "lines",
         "showlegend": false,
         "type": "scatter",
         "x": [
          0.7072092773719818,
          0.7275130535653255
         ],
         "xaxis": "x2",
         "y": [
          1,
          1
         ],
         "yaxis": "y2"
        },
        {
         "marker": {
          "color": "#B6036C",
          "line": {
           "color": "#FFF",
           "width": 1
          },
          "opacity": 1,
          "size": [
           12
          ],
          "symbol": [
           "star"
          ]
         },
         "mode": "markers",
         "showlegend": false,
         "type": "scatter",
         "x": [
          null
         ],
         "xaxis": "x2",
         "y": [
          2
         ],
         "yaxis": "y2"
        },
        {
         "line": {
          "color": "#B6036C",
          "width": 3
         },
         "mode": "lines",
         "showlegend": false,
         "type": "scatter",
         "x": [
          0.7072092773719818,
          0.7275130535653255
         ],
         "xaxis": "x2",
         "y": [
          2,
          2
         ],
         "yaxis": "y2"
        },
        {
         "marker": {
          "color": "#F198C1",
          "line": {
           "color": "#FFF",
           "width": 1
          },
          "opacity": 1,
          "size": [
           12
          ],
          "symbol": [
           "star"
          ]
         },
         "mode": "markers",
         "showlegend": false,
         "type": "scatter",
         "x": [
          null
         ],
         "xaxis": "x2",
         "y": [
          3
         ],
         "yaxis": "y2"
        },
        {
         "line": {
          "color": "#F198C1",
          "width": 3
         },
         "mode": "lines",
         "showlegend": false,
         "type": "scatter",
         "x": [
          0.7072092773719818,
          0.7275130535653255
         ],
         "xaxis": "x2",
         "y": [
          3,
          3
         ],
         "yaxis": "y2"
        },
        {
         "marker": {
          "color": "#3F1464",
          "line": {
           "color": "#FFF",
           "width": 1
          },
          "opacity": 1,
          "size": [
           12
          ],
          "symbol": [
           "star"
          ]
         },
         "mode": "markers",
         "showlegend": false,
         "type": "scatter",
         "x": [
          0.8651775612128282
         ],
         "xaxis": "x2",
         "y": [
          4
         ],
         "yaxis": "y2"
        },
        {
         "line": {
          "color": "#3F1464",
          "width": 3
         },
         "mode": "lines",
         "showlegend": false,
         "type": "scatter",
         "x": [
          0.7072092773719818,
          0.7275130535653255
         ],
         "xaxis": "x2",
         "y": [
          4,
          4
         ],
         "yaxis": "y2"
        },
        {
         "marker": {
          "color": "#0071BB",
          "line": {
           "color": "#FFF",
           "width": 1
          },
          "opacity": 1,
          "size": [
           12
          ],
          "symbol": [
           "star"
          ]
         },
         "mode": "markers",
         "showlegend": false,
         "type": "scatter",
         "x": [
          0.9700754998218051
         ],
         "xaxis": "x2",
         "y": [
          5
         ],
         "yaxis": "y2"
        },
        {
         "line": {
          "color": "#0071BB",
          "width": 3
         },
         "mode": "lines",
         "showlegend": false,
         "type": "scatter",
         "x": [
          0.7072092773719818,
          0.7275130535653255
         ],
         "xaxis": "x2",
         "y": [
          5,
          5
         ],
         "yaxis": "y2"
        },
        {
         "marker": {
          "color": "#00AEEF",
          "line": {
           "color": "#FFF",
           "width": 1
          },
          "opacity": 1,
          "size": [
           12
          ],
          "symbol": [
           "star"
          ]
         },
         "mode": "markers",
         "showlegend": false,
         "type": "scatter",
         "x": [
          null
         ],
         "xaxis": "x2",
         "y": [
          6
         ],
         "yaxis": "y2"
        },
        {
         "line": {
          "color": "#00AEEF",
          "width": 3
         },
         "mode": "lines",
         "showlegend": false,
         "type": "scatter",
         "x": [
          0.7072092773719818,
          0.7275130535653255
         ],
         "xaxis": "x2",
         "y": [
          6,
          6
         ],
         "yaxis": "y2"
        },
        {
         "marker": {
          "color": "#7CCFF2",
          "line": {
           "color": "#FFF",
           "width": 1
          },
          "opacity": 1,
          "size": [
           12
          ],
          "symbol": [
           "star"
          ]
         },
         "mode": "markers",
         "showlegend": false,
         "type": "scatter",
         "x": [
          0.8347169918661803
         ],
         "xaxis": "x2",
         "y": [
          7
         ],
         "yaxis": "y2"
        },
        {
         "line": {
          "color": "#7CCFF2",
          "width": 3
         },
         "mode": "lines",
         "showlegend": false,
         "type": "scatter",
         "x": [
          0.7072092773719818,
          0.7275130535653255
         ],
         "xaxis": "x2",
         "y": [
          7,
          7
         ],
         "yaxis": "y2"
        },
        {
         "line": {
          "color": "#999"
         },
         "mode": "lines",
         "showlegend": false,
         "type": "scatter",
         "x": [
          0.9768434252195863,
          0.9809041804582551,
          0.9809041804582551,
          0.9768434252195863
         ],
         "xaxis": "x2",
         "y": [
          -0.3,
          -0.3,
          2.3,
          2.3
         ],
         "yaxis": "y2"
        },
        {
         "line": {
          "color": "#999"
         },
         "mode": "lines",
         "showlegend": false,
         "type": "scatter",
         "x": [
          0.9768434252195863,
          0.9809041804582551,
          0.9809041804582551,
          0.9768434252195863
         ],
         "xaxis": "x2",
         "y": [
          2.7,
          2.7,
          5.3,
          5.3
         ],
         "yaxis": "y2"
        },
        {
         "line": {
          "color": "#999"
         },
         "mode": "lines",
         "showlegend": false,
         "type": "scatter",
         "x": [
          0.9768434252195863,
          0.9809041804582551,
          0.9809041804582551,
          0.9768434252195863
         ],
         "xaxis": "x2",
         "y": [
          5.7,
          5.7,
          6.3,
          6.3
         ],
         "yaxis": "y2"
        },
        {
         "line": {
          "color": "#999"
         },
         "mode": "lines",
         "showlegend": false,
         "type": "scatter",
         "x": [
          0.9768434252195863,
          0.9809041804582551,
          0.9809041804582551,
          0.9768434252195863
         ],
         "xaxis": "x2",
         "y": [
          6.7,
          6.7,
          7.3,
          7.3
         ],
         "yaxis": "y2"
        },
        {
         "line": {
          "color": "#DDD",
          "dash": "dot"
         },
         "mode": "lines",
         "showlegend": false,
         "type": "scatter",
         "x": [
          0,
          0.449
         ],
         "y": [
          0,
          0.449
         ]
        }
       ],
       "layout": {
        "annotations": [
         {
          "font": {
           "size": 16
          },
          "showarrow": false,
          "text": "<b>a.</b> Energy Intensity vs Carbon Intensity<br> ",
          "x": 0.196,
          "xanchor": "center",
          "xref": "paper",
          "y": 1,
          "yanchor": "bottom",
          "yref": "paper"
         },
         {
          "font": {
           "size": 16
          },
          "showarrow": false,
          "text": "<b>b.</b> ERT per model (2100)<br> ",
          "x": 0.706,
          "xanchor": "center",
          "xref": "paper",
          "y": 1,
          "yanchor": "bottom",
          "yref": "paper"
         },
         {
          "font": {
           "color": "#999"
          },
          "showarrow": false,
          "text": "2050",
          "x": 1.0795653830027445,
          "y": -0.02449153245257138
         },
         {
          "font": {
           "color": "#999"
          },
          "showarrow": false,
          "text": "2100",
          "x": 1.7116243008233087,
          "y": -0.07857372848767785
         },
         {
          "bgcolor": "#FFF",
          "showarrow": false,
          "text": "Euro-Calliope 2.0",
          "x": 0.7275130535653255,
          "xanchor": "left",
          "xref": "x2",
          "y": 0,
          "yref": "y2"
         },
         {
          "bgcolor": "#FFF",
          "showarrow": false,
          "text": "MEESA v1.1",
          "x": 0.7275130535653255,
          "xanchor": "left",
          "xref": "x2",
          "y": 1,
          "yref": "y2"
         },
         {
          "bgcolor": "#FFF",
          "showarrow": false,
          "text": "OSeMBE v1.0.0",
          "x": 0.7275130535653255,
          "xanchor": "left",
          "xref": "x2",
          "y": 2,
          "yref": "y2"
         },
         {
          "bgcolor": "#FFF",
          "showarrow": false,
          "text": "MESSAGEix-GLOBIOM_1.2",
          "x": 0.7275130535653255,
          "xanchor": "left",
          "xref": "x2",
          "y": 3,
          "yref": "y2"
         },
         {
          "bgcolor": "#FFF",
          "showarrow": false,
          "text": "REMIND 2.1",
          "x": 0.7275130535653255,
          "xanchor": "left",
          "xref": "x2",
          "y": 4,
          "yref": "y2"
         },
         {
          "bgcolor": "#FFF",
          "showarrow": false,
          "text": "WITCH 5.0",
          "x": 0.7275130535653255,
          "xanchor": "left",
          "xref": "x2",
          "y": 5,
          "yref": "y2"
         },
         {
          "bgcolor": "#FFF",
          "showarrow": false,
          "text": "TIAM-ECN 1.2",
          "x": 0.7275130535653255,
          "xanchor": "left",
          "xref": "x2",
          "y": 6,
          "yref": "y2"
         },
         {
          "bgcolor": "#FFF",
          "showarrow": false,
          "text": "IMAGE 3.2",
          "x": 0.7275130535653255,
          "xanchor": "left",
          "xref": "x2",
          "y": 7,
          "yref": "y2"
         },
         {
          "bgcolor": "#FFF",
          "showarrow": false,
          "text": "?",
          "textangle": 90,
          "x": 0.9819193692679222,
          "xanchor": "left",
          "xref": "x2",
          "y": 1,
          "yanchor": "middle",
          "yref": "y2"
         },
         {
          "bgcolor": "#FFF",
          "showarrow": false,
          "text": "GE-IT",
          "textangle": 90,
          "x": 0.9819193692679222,
          "xanchor": "left",
          "xref": "x2",
          "y": 4,
          "yanchor": "middle",
          "yref": "y2"
         },
         {
          "bgcolor": "#FFF",
          "showarrow": false,
          "text": "PE-IT",
          "textangle": 90,
          "x": 0.9819193692679222,
          "xanchor": "left",
          "xref": "x2",
          "y": 6,
          "yanchor": "middle",
          "yref": "y2"
         },
         {
          "bgcolor": "#FFF",
          "showarrow": false,
          "text": "PE-RD",
          "textangle": 90,
          "x": 0.9819193692679222,
          "xanchor": "left",
          "xref": "x2",
          "y": 7,
          "yanchor": "middle",
          "yref": "y2"
         },
         {
          "align": "right",
          "arrowside": "start",
          "ax": -65,
          "ay": 0,
          "showarrow": true,
          "text": "More via demand red.",
          "width": 130,
          "x": 0.8651775612128282,
          "xanchor": "center",
          "xref": "x2",
          "xshift": -5,
          "y": -0.08,
          "yanchor": "top",
          "yref": "paper"
         },
         {
          "align": "left",
          "arrowside": "start",
          "ax": 65,
          "ay": 0,
          "showarrow": true,
          "text": "More via decarbon.",
          "width": 130,
          "x": 0.8651775612128282,
          "xanchor": "center",
          "xref": "x2",
          "xshift": 5,
          "y": -0.08,
          "yanchor": "top",
          "yref": "paper"
         },
         {
          "font": {
           "color": "#888"
          },
          "showarrow": false,
          "text": "Demand red. dominant",
          "textangle": -75,
          "x": 0.35,
          "xshift": -12,
          "y": 0.35
         },
         {
          "font": {
           "color": "#888"
          },
          "showarrow": false,
          "text": "Decarb. dominant",
          "textangle": -75,
          "x": 0.35,
          "xshift": 10,
          "y": 0.35
         }
        ],
        "height": 400,
        "hovermode": "closest",
        "legend": {
         "tracegroupgap": 0,
         "y": 0.5
        },
        "margin": {
         "b": 70,
         "l": 60,
         "r": 30,
         "t": 50
        },
        "template": {
         "data": {
          "scatter": [
           {
            "type": "scatter"
           }
          ]
         }
        },
        "width": 860,
        "xaxis": {
         "anchor": "y",
         "domain": [
          0,
          0.392
         ],
         "gridcolor": "rgba(.2,.2,.2,.1)",
         "title": {
          "standoff": 40,
          "text": "Carbon intensity (red. from baseline)"
         }
        },
        "xaxis2": {
         "anchor": "y2",
         "domain": [
          0.41200000000000003,
          1
         ],
         "tickvals": [
          0.5,
          0.6,
          0.7,
          0.7999999999999999,
          0.8999999999999999
         ],
         "title": {
          "standoff": 40,
          "text": "CI over (EI+CI) (red. from baseline)"
         }
        },
        "yaxis": {
         "anchor": "x",
         "domain": [
          0,
          1
         ],
         "gridcolor": "rgba(.2,.2,.2,.1)",
         "range": [
          -0.0113,
          0.449
         ],
         "title": {
          "text": "Energy intensity (red. from baseline)"
         }
        },
        "yaxis2": {
         "anchor": "x2",
         "domain": [
          0,
          1
         ],
         "gridcolor": "rgba(.2,.2,.2,.1)",
         "range": [
          8,
          -1
         ],
         "showticklabels": false,
         "tickvals": [
          0,
          1,
          2,
          3,
          4,
          5,
          6,
          7
         ],
         "zeroline": false
        }
       }
      }
     },
     "metadata": {},
     "output_type": "display_data"
    }
   ],
   "source": [
    "def create_fig_CoEI(year: str, xrange=None, **kwargs):\n",
    "\n",
    "    fig_CoEI = make_subplots(1, 2, horizontal_spacing=0.02, column_widths=[0.4, 0.6], subplot_titles=(\n",
    "        '<b>a.</b> Energy Intensity vs Carbon Intensity<br> ', f'<b>b.</b> ERT per model ({year})<br> '\n",
    "    ))\n",
    "\n",
    "    ##############\n",
    "    # 2a: CI vs EI scatter for C80-gr5 (2050 and 2100)\n",
    "    ############## \n",
    "\n",
    "    # Add background shape for 2050 and 2100\n",
    "    for col_CI, col_EI, col_year in [(col_CI_2050, col_EI_2050, 2050), (col_CI_2100, col_EI_2100, 2100)]:\n",
    "        selection = meta[~meta[[col_CI, col_EI]].isna().any(axis=1)]\n",
    "        x_ellipse, y_ellipse = confidence_ellipse(selection[col_CI], selection[col_EI], 2)\n",
    "        fig_CoEI.add_scatter(\n",
    "            x=x_ellipse, y=y_ellipse, fill='toself',\n",
    "            showlegend=False, fillcolor='rgba(0,0,0,.08)', line_width=0\n",
    "        )\n",
    "        fig_CoEI.add_annotation(\n",
    "            text=col_year, x=max(x_ellipse), y=min(y_ellipse),\n",
    "            font_color='#999', showarrow=False\n",
    "        )\n",
    "\n",
    "    # Create connected dots for 2050 and 2100 values\n",
    "    for is_newest, selection in meta.groupby('Newest'):\n",
    "        for model, info in selection.iterrows():\n",
    "            stripped_model = info['Stripped model']\n",
    "\n",
    "            if stripped_model not in models.index:\n",
    "                # Ignore entries that are not in `models`\n",
    "                continue\n",
    "\n",
    "            color = models.loc[stripped_model, 'Color'] if is_newest else '#BBB'\n",
    "\n",
    "            fig_CoEI.add_scatter(\n",
    "                x=info[[col_CI_2050, col_CI_2100]], y=info[[col_EI_2050, col_EI_2100]],\n",
    "                marker={'color': [color, '#FFF'], 'size': 8, 'line': {'color': color, 'width': 2}},\n",
    "                line={'color': color, 'width': 1, 'dash': 'solid'},\n",
    "                mode='markers+lines', name=stripped_model,\n",
    "                showlegend=False\n",
    "            )\n",
    "\n",
    "\n",
    "\n",
    "\n",
    "\n",
    "    ##############\n",
    "    # 2b: CoEI\n",
    "    ##############\n",
    "    \n",
    "    add_model_comparison(\n",
    "        fig_CoEI, 2, f'CoEI {year}',\n",
    "        narrative_left='More via demand red.', narrative_right='More via decarbon.',\n",
    "        labelshift=1.2, **kwargs\n",
    "    )\n",
    "\n",
    "    fig_CoEI.add_scatter(\n",
    "        x=[0,0.4490], y=[0,0.4490], showlegend=False,\n",
    "        mode='lines', line={'dash': 'dot', 'color': '#DDD'}\n",
    "    ).add_annotation(\n",
    "        x=0.35, y=0.35, showarrow=False, textangle=-75,\n",
    "        text='Demand red. dominant', xshift=-12, font_color='#888'\n",
    "    ).add_annotation(\n",
    "        x=0.35, y=0.35, showarrow=False, textangle=-75,\n",
    "        text='Decarb. dominant', xshift=10, font_color='#888'\n",
    "    )\n",
    "\n",
    "\n",
    "    # Update layout\n",
    "    (\n",
    "        fig_CoEI\n",
    "        .update_xaxes(\n",
    "            col=1,\n",
    "            gridcolor=gridcolor,\n",
    "            title='Carbon intensity (red. from baseline)',\n",
    "            title_standoff=40\n",
    "        )\n",
    "        .update_yaxes(\n",
    "            col=1,\n",
    "            gridcolor=gridcolor,\n",
    "            title='Energy intensity (red. from baseline)',\n",
    "            range=[-0.0113, 0.4490]\n",
    "        )\n",
    "        .update_xaxes(\n",
    "            col=2,\n",
    "            tickvals=np.arange(0.5, 0.901, 0.1),\n",
    "            range=xrange,\n",
    "            title='CI over (EI+CI) (red. from baseline)',\n",
    "            title_standoff=40\n",
    "        )\n",
    "        .update_layout(\n",
    "            width=860,\n",
    "            height=400,\n",
    "            margin={'l': 60, 'r': 30, 't': 50, 'b': 70},\n",
    "            hovermode='closest'\n",
    "        )\n",
    "    )\n",
    "    \n",
    "    return fig_CoEI"
   ]
  },
  {
   "cell_type": "markdown",
   "metadata": {},
   "source": [
    "## Transformation: % fossil fuel reduction"
   ]
  },
  {
   "cell_type": "markdown",
   "metadata": {},
   "source": [
    "$$\\text{FFR}(t)=\\frac{\\text{Prim.energy}_\\text{fossil}(2020) - \\text{Prim.energy}_\\text{fossil, pol}(t)}{\\text{Prim.energy}_\\text{fossil}(2020)}$$"
   ]
  },
  {
   "cell_type": "code",
   "execution_count": null,
   "metadata": {},
   "outputs": [],
   "source": [
    "def calc_fossil_fuel_reduction(data, year, pol, base='diag-base', var='Primary Energy|Fossil'):\n",
    "    \n",
    "    prim_energy_fossil_2020 = get(data, base, var, '2020')\n",
    "    prim_energy_fossil_pol  = get(data, pol, var, year)\n",
    "    \n",
    "    return (prim_energy_fossil_2020 - prim_energy_fossil_pol) / prim_energy_fossil_2020"
   ]
  },
  {
   "cell_type": "code",
   "execution_count": null,
   "metadata": {
    "scrolled": false
   },
   "outputs": [
    {
     "data": {
      "application/vnd.plotly.v1+json": {
       "config": {
        "plotlyServerURL": "https://plot.ly"
       },
       "data": [
        {
         "marker": {
          "color": "#d62728"
         },
         "name": "Primary Energy|Biomass",
         "orientation": "h",
         "showlegend": false,
         "type": "bar",
         "x": [
          null,
          null,
          null,
          32.10756818547944,
          4.5904,
          21.5979817089513,
          47.7,
          36.84,
          34.424336283564806
         ],
         "y": [
          0,
          1,
          2,
          3,
          4,
          5,
          6,
          7,
          8
         ]
        },
        {
         "marker": {
          "color": "#d67a7a"
         },
         "name": "Primary Energy|Biomass",
         "orientation": "h",
         "showlegend": false,
         "type": "bar",
         "x": [
          null,
          null,
          null,
          7.074859093761619,
          1.9708,
          0.259939429546207,
          null,
          null,
          6.329783960087887
         ],
         "y": [
          0,
          1,
          2,
          3,
          4,
          5,
          6,
          7,
          8
         ]
        },
        {
         "marker": {
          "color": "#ff7f0e"
         },
         "name": "Primary Energy|Biomass",
         "orientation": "h",
         "showlegend": false,
         "type": "bar",
         "x": [
          null,
          null,
          null,
          2.55208602040592,
          0.6532,
          2.87171469890232,
          2,
          2.14,
          3.050452658512078
         ],
         "y": [
          0,
          1,
          2,
          3,
          4,
          5,
          6,
          7,
          8
         ]
        },
        {
         "marker": {
          "color": "#2ca02c"
         },
         "name": "Primary Energy|Biomass",
         "orientation": "h",
         "showlegend": false,
         "type": "bar",
         "x": [
          null,
          null,
          null,
          5.64244978270975,
          7.8474,
          1.6021300363378002,
          9.7,
          null,
          10.396770330256455
         ],
         "y": [
          0,
          1,
          2,
          3,
          4,
          5,
          6,
          7,
          8
         ]
        },
        {
         "marker": {
          "color": "#96d096"
         },
         "name": "Primary Energy|Biomass",
         "orientation": "h",
         "showlegend": false,
         "type": "bar",
         "x": [
          null,
          null,
          null,
          null,
          null,
          null,
          null,
          null,
          null
         ],
         "y": [
          0,
          1,
          2,
          3,
          4,
          5,
          6,
          7,
          8
         ]
        },
        {
         "marker": {
          "color": "#1f77b4"
         },
         "name": "Primary Energy|Biomass",
         "orientation": "h",
         "showlegend": false,
         "type": "bar",
         "x": [
          null,
          null,
          null,
          18.05335760318693,
          17.0705,
          19.2010763096726,
          null,
          6.73,
          8.399373230724796
         ],
         "y": [
          0,
          1,
          2,
          3,
          4,
          5,
          6,
          7,
          8
         ]
        },
        {
         "legendgroup": "Age",
         "marker": {
          "color": "black",
          "size": 8,
          "symbol": "star"
         },
         "mode": "markers",
         "name": "Newest",
         "type": "scatter",
         "x": [
          null
         ],
         "y": [
          null
         ]
        },
        {
         "legendgroup": "Age",
         "marker": {
          "color": "black",
          "size": 4,
          "symbol": "circle"
         },
         "mode": "markers",
         "name": "Older version",
         "type": "scatter",
         "x": [
          null
         ],
         "y": [
          null
         ]
        },
        {
         "fill": "toself",
         "fillcolor": "rgba(0,0,0,.1)",
         "line": {
          "width": 0
         },
         "mode": "lines",
         "name": "16-84th perc.",
         "type": "scatter",
         "x": [
          0.2252459721498204,
          0.2252459721498204,
          0.6801025387075917,
          0.6801025387075917
         ],
         "xaxis": "x2",
         "y": [
          -1,
          9,
          9,
          -1
         ],
         "yaxis": "y2"
        },
        {
         "line": {
          "color": "#888",
          "width": 2
         },
         "mode": "lines",
         "name": "Median",
         "type": "scatter",
         "x": [
          0.3923313175401997,
          0.3923313175401997
         ],
         "xaxis": "x2",
         "y": [
          -1,
          9
         ],
         "yaxis": "y2"
        },
        {
         "marker": {
          "color": "#511607",
          "line": {
           "color": "#FFF",
           "width": 1
          },
          "opacity": 1,
          "size": [
           12
          ],
          "symbol": [
           "star"
          ]
         },
         "mode": "markers",
         "showlegend": false,
         "type": "scatter",
         "x": [
          null
         ],
         "xaxis": "x2",
         "y": [
          0
         ],
         "yaxis": "y2"
        },
        {
         "marker": {
          "color": "#bc7fcd",
          "line": {
           "color": "#FFF",
           "width": 1
          },
          "opacity": 1,
          "size": [
           12
          ],
          "symbol": [
           "star"
          ]
         },
         "mode": "markers",
         "showlegend": false,
         "type": "scatter",
         "x": [
          null
         ],
         "xaxis": "x2",
         "y": [
          1
         ],
         "yaxis": "y2"
        },
        {
         "marker": {
          "color": "#B6036C",
          "line": {
           "color": "#FFF",
           "width": 1
          },
          "opacity": 1,
          "size": [
           12
          ],
          "symbol": [
           "star"
          ]
         },
         "mode": "markers",
         "showlegend": false,
         "type": "scatter",
         "x": [
          null
         ],
         "xaxis": "x2",
         "y": [
          2
         ],
         "yaxis": "y2"
        },
        {
         "marker": {
          "color": "#F198C1",
          "line": {
           "color": "#FFF",
           "width": 1
          },
          "opacity": 1,
          "size": [
           12
          ],
          "symbol": [
           "star"
          ]
         },
         "mode": "markers",
         "showlegend": false,
         "type": "scatter",
         "x": [
          null
         ],
         "xaxis": "x2",
         "y": [
          3
         ],
         "yaxis": "y2"
        },
        {
         "marker": {
          "color": "#3F1464",
          "line": {
           "color": "#FFF",
           "width": 1
          },
          "opacity": 1,
          "size": [
           12
          ],
          "symbol": [
           "star"
          ]
         },
         "mode": "markers",
         "showlegend": false,
         "type": "scatter",
         "x": [
          0.8491575416631224
         ],
         "xaxis": "x2",
         "y": [
          4
         ],
         "yaxis": "y2"
        },
        {
         "marker": {
          "color": "#0071BB",
          "line": {
           "color": "#FFF",
           "width": 1
          },
          "opacity": 1,
          "size": [
           12
          ],
          "symbol": [
           "star"
          ]
         },
         "mode": "markers",
         "showlegend": false,
         "type": "scatter",
         "x": [
          0.49695961883910017
         ],
         "xaxis": "x2",
         "y": [
          5
         ],
         "yaxis": "y2"
        },
        {
         "marker": {
          "color": "#00AEEF",
          "line": {
           "color": "#FFF",
           "width": 1
          },
          "opacity": 1,
          "size": [
           12
          ],
          "symbol": [
           "star"
          ]
         },
         "mode": "markers",
         "showlegend": false,
         "type": "scatter",
         "x": [
          null
         ],
         "xaxis": "x2",
         "y": [
          6
         ],
         "yaxis": "y2"
        },
        {
         "marker": {
          "color": "#7CCFF2",
          "line": {
           "color": "#FFF",
           "width": 1
          },
          "opacity": 1,
          "size": [
           12
          ],
          "symbol": [
           "star"
          ]
         },
         "mode": "markers",
         "showlegend": false,
         "type": "scatter",
         "x": [
          0.28770301624129924
         ],
         "xaxis": "x2",
         "y": [
          7
         ],
         "yaxis": "y2"
        },
        {
         "marker": {
          "color": "#78CBBF",
          "line": {
           "color": "#FFF",
           "width": 1
          },
          "opacity": 1,
          "size": [
           12
          ],
          "symbol": [
           "star"
          ]
         },
         "mode": "markers",
         "showlegend": false,
         "type": "scatter",
         "x": [
          0.16759331606537842
         ],
         "xaxis": "x2",
         "y": [
          8
         ],
         "yaxis": "y2"
        },
        {
         "line": {
          "color": "#999"
         },
         "mode": "lines",
         "showlegend": false,
         "type": "scatter",
         "x": [
          0.8832357529430096,
          0.903682679710942,
          0.903682679710942,
          0.8832357529430096
         ],
         "xaxis": "x2",
         "y": [
          -0.3,
          -0.3,
          2.3,
          2.3
         ],
         "yaxis": "y2"
        },
        {
         "line": {
          "color": "#999"
         },
         "mode": "lines",
         "showlegend": false,
         "type": "scatter",
         "x": [
          0.8832357529430096,
          0.903682679710942,
          0.903682679710942,
          0.8832357529430096
         ],
         "xaxis": "x2",
         "y": [
          2.7,
          2.7,
          5.3,
          5.3
         ],
         "yaxis": "y2"
        },
        {
         "line": {
          "color": "#999"
         },
         "mode": "lines",
         "showlegend": false,
         "type": "scatter",
         "x": [
          0.8832357529430096,
          0.903682679710942,
          0.903682679710942,
          0.8832357529430096
         ],
         "xaxis": "x2",
         "y": [
          5.7,
          5.7,
          6.3,
          6.3
         ],
         "yaxis": "y2"
        },
        {
         "line": {
          "color": "#999"
         },
         "mode": "lines",
         "showlegend": false,
         "type": "scatter",
         "x": [
          0.8832357529430096,
          0.903682679710942,
          0.903682679710942,
          0.8832357529430096
         ],
         "xaxis": "x2",
         "y": [
          6.7,
          6.7,
          8.3,
          8.3
         ],
         "yaxis": "y2"
        }
       ],
       "layout": {
        "annotations": [
         {
          "font": {
           "size": 16
          },
          "showarrow": false,
          "text": "<b>a.</b> Primary Energy decomposition (2050) <br> ",
          "x": 0.225,
          "xanchor": "center",
          "xref": "paper",
          "y": 1,
          "yanchor": "bottom",
          "yref": "paper"
         },
         {
          "font": {
           "size": 16
          },
          "showarrow": false,
          "text": "<b>b.</b> FFR per model (2050)<br> ",
          "x": 0.725,
          "xanchor": "center",
          "xref": "paper",
          "y": 1,
          "yanchor": "bottom",
          "yref": "paper"
         },
         {
          "align": "left",
          "showarrow": false,
          "text": "Fossil<br>w/o CCS",
          "x": -0.038571428571428576,
          "xanchor": "left",
          "xref": "paper",
          "y": -0.1,
          "yanchor": "top",
          "yref": "paper",
          "yshift": 12
         },
         {
          "align": "left",
          "showarrow": false,
          "text": "Fossil<br>w. CCS",
          "x": 0.05142857142857142,
          "xanchor": "left",
          "xref": "paper",
          "y": -0.1,
          "yanchor": "top",
          "yref": "paper",
          "yshift": 12
         },
         {
          "align": "left",
          "showarrow": false,
          "text": "Nuclear",
          "x": 0.14142857142857143,
          "xanchor": "left",
          "xref": "paper",
          "y": -0.1,
          "yanchor": "top",
          "yref": "paper",
          "yshift": 12
         },
         {
          "align": "left",
          "showarrow": false,
          "text": "Biomass<br>w/o CCS",
          "x": 0.24142857142857144,
          "xanchor": "left",
          "xref": "paper",
          "y": -0.1,
          "yanchor": "top",
          "yref": "paper",
          "yshift": 12
         },
         {
          "align": "left",
          "showarrow": false,
          "text": "Biomass<br>w. CCS",
          "x": 0.3514285714285715,
          "xanchor": "left",
          "xref": "paper",
          "y": -0.1,
          "yanchor": "top",
          "yref": "paper",
          "yshift": 12
         },
         {
          "align": "left",
          "showarrow": false,
          "text": "Renewables",
          "x": 0.46142857142857147,
          "xanchor": "left",
          "xref": "paper",
          "y": -0.1,
          "yanchor": "top",
          "yref": "paper",
          "yshift": 12
         },
         {
          "bgcolor": "#FFF",
          "showarrow": false,
          "text": "Euro-Calliope 2.0",
          "x": -0.28223907282913263,
          "xanchor": "left",
          "xref": "x2",
          "y": 0,
          "yref": "y2"
         },
         {
          "bgcolor": "#FFF",
          "showarrow": false,
          "text": "MEESA v1.1",
          "x": -0.28223907282913263,
          "xanchor": "left",
          "xref": "x2",
          "y": 1,
          "yref": "y2"
         },
         {
          "bgcolor": "#FFF",
          "showarrow": false,
          "text": "OSeMBE v1.0.0",
          "x": -0.28223907282913263,
          "xanchor": "left",
          "xref": "x2",
          "y": 2,
          "yref": "y2"
         },
         {
          "bgcolor": "#FFF",
          "showarrow": false,
          "text": "MESSAGEix-GLOBIOM_1.2",
          "x": -0.28223907282913263,
          "xanchor": "left",
          "xref": "x2",
          "y": 3,
          "yref": "y2"
         },
         {
          "bgcolor": "#FFF",
          "showarrow": false,
          "text": "REMIND 2.1",
          "x": -0.28223907282913263,
          "xanchor": "left",
          "xref": "x2",
          "y": 4,
          "yref": "y2"
         },
         {
          "bgcolor": "#FFF",
          "showarrow": false,
          "text": "WITCH 5.0",
          "x": -0.28223907282913263,
          "xanchor": "left",
          "xref": "x2",
          "y": 5,
          "yref": "y2"
         },
         {
          "bgcolor": "#FFF",
          "showarrow": false,
          "text": "TIAM-ECN 1.2",
          "x": -0.28223907282913263,
          "xanchor": "left",
          "xref": "x2",
          "y": 6,
          "yref": "y2"
         },
         {
          "bgcolor": "#FFF",
          "showarrow": false,
          "text": "IMAGE 3.2",
          "x": -0.28223907282913263,
          "xanchor": "left",
          "xref": "x2",
          "y": 7,
          "yref": "y2"
         },
         {
          "bgcolor": "#FFF",
          "showarrow": false,
          "text": "PROMETHEUS 1.2",
          "x": -0.28223907282913263,
          "xanchor": "left",
          "xref": "x2",
          "y": 8,
          "yref": "y2"
         },
         {
          "bgcolor": "#FFF",
          "showarrow": false,
          "text": "?",
          "textangle": 90,
          "x": 0.908794411402925,
          "xanchor": "left",
          "xref": "x2",
          "y": 1,
          "yanchor": "middle",
          "yref": "y2"
         },
         {
          "bgcolor": "#FFF",
          "showarrow": false,
          "text": "GE-IT",
          "textangle": 90,
          "x": 0.908794411402925,
          "xanchor": "left",
          "xref": "x2",
          "y": 4,
          "yanchor": "middle",
          "yref": "y2"
         },
         {
          "bgcolor": "#FFF",
          "showarrow": false,
          "text": "PE-IT",
          "textangle": 90,
          "x": 0.908794411402925,
          "xanchor": "left",
          "xref": "x2",
          "y": 6,
          "yanchor": "middle",
          "yref": "y2"
         },
         {
          "bgcolor": "#FFF",
          "showarrow": false,
          "text": "PE-RD",
          "textangle": 90,
          "x": 0.908794411402925,
          "xanchor": "left",
          "xref": "x2",
          "y": 7.5,
          "yanchor": "middle",
          "yref": "y2"
         },
         {
          "align": "right",
          "arrowside": "start",
          "ax": -65,
          "ay": 0,
          "showarrow": true,
          "text": "Small fossil fuel red.",
          "width": 130,
          "x": 0.3923313175401997,
          "xanchor": "center",
          "xref": "x2",
          "xshift": -5,
          "y": -0.08,
          "yanchor": "top",
          "yref": "paper"
         },
         {
          "align": "left",
          "arrowside": "start",
          "ax": 65,
          "ay": 0,
          "showarrow": true,
          "text": "Large fossil fuel red.",
          "width": 130,
          "x": 0.3923313175401997,
          "xanchor": "center",
          "xref": "x2",
          "xshift": 5,
          "y": -0.08,
          "yanchor": "top",
          "yref": "paper"
         }
        ],
        "barmode": "stack",
        "height": 400,
        "hovermode": "closest",
        "legend": {
         "tracegroupgap": 0,
         "y": 0.5
        },
        "margin": {
         "b": 70,
         "l": 60,
         "r": 30,
         "t": 50
        },
        "shapes": [
         {
          "fillcolor": "#d62728",
          "line": {
           "width": 0
          },
          "type": "rect",
          "x0": -0.05952380952380953,
          "x1": -0.04047619047619048,
          "xref": "paper",
          "y0": -0.12000000000000001,
          "y1": -0.08,
          "yref": "paper"
         },
         {
          "fillcolor": "#d67a7a",
          "line": {
           "width": 0
          },
          "type": "rect",
          "x0": 0.03047619047619047,
          "x1": 0.04952380952380952,
          "xref": "paper",
          "y0": -0.12000000000000001,
          "y1": -0.08,
          "yref": "paper"
         },
         {
          "fillcolor": "#ff7f0e",
          "line": {
           "width": 0
          },
          "type": "rect",
          "x0": 0.12047619047619049,
          "x1": 0.13952380952380952,
          "xref": "paper",
          "y0": -0.12000000000000001,
          "y1": -0.08,
          "yref": "paper"
         },
         {
          "fillcolor": "#2ca02c",
          "line": {
           "width": 0
          },
          "type": "rect",
          "x0": 0.2204761904761905,
          "x1": 0.23952380952380953,
          "xref": "paper",
          "y0": -0.12000000000000001,
          "y1": -0.08,
          "yref": "paper"
         },
         {
          "fillcolor": "#96d096",
          "line": {
           "width": 0
          },
          "type": "rect",
          "x0": 0.3304761904761905,
          "x1": 0.34952380952380957,
          "xref": "paper",
          "y0": -0.12000000000000001,
          "y1": -0.08,
          "yref": "paper"
         },
         {
          "fillcolor": "#1f77b4",
          "line": {
           "width": 0
          },
          "type": "rect",
          "x0": 0.44047619047619047,
          "x1": 0.45952380952380956,
          "xref": "paper",
          "y0": -0.12000000000000001,
          "y1": -0.08,
          "yref": "paper"
         }
        ],
        "template": {
         "data": {
          "scatter": [
           {
            "type": "scatter"
           }
          ]
         }
        },
        "width": 860,
        "xaxis": {
         "anchor": "y",
         "domain": [
          0,
          0.45
         ],
         "title": {
          "standoff": 40,
          "text": "Primary Energy (EJ in 2050)"
         }
        },
        "xaxis2": {
         "anchor": "y2",
         "domain": [
          0.45,
          1
         ],
         "tickvals": [
          -0.2,
          0,
          0.2,
          0.4000000000000001,
          0.6000000000000001,
          0.8,
          1.0000000000000002,
          1.2000000000000002,
          1.4000000000000001,
          1.6,
          1.8
         ],
         "title": {
          "standoff": 40,
          "text": "FFR"
         }
        },
        "yaxis": {
         "anchor": "x",
         "domain": [
          0,
          1
         ],
         "gridcolor": "rgba(.2,.2,.2,.1)",
         "range": [
          9,
          -1
         ],
         "showticklabels": false,
         "tickvals": [
          0,
          1,
          2,
          3,
          4,
          5,
          6,
          7,
          8
         ],
         "zeroline": false
        },
        "yaxis2": {
         "anchor": "x2",
         "domain": [
          0,
          1
         ],
         "gridcolor": "rgba(.2,.2,.2,.1)",
         "matches": "y",
         "range": [
          9,
          -1
         ],
         "showticklabels": false,
         "tickvals": [
          0,
          1,
          2,
          3,
          4,
          5,
          6,
          7,
          8
         ],
         "zeroline": false
        }
       }
      }
     },
     "metadata": {},
     "output_type": "display_data"
    },
    {
     "data": {
      "application/vnd.plotly.v1+json": {
       "config": {
        "plotlyServerURL": "https://plot.ly"
       },
       "data": [
        {
         "marker": {
          "color": "#d62728"
         },
         "name": "Primary Energy|Biomass",
         "orientation": "h",
         "showlegend": false,
         "type": "bar",
         "x": [
          null,
          null,
          null,
          7.96699801664911,
          0.0066,
          0.970900849521209,
          15.5,
          19.85
         ],
         "y": [
          0,
          1,
          2,
          3,
          4,
          5,
          6,
          7
         ]
        },
        {
         "marker": {
          "color": "#d67a7a"
         },
         "name": "Primary Energy|Biomass",
         "orientation": "h",
         "showlegend": false,
         "type": "bar",
         "x": [
          null,
          null,
          null,
          0,
          0.0232,
          0.39746941924973,
          null,
          null
         ],
         "y": [
          0,
          1,
          2,
          3,
          4,
          5,
          6,
          7
         ]
        },
        {
         "marker": {
          "color": "#ff7f0e"
         },
         "name": "Primary Energy|Biomass",
         "orientation": "h",
         "showlegend": false,
         "type": "bar",
         "x": [
          null,
          null,
          null,
          18.64473683365703,
          0.0002,
          4.74525641810557,
          1.9,
          1.07
         ],
         "y": [
          0,
          1,
          2,
          3,
          4,
          5,
          6,
          7
         ]
        },
        {
         "marker": {
          "color": "#2ca02c"
         },
         "name": "Primary Energy|Biomass",
         "orientation": "h",
         "showlegend": false,
         "type": "bar",
         "x": [
          null,
          null,
          null,
          8.856746984536123,
          11.8224,
          10.5861850174471,
          20.7,
          null
         ],
         "y": [
          0,
          1,
          2,
          3,
          4,
          5,
          6,
          7
         ]
        },
        {
         "marker": {
          "color": "#96d096"
         },
         "name": "Primary Energy|Biomass",
         "orientation": "h",
         "showlegend": false,
         "type": "bar",
         "x": [
          null,
          null,
          null,
          null,
          null,
          null,
          null,
          null
         ],
         "y": [
          0,
          1,
          2,
          3,
          4,
          5,
          6,
          7
         ]
        },
        {
         "marker": {
          "color": "#1f77b4"
         },
         "name": "Primary Energy|Biomass",
         "orientation": "h",
         "showlegend": false,
         "type": "bar",
         "x": [
          null,
          null,
          null,
          47.05342088106353,
          24.0156,
          52.8815314285294,
          null,
          11.87
         ],
         "y": [
          0,
          1,
          2,
          3,
          4,
          5,
          6,
          7
         ]
        },
        {
         "legendgroup": "Age",
         "marker": {
          "color": "black",
          "size": 8,
          "symbol": "star"
         },
         "mode": "markers",
         "name": "Newest",
         "type": "scatter",
         "x": [
          null
         ],
         "y": [
          null
         ]
        },
        {
         "legendgroup": "Age",
         "marker": {
          "color": "black",
          "size": 4,
          "symbol": "circle"
         },
         "mode": "markers",
         "name": "Older version",
         "type": "scatter",
         "x": [
          null
         ],
         "y": [
          null
         ]
        },
        {
         "fill": "toself",
         "fillcolor": "rgba(0,0,0,.1)",
         "line": {
          "width": 0
         },
         "mode": "lines",
         "name": "16-84th perc.",
         "type": "scatter",
         "x": [
          0.7289404088592153,
          0.7289404088592153,
          0.9894567570571673,
          0.9894567570571673
         ],
         "xaxis": "x2",
         "y": [
          -1,
          8,
          8,
          -1
         ],
         "yaxis": "y2"
        },
        {
         "line": {
          "color": "#888",
          "width": 2
         },
         "mode": "lines",
         "name": "Median",
         "type": "scatter",
         "x": [
          0.9685081899046922,
          0.9685081899046922
         ],
         "xaxis": "x2",
         "y": [
          -1,
          8
         ],
         "yaxis": "y2"
        },
        {
         "marker": {
          "color": "#511607",
          "line": {
           "color": "#FFF",
           "width": 1
          },
          "opacity": 1,
          "size": [
           12
          ],
          "symbol": [
           "star"
          ]
         },
         "mode": "markers",
         "showlegend": false,
         "type": "scatter",
         "x": [
          null
         ],
         "xaxis": "x2",
         "y": [
          0
         ],
         "yaxis": "y2"
        },
        {
         "marker": {
          "color": "#bc7fcd",
          "line": {
           "color": "#FFF",
           "width": 1
          },
          "opacity": 1,
          "size": [
           12
          ],
          "symbol": [
           "star"
          ]
         },
         "mode": "markers",
         "showlegend": false,
         "type": "scatter",
         "x": [
          null
         ],
         "xaxis": "x2",
         "y": [
          1
         ],
         "yaxis": "y2"
        },
        {
         "marker": {
          "color": "#B6036C",
          "line": {
           "color": "#FFF",
           "width": 1
          },
          "opacity": 1,
          "size": [
           12
          ],
          "symbol": [
           "star"
          ]
         },
         "mode": "markers",
         "showlegend": false,
         "type": "scatter",
         "x": [
          null
         ],
         "xaxis": "x2",
         "y": [
          2
         ],
         "yaxis": "y2"
        },
        {
         "marker": {
          "color": "#F198C1",
          "line": {
           "color": "#FFF",
           "width": 1
          },
          "opacity": 1,
          "size": [
           12
          ],
          "symbol": [
           "star"
          ]
         },
         "mode": "markers",
         "showlegend": false,
         "type": "scatter",
         "x": [
          null
         ],
         "xaxis": "x2",
         "y": [
          3
         ],
         "yaxis": "y2"
        },
        {
         "marker": {
          "color": "#3F1464",
          "line": {
           "color": "#FFF",
           "width": 1
          },
          "opacity": 1,
          "size": [
           12
          ],
          "symbol": [
           "star"
          ]
         },
         "mode": "markers",
         "showlegend": false,
         "type": "scatter",
         "x": [
          0.9993149063053908
         ],
         "xaxis": "x2",
         "y": [
          4
         ],
         "yaxis": "y2"
        },
        {
         "marker": {
          "color": "#0071BB",
          "line": {
           "color": "#FFF",
           "width": 1
          },
          "opacity": 1,
          "size": [
           12
          ],
          "symbol": [
           "star"
          ]
         },
         "mode": "markers",
         "showlegend": false,
         "type": "scatter",
         "x": [
          0.9685081899046922
         ],
         "xaxis": "x2",
         "y": [
          5
         ],
         "yaxis": "y2"
        },
        {
         "marker": {
          "color": "#00AEEF",
          "line": {
           "color": "#FFF",
           "width": 1
          },
          "opacity": 1,
          "size": [
           12
          ],
          "symbol": [
           "star"
          ]
         },
         "mode": "markers",
         "showlegend": false,
         "type": "scatter",
         "x": [
          null
         ],
         "xaxis": "x2",
         "y": [
          6
         ],
         "yaxis": "y2"
        },
        {
         "marker": {
          "color": "#7CCFF2",
          "line": {
           "color": "#FFF",
           "width": 1
          },
          "opacity": 1,
          "size": [
           12
          ],
          "symbol": [
           "star"
          ]
         },
         "mode": "markers",
         "showlegend": false,
         "type": "scatter",
         "x": [
          0.6162026295436968
         ],
         "xaxis": "x2",
         "y": [
          7
         ],
         "yaxis": "y2"
        },
        {
         "line": {
          "color": "#999"
         },
         "mode": "lines",
         "showlegend": false,
         "type": "scatter",
         "x": [
          1.0184705201434754,
          1.0299638884463262,
          1.0299638884463262,
          1.0184705201434754
         ],
         "xaxis": "x2",
         "y": [
          -0.3,
          -0.3,
          2.3,
          2.3
         ],
         "yaxis": "y2"
        },
        {
         "line": {
          "color": "#999"
         },
         "mode": "lines",
         "showlegend": false,
         "type": "scatter",
         "x": [
          1.0184705201434754,
          1.0299638884463262,
          1.0299638884463262,
          1.0184705201434754
         ],
         "xaxis": "x2",
         "y": [
          2.7,
          2.7,
          5.3,
          5.3
         ],
         "yaxis": "y2"
        },
        {
         "line": {
          "color": "#999"
         },
         "mode": "lines",
         "showlegend": false,
         "type": "scatter",
         "x": [
          1.0184705201434754,
          1.0299638884463262,
          1.0299638884463262,
          1.0184705201434754
         ],
         "xaxis": "x2",
         "y": [
          5.7,
          5.7,
          6.3,
          6.3
         ],
         "yaxis": "y2"
        },
        {
         "line": {
          "color": "#999"
         },
         "mode": "lines",
         "showlegend": false,
         "type": "scatter",
         "x": [
          1.0184705201434754,
          1.0299638884463262,
          1.0299638884463262,
          1.0184705201434754
         ],
         "xaxis": "x2",
         "y": [
          6.7,
          6.7,
          7.3,
          7.3
         ],
         "yaxis": "y2"
        }
       ],
       "layout": {
        "annotations": [
         {
          "font": {
           "size": 16
          },
          "showarrow": false,
          "text": "<b>a.</b> Primary Energy decomposition (2100) <br> ",
          "x": 0.225,
          "xanchor": "center",
          "xref": "paper",
          "y": 1,
          "yanchor": "bottom",
          "yref": "paper"
         },
         {
          "font": {
           "size": 16
          },
          "showarrow": false,
          "text": "<b>b.</b> FFR per model (2100)<br> ",
          "x": 0.725,
          "xanchor": "center",
          "xref": "paper",
          "y": 1,
          "yanchor": "bottom",
          "yref": "paper"
         },
         {
          "align": "left",
          "showarrow": false,
          "text": "Fossil<br>w/o CCS",
          "x": -0.038571428571428576,
          "xanchor": "left",
          "xref": "paper",
          "y": -0.1,
          "yanchor": "top",
          "yref": "paper",
          "yshift": 12
         },
         {
          "align": "left",
          "showarrow": false,
          "text": "Fossil<br>w. CCS",
          "x": 0.05142857142857142,
          "xanchor": "left",
          "xref": "paper",
          "y": -0.1,
          "yanchor": "top",
          "yref": "paper",
          "yshift": 12
         },
         {
          "align": "left",
          "showarrow": false,
          "text": "Nuclear",
          "x": 0.14142857142857143,
          "xanchor": "left",
          "xref": "paper",
          "y": -0.1,
          "yanchor": "top",
          "yref": "paper",
          "yshift": 12
         },
         {
          "align": "left",
          "showarrow": false,
          "text": "Biomass<br>w/o CCS",
          "x": 0.24142857142857144,
          "xanchor": "left",
          "xref": "paper",
          "y": -0.1,
          "yanchor": "top",
          "yref": "paper",
          "yshift": 12
         },
         {
          "align": "left",
          "showarrow": false,
          "text": "Biomass<br>w. CCS",
          "x": 0.3514285714285715,
          "xanchor": "left",
          "xref": "paper",
          "y": -0.1,
          "yanchor": "top",
          "yref": "paper",
          "yshift": 12
         },
         {
          "align": "left",
          "showarrow": false,
          "text": "Renewables",
          "x": 0.46142857142857147,
          "xanchor": "left",
          "xref": "paper",
          "y": -0.1,
          "yanchor": "top",
          "yref": "paper",
          "yshift": 12
         },
         {
          "bgcolor": "#FFF",
          "showarrow": false,
          "text": "Euro-Calliope 2.0",
          "x": 0.3633485268809787,
          "xanchor": "left",
          "xref": "x2",
          "y": 0,
          "yref": "y2"
         },
         {
          "bgcolor": "#FFF",
          "showarrow": false,
          "text": "MEESA v1.1",
          "x": 0.3633485268809787,
          "xanchor": "left",
          "xref": "x2",
          "y": 1,
          "yref": "y2"
         },
         {
          "bgcolor": "#FFF",
          "showarrow": false,
          "text": "OSeMBE v1.0.0",
          "x": 0.3633485268809787,
          "xanchor": "left",
          "xref": "x2",
          "y": 2,
          "yref": "y2"
         },
         {
          "bgcolor": "#FFF",
          "showarrow": false,
          "text": "MESSAGEix-GLOBIOM_1.2",
          "x": 0.3633485268809787,
          "xanchor": "left",
          "xref": "x2",
          "y": 3,
          "yref": "y2"
         },
         {
          "bgcolor": "#FFF",
          "showarrow": false,
          "text": "REMIND 2.1",
          "x": 0.3633485268809787,
          "xanchor": "left",
          "xref": "x2",
          "y": 4,
          "yref": "y2"
         },
         {
          "bgcolor": "#FFF",
          "showarrow": false,
          "text": "WITCH 5.0",
          "x": 0.3633485268809787,
          "xanchor": "left",
          "xref": "x2",
          "y": 5,
          "yref": "y2"
         },
         {
          "bgcolor": "#FFF",
          "showarrow": false,
          "text": "TIAM-ECN 1.2",
          "x": 0.3633485268809787,
          "xanchor": "left",
          "xref": "x2",
          "y": 6,
          "yref": "y2"
         },
         {
          "bgcolor": "#FFF",
          "showarrow": false,
          "text": "IMAGE 3.2",
          "x": 0.3633485268809787,
          "xanchor": "left",
          "xref": "x2",
          "y": 7,
          "yref": "y2"
         },
         {
          "bgcolor": "#FFF",
          "showarrow": false,
          "text": "?",
          "textangle": 90,
          "x": 1.032837230522039,
          "xanchor": "left",
          "xref": "x2",
          "y": 1,
          "yanchor": "middle",
          "yref": "y2"
         },
         {
          "bgcolor": "#FFF",
          "showarrow": false,
          "text": "GE-IT",
          "textangle": 90,
          "x": 1.032837230522039,
          "xanchor": "left",
          "xref": "x2",
          "y": 4,
          "yanchor": "middle",
          "yref": "y2"
         },
         {
          "bgcolor": "#FFF",
          "showarrow": false,
          "text": "PE-IT",
          "textangle": 90,
          "x": 1.032837230522039,
          "xanchor": "left",
          "xref": "x2",
          "y": 6,
          "yanchor": "middle",
          "yref": "y2"
         },
         {
          "bgcolor": "#FFF",
          "showarrow": false,
          "text": "PE-RD",
          "textangle": 90,
          "x": 1.032837230522039,
          "xanchor": "left",
          "xref": "x2",
          "y": 7,
          "yanchor": "middle",
          "yref": "y2"
         },
         {
          "align": "right",
          "arrowside": "start",
          "ax": -65,
          "ay": 0,
          "showarrow": true,
          "text": "Small fossil fuel red.",
          "width": 130,
          "x": 0.9685081899046922,
          "xanchor": "center",
          "xref": "x2",
          "xshift": -5,
          "y": -0.08,
          "yanchor": "top",
          "yref": "paper"
         },
         {
          "align": "left",
          "arrowside": "start",
          "ax": 65,
          "ay": 0,
          "showarrow": true,
          "text": "Large fossil fuel red.",
          "width": 130,
          "x": 0.9685081899046922,
          "xanchor": "center",
          "xref": "x2",
          "xshift": 5,
          "y": -0.08,
          "yanchor": "top",
          "yref": "paper"
         }
        ],
        "barmode": "stack",
        "height": 400,
        "hovermode": "closest",
        "legend": {
         "tracegroupgap": 0,
         "y": 0.5
        },
        "margin": {
         "b": 70,
         "l": 60,
         "r": 30,
         "t": 50
        },
        "shapes": [
         {
          "fillcolor": "#d62728",
          "line": {
           "width": 0
          },
          "type": "rect",
          "x0": -0.05952380952380953,
          "x1": -0.04047619047619048,
          "xref": "paper",
          "y0": -0.12000000000000001,
          "y1": -0.08,
          "yref": "paper"
         },
         {
          "fillcolor": "#d67a7a",
          "line": {
           "width": 0
          },
          "type": "rect",
          "x0": 0.03047619047619047,
          "x1": 0.04952380952380952,
          "xref": "paper",
          "y0": -0.12000000000000001,
          "y1": -0.08,
          "yref": "paper"
         },
         {
          "fillcolor": "#ff7f0e",
          "line": {
           "width": 0
          },
          "type": "rect",
          "x0": 0.12047619047619049,
          "x1": 0.13952380952380952,
          "xref": "paper",
          "y0": -0.12000000000000001,
          "y1": -0.08,
          "yref": "paper"
         },
         {
          "fillcolor": "#2ca02c",
          "line": {
           "width": 0
          },
          "type": "rect",
          "x0": 0.2204761904761905,
          "x1": 0.23952380952380953,
          "xref": "paper",
          "y0": -0.12000000000000001,
          "y1": -0.08,
          "yref": "paper"
         },
         {
          "fillcolor": "#96d096",
          "line": {
           "width": 0
          },
          "type": "rect",
          "x0": 0.3304761904761905,
          "x1": 0.34952380952380957,
          "xref": "paper",
          "y0": -0.12000000000000001,
          "y1": -0.08,
          "yref": "paper"
         },
         {
          "fillcolor": "#1f77b4",
          "line": {
           "width": 0
          },
          "type": "rect",
          "x0": 0.44047619047619047,
          "x1": 0.45952380952380956,
          "xref": "paper",
          "y0": -0.12000000000000001,
          "y1": -0.08,
          "yref": "paper"
         }
        ],
        "template": {
         "data": {
          "scatter": [
           {
            "type": "scatter"
           }
          ]
         }
        },
        "width": 860,
        "xaxis": {
         "anchor": "y",
         "domain": [
          0,
          0.45
         ],
         "title": {
          "standoff": 40,
          "text": "Primary Energy (EJ in 2100)"
         }
        },
        "xaxis2": {
         "anchor": "y2",
         "domain": [
          0.45,
          1
         ],
         "range": [
          -0.398,
          1.107
         ],
         "tickvals": [
          -0.2,
          0,
          0.2,
          0.4000000000000001,
          0.6000000000000001,
          0.8,
          1.0000000000000002,
          1.2000000000000002,
          1.4000000000000001,
          1.6,
          1.8
         ],
         "title": {
          "standoff": 40,
          "text": "FFR"
         }
        },
        "yaxis": {
         "anchor": "x",
         "domain": [
          0,
          1
         ],
         "gridcolor": "rgba(.2,.2,.2,.1)",
         "range": [
          8,
          -1
         ],
         "showticklabels": false,
         "tickvals": [
          0,
          1,
          2,
          3,
          4,
          5,
          6,
          7
         ],
         "zeroline": false
        },
        "yaxis2": {
         "anchor": "x2",
         "domain": [
          0,
          1
         ],
         "gridcolor": "rgba(.2,.2,.2,.1)",
         "matches": "y",
         "range": [
          8,
          -1
         ],
         "showticklabels": false,
         "tickvals": [
          0,
          1,
          2,
          3,
          4,
          5,
          6,
          7
         ],
         "zeroline": false
        }
       }
      }
     },
     "metadata": {},
     "output_type": "display_data"
    }
   ],
   "source": [
    "def create_fig_FFR(year: str, xrange=None, exclude_models=None, models=models):\n",
    "    \n",
    "    if exclude_models is not None:\n",
    "        models = models[~models['Full model'].str.contains(exclude_models)].copy()\n",
    "        models['i'] = np.arange(len(models))\n",
    "\n",
    "    fig_FFR = make_subplots(1, 2, horizontal_spacing=0.0, column_widths=[0.45, 0.55], subplot_titles=(\n",
    "        f'<b>a.</b> Primary Energy decomposition ({year}) <br> ', f'<b>b.</b> FFR per model ({year})<br> '\n",
    "    ), shared_yaxes=True)\n",
    "\n",
    "    policy_scenario = 'diag-c80-gr5'\n",
    "\n",
    "    ##############\n",
    "    # 3a:\n",
    "    ##############\n",
    "\n",
    "    variables = ['Fossil|w/o CCS', 'Fossil|w/ CCS', 'Nuclear', 'Biomass|w/o CCS', 'Biomass|w/ CCS', 'Non-Biomass Renewables']\n",
    "    labels = ['Fossil<br>w/o CCS', 'Fossil<br>w. CCS', 'Nuclear', 'Biomass<br>w/o CCS', 'Biomass<br>w. CCS', 'Renewables']\n",
    "    for var_suffix in variables:\n",
    "        var = f'Primary Energy|{var_suffix}'\n",
    "        meta[f'{var} {year}'] = get(data, policy_scenario, var, year)\n",
    "\n",
    "    # Replace w/o CCS variables by full variable if w/ CCS data is missing:\n",
    "    for fuel in ['Fossil', 'Biomass']:\n",
    "        var = f'Primary Energy|{fuel}'\n",
    "        meta[f'{var} {year}'] = get(data, policy_scenario, var, year)\n",
    "        missing = meta[f'{var}|w/ CCS {year}'].isna()\n",
    "        meta.loc[missing, f'{var}|w/o CCS {year}'] = meta.loc[missing, f'{var} {year}']\n",
    "\n",
    "\n",
    "    energy_colors = ['#d62728', '#d67a7a', '#ff7f0e', '#2ca02c', '#96d096', '#1f77b4']\n",
    "\n",
    "    xpos = -0.05\n",
    "    for var_suffix, label, color, labelwidth in zip(variables, labels, energy_colors, [0.09, 0.09, 0.1, 0.11, 0.11, 0.1]):\n",
    "        col = f'Primary Energy|{var_suffix} {year}'\n",
    "        energy_values = meta[col]\n",
    "\n",
    "        var_values = models.merge(\n",
    "            energy_values.reset_index(),\n",
    "            how='left', left_on='Full model', right_on='Model'\n",
    "        )\n",
    "        fig_FFR.add_bar(\n",
    "            y=var_values['i'], x=var_values[col],\n",
    "            orientation='h', name=var, marker_color=color,\n",
    "            showlegend=False\n",
    "        )\n",
    "\n",
    "        # Add legend\n",
    "        height, width = 0.04, 0.04 * 400 / 840\n",
    "        ypos=-0.1\n",
    "        fig_FFR.add_shape(\n",
    "            type='rect',\n",
    "            xref='paper', yref='paper',\n",
    "            x0=xpos-width/2, x1=xpos+width/2, y0=ypos-height/2, y1=ypos+height/2,\n",
    "            fillcolor=color, line_width=0\n",
    "        )\n",
    "        fig_FFR.add_annotation(\n",
    "            xref='paper', yref='paper', x=xpos+0.6*width, y=ypos,\n",
    "            yanchor='top', yshift=12, xanchor='left', align='left',\n",
    "            showarrow=False, text=label\n",
    "        )\n",
    "        xpos += labelwidth\n",
    "\n",
    "    # check_values = models.merge(\n",
    "    #     get(data, policy_scenario, 'Primary Energy', year).reset_index(),\n",
    "    #     how='left', left_on='Full model', right_on='Model'\n",
    "    # )\n",
    "    # fig_FFR.add_scatter(\n",
    "    #     x=check_values[year], y=check_values['i'],\n",
    "    #     mode='markers', marker={'symbol': 'x', 'color': '#BBB'},\n",
    "    #     showlegend=False\n",
    "    # )\n",
    "\n",
    "\n",
    "    ##############\n",
    "    # 3b: FFR\n",
    "    ##############\n",
    "\n",
    "    col_FFR = f'FFR {year}'\n",
    "    meta[col_FFR] = calc_fossil_fuel_reduction(data, year, policy_scenario)\n",
    "\n",
    "    add_model_comparison(\n",
    "        fig_FFR, 2, col_FFR,\n",
    "        narrative_left='Small fossil fuel red.', narrative_right='Large fossil fuel red.',\n",
    "        shared_yaxes=True, showlegendlines=False,\n",
    "        exclude_models=exclude_models\n",
    "    )\n",
    "\n",
    "\n",
    "\n",
    "    # Update layout\n",
    "    (\n",
    "        fig_FFR\n",
    "        .update_xaxes(\n",
    "            col=1,\n",
    "            title=f'Primary Energy (EJ in {year})',\n",
    "            title_standoff=40\n",
    "        )\n",
    "        .update_xaxes(\n",
    "            col=2,\n",
    "            tickvals=np.arange(-0.2, 2, 0.2),\n",
    "            title='FFR',\n",
    "            range=xrange,\n",
    "            title_standoff=40\n",
    "        )\n",
    "        .update_layout(\n",
    "            barmode='stack',\n",
    "            width=860,\n",
    "            height=400,\n",
    "            margin={'l': 60, 'r': 30, 't': 50, 'b': 70},\n",
    "            hovermode='closest'\n",
    "        )\n",
    "    )\n",
    "    return fig_FFR"
   ]
  },
  {
   "cell_type": "markdown",
   "metadata": {},
   "source": [
    "## Inertia timescale"
   ]
  },
  {
   "cell_type": "code",
   "execution_count": null,
   "metadata": {},
   "outputs": [],
   "source": [
    "# Calculate inertia timescale \n",
    "\n",
    "def linearInterp(row):\n",
    "    years = row.index.astype(float)\n",
    "    return np.trapz(row, x=years)\n"
   ]
  },
  {
   "cell_type": "code",
   "execution_count": null,
   "metadata": {},
   "outputs": [
    {
     "data": {
      "application/vnd.plotly.v1+json": {
       "config": {
        "plotlyServerURL": "https://plot.ly"
       },
       "data": [
        {
         "legendgroup": "Age",
         "marker": {
          "color": "black",
          "size": 8,
          "symbol": "star"
         },
         "mode": "markers",
         "name": "Newest",
         "type": "scatter",
         "x": [
          null
         ],
         "y": [
          null
         ]
        },
        {
         "legendgroup": "Age",
         "marker": {
          "color": "black",
          "size": 4,
          "symbol": "circle"
         },
         "mode": "markers",
         "name": "Older version",
         "type": "scatter",
         "x": [
          null
         ],
         "y": [
          null
         ]
        },
        {
         "fill": "toself",
         "fillcolor": "rgba(0,0,0,.1)",
         "line": {
          "width": 0
         },
         "mode": "lines",
         "name": "16-84th perc.",
         "type": "scatter",
         "x": [
          null,
          null,
          null,
          null
         ],
         "xaxis": "x2",
         "y": [
          -1,
          8,
          8,
          -1
         ],
         "yaxis": "y2"
        },
        {
         "line": {
          "color": "#888",
          "width": 2
         },
         "mode": "lines",
         "name": "Median",
         "type": "scatter",
         "x": [
          null,
          null
         ],
         "xaxis": "x2",
         "y": [
          -1,
          8
         ],
         "yaxis": "y2"
        },
        {
         "marker": {
          "color": "#511607",
          "line": {
           "color": "#FFF",
           "width": 1
          },
          "opacity": 1,
          "size": [
           12
          ],
          "symbol": [
           "star"
          ]
         },
         "mode": "markers",
         "showlegend": false,
         "type": "scatter",
         "x": [
          null
         ],
         "xaxis": "x2",
         "y": [
          0
         ],
         "yaxis": "y2"
        },
        {
         "line": {
          "color": "#511607",
          "width": 3
         },
         "mode": "lines",
         "showlegend": false,
         "type": "scatter",
         "x": [
          null,
          null
         ],
         "xaxis": "x2",
         "y": [
          0,
          0
         ],
         "yaxis": "y2"
        },
        {
         "marker": {
          "color": "#bc7fcd",
          "line": {
           "color": "#FFF",
           "width": 1
          },
          "opacity": 1,
          "size": [
           12
          ],
          "symbol": [
           "star"
          ]
         },
         "mode": "markers",
         "showlegend": false,
         "type": "scatter",
         "x": [
          null
         ],
         "xaxis": "x2",
         "y": [
          1
         ],
         "yaxis": "y2"
        },
        {
         "line": {
          "color": "#bc7fcd",
          "width": 3
         },
         "mode": "lines",
         "showlegend": false,
         "type": "scatter",
         "x": [
          null,
          null
         ],
         "xaxis": "x2",
         "y": [
          1,
          1
         ],
         "yaxis": "y2"
        },
        {
         "marker": {
          "color": "#B6036C",
          "line": {
           "color": "#FFF",
           "width": 1
          },
          "opacity": 1,
          "size": [
           12
          ],
          "symbol": [
           "star"
          ]
         },
         "mode": "markers",
         "showlegend": false,
         "type": "scatter",
         "x": [
          null
         ],
         "xaxis": "x2",
         "y": [
          2
         ],
         "yaxis": "y2"
        },
        {
         "line": {
          "color": "#B6036C",
          "width": 3
         },
         "mode": "lines",
         "showlegend": false,
         "type": "scatter",
         "x": [
          null,
          null
         ],
         "xaxis": "x2",
         "y": [
          2,
          2
         ],
         "yaxis": "y2"
        },
        {
         "marker": {
          "color": "#F198C1",
          "line": {
           "color": "#FFF",
           "width": 1
          },
          "opacity": 1,
          "size": [
           12
          ],
          "symbol": [
           "star"
          ]
         },
         "mode": "markers",
         "showlegend": false,
         "type": "scatter",
         "x": [
          null
         ],
         "xaxis": "x2",
         "y": [
          3
         ],
         "yaxis": "y2"
        },
        {
         "line": {
          "color": "#F198C1",
          "width": 3
         },
         "mode": "lines",
         "showlegend": false,
         "type": "scatter",
         "x": [
          null,
          null
         ],
         "xaxis": "x2",
         "y": [
          3,
          3
         ],
         "yaxis": "y2"
        },
        {
         "marker": {
          "color": "#3F1464",
          "line": {
           "color": "#FFF",
           "width": 1
          },
          "opacity": 1,
          "size": [
           12
          ],
          "symbol": [
           "star"
          ]
         },
         "mode": "markers",
         "showlegend": false,
         "type": "scatter",
         "x": [
          null
         ],
         "xaxis": "x2",
         "y": [
          4
         ],
         "yaxis": "y2"
        },
        {
         "line": {
          "color": "#3F1464",
          "width": 3
         },
         "mode": "lines",
         "showlegend": false,
         "type": "scatter",
         "x": [
          null,
          null
         ],
         "xaxis": "x2",
         "y": [
          4,
          4
         ],
         "yaxis": "y2"
        },
        {
         "marker": {
          "color": "#0071BB",
          "line": {
           "color": "#FFF",
           "width": 1
          },
          "opacity": 1,
          "size": [
           12
          ],
          "symbol": [
           "star"
          ]
         },
         "mode": "markers",
         "showlegend": false,
         "type": "scatter",
         "x": [
          null
         ],
         "xaxis": "x2",
         "y": [
          5
         ],
         "yaxis": "y2"
        },
        {
         "line": {
          "color": "#0071BB",
          "width": 3
         },
         "mode": "lines",
         "showlegend": false,
         "type": "scatter",
         "x": [
          null,
          null
         ],
         "xaxis": "x2",
         "y": [
          5,
          5
         ],
         "yaxis": "y2"
        },
        {
         "marker": {
          "color": "#00AEEF",
          "line": {
           "color": "#FFF",
           "width": 1
          },
          "opacity": 1,
          "size": [
           12
          ],
          "symbol": [
           "star"
          ]
         },
         "mode": "markers",
         "showlegend": false,
         "type": "scatter",
         "x": [
          null
         ],
         "xaxis": "x2",
         "y": [
          6
         ],
         "yaxis": "y2"
        },
        {
         "line": {
          "color": "#00AEEF",
          "width": 3
         },
         "mode": "lines",
         "showlegend": false,
         "type": "scatter",
         "x": [
          null,
          null
         ],
         "xaxis": "x2",
         "y": [
          6,
          6
         ],
         "yaxis": "y2"
        },
        {
         "marker": {
          "color": "#7CCFF2",
          "line": {
           "color": "#FFF",
           "width": 1
          },
          "opacity": 1,
          "size": [
           12
          ],
          "symbol": [
           "star"
          ]
         },
         "mode": "markers",
         "showlegend": false,
         "type": "scatter",
         "x": [
          null
         ],
         "xaxis": "x2",
         "y": [
          7
         ],
         "yaxis": "y2"
        },
        {
         "line": {
          "color": "#7CCFF2",
          "width": 3
         },
         "mode": "lines",
         "showlegend": false,
         "type": "scatter",
         "x": [
          null,
          null
         ],
         "xaxis": "x2",
         "y": [
          7,
          7
         ],
         "yaxis": "y2"
        },
        {
         "line": {
          "color": "#999"
         },
         "mode": "lines",
         "showlegend": false,
         "type": "scatter",
         "x": [
          null,
          null,
          null,
          null
         ],
         "xaxis": "x2",
         "y": [
          -0.3,
          -0.3,
          2.3,
          2.3
         ],
         "yaxis": "y2"
        },
        {
         "line": {
          "color": "#999"
         },
         "mode": "lines",
         "showlegend": false,
         "type": "scatter",
         "x": [
          null,
          null,
          null,
          null
         ],
         "xaxis": "x2",
         "y": [
          2.7,
          2.7,
          5.3,
          5.3
         ],
         "yaxis": "y2"
        },
        {
         "line": {
          "color": "#999"
         },
         "mode": "lines",
         "showlegend": false,
         "type": "scatter",
         "x": [
          null,
          null,
          null,
          null
         ],
         "xaxis": "x2",
         "y": [
          5.7,
          5.7,
          6.3,
          6.3
         ],
         "yaxis": "y2"
        },
        {
         "line": {
          "color": "#999"
         },
         "mode": "lines",
         "showlegend": false,
         "type": "scatter",
         "x": [
          null,
          null,
          null,
          null
         ],
         "xaxis": "x2",
         "y": [
          6.7,
          6.7,
          7.3,
          7.3
         ],
         "yaxis": "y2"
        }
       ],
       "layout": {
        "annotations": [
         {
          "font": {
           "size": 16
          },
          "showarrow": false,
          "text": "<b>a.</b> Emissions gap vs excess emisssions<br> ",
          "x": 0.196,
          "xanchor": "center",
          "xref": "paper",
          "y": 1,
          "yanchor": "bottom",
          "yref": "paper"
         },
         {
          "font": {
           "size": 16
          },
          "showarrow": false,
          "text": "<b>b.</b> Inertia Timescale per model<br> ",
          "x": 0.706,
          "xanchor": "center",
          "xref": "paper",
          "y": 1,
          "yanchor": "bottom",
          "yref": "paper"
         },
         {
          "bgcolor": "#FFF",
          "showarrow": false,
          "text": "Euro-Calliope 2.0",
          "x": null,
          "xanchor": "left",
          "xref": "x2",
          "y": 0,
          "yref": "y2"
         },
         {
          "bgcolor": "#FFF",
          "showarrow": false,
          "text": "MEESA v1.1",
          "x": null,
          "xanchor": "left",
          "xref": "x2",
          "y": 1,
          "yref": "y2"
         },
         {
          "bgcolor": "#FFF",
          "showarrow": false,
          "text": "OSeMBE v1.0.0",
          "x": null,
          "xanchor": "left",
          "xref": "x2",
          "y": 2,
          "yref": "y2"
         },
         {
          "bgcolor": "#FFF",
          "showarrow": false,
          "text": "MESSAGEix-GLOBIOM_1.2",
          "x": null,
          "xanchor": "left",
          "xref": "x2",
          "y": 3,
          "yref": "y2"
         },
         {
          "bgcolor": "#FFF",
          "showarrow": false,
          "text": "REMIND 2.1",
          "x": null,
          "xanchor": "left",
          "xref": "x2",
          "y": 4,
          "yref": "y2"
         },
         {
          "bgcolor": "#FFF",
          "showarrow": false,
          "text": "WITCH 5.0",
          "x": null,
          "xanchor": "left",
          "xref": "x2",
          "y": 5,
          "yref": "y2"
         },
         {
          "bgcolor": "#FFF",
          "showarrow": false,
          "text": "TIAM-ECN 1.2",
          "x": null,
          "xanchor": "left",
          "xref": "x2",
          "y": 6,
          "yref": "y2"
         },
         {
          "bgcolor": "#FFF",
          "showarrow": false,
          "text": "IMAGE 3.2",
          "x": null,
          "xanchor": "left",
          "xref": "x2",
          "y": 7,
          "yref": "y2"
         },
         {
          "bgcolor": "#FFF",
          "showarrow": false,
          "text": "?",
          "textangle": 90,
          "x": null,
          "xanchor": "left",
          "xref": "x2",
          "y": 1,
          "yanchor": "middle",
          "yref": "y2"
         },
         {
          "bgcolor": "#FFF",
          "showarrow": false,
          "text": "GE-IT",
          "textangle": 90,
          "x": null,
          "xanchor": "left",
          "xref": "x2",
          "y": 4,
          "yanchor": "middle",
          "yref": "y2"
         },
         {
          "bgcolor": "#FFF",
          "showarrow": false,
          "text": "PE-IT",
          "textangle": 90,
          "x": null,
          "xanchor": "left",
          "xref": "x2",
          "y": 6,
          "yanchor": "middle",
          "yref": "y2"
         },
         {
          "bgcolor": "#FFF",
          "showarrow": false,
          "text": "PE-RD",
          "textangle": 90,
          "x": null,
          "xanchor": "left",
          "xref": "x2",
          "y": 7,
          "yanchor": "middle",
          "yref": "y2"
         },
         {
          "align": "right",
          "arrowside": "start",
          "ax": -65,
          "ay": 0,
          "showarrow": true,
          "text": "Less inertia",
          "width": 130,
          "x": null,
          "xanchor": "center",
          "xref": "x2",
          "xshift": -5,
          "y": -0.08,
          "yanchor": "top",
          "yref": "paper"
         },
         {
          "align": "left",
          "arrowside": "start",
          "ax": 65,
          "ay": 0,
          "showarrow": true,
          "text": "More inertia",
          "width": 130,
          "x": null,
          "xanchor": "center",
          "xref": "x2",
          "xshift": 5,
          "y": -0.08,
          "yanchor": "top",
          "yref": "paper"
         }
        ],
        "height": 400,
        "hovermode": "closest",
        "legend": {
         "tracegroupgap": 0,
         "y": 0.5
        },
        "margin": {
         "b": 70,
         "l": 60,
         "r": 30,
         "t": 50
        },
        "template": {
         "data": {
          "scatter": [
           {
            "type": "scatter"
           }
          ]
         }
        },
        "width": 860,
        "xaxis": {
         "anchor": "y",
         "domain": [
          0,
          0.392
         ],
         "title": {
          "text": "Cumulative excess emissions (GtCO<sub>2</sub>)"
         }
        },
        "xaxis2": {
         "anchor": "y2",
         "domain": [
          0.41200000000000003,
          1
         ],
         "tickvals": [
          0,
          5,
          10,
          15,
          20,
          25
         ],
         "title": {
          "standoff": 40,
          "text": "Inertia Timescale (years)"
         }
        },
        "yaxis": {
         "anchor": "x",
         "domain": [
          0,
          1
         ],
         "title": {
          "text": "Emissions difference (GtCO<sub>2</sub>/yr)"
         }
        },
        "yaxis2": {
         "anchor": "x2",
         "domain": [
          0,
          1
         ],
         "gridcolor": "rgba(.2,.2,.2,.1)",
         "range": [
          8,
          -1
         ],
         "showticklabels": false,
         "tickvals": [
          0,
          1,
          2,
          3,
          4,
          5,
          6,
          7
         ],
         "zeroline": false
        }
       }
      }
     },
     "metadata": {},
     "output_type": "display_data"
    },
    {
     "data": {
      "application/vnd.plotly.v1+json": {
       "config": {
        "plotlyServerURL": "https://plot.ly"
       },
       "data": [
        {
         "marker": {
          "color": [
           "#7CCFF2",
           "#FFF"
          ],
          "line": {
           "color": "#7CCFF2",
           "width": 2
          },
          "size": 8
         },
         "mode": "markers",
         "name": "IMAGE 3.2",
         "showlegend": false,
         "type": "scatter",
         "x": [
          7.73
         ],
         "y": [
          0.261
         ]
        },
        {
         "marker": {
          "color": [
           "#F198C1",
           "#FFF"
          ],
          "line": {
           "color": "#F198C1",
           "width": 2
          },
          "size": 8
         },
         "mode": "markers",
         "name": "MESSAGEix-GLOBIOM_1.2",
         "showlegend": false,
         "type": "scatter",
         "x": [
          24.01889234305985
         ],
         "y": [
          1.3197262405731098
         ]
        },
        {
         "marker": {
          "color": [
           "#3F1464",
           "#FFF"
          ],
          "line": {
           "color": "#3F1464",
           "width": 2
          },
          "size": 8
         },
         "mode": "markers",
         "name": "REMIND 2.1",
         "showlegend": false,
         "type": "scatter",
         "x": [
          0.6314392500000005
         ],
         "y": [
          0.12114870000000008
         ]
        },
        {
         "marker": {
          "color": [
           "#00AEEF",
           "#FFF"
          ],
          "line": {
           "color": "#00AEEF",
           "width": 2
          },
          "size": 8
         },
         "mode": "markers",
         "name": "TIAM-ECN 1.2",
         "showlegend": false,
         "type": "scatter",
         "x": [
          1.185999999999998
         ],
         "y": [
          0.1675
         ]
        },
        {
         "marker": {
          "color": [
           "#0071BB",
           "#FFF"
          ],
          "line": {
           "color": "#0071BB",
           "width": 2
          },
          "size": 8
         },
         "mode": "markers",
         "name": "WITCH 5.0",
         "showlegend": false,
         "type": "scatter",
         "x": [
          4.1652951765684065
         ],
         "y": [
          0.18866572730660006
         ]
        },
        {
         "legendgroup": "Age",
         "marker": {
          "color": "black",
          "size": 8,
          "symbol": "star"
         },
         "mode": "markers",
         "name": "Newest",
         "type": "scatter",
         "x": [
          null
         ],
         "y": [
          null
         ]
        },
        {
         "legendgroup": "Age",
         "marker": {
          "color": "black",
          "size": 4,
          "symbol": "circle"
         },
         "mode": "markers",
         "name": "Older version",
         "type": "scatter",
         "x": [
          null
         ],
         "y": [
          null
         ]
        },
        {
         "fill": "toself",
         "fillcolor": "rgba(0,0,0,.1)",
         "line": {
          "width": 0
         },
         "mode": "lines",
         "name": "16-84th perc.",
         "type": "scatter",
         "x": [
          6.407938418592493,
          6.407938418592493,
          24.791762530218662,
          24.791762530218662
         ],
         "xaxis": "x2",
         "y": [
          -1,
          8,
          8,
          -1
         ],
         "yaxis": "y2"
        },
        {
         "line": {
          "color": "#888",
          "width": 2
         },
         "mode": "lines",
         "name": "Median",
         "type": "scatter",
         "x": [
          18.199905105038532,
          18.199905105038532
         ],
         "xaxis": "x2",
         "y": [
          -1,
          8
         ],
         "yaxis": "y2"
        },
        {
         "marker": {
          "color": "#511607",
          "line": {
           "color": "#FFF",
           "width": 1
          },
          "opacity": 1,
          "size": [
           12
          ],
          "symbol": [
           "star"
          ]
         },
         "mode": "markers",
         "showlegend": false,
         "type": "scatter",
         "x": [
          null
         ],
         "xaxis": "x2",
         "y": [
          0
         ],
         "yaxis": "y2"
        },
        {
         "line": {
          "color": "#511607",
          "width": 3
         },
         "mode": "lines",
         "showlegend": false,
         "type": "scatter",
         "x": [
          -14.555752518072476,
          -10.8950389195404
         ],
         "xaxis": "x2",
         "y": [
          0,
          0
         ],
         "yaxis": "y2"
        },
        {
         "marker": {
          "color": "#bc7fcd",
          "line": {
           "color": "#FFF",
           "width": 1
          },
          "opacity": 1,
          "size": [
           12
          ],
          "symbol": [
           "star"
          ]
         },
         "mode": "markers",
         "showlegend": false,
         "type": "scatter",
         "x": [
          null
         ],
         "xaxis": "x2",
         "y": [
          1
         ],
         "yaxis": "y2"
        },
        {
         "line": {
          "color": "#bc7fcd",
          "width": 3
         },
         "mode": "lines",
         "showlegend": false,
         "type": "scatter",
         "x": [
          -14.555752518072476,
          -10.8950389195404
         ],
         "xaxis": "x2",
         "y": [
          1,
          1
         ],
         "yaxis": "y2"
        },
        {
         "marker": {
          "color": "#B6036C",
          "line": {
           "color": "#FFF",
           "width": 1
          },
          "opacity": 1,
          "size": [
           12
          ],
          "symbol": [
           "star"
          ]
         },
         "mode": "markers",
         "showlegend": false,
         "type": "scatter",
         "x": [
          null
         ],
         "xaxis": "x2",
         "y": [
          2
         ],
         "yaxis": "y2"
        },
        {
         "line": {
          "color": "#B6036C",
          "width": 3
         },
         "mode": "lines",
         "showlegend": false,
         "type": "scatter",
         "x": [
          -14.555752518072476,
          -10.8950389195404
         ],
         "xaxis": "x2",
         "y": [
          2,
          2
         ],
         "yaxis": "y2"
        },
        {
         "marker": {
          "color": "#F198C1",
          "line": {
           "color": "#FFF",
           "width": 1
          },
          "opacity": 1,
          "size": [
           12
          ],
          "symbol": [
           "star"
          ]
         },
         "mode": "markers",
         "showlegend": false,
         "type": "scatter",
         "x": [
          18.199905105038532
         ],
         "xaxis": "x2",
         "y": [
          3
         ],
         "yaxis": "y2"
        },
        {
         "line": {
          "color": "#F198C1",
          "width": 3
         },
         "mode": "lines",
         "showlegend": false,
         "type": "scatter",
         "x": [
          -14.555752518072476,
          -10.8950389195404
         ],
         "xaxis": "x2",
         "y": [
          3,
          3
         ],
         "yaxis": "y2"
        },
        {
         "marker": {
          "color": "#3F1464",
          "line": {
           "color": "#FFF",
           "width": 1
          },
          "opacity": 1,
          "size": [
           12
          ],
          "symbol": [
           "star"
          ]
         },
         "mode": "markers",
         "showlegend": false,
         "type": "scatter",
         "x": [
          5.212100914000728
         ],
         "xaxis": "x2",
         "y": [
          4
         ],
         "yaxis": "y2"
        },
        {
         "line": {
          "color": "#3F1464",
          "width": 3
         },
         "mode": "lines",
         "showlegend": false,
         "type": "scatter",
         "x": [
          -14.555752518072476,
          -10.8950389195404
         ],
         "xaxis": "x2",
         "y": [
          4,
          4
         ],
         "yaxis": "y2"
        },
        {
         "marker": {
          "color": "#0071BB",
          "line": {
           "color": "#FFF",
           "width": 1
          },
          "opacity": 1,
          "size": [
           12
          ],
          "symbol": [
           "star"
          ]
         },
         "mode": "markers",
         "showlegend": false,
         "type": "scatter",
         "x": [
          22.077646194845972
         ],
         "xaxis": "x2",
         "y": [
          5
         ],
         "yaxis": "y2"
        },
        {
         "line": {
          "color": "#0071BB",
          "width": 3
         },
         "mode": "lines",
         "showlegend": false,
         "type": "scatter",
         "x": [
          -14.555752518072476,
          -10.8950389195404
         ],
         "xaxis": "x2",
         "y": [
          5,
          5
         ],
         "yaxis": "y2"
        },
        {
         "marker": {
          "color": "#00AEEF",
          "line": {
           "color": "#FFF",
           "width": 1
          },
          "opacity": 1,
          "size": [
           12
          ],
          "symbol": [
           "star"
          ]
         },
         "mode": "markers",
         "showlegend": false,
         "type": "scatter",
         "x": [
          7.0805970149253605
         ],
         "xaxis": "x2",
         "y": [
          6
         ],
         "yaxis": "y2"
        },
        {
         "line": {
          "color": "#00AEEF",
          "width": 3
         },
         "mode": "lines",
         "showlegend": false,
         "type": "scatter",
         "x": [
          -14.555752518072476,
          -10.8950389195404
         ],
         "xaxis": "x2",
         "y": [
          6,
          6
         ],
         "yaxis": "y2"
        },
        {
         "marker": {
          "color": "#7CCFF2",
          "line": {
           "color": "#FFF",
           "width": 1
          },
          "opacity": 1,
          "size": [
           12
          ],
          "symbol": [
           "star"
          ]
         },
         "mode": "markers",
         "showlegend": false,
         "type": "scatter",
         "x": [
          29.616858237547895
         ],
         "xaxis": "x2",
         "y": [
          7
         ],
         "yaxis": "y2"
        },
        {
         "line": {
          "color": "#7CCFF2",
          "width": 3
         },
         "mode": "lines",
         "showlegend": false,
         "type": "scatter",
         "x": [
          -14.555752518072476,
          -10.8950389195404
         ],
         "xaxis": "x2",
         "y": [
          7,
          7
         ],
         "yaxis": "y2"
        },
        {
         "line": {
          "color": "#999"
         },
         "mode": "lines",
         "showlegend": false,
         "type": "scatter",
         "x": [
          30.83709610372525,
          31.569238823431668,
          31.569238823431668,
          30.83709610372525
         ],
         "xaxis": "x2",
         "y": [
          -0.3,
          -0.3,
          2.3,
          2.3
         ],
         "yaxis": "y2"
        },
        {
         "line": {
          "color": "#999"
         },
         "mode": "lines",
         "showlegend": false,
         "type": "scatter",
         "x": [
          30.83709610372525,
          31.569238823431668,
          31.569238823431668,
          30.83709610372525
         ],
         "xaxis": "x2",
         "y": [
          2.7,
          2.7,
          5.3,
          5.3
         ],
         "yaxis": "y2"
        },
        {
         "line": {
          "color": "#999"
         },
         "mode": "lines",
         "showlegend": false,
         "type": "scatter",
         "x": [
          30.83709610372525,
          31.569238823431668,
          31.569238823431668,
          30.83709610372525
         ],
         "xaxis": "x2",
         "y": [
          5.7,
          5.7,
          6.3,
          6.3
         ],
         "yaxis": "y2"
        },
        {
         "line": {
          "color": "#999"
         },
         "mode": "lines",
         "showlegend": false,
         "type": "scatter",
         "x": [
          30.83709610372525,
          31.569238823431668,
          31.569238823431668,
          30.83709610372525
         ],
         "xaxis": "x2",
         "y": [
          6.7,
          6.7,
          7.3,
          7.3
         ],
         "yaxis": "y2"
        }
       ],
       "layout": {
        "annotations": [
         {
          "font": {
           "size": 16
          },
          "showarrow": false,
          "text": "<b>a.</b> Emissions gap vs excess emisssions<br> ",
          "x": 0.196,
          "xanchor": "center",
          "xref": "paper",
          "y": 1,
          "yanchor": "bottom",
          "yref": "paper"
         },
         {
          "font": {
           "size": 16
          },
          "showarrow": false,
          "text": "<b>b.</b> Inertia Timescale per model<br> ",
          "x": 0.706,
          "xanchor": "center",
          "xref": "paper",
          "y": 1,
          "yanchor": "bottom",
          "yref": "paper"
         },
         {
          "bgcolor": "#FFF",
          "showarrow": false,
          "text": "Euro-Calliope 2.0",
          "x": -10.8950389195404,
          "xanchor": "left",
          "xref": "x2",
          "y": 0,
          "yref": "y2"
         },
         {
          "bgcolor": "#FFF",
          "showarrow": false,
          "text": "MEESA v1.1",
          "x": -10.8950389195404,
          "xanchor": "left",
          "xref": "x2",
          "y": 1,
          "yref": "y2"
         },
         {
          "bgcolor": "#FFF",
          "showarrow": false,
          "text": "OSeMBE v1.0.0",
          "x": -10.8950389195404,
          "xanchor": "left",
          "xref": "x2",
          "y": 2,
          "yref": "y2"
         },
         {
          "bgcolor": "#FFF",
          "showarrow": false,
          "text": "MESSAGEix-GLOBIOM_1.2",
          "x": -10.8950389195404,
          "xanchor": "left",
          "xref": "x2",
          "y": 3,
          "yref": "y2"
         },
         {
          "bgcolor": "#FFF",
          "showarrow": false,
          "text": "REMIND 2.1",
          "x": -10.8950389195404,
          "xanchor": "left",
          "xref": "x2",
          "y": 4,
          "yref": "y2"
         },
         {
          "bgcolor": "#FFF",
          "showarrow": false,
          "text": "WITCH 5.0",
          "x": -10.8950389195404,
          "xanchor": "left",
          "xref": "x2",
          "y": 5,
          "yref": "y2"
         },
         {
          "bgcolor": "#FFF",
          "showarrow": false,
          "text": "TIAM-ECN 1.2",
          "x": -10.8950389195404,
          "xanchor": "left",
          "xref": "x2",
          "y": 6,
          "yref": "y2"
         },
         {
          "bgcolor": "#FFF",
          "showarrow": false,
          "text": "IMAGE 3.2",
          "x": -10.8950389195404,
          "xanchor": "left",
          "xref": "x2",
          "y": 7,
          "yref": "y2"
         },
         {
          "bgcolor": "#FFF",
          "showarrow": false,
          "text": "?",
          "textangle": 90,
          "x": 31.75227450335827,
          "xanchor": "left",
          "xref": "x2",
          "y": 1,
          "yanchor": "middle",
          "yref": "y2"
         },
         {
          "bgcolor": "#FFF",
          "showarrow": false,
          "text": "GE-IT",
          "textangle": 90,
          "x": 31.75227450335827,
          "xanchor": "left",
          "xref": "x2",
          "y": 4,
          "yanchor": "middle",
          "yref": "y2"
         },
         {
          "bgcolor": "#FFF",
          "showarrow": false,
          "text": "PE-IT",
          "textangle": 90,
          "x": 31.75227450335827,
          "xanchor": "left",
          "xref": "x2",
          "y": 6,
          "yanchor": "middle",
          "yref": "y2"
         },
         {
          "bgcolor": "#FFF",
          "showarrow": false,
          "text": "PE-RD",
          "textangle": 90,
          "x": 31.75227450335827,
          "xanchor": "left",
          "xref": "x2",
          "y": 7,
          "yanchor": "middle",
          "yref": "y2"
         },
         {
          "align": "right",
          "arrowside": "start",
          "ax": -65,
          "ay": 0,
          "showarrow": true,
          "text": "Less inertia",
          "width": 130,
          "x": 18.199905105038532,
          "xanchor": "center",
          "xref": "x2",
          "xshift": -5,
          "y": -0.08,
          "yanchor": "top",
          "yref": "paper"
         },
         {
          "align": "left",
          "arrowside": "start",
          "ax": 65,
          "ay": 0,
          "showarrow": true,
          "text": "More inertia",
          "width": 130,
          "x": 18.199905105038532,
          "xanchor": "center",
          "xref": "x2",
          "xshift": 5,
          "y": -0.08,
          "yanchor": "top",
          "yref": "paper"
         }
        ],
        "height": 400,
        "hovermode": "closest",
        "legend": {
         "tracegroupgap": 0,
         "y": 0.5
        },
        "margin": {
         "b": 70,
         "l": 60,
         "r": 30,
         "t": 50
        },
        "template": {
         "data": {
          "scatter": [
           {
            "type": "scatter"
           }
          ]
         }
        },
        "width": 860,
        "xaxis": {
         "anchor": "y",
         "domain": [
          0,
          0.392
         ],
         "title": {
          "text": "Cumulative excess emissions (GtCO<sub>2</sub>)"
         }
        },
        "xaxis2": {
         "anchor": "y2",
         "domain": [
          0.41200000000000003,
          1
         ],
         "tickvals": [
          0,
          5,
          10,
          15,
          20,
          25
         ],
         "title": {
          "standoff": 40,
          "text": "Inertia Timescale (years)"
         }
        },
        "yaxis": {
         "anchor": "x",
         "domain": [
          0,
          1
         ],
         "title": {
          "text": "Emissions difference (GtCO<sub>2</sub>/yr)"
         }
        },
        "yaxis2": {
         "anchor": "x2",
         "domain": [
          0,
          1
         ],
         "gridcolor": "rgba(.2,.2,.2,.1)",
         "range": [
          8,
          -1
         ],
         "showticklabels": false,
         "tickvals": [
          0,
          1,
          2,
          3,
          4,
          5,
          6,
          7
         ],
         "zeroline": false
        }
       }
      }
     },
     "metadata": {},
     "output_type": "display_data"
    }
   ],
   "source": [
    "def create_fig_IT(suffix: 'c80|c30'):\n",
    "\n",
    "    fig_IT = make_subplots(1, 2, horizontal_spacing=0.02, column_widths=[0.4, 0.6], subplot_titles=(\n",
    "        '<b>a.</b> Emissions gap vs excess emisssions<br> ', '<b>b.</b> Inertia Timescale per model<br> '\n",
    "    ))\n",
    "\n",
    "    exclude_models_IT = 'GEM-E3|DNE21|PROMETHEUS|TIAM_Grantham|COFFEE'\n",
    "\n",
    "\n",
    "    ##############\n",
    "    # 4a: \n",
    "    ##############\n",
    "\n",
    "    cols_x = [f'Excess emissions {suffix}']\n",
    "    cols_y = [f'Gap emissions {suffix}']\n",
    "    for is_newest, selection in meta[\n",
    "        ~meta[cols_x+cols_y].isna().any(axis=1) \n",
    "        & ~meta['Stripped model'].str.contains(exclude_models_IT)\n",
    "    ].groupby('Newest'):\n",
    "        for model, info in selection.iterrows():\n",
    "            stripped_model = info['Stripped model']\n",
    "\n",
    "            if stripped_model not in models.index:\n",
    "                # Ignore entries that are not in `models`\n",
    "                continue\n",
    "\n",
    "            color = models.loc[stripped_model, 'Color'] if is_newest else '#BBB'\n",
    "\n",
    "            fig_IT.add_scatter(\n",
    "                x=info[cols_x], y=info[cols_y],\n",
    "                marker={'color': [color, '#FFF'], 'size': 8, 'line': {'color': color, 'width': 2}},\n",
    "                mode='markers', name=stripped_model,\n",
    "                showlegend=False\n",
    "            )\n",
    "\n",
    "\n",
    "\n",
    "    ##############\n",
    "    # 4b: IT\n",
    "    ##############\n",
    "\n",
    "\n",
    "    add_model_comparison(\n",
    "        fig_IT, 2, f'IT {suffix}',\n",
    "        narrative_left='Less inertia', narrative_right='More inertia',\n",
    "        exclude_models=exclude_models_IT\n",
    "    )\n",
    "\n",
    "\n",
    "\n",
    "    # Update layout\n",
    "    (\n",
    "        fig_IT\n",
    "        .update_xaxes(\n",
    "            col=1,\n",
    "            title='Cumulative excess emissions (GtCO<sub>2</sub>)'\n",
    "        )\n",
    "        .update_yaxes(\n",
    "            col=1,\n",
    "            title='Emissions difference (GtCO<sub>2</sub>/yr)'\n",
    "        )\n",
    "        .update_xaxes(\n",
    "            col=2,\n",
    "            tickvals=np.arange(0, 25.01, 5),\n",
    "            title='Inertia Timescale (years)',\n",
    "            title_standoff=40\n",
    "        )\n",
    "        .update_layout(\n",
    "            width=860,\n",
    "            height=400,\n",
    "            margin={'l': 60, 'r': 30, 't': 50, 'b': 70},\n",
    "            hovermode='closest'\n",
    "        )\n",
    "    )\n",
    "    return fig_IT"
   ]
  },
  {
   "cell_type": "markdown",
   "metadata": {},
   "source": [
    "## Cost per abatement value"
   ]
  },
  {
   "cell_type": "code",
   "execution_count": null,
   "metadata": {},
   "outputs": [],
   "source": [
    "def set_value_from_var_column(data, meta, metacol, col, year, scenario):\n",
    "    meta[col] = np.nan\n",
    "    for model, info in meta.iterrows():\n",
    "        var = info[metacol]\n",
    "        selection = data[\n",
    "            (data['Variable'] == var)\n",
    "            & (data['Model'] == model)\n",
    "            & (data['Scenario'] == scenario)\n",
    "        ]\n",
    "        if len(selection) > 0:\n",
    "            meta.loc[model, col] = selection.iloc[0][year]"
   ]
  },
  {
   "cell_type": "code",
   "execution_count": null,
   "metadata": {},
   "outputs": [
    {
     "ename": "ValueError",
     "evalue": "cannot reindex from a duplicate axis",
     "output_type": "error",
     "traceback": [
      "\u001b[1;31m---------------------------------------------------------------------------\u001b[0m",
      "\u001b[1;31mValueError\u001b[0m                                Traceback (most recent call last)",
      "\u001b[1;32m<ipython-input-116-1cfc1fec3f97>\u001b[0m in \u001b[0;36m<module>\u001b[1;34m\u001b[0m\n\u001b[0;32m     32\u001b[0m \u001b[1;33m\u001b[0m\u001b[0m\n\u001b[0;32m     33\u001b[0m     \u001b[1;31m# CAV < 0 or CAV > 2.5 is a mistake, exclude those\u001b[0m\u001b[1;33m\u001b[0m\u001b[1;33m\u001b[0m\u001b[1;33m\u001b[0m\u001b[0m\n\u001b[1;32m---> 34\u001b[1;33m     meta.loc[\n\u001b[0m\u001b[0;32m     35\u001b[0m         \u001b[1;33m~\u001b[0m\u001b[0mmeta\u001b[0m\u001b[1;33m[\u001b[0m\u001b[0mcol_CAV\u001b[0m\u001b[1;33m]\u001b[0m\u001b[1;33m.\u001b[0m\u001b[0mbetween\u001b[0m\u001b[1;33m(\u001b[0m\u001b[1;36m0\u001b[0m\u001b[1;33m,\u001b[0m \u001b[1;36m2.5\u001b[0m\u001b[1;33m)\u001b[0m\u001b[1;33m\u001b[0m\u001b[1;33m\u001b[0m\u001b[0m\n\u001b[0;32m     36\u001b[0m         \u001b[1;33m|\u001b[0m \u001b[1;33m(\u001b[0m\u001b[0mmeta\u001b[0m\u001b[1;33m[\u001b[0m\u001b[0mcol_per_GDP\u001b[0m\u001b[1;33m]\u001b[0m \u001b[1;33m>\u001b[0m \u001b[1;36m0.15\u001b[0m\u001b[1;33m)\u001b[0m\u001b[1;33m\u001b[0m\u001b[1;33m\u001b[0m\u001b[0m\n",
      "\u001b[1;32mC:\\PBLprogs\\Anaconda3\\lib\\site-packages\\pandas\\core\\indexing.py\u001b[0m in \u001b[0;36m__setitem__\u001b[1;34m(self, key, value)\u001b[0m\n\u001b[0;32m    717\u001b[0m         \u001b[1;32melse\u001b[0m\u001b[1;33m:\u001b[0m\u001b[1;33m\u001b[0m\u001b[1;33m\u001b[0m\u001b[0m\n\u001b[0;32m    718\u001b[0m             \u001b[0mkey\u001b[0m \u001b[1;33m=\u001b[0m \u001b[0mcom\u001b[0m\u001b[1;33m.\u001b[0m\u001b[0mapply_if_callable\u001b[0m\u001b[1;33m(\u001b[0m\u001b[0mkey\u001b[0m\u001b[1;33m,\u001b[0m \u001b[0mself\u001b[0m\u001b[1;33m.\u001b[0m\u001b[0mobj\u001b[0m\u001b[1;33m)\u001b[0m\u001b[1;33m\u001b[0m\u001b[1;33m\u001b[0m\u001b[0m\n\u001b[1;32m--> 719\u001b[1;33m         \u001b[0mindexer\u001b[0m \u001b[1;33m=\u001b[0m \u001b[0mself\u001b[0m\u001b[1;33m.\u001b[0m\u001b[0m_get_setitem_indexer\u001b[0m\u001b[1;33m(\u001b[0m\u001b[0mkey\u001b[0m\u001b[1;33m)\u001b[0m\u001b[1;33m\u001b[0m\u001b[1;33m\u001b[0m\u001b[0m\n\u001b[0m\u001b[0;32m    720\u001b[0m         \u001b[0mself\u001b[0m\u001b[1;33m.\u001b[0m\u001b[0m_has_valid_setitem_indexer\u001b[0m\u001b[1;33m(\u001b[0m\u001b[0mkey\u001b[0m\u001b[1;33m)\u001b[0m\u001b[1;33m\u001b[0m\u001b[1;33m\u001b[0m\u001b[0m\n\u001b[0;32m    721\u001b[0m \u001b[1;33m\u001b[0m\u001b[0m\n",
      "\u001b[1;32mC:\\PBLprogs\\Anaconda3\\lib\\site-packages\\pandas\\core\\indexing.py\u001b[0m in \u001b[0;36m_get_setitem_indexer\u001b[1;34m(self, key)\u001b[0m\n\u001b[0;32m    644\u001b[0m         \"\"\"\n\u001b[0;32m    645\u001b[0m         \u001b[1;32mif\u001b[0m \u001b[0mself\u001b[0m\u001b[1;33m.\u001b[0m\u001b[0mname\u001b[0m \u001b[1;33m==\u001b[0m \u001b[1;34m\"loc\"\u001b[0m\u001b[1;33m:\u001b[0m\u001b[1;33m\u001b[0m\u001b[1;33m\u001b[0m\u001b[0m\n\u001b[1;32m--> 646\u001b[1;33m             \u001b[0mself\u001b[0m\u001b[1;33m.\u001b[0m\u001b[0m_ensure_listlike_indexer\u001b[0m\u001b[1;33m(\u001b[0m\u001b[0mkey\u001b[0m\u001b[1;33m)\u001b[0m\u001b[1;33m\u001b[0m\u001b[1;33m\u001b[0m\u001b[0m\n\u001b[0m\u001b[0;32m    647\u001b[0m \u001b[1;33m\u001b[0m\u001b[0m\n\u001b[0;32m    648\u001b[0m         \u001b[1;32mif\u001b[0m \u001b[0mself\u001b[0m\u001b[1;33m.\u001b[0m\u001b[0maxis\u001b[0m \u001b[1;32mis\u001b[0m \u001b[1;32mnot\u001b[0m \u001b[1;32mNone\u001b[0m\u001b[1;33m:\u001b[0m\u001b[1;33m\u001b[0m\u001b[1;33m\u001b[0m\u001b[0m\n",
      "\u001b[1;32mC:\\PBLprogs\\Anaconda3\\lib\\site-packages\\pandas\\core\\indexing.py\u001b[0m in \u001b[0;36m_ensure_listlike_indexer\u001b[1;34m(self, key, axis, value)\u001b[0m\n\u001b[0;32m    707\u001b[0m             \u001b[0mkeys\u001b[0m \u001b[1;33m=\u001b[0m \u001b[0mself\u001b[0m\u001b[1;33m.\u001b[0m\u001b[0mobj\u001b[0m\u001b[1;33m.\u001b[0m\u001b[0mcolumns\u001b[0m\u001b[1;33m.\u001b[0m\u001b[0munion\u001b[0m\u001b[1;33m(\u001b[0m\u001b[0mkey\u001b[0m\u001b[1;33m,\u001b[0m \u001b[0msort\u001b[0m\u001b[1;33m=\u001b[0m\u001b[1;32mFalse\u001b[0m\u001b[1;33m)\u001b[0m\u001b[1;33m\u001b[0m\u001b[1;33m\u001b[0m\u001b[0m\n\u001b[0;32m    708\u001b[0m \u001b[1;33m\u001b[0m\u001b[0m\n\u001b[1;32m--> 709\u001b[1;33m             self.obj._mgr = self.obj._mgr.reindex_axis(\n\u001b[0m\u001b[0;32m    710\u001b[0m                 \u001b[0mkeys\u001b[0m\u001b[1;33m,\u001b[0m \u001b[0maxis\u001b[0m\u001b[1;33m=\u001b[0m\u001b[1;36m0\u001b[0m\u001b[1;33m,\u001b[0m \u001b[0mconsolidate\u001b[0m\u001b[1;33m=\u001b[0m\u001b[1;32mFalse\u001b[0m\u001b[1;33m,\u001b[0m \u001b[0monly_slice\u001b[0m\u001b[1;33m=\u001b[0m\u001b[1;32mTrue\u001b[0m\u001b[1;33m\u001b[0m\u001b[1;33m\u001b[0m\u001b[0m\n\u001b[0;32m    711\u001b[0m             )\n",
      "\u001b[1;32mC:\\PBLprogs\\Anaconda3\\lib\\site-packages\\pandas\\core\\internals\\base.py\u001b[0m in \u001b[0;36mreindex_axis\u001b[1;34m(self, new_index, axis, fill_value, consolidate, only_slice)\u001b[0m\n\u001b[0;32m     87\u001b[0m         \u001b[0mnew_index\u001b[0m\u001b[1;33m,\u001b[0m \u001b[0mindexer\u001b[0m \u001b[1;33m=\u001b[0m \u001b[0mself\u001b[0m\u001b[1;33m.\u001b[0m\u001b[0maxes\u001b[0m\u001b[1;33m[\u001b[0m\u001b[0maxis\u001b[0m\u001b[1;33m]\u001b[0m\u001b[1;33m.\u001b[0m\u001b[0mreindex\u001b[0m\u001b[1;33m(\u001b[0m\u001b[0mnew_index\u001b[0m\u001b[1;33m)\u001b[0m\u001b[1;33m\u001b[0m\u001b[1;33m\u001b[0m\u001b[0m\n\u001b[0;32m     88\u001b[0m \u001b[1;33m\u001b[0m\u001b[0m\n\u001b[1;32m---> 89\u001b[1;33m         return self.reindex_indexer(\n\u001b[0m\u001b[0;32m     90\u001b[0m             \u001b[0mnew_index\u001b[0m\u001b[1;33m,\u001b[0m\u001b[1;33m\u001b[0m\u001b[1;33m\u001b[0m\u001b[0m\n\u001b[0;32m     91\u001b[0m             \u001b[0mindexer\u001b[0m\u001b[1;33m,\u001b[0m\u001b[1;33m\u001b[0m\u001b[1;33m\u001b[0m\u001b[0m\n",
      "\u001b[1;32mC:\\PBLprogs\\Anaconda3\\lib\\site-packages\\pandas\\core\\internals\\managers.py\u001b[0m in \u001b[0;36mreindex_indexer\u001b[1;34m(self, new_axis, indexer, axis, fill_value, allow_dups, copy, consolidate, only_slice)\u001b[0m\n\u001b[0;32m    668\u001b[0m         \u001b[1;31m# some axes don't allow reindexing with dups\u001b[0m\u001b[1;33m\u001b[0m\u001b[1;33m\u001b[0m\u001b[1;33m\u001b[0m\u001b[0m\n\u001b[0;32m    669\u001b[0m         \u001b[1;32mif\u001b[0m \u001b[1;32mnot\u001b[0m \u001b[0mallow_dups\u001b[0m\u001b[1;33m:\u001b[0m\u001b[1;33m\u001b[0m\u001b[1;33m\u001b[0m\u001b[0m\n\u001b[1;32m--> 670\u001b[1;33m             \u001b[0mself\u001b[0m\u001b[1;33m.\u001b[0m\u001b[0maxes\u001b[0m\u001b[1;33m[\u001b[0m\u001b[0maxis\u001b[0m\u001b[1;33m]\u001b[0m\u001b[1;33m.\u001b[0m\u001b[0m_validate_can_reindex\u001b[0m\u001b[1;33m(\u001b[0m\u001b[0mindexer\u001b[0m\u001b[1;33m)\u001b[0m\u001b[1;33m\u001b[0m\u001b[1;33m\u001b[0m\u001b[0m\n\u001b[0m\u001b[0;32m    671\u001b[0m \u001b[1;33m\u001b[0m\u001b[0m\n\u001b[0;32m    672\u001b[0m         \u001b[1;32mif\u001b[0m \u001b[0maxis\u001b[0m \u001b[1;33m>=\u001b[0m \u001b[0mself\u001b[0m\u001b[1;33m.\u001b[0m\u001b[0mndim\u001b[0m\u001b[1;33m:\u001b[0m\u001b[1;33m\u001b[0m\u001b[1;33m\u001b[0m\u001b[0m\n",
      "\u001b[1;32mC:\\PBLprogs\\Anaconda3\\lib\\site-packages\\pandas\\core\\indexes\\base.py\u001b[0m in \u001b[0;36m_validate_can_reindex\u001b[1;34m(self, indexer)\u001b[0m\n\u001b[0;32m   3783\u001b[0m         \u001b[1;31m# trying to reindex on an axis with duplicates\u001b[0m\u001b[1;33m\u001b[0m\u001b[1;33m\u001b[0m\u001b[1;33m\u001b[0m\u001b[0m\n\u001b[0;32m   3784\u001b[0m         \u001b[1;32mif\u001b[0m \u001b[1;32mnot\u001b[0m \u001b[0mself\u001b[0m\u001b[1;33m.\u001b[0m\u001b[0m_index_as_unique\u001b[0m \u001b[1;32mand\u001b[0m \u001b[0mlen\u001b[0m\u001b[1;33m(\u001b[0m\u001b[0mindexer\u001b[0m\u001b[1;33m)\u001b[0m\u001b[1;33m:\u001b[0m\u001b[1;33m\u001b[0m\u001b[1;33m\u001b[0m\u001b[0m\n\u001b[1;32m-> 3785\u001b[1;33m             \u001b[1;32mraise\u001b[0m \u001b[0mValueError\u001b[0m\u001b[1;33m(\u001b[0m\u001b[1;34m\"cannot reindex from a duplicate axis\"\u001b[0m\u001b[1;33m)\u001b[0m\u001b[1;33m\u001b[0m\u001b[1;33m\u001b[0m\u001b[0m\n\u001b[0m\u001b[0;32m   3786\u001b[0m \u001b[1;33m\u001b[0m\u001b[0m\n\u001b[0;32m   3787\u001b[0m     def reindex(\n",
      "\u001b[1;31mValueError\u001b[0m: cannot reindex from a duplicate axis"
     ]
    }
   ],
   "source": [
    "def create_fig_CAV(year: str, xrange=None, **kwargs):\n",
    "    fig_CAV = make_subplots(1, 2, horizontal_spacing=0.02, column_widths=[0.4, 0.6], subplot_titles=(\n",
    "        '<b>a.</b> Costs vs abatement<br> ', f'<b>b.</b> CAV per model ({year})<br> '\n",
    "    ))\n",
    "\n",
    "    ##############\n",
    "    # 5a: \n",
    "    ##############\n",
    "\n",
    "    cols_x = ['Policy cost 2050 per GDP', 'Policy cost 2100 per GDP']\n",
    "    cols_y = ['RAI c80 2050 CO2 FFI', 'RAI c80 2100 CO2 FFI']\n",
    "\n",
    "    # Add background shape for 2050 and 2100\n",
    "    for col_x, col_y, col_year in [(cols_x[0], cols_y[0], 2050), (cols_x[1], cols_y[1], 2100)]:\n",
    "        selection = meta[~meta[[col_x, col_y]].isna().any(axis=1)]\n",
    "        x_ellipse, y_ellipse = confidence_ellipse(selection[col_x], selection[col_y], 2)\n",
    "        fig_CAV.add_scatter(\n",
    "            x=x_ellipse, y=y_ellipse, fill='toself',\n",
    "            showlegend=False, fillcolor='rgba(0,0,0,.08)', line_width=0\n",
    "        )\n",
    "        fig_CAV.add_annotation(\n",
    "            text=col_year,\n",
    "            x=max(x_ellipse), y=max(y_ellipse) if col_year == 2100 else min(y_ellipse),\n",
    "            font_color='#999', showarrow=False\n",
    "        )\n",
    "\n",
    "\n",
    "    for is_newest, selection in meta[~meta[cols_x+cols_y].isna().any(axis=1)].groupby('Newest'):\n",
    "        for model, info in selection.iterrows():\n",
    "            stripped_model = info['Stripped model']\n",
    "\n",
    "            if stripped_model not in models.index:\n",
    "                # Ignore entries that are not in `models`\n",
    "                continue\n",
    "\n",
    "            color = models.loc[stripped_model, 'Color'] if is_newest else '#BBB'\n",
    "\n",
    "            fig_CAV.add_scatter(\n",
    "                x=info[cols_x], y=info[cols_y],\n",
    "                marker={'color': [color, '#FFF'], 'size': 8, 'line': {'color': color, 'width': 2}},\n",
    "                line={'color': color, 'width': 1, 'dash': 'solid'},\n",
    "                mode='markers+lines', name=stripped_model,\n",
    "                showlegend=False\n",
    "            )\n",
    "\n",
    "\n",
    "\n",
    "\n",
    "\n",
    "    ##############\n",
    "    # 5b: CAV\n",
    "    ##############\n",
    "\n",
    "    add_model_comparison(\n",
    "        fig_CAV, 2, f'CAV {year}',\n",
    "        narrative_left='Less expensive', narrative_right='More expensive',\n",
    "        **kwargs\n",
    "    )\n",
    "\n",
    "\n",
    "\n",
    "    # Update layout\n",
    "    (\n",
    "        fig_CAV\n",
    "        .update_xaxes(\n",
    "            col=1,\n",
    "            gridcolor=gridcolor,\n",
    "            title='Policy cost (% of GDP)',\n",
    "            rangemode='tozero',\n",
    "            tickformat='%'\n",
    "        )\n",
    "        .update_yaxes(\n",
    "            col=1,\n",
    "            gridcolor=gridcolor,\n",
    "            title='Rel. abatement index',\n",
    "            title_standoff=40,\n",
    "            rangemode='tozero'\n",
    "        )\n",
    "        .update_xaxes(\n",
    "            col=2,\n",
    "            tickvals=np.arange(0, 1.81, 0.4),\n",
    "            title='CAV',\n",
    "            range=xrange,\n",
    "            # title='CI over EI (rel. to baseline)',\n",
    "            title_standoff=40\n",
    "        )\n",
    "        .update_layout(\n",
    "            width=860,\n",
    "            height=400,\n",
    "            margin={'l': 60, 'r': 30, 't': 50, 'b': 70},\n",
    "            hovermode='closest'\n",
    "        )\n",
    "    )\n",
    "    return fig_CAV"
   ]
  }
 ],
 "metadata": {
  "kernelspec": {
   "display_name": "Python 3",
   "language": "python",
   "name": "python3"
  },
  "language_info": {
   "codemirror_mode": {
    "name": "ipython",
    "version": 3
   },
   "file_extension": ".py",
   "mimetype": "text/x-python",
   "name": "python",
   "nbconvert_exporter": "python",
   "pygments_lexer": "ipython3",
   "version": "3.8.3"
  }
 },
 "nbformat": 4,
 "nbformat_minor": 2
}
