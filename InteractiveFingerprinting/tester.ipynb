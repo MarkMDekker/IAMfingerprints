{
 "cells": [
  {
   "cell_type": "code",
   "execution_count": 233,
   "metadata": {},
   "outputs": [],
   "source": [
    "%run main.py"
   ]
  },
  {
   "cell_type": "code",
   "execution_count": 217,
   "metadata": {},
   "outputs": [],
   "source": [
    "self = calculator"
   ]
  },
  {
   "cell_type": "code",
   "execution_count": 234,
   "metadata": {},
   "outputs": [],
   "source": [
    "import matplotlib.pyplot as plt\n",
    "import plotly.express as px\n",
    "import plotly.graph_objects as go\n",
    "from plotly.subplots import make_subplots"
   ]
  },
  {
   "cell_type": "code",
   "execution_count": 331,
   "metadata": {},
   "outputs": [],
   "source": [
    "start_reg = 'China'\n",
    "scen = 'ELV-SSP2-NDC-D0'\n",
    "start_var = \"Primary Energy|Wind\"\n",
    "available_var = np.array([x for x in self.settings['required_variables'] if x in self.xr_data['Variable'].values])\n",
    "\n",
    "fig = make_subplots(rows=2, cols=3,\n",
    "                    specs=[[{}, {}, {}], [{}, {}, {}]],\n",
    "                    subplot_titles=[f'{r}' for r in np.array(self.xr_data.Region)],\n",
    "                    horizontal_spacing = 0.04, vertical_spacing=0.10)\n",
    "\n",
    "for m_i, m in enumerate(np.array(self.xr_data.Model)):\n",
    "    for r_i, r in enumerate(np.array(self.xr_data.Region)):\n",
    "        fig.add_trace(go.Scatter(x=self.xr_data.Time,\n",
    "                                y=self.xr_data.sel(Variable=start_var,\n",
    "                                                    Region=r,\n",
    "                                                    Model=m,\n",
    "                                                    Scenario=scen).Value,\n",
    "                                showlegend=[True, False, False, False, False, False][r_i],\n",
    "                                line=dict(color = ['steelblue', 'tomato', 'forestgreen', 'goldenrod', 'brown', 'purple'][m_i]),\n",
    "                                name=m), row=[1, 1, 1, 2, 2, 2][r_i], col=[1, 2, 3, 1, 2, 3][r_i])\n",
    "\n",
    "\n",
    "fig.update_layout(title=f'<b>{var}</b> under <b>{scen}')\n",
    "# DROPDOWN\n",
    "fig.update_layout(\n",
    "    updatemenus=[\n",
    "        {'x':-0.05,\n",
    "         'xanchor':\"right\",\n",
    "         'yanchor':\"top\",\n",
    "         'y':1.0,\n",
    "         'direction':\"down\",\n",
    "         'active':int(np.where(available_var == start_var)[0][0]),\n",
    "         'showactive':True,\n",
    "         \"buttons\": [dict(\n",
    "                    label=var,\n",
    "                    method=\"update\",\n",
    "                    args=[{\"y\": [np.array(self.xr_data.sel(Variable=var, Region=reg, Model=m, Scenario=scen).Value) for m in self.settings['models'] for reg in np.array(self.xr_data.Region)]},\n",
    "                         {'title.text': f'<b>{var}</b> under <b>{scen}', \"yaxis.title.text\": ''}], #\n",
    "                ) for var in available_var]\n",
    "        },\n",
    "    ]\n",
    ")\n",
    "fig.update_layout(legend=dict(\n",
    "    yanchor=\"top\",\n",
    "    y=0.50,\n",
    "    xanchor=\"right\",\n",
    "    x=-0.15,\n",
    "    font=dict( \n",
    "        size=14,\n",
    "        color=\"black\"\n",
    "    ),\n",
    "))\n",
    "\n",
    "fig.update_layout(height=700, width=1600, template='plotly_white')\n",
    "\n",
    "import os\n",
    "try:\n",
    "    os.remove('Figures/VariableData.html')\n",
    "except:\n",
    "    3\n",
    "def html_w(typ):\n",
    "    return '<html> '+typ+' <p style=\"font-family: Arial\">'\n",
    "\n",
    "with open('Figures/VariableData.html', 'a') as f:\n",
    "    f.write(html_w('<h1>')+'Variable data</p></h1>')\n",
    "    f.write(html_w('<body>')+'This page contains the data for the a selection of variables from the ELEVATE project</p></body>')\n",
    "    f.write(fig.to_html(full_html=False, include_plotlyjs='cdn'))"
   ]
  }
 ],
 "metadata": {
  "kernelspec": {
   "display_name": "MyEnv15",
   "language": "python",
   "name": "python3"
  },
  "language_info": {
   "codemirror_mode": {
    "name": "ipython",
    "version": 3
   },
   "file_extension": ".py",
   "mimetype": "text/x-python",
   "name": "python",
   "nbconvert_exporter": "python",
   "pygments_lexer": "ipython3",
   "version": "3.12.1"
  }
 },
 "nbformat": 4,
 "nbformat_minor": 2
}
