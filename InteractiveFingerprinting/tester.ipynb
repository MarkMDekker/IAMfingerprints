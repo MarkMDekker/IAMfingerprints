{
 "cells": [
  {
   "cell_type": "code",
   "execution_count": 1,
   "metadata": {},
   "outputs": [
    {
     "name": "stdout",
     "output_type": "stream",
     "text": [
      "STARTING READING\n",
      "- Reading reference and your own scenario from local data and saving to xr_variables.nc\n",
      "STARTING CALCULATIONS\n",
      "- Calculating responsiveness indicators\n",
      "- Calculating mitigation strategy indicators\n",
      "- Calculating energy supply indicators\n",
      "- Calculating energy demand indicators\n",
      "- Calculating cost and effort indicators\n",
      "- Saving indicator data into xarray object (xr_indicators.nc)\n",
      "STARTING PLOTTING\n",
      "- Plotting variables into /Figures/VariableData.html\n",
      "- Plotting normalized variables into /Figures/VariableData_norm.html\n",
      "- Plotting variables into /Figures/Indicators.html\n"
     ]
    }
   ],
   "source": [
    "%run main.py"
   ]
  }
 ],
 "metadata": {
  "kernelspec": {
   "display_name": "MyEnv15",
   "language": "python",
   "name": "python3"
  },
  "language_info": {
   "codemirror_mode": {
    "name": "ipython",
    "version": 3
   },
   "file_extension": ".py",
   "mimetype": "text/x-python",
   "name": "python",
   "nbconvert_exporter": "python",
   "pygments_lexer": "ipython3",
   "version": "3.12.5"
  }
 },
 "nbformat": 4,
 "nbformat_minor": 2
}
