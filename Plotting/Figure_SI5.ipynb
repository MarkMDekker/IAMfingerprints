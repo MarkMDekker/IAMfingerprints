{
 "cells": [
  {
   "attachments": {},
   "cell_type": "markdown",
   "metadata": {},
   "source": [
    "## Preambule"
   ]
  },
  {
   "cell_type": "code",
   "execution_count": 7,
   "metadata": {},
   "outputs": [],
   "source": [
    "import numpy as np\n",
    "import pandas as pd\n",
    "import matplotlib.pyplot as plt\n",
    "import matplotlib.patches as pth\n",
    "import xarray as xr\n",
    "from plotly.subplots import make_subplots\n",
    "from tqdm import tqdm\n",
    "import plotly.graph_objects as go\n",
    "from pathlib import Path\n",
    "import yaml"
   ]
  },
  {
   "attachments": {},
   "cell_type": "markdown",
   "metadata": {},
   "source": [
    "## Read"
   ]
  },
  {
   "cell_type": "code",
   "execution_count": 8,
   "metadata": {},
   "outputs": [],
   "source": [
    "with open(\"../Configuration/config.yaml\", \"r\") as stream:\n",
    "    settings = yaml.load(stream, Loader=yaml.Loader)\n",
    "integers_touse = [0, 1, 3, 4, 5, 7, 8, 9]\n",
    "list_of_models = np.array([settings['models'][m]['full_name'] for m in settings['models'].keys()])[integers_touse]\n",
    "list_of_model_shortnames = np.array([settings['models'][m]['short_name'] for m in settings['models'].keys()])[integers_touse]\n",
    "list_of_colors = np.array([settings['models'][m]['color'] for m in settings['models'].keys()])[integers_touse]\n",
    "ind_xr = xr.open_dataset(settings['paths']['data']['output']+\"XRindicators.nc\").sel(Model=list_of_models, Region='Europe')\n",
    "data_xr = xr.open_dataset(settings['paths']['data']['handling']+\"XRdata.nc\").sel(Model=list_of_models, Region='Europe')"
   ]
  },
  {
   "attachments": {},
   "cell_type": "markdown",
   "metadata": {},
   "source": [
    "## Check coverage"
   ]
  },
  {
   "cell_type": "code",
   "execution_count": 9,
   "metadata": {},
   "outputs": [
    {
     "name": "stdout",
     "output_type": "stream",
     "text": [
      "Fraction model-scenario coverage: 0.8875\n"
     ]
    }
   ],
   "source": [
    "ar = np.array(data_xr.sel(Variable=\"Emissions|CO2\", Time=2050, Scenario=settings['scenarios_c400']+['DIAG-NPI']).Value).flatten()\n",
    "print(\"Fraction model-scenario coverage:\", len(np.where(~np.isnan(ar))[0])/len(ar))"
   ]
  },
  {
   "attachments": {},
   "cell_type": "markdown",
   "metadata": {},
   "source": [
    "## Now specify to only the c400 scenarios"
   ]
  },
  {
   "cell_type": "code",
   "execution_count": 10,
   "metadata": {},
   "outputs": [],
   "source": [
    "ind_xr = xr.open_dataset(settings['paths']['data']['output']+\"XRindicators.nc\").sel(Scenario=settings['scenarios_c400'], Model=list_of_models, Region='Europe')\n",
    "data_xr = xr.open_dataset(settings['paths']['data']['handling']+\"XRdata.nc\").sel(Scenario=settings['scenarios_c400'], Model=list_of_models, Region='Europe')"
   ]
  },
  {
   "attachments": {},
   "cell_type": "markdown",
   "metadata": {},
   "source": [
    "## Plot"
   ]
  },
  {
   "cell_type": "code",
   "execution_count": 11,
   "metadata": {},
   "outputs": [],
   "source": [
    "font_symbol = 18\n",
    "font_axes = 30\n",
    "font_annot = 25\n",
    "names = ['B', 'C', 'N', 'V', 'El', 'H', 'F', 'Ef', '-']"
   ]
  },
  {
   "cell_type": "code",
   "execution_count": 12,
   "metadata": {},
   "outputs": [
    {
     "data": {
      "application/vnd.plotly.v1+json": {
       "config": {
        "plotlyServerURL": "https://plotly.com"
       },
       "data": [
        {
         "line": {
          "dash": "dash"
         },
         "marker": {
          "color": "silver",
          "line": {
           "color": "black",
           "width": 0
          },
          "size": 35,
          "symbol": "square"
         },
         "mode": "text+lines",
         "showlegend": false,
         "text": "η",
         "textfont": {
          "size": 18
         },
         "type": "scatter",
         "x": [
          0,
          113,
          1000
         ],
         "xaxis": "x",
         "y": [
          0.9299800733462938,
          0.9299800733462938,
          0.9299800733462938
         ],
         "yaxis": "y"
        },
        {
         "marker": {
          "color": "silver",
          "line": {
           "color": "black",
           "width": 0
          },
          "size": 35,
          "symbol": "square"
         },
         "mode": "text",
         "showlegend": false,
         "text": "+σ",
         "textfont": {
          "size": 18
         },
         "type": "scatter",
         "x": [
          0,
          113,
          1000
         ],
         "xaxis": "x",
         "y": [
          1.0643302340496086,
          1.0643302340496086,
          1.0643302340496086
         ],
         "yaxis": "y"
        },
        {
         "marker": {
          "color": "silver",
          "line": {
           "color": "black",
           "width": 0
          },
          "size": 35,
          "symbol": "square"
         },
         "mode": "text",
         "showlegend": false,
         "text": "-σ",
         "textfont": {
          "size": 18
         },
         "type": "scatter",
         "x": [
          0,
          113,
          1000
         ],
         "xaxis": "x",
         "y": [
          0.7956299126429792,
          0.7956299126429792,
          0.7956299126429792
         ],
         "yaxis": "y"
        },
        {
         "marker": {
          "color": "silver",
          "line": {
           "color": "black",
           "width": 0
          },
          "size": 35,
          "symbol": "square"
         },
         "mode": "text",
         "showlegend": false,
         "text": "+2σ",
         "textfont": {
          "size": 18
         },
         "type": "scatter",
         "x": [
          0,
          113,
          1000
         ],
         "xaxis": "x",
         "y": [
          1.1986803947529232,
          1.1986803947529232,
          1.1986803947529232
         ],
         "yaxis": "y"
        },
        {
         "marker": {
          "color": "silver",
          "line": {
           "color": "black",
           "width": 0
          },
          "size": 35,
          "symbol": "square"
         },
         "mode": "text",
         "showlegend": false,
         "text": "-2σ",
         "textfont": {
          "size": 18
         },
         "type": "scatter",
         "x": [
          0,
          113,
          1000
         ],
         "xaxis": "x",
         "y": [
          0.6612797519396646,
          0.6612797519396646,
          0.6612797519396646
         ],
         "yaxis": "y"
        },
        {
         "fill": "toself",
         "fillcolor": "silver",
         "line": {
          "color": "silver"
         },
         "opacity": 0.25,
         "showlegend": false,
         "type": "scatter",
         "x": [
          -1000,
          1000,
          1000,
          -1000
         ],
         "xaxis": "x",
         "y": [
          0.7956299126429792,
          0.7956299126429792,
          1.0643302340496086,
          1.0643302340496086
         ],
         "yaxis": "y"
        },
        {
         "fill": "toself",
         "fillcolor": "silver",
         "line": {
          "color": "silver"
         },
         "opacity": 0.1,
         "showlegend": false,
         "type": "scatter",
         "x": [
          -1000,
          1000,
          1000,
          -1000
         ],
         "xaxis": "x",
         "y": [
          0.6612797519396646,
          0.6612797519396646,
          1.1986803947529232,
          1.1986803947529232
         ],
         "yaxis": "y"
        },
        {
         "line": {
          "dash": "dash"
         },
         "marker": {
          "color": "silver",
          "line": {
           "color": "black",
           "width": 0
          },
          "size": 35,
          "symbol": "square"
         },
         "mode": "text+lines",
         "showlegend": false,
         "text": "η",
         "textfont": {
          "size": 18
         },
         "type": "scatter",
         "x": [
          170.42559875959296,
          170.42559875959296,
          170.42559875959296
         ],
         "xaxis": "x",
         "y": [
          -1000,
          0.61,
          1000
         ],
         "yaxis": "y"
        },
        {
         "line": {
          "dash": "dash"
         },
         "marker": {
          "color": "silver",
          "line": {
           "color": "black",
           "width": 0
          },
          "size": 35,
          "symbol": "square"
         },
         "mode": "text",
         "showlegend": false,
         "text": "+σ",
         "textfont": {
          "size": 18
         },
         "type": "scatter",
         "x": [
          195.6599963589514,
          195.6599963589514,
          195.6599963589514
         ],
         "xaxis": "x",
         "y": [
          -1000,
          0.61,
          1000
         ],
         "yaxis": "y"
        },
        {
         "line": {
          "dash": "dash"
         },
         "marker": {
          "color": "silver",
          "line": {
           "color": "black",
           "width": 0
          },
          "size": 35,
          "symbol": "square"
         },
         "mode": "text",
         "showlegend": false,
         "text": "-σ",
         "textfont": {
          "size": 18
         },
         "type": "scatter",
         "x": [
          145.19120116023453,
          145.19120116023453,
          145.19120116023453
         ],
         "xaxis": "x",
         "y": [
          -1000,
          0.61,
          1000
         ],
         "yaxis": "y"
        },
        {
         "line": {
          "dash": "dash"
         },
         "marker": {
          "color": "silver",
          "line": {
           "color": "black",
           "width": 0
          },
          "size": 35,
          "symbol": "square"
         },
         "mode": "text",
         "showlegend": false,
         "text": "+2σ",
         "textfont": {
          "size": 18
         },
         "type": "scatter",
         "x": [
          220.89439395830982,
          220.89439395830982,
          220.89439395830982
         ],
         "xaxis": "x",
         "y": [
          -1000,
          0.61,
          1000
         ],
         "yaxis": "y"
        },
        {
         "line": {
          "dash": "dash"
         },
         "marker": {
          "color": "silver",
          "line": {
           "color": "black",
           "width": 0
          },
          "size": 35,
          "symbol": "square"
         },
         "mode": "text",
         "showlegend": false,
         "text": "-2σ",
         "textfont": {
          "size": 18
         },
         "type": "scatter",
         "x": [
          119.9568035608761,
          119.9568035608761,
          119.9568035608761
         ],
         "xaxis": "x",
         "y": [
          -1000,
          0.61,
          1000
         ],
         "yaxis": "y"
        },
        {
         "fill": "toself",
         "fillcolor": "silver",
         "line": {
          "color": "silver"
         },
         "opacity": 0.25,
         "showlegend": false,
         "type": "scatter",
         "x": [
          145.19120116023453,
          145.19120116023453,
          195.6599963589514,
          195.6599963589514
         ],
         "xaxis": "x",
         "y": [
          -1000,
          1000,
          1000,
          -1000
         ],
         "yaxis": "y"
        },
        {
         "fill": "toself",
         "fillcolor": "silver",
         "line": {
          "color": "silver"
         },
         "opacity": 0.1,
         "showlegend": false,
         "type": "scatter",
         "x": [
          119.9568035608761,
          119.9568035608761,
          220.89439395830982,
          220.89439395830982
         ],
         "xaxis": "x",
         "y": [
          -1000,
          1000,
          1000,
          -1000
         ],
         "yaxis": "y"
        },
        {
         "line": {
          "dash": "solid",
          "width": 3
         },
         "marker": {
          "color": "lightskyblue",
          "line": {
           "color": "black",
           "width": 0.5
          },
          "size": [
           12,
           30
          ]
         },
         "mode": "lines+markers",
         "name": "IMAGE 3.2",
         "showlegend": false,
         "text": [
          "",
          "B"
         ],
         "textfont": {
          "color": "black",
          "size": 15
         },
         "type": "scatter",
         "x": [
          190.77519531250027,
          185.72645874023465
         ],
         "xaxis": "x",
         "y": [
          1.0052226798782398,
          0.8270081018022286
         ],
         "yaxis": "y"
        },
        {
         "line": {
          "dash": "solid",
          "width": 3
         },
         "marker": {
          "color": "lightskyblue",
          "line": {
           "color": "black",
           "width": 0.5
          },
          "size": [
           12,
           30
          ]
         },
         "mode": "lines+markers",
         "name": "IMAGE 3.2",
         "showlegend": false,
         "text": [
          "",
          "C"
         ],
         "textfont": {
          "color": "black",
          "size": 15
         },
         "type": "scatter",
         "x": [
          190.77519531250027,
          181.4255126953126
         ],
         "xaxis": "x",
         "y": [
          1.0052226798782398,
          0.7804946737870743
         ],
         "yaxis": "y"
        },
        {
         "line": {
          "dash": "solid",
          "width": 3
         },
         "marker": {
          "color": "lightskyblue",
          "line": {
           "color": "black",
           "width": 0.5
          },
          "size": [
           12,
           30
          ]
         },
         "mode": "lines+markers",
         "name": "IMAGE 3.2",
         "showlegend": false,
         "text": [
          "",
          "N"
         ],
         "textfont": {
          "color": "black",
          "size": 15
         },
         "type": "scatter",
         "x": [
          190.77519531250027,
          190.77519531250027
         ],
         "xaxis": "x",
         "y": [
          1.0052226798782398,
          1.0056516835281017
         ],
         "yaxis": "y"
        },
        {
         "line": {
          "dash": "solid",
          "width": 3
         },
         "marker": {
          "color": "lightskyblue",
          "line": {
           "color": "black",
           "width": 0.5
          },
          "size": [
           12,
           30
          ]
         },
         "mode": "lines+markers",
         "name": "IMAGE 3.2",
         "showlegend": false,
         "text": [
          "",
          "V"
         ],
         "textfont": {
          "color": "black",
          "size": 15
         },
         "type": "scatter",
         "x": [
          190.77519531250027,
          191.08776245117224
         ],
         "xaxis": "x",
         "y": [
          1.0052226798782398,
          1.0119301281193744
         ],
         "yaxis": "y"
        },
        {
         "line": {
          "dash": "solid",
          "width": 3
         },
         "marker": {
          "color": "lightskyblue",
          "line": {
           "color": "black",
           "width": 0.5
          },
          "size": [
           12,
           30
          ]
         },
         "mode": "lines+markers",
         "name": "IMAGE 3.2",
         "showlegend": false,
         "text": [
          "",
          "El"
         ],
         "textfont": {
          "color": "black",
          "size": 15
         },
         "type": "scatter",
         "x": [
          190.77519531250027,
          192.31102905273474
         ],
         "xaxis": "x",
         "y": [
          1.0052226798782398,
          1.0802057861431882
         ],
         "yaxis": "y"
        },
        {
         "line": {
          "dash": "solid",
          "width": 3
         },
         "marker": {
          "color": "lightskyblue",
          "line": {
           "color": "black",
           "width": 0.5
          },
          "size": [
           12,
           30
          ]
         },
         "mode": "lines+markers",
         "name": "IMAGE 3.2",
         "showlegend": false,
         "text": [
          "",
          "H"
         ],
         "textfont": {
          "color": "black",
          "size": 15
         },
         "type": "scatter",
         "x": [
          190.77519531250027,
          190.8593322753909
         ],
         "xaxis": "x",
         "y": [
          1.0052226798782398,
          1.0078782528779335
         ],
         "yaxis": "y"
        },
        {
         "line": {
          "dash": "solid",
          "width": 3
         },
         "marker": {
          "color": "lightskyblue",
          "line": {
           "color": "black",
           "width": 0.5
          },
          "size": [
           12,
           30
          ]
         },
         "mode": "lines+markers",
         "name": "IMAGE 3.2",
         "showlegend": false,
         "text": [
          "",
          "F"
         ],
         "textfont": {
          "color": "black",
          "size": 15
         },
         "type": "scatter",
         "x": [
          190.77519531250027,
          192.2143798828124
         ],
         "xaxis": "x",
         "y": [
          1.0052226798782398,
          1.071592104159001
         ],
         "yaxis": "y"
        },
        {
         "line": {
          "dash": "solid",
          "width": 3
         },
         "marker": {
          "color": "lightskyblue",
          "line": {
           "color": "black",
           "width": 0.5
          },
          "size": [
           12,
           30
          ]
         },
         "mode": "lines+markers",
         "name": "IMAGE 3.2",
         "showlegend": false,
         "text": [
          "",
          "Ef"
         ],
         "textfont": {
          "color": "black",
          "size": 15
         },
         "type": "scatter",
         "x": [
          190.77519531250027,
          186.34416503906277
         ],
         "xaxis": "x",
         "y": [
          1.0052226798782398,
          0.9551537408396645
         ],
         "yaxis": "y"
        },
        {
         "line": {
          "dash": "solid",
          "width": 3
         },
         "marker": {
          "color": "goldenrod",
          "line": {
           "color": "black",
           "width": 0.5
          },
          "size": [
           12,
           30
          ]
         },
         "mode": "lines+markers",
         "name": "PROMETHEUS 1.2",
         "showlegend": false,
         "text": [
          "",
          "B"
         ],
         "textfont": {
          "color": "black",
          "size": 15
         },
         "type": "scatter",
         "x": [
          153.1561023057975,
          152.57126364840587
         ],
         "xaxis": "x",
         "y": [
          0.9162835262952043,
          0.6927444134284753
         ],
         "yaxis": "y"
        },
        {
         "line": {
          "dash": "solid",
          "width": 3
         },
         "marker": {
          "color": "goldenrod",
          "line": {
           "color": "black",
           "width": 0.5
          },
          "size": [
           12,
           30
          ]
         },
         "mode": "lines+markers",
         "name": "PROMETHEUS 1.2",
         "showlegend": false,
         "text": [
          "",
          "C"
         ],
         "textfont": {
          "color": "black",
          "size": 15
         },
         "type": "scatter",
         "x": [
          153.1561023057975,
          153.25382346079186
         ],
         "xaxis": "x",
         "y": [
          0.9162835262952043,
          0.8596924232694546
         ],
         "yaxis": "y"
        },
        {
         "line": {
          "dash": "solid",
          "width": 3
         },
         "marker": {
          "color": "goldenrod",
          "line": {
           "color": "black",
           "width": 0.5
          },
          "size": [
           12,
           30
          ]
         },
         "mode": "lines+markers",
         "name": "PROMETHEUS 1.2",
         "showlegend": false,
         "text": [
          "",
          "N"
         ],
         "textfont": {
          "color": "black",
          "size": 15
         },
         "type": "scatter",
         "x": [
          153.1561023057975,
          154.76329495784012
         ],
         "xaxis": "x",
         "y": [
          0.9162835262952043,
          0.8889259019189703
         ],
         "yaxis": "y"
        },
        {
         "line": {
          "dash": "solid",
          "width": 3
         },
         "marker": {
          "color": "goldenrod",
          "line": {
           "color": "black",
           "width": 0.5
          },
          "size": [
           12,
           30
          ]
         },
         "mode": "lines+markers",
         "name": "PROMETHEUS 1.2",
         "showlegend": false,
         "text": [
          "",
          "V"
         ],
         "textfont": {
          "color": "black",
          "size": 15
         },
         "type": "scatter",
         "x": [
          153.1561023057975,
          154.4748875707403
         ],
         "xaxis": "x",
         "y": [
          0.9162835262952043,
          0.8074425642777444
         ],
         "yaxis": "y"
        },
        {
         "line": {
          "dash": "solid",
          "width": 3
         },
         "marker": {
          "color": "goldenrod",
          "line": {
           "color": "black",
           "width": 0.5
          },
          "size": [
           12,
           30
          ]
         },
         "mode": "lines+markers",
         "name": "PROMETHEUS 1.2",
         "showlegend": false,
         "text": [
          "",
          "El"
         ],
         "textfont": {
          "color": "black",
          "size": 15
         },
         "type": "scatter",
         "x": [
          153.1561023057975,
          158.05987367378566
         ],
         "xaxis": "x",
         "y": [
          0.9162835262952043,
          0.9232083426378687
         ],
         "yaxis": "y"
        },
        {
         "line": {
          "dash": "solid",
          "width": 3
         },
         "marker": {
          "color": "goldenrod",
          "line": {
           "color": "black",
           "width": 0.5
          },
          "size": [
           12,
           30
          ]
         },
         "mode": "lines+markers",
         "name": "PROMETHEUS 1.2",
         "showlegend": false,
         "text": [
          "",
          "H"
         ],
         "textfont": {
          "color": "black",
          "size": 15
         },
         "type": "scatter",
         "x": [
          153.1561023057975,
          null
         ],
         "xaxis": "x",
         "y": [
          0.9162835262952043,
          null
         ],
         "yaxis": "y"
        },
        {
         "line": {
          "dash": "solid",
          "width": 3
         },
         "marker": {
          "color": "goldenrod",
          "line": {
           "color": "black",
           "width": 0.5
          },
          "size": [
           12,
           30
          ]
         },
         "mode": "lines+markers",
         "name": "PROMETHEUS 1.2",
         "showlegend": false,
         "text": [
          "",
          "F"
         ],
         "textfont": {
          "color": "black",
          "size": 15
         },
         "type": "scatter",
         "x": [
          153.1561023057975,
          null
         ],
         "xaxis": "x",
         "y": [
          0.9162835262952043,
          null
         ],
         "yaxis": "y"
        },
        {
         "line": {
          "dash": "solid",
          "width": 3
         },
         "marker": {
          "color": "goldenrod",
          "line": {
           "color": "black",
           "width": 0.5
          },
          "size": [
           12,
           30
          ]
         },
         "mode": "lines+markers",
         "name": "PROMETHEUS 1.2",
         "showlegend": false,
         "text": [
          "",
          "Ef"
         ],
         "textfont": {
          "color": "black",
          "size": 15
         },
         "type": "scatter",
         "x": [
          153.1561023057975,
          154.00602234340568
         ],
         "xaxis": "x",
         "y": [
          0.9162835262952043,
          0.924857275878859
         ],
         "yaxis": "y"
        },
        {
         "line": {
          "dash": "solid",
          "width": 3
         },
         "marker": {
          "color": "tomato",
          "line": {
           "color": "black",
           "width": 0.5
          },
          "size": [
           12,
           30
          ]
         },
         "mode": "lines+markers",
         "name": "REMIND 2.1",
         "showlegend": false,
         "text": [
          "",
          "B"
         ],
         "textfont": {
          "color": "black",
          "size": 15
         },
         "type": "scatter",
         "x": [
          180.78106000000025,
          172.83220000000028
         ],
         "xaxis": "x",
         "y": [
          1.1754351148627167,
          0.9505513493163282
         ],
         "yaxis": "y"
        },
        {
         "line": {
          "dash": "solid",
          "width": 3
         },
         "marker": {
          "color": "tomato",
          "line": {
           "color": "black",
           "width": 0.5
          },
          "size": [
           12,
           30
          ]
         },
         "mode": "lines+markers",
         "name": "REMIND 2.1",
         "showlegend": false,
         "text": [
          "",
          "C"
         ],
         "textfont": {
          "color": "black",
          "size": 15
         },
         "type": "scatter",
         "x": [
          180.78106000000025,
          179.1288800000002
         ],
         "xaxis": "x",
         "y": [
          1.1754351148627167,
          1.0070930596715244
         ],
         "yaxis": "y"
        },
        {
         "line": {
          "dash": "solid",
          "width": 3
         },
         "marker": {
          "color": "tomato",
          "line": {
           "color": "black",
           "width": 0.5
          },
          "size": [
           12,
           30
          ]
         },
         "mode": "lines+markers",
         "name": "REMIND 2.1",
         "showlegend": false,
         "text": [
          "",
          "N"
         ],
         "textfont": {
          "color": "black",
          "size": 15
         },
         "type": "scatter",
         "x": [
          180.78106000000025,
          181.05764000000045
         ],
         "xaxis": "x",
         "y": [
          1.1754351148627167,
          1.1766300579607274
         ],
         "yaxis": "y"
        },
        {
         "line": {
          "dash": "solid",
          "width": 3
         },
         "marker": {
          "color": "tomato",
          "line": {
           "color": "black",
           "width": 0.5
          },
          "size": [
           12,
           30
          ]
         },
         "mode": "lines+markers",
         "name": "REMIND 2.1",
         "showlegend": false,
         "text": [
          "",
          "V"
         ],
         "textfont": {
          "color": "black",
          "size": 15
         },
         "type": "scatter",
         "x": [
          180.78106000000025,
          182.0649000000003
         ],
         "xaxis": "x",
         "y": [
          1.1754351148627167,
          1.1809849264778067
         ],
         "yaxis": "y"
        },
        {
         "line": {
          "dash": "solid",
          "width": 3
         },
         "marker": {
          "color": "tomato",
          "line": {
           "color": "black",
           "width": 0.5
          },
          "size": [
           12,
           30
          ]
         },
         "mode": "lines+markers",
         "name": "REMIND 2.1",
         "showlegend": false,
         "text": [
          "",
          "El"
         ],
         "textfont": {
          "color": "black",
          "size": 15
         },
         "type": "scatter",
         "x": [
          180.78106000000025,
          185.3829400000002
         ],
         "xaxis": "x",
         "y": [
          1.1754351148627167,
          1.1873239710674446
         ],
         "yaxis": "y"
        },
        {
         "line": {
          "dash": "solid",
          "width": 3
         },
         "marker": {
          "color": "tomato",
          "line": {
           "color": "black",
           "width": 0.5
          },
          "size": [
           12,
           30
          ]
         },
         "mode": "lines+markers",
         "name": "REMIND 2.1",
         "showlegend": false,
         "text": [
          "",
          "H"
         ],
         "textfont": {
          "color": "black",
          "size": 15
         },
         "type": "scatter",
         "x": [
          180.78106000000025,
          184.06916
         ],
         "xaxis": "x",
         "y": [
          1.1754351148627167,
          1.2062851083870267
         ],
         "yaxis": "y"
        },
        {
         "line": {
          "dash": "solid",
          "width": 3
         },
         "marker": {
          "color": "tomato",
          "line": {
           "color": "black",
           "width": 0.5
          },
          "size": [
           12,
           30
          ]
         },
         "mode": "lines+markers",
         "name": "REMIND 2.1",
         "showlegend": false,
         "text": [
          "",
          "F"
         ],
         "textfont": {
          "color": "black",
          "size": 15
         },
         "type": "scatter",
         "x": [
          180.78106000000025,
          228.04064000000017
         ],
         "xaxis": "x",
         "y": [
          1.1754351148627167,
          1.1362984392398465
         ],
         "yaxis": "y"
        },
        {
         "line": {
          "dash": "solid",
          "width": 3
         },
         "marker": {
          "color": "tomato",
          "line": {
           "color": "black",
           "width": 0.5
          },
          "size": [
           12,
           30
          ]
         },
         "mode": "lines+markers",
         "name": "REMIND 2.1",
         "showlegend": false,
         "text": [
          "",
          "Ef"
         ],
         "textfont": {
          "color": "black",
          "size": 15
         },
         "type": "scatter",
         "x": [
          180.78106000000025,
          189.19750000000022
         ],
         "xaxis": "x",
         "y": [
          1.1754351148627167,
          1.2157297547963026
         ],
         "yaxis": "y"
        },
        {
         "line": {
          "dash": "solid",
          "width": 3
         },
         "marker": {
          "color": "forestgreen",
          "line": {
           "color": "black",
           "width": 0.5
          },
          "size": [
           12,
           30
          ]
         },
         "mode": "lines+markers",
         "name": "WITCH 5.0",
         "showlegend": false,
         "text": [
          "",
          "B"
         ],
         "textfont": {
          "color": "black",
          "size": 15
         },
         "type": "scatter",
         "x": [
          200.8516956749222,
          200.96621516416417
         ],
         "xaxis": "x",
         "y": [
          0.8754224366316201,
          0.7902714806612379
         ],
         "yaxis": "y"
        },
        {
         "line": {
          "dash": "solid",
          "width": 3
         },
         "marker": {
          "color": "forestgreen",
          "line": {
           "color": "black",
           "width": 0.5
          },
          "size": [
           12,
           30
          ]
         },
         "mode": "lines+markers",
         "name": "WITCH 5.0",
         "showlegend": false,
         "text": [
          "",
          "C"
         ],
         "textfont": {
          "color": "black",
          "size": 15
         },
         "type": "scatter",
         "x": [
          200.8516956749222,
          217.15515194749196
         ],
         "xaxis": "x",
         "y": [
          0.8754224366316201,
          0.6126542520689606
         ],
         "yaxis": "y"
        },
        {
         "line": {
          "dash": "solid",
          "width": 3
         },
         "marker": {
          "color": "forestgreen",
          "line": {
           "color": "black",
           "width": 0.5
          },
          "size": [
           12,
           30
          ]
         },
         "mode": "lines+markers",
         "name": "WITCH 5.0",
         "showlegend": false,
         "text": [
          "",
          "N"
         ],
         "textfont": {
          "color": "black",
          "size": 15
         },
         "type": "scatter",
         "x": [
          200.8516956749222,
          202.10723190669614
         ],
         "xaxis": "x",
         "y": [
          0.8754224366316201,
          0.8755631446526075
         ],
         "yaxis": "y"
        },
        {
         "line": {
          "dash": "solid",
          "width": 3
         },
         "marker": {
          "color": "forestgreen",
          "line": {
           "color": "black",
           "width": 0.5
          },
          "size": [
           12,
           30
          ]
         },
         "mode": "lines+markers",
         "name": "WITCH 5.0",
         "showlegend": false,
         "text": [
          "",
          "V"
         ],
         "textfont": {
          "color": "black",
          "size": 15
         },
         "type": "scatter",
         "x": [
          200.8516956749222,
          200.80993279271797
         ],
         "xaxis": "x",
         "y": [
          0.8754224366316201,
          0.8753647169033668
         ],
         "yaxis": "y"
        },
        {
         "line": {
          "dash": "solid",
          "width": 3
         },
         "marker": {
          "color": "forestgreen",
          "line": {
           "color": "black",
           "width": 0.5
          },
          "size": [
           12,
           30
          ]
         },
         "mode": "lines+markers",
         "name": "WITCH 5.0",
         "showlegend": false,
         "text": [
          "",
          "El"
         ],
         "textfont": {
          "color": "black",
          "size": 15
         },
         "type": "scatter",
         "x": [
          200.8516956749222,
          226.3859281075861
         ],
         "xaxis": "x",
         "y": [
          0.8754224366316201,
          1.0932660280355457
         ],
         "yaxis": "y"
        },
        {
         "line": {
          "dash": "solid",
          "width": 3
         },
         "marker": {
          "color": "forestgreen",
          "line": {
           "color": "black",
           "width": 0.5
          },
          "size": [
           12,
           30
          ]
         },
         "mode": "lines+markers",
         "name": "WITCH 5.0",
         "showlegend": false,
         "text": [
          "",
          "H"
         ],
         "textfont": {
          "color": "black",
          "size": 15
         },
         "type": "scatter",
         "x": [
          200.8516956749222,
          200.93257848087796
         ],
         "xaxis": "x",
         "y": [
          0.8754224366316201,
          0.8750940978773719
         ],
         "yaxis": "y"
        },
        {
         "line": {
          "dash": "solid",
          "width": 3
         },
         "marker": {
          "color": "forestgreen",
          "line": {
           "color": "black",
           "width": 0.5
          },
          "size": [
           12,
           30
          ]
         },
         "mode": "lines+markers",
         "name": "WITCH 5.0",
         "showlegend": false,
         "text": [
          "",
          "F"
         ],
         "textfont": {
          "color": "black",
          "size": 15
         },
         "type": "scatter",
         "x": [
          200.8516956749222,
          null
         ],
         "xaxis": "x",
         "y": [
          0.8754224366316201,
          null
         ],
         "yaxis": "y"
        },
        {
         "line": {
          "dash": "solid",
          "width": 3
         },
         "marker": {
          "color": "forestgreen",
          "line": {
           "color": "black",
           "width": 0.5
          },
          "size": [
           12,
           30
          ]
         },
         "mode": "lines+markers",
         "name": "WITCH 5.0",
         "showlegend": false,
         "text": [
          "",
          "Ef"
         ],
         "textfont": {
          "color": "black",
          "size": 15
         },
         "type": "scatter",
         "x": [
          200.8516956749222,
          200.08589334717817
         ],
         "xaxis": "x",
         "y": [
          0.8754224366316201,
          0.8553232403824472
         ],
         "yaxis": "y"
        },
        {
         "line": {
          "dash": "solid",
          "width": 3
         },
         "marker": {
          "color": "darkgrey",
          "line": {
           "color": "black",
           "width": 0.5
          },
          "size": [
           12,
           30
          ]
         },
         "mode": "lines+markers",
         "name": "Euro-Calliope 2.0",
         "showlegend": false,
         "text": [
          "",
          "B"
         ],
         "textfont": {
          "color": "black",
          "size": 15
         },
         "type": "scatter",
         "x": [
          167.77213644825633,
          167.77213644825633
         ],
         "xaxis": "x",
         "y": [
          0.9996545960963845,
          0.9996545960963845
         ],
         "yaxis": "y"
        },
        {
         "line": {
          "dash": "solid",
          "width": 3
         },
         "marker": {
          "color": "darkgrey",
          "line": {
           "color": "black",
           "width": 0.5
          },
          "size": [
           12,
           30
          ]
         },
         "mode": "lines+markers",
         "name": "Euro-Calliope 2.0",
         "showlegend": false,
         "text": [
          "",
          "C"
         ],
         "textfont": {
          "color": "black",
          "size": 15
         },
         "type": "scatter",
         "x": [
          167.77213644825633,
          167.77213644825633
         ],
         "xaxis": "x",
         "y": [
          0.9996545960963845,
          0.9996545960963845
         ],
         "yaxis": "y"
        },
        {
         "line": {
          "dash": "solid",
          "width": 3
         },
         "marker": {
          "color": "darkgrey",
          "line": {
           "color": "black",
           "width": 0.5
          },
          "size": [
           12,
           30
          ]
         },
         "mode": "lines+markers",
         "name": "Euro-Calliope 2.0",
         "showlegend": false,
         "text": [
          "",
          "N"
         ],
         "textfont": {
          "color": "black",
          "size": 15
         },
         "type": "scatter",
         "x": [
          167.77213644825633,
          158.79459620063153
         ],
         "xaxis": "x",
         "y": [
          0.9996545960963845,
          0.9995761437571783
         ],
         "yaxis": "y"
        },
        {
         "line": {
          "dash": "solid",
          "width": 3
         },
         "marker": {
          "color": "darkgrey",
          "line": {
           "color": "black",
           "width": 0.5
          },
          "size": [
           12,
           30
          ]
         },
         "mode": "lines+markers",
         "name": "Euro-Calliope 2.0",
         "showlegend": false,
         "text": [
          "",
          "V"
         ],
         "textfont": {
          "color": "black",
          "size": 15
         },
         "type": "scatter",
         "x": [
          167.77213644825633,
          167.77213644825633
         ],
         "xaxis": "x",
         "y": [
          0.9996545960963845,
          0.99965689648285
         ],
         "yaxis": "y"
        },
        {
         "line": {
          "dash": "solid",
          "width": 3
         },
         "marker": {
          "color": "darkgrey",
          "line": {
           "color": "black",
           "width": 0.5
          },
          "size": [
           12,
           30
          ]
         },
         "mode": "lines+markers",
         "name": "Euro-Calliope 2.0",
         "showlegend": false,
         "text": [
          "",
          "El"
         ],
         "textfont": {
          "color": "black",
          "size": 15
         },
         "type": "scatter",
         "x": [
          167.77213644825633,
          188.30106930401053
         ],
         "xaxis": "x",
         "y": [
          0.9996545960963845,
          0.9999870515314768
         ],
         "yaxis": "y"
        },
        {
         "line": {
          "dash": "solid",
          "width": 3
         },
         "marker": {
          "color": "darkgrey",
          "line": {
           "color": "black",
           "width": 0.5
          },
          "size": [
           12,
           30
          ]
         },
         "mode": "lines+markers",
         "name": "Euro-Calliope 2.0",
         "showlegend": false,
         "text": [
          "",
          "H"
         ],
         "textfont": {
          "color": "black",
          "size": 15
         },
         "type": "scatter",
         "x": [
          167.77213644825633,
          216.33695365293136
         ],
         "xaxis": "x",
         "y": [
          0.9996545960963845,
          0.9996763174485367
         ],
         "yaxis": "y"
        },
        {
         "line": {
          "dash": "solid",
          "width": 3
         },
         "marker": {
          "color": "darkgrey",
          "line": {
           "color": "black",
           "width": 0.5
          },
          "size": [
           12,
           30
          ]
         },
         "mode": "lines+markers",
         "name": "Euro-Calliope 2.0",
         "showlegend": false,
         "text": [
          "",
          "F"
         ],
         "textfont": {
          "color": "black",
          "size": 15
         },
         "type": "scatter",
         "x": [
          167.77213644825633,
          167.77213644825633
         ],
         "xaxis": "x",
         "y": [
          0.9996545960963845,
          0.9996522073927185
         ],
         "yaxis": "y"
        },
        {
         "line": {
          "dash": "solid",
          "width": 3
         },
         "marker": {
          "color": "darkgrey",
          "line": {
           "color": "black",
           "width": 0.5
          },
          "size": [
           12,
           30
          ]
         },
         "mode": "lines+markers",
         "name": "Euro-Calliope 2.0",
         "showlegend": false,
         "text": [
          "",
          "Ef"
         ],
         "textfont": {
          "color": "black",
          "size": 15
         },
         "type": "scatter",
         "x": [
          167.77213644825633,
          167.77213644825633
         ],
         "xaxis": "x",
         "y": [
          0.9996545960963845,
          0.9996539478395121
         ],
         "yaxis": "y"
        },
        {
         "line": {
          "dash": "solid",
          "width": 3
         },
         "marker": {
          "color": "royalblue",
          "line": {
           "color": "black",
           "width": 0.5
          },
          "size": [
           12,
           30
          ]
         },
         "mode": "lines+markers",
         "name": "TIAM-ECN 1.2",
         "showlegend": false,
         "text": [
          "",
          "B"
         ],
         "textfont": {
          "color": "black",
          "size": 15
         },
         "type": "scatter",
         "x": [
          120.30938000000015,
          119.34994000000006
         ],
         "xaxis": "x",
         "y": [
          0.7139295144284236,
          0.6877121987700868
         ],
         "yaxis": "y"
        },
        {
         "line": {
          "dash": "solid",
          "width": 3
         },
         "marker": {
          "color": "royalblue",
          "line": {
           "color": "black",
           "width": 0.5
          },
          "size": [
           12,
           30
          ]
         },
         "mode": "lines+markers",
         "name": "TIAM-ECN 1.2",
         "showlegend": false,
         "text": [
          "",
          "C"
         ],
         "textfont": {
          "color": "black",
          "size": 15
         },
         "type": "scatter",
         "x": [
          120.30938000000015,
          115.67064000000028
         ],
         "xaxis": "x",
         "y": [
          0.7139295144284236,
          0.7244450782161223
         ],
         "yaxis": "y"
        },
        {
         "line": {
          "dash": "solid",
          "width": 3
         },
         "marker": {
          "color": "royalblue",
          "line": {
           "color": "black",
           "width": 0.5
          },
          "size": [
           12,
           30
          ]
         },
         "mode": "lines+markers",
         "name": "TIAM-ECN 1.2",
         "showlegend": false,
         "text": [
          "",
          "N"
         ],
         "textfont": {
          "color": "black",
          "size": 15
         },
         "type": "scatter",
         "x": [
          120.30938000000015,
          139.92866000000004
         ],
         "xaxis": "x",
         "y": [
          0.7139295144284236,
          0.7078641438076159
         ],
         "yaxis": "y"
        },
        {
         "line": {
          "dash": "solid",
          "width": 3
         },
         "marker": {
          "color": "royalblue",
          "line": {
           "color": "black",
           "width": 0.5
          },
          "size": [
           12,
           30
          ]
         },
         "mode": "lines+markers",
         "name": "TIAM-ECN 1.2",
         "showlegend": false,
         "text": [
          "",
          "V"
         ],
         "textfont": {
          "color": "black",
          "size": 15
         },
         "type": "scatter",
         "x": [
          120.30938000000015,
          118.17586000000028
         ],
         "xaxis": "x",
         "y": [
          0.7139295144284236,
          0.7228208798490314
         ],
         "yaxis": "y"
        },
        {
         "line": {
          "dash": "solid",
          "width": 3
         },
         "marker": {
          "color": "royalblue",
          "line": {
           "color": "black",
           "width": 0.5
          },
          "size": [
           12,
           30
          ]
         },
         "mode": "lines+markers",
         "name": "TIAM-ECN 1.2",
         "showlegend": false,
         "text": [
          "",
          "El"
         ],
         "textfont": {
          "color": "black",
          "size": 15
         },
         "type": "scatter",
         "x": [
          120.30938000000015,
          null
         ],
         "xaxis": "x",
         "y": [
          0.7139295144284236,
          null
         ],
         "yaxis": "y"
        },
        {
         "line": {
          "dash": "solid",
          "width": 3
         },
         "marker": {
          "color": "royalblue",
          "line": {
           "color": "black",
           "width": 0.5
          },
          "size": [
           12,
           30
          ]
         },
         "mode": "lines+markers",
         "name": "TIAM-ECN 1.2",
         "showlegend": false,
         "text": [
          "",
          "H"
         ],
         "textfont": {
          "color": "black",
          "size": 15
         },
         "type": "scatter",
         "x": [
          120.30938000000015,
          null
         ],
         "xaxis": "x",
         "y": [
          0.7139295144284236,
          null
         ],
         "yaxis": "y"
        },
        {
         "line": {
          "dash": "solid",
          "width": 3
         },
         "marker": {
          "color": "royalblue",
          "line": {
           "color": "black",
           "width": 0.5
          },
          "size": [
           12,
           30
          ]
         },
         "mode": "lines+markers",
         "name": "TIAM-ECN 1.2",
         "showlegend": false,
         "text": [
          "",
          "F"
         ],
         "textfont": {
          "color": "black",
          "size": 15
         },
         "type": "scatter",
         "x": [
          120.30938000000015,
          null
         ],
         "xaxis": "x",
         "y": [
          0.7139295144284236,
          null
         ],
         "yaxis": "y"
        },
        {
         "line": {
          "dash": "solid",
          "width": 3
         },
         "marker": {
          "color": "royalblue",
          "line": {
           "color": "black",
           "width": 0.5
          },
          "size": [
           12,
           30
          ]
         },
         "mode": "lines+markers",
         "name": "TIAM-ECN 1.2",
         "showlegend": false,
         "text": [
          "",
          "Ef"
         ],
         "textfont": {
          "color": "black",
          "size": 15
         },
         "type": "scatter",
         "x": [
          120.30938000000015,
          null
         ],
         "xaxis": "x",
         "y": [
          0.7139295144284236,
          null
         ],
         "yaxis": "y"
        },
        {
         "line": {
          "dash": "solid",
          "width": 3
         },
         "marker": {
          "color": "purple",
          "line": {
           "color": "black",
           "width": 0.5
          },
          "size": [
           12,
           30
          ]
         },
         "mode": "lines+markers",
         "name": "MESSAGEix-GLOBIOM 1.2",
         "showlegend": false,
         "text": [
          "",
          "B"
         ],
         "textfont": {
          "color": "black",
          "size": 15
         },
         "type": "scatter",
         "x": [
          170.61919135807875,
          168.3181968516799
         ],
         "xaxis": "x",
         "y": [
          0.862218374011189,
          0.8512739606315562
         ],
         "yaxis": "y"
        },
        {
         "line": {
          "dash": "solid",
          "width": 3
         },
         "marker": {
          "color": "purple",
          "line": {
           "color": "black",
           "width": 0.5
          },
          "size": [
           12,
           30
          ]
         },
         "mode": "lines+markers",
         "name": "MESSAGEix-GLOBIOM 1.2",
         "showlegend": false,
         "text": [
          "",
          "C"
         ],
         "textfont": {
          "color": "black",
          "size": 15
         },
         "type": "scatter",
         "x": [
          170.61919135807875,
          169.72546002860418
         ],
         "xaxis": "x",
         "y": [
          0.862218374011189,
          0.8629454612803449
         ],
         "yaxis": "y"
        },
        {
         "line": {
          "dash": "solid",
          "width": 3
         },
         "marker": {
          "color": "purple",
          "line": {
           "color": "black",
           "width": 0.5
          },
          "size": [
           12,
           30
          ]
         },
         "mode": "lines+markers",
         "name": "MESSAGEix-GLOBIOM 1.2",
         "showlegend": false,
         "text": [
          "",
          "N"
         ],
         "textfont": {
          "color": "black",
          "size": 15
         },
         "type": "scatter",
         "x": [
          170.61919135807875,
          168.79696353550753
         ],
         "xaxis": "x",
         "y": [
          0.862218374011189,
          0.8610710735687075
         ],
         "yaxis": "y"
        },
        {
         "line": {
          "dash": "solid",
          "width": 3
         },
         "marker": {
          "color": "purple",
          "line": {
           "color": "black",
           "width": 0.5
          },
          "size": [
           12,
           30
          ]
         },
         "mode": "lines+markers",
         "name": "MESSAGEix-GLOBIOM 1.2",
         "showlegend": false,
         "text": [
          "",
          "V"
         ],
         "textfont": {
          "color": "black",
          "size": 15
         },
         "type": "scatter",
         "x": [
          170.61919135807875,
          170.23200616110717
         ],
         "xaxis": "x",
         "y": [
          0.862218374011189,
          0.8710454277076423
         ],
         "yaxis": "y"
        },
        {
         "line": {
          "dash": "solid",
          "width": 3
         },
         "marker": {
          "color": "purple",
          "line": {
           "color": "black",
           "width": 0.5
          },
          "size": [
           12,
           30
          ]
         },
         "mode": "lines+markers",
         "name": "MESSAGEix-GLOBIOM 1.2",
         "showlegend": false,
         "text": [
          "",
          "El"
         ],
         "textfont": {
          "color": "black",
          "size": 15
         },
         "type": "scatter",
         "x": [
          170.61919135807875,
          175.06032055811784
         ],
         "xaxis": "x",
         "y": [
          0.862218374011189,
          0.8911972160439676
         ],
         "yaxis": "y"
        },
        {
         "line": {
          "dash": "solid",
          "width": 3
         },
         "marker": {
          "color": "purple",
          "line": {
           "color": "black",
           "width": 0.5
          },
          "size": [
           12,
           30
          ]
         },
         "mode": "lines+markers",
         "name": "MESSAGEix-GLOBIOM 1.2",
         "showlegend": false,
         "text": [
          "",
          "H"
         ],
         "textfont": {
          "color": "black",
          "size": 15
         },
         "type": "scatter",
         "x": [
          170.61919135807875,
          168.11944649111547
         ],
         "xaxis": "x",
         "y": [
          0.862218374011189,
          0.8565501224955973
         ],
         "yaxis": "y"
        },
        {
         "line": {
          "dash": "solid",
          "width": 3
         },
         "marker": {
          "color": "purple",
          "line": {
           "color": "black",
           "width": 0.5
          },
          "size": [
           12,
           30
          ]
         },
         "mode": "lines+markers",
         "name": "MESSAGEix-GLOBIOM 1.2",
         "showlegend": false,
         "text": [
          "",
          "F"
         ],
         "textfont": {
          "color": "black",
          "size": 15
         },
         "type": "scatter",
         "x": [
          170.61919135807875,
          223.6294529214165
         ],
         "xaxis": "x",
         "y": [
          0.862218374011189,
          0.9104490793644738
         ],
         "yaxis": "y"
        },
        {
         "line": {
          "dash": "solid",
          "width": 3
         },
         "marker": {
          "color": "purple",
          "line": {
           "color": "black",
           "width": 0.5
          },
          "size": [
           12,
           30
          ]
         },
         "mode": "lines+markers",
         "name": "MESSAGEix-GLOBIOM 1.2",
         "showlegend": false,
         "text": [
          "",
          "Ef"
         ],
         "textfont": {
          "color": "black",
          "size": 15
         },
         "type": "scatter",
         "x": [
          170.61919135807875,
          null
         ],
         "xaxis": "x",
         "y": [
          0.862218374011189,
          null
         ],
         "yaxis": "y"
        },
        {
         "line": {
          "dash": "solid",
          "width": 3
         },
         "marker": {
          "color": "palegreen",
          "line": {
           "color": "black",
           "width": 0.5
          },
          "size": [
           12,
           30
          ]
         },
         "mode": "lines+markers",
         "name": "PRIMES 2022",
         "showlegend": false,
         "text": [
          "",
          "B"
         ],
         "textfont": {
          "color": "black",
          "size": 15
         },
         "type": "scatter",
         "x": [
          150.3584051058233,
          150.2874954799886
         ],
         "xaxis": "x",
         "y": [
          0.9402672263099785,
          0.9226164535040409
         ],
         "yaxis": "y"
        },
        {
         "line": {
          "dash": "solid",
          "width": 3
         },
         "marker": {
          "color": "palegreen",
          "line": {
           "color": "black",
           "width": 0.5
          },
          "size": [
           12,
           30
          ]
         },
         "mode": "lines+markers",
         "name": "PRIMES 2022",
         "showlegend": false,
         "text": [
          "",
          "C"
         ],
         "textfont": {
          "color": "black",
          "size": 15
         },
         "type": "scatter",
         "x": [
          150.3584051058233,
          149.43764597256632
         ],
         "xaxis": "x",
         "y": [
          0.9402672263099785,
          0.8626522877049787
         ],
         "yaxis": "y"
        },
        {
         "line": {
          "dash": "solid",
          "width": 3
         },
         "marker": {
          "color": "palegreen",
          "line": {
           "color": "black",
           "width": 0.5
          },
          "size": [
           12,
           30
          ]
         },
         "mode": "lines+markers",
         "name": "PRIMES 2022",
         "showlegend": false,
         "text": [
          "",
          "N"
         ],
         "textfont": {
          "color": "black",
          "size": 15
         },
         "type": "scatter",
         "x": [
          150.3584051058233,
          148.08713959367697
         ],
         "xaxis": "x",
         "y": [
          0.9402672263099785,
          0.9351028708137287
         ],
         "yaxis": "y"
        },
        {
         "line": {
          "dash": "solid",
          "width": 3
         },
         "marker": {
          "color": "palegreen",
          "line": {
           "color": "black",
           "width": 0.5
          },
          "size": [
           12,
           30
          ]
         },
         "mode": "lines+markers",
         "name": "PRIMES 2022",
         "showlegend": false,
         "text": [
          "",
          "V"
         ],
         "textfont": {
          "color": "black",
          "size": 15
         },
         "type": "scatter",
         "x": [
          150.3584051058233,
          null
         ],
         "xaxis": "x",
         "y": [
          0.9402672263099785,
          null
         ],
         "yaxis": "y"
        },
        {
         "line": {
          "dash": "solid",
          "width": 3
         },
         "marker": {
          "color": "palegreen",
          "line": {
           "color": "black",
           "width": 0.5
          },
          "size": [
           12,
           30
          ]
         },
         "mode": "lines+markers",
         "name": "PRIMES 2022",
         "showlegend": false,
         "text": [
          "",
          "El"
         ],
         "textfont": {
          "color": "black",
          "size": 15
         },
         "type": "scatter",
         "x": [
          150.3584051058233,
          152.01075355918397
         ],
         "xaxis": "x",
         "y": [
          0.9402672263099785,
          0.9397270270553081
         ],
         "yaxis": "y"
        },
        {
         "line": {
          "dash": "solid",
          "width": 3
         },
         "marker": {
          "color": "palegreen",
          "line": {
           "color": "black",
           "width": 0.5
          },
          "size": [
           12,
           30
          ]
         },
         "mode": "lines+markers",
         "name": "PRIMES 2022",
         "showlegend": false,
         "text": [
          "",
          "H"
         ],
         "textfont": {
          "color": "black",
          "size": 15
         },
         "type": "scatter",
         "x": [
          150.3584051058233,
          153.60363395968034
         ],
         "xaxis": "x",
         "y": [
          0.9402672263099785,
          0.939621654727886
         ],
         "yaxis": "y"
        },
        {
         "line": {
          "dash": "solid",
          "width": 3
         },
         "marker": {
          "color": "palegreen",
          "line": {
           "color": "black",
           "width": 0.5
          },
          "size": [
           12,
           30
          ]
         },
         "mode": "lines+markers",
         "name": "PRIMES 2022",
         "showlegend": false,
         "text": [
          "",
          "F"
         ],
         "textfont": {
          "color": "black",
          "size": 15
         },
         "type": "scatter",
         "x": [
          150.3584051058233,
          null
         ],
         "xaxis": "x",
         "y": [
          0.9402672263099785,
          null
         ],
         "yaxis": "y"
        },
        {
         "line": {
          "dash": "solid",
          "width": 3
         },
         "marker": {
          "color": "palegreen",
          "line": {
           "color": "black",
           "width": 0.5
          },
          "size": [
           12,
           30
          ]
         },
         "mode": "lines+markers",
         "name": "PRIMES 2022",
         "showlegend": false,
         "text": [
          "",
          "Ef"
         ],
         "textfont": {
          "color": "black",
          "size": 15
         },
         "type": "scatter",
         "x": [
          150.3584051058233,
          161.58528211112116
         ],
         "xaxis": "x",
         "y": [
          0.9402672263099785,
          0.945458072149441
         ],
         "yaxis": "y"
        },
        {
         "marker": {
          "color": "lightskyblue",
          "line": {
           "color": "black",
           "width": 0.5
          },
          "size": [
           12,
           30
          ]
         },
         "mode": "text+markers",
         "name": "IMAGE 3.2",
         "showlegend": false,
         "text": [
          "",
          "B"
         ],
         "textfont": {
          "color": "black",
          "size": 25
         },
         "type": "scatter",
         "x": [
          190.77519531250027,
          185.72645874023465
         ],
         "xaxis": "x",
         "y": [
          1.0052226798782398,
          0.8270081018022286
         ],
         "yaxis": "y"
        },
        {
         "marker": {
          "color": "lightskyblue",
          "line": {
           "color": "black",
           "width": 0.5
          },
          "size": [
           12,
           30
          ]
         },
         "mode": "text+markers",
         "name": "IMAGE 3.2",
         "showlegend": false,
         "text": [
          "",
          "C"
         ],
         "textfont": {
          "color": "black",
          "size": 25
         },
         "type": "scatter",
         "x": [
          190.77519531250027,
          181.4255126953126
         ],
         "xaxis": "x",
         "y": [
          1.0052226798782398,
          0.7804946737870743
         ],
         "yaxis": "y"
        },
        {
         "marker": {
          "color": "lightskyblue",
          "line": {
           "color": "black",
           "width": 0.5
          },
          "size": [
           12,
           30
          ]
         },
         "mode": "text+markers",
         "name": "IMAGE 3.2",
         "showlegend": false,
         "text": [
          "",
          "N"
         ],
         "textfont": {
          "color": "black",
          "size": 25
         },
         "type": "scatter",
         "x": [
          190.77519531250027,
          190.77519531250027
         ],
         "xaxis": "x",
         "y": [
          1.0052226798782398,
          1.0056516835281017
         ],
         "yaxis": "y"
        },
        {
         "marker": {
          "color": "lightskyblue",
          "line": {
           "color": "black",
           "width": 0.5
          },
          "size": [
           12,
           30
          ]
         },
         "mode": "text+markers",
         "name": "IMAGE 3.2",
         "showlegend": false,
         "text": [
          "",
          "V"
         ],
         "textfont": {
          "color": "black",
          "size": 25
         },
         "type": "scatter",
         "x": [
          190.77519531250027,
          191.08776245117224
         ],
         "xaxis": "x",
         "y": [
          1.0052226798782398,
          1.0119301281193744
         ],
         "yaxis": "y"
        },
        {
         "marker": {
          "color": "lightskyblue",
          "line": {
           "color": "black",
           "width": 0.5
          },
          "size": [
           12,
           30
          ]
         },
         "mode": "text+markers",
         "name": "IMAGE 3.2",
         "showlegend": false,
         "text": [
          "",
          "El"
         ],
         "textfont": {
          "color": "black",
          "size": 25
         },
         "type": "scatter",
         "x": [
          190.77519531250027,
          192.31102905273474
         ],
         "xaxis": "x",
         "y": [
          1.0052226798782398,
          1.0802057861431882
         ],
         "yaxis": "y"
        },
        {
         "marker": {
          "color": "lightskyblue",
          "line": {
           "color": "black",
           "width": 0.5
          },
          "size": [
           12,
           30
          ]
         },
         "mode": "text+markers",
         "name": "IMAGE 3.2",
         "showlegend": false,
         "text": [
          "",
          "H"
         ],
         "textfont": {
          "color": "black",
          "size": 25
         },
         "type": "scatter",
         "x": [
          190.77519531250027,
          190.8593322753909
         ],
         "xaxis": "x",
         "y": [
          1.0052226798782398,
          1.0078782528779335
         ],
         "yaxis": "y"
        },
        {
         "marker": {
          "color": "lightskyblue",
          "line": {
           "color": "black",
           "width": 0.5
          },
          "size": [
           12,
           30
          ]
         },
         "mode": "text+markers",
         "name": "IMAGE 3.2",
         "showlegend": false,
         "text": [
          "",
          "F"
         ],
         "textfont": {
          "color": "black",
          "size": 25
         },
         "type": "scatter",
         "x": [
          190.77519531250027,
          192.2143798828124
         ],
         "xaxis": "x",
         "y": [
          1.0052226798782398,
          1.071592104159001
         ],
         "yaxis": "y"
        },
        {
         "marker": {
          "color": "lightskyblue",
          "line": {
           "color": "black",
           "width": 0.5
          },
          "size": [
           12,
           30
          ]
         },
         "mode": "text+markers",
         "name": "IMAGE 3.2",
         "showlegend": false,
         "text": [
          "",
          "Ef"
         ],
         "textfont": {
          "color": "black",
          "size": 25
         },
         "type": "scatter",
         "x": [
          190.77519531250027,
          186.34416503906277
         ],
         "xaxis": "x",
         "y": [
          1.0052226798782398,
          0.9551537408396645
         ],
         "yaxis": "y"
        },
        {
         "marker": {
          "color": "goldenrod",
          "line": {
           "color": "black",
           "width": 0.5
          },
          "size": [
           12,
           30
          ]
         },
         "mode": "text+markers",
         "name": "PROMETHEUS 1.2",
         "showlegend": false,
         "text": [
          "",
          "B"
         ],
         "textfont": {
          "color": "black",
          "size": 25
         },
         "type": "scatter",
         "x": [
          153.1561023057975,
          152.57126364840587
         ],
         "xaxis": "x",
         "y": [
          0.9162835262952043,
          0.6927444134284753
         ],
         "yaxis": "y"
        },
        {
         "marker": {
          "color": "goldenrod",
          "line": {
           "color": "black",
           "width": 0.5
          },
          "size": [
           12,
           30
          ]
         },
         "mode": "text+markers",
         "name": "PROMETHEUS 1.2",
         "showlegend": false,
         "text": [
          "",
          "C"
         ],
         "textfont": {
          "color": "black",
          "size": 25
         },
         "type": "scatter",
         "x": [
          153.1561023057975,
          153.25382346079186
         ],
         "xaxis": "x",
         "y": [
          0.9162835262952043,
          0.8596924232694546
         ],
         "yaxis": "y"
        },
        {
         "marker": {
          "color": "goldenrod",
          "line": {
           "color": "black",
           "width": 0.5
          },
          "size": [
           12,
           30
          ]
         },
         "mode": "text+markers",
         "name": "PROMETHEUS 1.2",
         "showlegend": false,
         "text": [
          "",
          "N"
         ],
         "textfont": {
          "color": "black",
          "size": 25
         },
         "type": "scatter",
         "x": [
          153.1561023057975,
          154.76329495784012
         ],
         "xaxis": "x",
         "y": [
          0.9162835262952043,
          0.8889259019189703
         ],
         "yaxis": "y"
        },
        {
         "marker": {
          "color": "goldenrod",
          "line": {
           "color": "black",
           "width": 0.5
          },
          "size": [
           12,
           30
          ]
         },
         "mode": "text+markers",
         "name": "PROMETHEUS 1.2",
         "showlegend": false,
         "text": [
          "",
          "V"
         ],
         "textfont": {
          "color": "black",
          "size": 25
         },
         "type": "scatter",
         "x": [
          153.1561023057975,
          154.4748875707403
         ],
         "xaxis": "x",
         "y": [
          0.9162835262952043,
          0.8074425642777444
         ],
         "yaxis": "y"
        },
        {
         "marker": {
          "color": "goldenrod",
          "line": {
           "color": "black",
           "width": 0.5
          },
          "size": [
           12,
           30
          ]
         },
         "mode": "text+markers",
         "name": "PROMETHEUS 1.2",
         "showlegend": false,
         "text": [
          "",
          "El"
         ],
         "textfont": {
          "color": "black",
          "size": 25
         },
         "type": "scatter",
         "x": [
          153.1561023057975,
          158.05987367378566
         ],
         "xaxis": "x",
         "y": [
          0.9162835262952043,
          0.9232083426378687
         ],
         "yaxis": "y"
        },
        {
         "marker": {
          "color": "goldenrod",
          "line": {
           "color": "black",
           "width": 0.5
          },
          "size": [
           12,
           30
          ]
         },
         "mode": "text+markers",
         "name": "PROMETHEUS 1.2",
         "showlegend": false,
         "text": [
          "",
          "H"
         ],
         "textfont": {
          "color": "black",
          "size": 25
         },
         "type": "scatter",
         "x": [
          153.1561023057975,
          null
         ],
         "xaxis": "x",
         "y": [
          0.9162835262952043,
          null
         ],
         "yaxis": "y"
        },
        {
         "marker": {
          "color": "goldenrod",
          "line": {
           "color": "black",
           "width": 0.5
          },
          "size": [
           12,
           30
          ]
         },
         "mode": "text+markers",
         "name": "PROMETHEUS 1.2",
         "showlegend": false,
         "text": [
          "",
          "F"
         ],
         "textfont": {
          "color": "black",
          "size": 25
         },
         "type": "scatter",
         "x": [
          153.1561023057975,
          null
         ],
         "xaxis": "x",
         "y": [
          0.9162835262952043,
          null
         ],
         "yaxis": "y"
        },
        {
         "marker": {
          "color": "goldenrod",
          "line": {
           "color": "black",
           "width": 0.5
          },
          "size": [
           12,
           30
          ]
         },
         "mode": "text+markers",
         "name": "PROMETHEUS 1.2",
         "showlegend": false,
         "text": [
          "",
          "Ef"
         ],
         "textfont": {
          "color": "black",
          "size": 25
         },
         "type": "scatter",
         "x": [
          153.1561023057975,
          154.00602234340568
         ],
         "xaxis": "x",
         "y": [
          0.9162835262952043,
          0.924857275878859
         ],
         "yaxis": "y"
        },
        {
         "marker": {
          "color": "tomato",
          "line": {
           "color": "black",
           "width": 0.5
          },
          "size": [
           12,
           30
          ]
         },
         "mode": "text+markers",
         "name": "REMIND 2.1",
         "showlegend": false,
         "text": [
          "",
          "B"
         ],
         "textfont": {
          "color": "black",
          "size": 25
         },
         "type": "scatter",
         "x": [
          180.78106000000025,
          172.83220000000028
         ],
         "xaxis": "x",
         "y": [
          1.1754351148627167,
          0.9505513493163282
         ],
         "yaxis": "y"
        },
        {
         "marker": {
          "color": "tomato",
          "line": {
           "color": "black",
           "width": 0.5
          },
          "size": [
           12,
           30
          ]
         },
         "mode": "text+markers",
         "name": "REMIND 2.1",
         "showlegend": false,
         "text": [
          "",
          "C"
         ],
         "textfont": {
          "color": "black",
          "size": 25
         },
         "type": "scatter",
         "x": [
          180.78106000000025,
          179.1288800000002
         ],
         "xaxis": "x",
         "y": [
          1.1754351148627167,
          1.0070930596715244
         ],
         "yaxis": "y"
        },
        {
         "marker": {
          "color": "tomato",
          "line": {
           "color": "black",
           "width": 0.5
          },
          "size": [
           12,
           30
          ]
         },
         "mode": "text+markers",
         "name": "REMIND 2.1",
         "showlegend": false,
         "text": [
          "",
          "N"
         ],
         "textfont": {
          "color": "black",
          "size": 25
         },
         "type": "scatter",
         "x": [
          180.78106000000025,
          181.05764000000045
         ],
         "xaxis": "x",
         "y": [
          1.1754351148627167,
          1.1766300579607274
         ],
         "yaxis": "y"
        },
        {
         "marker": {
          "color": "tomato",
          "line": {
           "color": "black",
           "width": 0.5
          },
          "size": [
           12,
           30
          ]
         },
         "mode": "text+markers",
         "name": "REMIND 2.1",
         "showlegend": false,
         "text": [
          "",
          "V"
         ],
         "textfont": {
          "color": "black",
          "size": 25
         },
         "type": "scatter",
         "x": [
          180.78106000000025,
          182.0649000000003
         ],
         "xaxis": "x",
         "y": [
          1.1754351148627167,
          1.1809849264778067
         ],
         "yaxis": "y"
        },
        {
         "marker": {
          "color": "tomato",
          "line": {
           "color": "black",
           "width": 0.5
          },
          "size": [
           12,
           30
          ]
         },
         "mode": "text+markers",
         "name": "REMIND 2.1",
         "showlegend": false,
         "text": [
          "",
          "El"
         ],
         "textfont": {
          "color": "black",
          "size": 25
         },
         "type": "scatter",
         "x": [
          180.78106000000025,
          185.3829400000002
         ],
         "xaxis": "x",
         "y": [
          1.1754351148627167,
          1.1873239710674446
         ],
         "yaxis": "y"
        },
        {
         "marker": {
          "color": "tomato",
          "line": {
           "color": "black",
           "width": 0.5
          },
          "size": [
           12,
           30
          ]
         },
         "mode": "text+markers",
         "name": "REMIND 2.1",
         "showlegend": false,
         "text": [
          "",
          "H"
         ],
         "textfont": {
          "color": "black",
          "size": 25
         },
         "type": "scatter",
         "x": [
          180.78106000000025,
          184.06916
         ],
         "xaxis": "x",
         "y": [
          1.1754351148627167,
          1.2062851083870267
         ],
         "yaxis": "y"
        },
        {
         "marker": {
          "color": "tomato",
          "line": {
           "color": "black",
           "width": 0.5
          },
          "size": [
           12,
           30
          ]
         },
         "mode": "text+markers",
         "name": "REMIND 2.1",
         "showlegend": false,
         "text": [
          "",
          "F"
         ],
         "textfont": {
          "color": "black",
          "size": 25
         },
         "type": "scatter",
         "x": [
          180.78106000000025,
          228.04064000000017
         ],
         "xaxis": "x",
         "y": [
          1.1754351148627167,
          1.1362984392398465
         ],
         "yaxis": "y"
        },
        {
         "marker": {
          "color": "tomato",
          "line": {
           "color": "black",
           "width": 0.5
          },
          "size": [
           12,
           30
          ]
         },
         "mode": "text+markers",
         "name": "REMIND 2.1",
         "showlegend": false,
         "text": [
          "",
          "Ef"
         ],
         "textfont": {
          "color": "black",
          "size": 25
         },
         "type": "scatter",
         "x": [
          180.78106000000025,
          189.19750000000022
         ],
         "xaxis": "x",
         "y": [
          1.1754351148627167,
          1.2157297547963026
         ],
         "yaxis": "y"
        },
        {
         "marker": {
          "color": "forestgreen",
          "line": {
           "color": "black",
           "width": 0.5
          },
          "size": [
           12,
           30
          ]
         },
         "mode": "text+markers",
         "name": "WITCH 5.0",
         "showlegend": false,
         "text": [
          "",
          "B"
         ],
         "textfont": {
          "color": "black",
          "size": 25
         },
         "type": "scatter",
         "x": [
          200.8516956749222,
          200.96621516416417
         ],
         "xaxis": "x",
         "y": [
          0.8754224366316201,
          0.7902714806612379
         ],
         "yaxis": "y"
        },
        {
         "marker": {
          "color": "forestgreen",
          "line": {
           "color": "black",
           "width": 0.5
          },
          "size": [
           12,
           30
          ]
         },
         "mode": "text+markers",
         "name": "WITCH 5.0",
         "showlegend": false,
         "text": [
          "",
          "C"
         ],
         "textfont": {
          "color": "black",
          "size": 25
         },
         "type": "scatter",
         "x": [
          200.8516956749222,
          217.15515194749196
         ],
         "xaxis": "x",
         "y": [
          0.8754224366316201,
          0.6126542520689606
         ],
         "yaxis": "y"
        },
        {
         "marker": {
          "color": "forestgreen",
          "line": {
           "color": "black",
           "width": 0.5
          },
          "size": [
           12,
           30
          ]
         },
         "mode": "text+markers",
         "name": "WITCH 5.0",
         "showlegend": false,
         "text": [
          "",
          "N"
         ],
         "textfont": {
          "color": "black",
          "size": 25
         },
         "type": "scatter",
         "x": [
          200.8516956749222,
          202.10723190669614
         ],
         "xaxis": "x",
         "y": [
          0.8754224366316201,
          0.8755631446526075
         ],
         "yaxis": "y"
        },
        {
         "marker": {
          "color": "forestgreen",
          "line": {
           "color": "black",
           "width": 0.5
          },
          "size": [
           12,
           30
          ]
         },
         "mode": "text+markers",
         "name": "WITCH 5.0",
         "showlegend": false,
         "text": [
          "",
          "V"
         ],
         "textfont": {
          "color": "black",
          "size": 25
         },
         "type": "scatter",
         "x": [
          200.8516956749222,
          200.80993279271797
         ],
         "xaxis": "x",
         "y": [
          0.8754224366316201,
          0.8753647169033668
         ],
         "yaxis": "y"
        },
        {
         "marker": {
          "color": "forestgreen",
          "line": {
           "color": "black",
           "width": 0.5
          },
          "size": [
           12,
           30
          ]
         },
         "mode": "text+markers",
         "name": "WITCH 5.0",
         "showlegend": false,
         "text": [
          "",
          "El"
         ],
         "textfont": {
          "color": "black",
          "size": 25
         },
         "type": "scatter",
         "x": [
          200.8516956749222,
          226.3859281075861
         ],
         "xaxis": "x",
         "y": [
          0.8754224366316201,
          1.0932660280355457
         ],
         "yaxis": "y"
        },
        {
         "marker": {
          "color": "forestgreen",
          "line": {
           "color": "black",
           "width": 0.5
          },
          "size": [
           12,
           30
          ]
         },
         "mode": "text+markers",
         "name": "WITCH 5.0",
         "showlegend": false,
         "text": [
          "",
          "H"
         ],
         "textfont": {
          "color": "black",
          "size": 25
         },
         "type": "scatter",
         "x": [
          200.8516956749222,
          200.93257848087796
         ],
         "xaxis": "x",
         "y": [
          0.8754224366316201,
          0.8750940978773719
         ],
         "yaxis": "y"
        },
        {
         "marker": {
          "color": "forestgreen",
          "line": {
           "color": "black",
           "width": 0.5
          },
          "size": [
           12,
           30
          ]
         },
         "mode": "text+markers",
         "name": "WITCH 5.0",
         "showlegend": false,
         "text": [
          "",
          "F"
         ],
         "textfont": {
          "color": "black",
          "size": 25
         },
         "type": "scatter",
         "x": [
          200.8516956749222,
          null
         ],
         "xaxis": "x",
         "y": [
          0.8754224366316201,
          null
         ],
         "yaxis": "y"
        },
        {
         "marker": {
          "color": "forestgreen",
          "line": {
           "color": "black",
           "width": 0.5
          },
          "size": [
           12,
           30
          ]
         },
         "mode": "text+markers",
         "name": "WITCH 5.0",
         "showlegend": false,
         "text": [
          "",
          "Ef"
         ],
         "textfont": {
          "color": "black",
          "size": 25
         },
         "type": "scatter",
         "x": [
          200.8516956749222,
          200.08589334717817
         ],
         "xaxis": "x",
         "y": [
          0.8754224366316201,
          0.8553232403824472
         ],
         "yaxis": "y"
        },
        {
         "marker": {
          "color": "darkgrey",
          "line": {
           "color": "black",
           "width": 0.5
          },
          "size": [
           12,
           30
          ]
         },
         "mode": "text+markers",
         "name": "Euro-Calliope 2.0",
         "showlegend": false,
         "text": [
          "",
          "B"
         ],
         "textfont": {
          "color": "black",
          "size": 25
         },
         "type": "scatter",
         "x": [
          167.77213644825633,
          167.77213644825633
         ],
         "xaxis": "x",
         "y": [
          0.9996545960963845,
          0.9996545960963845
         ],
         "yaxis": "y"
        },
        {
         "marker": {
          "color": "darkgrey",
          "line": {
           "color": "black",
           "width": 0.5
          },
          "size": [
           12,
           30
          ]
         },
         "mode": "text+markers",
         "name": "Euro-Calliope 2.0",
         "showlegend": false,
         "text": [
          "",
          "C"
         ],
         "textfont": {
          "color": "black",
          "size": 25
         },
         "type": "scatter",
         "x": [
          167.77213644825633,
          167.77213644825633
         ],
         "xaxis": "x",
         "y": [
          0.9996545960963845,
          0.9996545960963845
         ],
         "yaxis": "y"
        },
        {
         "marker": {
          "color": "darkgrey",
          "line": {
           "color": "black",
           "width": 0.5
          },
          "size": [
           12,
           30
          ]
         },
         "mode": "text+markers",
         "name": "Euro-Calliope 2.0",
         "showlegend": false,
         "text": [
          "",
          "N"
         ],
         "textfont": {
          "color": "black",
          "size": 25
         },
         "type": "scatter",
         "x": [
          167.77213644825633,
          158.79459620063153
         ],
         "xaxis": "x",
         "y": [
          0.9996545960963845,
          0.9995761437571783
         ],
         "yaxis": "y"
        },
        {
         "marker": {
          "color": "darkgrey",
          "line": {
           "color": "black",
           "width": 0.5
          },
          "size": [
           12,
           30
          ]
         },
         "mode": "text+markers",
         "name": "Euro-Calliope 2.0",
         "showlegend": false,
         "text": [
          "",
          "V"
         ],
         "textfont": {
          "color": "black",
          "size": 25
         },
         "type": "scatter",
         "x": [
          167.77213644825633,
          167.77213644825633
         ],
         "xaxis": "x",
         "y": [
          0.9996545960963845,
          0.99965689648285
         ],
         "yaxis": "y"
        },
        {
         "marker": {
          "color": "darkgrey",
          "line": {
           "color": "black",
           "width": 0.5
          },
          "size": [
           12,
           30
          ]
         },
         "mode": "text+markers",
         "name": "Euro-Calliope 2.0",
         "showlegend": false,
         "text": [
          "",
          "El"
         ],
         "textfont": {
          "color": "black",
          "size": 25
         },
         "type": "scatter",
         "x": [
          167.77213644825633,
          188.30106930401053
         ],
         "xaxis": "x",
         "y": [
          0.9996545960963845,
          0.9999870515314768
         ],
         "yaxis": "y"
        },
        {
         "marker": {
          "color": "darkgrey",
          "line": {
           "color": "black",
           "width": 0.5
          },
          "size": [
           12,
           30
          ]
         },
         "mode": "text+markers",
         "name": "Euro-Calliope 2.0",
         "showlegend": false,
         "text": [
          "",
          "H"
         ],
         "textfont": {
          "color": "black",
          "size": 25
         },
         "type": "scatter",
         "x": [
          167.77213644825633,
          216.33695365293136
         ],
         "xaxis": "x",
         "y": [
          0.9996545960963845,
          0.9996763174485367
         ],
         "yaxis": "y"
        },
        {
         "marker": {
          "color": "darkgrey",
          "line": {
           "color": "black",
           "width": 0.5
          },
          "size": [
           12,
           30
          ]
         },
         "mode": "text+markers",
         "name": "Euro-Calliope 2.0",
         "showlegend": false,
         "text": [
          "",
          "F"
         ],
         "textfont": {
          "color": "black",
          "size": 25
         },
         "type": "scatter",
         "x": [
          167.77213644825633,
          167.77213644825633
         ],
         "xaxis": "x",
         "y": [
          0.9996545960963845,
          0.9996522073927185
         ],
         "yaxis": "y"
        },
        {
         "marker": {
          "color": "darkgrey",
          "line": {
           "color": "black",
           "width": 0.5
          },
          "size": [
           12,
           30
          ]
         },
         "mode": "text+markers",
         "name": "Euro-Calliope 2.0",
         "showlegend": false,
         "text": [
          "",
          "Ef"
         ],
         "textfont": {
          "color": "black",
          "size": 25
         },
         "type": "scatter",
         "x": [
          167.77213644825633,
          167.77213644825633
         ],
         "xaxis": "x",
         "y": [
          0.9996545960963845,
          0.9996539478395121
         ],
         "yaxis": "y"
        },
        {
         "marker": {
          "color": "royalblue",
          "line": {
           "color": "black",
           "width": 0.5
          },
          "size": [
           12,
           30
          ]
         },
         "mode": "text+markers",
         "name": "TIAM-ECN 1.2",
         "showlegend": false,
         "text": [
          "",
          "B"
         ],
         "textfont": {
          "color": "black",
          "size": 25
         },
         "type": "scatter",
         "x": [
          120.30938000000015,
          119.34994000000006
         ],
         "xaxis": "x",
         "y": [
          0.7139295144284236,
          0.6877121987700868
         ],
         "yaxis": "y"
        },
        {
         "marker": {
          "color": "royalblue",
          "line": {
           "color": "black",
           "width": 0.5
          },
          "size": [
           12,
           30
          ]
         },
         "mode": "text+markers",
         "name": "TIAM-ECN 1.2",
         "showlegend": false,
         "text": [
          "",
          "C"
         ],
         "textfont": {
          "color": "black",
          "size": 25
         },
         "type": "scatter",
         "x": [
          120.30938000000015,
          115.67064000000028
         ],
         "xaxis": "x",
         "y": [
          0.7139295144284236,
          0.7244450782161223
         ],
         "yaxis": "y"
        },
        {
         "marker": {
          "color": "royalblue",
          "line": {
           "color": "black",
           "width": 0.5
          },
          "size": [
           12,
           30
          ]
         },
         "mode": "text+markers",
         "name": "TIAM-ECN 1.2",
         "showlegend": false,
         "text": [
          "",
          "N"
         ],
         "textfont": {
          "color": "black",
          "size": 25
         },
         "type": "scatter",
         "x": [
          120.30938000000015,
          139.92866000000004
         ],
         "xaxis": "x",
         "y": [
          0.7139295144284236,
          0.7078641438076159
         ],
         "yaxis": "y"
        },
        {
         "marker": {
          "color": "royalblue",
          "line": {
           "color": "black",
           "width": 0.5
          },
          "size": [
           12,
           30
          ]
         },
         "mode": "text+markers",
         "name": "TIAM-ECN 1.2",
         "showlegend": false,
         "text": [
          "",
          "V"
         ],
         "textfont": {
          "color": "black",
          "size": 25
         },
         "type": "scatter",
         "x": [
          120.30938000000015,
          118.17586000000028
         ],
         "xaxis": "x",
         "y": [
          0.7139295144284236,
          0.7228208798490314
         ],
         "yaxis": "y"
        },
        {
         "marker": {
          "color": "royalblue",
          "line": {
           "color": "black",
           "width": 0.5
          },
          "size": [
           12,
           30
          ]
         },
         "mode": "text+markers",
         "name": "TIAM-ECN 1.2",
         "showlegend": false,
         "text": [
          "",
          "El"
         ],
         "textfont": {
          "color": "black",
          "size": 25
         },
         "type": "scatter",
         "x": [
          120.30938000000015,
          null
         ],
         "xaxis": "x",
         "y": [
          0.7139295144284236,
          null
         ],
         "yaxis": "y"
        },
        {
         "marker": {
          "color": "royalblue",
          "line": {
           "color": "black",
           "width": 0.5
          },
          "size": [
           12,
           30
          ]
         },
         "mode": "text+markers",
         "name": "TIAM-ECN 1.2",
         "showlegend": false,
         "text": [
          "",
          "H"
         ],
         "textfont": {
          "color": "black",
          "size": 25
         },
         "type": "scatter",
         "x": [
          120.30938000000015,
          null
         ],
         "xaxis": "x",
         "y": [
          0.7139295144284236,
          null
         ],
         "yaxis": "y"
        },
        {
         "marker": {
          "color": "royalblue",
          "line": {
           "color": "black",
           "width": 0.5
          },
          "size": [
           12,
           30
          ]
         },
         "mode": "text+markers",
         "name": "TIAM-ECN 1.2",
         "showlegend": false,
         "text": [
          "",
          "F"
         ],
         "textfont": {
          "color": "black",
          "size": 25
         },
         "type": "scatter",
         "x": [
          120.30938000000015,
          null
         ],
         "xaxis": "x",
         "y": [
          0.7139295144284236,
          null
         ],
         "yaxis": "y"
        },
        {
         "marker": {
          "color": "royalblue",
          "line": {
           "color": "black",
           "width": 0.5
          },
          "size": [
           12,
           30
          ]
         },
         "mode": "text+markers",
         "name": "TIAM-ECN 1.2",
         "showlegend": false,
         "text": [
          "",
          "Ef"
         ],
         "textfont": {
          "color": "black",
          "size": 25
         },
         "type": "scatter",
         "x": [
          120.30938000000015,
          null
         ],
         "xaxis": "x",
         "y": [
          0.7139295144284236,
          null
         ],
         "yaxis": "y"
        },
        {
         "marker": {
          "color": "purple",
          "line": {
           "color": "black",
           "width": 0.5
          },
          "size": [
           12,
           30
          ]
         },
         "mode": "text+markers",
         "name": "MESSAGEix-GLOBIOM 1.2",
         "showlegend": false,
         "text": [
          "",
          "B"
         ],
         "textfont": {
          "color": "black",
          "size": 25
         },
         "type": "scatter",
         "x": [
          170.61919135807875,
          168.3181968516799
         ],
         "xaxis": "x",
         "y": [
          0.862218374011189,
          0.8512739606315562
         ],
         "yaxis": "y"
        },
        {
         "marker": {
          "color": "purple",
          "line": {
           "color": "black",
           "width": 0.5
          },
          "size": [
           12,
           30
          ]
         },
         "mode": "text+markers",
         "name": "MESSAGEix-GLOBIOM 1.2",
         "showlegend": false,
         "text": [
          "",
          "C"
         ],
         "textfont": {
          "color": "black",
          "size": 25
         },
         "type": "scatter",
         "x": [
          170.61919135807875,
          169.72546002860418
         ],
         "xaxis": "x",
         "y": [
          0.862218374011189,
          0.8629454612803449
         ],
         "yaxis": "y"
        },
        {
         "marker": {
          "color": "purple",
          "line": {
           "color": "black",
           "width": 0.5
          },
          "size": [
           12,
           30
          ]
         },
         "mode": "text+markers",
         "name": "MESSAGEix-GLOBIOM 1.2",
         "showlegend": false,
         "text": [
          "",
          "N"
         ],
         "textfont": {
          "color": "black",
          "size": 25
         },
         "type": "scatter",
         "x": [
          170.61919135807875,
          168.79696353550753
         ],
         "xaxis": "x",
         "y": [
          0.862218374011189,
          0.8610710735687075
         ],
         "yaxis": "y"
        },
        {
         "marker": {
          "color": "purple",
          "line": {
           "color": "black",
           "width": 0.5
          },
          "size": [
           12,
           30
          ]
         },
         "mode": "text+markers",
         "name": "MESSAGEix-GLOBIOM 1.2",
         "showlegend": false,
         "text": [
          "",
          "V"
         ],
         "textfont": {
          "color": "black",
          "size": 25
         },
         "type": "scatter",
         "x": [
          170.61919135807875,
          170.23200616110717
         ],
         "xaxis": "x",
         "y": [
          0.862218374011189,
          0.8710454277076423
         ],
         "yaxis": "y"
        },
        {
         "marker": {
          "color": "purple",
          "line": {
           "color": "black",
           "width": 0.5
          },
          "size": [
           12,
           30
          ]
         },
         "mode": "text+markers",
         "name": "MESSAGEix-GLOBIOM 1.2",
         "showlegend": false,
         "text": [
          "",
          "El"
         ],
         "textfont": {
          "color": "black",
          "size": 25
         },
         "type": "scatter",
         "x": [
          170.61919135807875,
          175.06032055811784
         ],
         "xaxis": "x",
         "y": [
          0.862218374011189,
          0.8911972160439676
         ],
         "yaxis": "y"
        },
        {
         "marker": {
          "color": "purple",
          "line": {
           "color": "black",
           "width": 0.5
          },
          "size": [
           12,
           30
          ]
         },
         "mode": "text+markers",
         "name": "MESSAGEix-GLOBIOM 1.2",
         "showlegend": false,
         "text": [
          "",
          "H"
         ],
         "textfont": {
          "color": "black",
          "size": 25
         },
         "type": "scatter",
         "x": [
          170.61919135807875,
          168.11944649111547
         ],
         "xaxis": "x",
         "y": [
          0.862218374011189,
          0.8565501224955973
         ],
         "yaxis": "y"
        },
        {
         "marker": {
          "color": "purple",
          "line": {
           "color": "black",
           "width": 0.5
          },
          "size": [
           12,
           30
          ]
         },
         "mode": "text+markers",
         "name": "MESSAGEix-GLOBIOM 1.2",
         "showlegend": false,
         "text": [
          "",
          "F"
         ],
         "textfont": {
          "color": "black",
          "size": 25
         },
         "type": "scatter",
         "x": [
          170.61919135807875,
          223.6294529214165
         ],
         "xaxis": "x",
         "y": [
          0.862218374011189,
          0.9104490793644738
         ],
         "yaxis": "y"
        },
        {
         "marker": {
          "color": "purple",
          "line": {
           "color": "black",
           "width": 0.5
          },
          "size": [
           12,
           30
          ]
         },
         "mode": "text+markers",
         "name": "MESSAGEix-GLOBIOM 1.2",
         "showlegend": false,
         "text": [
          "",
          "Ef"
         ],
         "textfont": {
          "color": "black",
          "size": 25
         },
         "type": "scatter",
         "x": [
          170.61919135807875,
          null
         ],
         "xaxis": "x",
         "y": [
          0.862218374011189,
          null
         ],
         "yaxis": "y"
        },
        {
         "marker": {
          "color": "palegreen",
          "line": {
           "color": "black",
           "width": 0.5
          },
          "size": [
           12,
           30
          ]
         },
         "mode": "text+markers",
         "name": "PRIMES 2022",
         "showlegend": false,
         "text": [
          "",
          "B"
         ],
         "textfont": {
          "color": "black",
          "size": 25
         },
         "type": "scatter",
         "x": [
          150.3584051058233,
          150.2874954799886
         ],
         "xaxis": "x",
         "y": [
          0.9402672263099785,
          0.9226164535040409
         ],
         "yaxis": "y"
        },
        {
         "marker": {
          "color": "palegreen",
          "line": {
           "color": "black",
           "width": 0.5
          },
          "size": [
           12,
           30
          ]
         },
         "mode": "text+markers",
         "name": "PRIMES 2022",
         "showlegend": false,
         "text": [
          "",
          "C"
         ],
         "textfont": {
          "color": "black",
          "size": 25
         },
         "type": "scatter",
         "x": [
          150.3584051058233,
          149.43764597256632
         ],
         "xaxis": "x",
         "y": [
          0.9402672263099785,
          0.8626522877049787
         ],
         "yaxis": "y"
        },
        {
         "marker": {
          "color": "palegreen",
          "line": {
           "color": "black",
           "width": 0.5
          },
          "size": [
           12,
           30
          ]
         },
         "mode": "text+markers",
         "name": "PRIMES 2022",
         "showlegend": false,
         "text": [
          "",
          "N"
         ],
         "textfont": {
          "color": "black",
          "size": 25
         },
         "type": "scatter",
         "x": [
          150.3584051058233,
          148.08713959367697
         ],
         "xaxis": "x",
         "y": [
          0.9402672263099785,
          0.9351028708137287
         ],
         "yaxis": "y"
        },
        {
         "marker": {
          "color": "palegreen",
          "line": {
           "color": "black",
           "width": 0.5
          },
          "size": [
           12,
           30
          ]
         },
         "mode": "text+markers",
         "name": "PRIMES 2022",
         "showlegend": false,
         "text": [
          "",
          "V"
         ],
         "textfont": {
          "color": "black",
          "size": 25
         },
         "type": "scatter",
         "x": [
          150.3584051058233,
          null
         ],
         "xaxis": "x",
         "y": [
          0.9402672263099785,
          null
         ],
         "yaxis": "y"
        },
        {
         "marker": {
          "color": "palegreen",
          "line": {
           "color": "black",
           "width": 0.5
          },
          "size": [
           12,
           30
          ]
         },
         "mode": "text+markers",
         "name": "PRIMES 2022",
         "showlegend": false,
         "text": [
          "",
          "El"
         ],
         "textfont": {
          "color": "black",
          "size": 25
         },
         "type": "scatter",
         "x": [
          150.3584051058233,
          152.01075355918397
         ],
         "xaxis": "x",
         "y": [
          0.9402672263099785,
          0.9397270270553081
         ],
         "yaxis": "y"
        },
        {
         "marker": {
          "color": "palegreen",
          "line": {
           "color": "black",
           "width": 0.5
          },
          "size": [
           12,
           30
          ]
         },
         "mode": "text+markers",
         "name": "PRIMES 2022",
         "showlegend": false,
         "text": [
          "",
          "H"
         ],
         "textfont": {
          "color": "black",
          "size": 25
         },
         "type": "scatter",
         "x": [
          150.3584051058233,
          153.60363395968034
         ],
         "xaxis": "x",
         "y": [
          0.9402672263099785,
          0.939621654727886
         ],
         "yaxis": "y"
        },
        {
         "marker": {
          "color": "palegreen",
          "line": {
           "color": "black",
           "width": 0.5
          },
          "size": [
           12,
           30
          ]
         },
         "mode": "text+markers",
         "name": "PRIMES 2022",
         "showlegend": false,
         "text": [
          "",
          "F"
         ],
         "textfont": {
          "color": "black",
          "size": 25
         },
         "type": "scatter",
         "x": [
          150.3584051058233,
          null
         ],
         "xaxis": "x",
         "y": [
          0.9402672263099785,
          null
         ],
         "yaxis": "y"
        },
        {
         "marker": {
          "color": "palegreen",
          "line": {
           "color": "black",
           "width": 0.5
          },
          "size": [
           12,
           30
          ]
         },
         "mode": "text+markers",
         "name": "PRIMES 2022",
         "showlegend": false,
         "text": [
          "",
          "Ef"
         ],
         "textfont": {
          "color": "black",
          "size": 25
         },
         "type": "scatter",
         "x": [
          150.3584051058233,
          161.58528211112116
         ],
         "xaxis": "x",
         "y": [
          0.9402672263099785,
          0.945458072149441
         ],
         "yaxis": "y"
        },
        {
         "hovertemplate": "<b>DIAG-C400-lin</b> <br>ERT: %{y:.2f} <br>Carbon capture: %{x:.2f}",
         "line": {
          "width": 4
         },
         "marker": {
          "color": "lightskyblue",
          "line": {
           "color": "black",
           "width": 4
          },
          "size": 30,
          "symbol": "square"
         },
         "mode": "markers+text",
         "name": "IMAGE",
         "showlegend": true,
         "type": "scatter",
         "x": [
          -1000
         ],
         "xaxis": "x",
         "y": [
          1000
         ],
         "yaxis": "y"
        },
        {
         "hovertemplate": "<b>DIAG-C400-lin</b> <br>ERT: %{y:.2f} <br>Carbon capture: %{x:.2f}",
         "line": {
          "width": 4
         },
         "marker": {
          "color": "goldenrod",
          "line": {
           "color": "black",
           "width": 4
          },
          "size": 30,
          "symbol": "square"
         },
         "mode": "markers+text",
         "name": "PROMETHEUS",
         "showlegend": true,
         "type": "scatter",
         "x": [
          -1000
         ],
         "xaxis": "x",
         "y": [
          1000
         ],
         "yaxis": "y"
        },
        {
         "hovertemplate": "<b>DIAG-C400-lin</b> <br>ERT: %{y:.2f} <br>Carbon capture: %{x:.2f}",
         "line": {
          "width": 4
         },
         "marker": {
          "color": "tomato",
          "line": {
           "color": "black",
           "width": 4
          },
          "size": 30,
          "symbol": "square"
         },
         "mode": "markers+text",
         "name": "REMIND",
         "showlegend": true,
         "type": "scatter",
         "x": [
          -1000
         ],
         "xaxis": "x",
         "y": [
          1000
         ],
         "yaxis": "y"
        },
        {
         "hovertemplate": "<b>DIAG-C400-lin</b> <br>ERT: %{y:.2f} <br>Carbon capture: %{x:.2f}",
         "line": {
          "width": 4
         },
         "marker": {
          "color": "forestgreen",
          "line": {
           "color": "black",
           "width": 4
          },
          "size": 30,
          "symbol": "square"
         },
         "mode": "markers+text",
         "name": "WITCH",
         "showlegend": true,
         "type": "scatter",
         "x": [
          -1000
         ],
         "xaxis": "x",
         "y": [
          1000
         ],
         "yaxis": "y"
        },
        {
         "hovertemplate": "<b>DIAG-C400-lin</b> <br>ERT: %{y:.2f} <br>Carbon capture: %{x:.2f}",
         "line": {
          "width": 4
         },
         "marker": {
          "color": "darkgrey",
          "line": {
           "color": "black",
           "width": 4
          },
          "size": 30,
          "symbol": "square"
         },
         "mode": "markers+text",
         "name": "Euro-Calliope",
         "showlegend": true,
         "type": "scatter",
         "x": [
          -1000
         ],
         "xaxis": "x",
         "y": [
          1000
         ],
         "yaxis": "y"
        },
        {
         "hovertemplate": "<b>DIAG-C400-lin</b> <br>ERT: %{y:.2f} <br>Carbon capture: %{x:.2f}",
         "line": {
          "width": 4
         },
         "marker": {
          "color": "royalblue",
          "line": {
           "color": "black",
           "width": 4
          },
          "size": 30,
          "symbol": "square"
         },
         "mode": "markers+text",
         "name": "TIAM-ECN",
         "showlegend": true,
         "type": "scatter",
         "x": [
          -1000
         ],
         "xaxis": "x",
         "y": [
          1000
         ],
         "yaxis": "y"
        },
        {
         "hovertemplate": "<b>DIAG-C400-lin</b> <br>ERT: %{y:.2f} <br>Carbon capture: %{x:.2f}",
         "line": {
          "width": 4
         },
         "marker": {
          "color": "purple",
          "line": {
           "color": "black",
           "width": 4
          },
          "size": 30,
          "symbol": "square"
         },
         "mode": "markers+text",
         "name": "MESSAGE",
         "showlegend": true,
         "type": "scatter",
         "x": [
          -1000
         ],
         "xaxis": "x",
         "y": [
          1000
         ],
         "yaxis": "y"
        },
        {
         "hovertemplate": "<b>DIAG-C400-lin</b> <br>ERT: %{y:.2f} <br>Carbon capture: %{x:.2f}",
         "line": {
          "width": 4
         },
         "marker": {
          "color": "palegreen",
          "line": {
           "color": "black",
           "width": 4
          },
          "size": 30,
          "symbol": "square"
         },
         "mode": "markers+text",
         "name": "PRIMES",
         "showlegend": true,
         "type": "scatter",
         "x": [
          -1000
         ],
         "xaxis": "x",
         "y": [
          1000
         ],
         "yaxis": "y"
        },
        {
         "hovertemplate": "<b>DIAG-C400-lin</b> <br>ERT: %{y:.2f} <br>Carbon capture: %{x:.2f}",
         "line": {
          "width": 4
         },
         "marker": {
          "color": "black",
          "line": {
           "color": "black",
           "width": 4
          },
          "size": 12,
          "symbol": "circle"
         },
         "mode": "markers",
         "name": "IMAGE",
         "showlegend": false,
         "text": "<b>-</b>",
         "type": "scatter",
         "x": [
          190.77519531250027
         ],
         "xaxis": "x",
         "y": [
          1.0052226798782398
         ],
         "yaxis": "y"
        },
        {
         "hovertemplate": "<b>DIAG-C400-lin</b> <br>ERT: %{y:.2f} <br>Carbon capture: %{x:.2f}",
         "line": {
          "width": 4
         },
         "marker": {
          "color": "black",
          "line": {
           "color": "black",
           "width": 4
          },
          "size": 12,
          "symbol": "circle"
         },
         "mode": "markers",
         "name": "PROMETHEUS",
         "showlegend": false,
         "text": "<b>-</b>",
         "type": "scatter",
         "x": [
          153.1561023057975
         ],
         "xaxis": "x",
         "y": [
          0.9162835262952043
         ],
         "yaxis": "y"
        },
        {
         "hovertemplate": "<b>DIAG-C400-lin</b> <br>ERT: %{y:.2f} <br>Carbon capture: %{x:.2f}",
         "line": {
          "width": 4
         },
         "marker": {
          "color": "black",
          "line": {
           "color": "black",
           "width": 4
          },
          "size": 12,
          "symbol": "circle"
         },
         "mode": "markers",
         "name": "REMIND",
         "showlegend": false,
         "text": "<b>-</b>",
         "type": "scatter",
         "x": [
          180.78106000000025
         ],
         "xaxis": "x",
         "y": [
          1.1754351148627167
         ],
         "yaxis": "y"
        },
        {
         "hovertemplate": "<b>DIAG-C400-lin</b> <br>ERT: %{y:.2f} <br>Carbon capture: %{x:.2f}",
         "line": {
          "width": 4
         },
         "marker": {
          "color": "black",
          "line": {
           "color": "black",
           "width": 4
          },
          "size": 12,
          "symbol": "circle"
         },
         "mode": "markers",
         "name": "WITCH",
         "showlegend": false,
         "text": "<b>-</b>",
         "type": "scatter",
         "x": [
          200.8516956749222
         ],
         "xaxis": "x",
         "y": [
          0.8754224366316201
         ],
         "yaxis": "y"
        },
        {
         "hovertemplate": "<b>DIAG-C400-lin</b> <br>ERT: %{y:.2f} <br>Carbon capture: %{x:.2f}",
         "line": {
          "width": 4
         },
         "marker": {
          "color": "black",
          "line": {
           "color": "black",
           "width": 4
          },
          "size": 12,
          "symbol": "circle"
         },
         "mode": "markers",
         "name": "Euro-Calliope",
         "showlegend": false,
         "text": "<b>-</b>",
         "type": "scatter",
         "x": [
          167.77213644825633
         ],
         "xaxis": "x",
         "y": [
          0.9996545960963845
         ],
         "yaxis": "y"
        },
        {
         "hovertemplate": "<b>DIAG-C400-lin</b> <br>ERT: %{y:.2f} <br>Carbon capture: %{x:.2f}",
         "line": {
          "width": 4
         },
         "marker": {
          "color": "black",
          "line": {
           "color": "black",
           "width": 4
          },
          "size": 12,
          "symbol": "circle"
         },
         "mode": "markers",
         "name": "TIAM-ECN",
         "showlegend": false,
         "text": "<b>-</b>",
         "type": "scatter",
         "x": [
          120.30938000000015
         ],
         "xaxis": "x",
         "y": [
          0.7139295144284236
         ],
         "yaxis": "y"
        },
        {
         "hovertemplate": "<b>DIAG-C400-lin</b> <br>ERT: %{y:.2f} <br>Carbon capture: %{x:.2f}",
         "line": {
          "width": 4
         },
         "marker": {
          "color": "black",
          "line": {
           "color": "black",
           "width": 4
          },
          "size": 12,
          "symbol": "circle"
         },
         "mode": "markers",
         "name": "MESSAGE",
         "showlegend": false,
         "text": "<b>-</b>",
         "type": "scatter",
         "x": [
          170.61919135807875
         ],
         "xaxis": "x",
         "y": [
          0.862218374011189
         ],
         "yaxis": "y"
        },
        {
         "hovertemplate": "<b>DIAG-C400-lin</b> <br>ERT: %{y:.2f} <br>Carbon capture: %{x:.2f}",
         "line": {
          "width": 4
         },
         "marker": {
          "color": "black",
          "line": {
           "color": "black",
           "width": 4
          },
          "size": 12,
          "symbol": "circle"
         },
         "mode": "markers",
         "name": "PRIMES",
         "showlegend": false,
         "text": "<b>-</b>",
         "type": "scatter",
         "x": [
          150.3584051058233
         ],
         "xaxis": "x",
         "y": [
          0.9402672263099785
         ],
         "yaxis": "y"
        },
        {
         "line": {
          "dash": "dash"
         },
         "marker": {
          "color": "silver",
          "line": {
           "color": "black",
           "width": 0
          },
          "size": 35,
          "symbol": "square"
         },
         "mode": "text+lines",
         "showlegend": false,
         "text": "η",
         "textfont": {
          "size": 18
         },
         "type": "scatter",
         "x": [
          0,
          0.615,
          1000
         ],
         "xaxis": "x2",
         "y": [
          0.4945340157515777,
          0.4945340157515777,
          0.4945340157515777
         ],
         "yaxis": "y2"
        },
        {
         "marker": {
          "color": "silver",
          "line": {
           "color": "black",
           "width": 0
          },
          "size": 35,
          "symbol": "square"
         },
         "mode": "text",
         "showlegend": false,
         "text": "+σ",
         "textfont": {
          "size": 18
         },
         "type": "scatter",
         "x": [
          0,
          0.615,
          1000
         ],
         "xaxis": "x2",
         "y": [
          0.5762318770433184,
          0.5762318770433184,
          0.5762318770433184
         ],
         "yaxis": "y2"
        },
        {
         "marker": {
          "color": "silver",
          "line": {
           "color": "black",
           "width": 0
          },
          "size": 35,
          "symbol": "square"
         },
         "mode": "text",
         "showlegend": false,
         "text": "-σ",
         "textfont": {
          "size": 18
         },
         "type": "scatter",
         "x": [
          0,
          0.615,
          1000
         ],
         "xaxis": "x2",
         "y": [
          0.41283615445983696,
          0.41283615445983696,
          0.41283615445983696
         ],
         "yaxis": "y2"
        },
        {
         "marker": {
          "color": "silver",
          "line": {
           "color": "black",
           "width": 0
          },
          "size": 35,
          "symbol": "square"
         },
         "mode": "text",
         "showlegend": false,
         "text": "+2σ",
         "textfont": {
          "size": 18
         },
         "type": "scatter",
         "x": [
          0,
          0.615,
          1000
         ],
         "xaxis": "x2",
         "y": [
          0.6579297383350591,
          0.6579297383350591,
          0.6579297383350591
         ],
         "yaxis": "y2"
        },
        {
         "marker": {
          "color": "silver",
          "line": {
           "color": "black",
           "width": 0
          },
          "size": 35,
          "symbol": "square"
         },
         "mode": "text",
         "showlegend": false,
         "text": "-2σ",
         "textfont": {
          "size": 18
         },
         "type": "scatter",
         "x": [
          0,
          0.615,
          1000
         ],
         "xaxis": "x2",
         "y": [
          0.3311382931680963,
          0.3311382931680963,
          0.3311382931680963
         ],
         "yaxis": "y2"
        },
        {
         "fill": "toself",
         "fillcolor": "silver",
         "line": {
          "color": "silver"
         },
         "opacity": 0.25,
         "showlegend": false,
         "type": "scatter",
         "x": [
          -1000,
          1000,
          1000,
          -1000
         ],
         "xaxis": "x2",
         "y": [
          0.41283615445983696,
          0.41283615445983696,
          0.5762318770433184,
          0.5762318770433184
         ],
         "yaxis": "y2"
        },
        {
         "fill": "toself",
         "fillcolor": "silver",
         "line": {
          "color": "silver"
         },
         "opacity": 0.1,
         "showlegend": false,
         "type": "scatter",
         "x": [
          -1000,
          1000,
          1000,
          -1000
         ],
         "xaxis": "x2",
         "y": [
          0.3311382931680963,
          0.3311382931680963,
          0.6579297383350591,
          0.6579297383350591
         ],
         "yaxis": "y2"
        },
        {
         "line": {
          "dash": "dash"
         },
         "marker": {
          "color": "silver",
          "line": {
           "color": "black",
           "width": 0
          },
          "size": 35,
          "symbol": "square"
         },
         "mode": "text+lines",
         "showlegend": false,
         "text": "η",
         "textfont": {
          "size": 18
         },
         "type": "scatter",
         "x": [
          0.9508735834092861,
          0.9508735834092861,
          0.9508735834092861
         ],
         "xaxis": "x2",
         "y": [
          -1000,
          0.325,
          1000
         ],
         "yaxis": "y2"
        },
        {
         "line": {
          "dash": "dash"
         },
         "marker": {
          "color": "silver",
          "line": {
           "color": "black",
           "width": 0
          },
          "size": 35,
          "symbol": "square"
         },
         "mode": "text",
         "showlegend": false,
         "text": "+σ",
         "textfont": {
          "size": 18
         },
         "type": "scatter",
         "x": [
          1.0550590892682148,
          1.0550590892682148,
          1.0550590892682148
         ],
         "xaxis": "x2",
         "y": [
          -1000,
          0.325,
          1000
         ],
         "yaxis": "y2"
        },
        {
         "line": {
          "dash": "dash"
         },
         "marker": {
          "color": "silver",
          "line": {
           "color": "black",
           "width": 0
          },
          "size": 35,
          "symbol": "square"
         },
         "mode": "text",
         "showlegend": false,
         "text": "-σ",
         "textfont": {
          "size": 18
         },
         "type": "scatter",
         "x": [
          0.8466880775503574,
          0.8466880775503574,
          0.8466880775503574
         ],
         "xaxis": "x2",
         "y": [
          -1000,
          0.325,
          1000
         ],
         "yaxis": "y2"
        },
        {
         "line": {
          "dash": "dash"
         },
         "marker": {
          "color": "silver",
          "line": {
           "color": "black",
           "width": 0
          },
          "size": 35,
          "symbol": "square"
         },
         "mode": "text",
         "showlegend": false,
         "text": "+2σ",
         "textfont": {
          "size": 18
         },
         "type": "scatter",
         "x": [
          1.1592445951271435,
          1.1592445951271435,
          1.1592445951271435
         ],
         "xaxis": "x2",
         "y": [
          -1000,
          0.325,
          1000
         ],
         "yaxis": "y2"
        },
        {
         "line": {
          "dash": "dash"
         },
         "marker": {
          "color": "silver",
          "line": {
           "color": "black",
           "width": 0
          },
          "size": 35,
          "symbol": "square"
         },
         "mode": "text",
         "showlegend": false,
         "text": "-2σ",
         "textfont": {
          "size": 18
         },
         "type": "scatter",
         "x": [
          0.7425025716914287,
          0.7425025716914287,
          0.7425025716914287
         ],
         "xaxis": "x2",
         "y": [
          -1000,
          0.325,
          1000
         ],
         "yaxis": "y2"
        },
        {
         "fill": "toself",
         "fillcolor": "silver",
         "line": {
          "color": "silver"
         },
         "opacity": 0.25,
         "showlegend": false,
         "type": "scatter",
         "x": [
          0.8466880775503574,
          0.8466880775503574,
          1.0550590892682148,
          1.0550590892682148
         ],
         "xaxis": "x2",
         "y": [
          -1000,
          1000,
          1000,
          -1000
         ],
         "yaxis": "y2"
        },
        {
         "fill": "toself",
         "fillcolor": "silver",
         "line": {
          "color": "silver"
         },
         "opacity": 0.1,
         "showlegend": false,
         "type": "scatter",
         "x": [
          0.7425025716914287,
          0.7425025716914287,
          1.1592445951271435,
          1.1592445951271435
         ],
         "xaxis": "x2",
         "y": [
          -1000,
          1000,
          1000,
          -1000
         ],
         "yaxis": "y2"
        },
        {
         "line": {
          "dash": "solid",
          "width": 3
         },
         "marker": {
          "color": "lightskyblue",
          "line": {
           "color": "black",
           "width": 0.5
          },
          "size": [
           12,
           30
          ]
         },
         "mode": "lines+markers",
         "name": "IMAGE 3.2",
         "showlegend": false,
         "text": [
          "",
          "B"
         ],
         "textfont": {
          "color": "black",
          "size": 15
         },
         "type": "scatter",
         "x": [
          1.0047825683292755,
          0.8394646553923374
         ],
         "xaxis": "x2",
         "y": [
          0.5079295914438556,
          0.5144319250399143
         ],
         "yaxis": "y2"
        },
        {
         "line": {
          "dash": "solid",
          "width": 3
         },
         "marker": {
          "color": "lightskyblue",
          "line": {
           "color": "black",
           "width": 0.5
          },
          "size": [
           12,
           30
          ]
         },
         "mode": "lines+markers",
         "name": "IMAGE 3.2",
         "showlegend": false,
         "text": [
          "",
          "C"
         ],
         "textfont": {
          "color": "black",
          "size": 15
         },
         "type": "scatter",
         "x": [
          1.0047825683292755,
          0.7940608868396609
         ],
         "xaxis": "x2",
         "y": [
          0.5079295914438556,
          0.5197125372483132
         ],
         "yaxis": "y2"
        },
        {
         "line": {
          "dash": "solid",
          "width": 3
         },
         "marker": {
          "color": "lightskyblue",
          "line": {
           "color": "black",
           "width": 0.5
          },
          "size": [
           12,
           30
          ]
         },
         "mode": "lines+markers",
         "name": "IMAGE 3.2",
         "showlegend": false,
         "text": [
          "",
          "N"
         ],
         "textfont": {
          "color": "black",
          "size": 15
         },
         "type": "scatter",
         "x": [
          1.0047825683292755,
          1.0051656033126732
         ],
         "xaxis": "x2",
         "y": [
          0.5079295914438556,
          0.5069944495037442
         ],
         "yaxis": "y2"
        },
        {
         "line": {
          "dash": "solid",
          "width": 3
         },
         "marker": {
          "color": "lightskyblue",
          "line": {
           "color": "black",
           "width": 0.5
          },
          "size": [
           12,
           30
          ]
         },
         "mode": "lines+markers",
         "name": "IMAGE 3.2",
         "showlegend": false,
         "text": [
          "",
          "V"
         ],
         "textfont": {
          "color": "black",
          "size": 15
         },
         "type": "scatter",
         "x": [
          1.0047825683292755,
          1.0108090025751293
         ],
         "xaxis": "x2",
         "y": [
          0.5079295914438556,
          0.5026587140387343
         ],
         "yaxis": "y2"
        },
        {
         "line": {
          "dash": "solid",
          "width": 3
         },
         "marker": {
          "color": "lightskyblue",
          "line": {
           "color": "black",
           "width": 0.5
          },
          "size": [
           12,
           30
          ]
         },
         "mode": "lines+markers",
         "name": "IMAGE 3.2",
         "showlegend": false,
         "text": [
          "",
          "El"
         ],
         "textfont": {
          "color": "black",
          "size": 15
         },
         "type": "scatter",
         "x": [
          1.0047825683292755,
          1.0729063708341107
         ],
         "xaxis": "x2",
         "y": [
          0.5079295914438556,
          0.5042813648372024
         ],
         "yaxis": "y2"
        },
        {
         "line": {
          "dash": "solid",
          "width": 3
         },
         "marker": {
          "color": "lightskyblue",
          "line": {
           "color": "black",
           "width": 0.5
          },
          "size": [
           12,
           30
          ]
         },
         "mode": "lines+markers",
         "name": "IMAGE 3.2",
         "showlegend": false,
         "text": [
          "",
          "H"
         ],
         "textfont": {
          "color": "black",
          "size": 15
         },
         "type": "scatter",
         "x": [
          1.0047825683292755,
          1.0069120648827232
         ],
         "xaxis": "x2",
         "y": [
          0.5079295914438556,
          0.48640931746442106
         ],
         "yaxis": "y2"
        },
        {
         "line": {
          "dash": "solid",
          "width": 3
         },
         "marker": {
          "color": "lightskyblue",
          "line": {
           "color": "black",
           "width": 0.5
          },
          "size": [
           12,
           30
          ]
         },
         "mode": "lines+markers",
         "name": "IMAGE 3.2",
         "showlegend": false,
         "text": [
          "",
          "F"
         ],
         "textfont": {
          "color": "black",
          "size": 15
         },
         "type": "scatter",
         "x": [
          1.0047825683292755,
          1.0719731361855616
         ],
         "xaxis": "x2",
         "y": [
          0.5079295914438556,
          0.5517815542105121
         ],
         "yaxis": "y2"
        },
        {
         "line": {
          "dash": "solid",
          "width": 3
         },
         "marker": {
          "color": "lightskyblue",
          "line": {
           "color": "black",
           "width": 0.5
          },
          "size": [
           12,
           30
          ]
         },
         "mode": "lines+markers",
         "name": "IMAGE 3.2",
         "showlegend": false,
         "text": [
          "",
          "Ef"
         ],
         "textfont": {
          "color": "black",
          "size": 15
         },
         "type": "scatter",
         "x": [
          1.0047825683292755,
          0.9582733459313764
         ],
         "xaxis": "x2",
         "y": [
          0.5079295914438556,
          0.5157075633615239
         ],
         "yaxis": "y2"
        },
        {
         "line": {
          "dash": "solid",
          "width": 3
         },
         "marker": {
          "color": "goldenrod",
          "line": {
           "color": "black",
           "width": 0.5
          },
          "size": [
           12,
           30
          ]
         },
         "mode": "lines+markers",
         "name": "PROMETHEUS 1.2",
         "showlegend": false,
         "text": [
          "",
          "B"
         ],
         "textfont": {
          "color": "black",
          "size": 15
         },
         "type": "scatter",
         "x": [
          0.9254568835052004,
          0.7327436201422661
         ],
         "xaxis": "x2",
         "y": [
          0.5487891483358766,
          0.5381001070083979
         ],
         "yaxis": "y2"
        },
        {
         "line": {
          "dash": "solid",
          "width": 3
         },
         "marker": {
          "color": "goldenrod",
          "line": {
           "color": "black",
           "width": 0.5
          },
          "size": [
           12,
           30
          ]
         },
         "mode": "lines+markers",
         "name": "PROMETHEUS 1.2",
         "showlegend": false,
         "text": [
          "",
          "C"
         ],
         "textfont": {
          "color": "black",
          "size": 15
         },
         "type": "scatter",
         "x": [
          0.9254568835052004,
          0.8749283093965539
         ],
         "xaxis": "x2",
         "y": [
          0.5487891483358766,
          0.5492888951268167
         ],
         "yaxis": "y2"
        },
        {
         "line": {
          "dash": "solid",
          "width": 3
         },
         "marker": {
          "color": "goldenrod",
          "line": {
           "color": "black",
           "width": 0.5
          },
          "size": [
           12,
           30
          ]
         },
         "mode": "lines+markers",
         "name": "PROMETHEUS 1.2",
         "showlegend": false,
         "text": [
          "",
          "N"
         ],
         "textfont": {
          "color": "black",
          "size": 15
         },
         "type": "scatter",
         "x": [
          0.9254568835052004,
          0.9006290418171905
         ],
         "xaxis": "x2",
         "y": [
          0.5487891483358766,
          0.550914044992373
         ],
         "yaxis": "y2"
        },
        {
         "line": {
          "dash": "solid",
          "width": 3
         },
         "marker": {
          "color": "goldenrod",
          "line": {
           "color": "black",
           "width": 0.5
          },
          "size": [
           12,
           30
          ]
         },
         "mode": "lines+markers",
         "name": "PROMETHEUS 1.2",
         "showlegend": false,
         "text": [
          "",
          "V"
         ],
         "textfont": {
          "color": "black",
          "size": 15
         },
         "type": "scatter",
         "x": [
          0.9254568835052004,
          0.8270900818859721
         ],
         "xaxis": "x2",
         "y": [
          0.5487891483358766,
          0.5525788150755311
         ],
         "yaxis": "y2"
        },
        {
         "line": {
          "dash": "solid",
          "width": 3
         },
         "marker": {
          "color": "goldenrod",
          "line": {
           "color": "black",
           "width": 0.5
          },
          "size": [
           12,
           30
          ]
         },
         "mode": "lines+markers",
         "name": "PROMETHEUS 1.2",
         "showlegend": false,
         "text": [
          "",
          "El"
         ],
         "textfont": {
          "color": "black",
          "size": 15
         },
         "type": "scatter",
         "x": [
          0.9254568835052004,
          0.9277083210894821
         ],
         "xaxis": "x2",
         "y": [
          0.5487891483358766,
          0.5732221366093696
         ],
         "yaxis": "y2"
        },
        {
         "line": {
          "dash": "solid",
          "width": 3
         },
         "marker": {
          "color": "goldenrod",
          "line": {
           "color": "black",
           "width": 0.5
          },
          "size": [
           12,
           30
          ]
         },
         "mode": "lines+markers",
         "name": "PROMETHEUS 1.2",
         "showlegend": false,
         "text": [
          "",
          "H"
         ],
         "textfont": {
          "color": "black",
          "size": 15
         },
         "type": "scatter",
         "x": [
          0.9254568835052004,
          null
         ],
         "xaxis": "x2",
         "y": [
          0.5487891483358766,
          null
         ],
         "yaxis": "y2"
        },
        {
         "line": {
          "dash": "solid",
          "width": 3
         },
         "marker": {
          "color": "goldenrod",
          "line": {
           "color": "black",
           "width": 0.5
          },
          "size": [
           12,
           30
          ]
         },
         "mode": "lines+markers",
         "name": "PROMETHEUS 1.2",
         "showlegend": false,
         "text": [
          "",
          "F"
         ],
         "textfont": {
          "color": "black",
          "size": 15
         },
         "type": "scatter",
         "x": [
          0.9254568835052004,
          null
         ],
         "xaxis": "x2",
         "y": [
          0.5487891483358766,
          null
         ],
         "yaxis": "y2"
        },
        {
         "line": {
          "dash": "solid",
          "width": 3
         },
         "marker": {
          "color": "goldenrod",
          "line": {
           "color": "black",
           "width": 0.5
          },
          "size": [
           12,
           30
          ]
         },
         "mode": "lines+markers",
         "name": "PROMETHEUS 1.2",
         "showlegend": false,
         "text": [
          "",
          "Ef"
         ],
         "textfont": {
          "color": "black",
          "size": 15
         },
         "type": "scatter",
         "x": [
          0.9254568835052004,
          0.9270947828545102
         ],
         "xaxis": "x2",
         "y": [
          0.5487891483358766,
          0.5859007132867595
         ],
         "yaxis": "y2"
        },
        {
         "line": {
          "dash": "solid",
          "width": 3
         },
         "marker": {
          "color": "tomato",
          "line": {
           "color": "black",
           "width": 0.5
          },
          "size": [
           12,
           30
          ]
         },
         "mode": "lines+markers",
         "name": "REMIND 2.1",
         "showlegend": false,
         "text": [
          "",
          "B"
         ],
         "textfont": {
          "color": "black",
          "size": 15
         },
         "type": "scatter",
         "x": [
          1.0755661412177644,
          0.9791640087558082
         ],
         "xaxis": "x2",
         "y": [
          0.481835641405711,
          0.47068206528042045
         ],
         "yaxis": "y2"
        },
        {
         "line": {
          "dash": "solid",
          "width": 3
         },
         "marker": {
          "color": "tomato",
          "line": {
           "color": "black",
           "width": 0.5
          },
          "size": [
           12,
           30
          ]
         },
         "mode": "lines+markers",
         "name": "REMIND 2.1",
         "showlegend": false,
         "text": [
          "",
          "C"
         ],
         "textfont": {
          "color": "black",
          "size": 15
         },
         "type": "scatter",
         "x": [
          1.0755661412177644,
          1.003086691556138
         ],
         "xaxis": "x2",
         "y": [
          0.481835641405711,
          0.48594375907702886
         ],
         "yaxis": "y2"
        },
        {
         "line": {
          "dash": "solid",
          "width": 3
         },
         "marker": {
          "color": "tomato",
          "line": {
           "color": "black",
           "width": 0.5
          },
          "size": [
           12,
           30
          ]
         },
         "mode": "lines+markers",
         "name": "REMIND 2.1",
         "showlegend": false,
         "text": [
          "",
          "N"
         ],
         "textfont": {
          "color": "black",
          "size": 15
         },
         "type": "scatter",
         "x": [
          1.0755661412177644,
          1.0761461131522643
         ],
         "xaxis": "x2",
         "y": [
          0.481835641405711,
          0.48220618799479675
         ],
         "yaxis": "y2"
        },
        {
         "line": {
          "dash": "solid",
          "width": 3
         },
         "marker": {
          "color": "tomato",
          "line": {
           "color": "black",
           "width": 0.5
          },
          "size": [
           12,
           30
          ]
         },
         "mode": "lines+markers",
         "name": "REMIND 2.1",
         "showlegend": false,
         "text": [
          "",
          "V"
         ],
         "textfont": {
          "color": "black",
          "size": 15
         },
         "type": "scatter",
         "x": [
          1.0755661412177644,
          1.075370971384097
         ],
         "xaxis": "x2",
         "y": [
          0.481835641405711,
          0.4649269429384046
         ],
         "yaxis": "y2"
        },
        {
         "line": {
          "dash": "solid",
          "width": 3
         },
         "marker": {
          "color": "tomato",
          "line": {
           "color": "black",
           "width": 0.5
          },
          "size": [
           12,
           30
          ]
         },
         "mode": "lines+markers",
         "name": "REMIND 2.1",
         "showlegend": false,
         "text": [
          "",
          "El"
         ],
         "textfont": {
          "color": "black",
          "size": 15
         },
         "type": "scatter",
         "x": [
          1.0755661412177644,
          1.0801373511470043
         ],
         "xaxis": "x2",
         "y": [
          0.481835641405711,
          0.4783891440256738
         ],
         "yaxis": "y2"
        },
        {
         "line": {
          "dash": "solid",
          "width": 3
         },
         "marker": {
          "color": "tomato",
          "line": {
           "color": "black",
           "width": 0.5
          },
          "size": [
           12,
           30
          ]
         },
         "mode": "lines+markers",
         "name": "REMIND 2.1",
         "showlegend": false,
         "text": [
          "",
          "H"
         ],
         "textfont": {
          "color": "black",
          "size": 15
         },
         "type": "scatter",
         "x": [
          1.0755661412177644,
          1.081947698270236
         ],
         "xaxis": "x2",
         "y": [
          0.481835641405711,
          0.43841264475478786
         ],
         "yaxis": "y2"
        },
        {
         "line": {
          "dash": "solid",
          "width": 3
         },
         "marker": {
          "color": "tomato",
          "line": {
           "color": "black",
           "width": 0.5
          },
          "size": [
           12,
           30
          ]
         },
         "mode": "lines+markers",
         "name": "REMIND 2.1",
         "showlegend": false,
         "text": [
          "",
          "F"
         ],
         "textfont": {
          "color": "black",
          "size": 15
         },
         "type": "scatter",
         "x": [
          1.0755661412177644,
          1.0543272555715686
         ],
         "xaxis": "x2",
         "y": [
          0.481835641405711,
          0.4423767078614513
         ],
         "yaxis": "y2"
        },
        {
         "line": {
          "dash": "solid",
          "width": 3
         },
         "marker": {
          "color": "tomato",
          "line": {
           "color": "black",
           "width": 0.5
          },
          "size": [
           12,
           30
          ]
         },
         "mode": "lines+markers",
         "name": "REMIND 2.1",
         "showlegend": false,
         "text": [
          "",
          "Ef"
         ],
         "textfont": {
          "color": "black",
          "size": 15
         },
         "type": "scatter",
         "x": [
          1.0755661412177644,
          1.126633729248703
         ],
         "xaxis": "x2",
         "y": [
          0.481835641405711,
          0.6078195987043383
         ],
         "yaxis": "y2"
        },
        {
         "line": {
          "dash": "solid",
          "width": 3
         },
         "marker": {
          "color": "forestgreen",
          "line": {
           "color": "black",
           "width": 0.5
          },
          "size": [
           12,
           30
          ]
         },
         "mode": "lines+markers",
         "name": "WITCH 5.0",
         "showlegend": false,
         "text": [
          "",
          "B"
         ],
         "textfont": {
          "color": "black",
          "size": 15
         },
         "type": "scatter",
         "x": [
          0.8926207672391288,
          0.8175033914177665
         ],
         "xaxis": "x2",
         "y": [
          0.6633529408995644,
          0.6667894374379013
         ],
         "yaxis": "y2"
        },
        {
         "line": {
          "dash": "solid",
          "width": 3
         },
         "marker": {
          "color": "forestgreen",
          "line": {
           "color": "black",
           "width": 0.5
          },
          "size": [
           12,
           30
          ]
         },
         "mode": "lines+markers",
         "name": "WITCH 5.0",
         "showlegend": false,
         "text": [
          "",
          "C"
         ],
         "textfont": {
          "color": "black",
          "size": 15
         },
         "type": "scatter",
         "x": [
          0.8926207672391288,
          0.6570192486523112
         ],
         "xaxis": "x2",
         "y": [
          0.6633529408995644,
          0.6725135384833394
         ],
         "yaxis": "y2"
        },
        {
         "line": {
          "dash": "solid",
          "width": 3
         },
         "marker": {
          "color": "forestgreen",
          "line": {
           "color": "black",
           "width": 0.5
          },
          "size": [
           12,
           30
          ]
         },
         "mode": "lines+markers",
         "name": "WITCH 5.0",
         "showlegend": false,
         "text": [
          "",
          "N"
         ],
         "textfont": {
          "color": "black",
          "size": 15
         },
         "type": "scatter",
         "x": [
          0.8926207672391288,
          0.8924755966529344
         ],
         "xaxis": "x2",
         "y": [
          0.6633529408995644,
          0.6642595280674667
         ],
         "yaxis": "y2"
        },
        {
         "line": {
          "dash": "solid",
          "width": 3
         },
         "marker": {
          "color": "forestgreen",
          "line": {
           "color": "black",
           "width": 0.5
          },
          "size": [
           12,
           30
          ]
         },
         "mode": "lines+markers",
         "name": "WITCH 5.0",
         "showlegend": false,
         "text": [
          "",
          "V"
         ],
         "textfont": {
          "color": "black",
          "size": 15
         },
         "type": "scatter",
         "x": [
          0.8926207672391288,
          0.8925736335678204
         ],
         "xaxis": "x2",
         "y": [
          0.6633529408995644,
          0.6633414429504187
         ],
         "yaxis": "y2"
        },
        {
         "line": {
          "dash": "solid",
          "width": 3
         },
         "marker": {
          "color": "forestgreen",
          "line": {
           "color": "black",
           "width": 0.5
          },
          "size": [
           12,
           30
          ]
         },
         "mode": "lines+markers",
         "name": "WITCH 5.0",
         "showlegend": false,
         "text": [
          "",
          "El"
         ],
         "textfont": {
          "color": "black",
          "size": 15
         },
         "type": "scatter",
         "x": [
          0.8926207672391288,
          1.0670657080007868
         ],
         "xaxis": "x2",
         "y": [
          0.6633529408995644,
          0.5995929614349129
         ],
         "yaxis": "y2"
        },
        {
         "line": {
          "dash": "solid",
          "width": 3
         },
         "marker": {
          "color": "forestgreen",
          "line": {
           "color": "black",
           "width": 0.5
          },
          "size": [
           12,
           30
          ]
         },
         "mode": "lines+markers",
         "name": "WITCH 5.0",
         "showlegend": false,
         "text": [
          "",
          "H"
         ],
         "textfont": {
          "color": "black",
          "size": 15
         },
         "type": "scatter",
         "x": [
          0.8926207672391288,
          0.8921876969360995
         ],
         "xaxis": "x2",
         "y": [
          0.6633529408995644,
          0.6638293441810007
         ],
         "yaxis": "y2"
        },
        {
         "line": {
          "dash": "solid",
          "width": 3
         },
         "marker": {
          "color": "forestgreen",
          "line": {
           "color": "black",
           "width": 0.5
          },
          "size": [
           12,
           30
          ]
         },
         "mode": "lines+markers",
         "name": "WITCH 5.0",
         "showlegend": false,
         "text": [
          "",
          "F"
         ],
         "textfont": {
          "color": "black",
          "size": 15
         },
         "type": "scatter",
         "x": [
          0.8926207672391288,
          null
         ],
         "xaxis": "x2",
         "y": [
          0.6633529408995644,
          null
         ],
         "yaxis": "y2"
        },
        {
         "line": {
          "dash": "solid",
          "width": 3
         },
         "marker": {
          "color": "forestgreen",
          "line": {
           "color": "black",
           "width": 0.5
          },
          "size": [
           12,
           30
          ]
         },
         "mode": "lines+markers",
         "name": "WITCH 5.0",
         "showlegend": false,
         "text": [
          "",
          "Ef"
         ],
         "textfont": {
          "color": "black",
          "size": 15
         },
         "type": "scatter",
         "x": [
          0.8926207672391288,
          0.8803960658987633
         ],
         "xaxis": "x2",
         "y": [
          0.6633529408995644,
          0.6493316597907897
         ],
         "yaxis": "y2"
        },
        {
         "line": {
          "dash": "solid",
          "width": 3
         },
         "marker": {
          "color": "darkgrey",
          "line": {
           "color": "black",
           "width": 0.5
          },
          "size": [
           12,
           30
          ]
         },
         "mode": "lines+markers",
         "name": "Euro-Calliope 2.0",
         "showlegend": false,
         "text": [
          "",
          "B"
         ],
         "textfont": {
          "color": "black",
          "size": 15
         },
         "type": "scatter",
         "x": [
          0.9998081183482022,
          0.9998081183482022
         ],
         "xaxis": "x2",
         "y": [
          0.44830171553090004,
          0.44830171553090004
         ],
         "yaxis": "y2"
        },
        {
         "line": {
          "dash": "solid",
          "width": 3
         },
         "marker": {
          "color": "darkgrey",
          "line": {
           "color": "black",
           "width": 0.5
          },
          "size": [
           12,
           30
          ]
         },
         "mode": "lines+markers",
         "name": "Euro-Calliope 2.0",
         "showlegend": false,
         "text": [
          "",
          "C"
         ],
         "textfont": {
          "color": "black",
          "size": 15
         },
         "type": "scatter",
         "x": [
          0.9998081183482022,
          0.9998081183482022
         ],
         "xaxis": "x2",
         "y": [
          0.44830171553090004,
          0.44830171553090004
         ],
         "yaxis": "y2"
        },
        {
         "line": {
          "dash": "solid",
          "width": 3
         },
         "marker": {
          "color": "darkgrey",
          "line": {
           "color": "black",
           "width": 0.5
          },
          "size": [
           12,
           30
          ]
         },
         "mode": "lines+markers",
         "name": "Euro-Calliope 2.0",
         "showlegend": false,
         "text": [
          "",
          "N"
         ],
         "textfont": {
          "color": "black",
          "size": 15
         },
         "type": "scatter",
         "x": [
          0.9998081183482022,
          0.9997649372350335
         ],
         "xaxis": "x2",
         "y": [
          0.44830171553090004,
          0.4473596585547594
         ],
         "yaxis": "y2"
        },
        {
         "line": {
          "dash": "solid",
          "width": 3
         },
         "marker": {
          "color": "darkgrey",
          "line": {
           "color": "black",
           "width": 0.5
          },
          "size": [
           12,
           30
          ]
         },
         "mode": "lines+markers",
         "name": "Euro-Calliope 2.0",
         "showlegend": false,
         "text": [
          "",
          "V"
         ],
         "textfont": {
          "color": "black",
          "size": 15
         },
         "type": "scatter",
         "x": [
          0.9998081183482022,
          0.9998093531304234
         ],
         "xaxis": "x2",
         "y": [
          0.44830171553090004,
          0.4484265770956937
         ],
         "yaxis": "y2"
        },
        {
         "line": {
          "dash": "solid",
          "width": 3
         },
         "marker": {
          "color": "darkgrey",
          "line": {
           "color": "black",
           "width": 0.5
          },
          "size": [
           12,
           30
          ]
         },
         "mode": "lines+markers",
         "name": "Euro-Calliope 2.0",
         "showlegend": false,
         "text": [
          "",
          "El"
         ],
         "textfont": {
          "color": "black",
          "size": 15
         },
         "type": "scatter",
         "x": [
          0.9998081183482022,
          0.9999927708916362
         ],
         "xaxis": "x2",
         "y": [
          0.44830171553090004,
          0.4510389758078511
         ],
         "yaxis": "y2"
        },
        {
         "line": {
          "dash": "solid",
          "width": 3
         },
         "marker": {
          "color": "darkgrey",
          "line": {
           "color": "black",
           "width": 0.5
          },
          "size": [
           12,
           30
          ]
         },
         "mode": "lines+markers",
         "name": "Euro-Calliope 2.0",
         "showlegend": false,
         "text": [
          "",
          "H"
         ],
         "textfont": {
          "color": "black",
          "size": 15
         },
         "type": "scatter",
         "x": [
          0.9998081183482022,
          0.9998201309231061
         ],
         "xaxis": "x2",
         "y": [
          0.44830171553090004,
          0.44846811676950543
         ],
         "yaxis": "y2"
        },
        {
         "line": {
          "dash": "solid",
          "width": 3
         },
         "marker": {
          "color": "darkgrey",
          "line": {
           "color": "black",
           "width": 0.5
          },
          "size": [
           12,
           30
          ]
         },
         "mode": "lines+markers",
         "name": "Euro-Calliope 2.0",
         "showlegend": false,
         "text": [
          "",
          "F"
         ],
         "textfont": {
          "color": "black",
          "size": 15
         },
         "type": "scatter",
         "x": [
          0.9998081183482022,
          0.9998067380209279
         ],
         "xaxis": "x2",
         "y": [
          0.44830171553090004,
          0.4484539683372081
         ],
         "yaxis": "y2"
        },
        {
         "line": {
          "dash": "solid",
          "width": 3
         },
         "marker": {
          "color": "darkgrey",
          "line": {
           "color": "black",
           "width": 0.5
          },
          "size": [
           12,
           30
          ]
         },
         "mode": "lines+markers",
         "name": "Euro-Calliope 2.0",
         "showlegend": false,
         "text": [
          "",
          "Ef"
         ],
         "textfont": {
          "color": "black",
          "size": 15
         },
         "type": "scatter",
         "x": [
          0.9998081183482022,
          0.9998077401153177
         ],
         "xaxis": "x2",
         "y": [
          0.44830171553090004,
          0.4483536767545831
         ],
         "yaxis": "y2"
        },
        {
         "line": {
          "dash": "solid",
          "width": 3
         },
         "marker": {
          "color": "royalblue",
          "line": {
           "color": "black",
           "width": 0.5
          },
          "size": [
           12,
           30
          ]
         },
         "mode": "lines+markers",
         "name": "TIAM-ECN 1.2",
         "showlegend": false,
         "text": [
          "",
          "B"
         ],
         "textfont": {
          "color": "black",
          "size": 15
         },
         "type": "scatter",
         "x": [
          0.7509573164272332,
          0.7236141034272139
         ],
         "xaxis": "x2",
         "y": [
          0.34797126551045904,
          0.35863299883679645
         ],
         "yaxis": "y2"
        },
        {
         "line": {
          "dash": "solid",
          "width": 3
         },
         "marker": {
          "color": "royalblue",
          "line": {
           "color": "black",
           "width": 0.5
          },
          "size": [
           12,
           30
          ]
         },
         "mode": "lines+markers",
         "name": "TIAM-ECN 1.2",
         "showlegend": false,
         "text": [
          "",
          "C"
         ],
         "textfont": {
          "color": "black",
          "size": 15
         },
         "type": "scatter",
         "x": [
          0.7509573164272332,
          0.7561462855876118
         ],
         "xaxis": "x2",
         "y": [
          0.34797126551045904,
          0.3585744328514831
         ],
         "yaxis": "y2"
        },
        {
         "line": {
          "dash": "solid",
          "width": 3
         },
         "marker": {
          "color": "royalblue",
          "line": {
           "color": "black",
           "width": 0.5
          },
          "size": [
           12,
           30
          ]
         },
         "mode": "lines+markers",
         "name": "TIAM-ECN 1.2",
         "showlegend": false,
         "text": [
          "",
          "N"
         ],
         "textfont": {
          "color": "black",
          "size": 15
         },
         "type": "scatter",
         "x": [
          0.7509573164272332,
          0.74576995686814
         ],
         "xaxis": "x2",
         "y": [
          0.34797126551045904,
          0.34773291557023056
         ],
         "yaxis": "y2"
        },
        {
         "line": {
          "dash": "solid",
          "width": 3
         },
         "marker": {
          "color": "royalblue",
          "line": {
           "color": "black",
           "width": 0.5
          },
          "size": [
           12,
           30
          ]
         },
         "mode": "lines+markers",
         "name": "TIAM-ECN 1.2",
         "showlegend": false,
         "text": [
          "",
          "V"
         ],
         "textfont": {
          "color": "black",
          "size": 15
         },
         "type": "scatter",
         "x": [
          0.7509573164272332,
          0.7563906166990407
         ],
         "xaxis": "x2",
         "y": [
          0.34797126551045904,
          0.3541465719618659
         ],
         "yaxis": "y2"
        },
        {
         "line": {
          "dash": "solid",
          "width": 3
         },
         "marker": {
          "color": "royalblue",
          "line": {
           "color": "black",
           "width": 0.5
          },
          "size": [
           12,
           30
          ]
         },
         "mode": "lines+markers",
         "name": "TIAM-ECN 1.2",
         "showlegend": false,
         "text": [
          "",
          "El"
         ],
         "textfont": {
          "color": "black",
          "size": 15
         },
         "type": "scatter",
         "x": [
          0.7509573164272332,
          null
         ],
         "xaxis": "x2",
         "y": [
          0.34797126551045904,
          null
         ],
         "yaxis": "y2"
        },
        {
         "line": {
          "dash": "solid",
          "width": 3
         },
         "marker": {
          "color": "royalblue",
          "line": {
           "color": "black",
           "width": 0.5
          },
          "size": [
           12,
           30
          ]
         },
         "mode": "lines+markers",
         "name": "TIAM-ECN 1.2",
         "showlegend": false,
         "text": [
          "",
          "H"
         ],
         "textfont": {
          "color": "black",
          "size": 15
         },
         "type": "scatter",
         "x": [
          0.7509573164272332,
          null
         ],
         "xaxis": "x2",
         "y": [
          0.34797126551045904,
          null
         ],
         "yaxis": "y2"
        },
        {
         "line": {
          "dash": "solid",
          "width": 3
         },
         "marker": {
          "color": "royalblue",
          "line": {
           "color": "black",
           "width": 0.5
          },
          "size": [
           12,
           30
          ]
         },
         "mode": "lines+markers",
         "name": "TIAM-ECN 1.2",
         "showlegend": false,
         "text": [
          "",
          "F"
         ],
         "textfont": {
          "color": "black",
          "size": 15
         },
         "type": "scatter",
         "x": [
          0.7509573164272332,
          null
         ],
         "xaxis": "x2",
         "y": [
          0.34797126551045904,
          null
         ],
         "yaxis": "y2"
        },
        {
         "line": {
          "dash": "solid",
          "width": 3
         },
         "marker": {
          "color": "royalblue",
          "line": {
           "color": "black",
           "width": 0.5
          },
          "size": [
           12,
           30
          ]
         },
         "mode": "lines+markers",
         "name": "TIAM-ECN 1.2",
         "showlegend": false,
         "text": [
          "",
          "Ef"
         ],
         "textfont": {
          "color": "black",
          "size": 15
         },
         "type": "scatter",
         "x": [
          0.7509573164272332,
          null
         ],
         "xaxis": "x2",
         "y": [
          0.34797126551045904,
          null
         ],
         "yaxis": "y2"
        },
        {
         "line": {
          "dash": "solid",
          "width": 3
         },
         "marker": {
          "color": "purple",
          "line": {
           "color": "black",
           "width": 0.5
          },
          "size": [
           12,
           30
          ]
         },
         "mode": "lines+markers",
         "name": "MESSAGEix-GLOBIOM 1.2",
         "showlegend": false,
         "text": [
          "",
          "B"
         ],
         "textfont": {
          "color": "black",
          "size": 15
         },
         "type": "scatter",
         "x": [
          0.8690365265723249,
          0.8560778928833259
         ],
         "xaxis": "x2",
         "y": [
          0.43846593167071685,
          0.4482075517180252
         ],
         "yaxis": "y2"
        },
        {
         "line": {
          "dash": "solid",
          "width": 3
         },
         "marker": {
          "color": "purple",
          "line": {
           "color": "black",
           "width": 0.5
          },
          "size": [
           12,
           30
          ]
         },
         "mode": "lines+markers",
         "name": "MESSAGEix-GLOBIOM 1.2",
         "showlegend": false,
         "text": [
          "",
          "C"
         ],
         "textfont": {
          "color": "black",
          "size": 15
         },
         "type": "scatter",
         "x": [
          0.8690365265723249,
          0.8686454996666685
         ],
         "xaxis": "x2",
         "y": [
          0.43846593167071685,
          0.4427312042799178
         ],
         "yaxis": "y2"
        },
        {
         "line": {
          "dash": "solid",
          "width": 3
         },
         "marker": {
          "color": "purple",
          "line": {
           "color": "black",
           "width": 0.5
          },
          "size": [
           12,
           30
          ]
         },
         "mode": "lines+markers",
         "name": "MESSAGEix-GLOBIOM 1.2",
         "showlegend": false,
         "text": [
          "",
          "N"
         ],
         "textfont": {
          "color": "black",
          "size": 15
         },
         "type": "scatter",
         "x": [
          0.8690365265723249,
          0.867824249817944
         ],
         "xaxis": "x2",
         "y": [
          0.43846593167071685,
          0.43886523867500776
         ],
         "yaxis": "y2"
        },
        {
         "line": {
          "dash": "solid",
          "width": 3
         },
         "marker": {
          "color": "purple",
          "line": {
           "color": "black",
           "width": 0.5
          },
          "size": [
           12,
           30
          ]
         },
         "mode": "lines+markers",
         "name": "MESSAGEix-GLOBIOM 1.2",
         "showlegend": false,
         "text": [
          "",
          "V"
         ],
         "textfont": {
          "color": "black",
          "size": 15
         },
         "type": "scatter",
         "x": [
          0.8690365265723249,
          0.8778181636285923
         ],
         "xaxis": "x2",
         "y": [
          0.43846593167071685,
          0.43716082477767376
         ],
         "yaxis": "y2"
        },
        {
         "line": {
          "dash": "solid",
          "width": 3
         },
         "marker": {
          "color": "purple",
          "line": {
           "color": "black",
           "width": 0.5
          },
          "size": [
           12,
           30
          ]
         },
         "mode": "lines+markers",
         "name": "MESSAGEix-GLOBIOM 1.2",
         "showlegend": false,
         "text": [
          "",
          "El"
         ],
         "textfont": {
          "color": "black",
          "size": 15
         },
         "type": "scatter",
         "x": [
          0.8690365265723249,
          0.8990354401542623
         ],
         "xaxis": "x2",
         "y": [
          0.43846593167071685,
          0.4300342196513855
         ],
         "yaxis": "y2"
        },
        {
         "line": {
          "dash": "solid",
          "width": 3
         },
         "marker": {
          "color": "purple",
          "line": {
           "color": "black",
           "width": 0.5
          },
          "size": [
           12,
           30
          ]
         },
         "mode": "lines+markers",
         "name": "MESSAGEix-GLOBIOM 1.2",
         "showlegend": false,
         "text": [
          "",
          "H"
         ],
         "textfont": {
          "color": "black",
          "size": 15
         },
         "type": "scatter",
         "x": [
          0.8690365265723249,
          0.8635156927137072
         ],
         "xaxis": "x2",
         "y": [
          0.43846593167071685,
          0.43915314530957544
         ],
         "yaxis": "y2"
        },
        {
         "line": {
          "dash": "solid",
          "width": 3
         },
         "marker": {
          "color": "purple",
          "line": {
           "color": "black",
           "width": 0.5
          },
          "size": [
           12,
           30
          ]
         },
         "mode": "lines+markers",
         "name": "MESSAGEix-GLOBIOM 1.2",
         "showlegend": false,
         "text": [
          "",
          "F"
         ],
         "textfont": {
          "color": "black",
          "size": 15
         },
         "type": "scatter",
         "x": [
          0.8690365265723249,
          0.910304647382077
         ],
         "xaxis": "x2",
         "y": [
          0.43846593167071685,
          0.46470491696147354
         ],
         "yaxis": "y2"
        },
        {
         "line": {
          "dash": "solid",
          "width": 3
         },
         "marker": {
          "color": "purple",
          "line": {
           "color": "black",
           "width": 0.5
          },
          "size": [
           12,
           30
          ]
         },
         "mode": "lines+markers",
         "name": "MESSAGEix-GLOBIOM 1.2",
         "showlegend": false,
         "text": [
          "",
          "Ef"
         ],
         "textfont": {
          "color": "black",
          "size": 15
         },
         "type": "scatter",
         "x": [
          0.8690365265723249,
          null
         ],
         "xaxis": "x2",
         "y": [
          0.43846593167071685,
          null
         ],
         "yaxis": "y2"
        },
        {
         "line": {
          "dash": "solid",
          "width": 3
         },
         "marker": {
          "color": "palegreen",
          "line": {
           "color": "black",
           "width": 0.5
          },
          "size": [
           12,
           30
          ]
         },
         "mode": "lines+markers",
         "name": "PRIMES 2022",
         "showlegend": false,
         "text": [
          "",
          "B"
         ],
         "textfont": {
          "color": "black",
          "size": 15
         },
         "type": "scatter",
         "x": [
          0.9587920310470106,
          0.9465398602721181
         ],
         "xaxis": "x2",
         "y": [
          0.5228675068190457,
          0.5235404222693133
         ],
         "yaxis": "y2"
        },
        {
         "line": {
          "dash": "solid",
          "width": 3
         },
         "marker": {
          "color": "palegreen",
          "line": {
           "color": "black",
           "width": 0.5
          },
          "size": [
           12,
           30
          ]
         },
         "mode": "lines+markers",
         "name": "PRIMES 2022",
         "showlegend": false,
         "text": [
          "",
          "C"
         ],
         "textfont": {
          "color": "black",
          "size": 15
         },
         "type": "scatter",
         "x": [
          0.9587920310470106,
          0.9048617174659696
         ],
         "xaxis": "x2",
         "y": [
          0.5228675068190457,
          0.5248030501484843
         ],
         "yaxis": "y2"
        },
        {
         "line": {
          "dash": "solid",
          "width": 3
         },
         "marker": {
          "color": "palegreen",
          "line": {
           "color": "black",
           "width": 0.5
          },
          "size": [
           12,
           30
          ]
         },
         "mode": "lines+markers",
         "name": "PRIMES 2022",
         "showlegend": false,
         "text": [
          "",
          "N"
         ],
         "textfont": {
          "color": "black",
          "size": 15
         },
         "type": "scatter",
         "x": [
          0.9587920310470106,
          0.955207306546454
         ],
         "xaxis": "x2",
         "y": [
          0.5228675068190457,
          0.5231016399196199
         ],
         "yaxis": "y2"
        },
        {
         "line": {
          "dash": "solid",
          "width": 3
         },
         "marker": {
          "color": "palegreen",
          "line": {
           "color": "black",
           "width": 0.5
          },
          "size": [
           12,
           30
          ]
         },
         "mode": "lines+markers",
         "name": "PRIMES 2022",
         "showlegend": false,
         "text": [
          "",
          "V"
         ],
         "textfont": {
          "color": "black",
          "size": 15
         },
         "type": "scatter",
         "x": [
          0.9587920310470106,
          null
         ],
         "xaxis": "x2",
         "y": [
          0.5228675068190457,
          null
         ],
         "yaxis": "y2"
        },
        {
         "line": {
          "dash": "solid",
          "width": 3
         },
         "marker": {
          "color": "palegreen",
          "line": {
           "color": "black",
           "width": 0.5
          },
          "size": [
           12,
           30
          ]
         },
         "mode": "lines+markers",
         "name": "PRIMES 2022",
         "showlegend": false,
         "text": [
          "",
          "El"
         ],
         "textfont": {
          "color": "black",
          "size": 15
         },
         "type": "scatter",
         "x": [
          0.9587920310470106,
          0.9577378009227592
         ],
         "xaxis": "x2",
         "y": [
          0.5228675068190457,
          0.530562214536138
         ],
         "yaxis": "y2"
        },
        {
         "line": {
          "dash": "solid",
          "width": 3
         },
         "marker": {
          "color": "palegreen",
          "line": {
           "color": "black",
           "width": 0.5
          },
          "size": [
           12,
           30
          ]
         },
         "mode": "lines+markers",
         "name": "PRIMES 2022",
         "showlegend": false,
         "text": [
          "",
          "H"
         ],
         "textfont": {
          "color": "black",
          "size": 15
         },
         "type": "scatter",
         "x": [
          0.9587920310470106,
          0.959019227542848
         ],
         "xaxis": "x2",
         "y": [
          0.5228675068190457,
          0.5150370199320827
         ],
         "yaxis": "y2"
        },
        {
         "line": {
          "dash": "solid",
          "width": 3
         },
         "marker": {
          "color": "palegreen",
          "line": {
           "color": "black",
           "width": 0.5
          },
          "size": [
           12,
           30
          ]
         },
         "mode": "lines+markers",
         "name": "PRIMES 2022",
         "showlegend": false,
         "text": [
          "",
          "F"
         ],
         "textfont": {
          "color": "black",
          "size": 15
         },
         "type": "scatter",
         "x": [
          0.9587920310470106,
          null
         ],
         "xaxis": "x2",
         "y": [
          0.5228675068190457,
          null
         ],
         "yaxis": "y2"
        },
        {
         "line": {
          "dash": "solid",
          "width": 3
         },
         "marker": {
          "color": "palegreen",
          "line": {
           "color": "black",
           "width": 0.5
          },
          "size": [
           12,
           30
          ]
         },
         "mode": "lines+markers",
         "name": "PRIMES 2022",
         "showlegend": false,
         "text": [
          "",
          "Ef"
         ],
         "textfont": {
          "color": "black",
          "size": 15
         },
         "type": "scatter",
         "x": [
          0.9587920310470106,
          0.9582877599842329
         ],
         "xaxis": "x2",
         "y": [
          0.5228675068190457,
          0.5695977894786448
         ],
         "yaxis": "y2"
        },
        {
         "marker": {
          "color": "lightskyblue",
          "line": {
           "color": "black",
           "width": 0.5
          },
          "size": [
           12,
           30
          ]
         },
         "mode": "text+markers",
         "name": "IMAGE 3.2",
         "showlegend": false,
         "text": [
          "",
          "B"
         ],
         "textfont": {
          "color": "black",
          "size": 25
         },
         "type": "scatter",
         "x": [
          1.0047825683292755,
          0.8394646553923374
         ],
         "xaxis": "x2",
         "y": [
          0.5079295914438556,
          0.5144319250399143
         ],
         "yaxis": "y2"
        },
        {
         "marker": {
          "color": "lightskyblue",
          "line": {
           "color": "black",
           "width": 0.5
          },
          "size": [
           12,
           30
          ]
         },
         "mode": "text+markers",
         "name": "IMAGE 3.2",
         "showlegend": false,
         "text": [
          "",
          "C"
         ],
         "textfont": {
          "color": "black",
          "size": 25
         },
         "type": "scatter",
         "x": [
          1.0047825683292755,
          0.7940608868396609
         ],
         "xaxis": "x2",
         "y": [
          0.5079295914438556,
          0.5197125372483132
         ],
         "yaxis": "y2"
        },
        {
         "marker": {
          "color": "lightskyblue",
          "line": {
           "color": "black",
           "width": 0.5
          },
          "size": [
           12,
           30
          ]
         },
         "mode": "text+markers",
         "name": "IMAGE 3.2",
         "showlegend": false,
         "text": [
          "",
          "N"
         ],
         "textfont": {
          "color": "black",
          "size": 25
         },
         "type": "scatter",
         "x": [
          1.0047825683292755,
          1.0051656033126732
         ],
         "xaxis": "x2",
         "y": [
          0.5079295914438556,
          0.5069944495037442
         ],
         "yaxis": "y2"
        },
        {
         "marker": {
          "color": "lightskyblue",
          "line": {
           "color": "black",
           "width": 0.5
          },
          "size": [
           12,
           30
          ]
         },
         "mode": "text+markers",
         "name": "IMAGE 3.2",
         "showlegend": false,
         "text": [
          "",
          "V"
         ],
         "textfont": {
          "color": "black",
          "size": 25
         },
         "type": "scatter",
         "x": [
          1.0047825683292755,
          1.0108090025751293
         ],
         "xaxis": "x2",
         "y": [
          0.5079295914438556,
          0.5026587140387343
         ],
         "yaxis": "y2"
        },
        {
         "marker": {
          "color": "lightskyblue",
          "line": {
           "color": "black",
           "width": 0.5
          },
          "size": [
           12,
           30
          ]
         },
         "mode": "text+markers",
         "name": "IMAGE 3.2",
         "showlegend": false,
         "text": [
          "",
          "El"
         ],
         "textfont": {
          "color": "black",
          "size": 25
         },
         "type": "scatter",
         "x": [
          1.0047825683292755,
          1.0729063708341107
         ],
         "xaxis": "x2",
         "y": [
          0.5079295914438556,
          0.5042813648372024
         ],
         "yaxis": "y2"
        },
        {
         "marker": {
          "color": "lightskyblue",
          "line": {
           "color": "black",
           "width": 0.5
          },
          "size": [
           12,
           30
          ]
         },
         "mode": "text+markers",
         "name": "IMAGE 3.2",
         "showlegend": false,
         "text": [
          "",
          "H"
         ],
         "textfont": {
          "color": "black",
          "size": 25
         },
         "type": "scatter",
         "x": [
          1.0047825683292755,
          1.0069120648827232
         ],
         "xaxis": "x2",
         "y": [
          0.5079295914438556,
          0.48640931746442106
         ],
         "yaxis": "y2"
        },
        {
         "marker": {
          "color": "lightskyblue",
          "line": {
           "color": "black",
           "width": 0.5
          },
          "size": [
           12,
           30
          ]
         },
         "mode": "text+markers",
         "name": "IMAGE 3.2",
         "showlegend": false,
         "text": [
          "",
          "F"
         ],
         "textfont": {
          "color": "black",
          "size": 25
         },
         "type": "scatter",
         "x": [
          1.0047825683292755,
          1.0719731361855616
         ],
         "xaxis": "x2",
         "y": [
          0.5079295914438556,
          0.5517815542105121
         ],
         "yaxis": "y2"
        },
        {
         "marker": {
          "color": "lightskyblue",
          "line": {
           "color": "black",
           "width": 0.5
          },
          "size": [
           12,
           30
          ]
         },
         "mode": "text+markers",
         "name": "IMAGE 3.2",
         "showlegend": false,
         "text": [
          "",
          "Ef"
         ],
         "textfont": {
          "color": "black",
          "size": 25
         },
         "type": "scatter",
         "x": [
          1.0047825683292755,
          0.9582733459313764
         ],
         "xaxis": "x2",
         "y": [
          0.5079295914438556,
          0.5157075633615239
         ],
         "yaxis": "y2"
        },
        {
         "marker": {
          "color": "goldenrod",
          "line": {
           "color": "black",
           "width": 0.5
          },
          "size": [
           12,
           30
          ]
         },
         "mode": "text+markers",
         "name": "PROMETHEUS 1.2",
         "showlegend": false,
         "text": [
          "",
          "B"
         ],
         "textfont": {
          "color": "black",
          "size": 25
         },
         "type": "scatter",
         "x": [
          0.9254568835052004,
          0.7327436201422661
         ],
         "xaxis": "x2",
         "y": [
          0.5487891483358766,
          0.5381001070083979
         ],
         "yaxis": "y2"
        },
        {
         "marker": {
          "color": "goldenrod",
          "line": {
           "color": "black",
           "width": 0.5
          },
          "size": [
           12,
           30
          ]
         },
         "mode": "text+markers",
         "name": "PROMETHEUS 1.2",
         "showlegend": false,
         "text": [
          "",
          "C"
         ],
         "textfont": {
          "color": "black",
          "size": 25
         },
         "type": "scatter",
         "x": [
          0.9254568835052004,
          0.8749283093965539
         ],
         "xaxis": "x2",
         "y": [
          0.5487891483358766,
          0.5492888951268167
         ],
         "yaxis": "y2"
        },
        {
         "marker": {
          "color": "goldenrod",
          "line": {
           "color": "black",
           "width": 0.5
          },
          "size": [
           12,
           30
          ]
         },
         "mode": "text+markers",
         "name": "PROMETHEUS 1.2",
         "showlegend": false,
         "text": [
          "",
          "N"
         ],
         "textfont": {
          "color": "black",
          "size": 25
         },
         "type": "scatter",
         "x": [
          0.9254568835052004,
          0.9006290418171905
         ],
         "xaxis": "x2",
         "y": [
          0.5487891483358766,
          0.550914044992373
         ],
         "yaxis": "y2"
        },
        {
         "marker": {
          "color": "goldenrod",
          "line": {
           "color": "black",
           "width": 0.5
          },
          "size": [
           12,
           30
          ]
         },
         "mode": "text+markers",
         "name": "PROMETHEUS 1.2",
         "showlegend": false,
         "text": [
          "",
          "V"
         ],
         "textfont": {
          "color": "black",
          "size": 25
         },
         "type": "scatter",
         "x": [
          0.9254568835052004,
          0.8270900818859721
         ],
         "xaxis": "x2",
         "y": [
          0.5487891483358766,
          0.5525788150755311
         ],
         "yaxis": "y2"
        },
        {
         "marker": {
          "color": "goldenrod",
          "line": {
           "color": "black",
           "width": 0.5
          },
          "size": [
           12,
           30
          ]
         },
         "mode": "text+markers",
         "name": "PROMETHEUS 1.2",
         "showlegend": false,
         "text": [
          "",
          "El"
         ],
         "textfont": {
          "color": "black",
          "size": 25
         },
         "type": "scatter",
         "x": [
          0.9254568835052004,
          0.9277083210894821
         ],
         "xaxis": "x2",
         "y": [
          0.5487891483358766,
          0.5732221366093696
         ],
         "yaxis": "y2"
        },
        {
         "marker": {
          "color": "goldenrod",
          "line": {
           "color": "black",
           "width": 0.5
          },
          "size": [
           12,
           30
          ]
         },
         "mode": "text+markers",
         "name": "PROMETHEUS 1.2",
         "showlegend": false,
         "text": [
          "",
          "H"
         ],
         "textfont": {
          "color": "black",
          "size": 25
         },
         "type": "scatter",
         "x": [
          0.9254568835052004,
          null
         ],
         "xaxis": "x2",
         "y": [
          0.5487891483358766,
          null
         ],
         "yaxis": "y2"
        },
        {
         "marker": {
          "color": "goldenrod",
          "line": {
           "color": "black",
           "width": 0.5
          },
          "size": [
           12,
           30
          ]
         },
         "mode": "text+markers",
         "name": "PROMETHEUS 1.2",
         "showlegend": false,
         "text": [
          "",
          "F"
         ],
         "textfont": {
          "color": "black",
          "size": 25
         },
         "type": "scatter",
         "x": [
          0.9254568835052004,
          null
         ],
         "xaxis": "x2",
         "y": [
          0.5487891483358766,
          null
         ],
         "yaxis": "y2"
        },
        {
         "marker": {
          "color": "goldenrod",
          "line": {
           "color": "black",
           "width": 0.5
          },
          "size": [
           12,
           30
          ]
         },
         "mode": "text+markers",
         "name": "PROMETHEUS 1.2",
         "showlegend": false,
         "text": [
          "",
          "Ef"
         ],
         "textfont": {
          "color": "black",
          "size": 25
         },
         "type": "scatter",
         "x": [
          0.9254568835052004,
          0.9270947828545102
         ],
         "xaxis": "x2",
         "y": [
          0.5487891483358766,
          0.5859007132867595
         ],
         "yaxis": "y2"
        },
        {
         "marker": {
          "color": "tomato",
          "line": {
           "color": "black",
           "width": 0.5
          },
          "size": [
           12,
           30
          ]
         },
         "mode": "text+markers",
         "name": "REMIND 2.1",
         "showlegend": false,
         "text": [
          "",
          "B"
         ],
         "textfont": {
          "color": "black",
          "size": 25
         },
         "type": "scatter",
         "x": [
          1.0755661412177644,
          0.9791640087558082
         ],
         "xaxis": "x2",
         "y": [
          0.481835641405711,
          0.47068206528042045
         ],
         "yaxis": "y2"
        },
        {
         "marker": {
          "color": "tomato",
          "line": {
           "color": "black",
           "width": 0.5
          },
          "size": [
           12,
           30
          ]
         },
         "mode": "text+markers",
         "name": "REMIND 2.1",
         "showlegend": false,
         "text": [
          "",
          "C"
         ],
         "textfont": {
          "color": "black",
          "size": 25
         },
         "type": "scatter",
         "x": [
          1.0755661412177644,
          1.003086691556138
         ],
         "xaxis": "x2",
         "y": [
          0.481835641405711,
          0.48594375907702886
         ],
         "yaxis": "y2"
        },
        {
         "marker": {
          "color": "tomato",
          "line": {
           "color": "black",
           "width": 0.5
          },
          "size": [
           12,
           30
          ]
         },
         "mode": "text+markers",
         "name": "REMIND 2.1",
         "showlegend": false,
         "text": [
          "",
          "N"
         ],
         "textfont": {
          "color": "black",
          "size": 25
         },
         "type": "scatter",
         "x": [
          1.0755661412177644,
          1.0761461131522643
         ],
         "xaxis": "x2",
         "y": [
          0.481835641405711,
          0.48220618799479675
         ],
         "yaxis": "y2"
        },
        {
         "marker": {
          "color": "tomato",
          "line": {
           "color": "black",
           "width": 0.5
          },
          "size": [
           12,
           30
          ]
         },
         "mode": "text+markers",
         "name": "REMIND 2.1",
         "showlegend": false,
         "text": [
          "",
          "V"
         ],
         "textfont": {
          "color": "black",
          "size": 25
         },
         "type": "scatter",
         "x": [
          1.0755661412177644,
          1.075370971384097
         ],
         "xaxis": "x2",
         "y": [
          0.481835641405711,
          0.4649269429384046
         ],
         "yaxis": "y2"
        },
        {
         "marker": {
          "color": "tomato",
          "line": {
           "color": "black",
           "width": 0.5
          },
          "size": [
           12,
           30
          ]
         },
         "mode": "text+markers",
         "name": "REMIND 2.1",
         "showlegend": false,
         "text": [
          "",
          "El"
         ],
         "textfont": {
          "color": "black",
          "size": 25
         },
         "type": "scatter",
         "x": [
          1.0755661412177644,
          1.0801373511470043
         ],
         "xaxis": "x2",
         "y": [
          0.481835641405711,
          0.4783891440256738
         ],
         "yaxis": "y2"
        },
        {
         "marker": {
          "color": "tomato",
          "line": {
           "color": "black",
           "width": 0.5
          },
          "size": [
           12,
           30
          ]
         },
         "mode": "text+markers",
         "name": "REMIND 2.1",
         "showlegend": false,
         "text": [
          "",
          "H"
         ],
         "textfont": {
          "color": "black",
          "size": 25
         },
         "type": "scatter",
         "x": [
          1.0755661412177644,
          1.081947698270236
         ],
         "xaxis": "x2",
         "y": [
          0.481835641405711,
          0.43841264475478786
         ],
         "yaxis": "y2"
        },
        {
         "marker": {
          "color": "tomato",
          "line": {
           "color": "black",
           "width": 0.5
          },
          "size": [
           12,
           30
          ]
         },
         "mode": "text+markers",
         "name": "REMIND 2.1",
         "showlegend": false,
         "text": [
          "",
          "F"
         ],
         "textfont": {
          "color": "black",
          "size": 25
         },
         "type": "scatter",
         "x": [
          1.0755661412177644,
          1.0543272555715686
         ],
         "xaxis": "x2",
         "y": [
          0.481835641405711,
          0.4423767078614513
         ],
         "yaxis": "y2"
        },
        {
         "marker": {
          "color": "tomato",
          "line": {
           "color": "black",
           "width": 0.5
          },
          "size": [
           12,
           30
          ]
         },
         "mode": "text+markers",
         "name": "REMIND 2.1",
         "showlegend": false,
         "text": [
          "",
          "Ef"
         ],
         "textfont": {
          "color": "black",
          "size": 25
         },
         "type": "scatter",
         "x": [
          1.0755661412177644,
          1.126633729248703
         ],
         "xaxis": "x2",
         "y": [
          0.481835641405711,
          0.6078195987043383
         ],
         "yaxis": "y2"
        },
        {
         "marker": {
          "color": "forestgreen",
          "line": {
           "color": "black",
           "width": 0.5
          },
          "size": [
           12,
           30
          ]
         },
         "mode": "text+markers",
         "name": "WITCH 5.0",
         "showlegend": false,
         "text": [
          "",
          "B"
         ],
         "textfont": {
          "color": "black",
          "size": 25
         },
         "type": "scatter",
         "x": [
          0.8926207672391288,
          0.8175033914177665
         ],
         "xaxis": "x2",
         "y": [
          0.6633529408995644,
          0.6667894374379013
         ],
         "yaxis": "y2"
        },
        {
         "marker": {
          "color": "forestgreen",
          "line": {
           "color": "black",
           "width": 0.5
          },
          "size": [
           12,
           30
          ]
         },
         "mode": "text+markers",
         "name": "WITCH 5.0",
         "showlegend": false,
         "text": [
          "",
          "C"
         ],
         "textfont": {
          "color": "black",
          "size": 25
         },
         "type": "scatter",
         "x": [
          0.8926207672391288,
          0.6570192486523112
         ],
         "xaxis": "x2",
         "y": [
          0.6633529408995644,
          0.6725135384833394
         ],
         "yaxis": "y2"
        },
        {
         "marker": {
          "color": "forestgreen",
          "line": {
           "color": "black",
           "width": 0.5
          },
          "size": [
           12,
           30
          ]
         },
         "mode": "text+markers",
         "name": "WITCH 5.0",
         "showlegend": false,
         "text": [
          "",
          "N"
         ],
         "textfont": {
          "color": "black",
          "size": 25
         },
         "type": "scatter",
         "x": [
          0.8926207672391288,
          0.8924755966529344
         ],
         "xaxis": "x2",
         "y": [
          0.6633529408995644,
          0.6642595280674667
         ],
         "yaxis": "y2"
        },
        {
         "marker": {
          "color": "forestgreen",
          "line": {
           "color": "black",
           "width": 0.5
          },
          "size": [
           12,
           30
          ]
         },
         "mode": "text+markers",
         "name": "WITCH 5.0",
         "showlegend": false,
         "text": [
          "",
          "V"
         ],
         "textfont": {
          "color": "black",
          "size": 25
         },
         "type": "scatter",
         "x": [
          0.8926207672391288,
          0.8925736335678204
         ],
         "xaxis": "x2",
         "y": [
          0.6633529408995644,
          0.6633414429504187
         ],
         "yaxis": "y2"
        },
        {
         "marker": {
          "color": "forestgreen",
          "line": {
           "color": "black",
           "width": 0.5
          },
          "size": [
           12,
           30
          ]
         },
         "mode": "text+markers",
         "name": "WITCH 5.0",
         "showlegend": false,
         "text": [
          "",
          "El"
         ],
         "textfont": {
          "color": "black",
          "size": 25
         },
         "type": "scatter",
         "x": [
          0.8926207672391288,
          1.0670657080007868
         ],
         "xaxis": "x2",
         "y": [
          0.6633529408995644,
          0.5995929614349129
         ],
         "yaxis": "y2"
        },
        {
         "marker": {
          "color": "forestgreen",
          "line": {
           "color": "black",
           "width": 0.5
          },
          "size": [
           12,
           30
          ]
         },
         "mode": "text+markers",
         "name": "WITCH 5.0",
         "showlegend": false,
         "text": [
          "",
          "H"
         ],
         "textfont": {
          "color": "black",
          "size": 25
         },
         "type": "scatter",
         "x": [
          0.8926207672391288,
          0.8921876969360995
         ],
         "xaxis": "x2",
         "y": [
          0.6633529408995644,
          0.6638293441810007
         ],
         "yaxis": "y2"
        },
        {
         "marker": {
          "color": "forestgreen",
          "line": {
           "color": "black",
           "width": 0.5
          },
          "size": [
           12,
           30
          ]
         },
         "mode": "text+markers",
         "name": "WITCH 5.0",
         "showlegend": false,
         "text": [
          "",
          "F"
         ],
         "textfont": {
          "color": "black",
          "size": 25
         },
         "type": "scatter",
         "x": [
          0.8926207672391288,
          null
         ],
         "xaxis": "x2",
         "y": [
          0.6633529408995644,
          null
         ],
         "yaxis": "y2"
        },
        {
         "marker": {
          "color": "forestgreen",
          "line": {
           "color": "black",
           "width": 0.5
          },
          "size": [
           12,
           30
          ]
         },
         "mode": "text+markers",
         "name": "WITCH 5.0",
         "showlegend": false,
         "text": [
          "",
          "Ef"
         ],
         "textfont": {
          "color": "black",
          "size": 25
         },
         "type": "scatter",
         "x": [
          0.8926207672391288,
          0.8803960658987633
         ],
         "xaxis": "x2",
         "y": [
          0.6633529408995644,
          0.6493316597907897
         ],
         "yaxis": "y2"
        },
        {
         "marker": {
          "color": "darkgrey",
          "line": {
           "color": "black",
           "width": 0.5
          },
          "size": [
           12,
           30
          ]
         },
         "mode": "text+markers",
         "name": "Euro-Calliope 2.0",
         "showlegend": false,
         "text": [
          "",
          "B"
         ],
         "textfont": {
          "color": "black",
          "size": 25
         },
         "type": "scatter",
         "x": [
          0.9998081183482022,
          0.9998081183482022
         ],
         "xaxis": "x2",
         "y": [
          0.44830171553090004,
          0.44830171553090004
         ],
         "yaxis": "y2"
        },
        {
         "marker": {
          "color": "darkgrey",
          "line": {
           "color": "black",
           "width": 0.5
          },
          "size": [
           12,
           30
          ]
         },
         "mode": "text+markers",
         "name": "Euro-Calliope 2.0",
         "showlegend": false,
         "text": [
          "",
          "C"
         ],
         "textfont": {
          "color": "black",
          "size": 25
         },
         "type": "scatter",
         "x": [
          0.9998081183482022,
          0.9998081183482022
         ],
         "xaxis": "x2",
         "y": [
          0.44830171553090004,
          0.44830171553090004
         ],
         "yaxis": "y2"
        },
        {
         "marker": {
          "color": "darkgrey",
          "line": {
           "color": "black",
           "width": 0.5
          },
          "size": [
           12,
           30
          ]
         },
         "mode": "text+markers",
         "name": "Euro-Calliope 2.0",
         "showlegend": false,
         "text": [
          "",
          "N"
         ],
         "textfont": {
          "color": "black",
          "size": 25
         },
         "type": "scatter",
         "x": [
          0.9998081183482022,
          0.9997649372350335
         ],
         "xaxis": "x2",
         "y": [
          0.44830171553090004,
          0.4473596585547594
         ],
         "yaxis": "y2"
        },
        {
         "marker": {
          "color": "darkgrey",
          "line": {
           "color": "black",
           "width": 0.5
          },
          "size": [
           12,
           30
          ]
         },
         "mode": "text+markers",
         "name": "Euro-Calliope 2.0",
         "showlegend": false,
         "text": [
          "",
          "V"
         ],
         "textfont": {
          "color": "black",
          "size": 25
         },
         "type": "scatter",
         "x": [
          0.9998081183482022,
          0.9998093531304234
         ],
         "xaxis": "x2",
         "y": [
          0.44830171553090004,
          0.4484265770956937
         ],
         "yaxis": "y2"
        },
        {
         "marker": {
          "color": "darkgrey",
          "line": {
           "color": "black",
           "width": 0.5
          },
          "size": [
           12,
           30
          ]
         },
         "mode": "text+markers",
         "name": "Euro-Calliope 2.0",
         "showlegend": false,
         "text": [
          "",
          "El"
         ],
         "textfont": {
          "color": "black",
          "size": 25
         },
         "type": "scatter",
         "x": [
          0.9998081183482022,
          0.9999927708916362
         ],
         "xaxis": "x2",
         "y": [
          0.44830171553090004,
          0.4510389758078511
         ],
         "yaxis": "y2"
        },
        {
         "marker": {
          "color": "darkgrey",
          "line": {
           "color": "black",
           "width": 0.5
          },
          "size": [
           12,
           30
          ]
         },
         "mode": "text+markers",
         "name": "Euro-Calliope 2.0",
         "showlegend": false,
         "text": [
          "",
          "H"
         ],
         "textfont": {
          "color": "black",
          "size": 25
         },
         "type": "scatter",
         "x": [
          0.9998081183482022,
          0.9998201309231061
         ],
         "xaxis": "x2",
         "y": [
          0.44830171553090004,
          0.44846811676950543
         ],
         "yaxis": "y2"
        },
        {
         "marker": {
          "color": "darkgrey",
          "line": {
           "color": "black",
           "width": 0.5
          },
          "size": [
           12,
           30
          ]
         },
         "mode": "text+markers",
         "name": "Euro-Calliope 2.0",
         "showlegend": false,
         "text": [
          "",
          "F"
         ],
         "textfont": {
          "color": "black",
          "size": 25
         },
         "type": "scatter",
         "x": [
          0.9998081183482022,
          0.9998067380209279
         ],
         "xaxis": "x2",
         "y": [
          0.44830171553090004,
          0.4484539683372081
         ],
         "yaxis": "y2"
        },
        {
         "marker": {
          "color": "darkgrey",
          "line": {
           "color": "black",
           "width": 0.5
          },
          "size": [
           12,
           30
          ]
         },
         "mode": "text+markers",
         "name": "Euro-Calliope 2.0",
         "showlegend": false,
         "text": [
          "",
          "Ef"
         ],
         "textfont": {
          "color": "black",
          "size": 25
         },
         "type": "scatter",
         "x": [
          0.9998081183482022,
          0.9998077401153177
         ],
         "xaxis": "x2",
         "y": [
          0.44830171553090004,
          0.4483536767545831
         ],
         "yaxis": "y2"
        },
        {
         "marker": {
          "color": "royalblue",
          "line": {
           "color": "black",
           "width": 0.5
          },
          "size": [
           12,
           30
          ]
         },
         "mode": "text+markers",
         "name": "TIAM-ECN 1.2",
         "showlegend": false,
         "text": [
          "",
          "B"
         ],
         "textfont": {
          "color": "black",
          "size": 25
         },
         "type": "scatter",
         "x": [
          0.7509573164272332,
          0.7236141034272139
         ],
         "xaxis": "x2",
         "y": [
          0.34797126551045904,
          0.35863299883679645
         ],
         "yaxis": "y2"
        },
        {
         "marker": {
          "color": "royalblue",
          "line": {
           "color": "black",
           "width": 0.5
          },
          "size": [
           12,
           30
          ]
         },
         "mode": "text+markers",
         "name": "TIAM-ECN 1.2",
         "showlegend": false,
         "text": [
          "",
          "C"
         ],
         "textfont": {
          "color": "black",
          "size": 25
         },
         "type": "scatter",
         "x": [
          0.7509573164272332,
          0.7561462855876118
         ],
         "xaxis": "x2",
         "y": [
          0.34797126551045904,
          0.3585744328514831
         ],
         "yaxis": "y2"
        },
        {
         "marker": {
          "color": "royalblue",
          "line": {
           "color": "black",
           "width": 0.5
          },
          "size": [
           12,
           30
          ]
         },
         "mode": "text+markers",
         "name": "TIAM-ECN 1.2",
         "showlegend": false,
         "text": [
          "",
          "N"
         ],
         "textfont": {
          "color": "black",
          "size": 25
         },
         "type": "scatter",
         "x": [
          0.7509573164272332,
          0.74576995686814
         ],
         "xaxis": "x2",
         "y": [
          0.34797126551045904,
          0.34773291557023056
         ],
         "yaxis": "y2"
        },
        {
         "marker": {
          "color": "royalblue",
          "line": {
           "color": "black",
           "width": 0.5
          },
          "size": [
           12,
           30
          ]
         },
         "mode": "text+markers",
         "name": "TIAM-ECN 1.2",
         "showlegend": false,
         "text": [
          "",
          "V"
         ],
         "textfont": {
          "color": "black",
          "size": 25
         },
         "type": "scatter",
         "x": [
          0.7509573164272332,
          0.7563906166990407
         ],
         "xaxis": "x2",
         "y": [
          0.34797126551045904,
          0.3541465719618659
         ],
         "yaxis": "y2"
        },
        {
         "marker": {
          "color": "royalblue",
          "line": {
           "color": "black",
           "width": 0.5
          },
          "size": [
           12,
           30
          ]
         },
         "mode": "text+markers",
         "name": "TIAM-ECN 1.2",
         "showlegend": false,
         "text": [
          "",
          "El"
         ],
         "textfont": {
          "color": "black",
          "size": 25
         },
         "type": "scatter",
         "x": [
          0.7509573164272332,
          null
         ],
         "xaxis": "x2",
         "y": [
          0.34797126551045904,
          null
         ],
         "yaxis": "y2"
        },
        {
         "marker": {
          "color": "royalblue",
          "line": {
           "color": "black",
           "width": 0.5
          },
          "size": [
           12,
           30
          ]
         },
         "mode": "text+markers",
         "name": "TIAM-ECN 1.2",
         "showlegend": false,
         "text": [
          "",
          "H"
         ],
         "textfont": {
          "color": "black",
          "size": 25
         },
         "type": "scatter",
         "x": [
          0.7509573164272332,
          null
         ],
         "xaxis": "x2",
         "y": [
          0.34797126551045904,
          null
         ],
         "yaxis": "y2"
        },
        {
         "marker": {
          "color": "royalblue",
          "line": {
           "color": "black",
           "width": 0.5
          },
          "size": [
           12,
           30
          ]
         },
         "mode": "text+markers",
         "name": "TIAM-ECN 1.2",
         "showlegend": false,
         "text": [
          "",
          "F"
         ],
         "textfont": {
          "color": "black",
          "size": 25
         },
         "type": "scatter",
         "x": [
          0.7509573164272332,
          null
         ],
         "xaxis": "x2",
         "y": [
          0.34797126551045904,
          null
         ],
         "yaxis": "y2"
        },
        {
         "marker": {
          "color": "royalblue",
          "line": {
           "color": "black",
           "width": 0.5
          },
          "size": [
           12,
           30
          ]
         },
         "mode": "text+markers",
         "name": "TIAM-ECN 1.2",
         "showlegend": false,
         "text": [
          "",
          "Ef"
         ],
         "textfont": {
          "color": "black",
          "size": 25
         },
         "type": "scatter",
         "x": [
          0.7509573164272332,
          null
         ],
         "xaxis": "x2",
         "y": [
          0.34797126551045904,
          null
         ],
         "yaxis": "y2"
        },
        {
         "marker": {
          "color": "purple",
          "line": {
           "color": "black",
           "width": 0.5
          },
          "size": [
           12,
           30
          ]
         },
         "mode": "text+markers",
         "name": "MESSAGEix-GLOBIOM 1.2",
         "showlegend": false,
         "text": [
          "",
          "B"
         ],
         "textfont": {
          "color": "black",
          "size": 25
         },
         "type": "scatter",
         "x": [
          0.8690365265723249,
          0.8560778928833259
         ],
         "xaxis": "x2",
         "y": [
          0.43846593167071685,
          0.4482075517180252
         ],
         "yaxis": "y2"
        },
        {
         "marker": {
          "color": "purple",
          "line": {
           "color": "black",
           "width": 0.5
          },
          "size": [
           12,
           30
          ]
         },
         "mode": "text+markers",
         "name": "MESSAGEix-GLOBIOM 1.2",
         "showlegend": false,
         "text": [
          "",
          "C"
         ],
         "textfont": {
          "color": "black",
          "size": 25
         },
         "type": "scatter",
         "x": [
          0.8690365265723249,
          0.8686454996666685
         ],
         "xaxis": "x2",
         "y": [
          0.43846593167071685,
          0.4427312042799178
         ],
         "yaxis": "y2"
        },
        {
         "marker": {
          "color": "purple",
          "line": {
           "color": "black",
           "width": 0.5
          },
          "size": [
           12,
           30
          ]
         },
         "mode": "text+markers",
         "name": "MESSAGEix-GLOBIOM 1.2",
         "showlegend": false,
         "text": [
          "",
          "N"
         ],
         "textfont": {
          "color": "black",
          "size": 25
         },
         "type": "scatter",
         "x": [
          0.8690365265723249,
          0.867824249817944
         ],
         "xaxis": "x2",
         "y": [
          0.43846593167071685,
          0.43886523867500776
         ],
         "yaxis": "y2"
        },
        {
         "marker": {
          "color": "purple",
          "line": {
           "color": "black",
           "width": 0.5
          },
          "size": [
           12,
           30
          ]
         },
         "mode": "text+markers",
         "name": "MESSAGEix-GLOBIOM 1.2",
         "showlegend": false,
         "text": [
          "",
          "V"
         ],
         "textfont": {
          "color": "black",
          "size": 25
         },
         "type": "scatter",
         "x": [
          0.8690365265723249,
          0.8778181636285923
         ],
         "xaxis": "x2",
         "y": [
          0.43846593167071685,
          0.43716082477767376
         ],
         "yaxis": "y2"
        },
        {
         "marker": {
          "color": "purple",
          "line": {
           "color": "black",
           "width": 0.5
          },
          "size": [
           12,
           30
          ]
         },
         "mode": "text+markers",
         "name": "MESSAGEix-GLOBIOM 1.2",
         "showlegend": false,
         "text": [
          "",
          "El"
         ],
         "textfont": {
          "color": "black",
          "size": 25
         },
         "type": "scatter",
         "x": [
          0.8690365265723249,
          0.8990354401542623
         ],
         "xaxis": "x2",
         "y": [
          0.43846593167071685,
          0.4300342196513855
         ],
         "yaxis": "y2"
        },
        {
         "marker": {
          "color": "purple",
          "line": {
           "color": "black",
           "width": 0.5
          },
          "size": [
           12,
           30
          ]
         },
         "mode": "text+markers",
         "name": "MESSAGEix-GLOBIOM 1.2",
         "showlegend": false,
         "text": [
          "",
          "H"
         ],
         "textfont": {
          "color": "black",
          "size": 25
         },
         "type": "scatter",
         "x": [
          0.8690365265723249,
          0.8635156927137072
         ],
         "xaxis": "x2",
         "y": [
          0.43846593167071685,
          0.43915314530957544
         ],
         "yaxis": "y2"
        },
        {
         "marker": {
          "color": "purple",
          "line": {
           "color": "black",
           "width": 0.5
          },
          "size": [
           12,
           30
          ]
         },
         "mode": "text+markers",
         "name": "MESSAGEix-GLOBIOM 1.2",
         "showlegend": false,
         "text": [
          "",
          "F"
         ],
         "textfont": {
          "color": "black",
          "size": 25
         },
         "type": "scatter",
         "x": [
          0.8690365265723249,
          0.910304647382077
         ],
         "xaxis": "x2",
         "y": [
          0.43846593167071685,
          0.46470491696147354
         ],
         "yaxis": "y2"
        },
        {
         "marker": {
          "color": "purple",
          "line": {
           "color": "black",
           "width": 0.5
          },
          "size": [
           12,
           30
          ]
         },
         "mode": "text+markers",
         "name": "MESSAGEix-GLOBIOM 1.2",
         "showlegend": false,
         "text": [
          "",
          "Ef"
         ],
         "textfont": {
          "color": "black",
          "size": 25
         },
         "type": "scatter",
         "x": [
          0.8690365265723249,
          null
         ],
         "xaxis": "x2",
         "y": [
          0.43846593167071685,
          null
         ],
         "yaxis": "y2"
        },
        {
         "marker": {
          "color": "palegreen",
          "line": {
           "color": "black",
           "width": 0.5
          },
          "size": [
           12,
           30
          ]
         },
         "mode": "text+markers",
         "name": "PRIMES 2022",
         "showlegend": false,
         "text": [
          "",
          "B"
         ],
         "textfont": {
          "color": "black",
          "size": 25
         },
         "type": "scatter",
         "x": [
          0.9587920310470106,
          0.9465398602721181
         ],
         "xaxis": "x2",
         "y": [
          0.5228675068190457,
          0.5235404222693133
         ],
         "yaxis": "y2"
        },
        {
         "marker": {
          "color": "palegreen",
          "line": {
           "color": "black",
           "width": 0.5
          },
          "size": [
           12,
           30
          ]
         },
         "mode": "text+markers",
         "name": "PRIMES 2022",
         "showlegend": false,
         "text": [
          "",
          "C"
         ],
         "textfont": {
          "color": "black",
          "size": 25
         },
         "type": "scatter",
         "x": [
          0.9587920310470106,
          0.9048617174659696
         ],
         "xaxis": "x2",
         "y": [
          0.5228675068190457,
          0.5248030501484843
         ],
         "yaxis": "y2"
        },
        {
         "marker": {
          "color": "palegreen",
          "line": {
           "color": "black",
           "width": 0.5
          },
          "size": [
           12,
           30
          ]
         },
         "mode": "text+markers",
         "name": "PRIMES 2022",
         "showlegend": false,
         "text": [
          "",
          "N"
         ],
         "textfont": {
          "color": "black",
          "size": 25
         },
         "type": "scatter",
         "x": [
          0.9587920310470106,
          0.955207306546454
         ],
         "xaxis": "x2",
         "y": [
          0.5228675068190457,
          0.5231016399196199
         ],
         "yaxis": "y2"
        },
        {
         "marker": {
          "color": "palegreen",
          "line": {
           "color": "black",
           "width": 0.5
          },
          "size": [
           12,
           30
          ]
         },
         "mode": "text+markers",
         "name": "PRIMES 2022",
         "showlegend": false,
         "text": [
          "",
          "V"
         ],
         "textfont": {
          "color": "black",
          "size": 25
         },
         "type": "scatter",
         "x": [
          0.9587920310470106,
          null
         ],
         "xaxis": "x2",
         "y": [
          0.5228675068190457,
          null
         ],
         "yaxis": "y2"
        },
        {
         "marker": {
          "color": "palegreen",
          "line": {
           "color": "black",
           "width": 0.5
          },
          "size": [
           12,
           30
          ]
         },
         "mode": "text+markers",
         "name": "PRIMES 2022",
         "showlegend": false,
         "text": [
          "",
          "El"
         ],
         "textfont": {
          "color": "black",
          "size": 25
         },
         "type": "scatter",
         "x": [
          0.9587920310470106,
          0.9577378009227592
         ],
         "xaxis": "x2",
         "y": [
          0.5228675068190457,
          0.530562214536138
         ],
         "yaxis": "y2"
        },
        {
         "marker": {
          "color": "palegreen",
          "line": {
           "color": "black",
           "width": 0.5
          },
          "size": [
           12,
           30
          ]
         },
         "mode": "text+markers",
         "name": "PRIMES 2022",
         "showlegend": false,
         "text": [
          "",
          "H"
         ],
         "textfont": {
          "color": "black",
          "size": 25
         },
         "type": "scatter",
         "x": [
          0.9587920310470106,
          0.959019227542848
         ],
         "xaxis": "x2",
         "y": [
          0.5228675068190457,
          0.5150370199320827
         ],
         "yaxis": "y2"
        },
        {
         "marker": {
          "color": "palegreen",
          "line": {
           "color": "black",
           "width": 0.5
          },
          "size": [
           12,
           30
          ]
         },
         "mode": "text+markers",
         "name": "PRIMES 2022",
         "showlegend": false,
         "text": [
          "",
          "F"
         ],
         "textfont": {
          "color": "black",
          "size": 25
         },
         "type": "scatter",
         "x": [
          0.9587920310470106,
          null
         ],
         "xaxis": "x2",
         "y": [
          0.5228675068190457,
          null
         ],
         "yaxis": "y2"
        },
        {
         "marker": {
          "color": "palegreen",
          "line": {
           "color": "black",
           "width": 0.5
          },
          "size": [
           12,
           30
          ]
         },
         "mode": "text+markers",
         "name": "PRIMES 2022",
         "showlegend": false,
         "text": [
          "",
          "Ef"
         ],
         "textfont": {
          "color": "black",
          "size": 25
         },
         "type": "scatter",
         "x": [
          0.9587920310470106,
          0.9582877599842329
         ],
         "xaxis": "x2",
         "y": [
          0.5228675068190457,
          0.5695977894786448
         ],
         "yaxis": "y2"
        },
        {
         "hovertemplate": "<b>DIAG-C400-lin</b> <br>ERT: %{y:.2f} <br>Carbon capture: %{x:.2f}",
         "line": {
          "width": 4
         },
         "marker": {
          "color": "lightskyblue",
          "line": {
           "color": "black",
           "width": 4
          },
          "size": 30,
          "symbol": "square"
         },
         "mode": "markers+text",
         "name": "IMAGE",
         "showlegend": false,
         "type": "scatter",
         "x": [
          -1000
         ],
         "xaxis": "x2",
         "y": [
          1000
         ],
         "yaxis": "y2"
        },
        {
         "hovertemplate": "<b>DIAG-C400-lin</b> <br>ERT: %{y:.2f} <br>Carbon capture: %{x:.2f}",
         "line": {
          "width": 4
         },
         "marker": {
          "color": "goldenrod",
          "line": {
           "color": "black",
           "width": 4
          },
          "size": 30,
          "symbol": "square"
         },
         "mode": "markers+text",
         "name": "PROMETHEUS",
         "showlegend": false,
         "type": "scatter",
         "x": [
          -1000
         ],
         "xaxis": "x2",
         "y": [
          1000
         ],
         "yaxis": "y2"
        },
        {
         "hovertemplate": "<b>DIAG-C400-lin</b> <br>ERT: %{y:.2f} <br>Carbon capture: %{x:.2f}",
         "line": {
          "width": 4
         },
         "marker": {
          "color": "tomato",
          "line": {
           "color": "black",
           "width": 4
          },
          "size": 30,
          "symbol": "square"
         },
         "mode": "markers+text",
         "name": "REMIND",
         "showlegend": false,
         "type": "scatter",
         "x": [
          -1000
         ],
         "xaxis": "x2",
         "y": [
          1000
         ],
         "yaxis": "y2"
        },
        {
         "hovertemplate": "<b>DIAG-C400-lin</b> <br>ERT: %{y:.2f} <br>Carbon capture: %{x:.2f}",
         "line": {
          "width": 4
         },
         "marker": {
          "color": "forestgreen",
          "line": {
           "color": "black",
           "width": 4
          },
          "size": 30,
          "symbol": "square"
         },
         "mode": "markers+text",
         "name": "WITCH",
         "showlegend": false,
         "type": "scatter",
         "x": [
          -1000
         ],
         "xaxis": "x2",
         "y": [
          1000
         ],
         "yaxis": "y2"
        },
        {
         "hovertemplate": "<b>DIAG-C400-lin</b> <br>ERT: %{y:.2f} <br>Carbon capture: %{x:.2f}",
         "line": {
          "width": 4
         },
         "marker": {
          "color": "darkgrey",
          "line": {
           "color": "black",
           "width": 4
          },
          "size": 30,
          "symbol": "square"
         },
         "mode": "markers+text",
         "name": "Euro-Calliope",
         "showlegend": false,
         "type": "scatter",
         "x": [
          -1000
         ],
         "xaxis": "x2",
         "y": [
          1000
         ],
         "yaxis": "y2"
        },
        {
         "hovertemplate": "<b>DIAG-C400-lin</b> <br>ERT: %{y:.2f} <br>Carbon capture: %{x:.2f}",
         "line": {
          "width": 4
         },
         "marker": {
          "color": "royalblue",
          "line": {
           "color": "black",
           "width": 4
          },
          "size": 30,
          "symbol": "square"
         },
         "mode": "markers+text",
         "name": "TIAM-ECN",
         "showlegend": false,
         "type": "scatter",
         "x": [
          -1000
         ],
         "xaxis": "x2",
         "y": [
          1000
         ],
         "yaxis": "y2"
        },
        {
         "hovertemplate": "<b>DIAG-C400-lin</b> <br>ERT: %{y:.2f} <br>Carbon capture: %{x:.2f}",
         "line": {
          "width": 4
         },
         "marker": {
          "color": "purple",
          "line": {
           "color": "black",
           "width": 4
          },
          "size": 30,
          "symbol": "square"
         },
         "mode": "markers+text",
         "name": "MESSAGE",
         "showlegend": false,
         "type": "scatter",
         "x": [
          -1000
         ],
         "xaxis": "x2",
         "y": [
          1000
         ],
         "yaxis": "y2"
        },
        {
         "hovertemplate": "<b>DIAG-C400-lin</b> <br>ERT: %{y:.2f} <br>Carbon capture: %{x:.2f}",
         "line": {
          "width": 4
         },
         "marker": {
          "color": "palegreen",
          "line": {
           "color": "black",
           "width": 4
          },
          "size": 30,
          "symbol": "square"
         },
         "mode": "markers+text",
         "name": "PRIMES",
         "showlegend": false,
         "type": "scatter",
         "x": [
          -1000
         ],
         "xaxis": "x2",
         "y": [
          1000
         ],
         "yaxis": "y2"
        },
        {
         "hovertemplate": "<b>DIAG-C400-lin</b> <br>ERT: %{y:.2f} <br>Carbon capture: %{x:.2f}",
         "line": {
          "width": 4
         },
         "marker": {
          "color": "black",
          "line": {
           "color": "black",
           "width": 4
          },
          "size": 12,
          "symbol": "circle"
         },
         "mode": "markers",
         "name": "IMAGE",
         "showlegend": false,
         "text": "<b>-</b>",
         "type": "scatter",
         "x": [
          1.0047825683292755
         ],
         "xaxis": "x2",
         "y": [
          0.5079295914438556
         ],
         "yaxis": "y2"
        },
        {
         "hovertemplate": "<b>DIAG-C400-lin</b> <br>ERT: %{y:.2f} <br>Carbon capture: %{x:.2f}",
         "line": {
          "width": 4
         },
         "marker": {
          "color": "black",
          "line": {
           "color": "black",
           "width": 4
          },
          "size": 12,
          "symbol": "circle"
         },
         "mode": "markers",
         "name": "PROMETHEUS",
         "showlegend": false,
         "text": "<b>-</b>",
         "type": "scatter",
         "x": [
          0.9254568835052004
         ],
         "xaxis": "x2",
         "y": [
          0.5487891483358766
         ],
         "yaxis": "y2"
        },
        {
         "hovertemplate": "<b>DIAG-C400-lin</b> <br>ERT: %{y:.2f} <br>Carbon capture: %{x:.2f}",
         "line": {
          "width": 4
         },
         "marker": {
          "color": "black",
          "line": {
           "color": "black",
           "width": 4
          },
          "size": 12,
          "symbol": "circle"
         },
         "mode": "markers",
         "name": "REMIND",
         "showlegend": false,
         "text": "<b>-</b>",
         "type": "scatter",
         "x": [
          1.0755661412177644
         ],
         "xaxis": "x2",
         "y": [
          0.481835641405711
         ],
         "yaxis": "y2"
        },
        {
         "hovertemplate": "<b>DIAG-C400-lin</b> <br>ERT: %{y:.2f} <br>Carbon capture: %{x:.2f}",
         "line": {
          "width": 4
         },
         "marker": {
          "color": "black",
          "line": {
           "color": "black",
           "width": 4
          },
          "size": 12,
          "symbol": "circle"
         },
         "mode": "markers",
         "name": "WITCH",
         "showlegend": false,
         "text": "<b>-</b>",
         "type": "scatter",
         "x": [
          0.8926207672391288
         ],
         "xaxis": "x2",
         "y": [
          0.6633529408995644
         ],
         "yaxis": "y2"
        },
        {
         "hovertemplate": "<b>DIAG-C400-lin</b> <br>ERT: %{y:.2f} <br>Carbon capture: %{x:.2f}",
         "line": {
          "width": 4
         },
         "marker": {
          "color": "black",
          "line": {
           "color": "black",
           "width": 4
          },
          "size": 12,
          "symbol": "circle"
         },
         "mode": "markers",
         "name": "Euro-Calliope",
         "showlegend": false,
         "text": "<b>-</b>",
         "type": "scatter",
         "x": [
          0.9998081183482022
         ],
         "xaxis": "x2",
         "y": [
          0.44830171553090004
         ],
         "yaxis": "y2"
        },
        {
         "hovertemplate": "<b>DIAG-C400-lin</b> <br>ERT: %{y:.2f} <br>Carbon capture: %{x:.2f}",
         "line": {
          "width": 4
         },
         "marker": {
          "color": "black",
          "line": {
           "color": "black",
           "width": 4
          },
          "size": 12,
          "symbol": "circle"
         },
         "mode": "markers",
         "name": "TIAM-ECN",
         "showlegend": false,
         "text": "<b>-</b>",
         "type": "scatter",
         "x": [
          0.7509573164272332
         ],
         "xaxis": "x2",
         "y": [
          0.34797126551045904
         ],
         "yaxis": "y2"
        },
        {
         "hovertemplate": "<b>DIAG-C400-lin</b> <br>ERT: %{y:.2f} <br>Carbon capture: %{x:.2f}",
         "line": {
          "width": 4
         },
         "marker": {
          "color": "black",
          "line": {
           "color": "black",
           "width": 4
          },
          "size": 12,
          "symbol": "circle"
         },
         "mode": "markers",
         "name": "MESSAGE",
         "showlegend": false,
         "text": "<b>-</b>",
         "type": "scatter",
         "x": [
          0.8690365265723249
         ],
         "xaxis": "x2",
         "y": [
          0.43846593167071685
         ],
         "yaxis": "y2"
        },
        {
         "hovertemplate": "<b>DIAG-C400-lin</b> <br>ERT: %{y:.2f} <br>Carbon capture: %{x:.2f}",
         "line": {
          "width": 4
         },
         "marker": {
          "color": "black",
          "line": {
           "color": "black",
           "width": 4
          },
          "size": 12,
          "symbol": "circle"
         },
         "mode": "markers",
         "name": "PRIMES",
         "showlegend": false,
         "text": "<b>-</b>",
         "type": "scatter",
         "x": [
          0.9587920310470106
         ],
         "xaxis": "x2",
         "y": [
          0.5228675068190457
         ],
         "yaxis": "y2"
        },
        {
         "marker": {
          "color": "white",
          "line": {
           "color": "black",
           "width": 0.5
          },
          "size": 25
         },
         "mode": "text+markers",
         "name": "PRIMES 2022",
         "showlegend": false,
         "text": [
          "B"
         ],
         "textfont": {
          "color": "black",
          "size": 15
         },
         "type": "scatter",
         "x": [
          260
         ],
         "xaxis": "x",
         "y": [
          1.25
         ],
         "yaxis": "y"
        },
        {
         "marker": {
          "color": "white",
          "line": {
           "color": "black",
           "width": 0.5
          },
          "size": 25
         },
         "mode": "text+markers",
         "name": "PRIMES 2022",
         "showlegend": false,
         "text": [
          "C"
         ],
         "textfont": {
          "color": "black",
          "size": 15
         },
         "type": "scatter",
         "x": [
          260
         ],
         "xaxis": "x",
         "y": [
          1.22
         ],
         "yaxis": "y"
        },
        {
         "marker": {
          "color": "white",
          "line": {
           "color": "black",
           "width": 0.5
          },
          "size": 25
         },
         "mode": "text+markers",
         "name": "PRIMES 2022",
         "showlegend": false,
         "text": [
          "N"
         ],
         "textfont": {
          "color": "black",
          "size": 15
         },
         "type": "scatter",
         "x": [
          260
         ],
         "xaxis": "x",
         "y": [
          1.19
         ],
         "yaxis": "y"
        },
        {
         "marker": {
          "color": "white",
          "line": {
           "color": "black",
           "width": 0.5
          },
          "size": 25
         },
         "mode": "text+markers",
         "name": "PRIMES 2022",
         "showlegend": false,
         "text": [
          "V"
         ],
         "textfont": {
          "color": "black",
          "size": 15
         },
         "type": "scatter",
         "x": [
          260
         ],
         "xaxis": "x",
         "y": [
          1.16
         ],
         "yaxis": "y"
        },
        {
         "marker": {
          "color": "white",
          "line": {
           "color": "black",
           "width": 0.5
          },
          "size": 25
         },
         "mode": "text+markers",
         "name": "PRIMES 2022",
         "showlegend": false,
         "text": [
          "El"
         ],
         "textfont": {
          "color": "black",
          "size": 15
         },
         "type": "scatter",
         "x": [
          260
         ],
         "xaxis": "x",
         "y": [
          1.13
         ],
         "yaxis": "y"
        },
        {
         "marker": {
          "color": "white",
          "line": {
           "color": "black",
           "width": 0.5
          },
          "size": 25
         },
         "mode": "text+markers",
         "name": "PRIMES 2022",
         "showlegend": false,
         "text": [
          "H"
         ],
         "textfont": {
          "color": "black",
          "size": 15
         },
         "type": "scatter",
         "x": [
          260
         ],
         "xaxis": "x",
         "y": [
          1.1
         ],
         "yaxis": "y"
        },
        {
         "marker": {
          "color": "white",
          "line": {
           "color": "black",
           "width": 0.5
          },
          "size": 25
         },
         "mode": "text+markers",
         "name": "PRIMES 2022",
         "showlegend": false,
         "text": [
          "F"
         ],
         "textfont": {
          "color": "black",
          "size": 15
         },
         "type": "scatter",
         "x": [
          260
         ],
         "xaxis": "x",
         "y": [
          1.07
         ],
         "yaxis": "y"
        },
        {
         "marker": {
          "color": "white",
          "line": {
           "color": "black",
           "width": 0.5
          },
          "size": 25
         },
         "mode": "text+markers",
         "name": "PRIMES 2022",
         "showlegend": false,
         "text": [
          "Ef"
         ],
         "textfont": {
          "color": "black",
          "size": 15
         },
         "type": "scatter",
         "x": [
          260
         ],
         "xaxis": "x",
         "y": [
          1.04
         ],
         "yaxis": "y"
        },
        {
         "marker": {
          "color": "white",
          "line": {
           "color": "black",
           "width": 0.5
          },
          "size": 25
         },
         "mode": "text+markers",
         "name": "PRIMES 2022",
         "showlegend": false,
         "text": [
          "-"
         ],
         "textfont": {
          "color": "black",
          "size": 15
         },
         "type": "scatter",
         "x": [
          260
         ],
         "xaxis": "x",
         "y": [
          1.01
         ],
         "yaxis": "y"
        },
        {
         "line": {
          "color": "lightskyblue",
          "width": 4
         },
         "mode": "lines",
         "name": "IMAGE",
         "showlegend": false,
         "type": "scatter",
         "x": [
          1995,
          1996,
          1997,
          1998,
          1999,
          2000,
          2001,
          2002,
          2003,
          2004,
          2005,
          2006,
          2007,
          2008,
          2009,
          2010,
          2011,
          2012,
          2013,
          2014,
          2015,
          2016,
          2017,
          2018,
          2019,
          2020,
          2021,
          2022,
          2023,
          2024,
          2025,
          2026,
          2027,
          2028,
          2029,
          2030,
          2031,
          2032,
          2033,
          2034,
          2035,
          2036,
          2037,
          2038,
          2039,
          2040,
          2041,
          2042,
          2043,
          2044,
          2045,
          2046,
          2047,
          2048,
          2049,
          2050,
          2051,
          2052,
          2053,
          2054,
          2055,
          2056,
          2057,
          2058,
          2059,
          2060,
          2061,
          2062,
          2063,
          2064,
          2065,
          2066,
          2067,
          2068,
          2069,
          2070,
          2071,
          2072,
          2073,
          2074,
          2075,
          2076,
          2077,
          2078,
          2079,
          2080,
          2081,
          2082,
          2083,
          2084,
          2085,
          2086,
          2087,
          2088,
          2089,
          2090,
          2091,
          2092,
          2093,
          2094,
          2095,
          2096,
          2097,
          2098,
          2099,
          2100
         ],
         "xaxis": "x3",
         "y": [
          null,
          null,
          null,
          null,
          null,
          null,
          null,
          null,
          null,
          null,
          null,
          null,
          null,
          null,
          null,
          null,
          null,
          null,
          null,
          null,
          null,
          null,
          null,
          null,
          null,
          2.8309043330597695e-9,
          1.0094514157852693e-7,
          3.861128332569774e-7,
          8.974089938241063e-7,
          0.0000016833424226906556,
          0.000002804199234209169,
          0.00000337599250640851,
          0.000004908560318961558,
          0.00000751583871782007,
          0.000011330844858709077,
          0.000016512047239900048,
          0.000023759210313181486,
          0.00003455419877655247,
          0.000049275026014473085,
          0.00006834436439803476,
          0.00009223576090432485,
          0.00011373023095141286,
          0.00014221226937845906,
          0.00017801961591787355,
          0.00022151951878505467,
          0.0002731112967790216,
          0.0003528187601558133,
          0.0004536706663733768,
          0.0005754478605743717,
          0.0007179511467727271,
          0.0008810010791563625,
          0.0010118334680070584,
          0.0011632583119710381,
          0.0013353125356441072,
          0.0015280601682883133,
          0.0017415922616678314,
          0.001876678384780806,
          0.0020219483166427975,
          0.002177162637380104,
          0.0023420918154678874,
          0.002516515702379218,
          0.0026600790420689504,
          0.002810738352443303,
          0.002968271019058246,
          0.0031324650733091423,
          0.0033031185735553606,
          0.0033919569343916034,
          0.0034840721214569096,
          0.003579277045548141,
          0.0036774035637648786,
          0.003778300341703682,
          0.0038848957343489417,
          0.003996761022017243,
          0.004113802853075726,
          0.00423593855110607,
          0.004363095416030939,
          0.004425566862276731,
          0.004495109917883815,
          0.004571911145093107,
          0.0046561952174679205,
          0.0047482249689293,
          0.004767733506245619,
          0.004797791639875091,
          0.004838816592961763,
          0.00489126111287723,
          0.004955616413968995,
          0.004945016285207089,
          0.004939194127323471,
          0.004938261837993989,
          0.004942338673077429,
          0.004951551679799203,
          0.005005000239325992,
          0.005063187591047061,
          0.00512602243690978,
          0.005193437591242432,
          0.005265388291659873,
          0.0052119083044084875,
          0.005167455863163081,
          0.005132850406271324,
          0.005109004489267585,
          0.005096936041916311,
          0.0048960013745773055,
          0.004723465439089377,
          0.00457754099451754,
          0.004456724853152335,
          0.004359763053192765
         ],
         "yaxis": "y3"
        },
        {
         "line": {
          "color": "goldenrod",
          "width": 4
         },
         "mode": "lines",
         "name": "PROMETHEUS",
         "showlegend": false,
         "type": "scatter",
         "x": [
          1995,
          1996,
          1997,
          1998,
          1999,
          2000,
          2001,
          2002,
          2003,
          2004,
          2005,
          2006,
          2007,
          2008,
          2009,
          2010,
          2011,
          2012,
          2013,
          2014,
          2015,
          2016,
          2017,
          2018,
          2019,
          2020,
          2021,
          2022,
          2023,
          2024,
          2025,
          2026,
          2027,
          2028,
          2029,
          2030,
          2031,
          2032,
          2033,
          2034,
          2035,
          2036,
          2037,
          2038,
          2039,
          2040,
          2041,
          2042,
          2043,
          2044,
          2045,
          2046,
          2047,
          2048,
          2049,
          2050,
          2051,
          2052,
          2053,
          2054,
          2055,
          2056,
          2057,
          2058,
          2059,
          2060,
          2061,
          2062,
          2063,
          2064,
          2065,
          2066,
          2067,
          2068,
          2069,
          2070,
          2071,
          2072,
          2073,
          2074,
          2075,
          2076,
          2077,
          2078,
          2079,
          2080,
          2081,
          2082,
          2083,
          2084,
          2085,
          2086,
          2087,
          2088,
          2089,
          2090,
          2091,
          2092,
          2093,
          2094,
          2095,
          2096,
          2097,
          2098,
          2099,
          2100
         ],
         "xaxis": "x3",
         "y": [
          null,
          null,
          null,
          null,
          null,
          null,
          null,
          null,
          null,
          null,
          null,
          null,
          null,
          null,
          null,
          null,
          null,
          null,
          null,
          null,
          null,
          null,
          null,
          null,
          null,
          9.230672431694629e-10,
          0.0000011548340555719888,
          0.000004671128106630507,
          0.000010682805437512842,
          0.00001934482692087782,
          0.00003083810696314094,
          0.00003681233199982656,
          0.000044602717158880395,
          0.000054506910338364033,
          0.00006687707367190299,
          0.00008213167097980864,
          0.00008839581948045605,
          0.00009709923206507862,
          0.00010867820503982734,
          0.00012366298772934986,
          0.0001427024153896302,
          0.00015650815319603412,
          0.00017712138890587474,
          0.00020502157750415024,
          0.0002407256870437583,
          0.0002847918099406155,
          0.00031301436031389853,
          0.00034704459053339694,
          0.0003869311463460849,
          0.00043272651062977667,
          0.00048448725307659844,
          0.0005651549366448146,
          0.0006579200018603704,
          0.000763032350708578,
          0.0008807791213969165,
          0.0010114911325470287,
          null,
          null,
          null,
          null,
          null,
          null,
          null,
          null,
          null,
          null,
          null,
          null,
          null,
          null,
          null,
          null,
          null,
          null,
          null,
          null,
          null,
          null,
          null,
          null,
          null,
          null,
          null,
          null,
          null,
          null,
          null,
          null,
          null,
          null,
          null,
          null,
          null,
          null,
          null,
          null,
          null,
          null,
          null,
          null,
          null,
          null,
          null,
          null,
          null,
          null
         ],
         "yaxis": "y3"
        },
        {
         "line": {
          "color": "tomato",
          "width": 4
         },
         "mode": "lines",
         "name": "REMIND",
         "showlegend": false,
         "type": "scatter",
         "x": [
          1995,
          1996,
          1997,
          1998,
          1999,
          2000,
          2001,
          2002,
          2003,
          2004,
          2005,
          2006,
          2007,
          2008,
          2009,
          2010,
          2011,
          2012,
          2013,
          2014,
          2015,
          2016,
          2017,
          2018,
          2019,
          2020,
          2021,
          2022,
          2023,
          2024,
          2025,
          2026,
          2027,
          2028,
          2029,
          2030,
          2031,
          2032,
          2033,
          2034,
          2035,
          2036,
          2037,
          2038,
          2039,
          2040,
          2041,
          2042,
          2043,
          2044,
          2045,
          2046,
          2047,
          2048,
          2049,
          2050,
          2051,
          2052,
          2053,
          2054,
          2055,
          2056,
          2057,
          2058,
          2059,
          2060,
          2061,
          2062,
          2063,
          2064,
          2065,
          2066,
          2067,
          2068,
          2069,
          2070,
          2071,
          2072,
          2073,
          2074,
          2075,
          2076,
          2077,
          2078,
          2079,
          2080,
          2081,
          2082,
          2083,
          2084,
          2085,
          2086,
          2087,
          2088,
          2089,
          2090,
          2091,
          2092,
          2093,
          2094,
          2095,
          2096,
          2097,
          2098,
          2099,
          2100
         ],
         "xaxis": "x3",
         "y": [
          null,
          null,
          null,
          null,
          null,
          null,
          null,
          null,
          null,
          null,
          null,
          null,
          null,
          null,
          null,
          null,
          null,
          null,
          null,
          null,
          null,
          null,
          null,
          null,
          null,
          2.878811924312473e-8,
          0.0000012172176000452094,
          0.000004734354689779352,
          0.000011026627916857611,
          0.00002063038807691237,
          0.000034191763659655096,
          0.00006333325740773853,
          0.00010434258927324179,
          0.00015819700451813923,
          0.00022596112518724645,
          0.0003087970436768818,
          0.0003549167844661562,
          0.00040969136061458865,
          0.0004722573505601229,
          0.0005417350591412004,
          0.0006172460902665027,
          0.0005975973063382856,
          0.000577783180617089,
          0.0005581684958151958,
          0.0005393353305052695,
          0.0005221324613185541,
          0.00048170538461905527,
          0.0004493006181360638,
          0.0004250398083669409,
          0.0004090811863223652,
          0.00040162208121368337,
          0.0004071155171593588,
          0.0004168698522059494,
          0.0004308419907356535,
          0.00044899688781078714,
          0.0004713079450110821,
          0.0004921860288904509,
          0.0005148719261568194,
          0.0005393308882862008,
          0.0005655305803766153,
          0.000593441055861189,
          0.0006173475662751976,
          0.0006427583241545777,
          0.0006696739070998038,
          0.0006980962550599962,
          0.0007280286738059968,
          0.0007405234960436632,
          0.0007537607072879428,
          0.000767727118811794,
          0.0007824100874603237,
          0.0007977974924141879,
          0.0008138777131095307,
          0.0008306396082496034,
          0.0008480724958472651,
          0.0008661661342413038,
          0.0008849107040330534,
          0.0008978976954013599,
          0.0009113551428391297,
          0.0009252647348400807,
          0.0009396088192493991,
          0.0009543703770756478,
          0.0009695329974743469,
          0.000985080853844409,
          0.001000998680981932,
          0.001017271753238899,
          0.0010338858636372403,
          0.0010517742538238323,
          0.001070065683712332,
          0.0010887544813881205,
          0.0011078350631973724,
          0.0011273019321443197,
          0.001147149676321745,
          0.001167372967373936,
          0.0011879665589913434,
          0.0012089252854362161,
          0.0012302440600984882,
          0.001235610268241256,
          0.0012410920001490844,
          0.0012466847864763965,
          0.0012523843104793573,
          0.0012581864023657305,
          0.001264087033876932,
          0.001270082313091725,
          0.00127616847944151,
          0.0012823418989276849,
          0.0012885990595320111
         ],
         "yaxis": "y3"
        },
        {
         "line": {
          "color": "forestgreen",
          "width": 4
         },
         "mode": "lines",
         "name": "WITCH",
         "showlegend": false,
         "type": "scatter",
         "x": [
          1995,
          1996,
          1997,
          1998,
          1999,
          2000,
          2001,
          2002,
          2003,
          2004,
          2005,
          2006,
          2007,
          2008,
          2009,
          2010,
          2011,
          2012,
          2013,
          2014,
          2015,
          2016,
          2017,
          2018,
          2019,
          2020,
          2021,
          2022,
          2023,
          2024,
          2025,
          2026,
          2027,
          2028,
          2029,
          2030,
          2031,
          2032,
          2033,
          2034,
          2035,
          2036,
          2037,
          2038,
          2039,
          2040,
          2041,
          2042,
          2043,
          2044,
          2045,
          2046,
          2047,
          2048,
          2049,
          2050,
          2051,
          2052,
          2053,
          2054,
          2055,
          2056,
          2057,
          2058,
          2059,
          2060,
          2061,
          2062,
          2063,
          2064,
          2065,
          2066,
          2067,
          2068,
          2069,
          2070,
          2071,
          2072,
          2073,
          2074,
          2075,
          2076,
          2077,
          2078,
          2079,
          2080,
          2081,
          2082,
          2083,
          2084,
          2085,
          2086,
          2087,
          2088,
          2089,
          2090,
          2091,
          2092,
          2093,
          2094,
          2095,
          2096,
          2097,
          2098,
          2099,
          2100
         ],
         "xaxis": "x3",
         "y": [
          null,
          null,
          null,
          null,
          null,
          null,
          null,
          null,
          null,
          null,
          null,
          null,
          null,
          null,
          null,
          null,
          null,
          null,
          null,
          null,
          null,
          null,
          null,
          null,
          null,
          5.644522359331341e-34,
          4.2401890765867253e-7,
          0.0000018562132958881818,
          0.0000045953643075400744,
          0.000009043563369369042,
          0.000015750668147520912,
          0.000024212494633578936,
          0.00003711265296716002,
          0.00005440774632499386,
          0.00007605466161914647,
          0.00010201059050054216,
          0.0001199423749770141,
          0.00014019461171740138,
          0.000162454689945475,
          0.0001864485656408666,
          0.00021193585274214776,
          0.00023435162939467754,
          0.0002608450420319334,
          0.0002913261461839392,
          0.00032571477812165354,
          0.00036394039388609175,
          0.0003921233379408758,
          0.00042309004971070565,
          0.0004567491056287469,
          0.0004930184437522013,
          0.0005318249870817638,
          0.0005483717773059039,
          0.0005653008926862134,
          0.0005826074187590275,
          0.0006002869048018446,
          0.0006183353640078482,
          0.000633289640043779,
          0.0006484832527290921,
          0.0006639153608873115,
          0.0006795853218494473,
          0.0006954926822594447,
          0.000750144787165198,
          0.0008092379394890825,
          0.0008724193785546375,
          0.0009393640171557662,
          0.0010097721265634912,
          0.0010298468325504442,
          0.0010500876271253294,
          0.0010704900016200018,
          0.0010910496881841789,
          0.0011117626457108189,
          0.001121736466313478,
          0.0011318369108612818,
          0.001142060448942391,
          0.0011524036736827764,
          0.0011628632949479054,
          0.001160547048487628,
          0.001158418973439317,
          0.0011564705278396309,
          0.0011546935963965802,
          0.0011530804656005296,
          0.0011450740997857023,
          0.001137397600635754,
          0.0011300356812240266,
          0.0011229739214797941,
          0.001116198708759786,
          0.0011020062845847258,
          0.0010883268316641596,
          0.0010751358475566302,
          0.0010624103555740608,
          0.0010501287859672017,
          0.0010341532280859574,
          0.0010188015091963105,
          0.00100404190664101,
          0.000989844836427605,
          0.0009761826686976218,
          0.0009614902308714007,
          0.0009474349549061405,
          0.0009339880089460212,
          0.0009211224430570218,
          0.000908813013708558,
          0.0008860037008733436,
          0.0008647301487317473,
          0.0008448727787431721,
          0.000826323207368995,
          0.0008089830085727261
         ],
         "yaxis": "y3"
        },
        {
         "line": {
          "color": "darkgrey",
          "width": 4
         },
         "mode": "lines",
         "name": "Euro-Calliope",
         "showlegend": false,
         "type": "scatter",
         "x": [
          1995,
          1996,
          1997,
          1998,
          1999,
          2000,
          2001,
          2002,
          2003,
          2004,
          2005,
          2006,
          2007,
          2008,
          2009,
          2010,
          2011,
          2012,
          2013,
          2014,
          2015,
          2016,
          2017,
          2018,
          2019,
          2020,
          2021,
          2022,
          2023,
          2024,
          2025,
          2026,
          2027,
          2028,
          2029,
          2030,
          2031,
          2032,
          2033,
          2034,
          2035,
          2036,
          2037,
          2038,
          2039,
          2040,
          2041,
          2042,
          2043,
          2044,
          2045,
          2046,
          2047,
          2048,
          2049,
          2050,
          2051,
          2052,
          2053,
          2054,
          2055,
          2056,
          2057,
          2058,
          2059,
          2060,
          2061,
          2062,
          2063,
          2064,
          2065,
          2066,
          2067,
          2068,
          2069,
          2070,
          2071,
          2072,
          2073,
          2074,
          2075,
          2076,
          2077,
          2078,
          2079,
          2080,
          2081,
          2082,
          2083,
          2084,
          2085,
          2086,
          2087,
          2088,
          2089,
          2090,
          2091,
          2092,
          2093,
          2094,
          2095,
          2096,
          2097,
          2098,
          2099,
          2100
         ],
         "xaxis": "x3",
         "y": [
          null,
          null,
          null,
          null,
          null,
          null,
          null,
          null,
          null,
          null,
          null,
          null,
          null,
          null,
          null,
          null,
          null,
          null,
          null,
          null,
          null,
          null,
          null,
          null,
          null,
          3.4499079918990104e-35,
          0.00000771864507781738,
          0.00003102453069821809,
          0.00007025563960522253,
          0.00012599875960478415,
          0.00019926835602914497,
          0.00029178382736813906,
          0.00040639913467631496,
          0.0005477711308664305,
          0.0007234071252825464,
          0.0009453252485807154,
          0.0010021762047906426,
          0.0010864447635443991,
          0.0011933888435813923,
          0.0013194388547017328,
          0.001461988834840932,
          0.0016192377750224624,
          0.0017900702797718116,
          0.001973968486527139,
          0.002170949242339923,
          0.0023815221075556975,
          0.002606664965405918,
          0.0028478149656889413,
          0.003106873295097301,
          0.0033862229026688133,
          0.003688758859858666,
          0.004017931535788324,
          0.0043778032488046,
          0.004773119542069549,
          0.005209396749069286,
          0.005693028091211911,
          null,
          null,
          null,
          null,
          null,
          null,
          null,
          null,
          null,
          null,
          null,
          null,
          null,
          null,
          null,
          null,
          null,
          null,
          null,
          null,
          null,
          null,
          null,
          null,
          null,
          null,
          null,
          null,
          null,
          null,
          null,
          null,
          null,
          null,
          null,
          null,
          null,
          null,
          null,
          null,
          null,
          null,
          null,
          null,
          null,
          null,
          null,
          null,
          null,
          null
         ],
         "yaxis": "y3"
        },
        {
         "line": {
          "color": "royalblue",
          "width": 4
         },
         "mode": "lines",
         "name": "TIAM-ECN",
         "showlegend": false,
         "type": "scatter",
         "x": [
          1995,
          1996,
          1997,
          1998,
          1999,
          2000,
          2001,
          2002,
          2003,
          2004,
          2005,
          2006,
          2007,
          2008,
          2009,
          2010,
          2011,
          2012,
          2013,
          2014,
          2015,
          2016,
          2017,
          2018,
          2019,
          2020,
          2021,
          2022,
          2023,
          2024,
          2025,
          2026,
          2027,
          2028,
          2029,
          2030,
          2031,
          2032,
          2033,
          2034,
          2035,
          2036,
          2037,
          2038,
          2039,
          2040,
          2041,
          2042,
          2043,
          2044,
          2045,
          2046,
          2047,
          2048,
          2049,
          2050,
          2051,
          2052,
          2053,
          2054,
          2055,
          2056,
          2057,
          2058,
          2059,
          2060,
          2061,
          2062,
          2063,
          2064,
          2065,
          2066,
          2067,
          2068,
          2069,
          2070,
          2071,
          2072,
          2073,
          2074,
          2075,
          2076,
          2077,
          2078,
          2079,
          2080,
          2081,
          2082,
          2083,
          2084,
          2085,
          2086,
          2087,
          2088,
          2089,
          2090,
          2091,
          2092,
          2093,
          2094,
          2095,
          2096,
          2097,
          2098,
          2099,
          2100
         ],
         "xaxis": "x3",
         "y": [
          null,
          null,
          null,
          null,
          null,
          null,
          null,
          null,
          null,
          null,
          null,
          null,
          null,
          null,
          null,
          null,
          null,
          null,
          null,
          null,
          null,
          null,
          null,
          null,
          null,
          0.000001110894258018206,
          0.0000024528487149118877,
          0.000008306819387270687,
          0.000018775981744546056,
          0.0000339664805397289,
          0.000053987462954006114,
          0.000034506833702425236,
          0.00002042606465905656,
          0.000011511779514363845,
          0.000007541864560986284,
          0.000008304805662084793,
          0.0000490759335245616,
          0.00015664096263648546,
          0.0003498464490298272,
          0.0006548077423672796,
          0.0011080325510275412,
          0.0009226559758663104,
          0.0007847273149882093,
          0.0007109440226882667,
          0.0007227766704285895,
          0.0008479677934940352,
          0.0006205352060071582,
          0.0004284294012889815,
          0.000276572001560994,
          0.00017110059619849776,
          0.00011960950994839853,
          0.00014789797749343003,
          0.00018220347127868427,
          0.00022241516554941123,
          0.00026843433343167605,
          0.00032017392905951973,
          0.00032418991706322084,
          0.0003308229399027694,
          0.0003403912557762807,
          0.000353255286361271,
          0.00036982434463073605,
          0.00039056467443153534,
          0.0004160091121058323,
          0.00044676876808216157,
          0.00048354724303868577,
          0.0005271580500317268,
          0.000533980280970909,
          0.0005430660474485058,
          0.000554599872818906,
          0.0005687842017055545,
          0.00058584155023194,
          0.000606016967223119,
          0.0006295808593379359,
          0.000656832243526546,
          0.0006881025029878733,
          0.0007237597385220605,
          0.0007461932757892308,
          0.0007715107031816849,
          0.0007997807028223385,
          0.0008310737803520779,
          0.0008654623221301833,
          0.0009030206545258031,
          0.0009438251053878995,
          0.0009879540677851988,
          0.0010354880661119956,
          0.0010865098246602473,
          0.0011177735406128955,
          0.0011501701778463059,
          0.0011836954803078267,
          0.0012183452798690349,
          0.0012541154947947751,
          0.0012910021282442048,
          0.0013290012668030562,
          0.00136810907904641,
          0.0014083218141312244,
          0.0014496358004179313,
          0.0014796884363386302,
          0.001510971531460318,
          0.0015434803683520312,
          0.0015772103950111185,
          0.0016121572221548337,
          0.0016483166205704949,
          0.001685684518522872,
          0.001724256999217483,
          0.001764030298318526,
          0.0018050008015201952
         ],
         "yaxis": "y3"
        },
        {
         "line": {
          "color": "purple",
          "width": 4
         },
         "mode": "lines",
         "name": "MESSAGE",
         "showlegend": false,
         "type": "scatter",
         "x": [
          1995,
          1996,
          1997,
          1998,
          1999,
          2000,
          2001,
          2002,
          2003,
          2004,
          2005,
          2006,
          2007,
          2008,
          2009,
          2010,
          2011,
          2012,
          2013,
          2014,
          2015,
          2016,
          2017,
          2018,
          2019,
          2020,
          2021,
          2022,
          2023,
          2024,
          2025,
          2026,
          2027,
          2028,
          2029,
          2030,
          2031,
          2032,
          2033,
          2034,
          2035,
          2036,
          2037,
          2038,
          2039,
          2040,
          2041,
          2042,
          2043,
          2044,
          2045,
          2046,
          2047,
          2048,
          2049,
          2050,
          2051,
          2052,
          2053,
          2054,
          2055,
          2056,
          2057,
          2058,
          2059,
          2060,
          2061,
          2062,
          2063,
          2064,
          2065,
          2066,
          2067,
          2068,
          2069,
          2070,
          2071,
          2072,
          2073,
          2074,
          2075,
          2076,
          2077,
          2078,
          2079,
          2080,
          2081,
          2082,
          2083,
          2084,
          2085,
          2086,
          2087,
          2088,
          2089,
          2090,
          2091,
          2092,
          2093,
          2094,
          2095,
          2096,
          2097,
          2098,
          2099,
          2100
         ],
         "xaxis": "x3",
         "y": [
          null,
          null,
          null,
          null,
          null,
          null,
          null,
          null,
          null,
          null,
          null,
          null,
          null,
          null,
          null,
          null,
          null,
          null,
          null,
          null,
          null,
          null,
          null,
          null,
          null,
          8.873034386641193e-34,
          0.0000031761983907975316,
          0.000013417421954045711,
          0.00003194701426244569,
          0.000060232566211352295,
          0.00010004494020351882,
          0.0001184886483558338,
          0.00014272586478521768,
          0.0001733565065460166,
          0.0002110472835845649,
          0.00025654040405667406,
          0.0002489642765145105,
          0.0002439652327462641,
          0.0002417084906565793,
          0.00024237128077753934,
          0.0002461440677146679,
          0.0002464164205188429,
          0.00024910465971064,
          0.0002543015269785546,
          0.00026210839895678194,
          0.000272636264375021,
          0.0003456449043865603,
          0.00043484107989678856,
          0.0005396394348377874,
          0.0006594783485473461,
          0.0007938186644768207,
          0.0008823513195271253,
          0.0009812173981185305,
          0.0010899078072864493,
          0.001207948323458176,
          0.0013348965702257003,
          0.001379103158890663,
          0.0014278833422683751,
          0.0014809973429657623,
          0.0015382180398459493,
          0.001599330208846533,
          0.0015695148617782307,
          0.0015475887550325453,
          0.0015330716864699952,
          0.0015255175915348635,
          0.0015245115614977058,
          0.001443665173202327,
          0.001376548002341792,
          0.0013223473370857987,
          0.0012803049027082863,
          0.001249712588531493,
          0.001229908559504465,
          0.001220273713561207,
          0.001220228450238272,
          0.0012292297198384114,
          0.001246768325775504,
          0.0011952073716798434,
          0.001150215565940999,
          0.0011116152312931889,
          0.001079235997208429,
          0.0010529143572591637,
          0.0010324932619903298,
          0.0010178217438284649,
          0.0010087545709485622,
          0.001005151927362459,
          0.0010068791167926817,
          0.0009896334774698692,
          0.0009737422961266697,
          0.0009591620886090962,
          0.0009458510027279552,
          0.0009337687458509596,
          0.0009228765162028427,
          0.0009131369376586535,
          0.0009045139978292854,
          0.000896972989251171,
          0.0008904804535040404,
          0.0008794201681129753,
          0.0008688246521262311,
          0.000858676768225159,
          0.0008489601053793914,
          0.0008396589428884422,
          0.0008307582164768589,
          0.0008222434863098233,
          0.0008141009068057559,
          0.00080631719813134,
          0.0007988796192725604
         ],
         "yaxis": "y3"
        },
        {
         "line": {
          "color": "palegreen",
          "width": 4
         },
         "mode": "lines",
         "name": "PRIMES",
         "showlegend": false,
         "type": "scatter",
         "x": [
          1995,
          1996,
          1997,
          1998,
          1999,
          2000,
          2001,
          2002,
          2003,
          2004,
          2005,
          2006,
          2007,
          2008,
          2009,
          2010,
          2011,
          2012,
          2013,
          2014,
          2015,
          2016,
          2017,
          2018,
          2019,
          2020,
          2021,
          2022,
          2023,
          2024,
          2025,
          2026,
          2027,
          2028,
          2029,
          2030,
          2031,
          2032,
          2033,
          2034,
          2035,
          2036,
          2037,
          2038,
          2039,
          2040,
          2041,
          2042,
          2043,
          2044,
          2045,
          2046,
          2047,
          2048,
          2049,
          2050,
          2051,
          2052,
          2053,
          2054,
          2055,
          2056,
          2057,
          2058,
          2059,
          2060,
          2061,
          2062,
          2063,
          2064,
          2065,
          2066,
          2067,
          2068,
          2069,
          2070,
          2071,
          2072,
          2073,
          2074,
          2075,
          2076,
          2077,
          2078,
          2079,
          2080,
          2081,
          2082,
          2083,
          2084,
          2085,
          2086,
          2087,
          2088,
          2089,
          2090,
          2091,
          2092,
          2093,
          2094,
          2095,
          2096,
          2097,
          2098,
          2099,
          2100
         ],
         "xaxis": "x3",
         "y": [
          null,
          null,
          null,
          null,
          null,
          null,
          null,
          null,
          null,
          null,
          null,
          null,
          null,
          null,
          null,
          null,
          null,
          null,
          null,
          null,
          null,
          null,
          null,
          null,
          null,
          0.00008694388308825275,
          0.0000819322385500349,
          0.00007738102864032616,
          0.00007328485447940067,
          0.00006963864206706676,
          0.0000664376413655969,
          0.00006941947661996926,
          0.00007413811915969516,
          0.00008075734203972322,
          0.00008946082200368868,
          0.00010045680076492702,
          0.00009841686996236673,
          0.00009783250917333279,
          0.00009885607623365561,
          0.00010166491330466235,
          0.00010646625108645315,
          0.00010812121209145107,
          0.0001131647637183701,
          0.00012166439274090823,
          0.00013369339761855133,
          0.00014933113241538126,
          0.00014907316877402414,
          0.00014995127122984428,
          0.00015192804614666905,
          0.000154970804807391,
          0.00015905089087798132,
          0.0001661528459031746,
          0.00017395130865347318,
          0.00018242656404406107,
          0.00019156025702227736,
          0.00020133534718774703,
          0.00019712968121073036,
          0.0001931667207595428,
          0.0001894515502984223,
          0.000185989384882834,
          0.00018278557405089726,
          0.0001782937920067917,
          0.00017392768522649107,
          0.00016968826315043052,
          0.00016557655075409992,
          0.0001615935886313217,
          0.00015590889666280866,
          0.0001504551773847481,
          0.0001452323086465349,
          0.00014024017946433906,
          0.0001354786899961025,
          0.0001311716569296054,
          0.00012711619073125594,
          0.00012331352115512364,
          0.00011976488568915667,
          0.00011647152959617996,
          null,
          null,
          null,
          null,
          null,
          null,
          null,
          null,
          null,
          null,
          null,
          null,
          null,
          null,
          null,
          null,
          null,
          null,
          null,
          null,
          null,
          null,
          null,
          null,
          null,
          null,
          null,
          null,
          null,
          null
         ],
         "yaxis": "y3"
        },
        {
         "line": {
          "color": "lightskyblue",
          "width": 4
         },
         "mode": "lines",
         "name": "IMAGE",
         "showlegend": false,
         "type": "scatter",
         "x": [
          1995,
          1996,
          1997,
          1998,
          1999,
          2000,
          2001,
          2002,
          2003,
          2004,
          2005,
          2006,
          2007,
          2008,
          2009,
          2010,
          2011,
          2012,
          2013,
          2014,
          2015,
          2016,
          2017,
          2018,
          2019,
          2020,
          2021,
          2022,
          2023,
          2024,
          2025,
          2026,
          2027,
          2028,
          2029,
          2030,
          2031,
          2032,
          2033,
          2034,
          2035,
          2036,
          2037,
          2038,
          2039,
          2040,
          2041,
          2042,
          2043,
          2044,
          2045,
          2046,
          2047,
          2048,
          2049,
          2050,
          2051,
          2052,
          2053,
          2054,
          2055,
          2056,
          2057,
          2058,
          2059,
          2060,
          2061,
          2062,
          2063,
          2064,
          2065,
          2066,
          2067,
          2068,
          2069,
          2070,
          2071,
          2072,
          2073,
          2074,
          2075,
          2076,
          2077,
          2078,
          2079,
          2080,
          2081,
          2082,
          2083,
          2084,
          2085,
          2086,
          2087,
          2088,
          2089,
          2090,
          2091,
          2092,
          2093,
          2094,
          2095,
          2096,
          2097,
          2098,
          2099,
          2100
         ],
         "xaxis": "x4",
         "y": [
          null,
          null,
          null,
          null,
          null,
          null,
          null,
          null,
          null,
          null,
          null,
          null,
          null,
          null,
          null,
          null,
          null,
          null,
          null,
          null,
          null,
          null,
          null,
          null,
          null,
          0.000025571923978457862,
          0.0033609295515490325,
          0.01303055093368708,
          0.029034436070392727,
          0.05137258496166575,
          0.0800449976075064,
          0.08183789668581638,
          0.08578999803098943,
          0.09190130164302578,
          0.10017180752192532,
          0.11060151566768832,
          0.0958107223826656,
          0.08707904128164477,
          0.08440647236462617,
          0.08779301563160917,
          0.09723867108259415,
          0.10835055606173838,
          0.12493570868607083,
          0.1469941289555916,
          0.17452581687030058,
          0.2075307724301981,
          0.23369017286417648,
          0.26199260387860207,
          0.2924380654734746,
          0.32502655764879446,
          0.3597580804045611,
          0.3655394404979278,
          0.3717421047586842,
          0.3783660731868301,
          0.3854113457823656,
          0.3928779225452907,
          0.382383820648845,
          0.3727384713697199,
          0.36394187470791506,
          0.35599403066343077,
          0.34889493923626685,
          0.33276286656299264,
          0.3175035082517147,
          0.3031168643024332,
          0.2896029347151478,
          0.27696171948985865,
          0.27075957657602767,
          0.26609225102891093,
          0.2629597428485079,
          0.2613620520348194,
          0.26129917858784474,
          0.2617788650638379,
          0.26346436055753136,
          0.2663556650689261,
          0.27045277859802114,
          0.275755701144817,
          0.27846589115665926,
          0.28165459952068295,
          0.2853218262368879,
          0.2894675713052744,
          0.2940918347258424,
          0.29827595866991086,
          0.30314472995180036,
          0.3086981485715103,
          0.31493621452904136,
          0.321858927824393,
          0.33048097293463335,
          0.3397326539586709,
          0.349613970896506,
          0.3601249237481381,
          0.3712655125135676,
          0.37782001672147314,
          0.38875306488668454,
          0.40406465700920235,
          0.4237547930890259,
          0.4478234731261563,
          0.47457777688129216,
          0.5065287228045358,
          0.5436763108958873,
          0.5860205411553461,
          0.633561413582913,
          0.6501145316481801,
          0.6675152441790407,
          0.6857635511754947,
          0.7048594526375416,
          0.724802948565182
         ],
         "yaxis": "y4"
        },
        {
         "line": {
          "color": "goldenrod",
          "width": 4
         },
         "mode": "lines",
         "name": "PROMETHEUS",
         "showlegend": false,
         "type": "scatter",
         "x": [
          1995,
          1996,
          1997,
          1998,
          1999,
          2000,
          2001,
          2002,
          2003,
          2004,
          2005,
          2006,
          2007,
          2008,
          2009,
          2010,
          2011,
          2012,
          2013,
          2014,
          2015,
          2016,
          2017,
          2018,
          2019,
          2020,
          2021,
          2022,
          2023,
          2024,
          2025,
          2026,
          2027,
          2028,
          2029,
          2030,
          2031,
          2032,
          2033,
          2034,
          2035,
          2036,
          2037,
          2038,
          2039,
          2040,
          2041,
          2042,
          2043,
          2044,
          2045,
          2046,
          2047,
          2048,
          2049,
          2050,
          2051,
          2052,
          2053,
          2054,
          2055,
          2056,
          2057,
          2058,
          2059,
          2060,
          2061,
          2062,
          2063,
          2064,
          2065,
          2066,
          2067,
          2068,
          2069,
          2070,
          2071,
          2072,
          2073,
          2074,
          2075,
          2076,
          2077,
          2078,
          2079,
          2080,
          2081,
          2082,
          2083,
          2084,
          2085,
          2086,
          2087,
          2088,
          2089,
          2090,
          2091,
          2092,
          2093,
          2094,
          2095,
          2096,
          2097,
          2098,
          2099,
          2100
         ],
         "xaxis": "x4",
         "y": [
          null,
          null,
          null,
          null,
          null,
          null,
          null,
          null,
          null,
          null,
          null,
          null,
          null,
          null,
          null,
          null,
          null,
          null,
          null,
          null,
          null,
          null,
          null,
          null,
          null,
          0.000009878694876357803,
          0.0014318271990518697,
          0.005446900842848454,
          0.012055099626266073,
          0.02125642354930467,
          0.03305087261196439,
          0.036852088099171315,
          0.04339491909801305,
          0.052679365608489154,
          0.06470542763060014,
          0.07947310516434562,
          0.09751774042250726,
          0.12327436985286568,
          0.15674299345542067,
          0.19792361123017224,
          0.2468162231771204,
          0.2453482143623793,
          0.24468057676228772,
          0.2448133103768462,
          0.24574641520605386,
          0.24747989124991143,
          0.23379432083831708,
          0.22163193319001218,
          0.2109927283049977,
          0.20187670618327277,
          0.1942838668248381,
          0.19022844669251557,
          0.18664801734071026,
          0.18354257876942212,
          0.1809121309786513,
          0.17875667396839787,
          null,
          null,
          null,
          null,
          null,
          null,
          null,
          null,
          null,
          null,
          null,
          null,
          null,
          null,
          null,
          null,
          null,
          null,
          null,
          null,
          null,
          null,
          null,
          null,
          null,
          null,
          null,
          null,
          null,
          null,
          null,
          null,
          null,
          null,
          null,
          null,
          null,
          null,
          null,
          null,
          null,
          null,
          null,
          null,
          null,
          null,
          null,
          null,
          null,
          null
         ],
         "yaxis": "y4"
        },
        {
         "line": {
          "color": "tomato",
          "width": 4
         },
         "mode": "lines",
         "name": "REMIND",
         "showlegend": false,
         "type": "scatter",
         "x": [
          1995,
          1996,
          1997,
          1998,
          1999,
          2000,
          2001,
          2002,
          2003,
          2004,
          2005,
          2006,
          2007,
          2008,
          2009,
          2010,
          2011,
          2012,
          2013,
          2014,
          2015,
          2016,
          2017,
          2018,
          2019,
          2020,
          2021,
          2022,
          2023,
          2024,
          2025,
          2026,
          2027,
          2028,
          2029,
          2030,
          2031,
          2032,
          2033,
          2034,
          2035,
          2036,
          2037,
          2038,
          2039,
          2040,
          2041,
          2042,
          2043,
          2044,
          2045,
          2046,
          2047,
          2048,
          2049,
          2050,
          2051,
          2052,
          2053,
          2054,
          2055,
          2056,
          2057,
          2058,
          2059,
          2060,
          2061,
          2062,
          2063,
          2064,
          2065,
          2066,
          2067,
          2068,
          2069,
          2070,
          2071,
          2072,
          2073,
          2074,
          2075,
          2076,
          2077,
          2078,
          2079,
          2080,
          2081,
          2082,
          2083,
          2084,
          2085,
          2086,
          2087,
          2088,
          2089,
          2090,
          2091,
          2092,
          2093,
          2094,
          2095,
          2096,
          2097,
          2098,
          2099,
          2100
         ],
         "xaxis": "x4",
         "y": [
          null,
          null,
          null,
          null,
          null,
          null,
          null,
          null,
          null,
          null,
          null,
          null,
          null,
          null,
          null,
          null,
          null,
          null,
          null,
          null,
          null,
          null,
          null,
          null,
          null,
          1.5259259259240767e-7,
          0.0021723868082304844,
          0.008678755825514433,
          0.01951925964444456,
          0.03469389826502064,
          0.05420267168724293,
          0.06688348371358042,
          0.08183477845925945,
          0.09905655592427991,
          0.11854881610864205,
          0.1403115590123458,
          0.16377101608888892,
          0.19121269842962954,
          0.222636606034568,
          0.2580427389037038,
          0.2974310970370369,
          0.29768985118683117,
          0.3117662029530864,
          0.3396601523358023,
          0.38137169933497944,
          0.4369008439506173,
          0.5144918230913579,
          0.6066900509168723,
          0.7134955274271606,
          0.8349082526222226,
          0.9709282265020575,
          1.0602913280230455,
          1.155658424421399,
          1.2570295156971196,
          1.3644046018502056,
          1.4777836828806583,
          1.5050707400230454,
          1.53358259424856,
          1.5633192455572011,
          1.5942806939489707,
          1.626466939423868,
          1.6213805221728395,
          1.6170151303374485,
          1.6133707639176957,
          1.6104474229135803,
          1.6082451073251034,
          1.6047481778543211,
          1.601402828931688,
          1.598209060557202,
          1.5951668727308645,
          1.592276265452675,
          1.5895372387226339,
          1.5869497925407412,
          1.5845139269069959,
          1.5822296418213997,
          1.580096937283951,
          1.5866983654000004,
          1.5934281602008236,
          1.6002863216864203,
          1.6072728498567905,
          1.614387744711934,
          1.6216310062518515,
          1.629002634476543,
          1.636502629386008,
          1.6441309909802466,
          1.651887719259259,
          1.6652756299753084,
          1.6788528121316872,
          1.6926192657283952,
          1.7065749907654322,
          1.7207199872427983,
          1.7350542551604942,
          1.749577794518519,
          1.7642906053168723,
          1.7791926875555557,
          1.7942840412345686,
          1.801459597880659,
          1.8089172339423867,
          1.8166569494197533,
          1.8246787443127575,
          1.832982618621399,
          1.841568572345679,
          1.8504366054855963,
          1.859586718041152,
          1.869018910012345,
          1.8787331813991763
         ],
         "yaxis": "y4"
        },
        {
         "line": {
          "color": "forestgreen",
          "width": 4
         },
         "mode": "lines",
         "name": "WITCH",
         "showlegend": false,
         "type": "scatter",
         "x": [
          1995,
          1996,
          1997,
          1998,
          1999,
          2000,
          2001,
          2002,
          2003,
          2004,
          2005,
          2006,
          2007,
          2008,
          2009,
          2010,
          2011,
          2012,
          2013,
          2014,
          2015,
          2016,
          2017,
          2018,
          2019,
          2020,
          2021,
          2022,
          2023,
          2024,
          2025,
          2026,
          2027,
          2028,
          2029,
          2030,
          2031,
          2032,
          2033,
          2034,
          2035,
          2036,
          2037,
          2038,
          2039,
          2040,
          2041,
          2042,
          2043,
          2044,
          2045,
          2046,
          2047,
          2048,
          2049,
          2050,
          2051,
          2052,
          2053,
          2054,
          2055,
          2056,
          2057,
          2058,
          2059,
          2060,
          2061,
          2062,
          2063,
          2064,
          2065,
          2066,
          2067,
          2068,
          2069,
          2070,
          2071,
          2072,
          2073,
          2074,
          2075,
          2076,
          2077,
          2078,
          2079,
          2080,
          2081,
          2082,
          2083,
          2084,
          2085,
          2086,
          2087,
          2088,
          2089,
          2090,
          2091,
          2092,
          2093,
          2094,
          2095,
          2096,
          2097,
          2098,
          2099,
          2100
         ],
         "xaxis": "x4",
         "y": [
          null,
          null,
          null,
          null,
          null,
          null,
          null,
          null,
          null,
          null,
          null,
          null,
          null,
          null,
          null,
          null,
          null,
          null,
          null,
          null,
          null,
          null,
          null,
          null,
          null,
          5.259072701473412e-30,
          0.000059643072169924636,
          0.00023857228867970104,
          0.0005367876495293232,
          0.0009542891547188011,
          0.0014910768042481245,
          0.0005719649666776743,
          0.0016326428468969214,
          0.004673110444905816,
          0.009693367760704496,
          0.01669341479429279,
          0.026867223251172686,
          0.040132616594388694,
          0.05648959482394059,
          0.07593815793982843,
          0.0984783059420526,
          0.12281599628373364,
          0.14991577719652815,
          0.17977764868043553,
          0.21240161073545646,
          0.24778766336159017,
          0.2896209636312865,
          0.3347863582636061,
          0.38328384725854797,
          0.43511343061611374,
          0.49027510833630267,
          0.5230762687624727,
          0.5569880034703515,
          0.5920103124599385,
          0.6281431957312348,
          0.6653866532842402,
          0.7024563368914674,
          0.7405999478756233,
          0.7798174862367059,
          0.8201089519747172,
          0.8614743450896557,
          0.924711478958172,
          0.9910535606233153,
          1.0605005900850852,
          1.133052567343481,
          1.2087094923985031,
          1.2639183234483462,
          1.3205838016599551,
          1.3787059270333322,
          1.4382846995684748,
          1.4993201192653853,
          1.545748241774204,
          1.5933056641081613,
          1.6419923862672599,
          1.691808408251495,
          1.742753730060871,
          1.774807701354501,
          1.8073911795005684,
          1.8405041644990743,
          1.8741466563500175,
          1.9083186550533993,
          1.9175522403464271,
          1.9271701029245192,
          1.9371722427876756,
          1.9475586599358976,
          1.9583293543691846,
          1.9670700788865554,
          1.9763369881039052,
          1.9861300820212398,
          1.9964493606385512,
          2.0072948239558452,
          2.0160024415173052,
          2.025510253298068,
          2.0358182592981375,
          2.0469264595175103,
          2.0588348539561907,
          2.0599928819188364,
          2.0634162082864695,
          2.0691048330590887,
          2.077058756236696,
          2.0872779778192885,
          2.1340567860149946,
          2.181920869063763,
          2.2308702269656004,
          2.280904859720496,
          2.3320247673284555
         ],
         "yaxis": "y4"
        },
        {
         "line": {
          "color": "darkgrey",
          "width": 4
         },
         "mode": "lines",
         "name": "Euro-Calliope",
         "showlegend": false,
         "type": "scatter",
         "x": [
          1995,
          1996,
          1997,
          1998,
          1999,
          2000,
          2001,
          2002,
          2003,
          2004,
          2005,
          2006,
          2007,
          2008,
          2009,
          2010,
          2011,
          2012,
          2013,
          2014,
          2015,
          2016,
          2017,
          2018,
          2019,
          2020,
          2021,
          2022,
          2023,
          2024,
          2025,
          2026,
          2027,
          2028,
          2029,
          2030,
          2031,
          2032,
          2033,
          2034,
          2035,
          2036,
          2037,
          2038,
          2039,
          2040,
          2041,
          2042,
          2043,
          2044,
          2045,
          2046,
          2047,
          2048,
          2049,
          2050,
          2051,
          2052,
          2053,
          2054,
          2055,
          2056,
          2057,
          2058,
          2059,
          2060,
          2061,
          2062,
          2063,
          2064,
          2065,
          2066,
          2067,
          2068,
          2069,
          2070,
          2071,
          2072,
          2073,
          2074,
          2075,
          2076,
          2077,
          2078,
          2079,
          2080,
          2081,
          2082,
          2083,
          2084,
          2085,
          2086,
          2087,
          2088,
          2089,
          2090,
          2091,
          2092,
          2093,
          2094,
          2095,
          2096,
          2097,
          2098,
          2099,
          2100
         ],
         "xaxis": "x4",
         "y": [
          null,
          null,
          null,
          null,
          null,
          null,
          null,
          null,
          null,
          null,
          null,
          null,
          null,
          null,
          null,
          null,
          null,
          null,
          null,
          null,
          null,
          null,
          null,
          null,
          null,
          0,
          0.000624037357664745,
          0.0024961494306589404,
          0.00561633621898258,
          0.00998459772263569,
          0.015600933941618371,
          0.02246534487593045,
          0.03057783052557187,
          0.039938390890542894,
          0.0505470259708434,
          0.0624037357664733,
          0.056346078026226584,
          0.05067703850224299,
          0.04539661719452261,
          0.040504814103065515,
          0.03600162922787159,
          0.03188706256894087,
          0.028161114126273395,
          0.024823783899869157,
          0.021875071889728086,
          0.019314978095850286,
          0.017143502518235692,
          0.015360645156884322,
          0.01396640601179613,
          0.012960785082971178,
          0.012343782370409447,
          0.012115397874110935,
          0.012275631594075642,
          0.012824483530303594,
          0.01376195368279471,
          0.015088042051549067,
          null,
          null,
          null,
          null,
          null,
          null,
          null,
          null,
          null,
          null,
          null,
          null,
          null,
          null,
          null,
          null,
          null,
          null,
          null,
          null,
          null,
          null,
          null,
          null,
          null,
          null,
          null,
          null,
          null,
          null,
          null,
          null,
          null,
          null,
          null,
          null,
          null,
          null,
          null,
          null,
          null,
          null,
          null,
          null,
          null,
          null,
          null,
          null,
          null,
          null
         ],
         "yaxis": "y4"
        },
        {
         "line": {
          "color": "royalblue",
          "width": 4
         },
         "mode": "lines",
         "name": "TIAM-ECN",
         "showlegend": false,
         "type": "scatter",
         "x": [
          1995,
          1996,
          1997,
          1998,
          1999,
          2000,
          2001,
          2002,
          2003,
          2004,
          2005,
          2006,
          2007,
          2008,
          2009,
          2010,
          2011,
          2012,
          2013,
          2014,
          2015,
          2016,
          2017,
          2018,
          2019,
          2020,
          2021,
          2022,
          2023,
          2024,
          2025,
          2026,
          2027,
          2028,
          2029,
          2030,
          2031,
          2032,
          2033,
          2034,
          2035,
          2036,
          2037,
          2038,
          2039,
          2040,
          2041,
          2042,
          2043,
          2044,
          2045,
          2046,
          2047,
          2048,
          2049,
          2050,
          2051,
          2052,
          2053,
          2054,
          2055,
          2056,
          2057,
          2058,
          2059,
          2060,
          2061,
          2062,
          2063,
          2064,
          2065,
          2066,
          2067,
          2068,
          2069,
          2070,
          2071,
          2072,
          2073,
          2074,
          2075,
          2076,
          2077,
          2078,
          2079,
          2080,
          2081,
          2082,
          2083,
          2084,
          2085,
          2086,
          2087,
          2088,
          2089,
          2090,
          2091,
          2092,
          2093,
          2094,
          2095,
          2096,
          2097,
          2098,
          2099,
          2100
         ],
         "xaxis": "x4",
         "y": [
          null,
          null,
          null,
          null,
          null,
          null,
          null,
          null,
          null,
          null,
          null,
          null,
          null,
          null,
          null,
          null,
          null,
          null,
          null,
          null,
          null,
          null,
          null,
          null,
          null,
          0.006095730133333363,
          0.003757077162666667,
          0.002021785557333359,
          0.0008898553173333325,
          0.00036128644266666065,
          0.00043607893333334194,
          0.00032293335466667517,
          0.0002397815253333417,
          0.0001866234453333263,
          0.00016345911466666613,
          0.00017028853333333365,
          0.00015599646933332667,
          0.00016171419733332763,
          0.00018744171733333737,
          0.00023317902933334055,
          0.0002989261333333258,
          0.0004321897706666658,
          0.0006508804159999731,
          0.0009549980693333411,
          0.0013445427306666513,
          0.0018195143999999916,
          0.0022080421013333366,
          0.0028661242986666585,
          0.0037937609919999836,
          0.004990952181333288,
          0.00645769786666664,
          0.008483181994666663,
          0.011741329952000007,
          0.01623214173866672,
          0.02195561735466674,
          0.02891175680000012,
          0.028440659048000205,
          0.028044668512000034,
          0.027723785192000024,
          0.02747800908800005,
          0.02730734019999999,
          0.027211778528000007,
          0.027191324072000127,
          0.027245976832000057,
          0.02737573680799978,
          0.027580603999999967,
          0.028128659565333333,
          0.02883254108799994,
          0.02969224856799989,
          0.030707782005333233,
          0.031879141399999915,
          0.03320632675199993,
          0.03468933806133328,
          0.0363281753279999,
          0.03812283855199985,
          0.040073327733333164,
          0.035977090143999656,
          0.032343322442666446,
          0.029172024629333368,
          0.026463196703999835,
          0.024216838666666397,
          0.022432950517333187,
          0.021111532255999904,
          0.020252583882666538,
          0.019856105397333172,
          0.019922096799999883,
          0.020633483269333217,
          0.021369947103999882,
          0.022131488304,
          0.022918106869333283,
          0.023729802799999918,
          0.02456657609599994,
          0.0254284267573333,
          0.026315354784000006,
          0.027227360175999926,
          0.028164442933333343,
          0.028394595605333268,
          0.02862828311466675,
          0.028865505461333398,
          0.029106262645333322,
          0.029350554666666567,
          0.029598381525333377,
          0.02984974322133335,
          0.03010463975466662,
          0.030363071125333384,
          0.030625037333333355
         ],
         "yaxis": "y4"
        },
        {
         "line": {
          "color": "purple",
          "width": 4
         },
         "mode": "lines",
         "name": "MESSAGE",
         "showlegend": false,
         "type": "scatter",
         "x": [
          1995,
          1996,
          1997,
          1998,
          1999,
          2000,
          2001,
          2002,
          2003,
          2004,
          2005,
          2006,
          2007,
          2008,
          2009,
          2010,
          2011,
          2012,
          2013,
          2014,
          2015,
          2016,
          2017,
          2018,
          2019,
          2020,
          2021,
          2022,
          2023,
          2024,
          2025,
          2026,
          2027,
          2028,
          2029,
          2030,
          2031,
          2032,
          2033,
          2034,
          2035,
          2036,
          2037,
          2038,
          2039,
          2040,
          2041,
          2042,
          2043,
          2044,
          2045,
          2046,
          2047,
          2048,
          2049,
          2050,
          2051,
          2052,
          2053,
          2054,
          2055,
          2056,
          2057,
          2058,
          2059,
          2060,
          2061,
          2062,
          2063,
          2064,
          2065,
          2066,
          2067,
          2068,
          2069,
          2070,
          2071,
          2072,
          2073,
          2074,
          2075,
          2076,
          2077,
          2078,
          2079,
          2080,
          2081,
          2082,
          2083,
          2084,
          2085,
          2086,
          2087,
          2088,
          2089,
          2090,
          2091,
          2092,
          2093,
          2094,
          2095,
          2096,
          2097,
          2098,
          2099,
          2100
         ],
         "xaxis": "x4",
         "y": [
          null,
          null,
          null,
          null,
          null,
          null,
          null,
          null,
          null,
          null,
          null,
          null,
          null,
          null,
          null,
          null,
          null,
          null,
          null,
          null,
          null,
          null,
          null,
          null,
          null,
          1.0518145402946823e-30,
          0.002757760307089319,
          0.01103104122835731,
          0.024819842763803935,
          0.04412416491342926,
          0.06894400767723316,
          0.0745562949150812,
          0.08068846799973996,
          0.08734052693120908,
          0.09451247170948911,
          0.1022043023345794,
          0.10127480966742976,
          0.10118535052885828,
          0.1019359249188652,
          0.10352653283745028,
          0.10595717428461371,
          0.1058162723077285,
          0.10706887064787075,
          0.10971496930504047,
          0.11375456827923784,
          0.11918766757046274,
          0.13049163754961615,
          0.14518953200063758,
          0.16328135092352633,
          0.18476709431828278,
          0.20964676218490616,
          0.2228212886383513,
          0.2368837970526688,
          0.25183428742786007,
          0.2676727597639231,
          0.2843992140608595,
          0.30235127714025756,
          0.3213178241603954,
          0.34129885512127195,
          0.3622943700228883,
          0.38430436886524316,
          0.3966083214755605,
          0.4094650857657607,
          0.42287466173584237,
          0.43683704938580686,
          0.45135224871565366,
          0.45833873731384084,
          0.4659047233447844,
          0.4740502068084849,
          0.4827751877049408,
          0.49207966603415326,
          0.501963641796122,
          0.5124271149908474,
          0.523470085618329,
          0.5350925536785662,
          0.5472945191715608,
          0.5500638158234715,
          0.5532484705478742,
          0.5568484833447699,
          0.5608638542141566,
          0.5652945831560351,
          0.5701406701704059,
          0.5754021152572689,
          0.5810789184166246,
          0.5871710796484718,
          0.5936785989528107,
          0.5866367357893268,
          0.5799722143266125,
          0.5736850345646676,
          0.5677751965034926,
          0.5622427001430873,
          0.5570875454834515,
          0.5523097325245852,
          0.5479092612664884,
          0.5438861317091611,
          0.5402403438526036,
          0.5362078143508715,
          0.5328676811406914,
          0.5302199442220626,
          0.5282646035949873,
          0.5270016592594643,
          0.5264311112154919,
          0.526552959463073,
          0.5273672040022056,
          0.5288738448328911,
          0.531072881955128
         ],
         "yaxis": "y4"
        },
        {
         "line": {
          "color": "palegreen",
          "width": 4
         },
         "mode": "lines",
         "name": "PRIMES",
         "showlegend": false,
         "type": "scatter",
         "x": [
          1995,
          1996,
          1997,
          1998,
          1999,
          2000,
          2001,
          2002,
          2003,
          2004,
          2005,
          2006,
          2007,
          2008,
          2009,
          2010,
          2011,
          2012,
          2013,
          2014,
          2015,
          2016,
          2017,
          2018,
          2019,
          2020,
          2021,
          2022,
          2023,
          2024,
          2025,
          2026,
          2027,
          2028,
          2029,
          2030,
          2031,
          2032,
          2033,
          2034,
          2035,
          2036,
          2037,
          2038,
          2039,
          2040,
          2041,
          2042,
          2043,
          2044,
          2045,
          2046,
          2047,
          2048,
          2049,
          2050,
          2051,
          2052,
          2053,
          2054,
          2055,
          2056,
          2057,
          2058,
          2059,
          2060,
          2061,
          2062,
          2063,
          2064,
          2065,
          2066,
          2067,
          2068,
          2069,
          2070,
          2071,
          2072,
          2073,
          2074,
          2075,
          2076,
          2077,
          2078,
          2079,
          2080,
          2081,
          2082,
          2083,
          2084,
          2085,
          2086,
          2087,
          2088,
          2089,
          2090,
          2091,
          2092,
          2093,
          2094,
          2095,
          2096,
          2097,
          2098,
          2099,
          2100
         ],
         "xaxis": "x4",
         "y": [
          null,
          null,
          null,
          null,
          null,
          null,
          null,
          null,
          null,
          null,
          null,
          null,
          null,
          null,
          null,
          null,
          null,
          null,
          null,
          null,
          null,
          null,
          null,
          null,
          null,
          0.00003405046664074189,
          0.00009802461607328148,
          0.0002879113538240753,
          0.0006037106798931123,
          0.001045422594280412,
          0.001613047096985935,
          0.005975893088722269,
          0.013768988565404011,
          0.02499233352703084,
          0.0396459279736033,
          0.05772977190512096,
          0.05829424274831128,
          0.05981060453398407,
          0.062278857262139255,
          0.06569900093277665,
          0.0700710355458965,
          0.07039699172225337,
          0.07105442330945079,
          0.07204333030748915,
          0.07336371271636803,
          0.0750155705360878,
          0.0763397787958317,
          0.0779346755592847,
          0.07980026082644649,
          0.08193653459731744,
          0.08434349687189728,
          0.09200016406714939,
          0.1004576505167869,
          0.10971595622080997,
          0.11977508117921848,
          0.13063502539201255,
          0.13235501330426314,
          0.13455394333821938,
          0.13723181549388144,
          0.14038862977124902,
          0.14402438617032218,
          0.14302417957631797,
          0.14208906460841922,
          0.14121904126662557,
          0.14041410955093736,
          0.13967426946135417,
          0.13898559124549928,
          0.13831827934501173,
          0.13767233375989144,
          0.13704775449013884,
          0.13644454153575383,
          0.13486543854809585,
          0.13332188875980902,
          0.1318138921708927,
          0.13034144878134749,
          0.12890455859117272,
          null,
          null,
          null,
          null,
          null,
          null,
          null,
          null,
          null,
          null,
          null,
          null,
          null,
          null,
          null,
          null,
          null,
          null,
          null,
          null,
          null,
          null,
          null,
          null,
          null,
          null,
          null,
          null,
          null,
          null
         ],
         "yaxis": "y4"
        }
       ],
       "layout": {
        "annotations": [
         {
          "align": "left",
          "font": {
           "size": 14
          },
          "showarrow": false,
          "text": "LimBio",
          "x": 285,
          "y": 1.25
         },
         {
          "align": "left",
          "font": {
           "size": 14
          },
          "showarrow": false,
          "text": "LimCCS",
          "x": 285,
          "y": 1.22
         },
         {
          "align": "left",
          "font": {
           "size": 14
          },
          "showarrow": false,
          "text": "LimNuclear",
          "x": 285,
          "y": 1.19
         },
         {
          "align": "left",
          "font": {
           "size": 14
          },
          "showarrow": false,
          "text": "HighVRE",
          "x": 285,
          "y": 1.16
         },
         {
          "align": "left",
          "font": {
           "size": 14
          },
          "showarrow": false,
          "text": "HighElectrification",
          "x": 285,
          "y": 1.13
         },
         {
          "align": "left",
          "font": {
           "size": 14
          },
          "showarrow": false,
          "text": "HighH2",
          "x": 285,
          "y": 1.1
         },
         {
          "align": "left",
          "font": {
           "size": 14
          },
          "showarrow": false,
          "text": "ResidualFossil",
          "x": 285,
          "y": 1.07
         },
         {
          "align": "left",
          "font": {
           "size": 14
          },
          "showarrow": false,
          "text": "HighEff",
          "x": 285,
          "y": 1.04
         },
         {
          "align": "left",
          "font": {
           "size": 14
          },
          "showarrow": false,
          "text": "DIAG-C400-lin",
          "x": 285,
          "y": 1.01
         },
         {
          "font": {
           "size": 30
          },
          "showarrow": false,
          "text": "(a)",
          "x": 115,
          "xref": "x",
          "y": 1.28,
          "yref": "y"
         },
         {
          "font": {
           "size": 30
          },
          "showarrow": false,
          "text": "(b)",
          "x": 0.62,
          "xref": "x2",
          "y": 0.69,
          "yref": "y2"
         },
         {
          "font": {
           "size": 30
          },
          "showarrow": false,
          "text": "(c)",
          "x": 2023,
          "xref": "x3",
          "y": -2.2,
          "yref": "y3"
         },
         {
          "font": {
           "size": 30
          },
          "showarrow": false,
          "text": "(d)",
          "x": 2023,
          "xref": "x4",
          "y": 0.8,
          "yref": "y4"
         }
        ],
        "font": {
         "size": 20
        },
        "height": 1200,
        "legend": {
         "font": {
          "size": 18
         },
         "orientation": "h",
         "x": 0.04,
         "y": 1.1
        },
        "template": {
         "data": {
          "bar": [
           {
            "error_x": {
             "color": "rgb(36,36,36)"
            },
            "error_y": {
             "color": "rgb(36,36,36)"
            },
            "marker": {
             "line": {
              "color": "white",
              "width": 0.5
             },
             "pattern": {
              "fillmode": "overlay",
              "size": 10,
              "solidity": 0.2
             }
            },
            "type": "bar"
           }
          ],
          "barpolar": [
           {
            "marker": {
             "line": {
              "color": "white",
              "width": 0.5
             },
             "pattern": {
              "fillmode": "overlay",
              "size": 10,
              "solidity": 0.2
             }
            },
            "type": "barpolar"
           }
          ],
          "carpet": [
           {
            "aaxis": {
             "endlinecolor": "rgb(36,36,36)",
             "gridcolor": "white",
             "linecolor": "white",
             "minorgridcolor": "white",
             "startlinecolor": "rgb(36,36,36)"
            },
            "baxis": {
             "endlinecolor": "rgb(36,36,36)",
             "gridcolor": "white",
             "linecolor": "white",
             "minorgridcolor": "white",
             "startlinecolor": "rgb(36,36,36)"
            },
            "type": "carpet"
           }
          ],
          "choropleth": [
           {
            "colorbar": {
             "outlinewidth": 1,
             "tickcolor": "rgb(36,36,36)",
             "ticks": "outside"
            },
            "type": "choropleth"
           }
          ],
          "contour": [
           {
            "colorbar": {
             "outlinewidth": 1,
             "tickcolor": "rgb(36,36,36)",
             "ticks": "outside"
            },
            "colorscale": [
             [
              0,
              "#440154"
             ],
             [
              0.1111111111111111,
              "#482878"
             ],
             [
              0.2222222222222222,
              "#3e4989"
             ],
             [
              0.3333333333333333,
              "#31688e"
             ],
             [
              0.4444444444444444,
              "#26828e"
             ],
             [
              0.5555555555555556,
              "#1f9e89"
             ],
             [
              0.6666666666666666,
              "#35b779"
             ],
             [
              0.7777777777777778,
              "#6ece58"
             ],
             [
              0.8888888888888888,
              "#b5de2b"
             ],
             [
              1,
              "#fde725"
             ]
            ],
            "type": "contour"
           }
          ],
          "contourcarpet": [
           {
            "colorbar": {
             "outlinewidth": 1,
             "tickcolor": "rgb(36,36,36)",
             "ticks": "outside"
            },
            "type": "contourcarpet"
           }
          ],
          "heatmap": [
           {
            "colorbar": {
             "outlinewidth": 1,
             "tickcolor": "rgb(36,36,36)",
             "ticks": "outside"
            },
            "colorscale": [
             [
              0,
              "#440154"
             ],
             [
              0.1111111111111111,
              "#482878"
             ],
             [
              0.2222222222222222,
              "#3e4989"
             ],
             [
              0.3333333333333333,
              "#31688e"
             ],
             [
              0.4444444444444444,
              "#26828e"
             ],
             [
              0.5555555555555556,
              "#1f9e89"
             ],
             [
              0.6666666666666666,
              "#35b779"
             ],
             [
              0.7777777777777778,
              "#6ece58"
             ],
             [
              0.8888888888888888,
              "#b5de2b"
             ],
             [
              1,
              "#fde725"
             ]
            ],
            "type": "heatmap"
           }
          ],
          "heatmapgl": [
           {
            "colorbar": {
             "outlinewidth": 1,
             "tickcolor": "rgb(36,36,36)",
             "ticks": "outside"
            },
            "colorscale": [
             [
              0,
              "#440154"
             ],
             [
              0.1111111111111111,
              "#482878"
             ],
             [
              0.2222222222222222,
              "#3e4989"
             ],
             [
              0.3333333333333333,
              "#31688e"
             ],
             [
              0.4444444444444444,
              "#26828e"
             ],
             [
              0.5555555555555556,
              "#1f9e89"
             ],
             [
              0.6666666666666666,
              "#35b779"
             ],
             [
              0.7777777777777778,
              "#6ece58"
             ],
             [
              0.8888888888888888,
              "#b5de2b"
             ],
             [
              1,
              "#fde725"
             ]
            ],
            "type": "heatmapgl"
           }
          ],
          "histogram": [
           {
            "marker": {
             "line": {
              "color": "white",
              "width": 0.6
             }
            },
            "type": "histogram"
           }
          ],
          "histogram2d": [
           {
            "colorbar": {
             "outlinewidth": 1,
             "tickcolor": "rgb(36,36,36)",
             "ticks": "outside"
            },
            "colorscale": [
             [
              0,
              "#440154"
             ],
             [
              0.1111111111111111,
              "#482878"
             ],
             [
              0.2222222222222222,
              "#3e4989"
             ],
             [
              0.3333333333333333,
              "#31688e"
             ],
             [
              0.4444444444444444,
              "#26828e"
             ],
             [
              0.5555555555555556,
              "#1f9e89"
             ],
             [
              0.6666666666666666,
              "#35b779"
             ],
             [
              0.7777777777777778,
              "#6ece58"
             ],
             [
              0.8888888888888888,
              "#b5de2b"
             ],
             [
              1,
              "#fde725"
             ]
            ],
            "type": "histogram2d"
           }
          ],
          "histogram2dcontour": [
           {
            "colorbar": {
             "outlinewidth": 1,
             "tickcolor": "rgb(36,36,36)",
             "ticks": "outside"
            },
            "colorscale": [
             [
              0,
              "#440154"
             ],
             [
              0.1111111111111111,
              "#482878"
             ],
             [
              0.2222222222222222,
              "#3e4989"
             ],
             [
              0.3333333333333333,
              "#31688e"
             ],
             [
              0.4444444444444444,
              "#26828e"
             ],
             [
              0.5555555555555556,
              "#1f9e89"
             ],
             [
              0.6666666666666666,
              "#35b779"
             ],
             [
              0.7777777777777778,
              "#6ece58"
             ],
             [
              0.8888888888888888,
              "#b5de2b"
             ],
             [
              1,
              "#fde725"
             ]
            ],
            "type": "histogram2dcontour"
           }
          ],
          "mesh3d": [
           {
            "colorbar": {
             "outlinewidth": 1,
             "tickcolor": "rgb(36,36,36)",
             "ticks": "outside"
            },
            "type": "mesh3d"
           }
          ],
          "parcoords": [
           {
            "line": {
             "colorbar": {
              "outlinewidth": 1,
              "tickcolor": "rgb(36,36,36)",
              "ticks": "outside"
             }
            },
            "type": "parcoords"
           }
          ],
          "pie": [
           {
            "automargin": true,
            "type": "pie"
           }
          ],
          "scatter": [
           {
            "fillpattern": {
             "fillmode": "overlay",
             "size": 10,
             "solidity": 0.2
            },
            "type": "scatter"
           }
          ],
          "scatter3d": [
           {
            "line": {
             "colorbar": {
              "outlinewidth": 1,
              "tickcolor": "rgb(36,36,36)",
              "ticks": "outside"
             }
            },
            "marker": {
             "colorbar": {
              "outlinewidth": 1,
              "tickcolor": "rgb(36,36,36)",
              "ticks": "outside"
             }
            },
            "type": "scatter3d"
           }
          ],
          "scattercarpet": [
           {
            "marker": {
             "colorbar": {
              "outlinewidth": 1,
              "tickcolor": "rgb(36,36,36)",
              "ticks": "outside"
             }
            },
            "type": "scattercarpet"
           }
          ],
          "scattergeo": [
           {
            "marker": {
             "colorbar": {
              "outlinewidth": 1,
              "tickcolor": "rgb(36,36,36)",
              "ticks": "outside"
             }
            },
            "type": "scattergeo"
           }
          ],
          "scattergl": [
           {
            "marker": {
             "colorbar": {
              "outlinewidth": 1,
              "tickcolor": "rgb(36,36,36)",
              "ticks": "outside"
             }
            },
            "type": "scattergl"
           }
          ],
          "scattermapbox": [
           {
            "marker": {
             "colorbar": {
              "outlinewidth": 1,
              "tickcolor": "rgb(36,36,36)",
              "ticks": "outside"
             }
            },
            "type": "scattermapbox"
           }
          ],
          "scatterpolar": [
           {
            "marker": {
             "colorbar": {
              "outlinewidth": 1,
              "tickcolor": "rgb(36,36,36)",
              "ticks": "outside"
             }
            },
            "type": "scatterpolar"
           }
          ],
          "scatterpolargl": [
           {
            "marker": {
             "colorbar": {
              "outlinewidth": 1,
              "tickcolor": "rgb(36,36,36)",
              "ticks": "outside"
             }
            },
            "type": "scatterpolargl"
           }
          ],
          "scatterternary": [
           {
            "marker": {
             "colorbar": {
              "outlinewidth": 1,
              "tickcolor": "rgb(36,36,36)",
              "ticks": "outside"
             }
            },
            "type": "scatterternary"
           }
          ],
          "surface": [
           {
            "colorbar": {
             "outlinewidth": 1,
             "tickcolor": "rgb(36,36,36)",
             "ticks": "outside"
            },
            "colorscale": [
             [
              0,
              "#440154"
             ],
             [
              0.1111111111111111,
              "#482878"
             ],
             [
              0.2222222222222222,
              "#3e4989"
             ],
             [
              0.3333333333333333,
              "#31688e"
             ],
             [
              0.4444444444444444,
              "#26828e"
             ],
             [
              0.5555555555555556,
              "#1f9e89"
             ],
             [
              0.6666666666666666,
              "#35b779"
             ],
             [
              0.7777777777777778,
              "#6ece58"
             ],
             [
              0.8888888888888888,
              "#b5de2b"
             ],
             [
              1,
              "#fde725"
             ]
            ],
            "type": "surface"
           }
          ],
          "table": [
           {
            "cells": {
             "fill": {
              "color": "rgb(237,237,237)"
             },
             "line": {
              "color": "white"
             }
            },
            "header": {
             "fill": {
              "color": "rgb(217,217,217)"
             },
             "line": {
              "color": "white"
             }
            },
            "type": "table"
           }
          ]
         },
         "layout": {
          "annotationdefaults": {
           "arrowhead": 0,
           "arrowwidth": 1
          },
          "autotypenumbers": "strict",
          "coloraxis": {
           "colorbar": {
            "outlinewidth": 1,
            "tickcolor": "rgb(36,36,36)",
            "ticks": "outside"
           }
          },
          "colorscale": {
           "diverging": [
            [
             0,
             "rgb(103,0,31)"
            ],
            [
             0.1,
             "rgb(178,24,43)"
            ],
            [
             0.2,
             "rgb(214,96,77)"
            ],
            [
             0.3,
             "rgb(244,165,130)"
            ],
            [
             0.4,
             "rgb(253,219,199)"
            ],
            [
             0.5,
             "rgb(247,247,247)"
            ],
            [
             0.6,
             "rgb(209,229,240)"
            ],
            [
             0.7,
             "rgb(146,197,222)"
            ],
            [
             0.8,
             "rgb(67,147,195)"
            ],
            [
             0.9,
             "rgb(33,102,172)"
            ],
            [
             1,
             "rgb(5,48,97)"
            ]
           ],
           "sequential": [
            [
             0,
             "#440154"
            ],
            [
             0.1111111111111111,
             "#482878"
            ],
            [
             0.2222222222222222,
             "#3e4989"
            ],
            [
             0.3333333333333333,
             "#31688e"
            ],
            [
             0.4444444444444444,
             "#26828e"
            ],
            [
             0.5555555555555556,
             "#1f9e89"
            ],
            [
             0.6666666666666666,
             "#35b779"
            ],
            [
             0.7777777777777778,
             "#6ece58"
            ],
            [
             0.8888888888888888,
             "#b5de2b"
            ],
            [
             1,
             "#fde725"
            ]
           ],
           "sequentialminus": [
            [
             0,
             "#440154"
            ],
            [
             0.1111111111111111,
             "#482878"
            ],
            [
             0.2222222222222222,
             "#3e4989"
            ],
            [
             0.3333333333333333,
             "#31688e"
            ],
            [
             0.4444444444444444,
             "#26828e"
            ],
            [
             0.5555555555555556,
             "#1f9e89"
            ],
            [
             0.6666666666666666,
             "#35b779"
            ],
            [
             0.7777777777777778,
             "#6ece58"
            ],
            [
             0.8888888888888888,
             "#b5de2b"
            ],
            [
             1,
             "#fde725"
            ]
           ]
          },
          "colorway": [
           "#1F77B4",
           "#FF7F0E",
           "#2CA02C",
           "#D62728",
           "#9467BD",
           "#8C564B",
           "#E377C2",
           "#7F7F7F",
           "#BCBD22",
           "#17BECF"
          ],
          "font": {
           "color": "rgb(36,36,36)"
          },
          "geo": {
           "bgcolor": "white",
           "lakecolor": "white",
           "landcolor": "white",
           "showlakes": true,
           "showland": true,
           "subunitcolor": "white"
          },
          "hoverlabel": {
           "align": "left"
          },
          "hovermode": "closest",
          "mapbox": {
           "style": "light"
          },
          "paper_bgcolor": "white",
          "plot_bgcolor": "white",
          "polar": {
           "angularaxis": {
            "gridcolor": "rgb(232,232,232)",
            "linecolor": "rgb(36,36,36)",
            "showgrid": false,
            "showline": true,
            "ticks": "outside"
           },
           "bgcolor": "white",
           "radialaxis": {
            "gridcolor": "rgb(232,232,232)",
            "linecolor": "rgb(36,36,36)",
            "showgrid": false,
            "showline": true,
            "ticks": "outside"
           }
          },
          "scene": {
           "xaxis": {
            "backgroundcolor": "white",
            "gridcolor": "rgb(232,232,232)",
            "gridwidth": 2,
            "linecolor": "rgb(36,36,36)",
            "showbackground": true,
            "showgrid": false,
            "showline": true,
            "ticks": "outside",
            "zeroline": false,
            "zerolinecolor": "rgb(36,36,36)"
           },
           "yaxis": {
            "backgroundcolor": "white",
            "gridcolor": "rgb(232,232,232)",
            "gridwidth": 2,
            "linecolor": "rgb(36,36,36)",
            "showbackground": true,
            "showgrid": false,
            "showline": true,
            "ticks": "outside",
            "zeroline": false,
            "zerolinecolor": "rgb(36,36,36)"
           },
           "zaxis": {
            "backgroundcolor": "white",
            "gridcolor": "rgb(232,232,232)",
            "gridwidth": 2,
            "linecolor": "rgb(36,36,36)",
            "showbackground": true,
            "showgrid": false,
            "showline": true,
            "ticks": "outside",
            "zeroline": false,
            "zerolinecolor": "rgb(36,36,36)"
           }
          },
          "shapedefaults": {
           "fillcolor": "black",
           "line": {
            "width": 0
           },
           "opacity": 0.3
          },
          "ternary": {
           "aaxis": {
            "gridcolor": "rgb(232,232,232)",
            "linecolor": "rgb(36,36,36)",
            "showgrid": false,
            "showline": true,
            "ticks": "outside"
           },
           "baxis": {
            "gridcolor": "rgb(232,232,232)",
            "linecolor": "rgb(36,36,36)",
            "showgrid": false,
            "showline": true,
            "ticks": "outside"
           },
           "bgcolor": "white",
           "caxis": {
            "gridcolor": "rgb(232,232,232)",
            "linecolor": "rgb(36,36,36)",
            "showgrid": false,
            "showline": true,
            "ticks": "outside"
           }
          },
          "title": {
           "x": 0.05
          },
          "xaxis": {
           "automargin": true,
           "gridcolor": "rgb(232,232,232)",
           "linecolor": "rgb(36,36,36)",
           "showgrid": false,
           "showline": true,
           "ticks": "outside",
           "title": {
            "standoff": 15
           },
           "zeroline": false,
           "zerolinecolor": "rgb(36,36,36)"
          },
          "yaxis": {
           "automargin": true,
           "gridcolor": "rgb(232,232,232)",
           "linecolor": "rgb(36,36,36)",
           "showgrid": false,
           "showline": true,
           "ticks": "outside",
           "title": {
            "standoff": 15
           },
           "zeroline": false,
           "zerolinecolor": "rgb(36,36,36)"
          }
         }
        },
        "width": 1800,
        "xaxis": {
         "anchor": "y",
         "domain": [
          0,
          0.45
         ],
         "range": [
          110,
          250
         ],
         "title": {
          "font": {
           "size": 30
          },
          "text": "Mitigation speed potential (R<sub>3</sub>)"
         }
        },
        "xaxis2": {
         "anchor": "y2",
         "domain": [
          0.55,
          1
         ],
         "range": [
          0.6,
          1.2
         ],
         "title": {
          "font": {
           "size": 30
          },
          "text": "Carbon Intensity Reduction (M<sub>1</sub>)"
         }
        },
        "xaxis3": {
         "anchor": "y3",
         "domain": [
          0,
          0.45
         ],
         "range": [
          2020,
          2100
         ],
         "title": {
          "font": {
           "size": 30
          },
          "text": "Time (years)"
         }
        },
        "xaxis4": {
         "anchor": "y4",
         "domain": [
          0.55,
          1
         ],
         "range": [
          2020,
          2100
         ],
         "title": {
          "font": {
           "size": 30
          },
          "text": "Time (years)"
         }
        },
        "yaxis": {
         "anchor": "x",
         "domain": [
          0.3833333333333333,
          0.9999999999999999
         ],
         "range": [
          0.6,
          1.3
         ],
         "title": {
          "font": {
           "size": 30
          },
          "text": "Relative Abatement Index (R<sub>1</sub>)"
         }
        },
        "yaxis2": {
         "anchor": "x2",
         "domain": [
          0.3833333333333333,
          0.9999999999999999
         ],
         "range": [
          0.32,
          0.7
         ],
         "title": {
          "font": {
           "size": 30
          },
          "text": "Energy Intensity Reduction (M<sub>2</sub>)"
         }
        },
        "yaxis3": {
         "anchor": "x3",
         "domain": [
          0,
          0.2333333333333333
         ],
         "range": [
          -6,
          -2
         ],
         "title": {
          "font": {
           "size": 25
          },
          "text": "Sensitivity<br>primary energy (R<sub>4</sub>)"
         },
         "type": "log"
        },
        "yaxis4": {
         "anchor": "x4",
         "domain": [
          0,
          0.2333333333333333
         ],
         "range": [
          -4,
          1
         ],
         "title": {
          "font": {
           "size": 25
          },
          "text": "Sensitivity<br>demand (R<sub>5</sub>)"
         },
         "type": "log"
        }
       }
      }
     },
     "metadata": {},
     "output_type": "display_data"
    }
   ],
   "source": [
    "fig = make_subplots(\n",
    "    rows=3, cols=2,\n",
    "    horizontal_spacing = 0.10,\n",
    "    vertical_spacing=0.15,\n",
    "    specs = [[{\"rowspan\": 2}, {\"rowspan\": 2}],\n",
    "             [None, None],\n",
    "             [{}, {}],\n",
    "            ],\n",
    "    subplot_titles = (\"\", \"\", \"\", \"\"),\n",
    ")\n",
    "\n",
    "for col_i, col in enumerate([1, 2]):\n",
    "        var_x = [ind_xr.sel(Indicator=\"R3_speedmax\", Time=2050).Value, ind_xr.sel(Indicator=\"M1_cir\", Time=2050).Value][col_i]\n",
    "        var_y = [ind_xr.sel(Indicator=\"R1_rai\", Time=2050).Value, ind_xr.sel(Indicator=\"M2_eir\", Time=2050).Value][col_i]\n",
    "\n",
    "        # SHADED AREAS IN THE BACKGROUND\n",
    "        ar_x = np.array(var_x)\n",
    "        ar_y = np.array(var_y)\n",
    "        ar_x = ar_x[ar_x != 0]\n",
    "        ar_y = ar_y[ar_y != 0]\n",
    "        m_y = np.nanmedian(ar_y)\n",
    "        m_y1 = np.nanmedian(ar_y)+np.nanstd(ar_y)\n",
    "        m_y1b = np.nanmedian(ar_y)+2*np.nanstd(ar_y)\n",
    "        m_y0 = np.nanmedian(ar_y)-np.nanstd(ar_y)\n",
    "        m_y0b = np.nanmedian(ar_y)-2*np.nanstd(ar_y)\n",
    "        m_x = np.nanmedian(ar_x)\n",
    "        m_x1 = np.nanmedian(ar_x)+np.nanstd(ar_x)\n",
    "        m_x1b = np.nanmedian(ar_x)+2*np.nanstd(ar_x)\n",
    "        m_x0 = np.nanmedian(ar_x)-np.nanstd(ar_x)\n",
    "        m_x0b = np.nanmedian(ar_x)-2*np.nanstd(ar_x)\n",
    "        mn_x = [113, 0.615][col_i]\n",
    "        mn_y = [0.61, 0.325][col_i]\n",
    "\n",
    "        fig.add_trace(go.Scatter(x=[0, mn_x, 1e3], y=[m_y]*3, text='\\u03B7', textfont={\"size\": font_symbol}, mode='text+lines', showlegend=False, line={'dash':'dash'}, marker = {\"symbol\": \"square\", \"color\": 'silver', \"size\": 35, \"line\": {\"color\": \"black\", \"width\": 0}}), 1, col)\n",
    "        fig.add_trace(go.Scatter(x=[0, mn_x, 1e3], y=[m_y1]*3, text='+\\u03C3', textfont={\"size\": font_symbol}, mode='text', showlegend=False, marker = {\"symbol\": \"square\", \"color\": 'silver', \"size\": 35, \"line\": {\"color\": \"black\", \"width\": 0}}), 1, col)\n",
    "        fig.add_trace(go.Scatter(x=[0, mn_x, 1e3], y=[m_y0]*3, text='-\\u03C3', textfont={\"size\": font_symbol}, mode='text', showlegend=False, marker = {\"symbol\": \"square\", \"color\": 'silver', \"size\": 35, \"line\": {\"color\": \"black\", \"width\": 0}}), 1, col)\n",
    "        fig.add_trace(go.Scatter(x=[0, mn_x, 1e3], y=[m_y1b]*3, text='+2\\u03C3', textfont={\"size\": font_symbol}, mode='text', showlegend=False, marker = {\"symbol\": \"square\", \"color\": 'silver', \"size\": 35, \"line\": {\"color\": \"black\", \"width\": 0}}), 1, col)\n",
    "        fig.add_trace(go.Scatter(x=[0, mn_x, 1e3], y=[m_y0b]*3, text='-2\\u03C3', textfont={\"size\": font_symbol}, mode='text', showlegend=False, marker = {\"symbol\": \"square\", \"color\": 'silver', \"size\": 35, \"line\": {\"color\": \"black\", \"width\": 0}}), 1, col)\n",
    "        fig.add_trace(go.Scatter(x=[-1e3, 1e3, 1e3, -1e3], y=[m_y0, m_y0, m_y1, m_y1], fillcolor='silver', line={'color':'silver'}, showlegend=False, fill='toself', opacity=0.25), 1, col)\n",
    "        fig.add_trace(go.Scatter(x=[-1e3, 1e3, 1e3, -1e3], y=[m_y0b, m_y0b, m_y1b, m_y1b], showlegend=False, fillcolor='silver', line={'color':'silver'}, fill='toself', opacity=0.1), 1, col)\n",
    "\n",
    "        fig.add_trace(go.Scatter(x=[m_x]*3, y=[-1e3, mn_y, 1e3], text='\\u03B7', textfont={\"size\": font_symbol}, mode='text+lines', showlegend=False, line={'dash':'dash'}, marker = {\"symbol\": \"square\", \"color\": 'silver', \"size\": 35, \"line\": {\"color\": \"black\", \"width\": 0}}), 1, col)\n",
    "        fig.add_trace(go.Scatter(x=[m_x1]*3, y=[-1e3, mn_y, 1e3], text='+\\u03C3', textfont={\"size\": font_symbol}, mode='text', showlegend=False, line={'dash':'dash'}, marker = {\"symbol\": \"square\", \"color\": 'silver', \"size\": 35, \"line\": {\"color\": \"black\", \"width\": 0}}), 1, col)\n",
    "        fig.add_trace(go.Scatter(x=[m_x0]*3, y=[-1e3, mn_y, 1e3], text='-\\u03C3', textfont={\"size\": font_symbol}, mode='text', showlegend=False, line={'dash':'dash'}, marker = {\"symbol\": \"square\", \"color\": 'silver', \"size\": 35, \"line\": {\"color\": \"black\", \"width\": 0}}), 1, col)\n",
    "        fig.add_trace(go.Scatter(x=[m_x1b]*3, y=[-1e3, mn_y, 1e3], text='+2\\u03C3', textfont={\"size\": font_symbol}, mode='text', showlegend=False, line={'dash':'dash'}, marker = {\"symbol\": \"square\", \"color\": 'silver', \"size\": 35, \"line\": {\"color\": \"black\", \"width\": 0}}), 1, col)\n",
    "        fig.add_trace(go.Scatter(x=[m_x0b]*3, y=[-1e3, mn_y, 1e3], text='-2\\u03C3', textfont={\"size\": font_symbol}, mode='text', showlegend=False, line={'dash':'dash'}, marker = {\"symbol\": \"square\", \"color\": 'silver', \"size\": 35, \"line\": {\"color\": \"black\", \"width\": 0}}), 1, col)\n",
    "        fig.add_trace(go.Scatter(x=[m_x0, m_x0, m_x1, m_x1], y=[-1e3, 1e3, 1e3, -1e3], fillcolor='silver', line={'color':'silver'}, showlegend=False, fill='toself', opacity=0.25), 1, col)\n",
    "        fig.add_trace(go.Scatter(x=[m_x0b, m_x0b, m_x1b, m_x1b], y=[-1e3, 1e3, 1e3, -1e3], showlegend=False, fillcolor='silver', line={'color':'silver'}, fill='toself', opacity=0.1), 1, col)\n",
    "\n",
    "        # ACTUAL DATA\n",
    "        for m_i, m in enumerate(list_of_models):\n",
    "                for s_i, s in enumerate(settings['scenarios_c400'][1:]):\n",
    "                        fig.add_trace(go.Scatter(x=[var_x.sel(Scenario=\"DIAG-C400-lin\", Model=m), var_x.sel(Scenario=s, Model=m)],\n",
    "                                                y=[var_y.sel(Scenario=\"DIAG-C400-lin\", Model=m), var_y.sel(Scenario=s, Model=m)], name=m,\n",
    "                                                mode='lines+markers',\n",
    "                                                showlegend=False,\n",
    "                                                line={'width': 3, 'dash': 'solid'},\n",
    "                                                text=[\"\", names[s_i]],\n",
    "                                                textfont = dict(color='black',\n",
    "                                                                size=15),\n",
    "                                                marker={\"color\": list_of_colors[m_i],\n",
    "                                                        \"size\": [12, 30],\n",
    "                                                        \"line\": {\"color\": \"black\", \"width\": 0.5}}\n",
    "                                                ), 1, col)\n",
    "\n",
    "        for m_i, m in enumerate(list_of_models):\n",
    "                for s_i, s in enumerate(settings['scenarios_c400'][1:]):\n",
    "                        fig.add_trace(go.Scatter(x=[var_x.sel(Scenario=\"DIAG-C400-lin\", Model=m), var_x.sel(Scenario=s, Model=m)],\n",
    "                                                y=[var_y.sel(Scenario=\"DIAG-C400-lin\", Model=m), var_y.sel(Scenario=s, Model=m)], name=m,\n",
    "                                                mode='text+markers',\n",
    "                                                showlegend=False,\n",
    "                                                text=[\"\", names[s_i]],\n",
    "                                                textfont = dict(color='black',\n",
    "                                                                size=font_annot),\n",
    "                                                marker={\"color\": list_of_colors[m_i],\n",
    "                                                        \"size\": [12, 30],\n",
    "                                                        \"line\": {\"color\": \"black\", \"width\": 0.5}}\n",
    "                                                ), 1, col)\n",
    "\n",
    "        # Dummy for legend\n",
    "        for m_i, m in enumerate(list_of_models):\n",
    "                fig.add_trace(go.Scatter(x=[-1e3],\n",
    "                                        y=[1e3],\n",
    "                                        mode='markers+text',\n",
    "                                        showlegend=[True, False][col_i], line_width=4,\n",
    "                                        name=list_of_model_shortnames[m_i],\n",
    "                                        #text=\"<b>\"+m[0]+\"</b>\",\n",
    "                                        hovertemplate='<b>DIAG-C400-lin</b> <br>'+\"ERT\"+': %{y:.2f} <br>'+\"Carbon capture\"+': %{x:.2f}',\n",
    "                                        marker={\"color\": list_of_colors[m_i],\n",
    "                                                \"size\": 30,\n",
    "                                                \"symbol\": \"square\",\n",
    "                                                \"line\": {\"color\": \"black\", \"width\": 4}}\n",
    "                                        ), 1, col)\n",
    "\n",
    "        for m_i, m in enumerate(list_of_models):\n",
    "                fig.add_trace(go.Scatter(x=[var_x.sel(Scenario=\"DIAG-C400-lin\", Model=m)],\n",
    "                                        y=[var_y.sel(Scenario=\"DIAG-C400-lin\", Model=m)],\n",
    "                                        mode='markers',\n",
    "                                        showlegend=False, line_width=4,\n",
    "                                        name=list_of_model_shortnames[m_i],\n",
    "                                        #text=\"<b>\"+m[0]+\"</b>\",\n",
    "                                        text=\"<b>\"+\"-\"+\"</b>\",\n",
    "                                        hovertemplate='<b>DIAG-C400-lin</b> <br>'+\"ERT\"+': %{y:.2f} <br>'+\"Carbon capture\"+': %{x:.2f}',\n",
    "                                        marker={\"color\": \"black\", #ModelCols_touse[m_i],\n",
    "                                                \"size\": 12,\n",
    "                                                \"symbol\": \"circle\",\n",
    "                                                \"line\": {\"color\": \"black\", \"width\": 4}}\n",
    "                                        ), 1, col)\n",
    "\n",
    "        fig.update_xaxes(row=1, col=col, title=[\"Mitigation speed potential (R<sub>3</sub>)\", 'Carbon Intensity Reduction (M<sub>1</sub>)'][col_i], title_font_size=font_axes, range=[[110, 250], [0.60, 1.2]][col_i])\n",
    "        fig.update_yaxes(row=1, col=col, title=[\"Relative Abatement Index (R<sub>1</sub>)\", 'Energy Intensity Reduction (M<sub>2</sub>)'][col_i], title_font_size=font_axes, range=[[0.60, 1.3], [0.32, 0.70]][col_i])\n",
    "\n",
    "\n",
    "for s_i, s in enumerate(settings['scenarios_c400'][1:]+['DIAG-C400-lin']):\n",
    "        fig.add_trace(go.Scatter(x=[260],\n",
    "                                y=[1.25-s_i*0.03], name=m,\n",
    "                                mode='text+markers',\n",
    "                                showlegend=False,\n",
    "                                text=[names[s_i]],\n",
    "                                textfont = dict(color='black',\n",
    "                                                size=font_annot-10),\n",
    "                                marker={\"color\": 'white',\n",
    "                                        \"size\": 25,\n",
    "                                        \"line\": {\"color\": \"black\", \"width\": 0.5}}\n",
    "                                ), 1, 1)\n",
    "        strin = s[14:]\n",
    "        if s == \"DIAG-C400-lin\": strin = \"DIAG-C400-lin\"\n",
    "        fig.add_annotation(x=260+25, y=1.25-s_i*0.03, text=strin, showarrow=False, align='left', font=dict(size=14))\n",
    "\n",
    "\n",
    "for m_i, m in enumerate(list_of_models):\n",
    "        fig.add_trace(go.Scatter(x=ind_xr.Time,\n",
    "                                y=ind_xr.sel(Indicator = \"R4_sensprim\", Model=m, Scenario='DIAG-C400-lin').Value,\n",
    "                                mode='lines',\n",
    "                                showlegend=False, line_width=4,\n",
    "                                name=list_of_model_shortnames[m_i],\n",
    "                                line = {'color': list_of_colors[m_i]}\n",
    "                                ), 3, 1)\n",
    "fig.update_xaxes(row=3, col=1, title=\"Time (years)\", title_font_size=font_axes, range=[2020, 2100])\n",
    "fig.update_yaxes(row=3, col=1, type=\"log\", title=\"Sensitivity<br>primary energy (R<sub>4</sub>)\", title_font_size=font_axes-5, range=[-6, -2])\n",
    "\n",
    "for m_i, m in enumerate(list_of_models):\n",
    "        fig.add_trace(go.Scatter(x=ind_xr.Time,\n",
    "                                y=ind_xr.sel(Indicator = \"R5_sensdem\", Model=m, Scenario='DIAG-C400-lin').Value,\n",
    "                                mode='lines',\n",
    "                                showlegend=False, line_width=4,\n",
    "                                name=list_of_model_shortnames[m_i],\n",
    "                                line = {'color': list_of_colors[m_i]}\n",
    "                                ), 3, 2)\n",
    "fig.update_xaxes(row=3, col=2, title=\"Time (years)\", title_font_size=font_axes, range=[2020, 2100])\n",
    "fig.update_yaxes(row=3, col=2, type=\"log\", title=\"Sensitivity<br>demand (R<sub>5</sub>)\", title_font_size=font_axes-5, range=[-4, 1])\n",
    "\n",
    "# Panel annotations\n",
    "fig.add_annotation(x=115, y=1.28, text=\"(a)\", showarrow=False, font=dict(size=30), row=1, col=1)\n",
    "fig.add_annotation(x=0.62, y=0.69, text=\"(b)\", showarrow=False, font=dict(size=30), row=1, col=2)\n",
    "fig.add_annotation(x=2023, y=-2.2, text=\"(c)\", showarrow=False, font=dict(size=30), row=3, col=1)\n",
    "fig.add_annotation(x=2023, y=0.8, text=\"(d)\", showarrow=False, font=dict(size=30), row=3, col=2)\n",
    "\n",
    "#fig.update_annotations(font_size=font_annot)\n",
    "fig.update_layout(font_size = 20)\n",
    "fig.update_layout(legend=dict(x=0.04, y=1.1, orientation=\"h\", font_size=18))\n",
    "fig.update_layout(height=1200, width=1800)\n",
    "fig.update_layout(template=\"simple_white\")\n",
    "fig.show()\n",
    "fig.write_image(settings['paths']['figures'] + \"Figure_SI5.png\", scale=4)"
   ]
  }
 ],
 "metadata": {
  "kernelspec": {
   "display_name": "MyEnv",
   "language": "python",
   "name": "python3"
  },
  "language_info": {
   "codemirror_mode": {
    "name": "ipython",
    "version": 3
   },
   "file_extension": ".py",
   "mimetype": "text/x-python",
   "name": "python",
   "nbconvert_exporter": "python",
   "pygments_lexer": "ipython3",
   "version": "3.9.16"
  },
  "orig_nbformat": 4,
  "vscode": {
   "interpreter": {
    "hash": "36d5d389870ab01fa625d0d5123f82469a3683fa0e02c4f7e9e76e9a75345aa3"
   }
  }
 },
 "nbformat": 4,
 "nbformat_minor": 2
}
