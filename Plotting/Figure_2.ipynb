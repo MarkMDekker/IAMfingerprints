{
 "cells": [
  {
   "attachments": {},
   "cell_type": "markdown",
   "metadata": {},
   "source": [
    "## Preambule"
   ]
  },
  {
   "cell_type": "code",
   "execution_count": 2,
   "metadata": {},
   "outputs": [],
   "source": [
    "import numpy as np\n",
    "import pandas as pd\n",
    "import matplotlib.pyplot as plt\n",
    "import matplotlib.patches as pth\n",
    "import xarray as xr\n",
    "from plotly.subplots import make_subplots\n",
    "from tqdm import tqdm\n",
    "import plotly.graph_objects as go\n",
    "from pathlib import Path\n",
    "import yaml"
   ]
  },
  {
   "attachments": {},
   "cell_type": "markdown",
   "metadata": {},
   "source": [
    "## Read"
   ]
  },
  {
   "cell_type": "code",
   "execution_count": 3,
   "metadata": {},
   "outputs": [],
   "source": [
    "with open(\"../Configuration/config.yaml\", \"r\") as stream:\n",
    "    settings = yaml.load(stream, Loader=yaml.Loader)\n",
    "integers_touse = [0, 1, 3, 4, 5, 7, 8, 9]\n",
    "list_of_models = np.array([settings['models'][m]['full_name'] for m in settings['models'].keys()])[integers_touse]\n",
    "list_of_model_shortnames = np.array([settings['models'][m]['short_name'] for m in settings['models'].keys()])[integers_touse]\n",
    "list_of_colors = np.array([settings['models'][m]['color'] for m in settings['models'].keys()])[integers_touse]\n",
    "ind_xr = xr.open_dataset(settings['paths']['data']+\"XRindicators.nc\").sel(Model=list_of_models, Region='Europe')\n",
    "data_xr = xr.open_dataset(settings['paths']['data']+\"XRdata.nc\").sel(Model=list_of_models, Region='Europe')"
   ]
  },
  {
   "attachments": {},
   "cell_type": "markdown",
   "metadata": {},
   "source": [
    "## Check coverage"
   ]
  },
  {
   "cell_type": "code",
   "execution_count": 4,
   "metadata": {},
   "outputs": [
    {
     "name": "stdout",
     "output_type": "stream",
     "text": [
      "Fraction model-scenario coverage: 0.8875\n"
     ]
    }
   ],
   "source": [
    "ar = np.array(data_xr.sel(Variable=\"Emissions|CO2\", Time=2050, Scenario=settings['scenarios_c400']+['DIAG-NPI']).Value).flatten()\n",
    "print(\"Fraction model-scenario coverage:\", len(np.where(~np.isnan(ar))[0])/len(ar))"
   ]
  },
  {
   "attachments": {},
   "cell_type": "markdown",
   "metadata": {},
   "source": [
    "## Now specify to only the c400 scenarios"
   ]
  },
  {
   "cell_type": "code",
   "execution_count": 5,
   "metadata": {},
   "outputs": [],
   "source": [
    "ind_xr = xr.open_dataset(settings['paths']['data']+\"XRindicators.nc\").sel(Scenario=settings['scenarios_c400'], Model=list_of_models, Region='Europe')\n",
    "data_xr = xr.open_dataset(settings['paths']['data']+\"XRdata.nc\").sel(Scenario=settings['scenarios_c400'], Model=list_of_models, Region='Europe')"
   ]
  },
  {
   "attachments": {},
   "cell_type": "markdown",
   "metadata": {},
   "source": [
    "## Plot"
   ]
  },
  {
   "cell_type": "code",
   "execution_count": 6,
   "metadata": {},
   "outputs": [],
   "source": [
    "font_symbol = 18\n",
    "font_axes = 30\n",
    "font_annot = 25\n",
    "names = ['B', 'C', 'N', 'V', 'El', 'H', 'F', 'Ef', '-']"
   ]
  },
  {
   "cell_type": "code",
   "execution_count": 16,
   "metadata": {},
   "outputs": [
    {
     "data": {
      "application/vnd.plotly.v1+json": {
       "config": {
        "plotlyServerURL": "https://plotly.com"
       },
       "data": [
        {
         "line": {
          "dash": "dash"
         },
         "marker": {
          "color": "silver",
          "line": {
           "color": "black",
           "width": 0
          },
          "size": 35,
          "symbol": "square"
         },
         "mode": "text+lines",
         "showlegend": false,
         "text": "η",
         "textfont": {
          "size": 18
         },
         "type": "scatter",
         "x": [
          0,
          113,
          1000
         ],
         "xaxis": "x",
         "y": [
          0.924857275878859,
          0.924857275878859,
          0.924857275878859
         ],
         "yaxis": "y"
        },
        {
         "marker": {
          "color": "silver",
          "line": {
           "color": "black",
           "width": 0
          },
          "size": 35,
          "symbol": "square"
         },
         "mode": "text",
         "showlegend": false,
         "text": "+σ",
         "textfont": {
          "size": 18
         },
         "type": "scatter",
         "x": [
          0,
          113,
          1000
         ],
         "xaxis": "x",
         "y": [
          1.0578822086615138,
          1.0578822086615138,
          1.0578822086615138
         ],
         "yaxis": "y"
        },
        {
         "marker": {
          "color": "silver",
          "line": {
           "color": "black",
           "width": 0
          },
          "size": 35,
          "symbol": "square"
         },
         "mode": "text",
         "showlegend": false,
         "text": "-σ",
         "textfont": {
          "size": 18
         },
         "type": "scatter",
         "x": [
          0,
          113,
          1000
         ],
         "xaxis": "x",
         "y": [
          0.7918323430962041,
          0.7918323430962041,
          0.7918323430962041
         ],
         "yaxis": "y"
        },
        {
         "marker": {
          "color": "silver",
          "line": {
           "color": "black",
           "width": 0
          },
          "size": 35,
          "symbol": "square"
         },
         "mode": "text",
         "showlegend": false,
         "text": "+2σ",
         "textfont": {
          "size": 18
         },
         "type": "scatter",
         "x": [
          0,
          113,
          1000
         ],
         "xaxis": "x",
         "y": [
          1.1909071414441688,
          1.1909071414441688,
          1.1909071414441688
         ],
         "yaxis": "y"
        },
        {
         "marker": {
          "color": "silver",
          "line": {
           "color": "black",
           "width": 0
          },
          "size": 35,
          "symbol": "square"
         },
         "mode": "text",
         "showlegend": false,
         "text": "-2σ",
         "textfont": {
          "size": 18
         },
         "type": "scatter",
         "x": [
          0,
          113,
          1000
         ],
         "xaxis": "x",
         "y": [
          0.6588074103135493,
          0.6588074103135493,
          0.6588074103135493
         ],
         "yaxis": "y"
        },
        {
         "fill": "toself",
         "fillcolor": "silver",
         "line": {
          "color": "silver"
         },
         "opacity": 0.25,
         "showlegend": false,
         "type": "scatter",
         "x": [
          -1000,
          1000,
          1000,
          -1000
         ],
         "xaxis": "x",
         "y": [
          0.7918323430962041,
          0.7918323430962041,
          1.0578822086615138,
          1.0578822086615138
         ],
         "yaxis": "y"
        },
        {
         "fill": "toself",
         "fillcolor": "silver",
         "line": {
          "color": "silver"
         },
         "opacity": 0.1,
         "showlegend": false,
         "type": "scatter",
         "x": [
          -1000,
          1000,
          1000,
          -1000
         ],
         "xaxis": "x",
         "y": [
          0.6588074103135493,
          0.6588074103135493,
          1.1909071414441688,
          1.1909071414441688
         ],
         "yaxis": "y"
        },
        {
         "line": {
          "dash": "dash"
         },
         "marker": {
          "color": "silver",
          "line": {
           "color": "black",
           "width": 0
          },
          "size": 35,
          "symbol": "square"
         },
         "mode": "text+lines",
         "showlegend": false,
         "text": "η",
         "textfont": {
          "size": 18
         },
         "type": "scatter",
         "x": [
          170.3707599496297,
          170.3707599496297,
          170.3707599496297
         ],
         "xaxis": "x",
         "y": [
          -1000,
          0.61,
          1000
         ],
         "yaxis": "y"
        },
        {
         "line": {
          "dash": "dash"
         },
         "marker": {
          "color": "silver",
          "line": {
           "color": "black",
           "width": 0
          },
          "size": 35,
          "symbol": "square"
         },
         "mode": "text",
         "showlegend": false,
         "text": "+σ",
         "textfont": {
          "size": 18
         },
         "type": "scatter",
         "x": [
          195.7006310380211,
          195.7006310380211,
          195.7006310380211
         ],
         "xaxis": "x",
         "y": [
          -1000,
          0.61,
          1000
         ],
         "yaxis": "y"
        },
        {
         "line": {
          "dash": "dash"
         },
         "marker": {
          "color": "silver",
          "line": {
           "color": "black",
           "width": 0
          },
          "size": 35,
          "symbol": "square"
         },
         "mode": "text",
         "showlegend": false,
         "text": "-σ",
         "textfont": {
          "size": 18
         },
         "type": "scatter",
         "x": [
          145.0408888612383,
          145.0408888612383,
          145.0408888612383
         ],
         "xaxis": "x",
         "y": [
          -1000,
          0.61,
          1000
         ],
         "yaxis": "y"
        },
        {
         "line": {
          "dash": "dash"
         },
         "marker": {
          "color": "silver",
          "line": {
           "color": "black",
           "width": 0
          },
          "size": 35,
          "symbol": "square"
         },
         "mode": "text",
         "showlegend": false,
         "text": "+2σ",
         "textfont": {
          "size": 18
         },
         "type": "scatter",
         "x": [
          221.0305021264125,
          221.0305021264125,
          221.0305021264125
         ],
         "xaxis": "x",
         "y": [
          -1000,
          0.61,
          1000
         ],
         "yaxis": "y"
        },
        {
         "line": {
          "dash": "dash"
         },
         "marker": {
          "color": "silver",
          "line": {
           "color": "black",
           "width": 0
          },
          "size": 35,
          "symbol": "square"
         },
         "mode": "text",
         "showlegend": false,
         "text": "-2σ",
         "textfont": {
          "size": 18
         },
         "type": "scatter",
         "x": [
          119.7110177728469,
          119.7110177728469,
          119.7110177728469
         ],
         "xaxis": "x",
         "y": [
          -1000,
          0.61,
          1000
         ],
         "yaxis": "y"
        },
        {
         "fill": "toself",
         "fillcolor": "silver",
         "line": {
          "color": "silver"
         },
         "opacity": 0.25,
         "showlegend": false,
         "type": "scatter",
         "x": [
          145.0408888612383,
          145.0408888612383,
          195.7006310380211,
          195.7006310380211
         ],
         "xaxis": "x",
         "y": [
          -1000,
          1000,
          1000,
          -1000
         ],
         "yaxis": "y"
        },
        {
         "fill": "toself",
         "fillcolor": "silver",
         "line": {
          "color": "silver"
         },
         "opacity": 0.1,
         "showlegend": false,
         "type": "scatter",
         "x": [
          119.7110177728469,
          119.7110177728469,
          221.0305021264125,
          221.0305021264125
         ],
         "xaxis": "x",
         "y": [
          -1000,
          1000,
          1000,
          -1000
         ],
         "yaxis": "y"
        },
        {
         "line": {
          "dash": "solid",
          "width": 3
         },
         "marker": {
          "color": "lightskyblue",
          "line": {
           "color": "black",
           "width": 0.5
          },
          "size": [
           12,
           30
          ]
         },
         "mode": "lines+markers",
         "name": "IMAGE 3.2",
         "showlegend": false,
         "text": [
          "",
          "B"
         ],
         "textfont": {
          "color": "black",
          "size": 15
         },
         "type": "scatter",
         "x": [
          190.09668841559915,
          187.05632900013597
         ],
         "xaxis": "x",
         "y": [
          0.9780084876281253,
          0.8472072374349293
         ],
         "yaxis": "y"
        },
        {
         "line": {
          "dash": "solid",
          "width": 3
         },
         "marker": {
          "color": "lightskyblue",
          "line": {
           "color": "black",
           "width": 0.5
          },
          "size": [
           12,
           30
          ]
         },
         "mode": "lines+markers",
         "name": "IMAGE 3.2",
         "showlegend": false,
         "text": [
          "",
          "C"
         ],
         "textfont": {
          "color": "black",
          "size": 15
         },
         "type": "scatter",
         "x": [
          190.09668841559915,
          190.36455723745757
         ],
         "xaxis": "x",
         "y": [
          0.9780084876281253,
          0.7185796328676486
         ],
         "yaxis": "y"
        },
        {
         "line": {
          "dash": "solid",
          "width": 3
         },
         "marker": {
          "color": "lightskyblue",
          "line": {
           "color": "black",
           "width": 0.5
          },
          "size": [
           12,
           30
          ]
         },
         "mode": "lines+markers",
         "name": "IMAGE 3.2",
         "showlegend": false,
         "text": [
          "",
          "N"
         ],
         "textfont": {
          "color": "black",
          "size": 15
         },
         "type": "scatter",
         "x": [
          190.09668841559915,
          190.52238104892922
         ],
         "xaxis": "x",
         "y": [
          0.9780084876281253,
          0.9851211233085532
         ],
         "yaxis": "y"
        },
        {
         "line": {
          "dash": "solid",
          "width": 3
         },
         "marker": {
          "color": "lightskyblue",
          "line": {
           "color": "black",
           "width": 0.5
          },
          "size": [
           12,
           30
          ]
         },
         "mode": "lines+markers",
         "name": "IMAGE 3.2",
         "showlegend": false,
         "text": [
          "",
          "V"
         ],
         "textfont": {
          "color": "black",
          "size": 15
         },
         "type": "scatter",
         "x": [
          190.09668841559915,
          191.04311612930633
         ],
         "xaxis": "x",
         "y": [
          0.9780084876281253,
          1.022342488849246
         ],
         "yaxis": "y"
        },
        {
         "line": {
          "dash": "solid",
          "width": 3
         },
         "marker": {
          "color": "lightskyblue",
          "line": {
           "color": "black",
           "width": 0.5
          },
          "size": [
           12,
           30
          ]
         },
         "mode": "lines+markers",
         "name": "IMAGE 3.2",
         "showlegend": false,
         "text": [
          "",
          "El"
         ],
         "textfont": {
          "color": "black",
          "size": 15
         },
         "type": "scatter",
         "x": [
          190.09668841559915,
          201.7553086202829
         ],
         "xaxis": "x",
         "y": [
          0.9780084876281253,
          1.0050587065467258
         ],
         "yaxis": "y"
        },
        {
         "line": {
          "dash": "solid",
          "width": 3
         },
         "marker": {
          "color": "lightskyblue",
          "line": {
           "color": "black",
           "width": 0.5
          },
          "size": [
           12,
           30
          ]
         },
         "mode": "lines+markers",
         "name": "IMAGE 3.2",
         "showlegend": false,
         "text": [
          "",
          "H"
         ],
         "textfont": {
          "color": "black",
          "size": 15
         },
         "type": "scatter",
         "x": [
          190.09668841559915,
          191.59291961172153
         ],
         "xaxis": "x",
         "y": [
          0.9780084876281253,
          1.0100635464645795
         ],
         "yaxis": "y"
        },
        {
         "line": {
          "dash": "solid",
          "width": 3
         },
         "marker": {
          "color": "lightskyblue",
          "line": {
           "color": "black",
           "width": 0.5
          },
          "size": [
           12,
           30
          ]
         },
         "mode": "lines+markers",
         "name": "IMAGE 3.2",
         "showlegend": false,
         "text": [
          "",
          "F"
         ],
         "textfont": {
          "color": "black",
          "size": 15
         },
         "type": "scatter",
         "x": [
          190.09668841559915,
          196.05746522909067
         ],
         "xaxis": "x",
         "y": [
          0.9780084876281253,
          1.03684054229396
         ],
         "yaxis": "y"
        },
        {
         "line": {
          "dash": "solid",
          "width": 3
         },
         "marker": {
          "color": "lightskyblue",
          "line": {
           "color": "black",
           "width": 0.5
          },
          "size": [
           12,
           30
          ]
         },
         "mode": "lines+markers",
         "name": "IMAGE 3.2",
         "showlegend": false,
         "text": [
          "",
          "Ef"
         ],
         "textfont": {
          "color": "black",
          "size": 15
         },
         "type": "scatter",
         "x": [
          190.09668841559915,
          189.87689384790156
         ],
         "xaxis": "x",
         "y": [
          0.9780084876281253,
          0.9754602799200762
         ],
         "yaxis": "y"
        },
        {
         "line": {
          "dash": "solid",
          "width": 3
         },
         "marker": {
          "color": "goldenrod",
          "line": {
           "color": "black",
           "width": 0.5
          },
          "size": [
           12,
           30
          ]
         },
         "mode": "lines+markers",
         "name": "PROMETHEUS 1.2",
         "showlegend": false,
         "text": [
          "",
          "B"
         ],
         "textfont": {
          "color": "black",
          "size": 15
         },
         "type": "scatter",
         "x": [
          153.15610230579796,
          152.57126364840587
         ],
         "xaxis": "x",
         "y": [
          0.9162835262952043,
          0.6927444134284753
         ],
         "yaxis": "y"
        },
        {
         "line": {
          "dash": "solid",
          "width": 3
         },
         "marker": {
          "color": "goldenrod",
          "line": {
           "color": "black",
           "width": 0.5
          },
          "size": [
           12,
           30
          ]
         },
         "mode": "lines+markers",
         "name": "PROMETHEUS 1.2",
         "showlegend": false,
         "text": [
          "",
          "C"
         ],
         "textfont": {
          "color": "black",
          "size": 15
         },
         "type": "scatter",
         "x": [
          153.15610230579796,
          153.25382346079186
         ],
         "xaxis": "x",
         "y": [
          0.9162835262952043,
          0.8596924232694546
         ],
         "yaxis": "y"
        },
        {
         "line": {
          "dash": "solid",
          "width": 3
         },
         "marker": {
          "color": "goldenrod",
          "line": {
           "color": "black",
           "width": 0.5
          },
          "size": [
           12,
           30
          ]
         },
         "mode": "lines+markers",
         "name": "PROMETHEUS 1.2",
         "showlegend": false,
         "text": [
          "",
          "N"
         ],
         "textfont": {
          "color": "black",
          "size": 15
         },
         "type": "scatter",
         "x": [
          153.15610230579796,
          154.76329495784012
         ],
         "xaxis": "x",
         "y": [
          0.9162835262952043,
          0.8889259019189703
         ],
         "yaxis": "y"
        },
        {
         "line": {
          "dash": "solid",
          "width": 3
         },
         "marker": {
          "color": "goldenrod",
          "line": {
           "color": "black",
           "width": 0.5
          },
          "size": [
           12,
           30
          ]
         },
         "mode": "lines+markers",
         "name": "PROMETHEUS 1.2",
         "showlegend": false,
         "text": [
          "",
          "V"
         ],
         "textfont": {
          "color": "black",
          "size": 15
         },
         "type": "scatter",
         "x": [
          153.15610230579796,
          154.4748875707403
         ],
         "xaxis": "x",
         "y": [
          0.9162835262952043,
          0.8074425642777444
         ],
         "yaxis": "y"
        },
        {
         "line": {
          "dash": "solid",
          "width": 3
         },
         "marker": {
          "color": "goldenrod",
          "line": {
           "color": "black",
           "width": 0.5
          },
          "size": [
           12,
           30
          ]
         },
         "mode": "lines+markers",
         "name": "PROMETHEUS 1.2",
         "showlegend": false,
         "text": [
          "",
          "El"
         ],
         "textfont": {
          "color": "black",
          "size": 15
         },
         "type": "scatter",
         "x": [
          153.15610230579796,
          158.05987367378566
         ],
         "xaxis": "x",
         "y": [
          0.9162835262952043,
          0.9232083426378687
         ],
         "yaxis": "y"
        },
        {
         "line": {
          "dash": "solid",
          "width": 3
         },
         "marker": {
          "color": "goldenrod",
          "line": {
           "color": "black",
           "width": 0.5
          },
          "size": [
           12,
           30
          ]
         },
         "mode": "lines+markers",
         "name": "PROMETHEUS 1.2",
         "showlegend": false,
         "text": [
          "",
          "H"
         ],
         "textfont": {
          "color": "black",
          "size": 15
         },
         "type": "scatter",
         "x": [
          153.15610230579796,
          null
         ],
         "xaxis": "x",
         "y": [
          0.9162835262952043,
          null
         ],
         "yaxis": "y"
        },
        {
         "line": {
          "dash": "solid",
          "width": 3
         },
         "marker": {
          "color": "goldenrod",
          "line": {
           "color": "black",
           "width": 0.5
          },
          "size": [
           12,
           30
          ]
         },
         "mode": "lines+markers",
         "name": "PROMETHEUS 1.2",
         "showlegend": false,
         "text": [
          "",
          "F"
         ],
         "textfont": {
          "color": "black",
          "size": 15
         },
         "type": "scatter",
         "x": [
          153.15610230579796,
          null
         ],
         "xaxis": "x",
         "y": [
          0.9162835262952043,
          null
         ],
         "yaxis": "y"
        },
        {
         "line": {
          "dash": "solid",
          "width": 3
         },
         "marker": {
          "color": "goldenrod",
          "line": {
           "color": "black",
           "width": 0.5
          },
          "size": [
           12,
           30
          ]
         },
         "mode": "lines+markers",
         "name": "PROMETHEUS 1.2",
         "showlegend": false,
         "text": [
          "",
          "Ef"
         ],
         "textfont": {
          "color": "black",
          "size": 15
         },
         "type": "scatter",
         "x": [
          153.15610230579796,
          154.00602234340568
         ],
         "xaxis": "x",
         "y": [
          0.9162835262952043,
          0.924857275878859
         ],
         "yaxis": "y"
        },
        {
         "line": {
          "dash": "solid",
          "width": 3
         },
         "marker": {
          "color": "tomato",
          "line": {
           "color": "black",
           "width": 0.5
          },
          "size": [
           12,
           30
          ]
         },
         "mode": "lines+markers",
         "name": "REMIND 2.1",
         "showlegend": false,
         "text": [
          "",
          "B"
         ],
         "textfont": {
          "color": "black",
          "size": 15
         },
         "type": "scatter",
         "x": [
          180.78106000000025,
          172.83220000000028
         ],
         "xaxis": "x",
         "y": [
          1.1754351148627167,
          0.9505513493163282
         ],
         "yaxis": "y"
        },
        {
         "line": {
          "dash": "solid",
          "width": 3
         },
         "marker": {
          "color": "tomato",
          "line": {
           "color": "black",
           "width": 0.5
          },
          "size": [
           12,
           30
          ]
         },
         "mode": "lines+markers",
         "name": "REMIND 2.1",
         "showlegend": false,
         "text": [
          "",
          "C"
         ],
         "textfont": {
          "color": "black",
          "size": 15
         },
         "type": "scatter",
         "x": [
          180.78106000000025,
          179.1288800000002
         ],
         "xaxis": "x",
         "y": [
          1.1754351148627167,
          1.0070930596715244
         ],
         "yaxis": "y"
        },
        {
         "line": {
          "dash": "solid",
          "width": 3
         },
         "marker": {
          "color": "tomato",
          "line": {
           "color": "black",
           "width": 0.5
          },
          "size": [
           12,
           30
          ]
         },
         "mode": "lines+markers",
         "name": "REMIND 2.1",
         "showlegend": false,
         "text": [
          "",
          "N"
         ],
         "textfont": {
          "color": "black",
          "size": 15
         },
         "type": "scatter",
         "x": [
          180.78106000000025,
          181.05764000000045
         ],
         "xaxis": "x",
         "y": [
          1.1754351148627167,
          1.1766300579607274
         ],
         "yaxis": "y"
        },
        {
         "line": {
          "dash": "solid",
          "width": 3
         },
         "marker": {
          "color": "tomato",
          "line": {
           "color": "black",
           "width": 0.5
          },
          "size": [
           12,
           30
          ]
         },
         "mode": "lines+markers",
         "name": "REMIND 2.1",
         "showlegend": false,
         "text": [
          "",
          "V"
         ],
         "textfont": {
          "color": "black",
          "size": 15
         },
         "type": "scatter",
         "x": [
          180.78106000000025,
          182.0649000000003
         ],
         "xaxis": "x",
         "y": [
          1.1754351148627167,
          1.1809849264778067
         ],
         "yaxis": "y"
        },
        {
         "line": {
          "dash": "solid",
          "width": 3
         },
         "marker": {
          "color": "tomato",
          "line": {
           "color": "black",
           "width": 0.5
          },
          "size": [
           12,
           30
          ]
         },
         "mode": "lines+markers",
         "name": "REMIND 2.1",
         "showlegend": false,
         "text": [
          "",
          "El"
         ],
         "textfont": {
          "color": "black",
          "size": 15
         },
         "type": "scatter",
         "x": [
          180.78106000000025,
          185.3829400000002
         ],
         "xaxis": "x",
         "y": [
          1.1754351148627167,
          1.1873239710674446
         ],
         "yaxis": "y"
        },
        {
         "line": {
          "dash": "solid",
          "width": 3
         },
         "marker": {
          "color": "tomato",
          "line": {
           "color": "black",
           "width": 0.5
          },
          "size": [
           12,
           30
          ]
         },
         "mode": "lines+markers",
         "name": "REMIND 2.1",
         "showlegend": false,
         "text": [
          "",
          "H"
         ],
         "textfont": {
          "color": "black",
          "size": 15
         },
         "type": "scatter",
         "x": [
          180.78106000000025,
          184.06916
         ],
         "xaxis": "x",
         "y": [
          1.1754351148627167,
          1.2062851083870267
         ],
         "yaxis": "y"
        },
        {
         "line": {
          "dash": "solid",
          "width": 3
         },
         "marker": {
          "color": "tomato",
          "line": {
           "color": "black",
           "width": 0.5
          },
          "size": [
           12,
           30
          ]
         },
         "mode": "lines+markers",
         "name": "REMIND 2.1",
         "showlegend": false,
         "text": [
          "",
          "F"
         ],
         "textfont": {
          "color": "black",
          "size": 15
         },
         "type": "scatter",
         "x": [
          180.78106000000025,
          228.04064000000017
         ],
         "xaxis": "x",
         "y": [
          1.1754351148627167,
          1.1362984392398465
         ],
         "yaxis": "y"
        },
        {
         "line": {
          "dash": "solid",
          "width": 3
         },
         "marker": {
          "color": "tomato",
          "line": {
           "color": "black",
           "width": 0.5
          },
          "size": [
           12,
           30
          ]
         },
         "mode": "lines+markers",
         "name": "REMIND 2.1",
         "showlegend": false,
         "text": [
          "",
          "Ef"
         ],
         "textfont": {
          "color": "black",
          "size": 15
         },
         "type": "scatter",
         "x": [
          180.78106000000025,
          189.19750000000022
         ],
         "xaxis": "x",
         "y": [
          1.1754351148627167,
          1.2157297547963026
         ],
         "yaxis": "y"
        },
        {
         "line": {
          "dash": "solid",
          "width": 3
         },
         "marker": {
          "color": "forestgreen",
          "line": {
           "color": "black",
           "width": 0.5
          },
          "size": [
           12,
           30
          ]
         },
         "mode": "lines+markers",
         "name": "WITCH 5.0",
         "showlegend": false,
         "text": [
          "",
          "B"
         ],
         "textfont": {
          "color": "black",
          "size": 15
         },
         "type": "scatter",
         "x": [
          200.8516956749222,
          200.96621516416417
         ],
         "xaxis": "x",
         "y": [
          0.8754224366316201,
          0.7902714806612379
         ],
         "yaxis": "y"
        },
        {
         "line": {
          "dash": "solid",
          "width": 3
         },
         "marker": {
          "color": "forestgreen",
          "line": {
           "color": "black",
           "width": 0.5
          },
          "size": [
           12,
           30
          ]
         },
         "mode": "lines+markers",
         "name": "WITCH 5.0",
         "showlegend": false,
         "text": [
          "",
          "C"
         ],
         "textfont": {
          "color": "black",
          "size": 15
         },
         "type": "scatter",
         "x": [
          200.8516956749222,
          217.15515194749196
         ],
         "xaxis": "x",
         "y": [
          0.8754224366316201,
          0.6126542520689606
         ],
         "yaxis": "y"
        },
        {
         "line": {
          "dash": "solid",
          "width": 3
         },
         "marker": {
          "color": "forestgreen",
          "line": {
           "color": "black",
           "width": 0.5
          },
          "size": [
           12,
           30
          ]
         },
         "mode": "lines+markers",
         "name": "WITCH 5.0",
         "showlegend": false,
         "text": [
          "",
          "N"
         ],
         "textfont": {
          "color": "black",
          "size": 15
         },
         "type": "scatter",
         "x": [
          200.8516956749222,
          202.10723190669614
         ],
         "xaxis": "x",
         "y": [
          0.8754224366316201,
          0.8755631446526075
         ],
         "yaxis": "y"
        },
        {
         "line": {
          "dash": "solid",
          "width": 3
         },
         "marker": {
          "color": "forestgreen",
          "line": {
           "color": "black",
           "width": 0.5
          },
          "size": [
           12,
           30
          ]
         },
         "mode": "lines+markers",
         "name": "WITCH 5.0",
         "showlegend": false,
         "text": [
          "",
          "V"
         ],
         "textfont": {
          "color": "black",
          "size": 15
         },
         "type": "scatter",
         "x": [
          200.8516956749222,
          200.80993279271797
         ],
         "xaxis": "x",
         "y": [
          0.8754224366316201,
          0.8753647169033668
         ],
         "yaxis": "y"
        },
        {
         "line": {
          "dash": "solid",
          "width": 3
         },
         "marker": {
          "color": "forestgreen",
          "line": {
           "color": "black",
           "width": 0.5
          },
          "size": [
           12,
           30
          ]
         },
         "mode": "lines+markers",
         "name": "WITCH 5.0",
         "showlegend": false,
         "text": [
          "",
          "El"
         ],
         "textfont": {
          "color": "black",
          "size": 15
         },
         "type": "scatter",
         "x": [
          200.8516956749222,
          226.3859281075861
         ],
         "xaxis": "x",
         "y": [
          0.8754224366316201,
          1.0932660280355457
         ],
         "yaxis": "y"
        },
        {
         "line": {
          "dash": "solid",
          "width": 3
         },
         "marker": {
          "color": "forestgreen",
          "line": {
           "color": "black",
           "width": 0.5
          },
          "size": [
           12,
           30
          ]
         },
         "mode": "lines+markers",
         "name": "WITCH 5.0",
         "showlegend": false,
         "text": [
          "",
          "H"
         ],
         "textfont": {
          "color": "black",
          "size": 15
         },
         "type": "scatter",
         "x": [
          200.8516956749222,
          200.93257848087796
         ],
         "xaxis": "x",
         "y": [
          0.8754224366316201,
          0.8750940978773719
         ],
         "yaxis": "y"
        },
        {
         "line": {
          "dash": "solid",
          "width": 3
         },
         "marker": {
          "color": "forestgreen",
          "line": {
           "color": "black",
           "width": 0.5
          },
          "size": [
           12,
           30
          ]
         },
         "mode": "lines+markers",
         "name": "WITCH 5.0",
         "showlegend": false,
         "text": [
          "",
          "F"
         ],
         "textfont": {
          "color": "black",
          "size": 15
         },
         "type": "scatter",
         "x": [
          200.8516956749222,
          null
         ],
         "xaxis": "x",
         "y": [
          0.8754224366316201,
          null
         ],
         "yaxis": "y"
        },
        {
         "line": {
          "dash": "solid",
          "width": 3
         },
         "marker": {
          "color": "forestgreen",
          "line": {
           "color": "black",
           "width": 0.5
          },
          "size": [
           12,
           30
          ]
         },
         "mode": "lines+markers",
         "name": "WITCH 5.0",
         "showlegend": false,
         "text": [
          "",
          "Ef"
         ],
         "textfont": {
          "color": "black",
          "size": 15
         },
         "type": "scatter",
         "x": [
          200.8516956749222,
          200.08589334717817
         ],
         "xaxis": "x",
         "y": [
          0.8754224366316201,
          0.8553232403824472
         ],
         "yaxis": "y"
        },
        {
         "line": {
          "dash": "solid",
          "width": 3
         },
         "marker": {
          "color": "darkgrey",
          "line": {
           "color": "black",
           "width": 0.5
          },
          "size": [
           12,
           30
          ]
         },
         "mode": "lines+markers",
         "name": "Euro-Calliope 2.0",
         "showlegend": false,
         "text": [
          "",
          "B"
         ],
         "textfont": {
          "color": "black",
          "size": 15
         },
         "type": "scatter",
         "x": [
          167.77213644825633,
          167.77213644825633
         ],
         "xaxis": "x",
         "y": [
          0.9996545960963845,
          0.9996545960963845
         ],
         "yaxis": "y"
        },
        {
         "line": {
          "dash": "solid",
          "width": 3
         },
         "marker": {
          "color": "darkgrey",
          "line": {
           "color": "black",
           "width": 0.5
          },
          "size": [
           12,
           30
          ]
         },
         "mode": "lines+markers",
         "name": "Euro-Calliope 2.0",
         "showlegend": false,
         "text": [
          "",
          "C"
         ],
         "textfont": {
          "color": "black",
          "size": 15
         },
         "type": "scatter",
         "x": [
          167.77213644825633,
          167.77213644825633
         ],
         "xaxis": "x",
         "y": [
          0.9996545960963845,
          0.9996545960963845
         ],
         "yaxis": "y"
        },
        {
         "line": {
          "dash": "solid",
          "width": 3
         },
         "marker": {
          "color": "darkgrey",
          "line": {
           "color": "black",
           "width": 0.5
          },
          "size": [
           12,
           30
          ]
         },
         "mode": "lines+markers",
         "name": "Euro-Calliope 2.0",
         "showlegend": false,
         "text": [
          "",
          "N"
         ],
         "textfont": {
          "color": "black",
          "size": 15
         },
         "type": "scatter",
         "x": [
          167.77213644825633,
          158.79459620063153
         ],
         "xaxis": "x",
         "y": [
          0.9996545960963845,
          0.9995761437571783
         ],
         "yaxis": "y"
        },
        {
         "line": {
          "dash": "solid",
          "width": 3
         },
         "marker": {
          "color": "darkgrey",
          "line": {
           "color": "black",
           "width": 0.5
          },
          "size": [
           12,
           30
          ]
         },
         "mode": "lines+markers",
         "name": "Euro-Calliope 2.0",
         "showlegend": false,
         "text": [
          "",
          "V"
         ],
         "textfont": {
          "color": "black",
          "size": 15
         },
         "type": "scatter",
         "x": [
          167.77213644825633,
          167.77213644825633
         ],
         "xaxis": "x",
         "y": [
          0.9996545960963845,
          0.99965689648285
         ],
         "yaxis": "y"
        },
        {
         "line": {
          "dash": "solid",
          "width": 3
         },
         "marker": {
          "color": "darkgrey",
          "line": {
           "color": "black",
           "width": 0.5
          },
          "size": [
           12,
           30
          ]
         },
         "mode": "lines+markers",
         "name": "Euro-Calliope 2.0",
         "showlegend": false,
         "text": [
          "",
          "El"
         ],
         "textfont": {
          "color": "black",
          "size": 15
         },
         "type": "scatter",
         "x": [
          167.77213644825633,
          188.30106930401053
         ],
         "xaxis": "x",
         "y": [
          0.9996545960963845,
          0.9999870515314768
         ],
         "yaxis": "y"
        },
        {
         "line": {
          "dash": "solid",
          "width": 3
         },
         "marker": {
          "color": "darkgrey",
          "line": {
           "color": "black",
           "width": 0.5
          },
          "size": [
           12,
           30
          ]
         },
         "mode": "lines+markers",
         "name": "Euro-Calliope 2.0",
         "showlegend": false,
         "text": [
          "",
          "H"
         ],
         "textfont": {
          "color": "black",
          "size": 15
         },
         "type": "scatter",
         "x": [
          167.77213644825633,
          216.33695365293136
         ],
         "xaxis": "x",
         "y": [
          0.9996545960963845,
          0.9996763174485367
         ],
         "yaxis": "y"
        },
        {
         "line": {
          "dash": "solid",
          "width": 3
         },
         "marker": {
          "color": "darkgrey",
          "line": {
           "color": "black",
           "width": 0.5
          },
          "size": [
           12,
           30
          ]
         },
         "mode": "lines+markers",
         "name": "Euro-Calliope 2.0",
         "showlegend": false,
         "text": [
          "",
          "F"
         ],
         "textfont": {
          "color": "black",
          "size": 15
         },
         "type": "scatter",
         "x": [
          167.77213644825633,
          167.77213644825633
         ],
         "xaxis": "x",
         "y": [
          0.9996545960963845,
          0.9996522073927185
         ],
         "yaxis": "y"
        },
        {
         "line": {
          "dash": "solid",
          "width": 3
         },
         "marker": {
          "color": "darkgrey",
          "line": {
           "color": "black",
           "width": 0.5
          },
          "size": [
           12,
           30
          ]
         },
         "mode": "lines+markers",
         "name": "Euro-Calliope 2.0",
         "showlegend": false,
         "text": [
          "",
          "Ef"
         ],
         "textfont": {
          "color": "black",
          "size": 15
         },
         "type": "scatter",
         "x": [
          167.77213644825633,
          167.77213644825633
         ],
         "xaxis": "x",
         "y": [
          0.9996545960963845,
          0.9996539478395121
         ],
         "yaxis": "y"
        },
        {
         "line": {
          "dash": "solid",
          "width": 3
         },
         "marker": {
          "color": "royalblue",
          "line": {
           "color": "black",
           "width": 0.5
          },
          "size": [
           12,
           30
          ]
         },
         "mode": "lines+markers",
         "name": "TIAM-ECN 1.2",
         "showlegend": false,
         "text": [
          "",
          "B"
         ],
         "textfont": {
          "color": "black",
          "size": 15
         },
         "type": "scatter",
         "x": [
          120.30938000000015,
          119.34994000000006
         ],
         "xaxis": "x",
         "y": [
          0.7139295144284236,
          0.6877121987700868
         ],
         "yaxis": "y"
        },
        {
         "line": {
          "dash": "solid",
          "width": 3
         },
         "marker": {
          "color": "royalblue",
          "line": {
           "color": "black",
           "width": 0.5
          },
          "size": [
           12,
           30
          ]
         },
         "mode": "lines+markers",
         "name": "TIAM-ECN 1.2",
         "showlegend": false,
         "text": [
          "",
          "C"
         ],
         "textfont": {
          "color": "black",
          "size": 15
         },
         "type": "scatter",
         "x": [
          120.30938000000015,
          115.67064000000028
         ],
         "xaxis": "x",
         "y": [
          0.7139295144284236,
          0.7244450782161223
         ],
         "yaxis": "y"
        },
        {
         "line": {
          "dash": "solid",
          "width": 3
         },
         "marker": {
          "color": "royalblue",
          "line": {
           "color": "black",
           "width": 0.5
          },
          "size": [
           12,
           30
          ]
         },
         "mode": "lines+markers",
         "name": "TIAM-ECN 1.2",
         "showlegend": false,
         "text": [
          "",
          "N"
         ],
         "textfont": {
          "color": "black",
          "size": 15
         },
         "type": "scatter",
         "x": [
          120.30938000000015,
          139.92866000000026
         ],
         "xaxis": "x",
         "y": [
          0.7139295144284236,
          0.7078641438076159
         ],
         "yaxis": "y"
        },
        {
         "line": {
          "dash": "solid",
          "width": 3
         },
         "marker": {
          "color": "royalblue",
          "line": {
           "color": "black",
           "width": 0.5
          },
          "size": [
           12,
           30
          ]
         },
         "mode": "lines+markers",
         "name": "TIAM-ECN 1.2",
         "showlegend": false,
         "text": [
          "",
          "V"
         ],
         "textfont": {
          "color": "black",
          "size": 15
         },
         "type": "scatter",
         "x": [
          120.30938000000015,
          118.17586000000028
         ],
         "xaxis": "x",
         "y": [
          0.7139295144284236,
          0.7228208798490314
         ],
         "yaxis": "y"
        },
        {
         "line": {
          "dash": "solid",
          "width": 3
         },
         "marker": {
          "color": "royalblue",
          "line": {
           "color": "black",
           "width": 0.5
          },
          "size": [
           12,
           30
          ]
         },
         "mode": "lines+markers",
         "name": "TIAM-ECN 1.2",
         "showlegend": false,
         "text": [
          "",
          "El"
         ],
         "textfont": {
          "color": "black",
          "size": 15
         },
         "type": "scatter",
         "x": [
          120.30938000000015,
          null
         ],
         "xaxis": "x",
         "y": [
          0.7139295144284236,
          null
         ],
         "yaxis": "y"
        },
        {
         "line": {
          "dash": "solid",
          "width": 3
         },
         "marker": {
          "color": "royalblue",
          "line": {
           "color": "black",
           "width": 0.5
          },
          "size": [
           12,
           30
          ]
         },
         "mode": "lines+markers",
         "name": "TIAM-ECN 1.2",
         "showlegend": false,
         "text": [
          "",
          "H"
         ],
         "textfont": {
          "color": "black",
          "size": 15
         },
         "type": "scatter",
         "x": [
          120.30938000000015,
          null
         ],
         "xaxis": "x",
         "y": [
          0.7139295144284236,
          null
         ],
         "yaxis": "y"
        },
        {
         "line": {
          "dash": "solid",
          "width": 3
         },
         "marker": {
          "color": "royalblue",
          "line": {
           "color": "black",
           "width": 0.5
          },
          "size": [
           12,
           30
          ]
         },
         "mode": "lines+markers",
         "name": "TIAM-ECN 1.2",
         "showlegend": false,
         "text": [
          "",
          "F"
         ],
         "textfont": {
          "color": "black",
          "size": 15
         },
         "type": "scatter",
         "x": [
          120.30938000000015,
          null
         ],
         "xaxis": "x",
         "y": [
          0.7139295144284236,
          null
         ],
         "yaxis": "y"
        },
        {
         "line": {
          "dash": "solid",
          "width": 3
         },
         "marker": {
          "color": "royalblue",
          "line": {
           "color": "black",
           "width": 0.5
          },
          "size": [
           12,
           30
          ]
         },
         "mode": "lines+markers",
         "name": "TIAM-ECN 1.2",
         "showlegend": false,
         "text": [
          "",
          "Ef"
         ],
         "textfont": {
          "color": "black",
          "size": 15
         },
         "type": "scatter",
         "x": [
          120.30938000000015,
          null
         ],
         "xaxis": "x",
         "y": [
          0.7139295144284236,
          null
         ],
         "yaxis": "y"
        },
        {
         "line": {
          "dash": "solid",
          "width": 3
         },
         "marker": {
          "color": "purple",
          "line": {
           "color": "black",
           "width": 0.5
          },
          "size": [
           12,
           30
          ]
         },
         "mode": "lines+markers",
         "name": "MESSAGEix-GLOBIOM 1.2",
         "showlegend": false,
         "text": [
          "",
          "B"
         ],
         "textfont": {
          "color": "black",
          "size": 15
         },
         "type": "scatter",
         "x": [
          170.61919135807875,
          168.3181968516799
         ],
         "xaxis": "x",
         "y": [
          0.862218374011189,
          0.8512739606315562
         ],
         "yaxis": "y"
        },
        {
         "line": {
          "dash": "solid",
          "width": 3
         },
         "marker": {
          "color": "purple",
          "line": {
           "color": "black",
           "width": 0.5
          },
          "size": [
           12,
           30
          ]
         },
         "mode": "lines+markers",
         "name": "MESSAGEix-GLOBIOM 1.2",
         "showlegend": false,
         "text": [
          "",
          "C"
         ],
         "textfont": {
          "color": "black",
          "size": 15
         },
         "type": "scatter",
         "x": [
          170.61919135807875,
          169.72546002860418
         ],
         "xaxis": "x",
         "y": [
          0.862218374011189,
          0.8629454612803449
         ],
         "yaxis": "y"
        },
        {
         "line": {
          "dash": "solid",
          "width": 3
         },
         "marker": {
          "color": "purple",
          "line": {
           "color": "black",
           "width": 0.5
          },
          "size": [
           12,
           30
          ]
         },
         "mode": "lines+markers",
         "name": "MESSAGEix-GLOBIOM 1.2",
         "showlegend": false,
         "text": [
          "",
          "N"
         ],
         "textfont": {
          "color": "black",
          "size": 15
         },
         "type": "scatter",
         "x": [
          170.61919135807875,
          168.79696353550753
         ],
         "xaxis": "x",
         "y": [
          0.862218374011189,
          0.8610710735687075
         ],
         "yaxis": "y"
        },
        {
         "line": {
          "dash": "solid",
          "width": 3
         },
         "marker": {
          "color": "purple",
          "line": {
           "color": "black",
           "width": 0.5
          },
          "size": [
           12,
           30
          ]
         },
         "mode": "lines+markers",
         "name": "MESSAGEix-GLOBIOM 1.2",
         "showlegend": false,
         "text": [
          "",
          "V"
         ],
         "textfont": {
          "color": "black",
          "size": 15
         },
         "type": "scatter",
         "x": [
          170.61919135807875,
          170.23200616110717
         ],
         "xaxis": "x",
         "y": [
          0.862218374011189,
          0.8710454277076423
         ],
         "yaxis": "y"
        },
        {
         "line": {
          "dash": "solid",
          "width": 3
         },
         "marker": {
          "color": "purple",
          "line": {
           "color": "black",
           "width": 0.5
          },
          "size": [
           12,
           30
          ]
         },
         "mode": "lines+markers",
         "name": "MESSAGEix-GLOBIOM 1.2",
         "showlegend": false,
         "text": [
          "",
          "El"
         ],
         "textfont": {
          "color": "black",
          "size": 15
         },
         "type": "scatter",
         "x": [
          170.61919135807875,
          175.06032055811784
         ],
         "xaxis": "x",
         "y": [
          0.862218374011189,
          0.8911972160439676
         ],
         "yaxis": "y"
        },
        {
         "line": {
          "dash": "solid",
          "width": 3
         },
         "marker": {
          "color": "purple",
          "line": {
           "color": "black",
           "width": 0.5
          },
          "size": [
           12,
           30
          ]
         },
         "mode": "lines+markers",
         "name": "MESSAGEix-GLOBIOM 1.2",
         "showlegend": false,
         "text": [
          "",
          "H"
         ],
         "textfont": {
          "color": "black",
          "size": 15
         },
         "type": "scatter",
         "x": [
          170.61919135807875,
          168.11944649111547
         ],
         "xaxis": "x",
         "y": [
          0.862218374011189,
          0.8565501224955973
         ],
         "yaxis": "y"
        },
        {
         "line": {
          "dash": "solid",
          "width": 3
         },
         "marker": {
          "color": "purple",
          "line": {
           "color": "black",
           "width": 0.5
          },
          "size": [
           12,
           30
          ]
         },
         "mode": "lines+markers",
         "name": "MESSAGEix-GLOBIOM 1.2",
         "showlegend": false,
         "text": [
          "",
          "F"
         ],
         "textfont": {
          "color": "black",
          "size": 15
         },
         "type": "scatter",
         "x": [
          170.61919135807875,
          223.6294529214165
         ],
         "xaxis": "x",
         "y": [
          0.862218374011189,
          0.9104490793644738
         ],
         "yaxis": "y"
        },
        {
         "line": {
          "dash": "solid",
          "width": 3
         },
         "marker": {
          "color": "purple",
          "line": {
           "color": "black",
           "width": 0.5
          },
          "size": [
           12,
           30
          ]
         },
         "mode": "lines+markers",
         "name": "MESSAGEix-GLOBIOM 1.2",
         "showlegend": false,
         "text": [
          "",
          "Ef"
         ],
         "textfont": {
          "color": "black",
          "size": 15
         },
         "type": "scatter",
         "x": [
          170.61919135807875,
          170.3707599496297
         ],
         "xaxis": "x",
         "y": [
          0.862218374011189,
          0.8624750376052951
         ],
         "yaxis": "y"
        },
        {
         "line": {
          "dash": "solid",
          "width": 3
         },
         "marker": {
          "color": "palegreen",
          "line": {
           "color": "black",
           "width": 0.5
          },
          "size": [
           12,
           30
          ]
         },
         "mode": "lines+markers",
         "name": "PRIMES 2022",
         "showlegend": false,
         "text": [
          "",
          "B"
         ],
         "textfont": {
          "color": "black",
          "size": 15
         },
         "type": "scatter",
         "x": [
          150.3584051058233,
          150.2874954799886
         ],
         "xaxis": "x",
         "y": [
          0.9402672263099785,
          0.9226164535040409
         ],
         "yaxis": "y"
        },
        {
         "line": {
          "dash": "solid",
          "width": 3
         },
         "marker": {
          "color": "palegreen",
          "line": {
           "color": "black",
           "width": 0.5
          },
          "size": [
           12,
           30
          ]
         },
         "mode": "lines+markers",
         "name": "PRIMES 2022",
         "showlegend": false,
         "text": [
          "",
          "C"
         ],
         "textfont": {
          "color": "black",
          "size": 15
         },
         "type": "scatter",
         "x": [
          150.3584051058233,
          149.43764597256632
         ],
         "xaxis": "x",
         "y": [
          0.9402672263099785,
          0.8626522877049786
         ],
         "yaxis": "y"
        },
        {
         "line": {
          "dash": "solid",
          "width": 3
         },
         "marker": {
          "color": "palegreen",
          "line": {
           "color": "black",
           "width": 0.5
          },
          "size": [
           12,
           30
          ]
         },
         "mode": "lines+markers",
         "name": "PRIMES 2022",
         "showlegend": false,
         "text": [
          "",
          "N"
         ],
         "textfont": {
          "color": "black",
          "size": 15
         },
         "type": "scatter",
         "x": [
          150.3584051058233,
          148.08713959367697
         ],
         "xaxis": "x",
         "y": [
          0.9402672263099785,
          0.9351028708137287
         ],
         "yaxis": "y"
        },
        {
         "line": {
          "dash": "solid",
          "width": 3
         },
         "marker": {
          "color": "palegreen",
          "line": {
           "color": "black",
           "width": 0.5
          },
          "size": [
           12,
           30
          ]
         },
         "mode": "lines+markers",
         "name": "PRIMES 2022",
         "showlegend": false,
         "text": [
          "",
          "V"
         ],
         "textfont": {
          "color": "black",
          "size": 15
         },
         "type": "scatter",
         "x": [
          150.3584051058233,
          null
         ],
         "xaxis": "x",
         "y": [
          0.9402672263099785,
          null
         ],
         "yaxis": "y"
        },
        {
         "line": {
          "dash": "solid",
          "width": 3
         },
         "marker": {
          "color": "palegreen",
          "line": {
           "color": "black",
           "width": 0.5
          },
          "size": [
           12,
           30
          ]
         },
         "mode": "lines+markers",
         "name": "PRIMES 2022",
         "showlegend": false,
         "text": [
          "",
          "El"
         ],
         "textfont": {
          "color": "black",
          "size": 15
         },
         "type": "scatter",
         "x": [
          150.3584051058233,
          152.01075355918397
         ],
         "xaxis": "x",
         "y": [
          0.9402672263099785,
          0.9397270270553081
         ],
         "yaxis": "y"
        },
        {
         "line": {
          "dash": "solid",
          "width": 3
         },
         "marker": {
          "color": "palegreen",
          "line": {
           "color": "black",
           "width": 0.5
          },
          "size": [
           12,
           30
          ]
         },
         "mode": "lines+markers",
         "name": "PRIMES 2022",
         "showlegend": false,
         "text": [
          "",
          "H"
         ],
         "textfont": {
          "color": "black",
          "size": 15
         },
         "type": "scatter",
         "x": [
          150.3584051058233,
          153.60363395968034
         ],
         "xaxis": "x",
         "y": [
          0.9402672263099785,
          0.939621654727886
         ],
         "yaxis": "y"
        },
        {
         "line": {
          "dash": "solid",
          "width": 3
         },
         "marker": {
          "color": "palegreen",
          "line": {
           "color": "black",
           "width": 0.5
          },
          "size": [
           12,
           30
          ]
         },
         "mode": "lines+markers",
         "name": "PRIMES 2022",
         "showlegend": false,
         "text": [
          "",
          "F"
         ],
         "textfont": {
          "color": "black",
          "size": 15
         },
         "type": "scatter",
         "x": [
          150.3584051058233,
          null
         ],
         "xaxis": "x",
         "y": [
          0.9402672263099785,
          null
         ],
         "yaxis": "y"
        },
        {
         "line": {
          "dash": "solid",
          "width": 3
         },
         "marker": {
          "color": "palegreen",
          "line": {
           "color": "black",
           "width": 0.5
          },
          "size": [
           12,
           30
          ]
         },
         "mode": "lines+markers",
         "name": "PRIMES 2022",
         "showlegend": false,
         "text": [
          "",
          "Ef"
         ],
         "textfont": {
          "color": "black",
          "size": 15
         },
         "type": "scatter",
         "x": [
          150.3584051058233,
          161.58528211112116
         ],
         "xaxis": "x",
         "y": [
          0.9402672263099785,
          0.945458072149441
         ],
         "yaxis": "y"
        },
        {
         "marker": {
          "color": "lightskyblue",
          "line": {
           "color": "black",
           "width": 0.5
          },
          "size": [
           12,
           30
          ]
         },
         "mode": "text+markers",
         "name": "IMAGE 3.2",
         "showlegend": false,
         "text": [
          "",
          "B"
         ],
         "textfont": {
          "color": "black",
          "size": 25
         },
         "type": "scatter",
         "x": [
          190.09668841559915,
          187.05632900013597
         ],
         "xaxis": "x",
         "y": [
          0.9780084876281253,
          0.8472072374349293
         ],
         "yaxis": "y"
        },
        {
         "marker": {
          "color": "lightskyblue",
          "line": {
           "color": "black",
           "width": 0.5
          },
          "size": [
           12,
           30
          ]
         },
         "mode": "text+markers",
         "name": "IMAGE 3.2",
         "showlegend": false,
         "text": [
          "",
          "C"
         ],
         "textfont": {
          "color": "black",
          "size": 25
         },
         "type": "scatter",
         "x": [
          190.09668841559915,
          190.36455723745757
         ],
         "xaxis": "x",
         "y": [
          0.9780084876281253,
          0.7185796328676486
         ],
         "yaxis": "y"
        },
        {
         "marker": {
          "color": "lightskyblue",
          "line": {
           "color": "black",
           "width": 0.5
          },
          "size": [
           12,
           30
          ]
         },
         "mode": "text+markers",
         "name": "IMAGE 3.2",
         "showlegend": false,
         "text": [
          "",
          "N"
         ],
         "textfont": {
          "color": "black",
          "size": 25
         },
         "type": "scatter",
         "x": [
          190.09668841559915,
          190.52238104892922
         ],
         "xaxis": "x",
         "y": [
          0.9780084876281253,
          0.9851211233085532
         ],
         "yaxis": "y"
        },
        {
         "marker": {
          "color": "lightskyblue",
          "line": {
           "color": "black",
           "width": 0.5
          },
          "size": [
           12,
           30
          ]
         },
         "mode": "text+markers",
         "name": "IMAGE 3.2",
         "showlegend": false,
         "text": [
          "",
          "V"
         ],
         "textfont": {
          "color": "black",
          "size": 25
         },
         "type": "scatter",
         "x": [
          190.09668841559915,
          191.04311612930633
         ],
         "xaxis": "x",
         "y": [
          0.9780084876281253,
          1.022342488849246
         ],
         "yaxis": "y"
        },
        {
         "marker": {
          "color": "lightskyblue",
          "line": {
           "color": "black",
           "width": 0.5
          },
          "size": [
           12,
           30
          ]
         },
         "mode": "text+markers",
         "name": "IMAGE 3.2",
         "showlegend": false,
         "text": [
          "",
          "El"
         ],
         "textfont": {
          "color": "black",
          "size": 25
         },
         "type": "scatter",
         "x": [
          190.09668841559915,
          201.7553086202829
         ],
         "xaxis": "x",
         "y": [
          0.9780084876281253,
          1.0050587065467258
         ],
         "yaxis": "y"
        },
        {
         "marker": {
          "color": "lightskyblue",
          "line": {
           "color": "black",
           "width": 0.5
          },
          "size": [
           12,
           30
          ]
         },
         "mode": "text+markers",
         "name": "IMAGE 3.2",
         "showlegend": false,
         "text": [
          "",
          "H"
         ],
         "textfont": {
          "color": "black",
          "size": 25
         },
         "type": "scatter",
         "x": [
          190.09668841559915,
          191.59291961172153
         ],
         "xaxis": "x",
         "y": [
          0.9780084876281253,
          1.0100635464645795
         ],
         "yaxis": "y"
        },
        {
         "marker": {
          "color": "lightskyblue",
          "line": {
           "color": "black",
           "width": 0.5
          },
          "size": [
           12,
           30
          ]
         },
         "mode": "text+markers",
         "name": "IMAGE 3.2",
         "showlegend": false,
         "text": [
          "",
          "F"
         ],
         "textfont": {
          "color": "black",
          "size": 25
         },
         "type": "scatter",
         "x": [
          190.09668841559915,
          196.05746522909067
         ],
         "xaxis": "x",
         "y": [
          0.9780084876281253,
          1.03684054229396
         ],
         "yaxis": "y"
        },
        {
         "marker": {
          "color": "lightskyblue",
          "line": {
           "color": "black",
           "width": 0.5
          },
          "size": [
           12,
           30
          ]
         },
         "mode": "text+markers",
         "name": "IMAGE 3.2",
         "showlegend": false,
         "text": [
          "",
          "Ef"
         ],
         "textfont": {
          "color": "black",
          "size": 25
         },
         "type": "scatter",
         "x": [
          190.09668841559915,
          189.87689384790156
         ],
         "xaxis": "x",
         "y": [
          0.9780084876281253,
          0.9754602799200762
         ],
         "yaxis": "y"
        },
        {
         "marker": {
          "color": "goldenrod",
          "line": {
           "color": "black",
           "width": 0.5
          },
          "size": [
           12,
           30
          ]
         },
         "mode": "text+markers",
         "name": "PROMETHEUS 1.2",
         "showlegend": false,
         "text": [
          "",
          "B"
         ],
         "textfont": {
          "color": "black",
          "size": 25
         },
         "type": "scatter",
         "x": [
          153.15610230579796,
          152.57126364840587
         ],
         "xaxis": "x",
         "y": [
          0.9162835262952043,
          0.6927444134284753
         ],
         "yaxis": "y"
        },
        {
         "marker": {
          "color": "goldenrod",
          "line": {
           "color": "black",
           "width": 0.5
          },
          "size": [
           12,
           30
          ]
         },
         "mode": "text+markers",
         "name": "PROMETHEUS 1.2",
         "showlegend": false,
         "text": [
          "",
          "C"
         ],
         "textfont": {
          "color": "black",
          "size": 25
         },
         "type": "scatter",
         "x": [
          153.15610230579796,
          153.25382346079186
         ],
         "xaxis": "x",
         "y": [
          0.9162835262952043,
          0.8596924232694546
         ],
         "yaxis": "y"
        },
        {
         "marker": {
          "color": "goldenrod",
          "line": {
           "color": "black",
           "width": 0.5
          },
          "size": [
           12,
           30
          ]
         },
         "mode": "text+markers",
         "name": "PROMETHEUS 1.2",
         "showlegend": false,
         "text": [
          "",
          "N"
         ],
         "textfont": {
          "color": "black",
          "size": 25
         },
         "type": "scatter",
         "x": [
          153.15610230579796,
          154.76329495784012
         ],
         "xaxis": "x",
         "y": [
          0.9162835262952043,
          0.8889259019189703
         ],
         "yaxis": "y"
        },
        {
         "marker": {
          "color": "goldenrod",
          "line": {
           "color": "black",
           "width": 0.5
          },
          "size": [
           12,
           30
          ]
         },
         "mode": "text+markers",
         "name": "PROMETHEUS 1.2",
         "showlegend": false,
         "text": [
          "",
          "V"
         ],
         "textfont": {
          "color": "black",
          "size": 25
         },
         "type": "scatter",
         "x": [
          153.15610230579796,
          154.4748875707403
         ],
         "xaxis": "x",
         "y": [
          0.9162835262952043,
          0.8074425642777444
         ],
         "yaxis": "y"
        },
        {
         "marker": {
          "color": "goldenrod",
          "line": {
           "color": "black",
           "width": 0.5
          },
          "size": [
           12,
           30
          ]
         },
         "mode": "text+markers",
         "name": "PROMETHEUS 1.2",
         "showlegend": false,
         "text": [
          "",
          "El"
         ],
         "textfont": {
          "color": "black",
          "size": 25
         },
         "type": "scatter",
         "x": [
          153.15610230579796,
          158.05987367378566
         ],
         "xaxis": "x",
         "y": [
          0.9162835262952043,
          0.9232083426378687
         ],
         "yaxis": "y"
        },
        {
         "marker": {
          "color": "goldenrod",
          "line": {
           "color": "black",
           "width": 0.5
          },
          "size": [
           12,
           30
          ]
         },
         "mode": "text+markers",
         "name": "PROMETHEUS 1.2",
         "showlegend": false,
         "text": [
          "",
          "H"
         ],
         "textfont": {
          "color": "black",
          "size": 25
         },
         "type": "scatter",
         "x": [
          153.15610230579796,
          null
         ],
         "xaxis": "x",
         "y": [
          0.9162835262952043,
          null
         ],
         "yaxis": "y"
        },
        {
         "marker": {
          "color": "goldenrod",
          "line": {
           "color": "black",
           "width": 0.5
          },
          "size": [
           12,
           30
          ]
         },
         "mode": "text+markers",
         "name": "PROMETHEUS 1.2",
         "showlegend": false,
         "text": [
          "",
          "F"
         ],
         "textfont": {
          "color": "black",
          "size": 25
         },
         "type": "scatter",
         "x": [
          153.15610230579796,
          null
         ],
         "xaxis": "x",
         "y": [
          0.9162835262952043,
          null
         ],
         "yaxis": "y"
        },
        {
         "marker": {
          "color": "goldenrod",
          "line": {
           "color": "black",
           "width": 0.5
          },
          "size": [
           12,
           30
          ]
         },
         "mode": "text+markers",
         "name": "PROMETHEUS 1.2",
         "showlegend": false,
         "text": [
          "",
          "Ef"
         ],
         "textfont": {
          "color": "black",
          "size": 25
         },
         "type": "scatter",
         "x": [
          153.15610230579796,
          154.00602234340568
         ],
         "xaxis": "x",
         "y": [
          0.9162835262952043,
          0.924857275878859
         ],
         "yaxis": "y"
        },
        {
         "marker": {
          "color": "tomato",
          "line": {
           "color": "black",
           "width": 0.5
          },
          "size": [
           12,
           30
          ]
         },
         "mode": "text+markers",
         "name": "REMIND 2.1",
         "showlegend": false,
         "text": [
          "",
          "B"
         ],
         "textfont": {
          "color": "black",
          "size": 25
         },
         "type": "scatter",
         "x": [
          180.78106000000025,
          172.83220000000028
         ],
         "xaxis": "x",
         "y": [
          1.1754351148627167,
          0.9505513493163282
         ],
         "yaxis": "y"
        },
        {
         "marker": {
          "color": "tomato",
          "line": {
           "color": "black",
           "width": 0.5
          },
          "size": [
           12,
           30
          ]
         },
         "mode": "text+markers",
         "name": "REMIND 2.1",
         "showlegend": false,
         "text": [
          "",
          "C"
         ],
         "textfont": {
          "color": "black",
          "size": 25
         },
         "type": "scatter",
         "x": [
          180.78106000000025,
          179.1288800000002
         ],
         "xaxis": "x",
         "y": [
          1.1754351148627167,
          1.0070930596715244
         ],
         "yaxis": "y"
        },
        {
         "marker": {
          "color": "tomato",
          "line": {
           "color": "black",
           "width": 0.5
          },
          "size": [
           12,
           30
          ]
         },
         "mode": "text+markers",
         "name": "REMIND 2.1",
         "showlegend": false,
         "text": [
          "",
          "N"
         ],
         "textfont": {
          "color": "black",
          "size": 25
         },
         "type": "scatter",
         "x": [
          180.78106000000025,
          181.05764000000045
         ],
         "xaxis": "x",
         "y": [
          1.1754351148627167,
          1.1766300579607274
         ],
         "yaxis": "y"
        },
        {
         "marker": {
          "color": "tomato",
          "line": {
           "color": "black",
           "width": 0.5
          },
          "size": [
           12,
           30
          ]
         },
         "mode": "text+markers",
         "name": "REMIND 2.1",
         "showlegend": false,
         "text": [
          "",
          "V"
         ],
         "textfont": {
          "color": "black",
          "size": 25
         },
         "type": "scatter",
         "x": [
          180.78106000000025,
          182.0649000000003
         ],
         "xaxis": "x",
         "y": [
          1.1754351148627167,
          1.1809849264778067
         ],
         "yaxis": "y"
        },
        {
         "marker": {
          "color": "tomato",
          "line": {
           "color": "black",
           "width": 0.5
          },
          "size": [
           12,
           30
          ]
         },
         "mode": "text+markers",
         "name": "REMIND 2.1",
         "showlegend": false,
         "text": [
          "",
          "El"
         ],
         "textfont": {
          "color": "black",
          "size": 25
         },
         "type": "scatter",
         "x": [
          180.78106000000025,
          185.3829400000002
         ],
         "xaxis": "x",
         "y": [
          1.1754351148627167,
          1.1873239710674446
         ],
         "yaxis": "y"
        },
        {
         "marker": {
          "color": "tomato",
          "line": {
           "color": "black",
           "width": 0.5
          },
          "size": [
           12,
           30
          ]
         },
         "mode": "text+markers",
         "name": "REMIND 2.1",
         "showlegend": false,
         "text": [
          "",
          "H"
         ],
         "textfont": {
          "color": "black",
          "size": 25
         },
         "type": "scatter",
         "x": [
          180.78106000000025,
          184.06916
         ],
         "xaxis": "x",
         "y": [
          1.1754351148627167,
          1.2062851083870267
         ],
         "yaxis": "y"
        },
        {
         "marker": {
          "color": "tomato",
          "line": {
           "color": "black",
           "width": 0.5
          },
          "size": [
           12,
           30
          ]
         },
         "mode": "text+markers",
         "name": "REMIND 2.1",
         "showlegend": false,
         "text": [
          "",
          "F"
         ],
         "textfont": {
          "color": "black",
          "size": 25
         },
         "type": "scatter",
         "x": [
          180.78106000000025,
          228.04064000000017
         ],
         "xaxis": "x",
         "y": [
          1.1754351148627167,
          1.1362984392398465
         ],
         "yaxis": "y"
        },
        {
         "marker": {
          "color": "tomato",
          "line": {
           "color": "black",
           "width": 0.5
          },
          "size": [
           12,
           30
          ]
         },
         "mode": "text+markers",
         "name": "REMIND 2.1",
         "showlegend": false,
         "text": [
          "",
          "Ef"
         ],
         "textfont": {
          "color": "black",
          "size": 25
         },
         "type": "scatter",
         "x": [
          180.78106000000025,
          189.19750000000022
         ],
         "xaxis": "x",
         "y": [
          1.1754351148627167,
          1.2157297547963026
         ],
         "yaxis": "y"
        },
        {
         "marker": {
          "color": "forestgreen",
          "line": {
           "color": "black",
           "width": 0.5
          },
          "size": [
           12,
           30
          ]
         },
         "mode": "text+markers",
         "name": "WITCH 5.0",
         "showlegend": false,
         "text": [
          "",
          "B"
         ],
         "textfont": {
          "color": "black",
          "size": 25
         },
         "type": "scatter",
         "x": [
          200.8516956749222,
          200.96621516416417
         ],
         "xaxis": "x",
         "y": [
          0.8754224366316201,
          0.7902714806612379
         ],
         "yaxis": "y"
        },
        {
         "marker": {
          "color": "forestgreen",
          "line": {
           "color": "black",
           "width": 0.5
          },
          "size": [
           12,
           30
          ]
         },
         "mode": "text+markers",
         "name": "WITCH 5.0",
         "showlegend": false,
         "text": [
          "",
          "C"
         ],
         "textfont": {
          "color": "black",
          "size": 25
         },
         "type": "scatter",
         "x": [
          200.8516956749222,
          217.15515194749196
         ],
         "xaxis": "x",
         "y": [
          0.8754224366316201,
          0.6126542520689606
         ],
         "yaxis": "y"
        },
        {
         "marker": {
          "color": "forestgreen",
          "line": {
           "color": "black",
           "width": 0.5
          },
          "size": [
           12,
           30
          ]
         },
         "mode": "text+markers",
         "name": "WITCH 5.0",
         "showlegend": false,
         "text": [
          "",
          "N"
         ],
         "textfont": {
          "color": "black",
          "size": 25
         },
         "type": "scatter",
         "x": [
          200.8516956749222,
          202.10723190669614
         ],
         "xaxis": "x",
         "y": [
          0.8754224366316201,
          0.8755631446526075
         ],
         "yaxis": "y"
        },
        {
         "marker": {
          "color": "forestgreen",
          "line": {
           "color": "black",
           "width": 0.5
          },
          "size": [
           12,
           30
          ]
         },
         "mode": "text+markers",
         "name": "WITCH 5.0",
         "showlegend": false,
         "text": [
          "",
          "V"
         ],
         "textfont": {
          "color": "black",
          "size": 25
         },
         "type": "scatter",
         "x": [
          200.8516956749222,
          200.80993279271797
         ],
         "xaxis": "x",
         "y": [
          0.8754224366316201,
          0.8753647169033668
         ],
         "yaxis": "y"
        },
        {
         "marker": {
          "color": "forestgreen",
          "line": {
           "color": "black",
           "width": 0.5
          },
          "size": [
           12,
           30
          ]
         },
         "mode": "text+markers",
         "name": "WITCH 5.0",
         "showlegend": false,
         "text": [
          "",
          "El"
         ],
         "textfont": {
          "color": "black",
          "size": 25
         },
         "type": "scatter",
         "x": [
          200.8516956749222,
          226.3859281075861
         ],
         "xaxis": "x",
         "y": [
          0.8754224366316201,
          1.0932660280355457
         ],
         "yaxis": "y"
        },
        {
         "marker": {
          "color": "forestgreen",
          "line": {
           "color": "black",
           "width": 0.5
          },
          "size": [
           12,
           30
          ]
         },
         "mode": "text+markers",
         "name": "WITCH 5.0",
         "showlegend": false,
         "text": [
          "",
          "H"
         ],
         "textfont": {
          "color": "black",
          "size": 25
         },
         "type": "scatter",
         "x": [
          200.8516956749222,
          200.93257848087796
         ],
         "xaxis": "x",
         "y": [
          0.8754224366316201,
          0.8750940978773719
         ],
         "yaxis": "y"
        },
        {
         "marker": {
          "color": "forestgreen",
          "line": {
           "color": "black",
           "width": 0.5
          },
          "size": [
           12,
           30
          ]
         },
         "mode": "text+markers",
         "name": "WITCH 5.0",
         "showlegend": false,
         "text": [
          "",
          "F"
         ],
         "textfont": {
          "color": "black",
          "size": 25
         },
         "type": "scatter",
         "x": [
          200.8516956749222,
          null
         ],
         "xaxis": "x",
         "y": [
          0.8754224366316201,
          null
         ],
         "yaxis": "y"
        },
        {
         "marker": {
          "color": "forestgreen",
          "line": {
           "color": "black",
           "width": 0.5
          },
          "size": [
           12,
           30
          ]
         },
         "mode": "text+markers",
         "name": "WITCH 5.0",
         "showlegend": false,
         "text": [
          "",
          "Ef"
         ],
         "textfont": {
          "color": "black",
          "size": 25
         },
         "type": "scatter",
         "x": [
          200.8516956749222,
          200.08589334717817
         ],
         "xaxis": "x",
         "y": [
          0.8754224366316201,
          0.8553232403824472
         ],
         "yaxis": "y"
        },
        {
         "marker": {
          "color": "darkgrey",
          "line": {
           "color": "black",
           "width": 0.5
          },
          "size": [
           12,
           30
          ]
         },
         "mode": "text+markers",
         "name": "Euro-Calliope 2.0",
         "showlegend": false,
         "text": [
          "",
          "B"
         ],
         "textfont": {
          "color": "black",
          "size": 25
         },
         "type": "scatter",
         "x": [
          167.77213644825633,
          167.77213644825633
         ],
         "xaxis": "x",
         "y": [
          0.9996545960963845,
          0.9996545960963845
         ],
         "yaxis": "y"
        },
        {
         "marker": {
          "color": "darkgrey",
          "line": {
           "color": "black",
           "width": 0.5
          },
          "size": [
           12,
           30
          ]
         },
         "mode": "text+markers",
         "name": "Euro-Calliope 2.0",
         "showlegend": false,
         "text": [
          "",
          "C"
         ],
         "textfont": {
          "color": "black",
          "size": 25
         },
         "type": "scatter",
         "x": [
          167.77213644825633,
          167.77213644825633
         ],
         "xaxis": "x",
         "y": [
          0.9996545960963845,
          0.9996545960963845
         ],
         "yaxis": "y"
        },
        {
         "marker": {
          "color": "darkgrey",
          "line": {
           "color": "black",
           "width": 0.5
          },
          "size": [
           12,
           30
          ]
         },
         "mode": "text+markers",
         "name": "Euro-Calliope 2.0",
         "showlegend": false,
         "text": [
          "",
          "N"
         ],
         "textfont": {
          "color": "black",
          "size": 25
         },
         "type": "scatter",
         "x": [
          167.77213644825633,
          158.79459620063153
         ],
         "xaxis": "x",
         "y": [
          0.9996545960963845,
          0.9995761437571783
         ],
         "yaxis": "y"
        },
        {
         "marker": {
          "color": "darkgrey",
          "line": {
           "color": "black",
           "width": 0.5
          },
          "size": [
           12,
           30
          ]
         },
         "mode": "text+markers",
         "name": "Euro-Calliope 2.0",
         "showlegend": false,
         "text": [
          "",
          "V"
         ],
         "textfont": {
          "color": "black",
          "size": 25
         },
         "type": "scatter",
         "x": [
          167.77213644825633,
          167.77213644825633
         ],
         "xaxis": "x",
         "y": [
          0.9996545960963845,
          0.99965689648285
         ],
         "yaxis": "y"
        },
        {
         "marker": {
          "color": "darkgrey",
          "line": {
           "color": "black",
           "width": 0.5
          },
          "size": [
           12,
           30
          ]
         },
         "mode": "text+markers",
         "name": "Euro-Calliope 2.0",
         "showlegend": false,
         "text": [
          "",
          "El"
         ],
         "textfont": {
          "color": "black",
          "size": 25
         },
         "type": "scatter",
         "x": [
          167.77213644825633,
          188.30106930401053
         ],
         "xaxis": "x",
         "y": [
          0.9996545960963845,
          0.9999870515314768
         ],
         "yaxis": "y"
        },
        {
         "marker": {
          "color": "darkgrey",
          "line": {
           "color": "black",
           "width": 0.5
          },
          "size": [
           12,
           30
          ]
         },
         "mode": "text+markers",
         "name": "Euro-Calliope 2.0",
         "showlegend": false,
         "text": [
          "",
          "H"
         ],
         "textfont": {
          "color": "black",
          "size": 25
         },
         "type": "scatter",
         "x": [
          167.77213644825633,
          216.33695365293136
         ],
         "xaxis": "x",
         "y": [
          0.9996545960963845,
          0.9996763174485367
         ],
         "yaxis": "y"
        },
        {
         "marker": {
          "color": "darkgrey",
          "line": {
           "color": "black",
           "width": 0.5
          },
          "size": [
           12,
           30
          ]
         },
         "mode": "text+markers",
         "name": "Euro-Calliope 2.0",
         "showlegend": false,
         "text": [
          "",
          "F"
         ],
         "textfont": {
          "color": "black",
          "size": 25
         },
         "type": "scatter",
         "x": [
          167.77213644825633,
          167.77213644825633
         ],
         "xaxis": "x",
         "y": [
          0.9996545960963845,
          0.9996522073927185
         ],
         "yaxis": "y"
        },
        {
         "marker": {
          "color": "darkgrey",
          "line": {
           "color": "black",
           "width": 0.5
          },
          "size": [
           12,
           30
          ]
         },
         "mode": "text+markers",
         "name": "Euro-Calliope 2.0",
         "showlegend": false,
         "text": [
          "",
          "Ef"
         ],
         "textfont": {
          "color": "black",
          "size": 25
         },
         "type": "scatter",
         "x": [
          167.77213644825633,
          167.77213644825633
         ],
         "xaxis": "x",
         "y": [
          0.9996545960963845,
          0.9996539478395121
         ],
         "yaxis": "y"
        },
        {
         "marker": {
          "color": "royalblue",
          "line": {
           "color": "black",
           "width": 0.5
          },
          "size": [
           12,
           30
          ]
         },
         "mode": "text+markers",
         "name": "TIAM-ECN 1.2",
         "showlegend": false,
         "text": [
          "",
          "B"
         ],
         "textfont": {
          "color": "black",
          "size": 25
         },
         "type": "scatter",
         "x": [
          120.30938000000015,
          119.34994000000006
         ],
         "xaxis": "x",
         "y": [
          0.7139295144284236,
          0.6877121987700868
         ],
         "yaxis": "y"
        },
        {
         "marker": {
          "color": "royalblue",
          "line": {
           "color": "black",
           "width": 0.5
          },
          "size": [
           12,
           30
          ]
         },
         "mode": "text+markers",
         "name": "TIAM-ECN 1.2",
         "showlegend": false,
         "text": [
          "",
          "C"
         ],
         "textfont": {
          "color": "black",
          "size": 25
         },
         "type": "scatter",
         "x": [
          120.30938000000015,
          115.67064000000028
         ],
         "xaxis": "x",
         "y": [
          0.7139295144284236,
          0.7244450782161223
         ],
         "yaxis": "y"
        },
        {
         "marker": {
          "color": "royalblue",
          "line": {
           "color": "black",
           "width": 0.5
          },
          "size": [
           12,
           30
          ]
         },
         "mode": "text+markers",
         "name": "TIAM-ECN 1.2",
         "showlegend": false,
         "text": [
          "",
          "N"
         ],
         "textfont": {
          "color": "black",
          "size": 25
         },
         "type": "scatter",
         "x": [
          120.30938000000015,
          139.92866000000026
         ],
         "xaxis": "x",
         "y": [
          0.7139295144284236,
          0.7078641438076159
         ],
         "yaxis": "y"
        },
        {
         "marker": {
          "color": "royalblue",
          "line": {
           "color": "black",
           "width": 0.5
          },
          "size": [
           12,
           30
          ]
         },
         "mode": "text+markers",
         "name": "TIAM-ECN 1.2",
         "showlegend": false,
         "text": [
          "",
          "V"
         ],
         "textfont": {
          "color": "black",
          "size": 25
         },
         "type": "scatter",
         "x": [
          120.30938000000015,
          118.17586000000028
         ],
         "xaxis": "x",
         "y": [
          0.7139295144284236,
          0.7228208798490314
         ],
         "yaxis": "y"
        },
        {
         "marker": {
          "color": "royalblue",
          "line": {
           "color": "black",
           "width": 0.5
          },
          "size": [
           12,
           30
          ]
         },
         "mode": "text+markers",
         "name": "TIAM-ECN 1.2",
         "showlegend": false,
         "text": [
          "",
          "El"
         ],
         "textfont": {
          "color": "black",
          "size": 25
         },
         "type": "scatter",
         "x": [
          120.30938000000015,
          null
         ],
         "xaxis": "x",
         "y": [
          0.7139295144284236,
          null
         ],
         "yaxis": "y"
        },
        {
         "marker": {
          "color": "royalblue",
          "line": {
           "color": "black",
           "width": 0.5
          },
          "size": [
           12,
           30
          ]
         },
         "mode": "text+markers",
         "name": "TIAM-ECN 1.2",
         "showlegend": false,
         "text": [
          "",
          "H"
         ],
         "textfont": {
          "color": "black",
          "size": 25
         },
         "type": "scatter",
         "x": [
          120.30938000000015,
          null
         ],
         "xaxis": "x",
         "y": [
          0.7139295144284236,
          null
         ],
         "yaxis": "y"
        },
        {
         "marker": {
          "color": "royalblue",
          "line": {
           "color": "black",
           "width": 0.5
          },
          "size": [
           12,
           30
          ]
         },
         "mode": "text+markers",
         "name": "TIAM-ECN 1.2",
         "showlegend": false,
         "text": [
          "",
          "F"
         ],
         "textfont": {
          "color": "black",
          "size": 25
         },
         "type": "scatter",
         "x": [
          120.30938000000015,
          null
         ],
         "xaxis": "x",
         "y": [
          0.7139295144284236,
          null
         ],
         "yaxis": "y"
        },
        {
         "marker": {
          "color": "royalblue",
          "line": {
           "color": "black",
           "width": 0.5
          },
          "size": [
           12,
           30
          ]
         },
         "mode": "text+markers",
         "name": "TIAM-ECN 1.2",
         "showlegend": false,
         "text": [
          "",
          "Ef"
         ],
         "textfont": {
          "color": "black",
          "size": 25
         },
         "type": "scatter",
         "x": [
          120.30938000000015,
          null
         ],
         "xaxis": "x",
         "y": [
          0.7139295144284236,
          null
         ],
         "yaxis": "y"
        },
        {
         "marker": {
          "color": "purple",
          "line": {
           "color": "black",
           "width": 0.5
          },
          "size": [
           12,
           30
          ]
         },
         "mode": "text+markers",
         "name": "MESSAGEix-GLOBIOM 1.2",
         "showlegend": false,
         "text": [
          "",
          "B"
         ],
         "textfont": {
          "color": "black",
          "size": 25
         },
         "type": "scatter",
         "x": [
          170.61919135807875,
          168.3181968516799
         ],
         "xaxis": "x",
         "y": [
          0.862218374011189,
          0.8512739606315562
         ],
         "yaxis": "y"
        },
        {
         "marker": {
          "color": "purple",
          "line": {
           "color": "black",
           "width": 0.5
          },
          "size": [
           12,
           30
          ]
         },
         "mode": "text+markers",
         "name": "MESSAGEix-GLOBIOM 1.2",
         "showlegend": false,
         "text": [
          "",
          "C"
         ],
         "textfont": {
          "color": "black",
          "size": 25
         },
         "type": "scatter",
         "x": [
          170.61919135807875,
          169.72546002860418
         ],
         "xaxis": "x",
         "y": [
          0.862218374011189,
          0.8629454612803449
         ],
         "yaxis": "y"
        },
        {
         "marker": {
          "color": "purple",
          "line": {
           "color": "black",
           "width": 0.5
          },
          "size": [
           12,
           30
          ]
         },
         "mode": "text+markers",
         "name": "MESSAGEix-GLOBIOM 1.2",
         "showlegend": false,
         "text": [
          "",
          "N"
         ],
         "textfont": {
          "color": "black",
          "size": 25
         },
         "type": "scatter",
         "x": [
          170.61919135807875,
          168.79696353550753
         ],
         "xaxis": "x",
         "y": [
          0.862218374011189,
          0.8610710735687075
         ],
         "yaxis": "y"
        },
        {
         "marker": {
          "color": "purple",
          "line": {
           "color": "black",
           "width": 0.5
          },
          "size": [
           12,
           30
          ]
         },
         "mode": "text+markers",
         "name": "MESSAGEix-GLOBIOM 1.2",
         "showlegend": false,
         "text": [
          "",
          "V"
         ],
         "textfont": {
          "color": "black",
          "size": 25
         },
         "type": "scatter",
         "x": [
          170.61919135807875,
          170.23200616110717
         ],
         "xaxis": "x",
         "y": [
          0.862218374011189,
          0.8710454277076423
         ],
         "yaxis": "y"
        },
        {
         "marker": {
          "color": "purple",
          "line": {
           "color": "black",
           "width": 0.5
          },
          "size": [
           12,
           30
          ]
         },
         "mode": "text+markers",
         "name": "MESSAGEix-GLOBIOM 1.2",
         "showlegend": false,
         "text": [
          "",
          "El"
         ],
         "textfont": {
          "color": "black",
          "size": 25
         },
         "type": "scatter",
         "x": [
          170.61919135807875,
          175.06032055811784
         ],
         "xaxis": "x",
         "y": [
          0.862218374011189,
          0.8911972160439676
         ],
         "yaxis": "y"
        },
        {
         "marker": {
          "color": "purple",
          "line": {
           "color": "black",
           "width": 0.5
          },
          "size": [
           12,
           30
          ]
         },
         "mode": "text+markers",
         "name": "MESSAGEix-GLOBIOM 1.2",
         "showlegend": false,
         "text": [
          "",
          "H"
         ],
         "textfont": {
          "color": "black",
          "size": 25
         },
         "type": "scatter",
         "x": [
          170.61919135807875,
          168.11944649111547
         ],
         "xaxis": "x",
         "y": [
          0.862218374011189,
          0.8565501224955973
         ],
         "yaxis": "y"
        },
        {
         "marker": {
          "color": "purple",
          "line": {
           "color": "black",
           "width": 0.5
          },
          "size": [
           12,
           30
          ]
         },
         "mode": "text+markers",
         "name": "MESSAGEix-GLOBIOM 1.2",
         "showlegend": false,
         "text": [
          "",
          "F"
         ],
         "textfont": {
          "color": "black",
          "size": 25
         },
         "type": "scatter",
         "x": [
          170.61919135807875,
          223.6294529214165
         ],
         "xaxis": "x",
         "y": [
          0.862218374011189,
          0.9104490793644738
         ],
         "yaxis": "y"
        },
        {
         "marker": {
          "color": "purple",
          "line": {
           "color": "black",
           "width": 0.5
          },
          "size": [
           12,
           30
          ]
         },
         "mode": "text+markers",
         "name": "MESSAGEix-GLOBIOM 1.2",
         "showlegend": false,
         "text": [
          "",
          "Ef"
         ],
         "textfont": {
          "color": "black",
          "size": 25
         },
         "type": "scatter",
         "x": [
          170.61919135807875,
          170.3707599496297
         ],
         "xaxis": "x",
         "y": [
          0.862218374011189,
          0.8624750376052951
         ],
         "yaxis": "y"
        },
        {
         "marker": {
          "color": "palegreen",
          "line": {
           "color": "black",
           "width": 0.5
          },
          "size": [
           12,
           30
          ]
         },
         "mode": "text+markers",
         "name": "PRIMES 2022",
         "showlegend": false,
         "text": [
          "",
          "B"
         ],
         "textfont": {
          "color": "black",
          "size": 25
         },
         "type": "scatter",
         "x": [
          150.3584051058233,
          150.2874954799886
         ],
         "xaxis": "x",
         "y": [
          0.9402672263099785,
          0.9226164535040409
         ],
         "yaxis": "y"
        },
        {
         "marker": {
          "color": "palegreen",
          "line": {
           "color": "black",
           "width": 0.5
          },
          "size": [
           12,
           30
          ]
         },
         "mode": "text+markers",
         "name": "PRIMES 2022",
         "showlegend": false,
         "text": [
          "",
          "C"
         ],
         "textfont": {
          "color": "black",
          "size": 25
         },
         "type": "scatter",
         "x": [
          150.3584051058233,
          149.43764597256632
         ],
         "xaxis": "x",
         "y": [
          0.9402672263099785,
          0.8626522877049786
         ],
         "yaxis": "y"
        },
        {
         "marker": {
          "color": "palegreen",
          "line": {
           "color": "black",
           "width": 0.5
          },
          "size": [
           12,
           30
          ]
         },
         "mode": "text+markers",
         "name": "PRIMES 2022",
         "showlegend": false,
         "text": [
          "",
          "N"
         ],
         "textfont": {
          "color": "black",
          "size": 25
         },
         "type": "scatter",
         "x": [
          150.3584051058233,
          148.08713959367697
         ],
         "xaxis": "x",
         "y": [
          0.9402672263099785,
          0.9351028708137287
         ],
         "yaxis": "y"
        },
        {
         "marker": {
          "color": "palegreen",
          "line": {
           "color": "black",
           "width": 0.5
          },
          "size": [
           12,
           30
          ]
         },
         "mode": "text+markers",
         "name": "PRIMES 2022",
         "showlegend": false,
         "text": [
          "",
          "V"
         ],
         "textfont": {
          "color": "black",
          "size": 25
         },
         "type": "scatter",
         "x": [
          150.3584051058233,
          null
         ],
         "xaxis": "x",
         "y": [
          0.9402672263099785,
          null
         ],
         "yaxis": "y"
        },
        {
         "marker": {
          "color": "palegreen",
          "line": {
           "color": "black",
           "width": 0.5
          },
          "size": [
           12,
           30
          ]
         },
         "mode": "text+markers",
         "name": "PRIMES 2022",
         "showlegend": false,
         "text": [
          "",
          "El"
         ],
         "textfont": {
          "color": "black",
          "size": 25
         },
         "type": "scatter",
         "x": [
          150.3584051058233,
          152.01075355918397
         ],
         "xaxis": "x",
         "y": [
          0.9402672263099785,
          0.9397270270553081
         ],
         "yaxis": "y"
        },
        {
         "marker": {
          "color": "palegreen",
          "line": {
           "color": "black",
           "width": 0.5
          },
          "size": [
           12,
           30
          ]
         },
         "mode": "text+markers",
         "name": "PRIMES 2022",
         "showlegend": false,
         "text": [
          "",
          "H"
         ],
         "textfont": {
          "color": "black",
          "size": 25
         },
         "type": "scatter",
         "x": [
          150.3584051058233,
          153.60363395968034
         ],
         "xaxis": "x",
         "y": [
          0.9402672263099785,
          0.939621654727886
         ],
         "yaxis": "y"
        },
        {
         "marker": {
          "color": "palegreen",
          "line": {
           "color": "black",
           "width": 0.5
          },
          "size": [
           12,
           30
          ]
         },
         "mode": "text+markers",
         "name": "PRIMES 2022",
         "showlegend": false,
         "text": [
          "",
          "F"
         ],
         "textfont": {
          "color": "black",
          "size": 25
         },
         "type": "scatter",
         "x": [
          150.3584051058233,
          null
         ],
         "xaxis": "x",
         "y": [
          0.9402672263099785,
          null
         ],
         "yaxis": "y"
        },
        {
         "marker": {
          "color": "palegreen",
          "line": {
           "color": "black",
           "width": 0.5
          },
          "size": [
           12,
           30
          ]
         },
         "mode": "text+markers",
         "name": "PRIMES 2022",
         "showlegend": false,
         "text": [
          "",
          "Ef"
         ],
         "textfont": {
          "color": "black",
          "size": 25
         },
         "type": "scatter",
         "x": [
          150.3584051058233,
          161.58528211112116
         ],
         "xaxis": "x",
         "y": [
          0.9402672263099785,
          0.945458072149441
         ],
         "yaxis": "y"
        },
        {
         "hovertemplate": "<b>DIAG-C400-lin</b> <br>ERT: %{y:.2f} <br>Carbon capture: %{x:.2f}",
         "line": {
          "width": 4
         },
         "marker": {
          "color": "lightskyblue",
          "line": {
           "color": "black",
           "width": 4
          },
          "size": 30,
          "symbol": "square"
         },
         "mode": "markers+text",
         "name": "IMAGE",
         "showlegend": true,
         "type": "scatter",
         "x": [
          -1000
         ],
         "xaxis": "x",
         "y": [
          1000
         ],
         "yaxis": "y"
        },
        {
         "hovertemplate": "<b>DIAG-C400-lin</b> <br>ERT: %{y:.2f} <br>Carbon capture: %{x:.2f}",
         "line": {
          "width": 4
         },
         "marker": {
          "color": "goldenrod",
          "line": {
           "color": "black",
           "width": 4
          },
          "size": 30,
          "symbol": "square"
         },
         "mode": "markers+text",
         "name": "PROMETHEUS",
         "showlegend": true,
         "type": "scatter",
         "x": [
          -1000
         ],
         "xaxis": "x",
         "y": [
          1000
         ],
         "yaxis": "y"
        },
        {
         "hovertemplate": "<b>DIAG-C400-lin</b> <br>ERT: %{y:.2f} <br>Carbon capture: %{x:.2f}",
         "line": {
          "width": 4
         },
         "marker": {
          "color": "tomato",
          "line": {
           "color": "black",
           "width": 4
          },
          "size": 30,
          "symbol": "square"
         },
         "mode": "markers+text",
         "name": "REMIND",
         "showlegend": true,
         "type": "scatter",
         "x": [
          -1000
         ],
         "xaxis": "x",
         "y": [
          1000
         ],
         "yaxis": "y"
        },
        {
         "hovertemplate": "<b>DIAG-C400-lin</b> <br>ERT: %{y:.2f} <br>Carbon capture: %{x:.2f}",
         "line": {
          "width": 4
         },
         "marker": {
          "color": "forestgreen",
          "line": {
           "color": "black",
           "width": 4
          },
          "size": 30,
          "symbol": "square"
         },
         "mode": "markers+text",
         "name": "WITCH",
         "showlegend": true,
         "type": "scatter",
         "x": [
          -1000
         ],
         "xaxis": "x",
         "y": [
          1000
         ],
         "yaxis": "y"
        },
        {
         "hovertemplate": "<b>DIAG-C400-lin</b> <br>ERT: %{y:.2f} <br>Carbon capture: %{x:.2f}",
         "line": {
          "width": 4
         },
         "marker": {
          "color": "darkgrey",
          "line": {
           "color": "black",
           "width": 4
          },
          "size": 30,
          "symbol": "square"
         },
         "mode": "markers+text",
         "name": "Euro-Calliope",
         "showlegend": true,
         "type": "scatter",
         "x": [
          -1000
         ],
         "xaxis": "x",
         "y": [
          1000
         ],
         "yaxis": "y"
        },
        {
         "hovertemplate": "<b>DIAG-C400-lin</b> <br>ERT: %{y:.2f} <br>Carbon capture: %{x:.2f}",
         "line": {
          "width": 4
         },
         "marker": {
          "color": "royalblue",
          "line": {
           "color": "black",
           "width": 4
          },
          "size": 30,
          "symbol": "square"
         },
         "mode": "markers+text",
         "name": "TIAM-ECN",
         "showlegend": true,
         "type": "scatter",
         "x": [
          -1000
         ],
         "xaxis": "x",
         "y": [
          1000
         ],
         "yaxis": "y"
        },
        {
         "hovertemplate": "<b>DIAG-C400-lin</b> <br>ERT: %{y:.2f} <br>Carbon capture: %{x:.2f}",
         "line": {
          "width": 4
         },
         "marker": {
          "color": "purple",
          "line": {
           "color": "black",
           "width": 4
          },
          "size": 30,
          "symbol": "square"
         },
         "mode": "markers+text",
         "name": "MESSAGE",
         "showlegend": true,
         "type": "scatter",
         "x": [
          -1000
         ],
         "xaxis": "x",
         "y": [
          1000
         ],
         "yaxis": "y"
        },
        {
         "hovertemplate": "<b>DIAG-C400-lin</b> <br>ERT: %{y:.2f} <br>Carbon capture: %{x:.2f}",
         "line": {
          "width": 4
         },
         "marker": {
          "color": "palegreen",
          "line": {
           "color": "black",
           "width": 4
          },
          "size": 30,
          "symbol": "square"
         },
         "mode": "markers+text",
         "name": "PRIMES",
         "showlegend": true,
         "type": "scatter",
         "x": [
          -1000
         ],
         "xaxis": "x",
         "y": [
          1000
         ],
         "yaxis": "y"
        },
        {
         "hovertemplate": "<b>DIAG-C400-lin</b> <br>ERT: %{y:.2f} <br>Carbon capture: %{x:.2f}",
         "line": {
          "width": 4
         },
         "marker": {
          "color": "black",
          "line": {
           "color": "black",
           "width": 4
          },
          "size": 12,
          "symbol": "circle"
         },
         "mode": "markers",
         "name": "IMAGE",
         "showlegend": false,
         "text": "<b>-</b>",
         "type": "scatter",
         "x": [
          190.09668841559915
         ],
         "xaxis": "x",
         "y": [
          0.9780084876281253
         ],
         "yaxis": "y"
        },
        {
         "hovertemplate": "<b>DIAG-C400-lin</b> <br>ERT: %{y:.2f} <br>Carbon capture: %{x:.2f}",
         "line": {
          "width": 4
         },
         "marker": {
          "color": "black",
          "line": {
           "color": "black",
           "width": 4
          },
          "size": 12,
          "symbol": "circle"
         },
         "mode": "markers",
         "name": "PROMETHEUS",
         "showlegend": false,
         "text": "<b>-</b>",
         "type": "scatter",
         "x": [
          153.15610230579796
         ],
         "xaxis": "x",
         "y": [
          0.9162835262952043
         ],
         "yaxis": "y"
        },
        {
         "hovertemplate": "<b>DIAG-C400-lin</b> <br>ERT: %{y:.2f} <br>Carbon capture: %{x:.2f}",
         "line": {
          "width": 4
         },
         "marker": {
          "color": "black",
          "line": {
           "color": "black",
           "width": 4
          },
          "size": 12,
          "symbol": "circle"
         },
         "mode": "markers",
         "name": "REMIND",
         "showlegend": false,
         "text": "<b>-</b>",
         "type": "scatter",
         "x": [
          180.78106000000025
         ],
         "xaxis": "x",
         "y": [
          1.1754351148627167
         ],
         "yaxis": "y"
        },
        {
         "hovertemplate": "<b>DIAG-C400-lin</b> <br>ERT: %{y:.2f} <br>Carbon capture: %{x:.2f}",
         "line": {
          "width": 4
         },
         "marker": {
          "color": "black",
          "line": {
           "color": "black",
           "width": 4
          },
          "size": 12,
          "symbol": "circle"
         },
         "mode": "markers",
         "name": "WITCH",
         "showlegend": false,
         "text": "<b>-</b>",
         "type": "scatter",
         "x": [
          200.8516956749222
         ],
         "xaxis": "x",
         "y": [
          0.8754224366316201
         ],
         "yaxis": "y"
        },
        {
         "hovertemplate": "<b>DIAG-C400-lin</b> <br>ERT: %{y:.2f} <br>Carbon capture: %{x:.2f}",
         "line": {
          "width": 4
         },
         "marker": {
          "color": "black",
          "line": {
           "color": "black",
           "width": 4
          },
          "size": 12,
          "symbol": "circle"
         },
         "mode": "markers",
         "name": "Euro-Calliope",
         "showlegend": false,
         "text": "<b>-</b>",
         "type": "scatter",
         "x": [
          167.77213644825633
         ],
         "xaxis": "x",
         "y": [
          0.9996545960963845
         ],
         "yaxis": "y"
        },
        {
         "hovertemplate": "<b>DIAG-C400-lin</b> <br>ERT: %{y:.2f} <br>Carbon capture: %{x:.2f}",
         "line": {
          "width": 4
         },
         "marker": {
          "color": "black",
          "line": {
           "color": "black",
           "width": 4
          },
          "size": 12,
          "symbol": "circle"
         },
         "mode": "markers",
         "name": "TIAM-ECN",
         "showlegend": false,
         "text": "<b>-</b>",
         "type": "scatter",
         "x": [
          120.30938000000015
         ],
         "xaxis": "x",
         "y": [
          0.7139295144284236
         ],
         "yaxis": "y"
        },
        {
         "hovertemplate": "<b>DIAG-C400-lin</b> <br>ERT: %{y:.2f} <br>Carbon capture: %{x:.2f}",
         "line": {
          "width": 4
         },
         "marker": {
          "color": "black",
          "line": {
           "color": "black",
           "width": 4
          },
          "size": 12,
          "symbol": "circle"
         },
         "mode": "markers",
         "name": "MESSAGE",
         "showlegend": false,
         "text": "<b>-</b>",
         "type": "scatter",
         "x": [
          170.61919135807875
         ],
         "xaxis": "x",
         "y": [
          0.862218374011189
         ],
         "yaxis": "y"
        },
        {
         "hovertemplate": "<b>DIAG-C400-lin</b> <br>ERT: %{y:.2f} <br>Carbon capture: %{x:.2f}",
         "line": {
          "width": 4
         },
         "marker": {
          "color": "black",
          "line": {
           "color": "black",
           "width": 4
          },
          "size": 12,
          "symbol": "circle"
         },
         "mode": "markers",
         "name": "PRIMES",
         "showlegend": false,
         "text": "<b>-</b>",
         "type": "scatter",
         "x": [
          150.3584051058233
         ],
         "xaxis": "x",
         "y": [
          0.9402672263099785
         ],
         "yaxis": "y"
        },
        {
         "line": {
          "dash": "dash"
         },
         "marker": {
          "color": "silver",
          "line": {
           "color": "black",
           "width": 0
          },
          "size": 35,
          "symbol": "square"
         },
         "mode": "text+lines",
         "showlegend": false,
         "text": "η",
         "textfont": {
          "size": 18
         },
         "type": "scatter",
         "x": [
          0,
          0.615,
          1000
         ],
         "xaxis": "x2",
         "y": [
          0.49063505337967195,
          0.49063505337967195,
          0.49063505337967195
         ],
         "yaxis": "y2"
        },
        {
         "marker": {
          "color": "silver",
          "line": {
           "color": "black",
           "width": 0
          },
          "size": 35,
          "symbol": "square"
         },
         "mode": "text",
         "showlegend": false,
         "text": "+σ",
         "textfont": {
          "size": 18
         },
         "type": "scatter",
         "x": [
          0,
          0.615,
          1000
         ],
         "xaxis": "x2",
         "y": [
          0.5715485993160271,
          0.5715485993160271,
          0.5715485993160271
         ],
         "yaxis": "y2"
        },
        {
         "marker": {
          "color": "silver",
          "line": {
           "color": "black",
           "width": 0
          },
          "size": 35,
          "symbol": "square"
         },
         "mode": "text",
         "showlegend": false,
         "text": "-σ",
         "textfont": {
          "size": 18
         },
         "type": "scatter",
         "x": [
          0,
          0.615,
          1000
         ],
         "xaxis": "x2",
         "y": [
          0.4097215074433168,
          0.4097215074433168,
          0.4097215074433168
         ],
         "yaxis": "y2"
        },
        {
         "marker": {
          "color": "silver",
          "line": {
           "color": "black",
           "width": 0
          },
          "size": 35,
          "symbol": "square"
         },
         "mode": "text",
         "showlegend": false,
         "text": "+2σ",
         "textfont": {
          "size": 18
         },
         "type": "scatter",
         "x": [
          0,
          0.615,
          1000
         ],
         "xaxis": "x2",
         "y": [
          0.6524621452523822,
          0.6524621452523822,
          0.6524621452523822
         ],
         "yaxis": "y2"
        },
        {
         "marker": {
          "color": "silver",
          "line": {
           "color": "black",
           "width": 0
          },
          "size": 35,
          "symbol": "square"
         },
         "mode": "text",
         "showlegend": false,
         "text": "-2σ",
         "textfont": {
          "size": 18
         },
         "type": "scatter",
         "x": [
          0,
          0.615,
          1000
         ],
         "xaxis": "x2",
         "y": [
          0.3288079615069617,
          0.3288079615069617,
          0.3288079615069617
         ],
         "yaxis": "y2"
        },
        {
         "fill": "toself",
         "fillcolor": "silver",
         "line": {
          "color": "silver"
         },
         "opacity": 0.25,
         "showlegend": false,
         "type": "scatter",
         "x": [
          -1000,
          1000,
          1000,
          -1000
         ],
         "xaxis": "x2",
         "y": [
          0.4097215074433168,
          0.4097215074433168,
          0.5715485993160271,
          0.5715485993160271
         ],
         "yaxis": "y2"
        },
        {
         "fill": "toself",
         "fillcolor": "silver",
         "line": {
          "color": "silver"
         },
         "opacity": 0.1,
         "showlegend": false,
         "type": "scatter",
         "x": [
          -1000,
          1000,
          1000,
          -1000
         ],
         "xaxis": "x2",
         "y": [
          0.3288079615069617,
          0.3288079615069617,
          0.6524621452523822,
          0.6524621452523822
         ],
         "yaxis": "y2"
        },
        {
         "line": {
          "dash": "dash"
         },
         "marker": {
          "color": "silver",
          "line": {
           "color": "black",
           "width": 0
          },
          "size": 35,
          "symbol": "square"
         },
         "mode": "text+lines",
         "showlegend": false,
         "text": "η",
         "textfont": {
          "size": 18
         },
         "type": "scatter",
         "x": [
          0.9458835828241753,
          0.9458835828241753,
          0.9458835828241753
         ],
         "xaxis": "x2",
         "y": [
          -1000,
          0.325,
          1000
         ],
         "yaxis": "y2"
        },
        {
         "line": {
          "dash": "dash"
         },
         "marker": {
          "color": "silver",
          "line": {
           "color": "black",
           "width": 0
          },
          "size": 35,
          "symbol": "square"
         },
         "mode": "text",
         "showlegend": false,
         "text": "+σ",
         "textfont": {
          "size": 18
         },
         "type": "scatter",
         "x": [
          1.0508342611628272,
          1.0508342611628272,
          1.0508342611628272
         ],
         "xaxis": "x2",
         "y": [
          -1000,
          0.325,
          1000
         ],
         "yaxis": "y2"
        },
        {
         "line": {
          "dash": "dash"
         },
         "marker": {
          "color": "silver",
          "line": {
           "color": "black",
           "width": 0
          },
          "size": 35,
          "symbol": "square"
         },
         "mode": "text",
         "showlegend": false,
         "text": "-σ",
         "textfont": {
          "size": 18
         },
         "type": "scatter",
         "x": [
          0.8409329044855235,
          0.8409329044855235,
          0.8409329044855235
         ],
         "xaxis": "x2",
         "y": [
          -1000,
          0.325,
          1000
         ],
         "yaxis": "y2"
        },
        {
         "line": {
          "dash": "dash"
         },
         "marker": {
          "color": "silver",
          "line": {
           "color": "black",
           "width": 0
          },
          "size": 35,
          "symbol": "square"
         },
         "mode": "text",
         "showlegend": false,
         "text": "+2σ",
         "textfont": {
          "size": 18
         },
         "type": "scatter",
         "x": [
          1.155784939501479,
          1.155784939501479,
          1.155784939501479
         ],
         "xaxis": "x2",
         "y": [
          -1000,
          0.325,
          1000
         ],
         "yaxis": "y2"
        },
        {
         "line": {
          "dash": "dash"
         },
         "marker": {
          "color": "silver",
          "line": {
           "color": "black",
           "width": 0
          },
          "size": 35,
          "symbol": "square"
         },
         "mode": "text",
         "showlegend": false,
         "text": "-2σ",
         "textfont": {
          "size": 18
         },
         "type": "scatter",
         "x": [
          0.7359822261468716,
          0.7359822261468716,
          0.7359822261468716
         ],
         "xaxis": "x2",
         "y": [
          -1000,
          0.325,
          1000
         ],
         "yaxis": "y2"
        },
        {
         "fill": "toself",
         "fillcolor": "silver",
         "line": {
          "color": "silver"
         },
         "opacity": 0.25,
         "showlegend": false,
         "type": "scatter",
         "x": [
          0.8409329044855235,
          0.8409329044855235,
          1.0508342611628272,
          1.0508342611628272
         ],
         "xaxis": "x2",
         "y": [
          -1000,
          1000,
          1000,
          -1000
         ],
         "yaxis": "y2"
        },
        {
         "fill": "toself",
         "fillcolor": "silver",
         "line": {
          "color": "silver"
         },
         "opacity": 0.1,
         "showlegend": false,
         "type": "scatter",
         "x": [
          0.7359822261468716,
          0.7359822261468716,
          1.155784939501479,
          1.155784939501479
         ],
         "xaxis": "x2",
         "y": [
          -1000,
          1000,
          1000,
          -1000
         ],
         "yaxis": "y2"
        },
        {
         "line": {
          "dash": "solid",
          "width": 3
         },
         "marker": {
          "color": "lightskyblue",
          "line": {
           "color": "black",
           "width": 0.5
          },
          "size": [
           12,
           30
          ]
         },
         "mode": "lines+markers",
         "name": "IMAGE 3.2",
         "showlegend": false,
         "text": [
          "",
          "B"
         ],
         "textfont": {
          "color": "black",
          "size": 15
         },
         "type": "scatter",
         "x": [
          0.978066870682481,
          0.8419508732169634
         ],
         "xaxis": "x2",
         "y": [
          0.5009024945097867,
          0.5187823101912711
         ],
         "yaxis": "y2"
        },
        {
         "line": {
          "dash": "solid",
          "width": 3
         },
         "marker": {
          "color": "lightskyblue",
          "line": {
           "color": "black",
           "width": 0.5
          },
          "size": [
           12,
           30
          ]
         },
         "mode": "lines+markers",
         "name": "IMAGE 3.2",
         "showlegend": false,
         "text": [
          "",
          "C"
         ],
         "textfont": {
          "color": "black",
          "size": 15
         },
         "type": "scatter",
         "x": [
          0.978066870682481,
          0.7151683255027377
         ],
         "xaxis": "x2",
         "y": [
          0.5009024945097867,
          0.508189107023095
         ],
         "yaxis": "y2"
        },
        {
         "line": {
          "dash": "solid",
          "width": 3
         },
         "marker": {
          "color": "lightskyblue",
          "line": {
           "color": "black",
           "width": 0.5
          },
          "size": [
           12,
           30
          ]
         },
         "mode": "lines+markers",
         "name": "IMAGE 3.2",
         "showlegend": false,
         "text": [
          "",
          "N"
         ],
         "textfont": {
          "color": "black",
          "size": 15
         },
         "type": "scatter",
         "x": [
          0.978066870682481,
          0.9851977135785932
         ],
         "xaxis": "x2",
         "y": [
          0.5009024945097867,
          0.4996519143972731
         ],
         "yaxis": "y2"
        },
        {
         "line": {
          "dash": "solid",
          "width": 3
         },
         "marker": {
          "color": "lightskyblue",
          "line": {
           "color": "black",
           "width": 0.5
          },
          "size": [
           12,
           30
          ]
         },
         "mode": "lines+markers",
         "name": "IMAGE 3.2",
         "showlegend": false,
         "text": [
          "",
          "V"
         ],
         "textfont": {
          "color": "black",
          "size": 15
         },
         "type": "scatter",
         "x": [
          0.978066870682481,
          1.022108965395159
         ],
         "xaxis": "x2",
         "y": [
          0.5009024945097867,
          0.4969698323563603
         ],
         "yaxis": "y2"
        },
        {
         "line": {
          "dash": "solid",
          "width": 3
         },
         "marker": {
          "color": "lightskyblue",
          "line": {
           "color": "black",
           "width": 0.5
          },
          "size": [
           12,
           30
          ]
         },
         "mode": "lines+markers",
         "name": "IMAGE 3.2",
         "showlegend": false,
         "text": [
          "",
          "El"
         ],
         "textfont": {
          "color": "black",
          "size": 15
         },
         "type": "scatter",
         "x": [
          0.978066870682481,
          1.0049843168023207
         ],
         "xaxis": "x2",
         "y": [
          0.5009024945097867,
          0.4947983619215975
         ],
         "yaxis": "y2"
        },
        {
         "line": {
          "dash": "solid",
          "width": 3
         },
         "marker": {
          "color": "lightskyblue",
          "line": {
           "color": "black",
           "width": 0.5
          },
          "size": [
           12,
           30
          ]
         },
         "mode": "lines+markers",
         "name": "IMAGE 3.2",
         "showlegend": false,
         "text": [
          "",
          "H"
         ],
         "textfont": {
          "color": "black",
          "size": 15
         },
         "type": "scatter",
         "x": [
          0.978066870682481,
          1.009560078040409
         ],
         "xaxis": "x2",
         "y": [
          0.5009024945097867,
          0.47601299082689
         ],
         "yaxis": "y2"
        },
        {
         "line": {
          "dash": "solid",
          "width": 3
         },
         "marker": {
          "color": "lightskyblue",
          "line": {
           "color": "black",
           "width": 0.5
          },
          "size": [
           12,
           30
          ]
         },
         "mode": "lines+markers",
         "name": "IMAGE 3.2",
         "showlegend": false,
         "text": [
          "",
          "F"
         ],
         "textfont": {
          "color": "black",
          "size": 15
         },
         "type": "scatter",
         "x": [
          0.978066870682481,
          1.0410022045689924
         ],
         "xaxis": "x2",
         "y": [
          0.5009024945097867,
          0.5527506607223538
         ],
         "yaxis": "y2"
        },
        {
         "line": {
          "dash": "solid",
          "width": 3
         },
         "marker": {
          "color": "lightskyblue",
          "line": {
           "color": "black",
           "width": 0.5
          },
          "size": [
           12,
           30
          ]
         },
         "mode": "lines+markers",
         "name": "IMAGE 3.2",
         "showlegend": false,
         "text": [
          "",
          "Ef"
         ],
         "textfont": {
          "color": "black",
          "size": 15
         },
         "type": "scatter",
         "x": [
          0.978066870682481,
          0.9743432647172983
         ],
         "xaxis": "x2",
         "y": [
          0.5009024945097867,
          0.5238989793084431
         ],
         "yaxis": "y2"
        },
        {
         "line": {
          "dash": "solid",
          "width": 3
         },
         "marker": {
          "color": "goldenrod",
          "line": {
           "color": "black",
           "width": 0.5
          },
          "size": [
           12,
           30
          ]
         },
         "mode": "lines+markers",
         "name": "PROMETHEUS 1.2",
         "showlegend": false,
         "text": [
          "",
          "B"
         ],
         "textfont": {
          "color": "black",
          "size": 15
         },
         "type": "scatter",
         "x": [
          0.924541791129761,
          0.7294627769605565
         ],
         "xaxis": "x2",
         "y": [
          0.5529069135319611,
          0.5423154207501246
         ],
         "yaxis": "y2"
        },
        {
         "line": {
          "dash": "solid",
          "width": 3
         },
         "marker": {
          "color": "goldenrod",
          "line": {
           "color": "black",
           "width": 0.5
          },
          "size": [
           12,
           30
          ]
         },
         "mode": "lines+markers",
         "name": "PROMETHEUS 1.2",
         "showlegend": false,
         "text": [
          "",
          "C"
         ],
         "textfont": {
          "color": "black",
          "size": 15
         },
         "type": "scatter",
         "x": [
          0.924541791129761,
          0.8733929275150825
         ],
         "xaxis": "x2",
         "y": [
          0.5529069135319611,
          0.5534020996171135
         ],
         "yaxis": "y2"
        },
        {
         "line": {
          "dash": "solid",
          "width": 3
         },
         "marker": {
          "color": "goldenrod",
          "line": {
           "color": "black",
           "width": 0.5
          },
          "size": [
           12,
           30
          ]
         },
         "mode": "lines+markers",
         "name": "PROMETHEUS 1.2",
         "showlegend": false,
         "text": [
          "",
          "N"
         ],
         "textfont": {
          "color": "black",
          "size": 15
         },
         "type": "scatter",
         "x": [
          0.924541791129761,
          0.8994091624983598
         ],
         "xaxis": "x2",
         "y": [
          0.5529069135319611,
          0.5550124183111009
         ],
         "yaxis": "y2"
        },
        {
         "line": {
          "dash": "solid",
          "width": 3
         },
         "marker": {
          "color": "goldenrod",
          "line": {
           "color": "black",
           "width": 0.5
          },
          "size": [
           12,
           30
          ]
         },
         "mode": "lines+markers",
         "name": "PROMETHEUS 1.2",
         "showlegend": false,
         "text": [
          "",
          "V"
         ],
         "textfont": {
          "color": "black",
          "size": 15
         },
         "type": "scatter",
         "x": [
          0.924541791129761,
          0.8249674372321893
         ],
         "xaxis": "x2",
         "y": [
          0.5529069135319611,
          0.5566619956472704
         ],
         "yaxis": "y2"
        },
        {
         "line": {
          "dash": "solid",
          "width": 3
         },
         "marker": {
          "color": "goldenrod",
          "line": {
           "color": "black",
           "width": 0.5
          },
          "size": [
           12,
           30
          ]
         },
         "mode": "lines+markers",
         "name": "PROMETHEUS 1.2",
         "showlegend": false,
         "text": [
          "",
          "El"
         ],
         "textfont": {
          "color": "black",
          "size": 15
         },
         "type": "scatter",
         "x": [
          0.924541791129761,
          0.9268208673943666
         ],
         "xaxis": "x2",
         "y": [
          0.5529069135319611,
          0.5771169255441833
         ],
         "yaxis": "y2"
        },
        {
         "line": {
          "dash": "solid",
          "width": 3
         },
         "marker": {
          "color": "goldenrod",
          "line": {
           "color": "black",
           "width": 0.5
          },
          "size": [
           12,
           30
          ]
         },
         "mode": "lines+markers",
         "name": "PROMETHEUS 1.2",
         "showlegend": false,
         "text": [
          "",
          "H"
         ],
         "textfont": {
          "color": "black",
          "size": 15
         },
         "type": "scatter",
         "x": [
          0.924541791129761,
          null
         ],
         "xaxis": "x2",
         "y": [
          0.5529069135319611,
          null
         ],
         "yaxis": "y2"
        },
        {
         "line": {
          "dash": "solid",
          "width": 3
         },
         "marker": {
          "color": "goldenrod",
          "line": {
           "color": "black",
           "width": 0.5
          },
          "size": [
           12,
           30
          ]
         },
         "mode": "lines+markers",
         "name": "PROMETHEUS 1.2",
         "showlegend": false,
         "text": [
          "",
          "F"
         ],
         "textfont": {
          "color": "black",
          "size": 15
         },
         "type": "scatter",
         "x": [
          0.924541791129761,
          null
         ],
         "xaxis": "x2",
         "y": [
          0.5529069135319611,
          null
         ],
         "yaxis": "y2"
        },
        {
         "line": {
          "dash": "solid",
          "width": 3
         },
         "marker": {
          "color": "goldenrod",
          "line": {
           "color": "black",
           "width": 0.5
          },
          "size": [
           12,
           30
          ]
         },
         "mode": "lines+markers",
         "name": "PROMETHEUS 1.2",
         "showlegend": false,
         "text": [
          "",
          "Ef"
         ],
         "textfont": {
          "color": "black",
          "size": 15
         },
         "type": "scatter",
         "x": [
          0.924541791129761,
          0.926199797355155
         ],
         "xaxis": "x2",
         "y": [
          0.5529069135319611,
          0.5896797971103473
         ],
         "yaxis": "y2"
        },
        {
         "line": {
          "dash": "solid",
          "width": 3
         },
         "marker": {
          "color": "tomato",
          "line": {
           "color": "black",
           "width": 0.5
          },
          "size": [
           12,
           30
          ]
         },
         "mode": "lines+markers",
         "name": "REMIND 2.1",
         "showlegend": false,
         "text": [
          "",
          "B"
         ],
         "textfont": {
          "color": "black",
          "size": 15
         },
         "type": "scatter",
         "x": [
          1.0764937922594884,
          0.9789082258261582
         ],
         "xaxis": "x2",
         "y": [
          0.4865644265264627,
          0.47551263830678486
         ],
         "yaxis": "y2"
        },
        {
         "line": {
          "dash": "solid",
          "width": 3
         },
         "marker": {
          "color": "tomato",
          "line": {
           "color": "black",
           "width": 0.5
          },
          "size": [
           12,
           30
          ]
         },
         "mode": "lines+markers",
         "name": "REMIND 2.1",
         "showlegend": false,
         "text": [
          "",
          "C"
         ],
         "textfont": {
          "color": "black",
          "size": 15
         },
         "type": "scatter",
         "x": [
          1.0764937922594884,
          1.0031245838262923
         ],
         "xaxis": "x2",
         "y": [
          0.4865644265264627,
          0.49063505337967195
         ],
         "yaxis": "y2"
        },
        {
         "line": {
          "dash": "solid",
          "width": 3
         },
         "marker": {
          "color": "tomato",
          "line": {
           "color": "black",
           "width": 0.5
          },
          "size": [
           12,
           30
          ]
         },
         "mode": "lines+markers",
         "name": "REMIND 2.1",
         "showlegend": false,
         "text": [
          "",
          "N"
         ],
         "textfont": {
          "color": "black",
          "size": 15
         },
         "type": "scatter",
         "x": [
          1.0764937922594884,
          1.0770808839378383
         ],
         "xaxis": "x2",
         "y": [
          0.4865644265264627,
          0.4869315914950878
         ],
         "yaxis": "y2"
        },
        {
         "line": {
          "dash": "solid",
          "width": 3
         },
         "marker": {
          "color": "tomato",
          "line": {
           "color": "black",
           "width": 0.5
          },
          "size": [
           12,
           30
          ]
         },
         "mode": "lines+markers",
         "name": "REMIND 2.1",
         "showlegend": false,
         "text": [
          "",
          "V"
         ],
         "textfont": {
          "color": "black",
          "size": 15
         },
         "type": "scatter",
         "x": [
          1.0764937922594884,
          1.0762962265181222
         ],
         "xaxis": "x2",
         "y": [
          0.4865644265264627,
          0.46981003740212307
         ],
         "yaxis": "y2"
        },
        {
         "line": {
          "dash": "solid",
          "width": 3
         },
         "marker": {
          "color": "tomato",
          "line": {
           "color": "black",
           "width": 0.5
          },
          "size": [
           12,
           30
          ]
         },
         "mode": "lines+markers",
         "name": "REMIND 2.1",
         "showlegend": false,
         "text": [
          "",
          "El"
         ],
         "textfont": {
          "color": "black",
          "size": 15
         },
         "type": "scatter",
         "x": [
          1.0764937922594884,
          1.081121118427886
         ],
         "xaxis": "x2",
         "y": [
          0.4865644265264627,
          0.4831493819958141
         ],
         "yaxis": "y2"
        },
        {
         "line": {
          "dash": "solid",
          "width": 3
         },
         "marker": {
          "color": "tomato",
          "line": {
           "color": "black",
           "width": 0.5
          },
          "size": [
           12,
           30
          ]
         },
         "mode": "lines+markers",
         "name": "REMIND 2.1",
         "showlegend": false,
         "text": [
          "",
          "H"
         ],
         "textfont": {
          "color": "black",
          "size": 15
         },
         "type": "scatter",
         "x": [
          1.0764937922594884,
          1.082953689398567
         ],
         "xaxis": "x2",
         "y": [
          0.4865644265264627,
          0.44353770958304084
         ],
         "yaxis": "y2"
        },
        {
         "line": {
          "dash": "solid",
          "width": 3
         },
         "marker": {
          "color": "tomato",
          "line": {
           "color": "black",
           "width": 0.5
          },
          "size": [
           12,
           30
          ]
         },
         "mode": "lines+markers",
         "name": "REMIND 2.1",
         "showlegend": false,
         "text": [
          "",
          "F"
         ],
         "textfont": {
          "color": "black",
          "size": 15
         },
         "type": "scatter",
         "x": [
          1.0764937922594884,
          1.0549941777461407
         ],
         "xaxis": "x2",
         "y": [
          0.4865644265264627,
          0.44746559651833007
         ],
         "yaxis": "y2"
        },
        {
         "line": {
          "dash": "solid",
          "width": 3
         },
         "marker": {
          "color": "tomato",
          "line": {
           "color": "black",
           "width": 0.5
          },
          "size": [
           12,
           30
          ]
         },
         "mode": "lines+markers",
         "name": "REMIND 2.1",
         "showlegend": false,
         "text": [
          "",
          "Ef"
         ],
         "textfont": {
          "color": "black",
          "size": 15
         },
         "type": "scatter",
         "x": [
          1.0764937922594884,
          1.128188286739159
         ],
         "xaxis": "x2",
         "y": [
          0.4865644265264627,
          0.6113986500526952
         ],
         "yaxis": "y2"
        },
        {
         "line": {
          "dash": "solid",
          "width": 3
         },
         "marker": {
          "color": "forestgreen",
          "line": {
           "color": "black",
           "width": 0.5
          },
          "size": [
           12,
           30
          ]
         },
         "mode": "lines+markers",
         "name": "WITCH 5.0",
         "showlegend": false,
         "text": [
          "",
          "B"
         ],
         "textfont": {
          "color": "black",
          "size": 15
         },
         "type": "scatter",
         "x": [
          0.8913025782258366,
          0.8152630604132425
         ],
         "xaxis": "x2",
         "y": [
          0.6664251931253595,
          0.6698303280823207
         ],
         "yaxis": "y2"
        },
        {
         "line": {
          "dash": "solid",
          "width": 3
         },
         "marker": {
          "color": "forestgreen",
          "line": {
           "color": "black",
           "width": 0.5
          },
          "size": [
           12,
           30
          ]
         },
         "mode": "lines+markers",
         "name": "WITCH 5.0",
         "showlegend": false,
         "text": [
          "",
          "C"
         ],
         "textfont": {
          "color": "black",
          "size": 15
         },
         "type": "scatter",
         "x": [
          0.8913025782258366,
          0.6528088119917694
         ],
         "xaxis": "x2",
         "y": [
          0.6664251931253595,
          0.6755021907917861
         ],
         "yaxis": "y2"
        },
        {
         "line": {
          "dash": "solid",
          "width": 3
         },
         "marker": {
          "color": "forestgreen",
          "line": {
           "color": "black",
           "width": 0.5
          },
          "size": [
           12,
           30
          ]
         },
         "mode": "lines+markers",
         "name": "WITCH 5.0",
         "showlegend": false,
         "text": [
          "",
          "N"
         ],
         "textfont": {
          "color": "black",
          "size": 15
         },
         "type": "scatter",
         "x": [
          0.8913025782258366,
          0.891155625523428
         ],
         "xaxis": "x2",
         "y": [
          0.6664251931253595,
          0.6673235067487017
         ],
         "yaxis": "y2"
        },
        {
         "line": {
          "dash": "solid",
          "width": 3
         },
         "marker": {
          "color": "forestgreen",
          "line": {
           "color": "black",
           "width": 0.5
          },
          "size": [
           12,
           30
          ]
         },
         "mode": "lines+markers",
         "name": "WITCH 5.0",
         "showlegend": false,
         "text": [
          "",
          "V"
         ],
         "textfont": {
          "color": "black",
          "size": 15
         },
         "type": "scatter",
         "x": [
          0.8913025782258366,
          0.891254865940898
         ],
         "xaxis": "x2",
         "y": [
          0.6664251931253595,
          0.666413800106879
         ],
         "yaxis": "y2"
        },
        {
         "line": {
          "dash": "solid",
          "width": 3
         },
         "marker": {
          "color": "forestgreen",
          "line": {
           "color": "black",
           "width": 0.5
          },
          "size": [
           12,
           30
          ]
         },
         "mode": "lines+markers",
         "name": "WITCH 5.0",
         "showlegend": false,
         "text": [
          "",
          "El"
         ],
         "textfont": {
          "color": "black",
          "size": 15
         },
         "type": "scatter",
         "x": [
          0.8913025782258366,
          1.067889007601485
         ],
         "xaxis": "x2",
         "y": [
          0.6664251931253595,
          0.6032470893478159
         ],
         "yaxis": "y2"
        },
        {
         "line": {
          "dash": "solid",
          "width": 3
         },
         "marker": {
          "color": "forestgreen",
          "line": {
           "color": "black",
           "width": 0.5
          },
          "size": [
           12,
           30
          ]
         },
         "mode": "lines+markers",
         "name": "WITCH 5.0",
         "showlegend": false,
         "text": [
          "",
          "H"
         ],
         "textfont": {
          "color": "black",
          "size": 15
         },
         "type": "scatter",
         "x": [
          0.8913025782258366,
          0.8908641915455082
         ],
         "xaxis": "x2",
         "y": [
          0.6664251931253595,
          0.6668972487346501
         ],
         "yaxis": "y2"
        },
        {
         "line": {
          "dash": "solid",
          "width": 3
         },
         "marker": {
          "color": "forestgreen",
          "line": {
           "color": "black",
           "width": 0.5
          },
          "size": [
           12,
           30
          ]
         },
         "mode": "lines+markers",
         "name": "WITCH 5.0",
         "showlegend": false,
         "text": [
          "",
          "F"
         ],
         "textfont": {
          "color": "black",
          "size": 15
         },
         "type": "scatter",
         "x": [
          0.8913025782258366,
          null
         ],
         "xaxis": "x2",
         "y": [
          0.6664251931253595,
          null
         ],
         "yaxis": "y2"
        },
        {
         "line": {
          "dash": "solid",
          "width": 3
         },
         "marker": {
          "color": "forestgreen",
          "line": {
           "color": "black",
           "width": 0.5
          },
          "size": [
           12,
           30
          ]
         },
         "mode": "lines+markers",
         "name": "WITCH 5.0",
         "showlegend": false,
         "text": [
          "",
          "Ef"
         ],
         "textfont": {
          "color": "black",
          "size": 15
         },
         "type": "scatter",
         "x": [
          0.8913025782258366,
          0.8789278062751369
         ],
         "xaxis": "x2",
         "y": [
          0.6664251931253595,
          0.6525318706929802
         ],
         "yaxis": "y2"
        },
        {
         "line": {
          "dash": "solid",
          "width": 3
         },
         "marker": {
          "color": "darkgrey",
          "line": {
           "color": "black",
           "width": 0.5
          },
          "size": [
           12,
           30
          ]
         },
         "mode": "lines+markers",
         "name": "Euro-Calliope 2.0",
         "showlegend": false,
         "text": [
          "",
          "B"
         ],
         "textfont": {
          "color": "black",
          "size": 15
         },
         "type": "scatter",
         "x": [
          0.9998057628062715,
          0.9998057628062715
         ],
         "xaxis": "x2",
         "y": [
          0.452507382839344,
          0.452507382839344
         ],
         "yaxis": "y2"
        },
        {
         "line": {
          "dash": "solid",
          "width": 3
         },
         "marker": {
          "color": "darkgrey",
          "line": {
           "color": "black",
           "width": 0.5
          },
          "size": [
           12,
           30
          ]
         },
         "mode": "lines+markers",
         "name": "Euro-Calliope 2.0",
         "showlegend": false,
         "text": [
          "",
          "C"
         ],
         "textfont": {
          "color": "black",
          "size": 15
         },
         "type": "scatter",
         "x": [
          0.9998057628062715,
          0.9998057628062715
         ],
         "xaxis": "x2",
         "y": [
          0.452507382839344,
          0.452507382839344
         ],
         "yaxis": "y2"
        },
        {
         "line": {
          "dash": "solid",
          "width": 3
         },
         "marker": {
          "color": "darkgrey",
          "line": {
           "color": "black",
           "width": 0.5
          },
          "size": [
           12,
           30
          ]
         },
         "mode": "lines+markers",
         "name": "Euro-Calliope 2.0",
         "showlegend": false,
         "text": [
          "",
          "N"
         ],
         "textfont": {
          "color": "black",
          "size": 15
         },
         "type": "scatter",
         "x": [
          0.9998057628062715,
          0.9997620516011335
         ],
         "xaxis": "x2",
         "y": [
          0.452507382839344,
          0.45157250728525744
         ],
         "yaxis": "y2"
        },
        {
         "line": {
          "dash": "solid",
          "width": 3
         },
         "marker": {
          "color": "darkgrey",
          "line": {
           "color": "black",
           "width": 0.5
          },
          "size": [
           12,
           30
          ]
         },
         "mode": "lines+markers",
         "name": "Euro-Calliope 2.0",
         "showlegend": false,
         "text": [
          "",
          "V"
         ],
         "textfont": {
          "color": "black",
          "size": 15
         },
         "type": "scatter",
         "x": [
          0.9998057628062715,
          0.9998070127466971
         ],
         "xaxis": "x2",
         "y": [
          0.452507382839344,
          0.45263129256829554
         ],
         "yaxis": "y2"
        },
        {
         "line": {
          "dash": "solid",
          "width": 3
         },
         "marker": {
          "color": "darkgrey",
          "line": {
           "color": "black",
           "width": 0.5
          },
          "size": [
           12,
           30
          ]
         },
         "mode": "lines+markers",
         "name": "Euro-Calliope 2.0",
         "showlegend": false,
         "text": [
          "",
          "El"
         ],
         "textfont": {
          "color": "black",
          "size": 15
         },
         "type": "scatter",
         "x": [
          0.9998057628062715,
          0.9999926821469974
         ],
         "xaxis": "x2",
         "y": [
          0.452507382839344,
          0.4552237766275175
         ],
         "yaxis": "y2"
        },
        {
         "line": {
          "dash": "solid",
          "width": 3
         },
         "marker": {
          "color": "darkgrey",
          "line": {
           "color": "black",
           "width": 0.5
          },
          "size": [
           12,
           30
          ]
         },
         "mode": "lines+markers",
         "name": "Euro-Calliope 2.0",
         "showlegend": false,
         "text": [
          "",
          "H"
         ],
         "textfont": {
          "color": "black",
          "size": 15
         },
         "type": "scatter",
         "x": [
          0.9998057628062715,
          0.9998179228477185
         ],
         "xaxis": "x2",
         "y": [
          0.452507382839344,
          0.45267251557980653
         ],
         "yaxis": "y2"
        },
        {
         "line": {
          "dash": "solid",
          "width": 3
         },
         "marker": {
          "color": "darkgrey",
          "line": {
           "color": "black",
           "width": 0.5
          },
          "size": [
           12,
           30
          ]
         },
         "mode": "lines+markers",
         "name": "Euro-Calliope 2.0",
         "showlegend": false,
         "text": [
          "",
          "F"
         ],
         "textfont": {
          "color": "black",
          "size": 15
         },
         "type": "scatter",
         "x": [
          0.9998057628062715,
          0.9998043655340796
         ],
         "xaxis": "x2",
         "y": [
          0.452507382839344,
          0.4526584750028367
         ],
         "yaxis": "y2"
        },
        {
         "line": {
          "dash": "solid",
          "width": 3
         },
         "marker": {
          "color": "darkgrey",
          "line": {
           "color": "black",
           "width": 0.5
          },
          "size": [
           12,
           30
          ]
         },
         "mode": "lines+markers",
         "name": "Euro-Calliope 2.0",
         "showlegend": false,
         "text": [
          "",
          "Ef"
         ],
         "textfont": {
          "color": "black",
          "size": 15
         },
         "type": "scatter",
         "x": [
          0.9998057628062715,
          0.9998053799301947
         ],
         "xaxis": "x2",
         "y": [
          0.452507382839344,
          0.4525589479559049
         ],
         "yaxis": "y2"
        },
        {
         "line": {
          "dash": "solid",
          "width": 3
         },
         "marker": {
          "color": "royalblue",
          "line": {
           "color": "black",
           "width": 0.5
          },
          "size": [
           12,
           30
          ]
         },
         "mode": "lines+markers",
         "name": "TIAM-ECN 1.2",
         "showlegend": false,
         "text": [
          "",
          "B"
         ],
         "textfont": {
          "color": "black",
          "size": 15
         },
         "type": "scatter",
         "x": [
          0.747900064844355,
          0.7202211861663642
         ],
         "xaxis": "x2",
         "y": [
          0.35294176480328837,
          0.3635222223588571
         ],
         "yaxis": "y2"
        },
        {
         "line": {
          "dash": "solid",
          "width": 3
         },
         "marker": {
          "color": "royalblue",
          "line": {
           "color": "black",
           "width": 0.5
          },
          "size": [
           12,
           30
          ]
         },
         "mode": "lines+markers",
         "name": "TIAM-ECN 1.2",
         "showlegend": false,
         "text": [
          "",
          "C"
         ],
         "textfont": {
          "color": "black",
          "size": 15
         },
         "type": "scatter",
         "x": [
          0.747900064844355,
          0.7531527338651409
         ],
         "xaxis": "x2",
         "y": [
          0.35294176480328837,
          0.3634641028296172
         ],
         "yaxis": "y2"
        },
        {
         "line": {
          "dash": "solid",
          "width": 3
         },
         "marker": {
          "color": "royalblue",
          "line": {
           "color": "black",
           "width": 0.5
          },
          "size": [
           12,
           30
          ]
         },
         "mode": "lines+markers",
         "name": "TIAM-ECN 1.2",
         "showlegend": false,
         "text": [
          "",
          "N"
         ],
         "textfont": {
          "color": "black",
          "size": 15
         },
         "type": "scatter",
         "x": [
          0.747900064844355,
          0.7426490251843431
         ],
         "xaxis": "x2",
         "y": [
          0.35294176480328837,
          0.3527052318354518
         ],
         "yaxis": "y2"
        },
        {
         "line": {
          "dash": "solid",
          "width": 3
         },
         "marker": {
          "color": "royalblue",
          "line": {
           "color": "black",
           "width": 0.5
          },
          "size": [
           12,
           30
          ]
         },
         "mode": "lines+markers",
         "name": "TIAM-ECN 1.2",
         "showlegend": false,
         "text": [
          "",
          "V"
         ],
         "textfont": {
          "color": "black",
          "size": 15
         },
         "type": "scatter",
         "x": [
          0.747900064844355,
          0.7534000643888251
         ],
         "xaxis": "x2",
         "y": [
          0.35294176480328837,
          0.35906999609569357
         ],
         "yaxis": "y2"
        },
        {
         "line": {
          "dash": "solid",
          "width": 3
         },
         "marker": {
          "color": "royalblue",
          "line": {
           "color": "black",
           "width": 0.5
          },
          "size": [
           12,
           30
          ]
         },
         "mode": "lines+markers",
         "name": "TIAM-ECN 1.2",
         "showlegend": false,
         "text": [
          "",
          "El"
         ],
         "textfont": {
          "color": "black",
          "size": 15
         },
         "type": "scatter",
         "x": [
          0.747900064844355,
          null
         ],
         "xaxis": "x2",
         "y": [
          0.35294176480328837,
          null
         ],
         "yaxis": "y2"
        },
        {
         "line": {
          "dash": "solid",
          "width": 3
         },
         "marker": {
          "color": "royalblue",
          "line": {
           "color": "black",
           "width": 0.5
          },
          "size": [
           12,
           30
          ]
         },
         "mode": "lines+markers",
         "name": "TIAM-ECN 1.2",
         "showlegend": false,
         "text": [
          "",
          "H"
         ],
         "textfont": {
          "color": "black",
          "size": 15
         },
         "type": "scatter",
         "x": [
          0.747900064844355,
          null
         ],
         "xaxis": "x2",
         "y": [
          0.35294176480328837,
          null
         ],
         "yaxis": "y2"
        },
        {
         "line": {
          "dash": "solid",
          "width": 3
         },
         "marker": {
          "color": "royalblue",
          "line": {
           "color": "black",
           "width": 0.5
          },
          "size": [
           12,
           30
          ]
         },
         "mode": "lines+markers",
         "name": "TIAM-ECN 1.2",
         "showlegend": false,
         "text": [
          "",
          "F"
         ],
         "textfont": {
          "color": "black",
          "size": 15
         },
         "type": "scatter",
         "x": [
          0.747900064844355,
          null
         ],
         "xaxis": "x2",
         "y": [
          0.35294176480328837,
          null
         ],
         "yaxis": "y2"
        },
        {
         "line": {
          "dash": "solid",
          "width": 3
         },
         "marker": {
          "color": "royalblue",
          "line": {
           "color": "black",
           "width": 0.5
          },
          "size": [
           12,
           30
          ]
         },
         "mode": "lines+markers",
         "name": "TIAM-ECN 1.2",
         "showlegend": false,
         "text": [
          "",
          "Ef"
         ],
         "textfont": {
          "color": "black",
          "size": 15
         },
         "type": "scatter",
         "x": [
          0.747900064844355,
          null
         ],
         "xaxis": "x2",
         "y": [
          0.35294176480328837,
          null
         ],
         "yaxis": "y2"
        },
        {
         "line": {
          "dash": "solid",
          "width": 3
         },
         "marker": {
          "color": "purple",
          "line": {
           "color": "black",
           "width": 0.5
          },
          "size": [
           12,
           30
          ]
         },
         "mode": "lines+markers",
         "name": "MESSAGEix-GLOBIOM 1.2",
         "showlegend": false,
         "text": [
          "",
          "B"
         ],
         "textfont": {
          "color": "black",
          "size": 15
         },
         "type": "scatter",
         "x": [
          0.8674288170797511,
          0.8543111030162988
         ],
         "xaxis": "x2",
         "y": [
          0.44359051020080786,
          0.4532432279004967
         ],
         "yaxis": "y2"
        },
        {
         "line": {
          "dash": "solid",
          "width": 3
         },
         "marker": {
          "color": "purple",
          "line": {
           "color": "black",
           "width": 0.5
          },
          "size": [
           12,
           30
          ]
         },
         "mode": "lines+markers",
         "name": "MESSAGEix-GLOBIOM 1.2",
         "showlegend": false,
         "text": [
          "",
          "C"
         ],
         "textfont": {
          "color": "black",
          "size": 15
         },
         "type": "scatter",
         "x": [
          0.8674288170797511,
          0.8670329899221494
         ],
         "xaxis": "x2",
         "y": [
          0.44359051020080786,
          0.4478168577907253
         ],
         "yaxis": "y2"
        },
        {
         "line": {
          "dash": "solid",
          "width": 3
         },
         "marker": {
          "color": "purple",
          "line": {
           "color": "black",
           "width": 0.5
          },
          "size": [
           12,
           30
          ]
         },
         "mode": "lines+markers",
         "name": "MESSAGEix-GLOBIOM 1.2",
         "showlegend": false,
         "text": [
          "",
          "N"
         ],
         "textfont": {
          "color": "black",
          "size": 15
         },
         "type": "scatter",
         "x": [
          0.8674288170797511,
          0.866201658398413
         ],
         "xaxis": "x2",
         "y": [
          0.44359051020080786,
          0.4439861731161351
         ],
         "yaxis": "y2"
        },
        {
         "line": {
          "dash": "solid",
          "width": 3
         },
         "marker": {
          "color": "purple",
          "line": {
           "color": "black",
           "width": 0.5
          },
          "size": [
           12,
           30
          ]
         },
         "mode": "lines+markers",
         "name": "MESSAGEix-GLOBIOM 1.2",
         "showlegend": false,
         "text": [
          "",
          "V"
         ],
         "textfont": {
          "color": "black",
          "size": 15
         },
         "type": "scatter",
         "x": [
          0.8674288170797511,
          0.8763182576394397
         ],
         "xaxis": "x2",
         "y": [
          0.44359051020080786,
          0.44229731375655285
         ],
         "yaxis": "y2"
        },
        {
         "line": {
          "dash": "solid",
          "width": 3
         },
         "marker": {
          "color": "purple",
          "line": {
           "color": "black",
           "width": 0.5
          },
          "size": [
           12,
           30
          ]
         },
         "mode": "lines+markers",
         "name": "MESSAGEix-GLOBIOM 1.2",
         "showlegend": false,
         "text": [
          "",
          "El"
         ],
         "textfont": {
          "color": "black",
          "size": 15
         },
         "type": "scatter",
         "x": [
          0.8674288170797511,
          0.8977959977583856
         ],
         "xaxis": "x2",
         "y": [
          0.44359051020080786,
          0.4352357462649914
         ],
         "yaxis": "y2"
        },
        {
         "line": {
          "dash": "solid",
          "width": 3
         },
         "marker": {
          "color": "purple",
          "line": {
           "color": "black",
           "width": 0.5
          },
          "size": [
           12,
           30
          ]
         },
         "mode": "lines+markers",
         "name": "MESSAGEix-GLOBIOM 1.2",
         "showlegend": false,
         "text": [
          "",
          "H"
         ],
         "textfont": {
          "color": "black",
          "size": 15
         },
         "type": "scatter",
         "x": [
          0.8674288170797511,
          0.8618402093848941
         ],
         "xaxis": "x2",
         "y": [
          0.44359051020080786,
          0.44427145230520776
         ],
         "yaxis": "y2"
        },
        {
         "line": {
          "dash": "solid",
          "width": 3
         },
         "marker": {
          "color": "purple",
          "line": {
           "color": "black",
           "width": 0.5
          },
          "size": [
           12,
           30
          ]
         },
         "mode": "lines+markers",
         "name": "MESSAGEix-GLOBIOM 1.2",
         "showlegend": false,
         "text": [
          "",
          "F"
         ],
         "textfont": {
          "color": "black",
          "size": 15
         },
         "type": "scatter",
         "x": [
          0.8674288170797511,
          0.9092035459369994
         ],
         "xaxis": "x2",
         "y": [
          0.44359051020080786,
          0.46959003764162066
         ],
         "yaxis": "y2"
        },
        {
         "line": {
          "dash": "solid",
          "width": 3
         },
         "marker": {
          "color": "purple",
          "line": {
           "color": "black",
           "width": 0.5
          },
          "size": [
           12,
           30
          ]
         },
         "mode": "lines+markers",
         "name": "MESSAGEix-GLOBIOM 1.2",
         "showlegend": false,
         "text": [
          "",
          "Ef"
         ],
         "textfont": {
          "color": "black",
          "size": 15
         },
         "type": "scatter",
         "x": [
          0.8674288170797511,
          0.8676947647652007
         ],
         "xaxis": "x2",
         "y": [
          0.44359051020080786,
          0.4435077251176638
         ],
         "yaxis": "y2"
        },
        {
         "line": {
          "dash": "solid",
          "width": 3
         },
         "marker": {
          "color": "palegreen",
          "line": {
           "color": "black",
           "width": 0.5
          },
          "size": [
           12,
           30
          ]
         },
         "mode": "lines+markers",
         "name": "PRIMES 2022",
         "showlegend": false,
         "text": [
          "",
          "B"
         ],
         "textfont": {
          "color": "black",
          "size": 15
         },
         "type": "scatter",
         "x": [
          0.9582861614245772,
          0.9458835828241753
         ],
         "xaxis": "x2",
         "y": [
          0.526504749465719,
          0.5271725351945606
         ],
         "yaxis": "y2"
        },
        {
         "line": {
          "dash": "solid",
          "width": 3
         },
         "marker": {
          "color": "palegreen",
          "line": {
           "color": "black",
           "width": 0.5
          },
          "size": [
           12,
           30
          ]
         },
         "mode": "lines+markers",
         "name": "PRIMES 2022",
         "showlegend": false,
         "text": [
          "",
          "C"
         ],
         "textfont": {
          "color": "black",
          "size": 15
         },
         "type": "scatter",
         "x": [
          0.9582861614245772,
          0.9036937985345769
         ],
         "xaxis": "x2",
         "y": [
          0.526504749465719,
          0.5284255378982623
         ],
         "yaxis": "y2"
        },
        {
         "line": {
          "dash": "solid",
          "width": 3
         },
         "marker": {
          "color": "palegreen",
          "line": {
           "color": "black",
           "width": 0.5
          },
          "size": [
           12,
           30
          ]
         },
         "mode": "lines+markers",
         "name": "PRIMES 2022",
         "showlegend": false,
         "text": [
          "",
          "N"
         ],
         "textfont": {
          "color": "black",
          "size": 15
         },
         "type": "scatter",
         "x": [
          0.9582861614245772,
          0.954657430794243
         ],
         "xaxis": "x2",
         "y": [
          0.526504749465719,
          0.5267370977394148
         ],
         "yaxis": "y2"
        },
        {
         "line": {
          "dash": "solid",
          "width": 3
         },
         "marker": {
          "color": "palegreen",
          "line": {
           "color": "black",
           "width": 0.5
          },
          "size": [
           12,
           30
          ]
         },
         "mode": "lines+markers",
         "name": "PRIMES 2022",
         "showlegend": false,
         "text": [
          "",
          "V"
         ],
         "textfont": {
          "color": "black",
          "size": 15
         },
         "type": "scatter",
         "x": [
          0.9582861614245772,
          null
         ],
         "xaxis": "x2",
         "y": [
          0.526504749465719,
          null
         ],
         "yaxis": "y2"
        },
        {
         "line": {
          "dash": "solid",
          "width": 3
         },
         "marker": {
          "color": "palegreen",
          "line": {
           "color": "black",
           "width": 0.5
          },
          "size": [
           12,
           30
          ]
         },
         "mode": "lines+markers",
         "name": "PRIMES 2022",
         "showlegend": false,
         "text": [
          "",
          "El"
         ],
         "textfont": {
          "color": "black",
          "size": 15
         },
         "type": "scatter",
         "x": [
          0.9582861614245772,
          0.9572189895560842
         ],
         "xaxis": "x2",
         "y": [
          0.526504749465719,
          0.5341407994316368
         ],
         "yaxis": "y2"
        },
        {
         "line": {
          "dash": "solid",
          "width": 3
         },
         "marker": {
          "color": "palegreen",
          "line": {
           "color": "black",
           "width": 0.5
          },
          "size": [
           12,
           30
          ]
         },
         "mode": "lines+markers",
         "name": "PRIMES 2022",
         "showlegend": false,
         "text": [
          "",
          "H"
         ],
         "textfont": {
          "color": "black",
          "size": 15
         },
         "type": "scatter",
         "x": [
          0.9582861614245772,
          0.9585161469878811
         ],
         "xaxis": "x2",
         "y": [
          0.526504749465719,
          0.5187339553920869
         ],
         "yaxis": "y2"
        },
        {
         "line": {
          "dash": "solid",
          "width": 3
         },
         "marker": {
          "color": "palegreen",
          "line": {
           "color": "black",
           "width": 0.5
          },
          "size": [
           12,
           30
          ]
         },
         "mode": "lines+markers",
         "name": "PRIMES 2022",
         "showlegend": false,
         "text": [
          "",
          "F"
         ],
         "textfont": {
          "color": "black",
          "size": 15
         },
         "type": "scatter",
         "x": [
          0.9582861614245772,
          null
         ],
         "xaxis": "x2",
         "y": [
          0.526504749465719,
          null
         ],
         "yaxis": "y2"
        },
        {
         "line": {
          "dash": "solid",
          "width": 3
         },
         "marker": {
          "color": "palegreen",
          "line": {
           "color": "black",
           "width": 0.5
          },
          "size": [
           12,
           30
          ]
         },
         "mode": "lines+markers",
         "name": "PRIMES 2022",
         "showlegend": false,
         "text": [
          "",
          "Ef"
         ],
         "textfont": {
          "color": "black",
          "size": 15
         },
         "type": "scatter",
         "x": [
          0.9582861614245772,
          0.9577756999229449
         ],
         "xaxis": "x2",
         "y": [
          0.526504749465719,
          0.5728788011424994
         ],
         "yaxis": "y2"
        },
        {
         "marker": {
          "color": "lightskyblue",
          "line": {
           "color": "black",
           "width": 0.5
          },
          "size": [
           12,
           30
          ]
         },
         "mode": "text+markers",
         "name": "IMAGE 3.2",
         "showlegend": false,
         "text": [
          "",
          "B"
         ],
         "textfont": {
          "color": "black",
          "size": 25
         },
         "type": "scatter",
         "x": [
          0.978066870682481,
          0.8419508732169634
         ],
         "xaxis": "x2",
         "y": [
          0.5009024945097867,
          0.5187823101912711
         ],
         "yaxis": "y2"
        },
        {
         "marker": {
          "color": "lightskyblue",
          "line": {
           "color": "black",
           "width": 0.5
          },
          "size": [
           12,
           30
          ]
         },
         "mode": "text+markers",
         "name": "IMAGE 3.2",
         "showlegend": false,
         "text": [
          "",
          "C"
         ],
         "textfont": {
          "color": "black",
          "size": 25
         },
         "type": "scatter",
         "x": [
          0.978066870682481,
          0.7151683255027377
         ],
         "xaxis": "x2",
         "y": [
          0.5009024945097867,
          0.508189107023095
         ],
         "yaxis": "y2"
        },
        {
         "marker": {
          "color": "lightskyblue",
          "line": {
           "color": "black",
           "width": 0.5
          },
          "size": [
           12,
           30
          ]
         },
         "mode": "text+markers",
         "name": "IMAGE 3.2",
         "showlegend": false,
         "text": [
          "",
          "N"
         ],
         "textfont": {
          "color": "black",
          "size": 25
         },
         "type": "scatter",
         "x": [
          0.978066870682481,
          0.9851977135785932
         ],
         "xaxis": "x2",
         "y": [
          0.5009024945097867,
          0.4996519143972731
         ],
         "yaxis": "y2"
        },
        {
         "marker": {
          "color": "lightskyblue",
          "line": {
           "color": "black",
           "width": 0.5
          },
          "size": [
           12,
           30
          ]
         },
         "mode": "text+markers",
         "name": "IMAGE 3.2",
         "showlegend": false,
         "text": [
          "",
          "V"
         ],
         "textfont": {
          "color": "black",
          "size": 25
         },
         "type": "scatter",
         "x": [
          0.978066870682481,
          1.022108965395159
         ],
         "xaxis": "x2",
         "y": [
          0.5009024945097867,
          0.4969698323563603
         ],
         "yaxis": "y2"
        },
        {
         "marker": {
          "color": "lightskyblue",
          "line": {
           "color": "black",
           "width": 0.5
          },
          "size": [
           12,
           30
          ]
         },
         "mode": "text+markers",
         "name": "IMAGE 3.2",
         "showlegend": false,
         "text": [
          "",
          "El"
         ],
         "textfont": {
          "color": "black",
          "size": 25
         },
         "type": "scatter",
         "x": [
          0.978066870682481,
          1.0049843168023207
         ],
         "xaxis": "x2",
         "y": [
          0.5009024945097867,
          0.4947983619215975
         ],
         "yaxis": "y2"
        },
        {
         "marker": {
          "color": "lightskyblue",
          "line": {
           "color": "black",
           "width": 0.5
          },
          "size": [
           12,
           30
          ]
         },
         "mode": "text+markers",
         "name": "IMAGE 3.2",
         "showlegend": false,
         "text": [
          "",
          "H"
         ],
         "textfont": {
          "color": "black",
          "size": 25
         },
         "type": "scatter",
         "x": [
          0.978066870682481,
          1.009560078040409
         ],
         "xaxis": "x2",
         "y": [
          0.5009024945097867,
          0.47601299082689
         ],
         "yaxis": "y2"
        },
        {
         "marker": {
          "color": "lightskyblue",
          "line": {
           "color": "black",
           "width": 0.5
          },
          "size": [
           12,
           30
          ]
         },
         "mode": "text+markers",
         "name": "IMAGE 3.2",
         "showlegend": false,
         "text": [
          "",
          "F"
         ],
         "textfont": {
          "color": "black",
          "size": 25
         },
         "type": "scatter",
         "x": [
          0.978066870682481,
          1.0410022045689924
         ],
         "xaxis": "x2",
         "y": [
          0.5009024945097867,
          0.5527506607223538
         ],
         "yaxis": "y2"
        },
        {
         "marker": {
          "color": "lightskyblue",
          "line": {
           "color": "black",
           "width": 0.5
          },
          "size": [
           12,
           30
          ]
         },
         "mode": "text+markers",
         "name": "IMAGE 3.2",
         "showlegend": false,
         "text": [
          "",
          "Ef"
         ],
         "textfont": {
          "color": "black",
          "size": 25
         },
         "type": "scatter",
         "x": [
          0.978066870682481,
          0.9743432647172983
         ],
         "xaxis": "x2",
         "y": [
          0.5009024945097867,
          0.5238989793084431
         ],
         "yaxis": "y2"
        },
        {
         "marker": {
          "color": "goldenrod",
          "line": {
           "color": "black",
           "width": 0.5
          },
          "size": [
           12,
           30
          ]
         },
         "mode": "text+markers",
         "name": "PROMETHEUS 1.2",
         "showlegend": false,
         "text": [
          "",
          "B"
         ],
         "textfont": {
          "color": "black",
          "size": 25
         },
         "type": "scatter",
         "x": [
          0.924541791129761,
          0.7294627769605565
         ],
         "xaxis": "x2",
         "y": [
          0.5529069135319611,
          0.5423154207501246
         ],
         "yaxis": "y2"
        },
        {
         "marker": {
          "color": "goldenrod",
          "line": {
           "color": "black",
           "width": 0.5
          },
          "size": [
           12,
           30
          ]
         },
         "mode": "text+markers",
         "name": "PROMETHEUS 1.2",
         "showlegend": false,
         "text": [
          "",
          "C"
         ],
         "textfont": {
          "color": "black",
          "size": 25
         },
         "type": "scatter",
         "x": [
          0.924541791129761,
          0.8733929275150825
         ],
         "xaxis": "x2",
         "y": [
          0.5529069135319611,
          0.5534020996171135
         ],
         "yaxis": "y2"
        },
        {
         "marker": {
          "color": "goldenrod",
          "line": {
           "color": "black",
           "width": 0.5
          },
          "size": [
           12,
           30
          ]
         },
         "mode": "text+markers",
         "name": "PROMETHEUS 1.2",
         "showlegend": false,
         "text": [
          "",
          "N"
         ],
         "textfont": {
          "color": "black",
          "size": 25
         },
         "type": "scatter",
         "x": [
          0.924541791129761,
          0.8994091624983598
         ],
         "xaxis": "x2",
         "y": [
          0.5529069135319611,
          0.5550124183111009
         ],
         "yaxis": "y2"
        },
        {
         "marker": {
          "color": "goldenrod",
          "line": {
           "color": "black",
           "width": 0.5
          },
          "size": [
           12,
           30
          ]
         },
         "mode": "text+markers",
         "name": "PROMETHEUS 1.2",
         "showlegend": false,
         "text": [
          "",
          "V"
         ],
         "textfont": {
          "color": "black",
          "size": 25
         },
         "type": "scatter",
         "x": [
          0.924541791129761,
          0.8249674372321893
         ],
         "xaxis": "x2",
         "y": [
          0.5529069135319611,
          0.5566619956472704
         ],
         "yaxis": "y2"
        },
        {
         "marker": {
          "color": "goldenrod",
          "line": {
           "color": "black",
           "width": 0.5
          },
          "size": [
           12,
           30
          ]
         },
         "mode": "text+markers",
         "name": "PROMETHEUS 1.2",
         "showlegend": false,
         "text": [
          "",
          "El"
         ],
         "textfont": {
          "color": "black",
          "size": 25
         },
         "type": "scatter",
         "x": [
          0.924541791129761,
          0.9268208673943666
         ],
         "xaxis": "x2",
         "y": [
          0.5529069135319611,
          0.5771169255441833
         ],
         "yaxis": "y2"
        },
        {
         "marker": {
          "color": "goldenrod",
          "line": {
           "color": "black",
           "width": 0.5
          },
          "size": [
           12,
           30
          ]
         },
         "mode": "text+markers",
         "name": "PROMETHEUS 1.2",
         "showlegend": false,
         "text": [
          "",
          "H"
         ],
         "textfont": {
          "color": "black",
          "size": 25
         },
         "type": "scatter",
         "x": [
          0.924541791129761,
          null
         ],
         "xaxis": "x2",
         "y": [
          0.5529069135319611,
          null
         ],
         "yaxis": "y2"
        },
        {
         "marker": {
          "color": "goldenrod",
          "line": {
           "color": "black",
           "width": 0.5
          },
          "size": [
           12,
           30
          ]
         },
         "mode": "text+markers",
         "name": "PROMETHEUS 1.2",
         "showlegend": false,
         "text": [
          "",
          "F"
         ],
         "textfont": {
          "color": "black",
          "size": 25
         },
         "type": "scatter",
         "x": [
          0.924541791129761,
          null
         ],
         "xaxis": "x2",
         "y": [
          0.5529069135319611,
          null
         ],
         "yaxis": "y2"
        },
        {
         "marker": {
          "color": "goldenrod",
          "line": {
           "color": "black",
           "width": 0.5
          },
          "size": [
           12,
           30
          ]
         },
         "mode": "text+markers",
         "name": "PROMETHEUS 1.2",
         "showlegend": false,
         "text": [
          "",
          "Ef"
         ],
         "textfont": {
          "color": "black",
          "size": 25
         },
         "type": "scatter",
         "x": [
          0.924541791129761,
          0.926199797355155
         ],
         "xaxis": "x2",
         "y": [
          0.5529069135319611,
          0.5896797971103473
         ],
         "yaxis": "y2"
        },
        {
         "marker": {
          "color": "tomato",
          "line": {
           "color": "black",
           "width": 0.5
          },
          "size": [
           12,
           30
          ]
         },
         "mode": "text+markers",
         "name": "REMIND 2.1",
         "showlegend": false,
         "text": [
          "",
          "B"
         ],
         "textfont": {
          "color": "black",
          "size": 25
         },
         "type": "scatter",
         "x": [
          1.0764937922594884,
          0.9789082258261582
         ],
         "xaxis": "x2",
         "y": [
          0.4865644265264627,
          0.47551263830678486
         ],
         "yaxis": "y2"
        },
        {
         "marker": {
          "color": "tomato",
          "line": {
           "color": "black",
           "width": 0.5
          },
          "size": [
           12,
           30
          ]
         },
         "mode": "text+markers",
         "name": "REMIND 2.1",
         "showlegend": false,
         "text": [
          "",
          "C"
         ],
         "textfont": {
          "color": "black",
          "size": 25
         },
         "type": "scatter",
         "x": [
          1.0764937922594884,
          1.0031245838262923
         ],
         "xaxis": "x2",
         "y": [
          0.4865644265264627,
          0.49063505337967195
         ],
         "yaxis": "y2"
        },
        {
         "marker": {
          "color": "tomato",
          "line": {
           "color": "black",
           "width": 0.5
          },
          "size": [
           12,
           30
          ]
         },
         "mode": "text+markers",
         "name": "REMIND 2.1",
         "showlegend": false,
         "text": [
          "",
          "N"
         ],
         "textfont": {
          "color": "black",
          "size": 25
         },
         "type": "scatter",
         "x": [
          1.0764937922594884,
          1.0770808839378383
         ],
         "xaxis": "x2",
         "y": [
          0.4865644265264627,
          0.4869315914950878
         ],
         "yaxis": "y2"
        },
        {
         "marker": {
          "color": "tomato",
          "line": {
           "color": "black",
           "width": 0.5
          },
          "size": [
           12,
           30
          ]
         },
         "mode": "text+markers",
         "name": "REMIND 2.1",
         "showlegend": false,
         "text": [
          "",
          "V"
         ],
         "textfont": {
          "color": "black",
          "size": 25
         },
         "type": "scatter",
         "x": [
          1.0764937922594884,
          1.0762962265181222
         ],
         "xaxis": "x2",
         "y": [
          0.4865644265264627,
          0.46981003740212307
         ],
         "yaxis": "y2"
        },
        {
         "marker": {
          "color": "tomato",
          "line": {
           "color": "black",
           "width": 0.5
          },
          "size": [
           12,
           30
          ]
         },
         "mode": "text+markers",
         "name": "REMIND 2.1",
         "showlegend": false,
         "text": [
          "",
          "El"
         ],
         "textfont": {
          "color": "black",
          "size": 25
         },
         "type": "scatter",
         "x": [
          1.0764937922594884,
          1.081121118427886
         ],
         "xaxis": "x2",
         "y": [
          0.4865644265264627,
          0.4831493819958141
         ],
         "yaxis": "y2"
        },
        {
         "marker": {
          "color": "tomato",
          "line": {
           "color": "black",
           "width": 0.5
          },
          "size": [
           12,
           30
          ]
         },
         "mode": "text+markers",
         "name": "REMIND 2.1",
         "showlegend": false,
         "text": [
          "",
          "H"
         ],
         "textfont": {
          "color": "black",
          "size": 25
         },
         "type": "scatter",
         "x": [
          1.0764937922594884,
          1.082953689398567
         ],
         "xaxis": "x2",
         "y": [
          0.4865644265264627,
          0.44353770958304084
         ],
         "yaxis": "y2"
        },
        {
         "marker": {
          "color": "tomato",
          "line": {
           "color": "black",
           "width": 0.5
          },
          "size": [
           12,
           30
          ]
         },
         "mode": "text+markers",
         "name": "REMIND 2.1",
         "showlegend": false,
         "text": [
          "",
          "F"
         ],
         "textfont": {
          "color": "black",
          "size": 25
         },
         "type": "scatter",
         "x": [
          1.0764937922594884,
          1.0549941777461407
         ],
         "xaxis": "x2",
         "y": [
          0.4865644265264627,
          0.44746559651833007
         ],
         "yaxis": "y2"
        },
        {
         "marker": {
          "color": "tomato",
          "line": {
           "color": "black",
           "width": 0.5
          },
          "size": [
           12,
           30
          ]
         },
         "mode": "text+markers",
         "name": "REMIND 2.1",
         "showlegend": false,
         "text": [
          "",
          "Ef"
         ],
         "textfont": {
          "color": "black",
          "size": 25
         },
         "type": "scatter",
         "x": [
          1.0764937922594884,
          1.128188286739159
         ],
         "xaxis": "x2",
         "y": [
          0.4865644265264627,
          0.6113986500526952
         ],
         "yaxis": "y2"
        },
        {
         "marker": {
          "color": "forestgreen",
          "line": {
           "color": "black",
           "width": 0.5
          },
          "size": [
           12,
           30
          ]
         },
         "mode": "text+markers",
         "name": "WITCH 5.0",
         "showlegend": false,
         "text": [
          "",
          "B"
         ],
         "textfont": {
          "color": "black",
          "size": 25
         },
         "type": "scatter",
         "x": [
          0.8913025782258366,
          0.8152630604132425
         ],
         "xaxis": "x2",
         "y": [
          0.6664251931253595,
          0.6698303280823207
         ],
         "yaxis": "y2"
        },
        {
         "marker": {
          "color": "forestgreen",
          "line": {
           "color": "black",
           "width": 0.5
          },
          "size": [
           12,
           30
          ]
         },
         "mode": "text+markers",
         "name": "WITCH 5.0",
         "showlegend": false,
         "text": [
          "",
          "C"
         ],
         "textfont": {
          "color": "black",
          "size": 25
         },
         "type": "scatter",
         "x": [
          0.8913025782258366,
          0.6528088119917694
         ],
         "xaxis": "x2",
         "y": [
          0.6664251931253595,
          0.6755021907917861
         ],
         "yaxis": "y2"
        },
        {
         "marker": {
          "color": "forestgreen",
          "line": {
           "color": "black",
           "width": 0.5
          },
          "size": [
           12,
           30
          ]
         },
         "mode": "text+markers",
         "name": "WITCH 5.0",
         "showlegend": false,
         "text": [
          "",
          "N"
         ],
         "textfont": {
          "color": "black",
          "size": 25
         },
         "type": "scatter",
         "x": [
          0.8913025782258366,
          0.891155625523428
         ],
         "xaxis": "x2",
         "y": [
          0.6664251931253595,
          0.6673235067487017
         ],
         "yaxis": "y2"
        },
        {
         "marker": {
          "color": "forestgreen",
          "line": {
           "color": "black",
           "width": 0.5
          },
          "size": [
           12,
           30
          ]
         },
         "mode": "text+markers",
         "name": "WITCH 5.0",
         "showlegend": false,
         "text": [
          "",
          "V"
         ],
         "textfont": {
          "color": "black",
          "size": 25
         },
         "type": "scatter",
         "x": [
          0.8913025782258366,
          0.891254865940898
         ],
         "xaxis": "x2",
         "y": [
          0.6664251931253595,
          0.666413800106879
         ],
         "yaxis": "y2"
        },
        {
         "marker": {
          "color": "forestgreen",
          "line": {
           "color": "black",
           "width": 0.5
          },
          "size": [
           12,
           30
          ]
         },
         "mode": "text+markers",
         "name": "WITCH 5.0",
         "showlegend": false,
         "text": [
          "",
          "El"
         ],
         "textfont": {
          "color": "black",
          "size": 25
         },
         "type": "scatter",
         "x": [
          0.8913025782258366,
          1.067889007601485
         ],
         "xaxis": "x2",
         "y": [
          0.6664251931253595,
          0.6032470893478159
         ],
         "yaxis": "y2"
        },
        {
         "marker": {
          "color": "forestgreen",
          "line": {
           "color": "black",
           "width": 0.5
          },
          "size": [
           12,
           30
          ]
         },
         "mode": "text+markers",
         "name": "WITCH 5.0",
         "showlegend": false,
         "text": [
          "",
          "H"
         ],
         "textfont": {
          "color": "black",
          "size": 25
         },
         "type": "scatter",
         "x": [
          0.8913025782258366,
          0.8908641915455082
         ],
         "xaxis": "x2",
         "y": [
          0.6664251931253595,
          0.6668972487346501
         ],
         "yaxis": "y2"
        },
        {
         "marker": {
          "color": "forestgreen",
          "line": {
           "color": "black",
           "width": 0.5
          },
          "size": [
           12,
           30
          ]
         },
         "mode": "text+markers",
         "name": "WITCH 5.0",
         "showlegend": false,
         "text": [
          "",
          "F"
         ],
         "textfont": {
          "color": "black",
          "size": 25
         },
         "type": "scatter",
         "x": [
          0.8913025782258366,
          null
         ],
         "xaxis": "x2",
         "y": [
          0.6664251931253595,
          null
         ],
         "yaxis": "y2"
        },
        {
         "marker": {
          "color": "forestgreen",
          "line": {
           "color": "black",
           "width": 0.5
          },
          "size": [
           12,
           30
          ]
         },
         "mode": "text+markers",
         "name": "WITCH 5.0",
         "showlegend": false,
         "text": [
          "",
          "Ef"
         ],
         "textfont": {
          "color": "black",
          "size": 25
         },
         "type": "scatter",
         "x": [
          0.8913025782258366,
          0.8789278062751369
         ],
         "xaxis": "x2",
         "y": [
          0.6664251931253595,
          0.6525318706929802
         ],
         "yaxis": "y2"
        },
        {
         "marker": {
          "color": "darkgrey",
          "line": {
           "color": "black",
           "width": 0.5
          },
          "size": [
           12,
           30
          ]
         },
         "mode": "text+markers",
         "name": "Euro-Calliope 2.0",
         "showlegend": false,
         "text": [
          "",
          "B"
         ],
         "textfont": {
          "color": "black",
          "size": 25
         },
         "type": "scatter",
         "x": [
          0.9998057628062715,
          0.9998057628062715
         ],
         "xaxis": "x2",
         "y": [
          0.452507382839344,
          0.452507382839344
         ],
         "yaxis": "y2"
        },
        {
         "marker": {
          "color": "darkgrey",
          "line": {
           "color": "black",
           "width": 0.5
          },
          "size": [
           12,
           30
          ]
         },
         "mode": "text+markers",
         "name": "Euro-Calliope 2.0",
         "showlegend": false,
         "text": [
          "",
          "C"
         ],
         "textfont": {
          "color": "black",
          "size": 25
         },
         "type": "scatter",
         "x": [
          0.9998057628062715,
          0.9998057628062715
         ],
         "xaxis": "x2",
         "y": [
          0.452507382839344,
          0.452507382839344
         ],
         "yaxis": "y2"
        },
        {
         "marker": {
          "color": "darkgrey",
          "line": {
           "color": "black",
           "width": 0.5
          },
          "size": [
           12,
           30
          ]
         },
         "mode": "text+markers",
         "name": "Euro-Calliope 2.0",
         "showlegend": false,
         "text": [
          "",
          "N"
         ],
         "textfont": {
          "color": "black",
          "size": 25
         },
         "type": "scatter",
         "x": [
          0.9998057628062715,
          0.9997620516011335
         ],
         "xaxis": "x2",
         "y": [
          0.452507382839344,
          0.45157250728525744
         ],
         "yaxis": "y2"
        },
        {
         "marker": {
          "color": "darkgrey",
          "line": {
           "color": "black",
           "width": 0.5
          },
          "size": [
           12,
           30
          ]
         },
         "mode": "text+markers",
         "name": "Euro-Calliope 2.0",
         "showlegend": false,
         "text": [
          "",
          "V"
         ],
         "textfont": {
          "color": "black",
          "size": 25
         },
         "type": "scatter",
         "x": [
          0.9998057628062715,
          0.9998070127466971
         ],
         "xaxis": "x2",
         "y": [
          0.452507382839344,
          0.45263129256829554
         ],
         "yaxis": "y2"
        },
        {
         "marker": {
          "color": "darkgrey",
          "line": {
           "color": "black",
           "width": 0.5
          },
          "size": [
           12,
           30
          ]
         },
         "mode": "text+markers",
         "name": "Euro-Calliope 2.0",
         "showlegend": false,
         "text": [
          "",
          "El"
         ],
         "textfont": {
          "color": "black",
          "size": 25
         },
         "type": "scatter",
         "x": [
          0.9998057628062715,
          0.9999926821469974
         ],
         "xaxis": "x2",
         "y": [
          0.452507382839344,
          0.4552237766275175
         ],
         "yaxis": "y2"
        },
        {
         "marker": {
          "color": "darkgrey",
          "line": {
           "color": "black",
           "width": 0.5
          },
          "size": [
           12,
           30
          ]
         },
         "mode": "text+markers",
         "name": "Euro-Calliope 2.0",
         "showlegend": false,
         "text": [
          "",
          "H"
         ],
         "textfont": {
          "color": "black",
          "size": 25
         },
         "type": "scatter",
         "x": [
          0.9998057628062715,
          0.9998179228477185
         ],
         "xaxis": "x2",
         "y": [
          0.452507382839344,
          0.45267251557980653
         ],
         "yaxis": "y2"
        },
        {
         "marker": {
          "color": "darkgrey",
          "line": {
           "color": "black",
           "width": 0.5
          },
          "size": [
           12,
           30
          ]
         },
         "mode": "text+markers",
         "name": "Euro-Calliope 2.0",
         "showlegend": false,
         "text": [
          "",
          "F"
         ],
         "textfont": {
          "color": "black",
          "size": 25
         },
         "type": "scatter",
         "x": [
          0.9998057628062715,
          0.9998043655340796
         ],
         "xaxis": "x2",
         "y": [
          0.452507382839344,
          0.4526584750028367
         ],
         "yaxis": "y2"
        },
        {
         "marker": {
          "color": "darkgrey",
          "line": {
           "color": "black",
           "width": 0.5
          },
          "size": [
           12,
           30
          ]
         },
         "mode": "text+markers",
         "name": "Euro-Calliope 2.0",
         "showlegend": false,
         "text": [
          "",
          "Ef"
         ],
         "textfont": {
          "color": "black",
          "size": 25
         },
         "type": "scatter",
         "x": [
          0.9998057628062715,
          0.9998053799301947
         ],
         "xaxis": "x2",
         "y": [
          0.452507382839344,
          0.4525589479559049
         ],
         "yaxis": "y2"
        },
        {
         "marker": {
          "color": "royalblue",
          "line": {
           "color": "black",
           "width": 0.5
          },
          "size": [
           12,
           30
          ]
         },
         "mode": "text+markers",
         "name": "TIAM-ECN 1.2",
         "showlegend": false,
         "text": [
          "",
          "B"
         ],
         "textfont": {
          "color": "black",
          "size": 25
         },
         "type": "scatter",
         "x": [
          0.747900064844355,
          0.7202211861663642
         ],
         "xaxis": "x2",
         "y": [
          0.35294176480328837,
          0.3635222223588571
         ],
         "yaxis": "y2"
        },
        {
         "marker": {
          "color": "royalblue",
          "line": {
           "color": "black",
           "width": 0.5
          },
          "size": [
           12,
           30
          ]
         },
         "mode": "text+markers",
         "name": "TIAM-ECN 1.2",
         "showlegend": false,
         "text": [
          "",
          "C"
         ],
         "textfont": {
          "color": "black",
          "size": 25
         },
         "type": "scatter",
         "x": [
          0.747900064844355,
          0.7531527338651409
         ],
         "xaxis": "x2",
         "y": [
          0.35294176480328837,
          0.3634641028296172
         ],
         "yaxis": "y2"
        },
        {
         "marker": {
          "color": "royalblue",
          "line": {
           "color": "black",
           "width": 0.5
          },
          "size": [
           12,
           30
          ]
         },
         "mode": "text+markers",
         "name": "TIAM-ECN 1.2",
         "showlegend": false,
         "text": [
          "",
          "N"
         ],
         "textfont": {
          "color": "black",
          "size": 25
         },
         "type": "scatter",
         "x": [
          0.747900064844355,
          0.7426490251843431
         ],
         "xaxis": "x2",
         "y": [
          0.35294176480328837,
          0.3527052318354518
         ],
         "yaxis": "y2"
        },
        {
         "marker": {
          "color": "royalblue",
          "line": {
           "color": "black",
           "width": 0.5
          },
          "size": [
           12,
           30
          ]
         },
         "mode": "text+markers",
         "name": "TIAM-ECN 1.2",
         "showlegend": false,
         "text": [
          "",
          "V"
         ],
         "textfont": {
          "color": "black",
          "size": 25
         },
         "type": "scatter",
         "x": [
          0.747900064844355,
          0.7534000643888251
         ],
         "xaxis": "x2",
         "y": [
          0.35294176480328837,
          0.35906999609569357
         ],
         "yaxis": "y2"
        },
        {
         "marker": {
          "color": "royalblue",
          "line": {
           "color": "black",
           "width": 0.5
          },
          "size": [
           12,
           30
          ]
         },
         "mode": "text+markers",
         "name": "TIAM-ECN 1.2",
         "showlegend": false,
         "text": [
          "",
          "El"
         ],
         "textfont": {
          "color": "black",
          "size": 25
         },
         "type": "scatter",
         "x": [
          0.747900064844355,
          null
         ],
         "xaxis": "x2",
         "y": [
          0.35294176480328837,
          null
         ],
         "yaxis": "y2"
        },
        {
         "marker": {
          "color": "royalblue",
          "line": {
           "color": "black",
           "width": 0.5
          },
          "size": [
           12,
           30
          ]
         },
         "mode": "text+markers",
         "name": "TIAM-ECN 1.2",
         "showlegend": false,
         "text": [
          "",
          "H"
         ],
         "textfont": {
          "color": "black",
          "size": 25
         },
         "type": "scatter",
         "x": [
          0.747900064844355,
          null
         ],
         "xaxis": "x2",
         "y": [
          0.35294176480328837,
          null
         ],
         "yaxis": "y2"
        },
        {
         "marker": {
          "color": "royalblue",
          "line": {
           "color": "black",
           "width": 0.5
          },
          "size": [
           12,
           30
          ]
         },
         "mode": "text+markers",
         "name": "TIAM-ECN 1.2",
         "showlegend": false,
         "text": [
          "",
          "F"
         ],
         "textfont": {
          "color": "black",
          "size": 25
         },
         "type": "scatter",
         "x": [
          0.747900064844355,
          null
         ],
         "xaxis": "x2",
         "y": [
          0.35294176480328837,
          null
         ],
         "yaxis": "y2"
        },
        {
         "marker": {
          "color": "royalblue",
          "line": {
           "color": "black",
           "width": 0.5
          },
          "size": [
           12,
           30
          ]
         },
         "mode": "text+markers",
         "name": "TIAM-ECN 1.2",
         "showlegend": false,
         "text": [
          "",
          "Ef"
         ],
         "textfont": {
          "color": "black",
          "size": 25
         },
         "type": "scatter",
         "x": [
          0.747900064844355,
          null
         ],
         "xaxis": "x2",
         "y": [
          0.35294176480328837,
          null
         ],
         "yaxis": "y2"
        },
        {
         "marker": {
          "color": "purple",
          "line": {
           "color": "black",
           "width": 0.5
          },
          "size": [
           12,
           30
          ]
         },
         "mode": "text+markers",
         "name": "MESSAGEix-GLOBIOM 1.2",
         "showlegend": false,
         "text": [
          "",
          "B"
         ],
         "textfont": {
          "color": "black",
          "size": 25
         },
         "type": "scatter",
         "x": [
          0.8674288170797511,
          0.8543111030162988
         ],
         "xaxis": "x2",
         "y": [
          0.44359051020080786,
          0.4532432279004967
         ],
         "yaxis": "y2"
        },
        {
         "marker": {
          "color": "purple",
          "line": {
           "color": "black",
           "width": 0.5
          },
          "size": [
           12,
           30
          ]
         },
         "mode": "text+markers",
         "name": "MESSAGEix-GLOBIOM 1.2",
         "showlegend": false,
         "text": [
          "",
          "C"
         ],
         "textfont": {
          "color": "black",
          "size": 25
         },
         "type": "scatter",
         "x": [
          0.8674288170797511,
          0.8670329899221494
         ],
         "xaxis": "x2",
         "y": [
          0.44359051020080786,
          0.4478168577907253
         ],
         "yaxis": "y2"
        },
        {
         "marker": {
          "color": "purple",
          "line": {
           "color": "black",
           "width": 0.5
          },
          "size": [
           12,
           30
          ]
         },
         "mode": "text+markers",
         "name": "MESSAGEix-GLOBIOM 1.2",
         "showlegend": false,
         "text": [
          "",
          "N"
         ],
         "textfont": {
          "color": "black",
          "size": 25
         },
         "type": "scatter",
         "x": [
          0.8674288170797511,
          0.866201658398413
         ],
         "xaxis": "x2",
         "y": [
          0.44359051020080786,
          0.4439861731161351
         ],
         "yaxis": "y2"
        },
        {
         "marker": {
          "color": "purple",
          "line": {
           "color": "black",
           "width": 0.5
          },
          "size": [
           12,
           30
          ]
         },
         "mode": "text+markers",
         "name": "MESSAGEix-GLOBIOM 1.2",
         "showlegend": false,
         "text": [
          "",
          "V"
         ],
         "textfont": {
          "color": "black",
          "size": 25
         },
         "type": "scatter",
         "x": [
          0.8674288170797511,
          0.8763182576394397
         ],
         "xaxis": "x2",
         "y": [
          0.44359051020080786,
          0.44229731375655285
         ],
         "yaxis": "y2"
        },
        {
         "marker": {
          "color": "purple",
          "line": {
           "color": "black",
           "width": 0.5
          },
          "size": [
           12,
           30
          ]
         },
         "mode": "text+markers",
         "name": "MESSAGEix-GLOBIOM 1.2",
         "showlegend": false,
         "text": [
          "",
          "El"
         ],
         "textfont": {
          "color": "black",
          "size": 25
         },
         "type": "scatter",
         "x": [
          0.8674288170797511,
          0.8977959977583856
         ],
         "xaxis": "x2",
         "y": [
          0.44359051020080786,
          0.4352357462649914
         ],
         "yaxis": "y2"
        },
        {
         "marker": {
          "color": "purple",
          "line": {
           "color": "black",
           "width": 0.5
          },
          "size": [
           12,
           30
          ]
         },
         "mode": "text+markers",
         "name": "MESSAGEix-GLOBIOM 1.2",
         "showlegend": false,
         "text": [
          "",
          "H"
         ],
         "textfont": {
          "color": "black",
          "size": 25
         },
         "type": "scatter",
         "x": [
          0.8674288170797511,
          0.8618402093848941
         ],
         "xaxis": "x2",
         "y": [
          0.44359051020080786,
          0.44427145230520776
         ],
         "yaxis": "y2"
        },
        {
         "marker": {
          "color": "purple",
          "line": {
           "color": "black",
           "width": 0.5
          },
          "size": [
           12,
           30
          ]
         },
         "mode": "text+markers",
         "name": "MESSAGEix-GLOBIOM 1.2",
         "showlegend": false,
         "text": [
          "",
          "F"
         ],
         "textfont": {
          "color": "black",
          "size": 25
         },
         "type": "scatter",
         "x": [
          0.8674288170797511,
          0.9092035459369994
         ],
         "xaxis": "x2",
         "y": [
          0.44359051020080786,
          0.46959003764162066
         ],
         "yaxis": "y2"
        },
        {
         "marker": {
          "color": "purple",
          "line": {
           "color": "black",
           "width": 0.5
          },
          "size": [
           12,
           30
          ]
         },
         "mode": "text+markers",
         "name": "MESSAGEix-GLOBIOM 1.2",
         "showlegend": false,
         "text": [
          "",
          "Ef"
         ],
         "textfont": {
          "color": "black",
          "size": 25
         },
         "type": "scatter",
         "x": [
          0.8674288170797511,
          0.8676947647652007
         ],
         "xaxis": "x2",
         "y": [
          0.44359051020080786,
          0.4435077251176638
         ],
         "yaxis": "y2"
        },
        {
         "marker": {
          "color": "palegreen",
          "line": {
           "color": "black",
           "width": 0.5
          },
          "size": [
           12,
           30
          ]
         },
         "mode": "text+markers",
         "name": "PRIMES 2022",
         "showlegend": false,
         "text": [
          "",
          "B"
         ],
         "textfont": {
          "color": "black",
          "size": 25
         },
         "type": "scatter",
         "x": [
          0.9582861614245772,
          0.9458835828241753
         ],
         "xaxis": "x2",
         "y": [
          0.526504749465719,
          0.5271725351945606
         ],
         "yaxis": "y2"
        },
        {
         "marker": {
          "color": "palegreen",
          "line": {
           "color": "black",
           "width": 0.5
          },
          "size": [
           12,
           30
          ]
         },
         "mode": "text+markers",
         "name": "PRIMES 2022",
         "showlegend": false,
         "text": [
          "",
          "C"
         ],
         "textfont": {
          "color": "black",
          "size": 25
         },
         "type": "scatter",
         "x": [
          0.9582861614245772,
          0.9036937985345769
         ],
         "xaxis": "x2",
         "y": [
          0.526504749465719,
          0.5284255378982623
         ],
         "yaxis": "y2"
        },
        {
         "marker": {
          "color": "palegreen",
          "line": {
           "color": "black",
           "width": 0.5
          },
          "size": [
           12,
           30
          ]
         },
         "mode": "text+markers",
         "name": "PRIMES 2022",
         "showlegend": false,
         "text": [
          "",
          "N"
         ],
         "textfont": {
          "color": "black",
          "size": 25
         },
         "type": "scatter",
         "x": [
          0.9582861614245772,
          0.954657430794243
         ],
         "xaxis": "x2",
         "y": [
          0.526504749465719,
          0.5267370977394148
         ],
         "yaxis": "y2"
        },
        {
         "marker": {
          "color": "palegreen",
          "line": {
           "color": "black",
           "width": 0.5
          },
          "size": [
           12,
           30
          ]
         },
         "mode": "text+markers",
         "name": "PRIMES 2022",
         "showlegend": false,
         "text": [
          "",
          "V"
         ],
         "textfont": {
          "color": "black",
          "size": 25
         },
         "type": "scatter",
         "x": [
          0.9582861614245772,
          null
         ],
         "xaxis": "x2",
         "y": [
          0.526504749465719,
          null
         ],
         "yaxis": "y2"
        },
        {
         "marker": {
          "color": "palegreen",
          "line": {
           "color": "black",
           "width": 0.5
          },
          "size": [
           12,
           30
          ]
         },
         "mode": "text+markers",
         "name": "PRIMES 2022",
         "showlegend": false,
         "text": [
          "",
          "El"
         ],
         "textfont": {
          "color": "black",
          "size": 25
         },
         "type": "scatter",
         "x": [
          0.9582861614245772,
          0.9572189895560842
         ],
         "xaxis": "x2",
         "y": [
          0.526504749465719,
          0.5341407994316368
         ],
         "yaxis": "y2"
        },
        {
         "marker": {
          "color": "palegreen",
          "line": {
           "color": "black",
           "width": 0.5
          },
          "size": [
           12,
           30
          ]
         },
         "mode": "text+markers",
         "name": "PRIMES 2022",
         "showlegend": false,
         "text": [
          "",
          "H"
         ],
         "textfont": {
          "color": "black",
          "size": 25
         },
         "type": "scatter",
         "x": [
          0.9582861614245772,
          0.9585161469878811
         ],
         "xaxis": "x2",
         "y": [
          0.526504749465719,
          0.5187339553920869
         ],
         "yaxis": "y2"
        },
        {
         "marker": {
          "color": "palegreen",
          "line": {
           "color": "black",
           "width": 0.5
          },
          "size": [
           12,
           30
          ]
         },
         "mode": "text+markers",
         "name": "PRIMES 2022",
         "showlegend": false,
         "text": [
          "",
          "F"
         ],
         "textfont": {
          "color": "black",
          "size": 25
         },
         "type": "scatter",
         "x": [
          0.9582861614245772,
          null
         ],
         "xaxis": "x2",
         "y": [
          0.526504749465719,
          null
         ],
         "yaxis": "y2"
        },
        {
         "marker": {
          "color": "palegreen",
          "line": {
           "color": "black",
           "width": 0.5
          },
          "size": [
           12,
           30
          ]
         },
         "mode": "text+markers",
         "name": "PRIMES 2022",
         "showlegend": false,
         "text": [
          "",
          "Ef"
         ],
         "textfont": {
          "color": "black",
          "size": 25
         },
         "type": "scatter",
         "x": [
          0.9582861614245772,
          0.9577756999229449
         ],
         "xaxis": "x2",
         "y": [
          0.526504749465719,
          0.5728788011424994
         ],
         "yaxis": "y2"
        },
        {
         "hovertemplate": "<b>DIAG-C400-lin</b> <br>ERT: %{y:.2f} <br>Carbon capture: %{x:.2f}",
         "line": {
          "width": 4
         },
         "marker": {
          "color": "lightskyblue",
          "line": {
           "color": "black",
           "width": 4
          },
          "size": 30,
          "symbol": "square"
         },
         "mode": "markers+text",
         "name": "IMAGE",
         "showlegend": false,
         "type": "scatter",
         "x": [
          -1000
         ],
         "xaxis": "x2",
         "y": [
          1000
         ],
         "yaxis": "y2"
        },
        {
         "hovertemplate": "<b>DIAG-C400-lin</b> <br>ERT: %{y:.2f} <br>Carbon capture: %{x:.2f}",
         "line": {
          "width": 4
         },
         "marker": {
          "color": "goldenrod",
          "line": {
           "color": "black",
           "width": 4
          },
          "size": 30,
          "symbol": "square"
         },
         "mode": "markers+text",
         "name": "PROMETHEUS",
         "showlegend": false,
         "type": "scatter",
         "x": [
          -1000
         ],
         "xaxis": "x2",
         "y": [
          1000
         ],
         "yaxis": "y2"
        },
        {
         "hovertemplate": "<b>DIAG-C400-lin</b> <br>ERT: %{y:.2f} <br>Carbon capture: %{x:.2f}",
         "line": {
          "width": 4
         },
         "marker": {
          "color": "tomato",
          "line": {
           "color": "black",
           "width": 4
          },
          "size": 30,
          "symbol": "square"
         },
         "mode": "markers+text",
         "name": "REMIND",
         "showlegend": false,
         "type": "scatter",
         "x": [
          -1000
         ],
         "xaxis": "x2",
         "y": [
          1000
         ],
         "yaxis": "y2"
        },
        {
         "hovertemplate": "<b>DIAG-C400-lin</b> <br>ERT: %{y:.2f} <br>Carbon capture: %{x:.2f}",
         "line": {
          "width": 4
         },
         "marker": {
          "color": "forestgreen",
          "line": {
           "color": "black",
           "width": 4
          },
          "size": 30,
          "symbol": "square"
         },
         "mode": "markers+text",
         "name": "WITCH",
         "showlegend": false,
         "type": "scatter",
         "x": [
          -1000
         ],
         "xaxis": "x2",
         "y": [
          1000
         ],
         "yaxis": "y2"
        },
        {
         "hovertemplate": "<b>DIAG-C400-lin</b> <br>ERT: %{y:.2f} <br>Carbon capture: %{x:.2f}",
         "line": {
          "width": 4
         },
         "marker": {
          "color": "darkgrey",
          "line": {
           "color": "black",
           "width": 4
          },
          "size": 30,
          "symbol": "square"
         },
         "mode": "markers+text",
         "name": "Euro-Calliope",
         "showlegend": false,
         "type": "scatter",
         "x": [
          -1000
         ],
         "xaxis": "x2",
         "y": [
          1000
         ],
         "yaxis": "y2"
        },
        {
         "hovertemplate": "<b>DIAG-C400-lin</b> <br>ERT: %{y:.2f} <br>Carbon capture: %{x:.2f}",
         "line": {
          "width": 4
         },
         "marker": {
          "color": "royalblue",
          "line": {
           "color": "black",
           "width": 4
          },
          "size": 30,
          "symbol": "square"
         },
         "mode": "markers+text",
         "name": "TIAM-ECN",
         "showlegend": false,
         "type": "scatter",
         "x": [
          -1000
         ],
         "xaxis": "x2",
         "y": [
          1000
         ],
         "yaxis": "y2"
        },
        {
         "hovertemplate": "<b>DIAG-C400-lin</b> <br>ERT: %{y:.2f} <br>Carbon capture: %{x:.2f}",
         "line": {
          "width": 4
         },
         "marker": {
          "color": "purple",
          "line": {
           "color": "black",
           "width": 4
          },
          "size": 30,
          "symbol": "square"
         },
         "mode": "markers+text",
         "name": "MESSAGE",
         "showlegend": false,
         "type": "scatter",
         "x": [
          -1000
         ],
         "xaxis": "x2",
         "y": [
          1000
         ],
         "yaxis": "y2"
        },
        {
         "hovertemplate": "<b>DIAG-C400-lin</b> <br>ERT: %{y:.2f} <br>Carbon capture: %{x:.2f}",
         "line": {
          "width": 4
         },
         "marker": {
          "color": "palegreen",
          "line": {
           "color": "black",
           "width": 4
          },
          "size": 30,
          "symbol": "square"
         },
         "mode": "markers+text",
         "name": "PRIMES",
         "showlegend": false,
         "type": "scatter",
         "x": [
          -1000
         ],
         "xaxis": "x2",
         "y": [
          1000
         ],
         "yaxis": "y2"
        },
        {
         "hovertemplate": "<b>DIAG-C400-lin</b> <br>ERT: %{y:.2f} <br>Carbon capture: %{x:.2f}",
         "line": {
          "width": 4
         },
         "marker": {
          "color": "black",
          "line": {
           "color": "black",
           "width": 4
          },
          "size": 12,
          "symbol": "circle"
         },
         "mode": "markers",
         "name": "IMAGE",
         "showlegend": false,
         "text": "<b>-</b>",
         "type": "scatter",
         "x": [
          0.978066870682481
         ],
         "xaxis": "x2",
         "y": [
          0.5009024945097867
         ],
         "yaxis": "y2"
        },
        {
         "hovertemplate": "<b>DIAG-C400-lin</b> <br>ERT: %{y:.2f} <br>Carbon capture: %{x:.2f}",
         "line": {
          "width": 4
         },
         "marker": {
          "color": "black",
          "line": {
           "color": "black",
           "width": 4
          },
          "size": 12,
          "symbol": "circle"
         },
         "mode": "markers",
         "name": "PROMETHEUS",
         "showlegend": false,
         "text": "<b>-</b>",
         "type": "scatter",
         "x": [
          0.924541791129761
         ],
         "xaxis": "x2",
         "y": [
          0.5529069135319611
         ],
         "yaxis": "y2"
        },
        {
         "hovertemplate": "<b>DIAG-C400-lin</b> <br>ERT: %{y:.2f} <br>Carbon capture: %{x:.2f}",
         "line": {
          "width": 4
         },
         "marker": {
          "color": "black",
          "line": {
           "color": "black",
           "width": 4
          },
          "size": 12,
          "symbol": "circle"
         },
         "mode": "markers",
         "name": "REMIND",
         "showlegend": false,
         "text": "<b>-</b>",
         "type": "scatter",
         "x": [
          1.0764937922594884
         ],
         "xaxis": "x2",
         "y": [
          0.4865644265264627
         ],
         "yaxis": "y2"
        },
        {
         "hovertemplate": "<b>DIAG-C400-lin</b> <br>ERT: %{y:.2f} <br>Carbon capture: %{x:.2f}",
         "line": {
          "width": 4
         },
         "marker": {
          "color": "black",
          "line": {
           "color": "black",
           "width": 4
          },
          "size": 12,
          "symbol": "circle"
         },
         "mode": "markers",
         "name": "WITCH",
         "showlegend": false,
         "text": "<b>-</b>",
         "type": "scatter",
         "x": [
          0.8913025782258366
         ],
         "xaxis": "x2",
         "y": [
          0.6664251931253595
         ],
         "yaxis": "y2"
        },
        {
         "hovertemplate": "<b>DIAG-C400-lin</b> <br>ERT: %{y:.2f} <br>Carbon capture: %{x:.2f}",
         "line": {
          "width": 4
         },
         "marker": {
          "color": "black",
          "line": {
           "color": "black",
           "width": 4
          },
          "size": 12,
          "symbol": "circle"
         },
         "mode": "markers",
         "name": "Euro-Calliope",
         "showlegend": false,
         "text": "<b>-</b>",
         "type": "scatter",
         "x": [
          0.9998057628062715
         ],
         "xaxis": "x2",
         "y": [
          0.452507382839344
         ],
         "yaxis": "y2"
        },
        {
         "hovertemplate": "<b>DIAG-C400-lin</b> <br>ERT: %{y:.2f} <br>Carbon capture: %{x:.2f}",
         "line": {
          "width": 4
         },
         "marker": {
          "color": "black",
          "line": {
           "color": "black",
           "width": 4
          },
          "size": 12,
          "symbol": "circle"
         },
         "mode": "markers",
         "name": "TIAM-ECN",
         "showlegend": false,
         "text": "<b>-</b>",
         "type": "scatter",
         "x": [
          0.747900064844355
         ],
         "xaxis": "x2",
         "y": [
          0.35294176480328837
         ],
         "yaxis": "y2"
        },
        {
         "hovertemplate": "<b>DIAG-C400-lin</b> <br>ERT: %{y:.2f} <br>Carbon capture: %{x:.2f}",
         "line": {
          "width": 4
         },
         "marker": {
          "color": "black",
          "line": {
           "color": "black",
           "width": 4
          },
          "size": 12,
          "symbol": "circle"
         },
         "mode": "markers",
         "name": "MESSAGE",
         "showlegend": false,
         "text": "<b>-</b>",
         "type": "scatter",
         "x": [
          0.8674288170797511
         ],
         "xaxis": "x2",
         "y": [
          0.44359051020080786
         ],
         "yaxis": "y2"
        },
        {
         "hovertemplate": "<b>DIAG-C400-lin</b> <br>ERT: %{y:.2f} <br>Carbon capture: %{x:.2f}",
         "line": {
          "width": 4
         },
         "marker": {
          "color": "black",
          "line": {
           "color": "black",
           "width": 4
          },
          "size": 12,
          "symbol": "circle"
         },
         "mode": "markers",
         "name": "PRIMES",
         "showlegend": false,
         "text": "<b>-</b>",
         "type": "scatter",
         "x": [
          0.9582861614245772
         ],
         "xaxis": "x2",
         "y": [
          0.526504749465719
         ],
         "yaxis": "y2"
        },
        {
         "marker": {
          "color": "white",
          "line": {
           "color": "black",
           "width": 0.5
          },
          "size": 25
         },
         "mode": "text+markers",
         "name": "PRIMES 2022",
         "showlegend": false,
         "text": [
          "B"
         ],
         "textfont": {
          "color": "black",
          "size": 15
         },
         "type": "scatter",
         "x": [
          260
         ],
         "xaxis": "x",
         "y": [
          1.25
         ],
         "yaxis": "y"
        },
        {
         "marker": {
          "color": "white",
          "line": {
           "color": "black",
           "width": 0.5
          },
          "size": 25
         },
         "mode": "text+markers",
         "name": "PRIMES 2022",
         "showlegend": false,
         "text": [
          "C"
         ],
         "textfont": {
          "color": "black",
          "size": 15
         },
         "type": "scatter",
         "x": [
          260
         ],
         "xaxis": "x",
         "y": [
          1.22
         ],
         "yaxis": "y"
        },
        {
         "marker": {
          "color": "white",
          "line": {
           "color": "black",
           "width": 0.5
          },
          "size": 25
         },
         "mode": "text+markers",
         "name": "PRIMES 2022",
         "showlegend": false,
         "text": [
          "N"
         ],
         "textfont": {
          "color": "black",
          "size": 15
         },
         "type": "scatter",
         "x": [
          260
         ],
         "xaxis": "x",
         "y": [
          1.19
         ],
         "yaxis": "y"
        },
        {
         "marker": {
          "color": "white",
          "line": {
           "color": "black",
           "width": 0.5
          },
          "size": 25
         },
         "mode": "text+markers",
         "name": "PRIMES 2022",
         "showlegend": false,
         "text": [
          "V"
         ],
         "textfont": {
          "color": "black",
          "size": 15
         },
         "type": "scatter",
         "x": [
          260
         ],
         "xaxis": "x",
         "y": [
          1.16
         ],
         "yaxis": "y"
        },
        {
         "marker": {
          "color": "white",
          "line": {
           "color": "black",
           "width": 0.5
          },
          "size": 25
         },
         "mode": "text+markers",
         "name": "PRIMES 2022",
         "showlegend": false,
         "text": [
          "El"
         ],
         "textfont": {
          "color": "black",
          "size": 15
         },
         "type": "scatter",
         "x": [
          260
         ],
         "xaxis": "x",
         "y": [
          1.13
         ],
         "yaxis": "y"
        },
        {
         "marker": {
          "color": "white",
          "line": {
           "color": "black",
           "width": 0.5
          },
          "size": 25
         },
         "mode": "text+markers",
         "name": "PRIMES 2022",
         "showlegend": false,
         "text": [
          "H"
         ],
         "textfont": {
          "color": "black",
          "size": 15
         },
         "type": "scatter",
         "x": [
          260
         ],
         "xaxis": "x",
         "y": [
          1.1
         ],
         "yaxis": "y"
        },
        {
         "marker": {
          "color": "white",
          "line": {
           "color": "black",
           "width": 0.5
          },
          "size": 25
         },
         "mode": "text+markers",
         "name": "PRIMES 2022",
         "showlegend": false,
         "text": [
          "F"
         ],
         "textfont": {
          "color": "black",
          "size": 15
         },
         "type": "scatter",
         "x": [
          260
         ],
         "xaxis": "x",
         "y": [
          1.07
         ],
         "yaxis": "y"
        },
        {
         "marker": {
          "color": "white",
          "line": {
           "color": "black",
           "width": 0.5
          },
          "size": 25
         },
         "mode": "text+markers",
         "name": "PRIMES 2022",
         "showlegend": false,
         "text": [
          "Ef"
         ],
         "textfont": {
          "color": "black",
          "size": 15
         },
         "type": "scatter",
         "x": [
          260
         ],
         "xaxis": "x",
         "y": [
          1.04
         ],
         "yaxis": "y"
        },
        {
         "marker": {
          "color": "white",
          "line": {
           "color": "black",
           "width": 0.5
          },
          "size": 25
         },
         "mode": "text+markers",
         "name": "PRIMES 2022",
         "showlegend": false,
         "text": [
          "-"
         ],
         "textfont": {
          "color": "black",
          "size": 15
         },
         "type": "scatter",
         "x": [
          260
         ],
         "xaxis": "x",
         "y": [
          1.01
         ],
         "yaxis": "y"
        },
        {
         "line": {
          "color": "lightskyblue",
          "width": 4
         },
         "mode": "lines",
         "name": "IMAGE",
         "showlegend": false,
         "type": "scatter",
         "x": [
          1995,
          1996,
          1997,
          1998,
          1999,
          2000,
          2001,
          2002,
          2003,
          2004,
          2005,
          2006,
          2007,
          2008,
          2009,
          2010,
          2011,
          2012,
          2013,
          2014,
          2015,
          2016,
          2017,
          2018,
          2019,
          2020,
          2021,
          2022,
          2023,
          2024,
          2025,
          2026,
          2027,
          2028,
          2029,
          2030,
          2031,
          2032,
          2033,
          2034,
          2035,
          2036,
          2037,
          2038,
          2039,
          2040,
          2041,
          2042,
          2043,
          2044,
          2045,
          2046,
          2047,
          2048,
          2049,
          2050,
          2051,
          2052,
          2053,
          2054,
          2055,
          2056,
          2057,
          2058,
          2059,
          2060,
          2061,
          2062,
          2063,
          2064,
          2065,
          2066,
          2067,
          2068,
          2069,
          2070,
          2071,
          2072,
          2073,
          2074,
          2075,
          2076,
          2077,
          2078,
          2079,
          2080,
          2081,
          2082,
          2083,
          2084,
          2085,
          2086,
          2087,
          2088,
          2089,
          2090,
          2091,
          2092,
          2093,
          2094,
          2095,
          2096,
          2097,
          2098,
          2099,
          2100
         ],
         "xaxis": "x3",
         "y": [
          null,
          null,
          null,
          null,
          null,
          null,
          null,
          null,
          null,
          null,
          null,
          null,
          null,
          null,
          null,
          null,
          null,
          null,
          null,
          null,
          null,
          null,
          null,
          null,
          null,
          9.200555792026111e-9,
          1.2948545405068013e-7,
          4.850150090028372e-7,
          0.0000011192469937806522,
          0.0000020844118056728566,
          0.000003443303829101721,
          0.000004017095582553604,
          0.0000056760758886728325,
          0.000008598026478066403,
          0.000013000920277784983,
          0.00001915663865098862,
          0.000029207691815513872,
          0.00004653580057305993,
          0.00007198710579439012,
          0.00010651954585271822,
          0.0001512210520683095,
          0.0001937975860188877,
          0.00024686315734022835,
          0.0003111874953233582,
          0.00038762399273190013,
          0.00047712023345894097,
          0.0005564555215217811,
          0.0006495992768923263,
          0.0007568901864408518,
          0.0008786816083132728,
          0.001015342214554602,
          0.0011195593379628975,
          0.0012355784459819157,
          0.0013634957586328104,
          0.0015034271712273638,
          0.0016555081792755315,
          0.0017996487077576212,
          0.0019527749259205267,
          0.0021147696188621025,
          0.002285540243378646,
          0.002465017953711901,
          0.0026027971735578656,
          0.002747906226772258,
          0.002900273363634323,
          0.003059837517522156,
          0.0032265481341842146,
          0.003344501586165715,
          0.0034675960026297075,
          0.0035955988045033535,
          0.0037282903811605987,
          0.003865463257092899,
          0.00391606956467908,
          0.0039711554291431824,
          0.004030649805020567,
          0.00409448382555658,
          0.00416259072773034,
          0.0041928052674558005,
          0.004227997796813376,
          0.0042680951400071495,
          0.004313025750243706,
          0.00436271966942267,
          0.004402297293027646,
          0.004445533321760018,
          0.004492382620202032,
          0.004542802142875169,
          0.004596750934589497,
          0.004576323868777331,
          0.004558545410259774,
          0.004543389320384296,
          0.004530830373454224,
          0.004520844349413676,
          0.0045343545736965555,
          0.004551429886462321,
          0.004572094276405219,
          0.0045963749004733715,
          0.004624302139528907,
          0.00467793131570768,
          0.004734544634783717,
          0.00479412030727977,
          0.004856639126102743,
          0.004922084433206444,
          0.005023008332537104,
          0.005127076414752145,
          0.005234253689658115,
          0.005344506914726964,
          0.005457804593878727
         ],
         "yaxis": "y3"
        },
        {
         "line": {
          "color": "goldenrod",
          "width": 4
         },
         "mode": "lines",
         "name": "PROMETHEUS",
         "showlegend": false,
         "type": "scatter",
         "x": [
          1995,
          1996,
          1997,
          1998,
          1999,
          2000,
          2001,
          2002,
          2003,
          2004,
          2005,
          2006,
          2007,
          2008,
          2009,
          2010,
          2011,
          2012,
          2013,
          2014,
          2015,
          2016,
          2017,
          2018,
          2019,
          2020,
          2021,
          2022,
          2023,
          2024,
          2025,
          2026,
          2027,
          2028,
          2029,
          2030,
          2031,
          2032,
          2033,
          2034,
          2035,
          2036,
          2037,
          2038,
          2039,
          2040,
          2041,
          2042,
          2043,
          2044,
          2045,
          2046,
          2047,
          2048,
          2049,
          2050,
          2051,
          2052,
          2053,
          2054,
          2055,
          2056,
          2057,
          2058,
          2059,
          2060,
          2061,
          2062,
          2063,
          2064,
          2065,
          2066,
          2067,
          2068,
          2069,
          2070,
          2071,
          2072,
          2073,
          2074,
          2075,
          2076,
          2077,
          2078,
          2079,
          2080,
          2081,
          2082,
          2083,
          2084,
          2085,
          2086,
          2087,
          2088,
          2089,
          2090,
          2091,
          2092,
          2093,
          2094,
          2095,
          2096,
          2097,
          2098,
          2099,
          2100
         ],
         "xaxis": "x3",
         "y": [
          null,
          null,
          null,
          null,
          null,
          null,
          null,
          null,
          null,
          null,
          null,
          null,
          null,
          null,
          null,
          null,
          null,
          null,
          null,
          null,
          null,
          null,
          null,
          null,
          null,
          9.230672431694361e-10,
          0.0000011548340555719888,
          0.000004671128106630515,
          0.000010682805437512823,
          0.000019344826920877824,
          0.00003083810696314096,
          0.000036812331999826576,
          0.0000446027171588804,
          0.00005450691033836404,
          0.000066877073671903,
          0.00008213167097980865,
          0.00008839581948045604,
          0.00009709923206507862,
          0.00010867820503982734,
          0.00012366298772934983,
          0.00014270241538963017,
          0.00015650815319603412,
          0.0001771213889058747,
          0.00020502157750415027,
          0.00024072568704375835,
          0.00028479180994061567,
          0.0003130143603138986,
          0.0003470445905333969,
          0.00038693114634608496,
          0.0004327265106297766,
          0.0004844872530765984,
          0.0005651549366448147,
          0.0006579200018603702,
          0.0007630323507085782,
          0.0008807791213969162,
          0.0010114911325470285,
          null,
          null,
          null,
          null,
          null,
          null,
          null,
          null,
          null,
          null,
          null,
          null,
          null,
          null,
          null,
          null,
          null,
          null,
          null,
          null,
          null,
          null,
          null,
          null,
          null,
          null,
          null,
          null,
          null,
          null,
          null,
          null,
          null,
          null,
          null,
          null,
          null,
          null,
          null,
          null,
          null,
          null,
          null,
          null,
          null,
          null,
          null,
          null,
          null,
          null
         ],
         "yaxis": "y3"
        },
        {
         "line": {
          "color": "tomato",
          "width": 4
         },
         "mode": "lines",
         "name": "REMIND",
         "showlegend": false,
         "type": "scatter",
         "x": [
          1995,
          1996,
          1997,
          1998,
          1999,
          2000,
          2001,
          2002,
          2003,
          2004,
          2005,
          2006,
          2007,
          2008,
          2009,
          2010,
          2011,
          2012,
          2013,
          2014,
          2015,
          2016,
          2017,
          2018,
          2019,
          2020,
          2021,
          2022,
          2023,
          2024,
          2025,
          2026,
          2027,
          2028,
          2029,
          2030,
          2031,
          2032,
          2033,
          2034,
          2035,
          2036,
          2037,
          2038,
          2039,
          2040,
          2041,
          2042,
          2043,
          2044,
          2045,
          2046,
          2047,
          2048,
          2049,
          2050,
          2051,
          2052,
          2053,
          2054,
          2055,
          2056,
          2057,
          2058,
          2059,
          2060,
          2061,
          2062,
          2063,
          2064,
          2065,
          2066,
          2067,
          2068,
          2069,
          2070,
          2071,
          2072,
          2073,
          2074,
          2075,
          2076,
          2077,
          2078,
          2079,
          2080,
          2081,
          2082,
          2083,
          2084,
          2085,
          2086,
          2087,
          2088,
          2089,
          2090,
          2091,
          2092,
          2093,
          2094,
          2095,
          2096,
          2097,
          2098,
          2099,
          2100
         ],
         "xaxis": "x3",
         "y": [
          null,
          null,
          null,
          null,
          null,
          null,
          null,
          null,
          null,
          null,
          null,
          null,
          null,
          null,
          null,
          null,
          null,
          null,
          null,
          null,
          null,
          null,
          null,
          null,
          null,
          2.878811924312473e-8,
          0.0000012172176000452094,
          0.000004734354689779352,
          0.000011026627916857613,
          0.00002063038807691237,
          0.000034191763659655096,
          0.00006333325740773853,
          0.00010434258927324179,
          0.00015819700451813923,
          0.0002259611251872464,
          0.0003087970436768818,
          0.0003549167844661562,
          0.00040969136061458865,
          0.00047225735056012283,
          0.0005417350591412004,
          0.0006172460902665027,
          0.0005975973063382856,
          0.0005777831806170888,
          0.0005581684958151958,
          0.0005393353305052693,
          0.0005221324613185537,
          0.00048170538461905516,
          0.0004493006181360638,
          0.0004250398083669408,
          0.0004090811863223652,
          0.00040162208121368337,
          0.0004071155171593588,
          0.00041686985220594963,
          0.0004308419907356535,
          0.0004489968878107873,
          0.0004713079450110821,
          0.0004921860288904512,
          0.0005148719261568195,
          0.0005393308882862008,
          0.0005655305803766152,
          0.000593441055861189,
          0.0006173475662751976,
          0.0006427583241545777,
          0.0006696739070998038,
          0.0006980962550599962,
          0.0007280286738059968,
          0.0007405234960436632,
          0.0007537607072879428,
          0.000767727118811794,
          0.0007824100874603236,
          0.0007977974924141879,
          0.0008138777131095307,
          0.0008306396082496034,
          0.000848072495847265,
          0.0008661661342413036,
          0.0008849107040330534,
          0.0008978976954013599,
          0.0009113551428391297,
          0.0009252647348400807,
          0.000939608819249399,
          0.0009543703770756478,
          0.0009695329974743469,
          0.000985080853844409,
          0.001000998680981932,
          0.001017271753238899,
          0.0010338858636372403,
          0.0010517742538238323,
          0.001070065683712332,
          0.0010887544813881205,
          0.0011078350631973724,
          0.0011273019321443197,
          0.001147149676321745,
          0.001167372967373936,
          0.0011879665589913434,
          0.0012089252854362161,
          0.0012302440600984882,
          0.001235610268241256,
          0.0012410920001490844,
          0.0012466847864763965,
          0.0012523843104793573,
          0.0012581864023657305,
          0.001264087033876932,
          0.001270082313091725,
          0.00127616847944151,
          0.0012823418989276849,
          0.0012885990595320111
         ],
         "yaxis": "y3"
        },
        {
         "line": {
          "color": "forestgreen",
          "width": 4
         },
         "mode": "lines",
         "name": "WITCH",
         "showlegend": false,
         "type": "scatter",
         "x": [
          1995,
          1996,
          1997,
          1998,
          1999,
          2000,
          2001,
          2002,
          2003,
          2004,
          2005,
          2006,
          2007,
          2008,
          2009,
          2010,
          2011,
          2012,
          2013,
          2014,
          2015,
          2016,
          2017,
          2018,
          2019,
          2020,
          2021,
          2022,
          2023,
          2024,
          2025,
          2026,
          2027,
          2028,
          2029,
          2030,
          2031,
          2032,
          2033,
          2034,
          2035,
          2036,
          2037,
          2038,
          2039,
          2040,
          2041,
          2042,
          2043,
          2044,
          2045,
          2046,
          2047,
          2048,
          2049,
          2050,
          2051,
          2052,
          2053,
          2054,
          2055,
          2056,
          2057,
          2058,
          2059,
          2060,
          2061,
          2062,
          2063,
          2064,
          2065,
          2066,
          2067,
          2068,
          2069,
          2070,
          2071,
          2072,
          2073,
          2074,
          2075,
          2076,
          2077,
          2078,
          2079,
          2080,
          2081,
          2082,
          2083,
          2084,
          2085,
          2086,
          2087,
          2088,
          2089,
          2090,
          2091,
          2092,
          2093,
          2094,
          2095,
          2096,
          2097,
          2098,
          2099,
          2100
         ],
         "xaxis": "x3",
         "y": [
          null,
          null,
          null,
          null,
          null,
          null,
          null,
          null,
          null,
          null,
          null,
          null,
          null,
          null,
          null,
          null,
          null,
          null,
          null,
          null,
          null,
          null,
          null,
          null,
          null,
          5.644522359331341e-34,
          4.2401890765867253e-7,
          0.0000018562132958881818,
          0.0000045953643075400744,
          0.000009043563369369042,
          0.000015750668147520912,
          0.000024212494633578936,
          0.00003711265296716002,
          0.00005440774632499386,
          0.00007605466161914647,
          0.00010201059050054216,
          0.0001199423749770141,
          0.00014019461171740138,
          0.000162454689945475,
          0.0001864485656408666,
          0.00021193585274214776,
          0.0002343516293946775,
          0.0002608450420319334,
          0.0002913261461839392,
          0.0003257147781216536,
          0.00036394039388609175,
          0.0003921233379408758,
          0.00042309004971070565,
          0.0004567491056287469,
          0.0004930184437522013,
          0.0005318249870817638,
          0.0005483717773059039,
          0.0005653008926862134,
          0.0005826074187590274,
          0.0006002869048018446,
          0.0006183353640078482,
          0.0006332896400437789,
          0.0006484832527290921,
          0.0006639153608873115,
          0.0006795853218494473,
          0.0006954926822594447,
          0.000750144787165198,
          0.0008092379394890825,
          0.0008724193785546375,
          0.0009393640171557662,
          0.0010097721265634912,
          0.0010298468325504442,
          0.0010500876271253294,
          0.0010704900016200018,
          0.0010910496881841789,
          0.0011117626457108189,
          0.001121736466313478,
          0.0011318369108612818,
          0.001142060448942391,
          0.0011524036736827764,
          0.0011628632949479054,
          0.001160547048487628,
          0.001158418973439317,
          0.001156470527839631,
          0.0011546935963965804,
          0.0011530804656005296,
          0.0011450740997857023,
          0.0011373976006357543,
          0.0011300356812240266,
          0.0011229739214797941,
          0.001116198708759786,
          0.0011020062845847258,
          0.0010883268316641596,
          0.0010751358475566302,
          0.0010624103555740608,
          0.001050128785967202,
          0.0010341532280859574,
          0.0010188015091963105,
          0.00100404190664101,
          0.000989844836427605,
          0.0009761826686976218,
          0.0009614902308714007,
          0.0009474349549061405,
          0.0009339880089460212,
          0.0009211224430570216,
          0.000908813013708558,
          0.0008860037008733436,
          0.0008647301487317473,
          0.0008448727787431721,
          0.000826323207368995,
          0.0008089830085727261
         ],
         "yaxis": "y3"
        },
        {
         "line": {
          "color": "darkgrey",
          "width": 4
         },
         "mode": "lines",
         "name": "Euro-Calliope",
         "showlegend": false,
         "type": "scatter",
         "x": [
          1995,
          1996,
          1997,
          1998,
          1999,
          2000,
          2001,
          2002,
          2003,
          2004,
          2005,
          2006,
          2007,
          2008,
          2009,
          2010,
          2011,
          2012,
          2013,
          2014,
          2015,
          2016,
          2017,
          2018,
          2019,
          2020,
          2021,
          2022,
          2023,
          2024,
          2025,
          2026,
          2027,
          2028,
          2029,
          2030,
          2031,
          2032,
          2033,
          2034,
          2035,
          2036,
          2037,
          2038,
          2039,
          2040,
          2041,
          2042,
          2043,
          2044,
          2045,
          2046,
          2047,
          2048,
          2049,
          2050,
          2051,
          2052,
          2053,
          2054,
          2055,
          2056,
          2057,
          2058,
          2059,
          2060,
          2061,
          2062,
          2063,
          2064,
          2065,
          2066,
          2067,
          2068,
          2069,
          2070,
          2071,
          2072,
          2073,
          2074,
          2075,
          2076,
          2077,
          2078,
          2079,
          2080,
          2081,
          2082,
          2083,
          2084,
          2085,
          2086,
          2087,
          2088,
          2089,
          2090,
          2091,
          2092,
          2093,
          2094,
          2095,
          2096,
          2097,
          2098,
          2099,
          2100
         ],
         "xaxis": "x3",
         "y": [
          null,
          null,
          null,
          null,
          null,
          null,
          null,
          null,
          null,
          null,
          null,
          null,
          null,
          null,
          null,
          null,
          null,
          null,
          null,
          null,
          null,
          null,
          null,
          null,
          null,
          3.4499079918990104e-35,
          0.00000771864507781738,
          0.000031024530698218084,
          0.00007025563960522256,
          0.00012599875960478415,
          0.00019926835602914505,
          0.000291783827368139,
          0.0004063991346763149,
          0.0005477711308664305,
          0.0007234071252825464,
          0.0009453252485807153,
          0.0010021762047906426,
          0.0010864447635443987,
          0.0011933888435813921,
          0.0013194388547017333,
          0.0014619888348409318,
          0.0016192377750224622,
          0.0017900702797718111,
          0.0019739684865271397,
          0.002170949242339922,
          0.002381522107555697,
          0.0026066649654059174,
          0.0028478149656889417,
          0.003106873295097301,
          0.0033862229026688138,
          0.003688758859858666,
          0.004017931535788323,
          0.0043778032488046,
          0.004773119542069548,
          0.005209396749069286,
          0.00569302809121191,
          null,
          null,
          null,
          null,
          null,
          null,
          null,
          null,
          null,
          null,
          null,
          null,
          null,
          null,
          null,
          null,
          null,
          null,
          null,
          null,
          null,
          null,
          null,
          null,
          null,
          null,
          null,
          null,
          null,
          null,
          null,
          null,
          null,
          null,
          null,
          null,
          null,
          null,
          null,
          null,
          null,
          null,
          null,
          null,
          null,
          null,
          null,
          null,
          null,
          null
         ],
         "yaxis": "y3"
        },
        {
         "line": {
          "color": "royalblue",
          "width": 4
         },
         "mode": "lines",
         "name": "TIAM-ECN",
         "showlegend": false,
         "type": "scatter",
         "x": [
          1995,
          1996,
          1997,
          1998,
          1999,
          2000,
          2001,
          2002,
          2003,
          2004,
          2005,
          2006,
          2007,
          2008,
          2009,
          2010,
          2011,
          2012,
          2013,
          2014,
          2015,
          2016,
          2017,
          2018,
          2019,
          2020,
          2021,
          2022,
          2023,
          2024,
          2025,
          2026,
          2027,
          2028,
          2029,
          2030,
          2031,
          2032,
          2033,
          2034,
          2035,
          2036,
          2037,
          2038,
          2039,
          2040,
          2041,
          2042,
          2043,
          2044,
          2045,
          2046,
          2047,
          2048,
          2049,
          2050,
          2051,
          2052,
          2053,
          2054,
          2055,
          2056,
          2057,
          2058,
          2059,
          2060,
          2061,
          2062,
          2063,
          2064,
          2065,
          2066,
          2067,
          2068,
          2069,
          2070,
          2071,
          2072,
          2073,
          2074,
          2075,
          2076,
          2077,
          2078,
          2079,
          2080,
          2081,
          2082,
          2083,
          2084,
          2085,
          2086,
          2087,
          2088,
          2089,
          2090,
          2091,
          2092,
          2093,
          2094,
          2095,
          2096,
          2097,
          2098,
          2099,
          2100
         ],
         "xaxis": "x3",
         "y": [
          null,
          null,
          null,
          null,
          null,
          null,
          null,
          null,
          null,
          null,
          null,
          null,
          null,
          null,
          null,
          null,
          null,
          null,
          null,
          null,
          null,
          null,
          null,
          null,
          null,
          0.0000011108942580182141,
          0.0000024528487149118906,
          0.000008306819387270696,
          0.000018775981744546046,
          0.00003396648053972889,
          0.000053987462954006114,
          0.000034506833702425236,
          0.00002042606465905656,
          0.000011511779514363854,
          0.000007541864560986288,
          0.0000083048056620848,
          0.00004907593352456158,
          0.0001566409626364855,
          0.0003498464490298274,
          0.00065480774236728,
          0.0011080325510275416,
          0.0009226559758663104,
          0.0007847273149882091,
          0.000710944022688267,
          0.0007227766704285893,
          0.0008479677934940349,
          0.000620535206007158,
          0.0004284294012889814,
          0.000276572001560994,
          0.00017110059619849776,
          0.00011960950994839853,
          0.00014789797749343003,
          0.00018220347127868427,
          0.00022241516554941123,
          0.0002684343334316761,
          0.0003201739290595198,
          0.0003241899170632209,
          0.0003308229399027693,
          0.00034039125577628085,
          0.00035325528636127103,
          0.00036982434463073605,
          0.0003905646744315354,
          0.0004160091121058322,
          0.0004467687680821617,
          0.0004835472430386856,
          0.0005271580500317268,
          0.0005339802809709088,
          0.0005430660474485058,
          0.0005545998728189059,
          0.0005687842017055543,
          0.00058584155023194,
          0.0006060169672231188,
          0.0006295808593379358,
          0.000656832243526546,
          0.0006881025029878731,
          0.0007237597385220604,
          0.0007461932757892307,
          0.0007715107031816849,
          0.0007997807028223385,
          0.000831073780352078,
          0.0008654623221301833,
          0.0009030206545258027,
          0.0009438251053878995,
          0.0009879540677851988,
          0.0010354880661119956,
          0.0010865098246602473,
          0.0011177735406128957,
          0.0011501701778463057,
          0.0011836954803078265,
          0.0012183452798690349,
          0.0012541154947947753,
          0.0012910021282442048,
          0.0013290012668030562,
          0.00136810907904641,
          0.0014083218141312244,
          0.0014496358004179315,
          0.0014796884363386302,
          0.001510971531460318,
          0.0015434803683520312,
          0.0015772103950111185,
          0.0016121572221548337,
          0.0016483166205704949,
          0.0016856845185228724,
          0.0017242569992174835,
          0.001764030298318526,
          0.0018050008015201954
         ],
         "yaxis": "y3"
        },
        {
         "line": {
          "color": "purple",
          "width": 4
         },
         "mode": "lines",
         "name": "MESSAGE",
         "showlegend": false,
         "type": "scatter",
         "x": [
          1995,
          1996,
          1997,
          1998,
          1999,
          2000,
          2001,
          2002,
          2003,
          2004,
          2005,
          2006,
          2007,
          2008,
          2009,
          2010,
          2011,
          2012,
          2013,
          2014,
          2015,
          2016,
          2017,
          2018,
          2019,
          2020,
          2021,
          2022,
          2023,
          2024,
          2025,
          2026,
          2027,
          2028,
          2029,
          2030,
          2031,
          2032,
          2033,
          2034,
          2035,
          2036,
          2037,
          2038,
          2039,
          2040,
          2041,
          2042,
          2043,
          2044,
          2045,
          2046,
          2047,
          2048,
          2049,
          2050,
          2051,
          2052,
          2053,
          2054,
          2055,
          2056,
          2057,
          2058,
          2059,
          2060,
          2061,
          2062,
          2063,
          2064,
          2065,
          2066,
          2067,
          2068,
          2069,
          2070,
          2071,
          2072,
          2073,
          2074,
          2075,
          2076,
          2077,
          2078,
          2079,
          2080,
          2081,
          2082,
          2083,
          2084,
          2085,
          2086,
          2087,
          2088,
          2089,
          2090,
          2091,
          2092,
          2093,
          2094,
          2095,
          2096,
          2097,
          2098,
          2099,
          2100
         ],
         "xaxis": "x3",
         "y": [
          null,
          null,
          null,
          null,
          null,
          null,
          null,
          null,
          null,
          null,
          null,
          null,
          null,
          null,
          null,
          null,
          null,
          null,
          null,
          null,
          null,
          null,
          null,
          null,
          null,
          4.488104602545255e-34,
          0.000002857850326826878,
          0.000012073642568942485,
          0.00002875000307480674,
          0.000054209872646619207,
          0.00009004976358595214,
          0.00010680327389994434,
          0.0001287744560693731,
          0.00015650124481773618,
          0.0001905812871714995,
          0.00023167971864429104,
          0.00022488168272787046,
          0.00022053640242617568,
          0.00021880445281542439,
          0.00021985827854772077,
          0.00022388339796925932,
          0.00022490794987654978,
          0.00022836831623992992,
          0.0002343607325744744,
          0.00024298985216279125,
          0.00025436966361428684,
          0.0003242182111949174,
          0.00040950966949347543,
          0.0005096856900379917,
          0.0006242104237600792,
          0.0007525693295795224,
          0.0008373112184885591,
          0.0009316862496391265,
          0.001035212331509588,
          0.001147440702907401,
          0.0012679530330969842,
          0.001308607568128578,
          0.0013533238737169235,
          0.0014018885684714797,
          0.0014540995496524435,
          0.0015097653153407433,
          0.0014799511079579741,
          0.0014573846626208635,
          0.001441625936973357,
          0.0014322660260038277,
          0.0014289244606661337,
          0.0013516082591698193,
          0.0012870602356420328,
          0.0012345084167332944,
          0.0011932336827750643,
          0.0011625655393224992,
          0.0011418782754398949,
          0.0011305874691261045,
          0.001128146804748335,
          0.0011340451712735288,
          0.0011478040135302736,
          0.0010976652750793337,
          0.0010537227878612415,
          0.0010158086064387824,
          0.000983761644000934,
          0.0009574272583611198,
          0.0009366568711514548,
          0.0009213076169679824,
          0.0009112420195888434,
          0.0009063276927076664,
          0.000906437062904772,
          0.0008905252709360455,
          0.0008758727684836381,
          0.0008624391358690756,
          0.000850185466425981,
          0.0008390742995870631,
          0.0008290695573869338,
          0.0008201364841834216,
          0.0008122415894127532,
          0.000805352593205789,
          0.0007994383747034527,
          0.0007895566575153494,
          0.0007800935653428289,
          0.0007710336192680719,
          0.0007623619974750559,
          0.0007540645026833109,
          0.0007461275314425192,
          0.0007385380451673235,
          0.0007312835428004594,
          0.0007243520350003594,
          0.0007177320197567914
         ],
         "yaxis": "y3"
        },
        {
         "line": {
          "color": "palegreen",
          "width": 4
         },
         "mode": "lines",
         "name": "PRIMES",
         "showlegend": false,
         "type": "scatter",
         "x": [
          1995,
          1996,
          1997,
          1998,
          1999,
          2000,
          2001,
          2002,
          2003,
          2004,
          2005,
          2006,
          2007,
          2008,
          2009,
          2010,
          2011,
          2012,
          2013,
          2014,
          2015,
          2016,
          2017,
          2018,
          2019,
          2020,
          2021,
          2022,
          2023,
          2024,
          2025,
          2026,
          2027,
          2028,
          2029,
          2030,
          2031,
          2032,
          2033,
          2034,
          2035,
          2036,
          2037,
          2038,
          2039,
          2040,
          2041,
          2042,
          2043,
          2044,
          2045,
          2046,
          2047,
          2048,
          2049,
          2050,
          2051,
          2052,
          2053,
          2054,
          2055,
          2056,
          2057,
          2058,
          2059,
          2060,
          2061,
          2062,
          2063,
          2064,
          2065,
          2066,
          2067,
          2068,
          2069,
          2070,
          2071,
          2072,
          2073,
          2074,
          2075,
          2076,
          2077,
          2078,
          2079,
          2080,
          2081,
          2082,
          2083,
          2084,
          2085,
          2086,
          2087,
          2088,
          2089,
          2090,
          2091,
          2092,
          2093,
          2094,
          2095,
          2096,
          2097,
          2098,
          2099,
          2100
         ],
         "xaxis": "x3",
         "y": [
          null,
          null,
          null,
          null,
          null,
          null,
          null,
          null,
          null,
          null,
          null,
          null,
          null,
          null,
          null,
          null,
          null,
          null,
          null,
          null,
          null,
          null,
          null,
          null,
          null,
          0.00008694388308825274,
          0.00008193223855003488,
          0.0000773810286403261,
          0.00007328485447940056,
          0.00006963864206706661,
          0.0000664376413655968,
          0.00006941947661996917,
          0.00007413811915969509,
          0.00008075734203972322,
          0.0000894608220036887,
          0.00010045680076492707,
          0.00009841686996236675,
          0.00009783250917333278,
          0.00009885607623365562,
          0.00010166491330466235,
          0.00010646625108645315,
          0.00010812121209145107,
          0.00011316476371837007,
          0.00012166439274090826,
          0.00013369339761855136,
          0.00014933113241538128,
          0.0001490731687740242,
          0.0001499512712298443,
          0.00015192804614666907,
          0.0001549708048073911,
          0.0001590508908779814,
          0.00016615284590317466,
          0.00017395130865347318,
          0.0001824265640440611,
          0.00019156025702227736,
          0.00020133534718774697,
          0.00019712968121073036,
          0.0001931667207595428,
          0.00018945155029842224,
          0.00018598938488283398,
          0.0001827855740508972,
          0.00017829379200679155,
          0.000173927685226491,
          0.00016968826315043043,
          0.0001655765507541,
          0.00016159358863132163,
          0.00015590889666280866,
          0.00015045517738474808,
          0.0001452323086465349,
          0.00014024017946433903,
          0.0001354786899961025,
          0.00013117165692960538,
          0.0001271161907312559,
          0.00012331352115512364,
          0.00011976488568915666,
          0.00011647152959617993,
          null,
          null,
          null,
          null,
          null,
          null,
          null,
          null,
          null,
          null,
          null,
          null,
          null,
          null,
          null,
          null,
          null,
          null,
          null,
          null,
          null,
          null,
          null,
          null,
          null,
          null,
          null,
          null,
          null,
          null
         ],
         "yaxis": "y3"
        },
        {
         "line": {
          "color": "lightskyblue",
          "width": 4
         },
         "mode": "lines",
         "name": "IMAGE",
         "showlegend": false,
         "type": "scatter",
         "x": [
          1995,
          1996,
          1997,
          1998,
          1999,
          2000,
          2001,
          2002,
          2003,
          2004,
          2005,
          2006,
          2007,
          2008,
          2009,
          2010,
          2011,
          2012,
          2013,
          2014,
          2015,
          2016,
          2017,
          2018,
          2019,
          2020,
          2021,
          2022,
          2023,
          2024,
          2025,
          2026,
          2027,
          2028,
          2029,
          2030,
          2031,
          2032,
          2033,
          2034,
          2035,
          2036,
          2037,
          2038,
          2039,
          2040,
          2041,
          2042,
          2043,
          2044,
          2045,
          2046,
          2047,
          2048,
          2049,
          2050,
          2051,
          2052,
          2053,
          2054,
          2055,
          2056,
          2057,
          2058,
          2059,
          2060,
          2061,
          2062,
          2063,
          2064,
          2065,
          2066,
          2067,
          2068,
          2069,
          2070,
          2071,
          2072,
          2073,
          2074,
          2075,
          2076,
          2077,
          2078,
          2079,
          2080,
          2081,
          2082,
          2083,
          2084,
          2085,
          2086,
          2087,
          2088,
          2089,
          2090,
          2091,
          2092,
          2093,
          2094,
          2095,
          2096,
          2097,
          2098,
          2099,
          2100
         ],
         "xaxis": "x4",
         "y": [
          null,
          null,
          null,
          null,
          null,
          null,
          null,
          null,
          null,
          null,
          null,
          null,
          null,
          null,
          null,
          null,
          null,
          null,
          null,
          null,
          null,
          null,
          null,
          null,
          null,
          0.0000800958556891617,
          0.005839298495167031,
          0.020710616235174676,
          0.04469404907571228,
          0.07778959701677952,
          0.11999726005837646,
          0.12374543075121978,
          0.12899447887707471,
          0.1357444044359416,
          0.14399520742782,
          0.15374688785271043,
          0.1356670078953968,
          0.12361940142271804,
          0.11760406843467369,
          0.11762100893126436,
          0.12367022291248948,
          0.1306452953419064,
          0.1444119285663239,
          0.1649701225857421,
          0.1923198774001609,
          0.2264611930095806,
          0.2529233248313398,
          0.28261273009249593,
          0.3155294087930484,
          0.351673360932998,
          0.391044586512344,
          0.4120410124816934,
          0.43448234896193666,
          0.4583685959530743,
          0.4836997534551055,
          0.5104758214680307,
          0.5263173483155216,
          0.5439728580142206,
          0.5634423505641281,
          0.5847258259652429,
          0.6078232842175662,
          0.6105788573421248,
          0.6149476493928882,
          0.6209296603698579,
          0.6285248902730324,
          0.6377333391024133,
          0.6412641923226357,
          0.6460219365909443,
          0.6520065719073398,
          0.6592180982718214,
          0.6676565156843898,
          0.6654819641802101,
          0.6639400620964797,
          0.6630308094331991,
          0.6627542061903678,
          0.6631102523679865,
          0.653338646618472,
          0.644279377610287,
          0.6359324453434311,
          0.6282978498179046,
          0.6213755910337072,
          0.6178850445900744,
          0.6155173176316717,
          0.6142724101585005,
          0.6141503221705592,
          0.6151510536678496,
          0.622033487390038,
          0.634054461236044,
          0.6512139752058678,
          0.6735120292995088,
          0.7009486235169673,
          0.7369056818666069,
          0.7784992772575557,
          0.8257294096898146,
          0.8785960791633834,
          0.9370992856782622,
          0.9883706455569987,
          1.0439138233268364,
          1.1037288189877752,
          1.167815632539815,
          1.2361742639829554,
          1.292978875085008,
          1.3526785616884804,
          1.4152733237933726,
          1.480763161399685,
          1.5491480745074184
         ],
         "yaxis": "y4"
        },
        {
         "line": {
          "color": "goldenrod",
          "width": 4
         },
         "mode": "lines",
         "name": "PROMETHEUS",
         "showlegend": false,
         "type": "scatter",
         "x": [
          1995,
          1996,
          1997,
          1998,
          1999,
          2000,
          2001,
          2002,
          2003,
          2004,
          2005,
          2006,
          2007,
          2008,
          2009,
          2010,
          2011,
          2012,
          2013,
          2014,
          2015,
          2016,
          2017,
          2018,
          2019,
          2020,
          2021,
          2022,
          2023,
          2024,
          2025,
          2026,
          2027,
          2028,
          2029,
          2030,
          2031,
          2032,
          2033,
          2034,
          2035,
          2036,
          2037,
          2038,
          2039,
          2040,
          2041,
          2042,
          2043,
          2044,
          2045,
          2046,
          2047,
          2048,
          2049,
          2050,
          2051,
          2052,
          2053,
          2054,
          2055,
          2056,
          2057,
          2058,
          2059,
          2060,
          2061,
          2062,
          2063,
          2064,
          2065,
          2066,
          2067,
          2068,
          2069,
          2070,
          2071,
          2072,
          2073,
          2074,
          2075,
          2076,
          2077,
          2078,
          2079,
          2080,
          2081,
          2082,
          2083,
          2084,
          2085,
          2086,
          2087,
          2088,
          2089,
          2090,
          2091,
          2092,
          2093,
          2094,
          2095,
          2096,
          2097,
          2098,
          2099,
          2100
         ],
         "xaxis": "x4",
         "y": [
          null,
          null,
          null,
          null,
          null,
          null,
          null,
          null,
          null,
          null,
          null,
          null,
          null,
          null,
          null,
          null,
          null,
          null,
          null,
          null,
          null,
          null,
          null,
          null,
          null,
          0.000009878694876357805,
          0.0014318271990518669,
          0.005446900842848392,
          0.012055099626266066,
          0.02125642354930467,
          0.0330508726119643,
          0.036852088099171225,
          0.04339491909801289,
          0.05267936560848902,
          0.06470542763059993,
          0.07947310516434543,
          0.09751774042250723,
          0.12327436985286565,
          0.1567429934554207,
          0.19792361123017224,
          0.2468162231771208,
          0.2453482143623796,
          0.24468057676228808,
          0.24481331037684614,
          0.2457464152060539,
          0.2474798912499114,
          0.23379432083831694,
          0.22163193319001204,
          0.21099272830499774,
          0.20187670618327277,
          0.19428386682483803,
          0.1902284466925155,
          0.1866480173407102,
          0.18354257876942207,
          0.18091213097865122,
          0.17875667396839776,
          null,
          null,
          null,
          null,
          null,
          null,
          null,
          null,
          null,
          null,
          null,
          null,
          null,
          null,
          null,
          null,
          null,
          null,
          null,
          null,
          null,
          null,
          null,
          null,
          null,
          null,
          null,
          null,
          null,
          null,
          null,
          null,
          null,
          null,
          null,
          null,
          null,
          null,
          null,
          null,
          null,
          null,
          null,
          null,
          null,
          null,
          null,
          null,
          null,
          null
         ],
         "yaxis": "y4"
        },
        {
         "line": {
          "color": "tomato",
          "width": 4
         },
         "mode": "lines",
         "name": "REMIND",
         "showlegend": false,
         "type": "scatter",
         "x": [
          1995,
          1996,
          1997,
          1998,
          1999,
          2000,
          2001,
          2002,
          2003,
          2004,
          2005,
          2006,
          2007,
          2008,
          2009,
          2010,
          2011,
          2012,
          2013,
          2014,
          2015,
          2016,
          2017,
          2018,
          2019,
          2020,
          2021,
          2022,
          2023,
          2024,
          2025,
          2026,
          2027,
          2028,
          2029,
          2030,
          2031,
          2032,
          2033,
          2034,
          2035,
          2036,
          2037,
          2038,
          2039,
          2040,
          2041,
          2042,
          2043,
          2044,
          2045,
          2046,
          2047,
          2048,
          2049,
          2050,
          2051,
          2052,
          2053,
          2054,
          2055,
          2056,
          2057,
          2058,
          2059,
          2060,
          2061,
          2062,
          2063,
          2064,
          2065,
          2066,
          2067,
          2068,
          2069,
          2070,
          2071,
          2072,
          2073,
          2074,
          2075,
          2076,
          2077,
          2078,
          2079,
          2080,
          2081,
          2082,
          2083,
          2084,
          2085,
          2086,
          2087,
          2088,
          2089,
          2090,
          2091,
          2092,
          2093,
          2094,
          2095,
          2096,
          2097,
          2098,
          2099,
          2100
         ],
         "xaxis": "x4",
         "y": [
          null,
          null,
          null,
          null,
          null,
          null,
          null,
          null,
          null,
          null,
          null,
          null,
          null,
          null,
          null,
          null,
          null,
          null,
          null,
          null,
          null,
          null,
          null,
          null,
          null,
          1.5259259259240767e-7,
          0.0021723868082304844,
          0.008678755825514433,
          0.01951925964444456,
          0.03469389826502064,
          0.05420267168724293,
          0.06688348371358042,
          0.08183477845925935,
          0.09905655592427991,
          0.11854881610864192,
          0.14031155901234563,
          0.16377101608888878,
          0.19121269842962962,
          0.22263660603456792,
          0.2580427389037038,
          0.297431097037037,
          0.2976898511868313,
          0.3117662029530864,
          0.33966015233580243,
          0.38137169933497944,
          0.4369008439506173,
          0.5144918230913579,
          0.6066900509168723,
          0.7134955274271605,
          0.8349082526222222,
          0.9709282265020575,
          1.0602913280230453,
          1.155658424421399,
          1.2570295156971196,
          1.3644046018502056,
          1.4777836828806583,
          1.5050707400230454,
          1.53358259424856,
          1.5633192455572011,
          1.5942806939489707,
          1.626466939423868,
          1.6213805221728395,
          1.6170151303374485,
          1.6133707639176957,
          1.6104474229135803,
          1.6082451073251034,
          1.6047481778543211,
          1.601402828931688,
          1.598209060557202,
          1.5951668727308645,
          1.592276265452675,
          1.5895372387226339,
          1.5869497925407412,
          1.5845139269069959,
          1.5822296418213997,
          1.580096937283951,
          1.5866983654000004,
          1.5934281602008236,
          1.6002863216864203,
          1.6072728498567905,
          1.614387744711934,
          1.621631006251852,
          1.629002634476543,
          1.6365026293860083,
          1.6441309909802468,
          1.6518877192592594,
          1.6652756299753086,
          1.6788528121316872,
          1.6926192657283952,
          1.7065749907654322,
          1.7207199872427985,
          1.7350542551604942,
          1.749577794518519,
          1.764290605316873,
          1.7791926875555557,
          1.7942840412345686,
          1.801459597880659,
          1.8089172339423867,
          1.8166569494197533,
          1.8246787443127575,
          1.832982618621399,
          1.841568572345679,
          1.8504366054855963,
          1.859586718041152,
          1.869018910012345,
          1.8787331813991763
         ],
         "yaxis": "y4"
        },
        {
         "line": {
          "color": "forestgreen",
          "width": 4
         },
         "mode": "lines",
         "name": "WITCH",
         "showlegend": false,
         "type": "scatter",
         "x": [
          1995,
          1996,
          1997,
          1998,
          1999,
          2000,
          2001,
          2002,
          2003,
          2004,
          2005,
          2006,
          2007,
          2008,
          2009,
          2010,
          2011,
          2012,
          2013,
          2014,
          2015,
          2016,
          2017,
          2018,
          2019,
          2020,
          2021,
          2022,
          2023,
          2024,
          2025,
          2026,
          2027,
          2028,
          2029,
          2030,
          2031,
          2032,
          2033,
          2034,
          2035,
          2036,
          2037,
          2038,
          2039,
          2040,
          2041,
          2042,
          2043,
          2044,
          2045,
          2046,
          2047,
          2048,
          2049,
          2050,
          2051,
          2052,
          2053,
          2054,
          2055,
          2056,
          2057,
          2058,
          2059,
          2060,
          2061,
          2062,
          2063,
          2064,
          2065,
          2066,
          2067,
          2068,
          2069,
          2070,
          2071,
          2072,
          2073,
          2074,
          2075,
          2076,
          2077,
          2078,
          2079,
          2080,
          2081,
          2082,
          2083,
          2084,
          2085,
          2086,
          2087,
          2088,
          2089,
          2090,
          2091,
          2092,
          2093,
          2094,
          2095,
          2096,
          2097,
          2098,
          2099,
          2100
         ],
         "xaxis": "x4",
         "y": [
          null,
          null,
          null,
          null,
          null,
          null,
          null,
          null,
          null,
          null,
          null,
          null,
          null,
          null,
          null,
          null,
          null,
          null,
          null,
          null,
          null,
          null,
          null,
          null,
          null,
          5.259072701473412e-30,
          0.000059643072169924636,
          0.00023857228867970104,
          0.0005367876495293232,
          0.0009542891547188018,
          0.001491076804248125,
          0.0005719649666776751,
          0.0016326428468969214,
          0.004673110444905816,
          0.009693367760704496,
          0.01669341479429279,
          0.026867223251172686,
          0.040132616594388694,
          0.05648959482394059,
          0.07593815793982843,
          0.0984783059420526,
          0.12281599628373364,
          0.14991577719652815,
          0.17977764868043553,
          0.21240161073545646,
          0.24778766336159017,
          0.2896209636312865,
          0.3347863582636061,
          0.38328384725854797,
          0.43511343061611374,
          0.49027510833630267,
          0.5230762687624727,
          0.5569880034703515,
          0.5920103124599385,
          0.6281431957312348,
          0.6653866532842402,
          0.7024563368914674,
          0.7405999478756233,
          0.7798174862367059,
          0.8201089519747172,
          0.8614743450896557,
          0.924711478958172,
          0.9910535606233153,
          1.0605005900850852,
          1.133052567343481,
          1.2087094923985031,
          1.2639183234483462,
          1.3205838016599551,
          1.3787059270333322,
          1.4382846995684748,
          1.4993201192653853,
          1.545748241774204,
          1.5933056641081613,
          1.6419923862672599,
          1.691808408251495,
          1.742753730060871,
          1.774807701354501,
          1.8073911795005684,
          1.8405041644990743,
          1.8741466563500175,
          1.9083186550533993,
          1.9175522403464271,
          1.9271701029245192,
          1.9371722427876756,
          1.9475586599358976,
          1.9583293543691846,
          1.9670700788865554,
          1.9763369881039052,
          1.9861300820212398,
          1.9964493606385512,
          2.0072948239558452,
          2.0160024415173052,
          2.025510253298068,
          2.0358182592981375,
          2.0469264595175103,
          2.0588348539561907,
          2.0599928819188364,
          2.0634162082864695,
          2.0691048330590887,
          2.077058756236696,
          2.0872779778192885,
          2.1340567860149946,
          2.181920869063763,
          2.2308702269656004,
          2.280904859720496,
          2.3320247673284555
         ],
         "yaxis": "y4"
        },
        {
         "line": {
          "color": "darkgrey",
          "width": 4
         },
         "mode": "lines",
         "name": "Euro-Calliope",
         "showlegend": false,
         "type": "scatter",
         "x": [
          1995,
          1996,
          1997,
          1998,
          1999,
          2000,
          2001,
          2002,
          2003,
          2004,
          2005,
          2006,
          2007,
          2008,
          2009,
          2010,
          2011,
          2012,
          2013,
          2014,
          2015,
          2016,
          2017,
          2018,
          2019,
          2020,
          2021,
          2022,
          2023,
          2024,
          2025,
          2026,
          2027,
          2028,
          2029,
          2030,
          2031,
          2032,
          2033,
          2034,
          2035,
          2036,
          2037,
          2038,
          2039,
          2040,
          2041,
          2042,
          2043,
          2044,
          2045,
          2046,
          2047,
          2048,
          2049,
          2050,
          2051,
          2052,
          2053,
          2054,
          2055,
          2056,
          2057,
          2058,
          2059,
          2060,
          2061,
          2062,
          2063,
          2064,
          2065,
          2066,
          2067,
          2068,
          2069,
          2070,
          2071,
          2072,
          2073,
          2074,
          2075,
          2076,
          2077,
          2078,
          2079,
          2080,
          2081,
          2082,
          2083,
          2084,
          2085,
          2086,
          2087,
          2088,
          2089,
          2090,
          2091,
          2092,
          2093,
          2094,
          2095,
          2096,
          2097,
          2098,
          2099,
          2100
         ],
         "xaxis": "x4",
         "y": [
          null,
          null,
          null,
          null,
          null,
          null,
          null,
          null,
          null,
          null,
          null,
          null,
          null,
          null,
          null,
          null,
          null,
          null,
          null,
          null,
          null,
          null,
          null,
          null,
          null,
          0,
          0.0006240373576647236,
          0.0024961494306589404,
          0.005616336218982644,
          0.009984597722635725,
          0.015600933941618265,
          0.022465344875930396,
          0.03057783052557196,
          0.039938390890542894,
          0.05054702597084329,
          0.0624037357664733,
          0.056346078026226584,
          0.05067703850224299,
          0.04539661719452261,
          0.040504814103065515,
          0.03600162922787159,
          0.03188706256894087,
          0.028161114126273395,
          0.024823783899869157,
          0.021875071889728086,
          0.019314978095850286,
          0.017143502518235692,
          0.015360645156884322,
          0.01396640601179613,
          0.012960785082971178,
          0.012343782370409447,
          0.012115397874110935,
          0.012275631594075642,
          0.012824483530303594,
          0.01376195368279471,
          0.015088042051549067,
          null,
          null,
          null,
          null,
          null,
          null,
          null,
          null,
          null,
          null,
          null,
          null,
          null,
          null,
          null,
          null,
          null,
          null,
          null,
          null,
          null,
          null,
          null,
          null,
          null,
          null,
          null,
          null,
          null,
          null,
          null,
          null,
          null,
          null,
          null,
          null,
          null,
          null,
          null,
          null,
          null,
          null,
          null,
          null,
          null,
          null,
          null,
          null,
          null,
          null
         ],
         "yaxis": "y4"
        },
        {
         "line": {
          "color": "royalblue",
          "width": 4
         },
         "mode": "lines",
         "name": "TIAM-ECN",
         "showlegend": false,
         "type": "scatter",
         "x": [
          1995,
          1996,
          1997,
          1998,
          1999,
          2000,
          2001,
          2002,
          2003,
          2004,
          2005,
          2006,
          2007,
          2008,
          2009,
          2010,
          2011,
          2012,
          2013,
          2014,
          2015,
          2016,
          2017,
          2018,
          2019,
          2020,
          2021,
          2022,
          2023,
          2024,
          2025,
          2026,
          2027,
          2028,
          2029,
          2030,
          2031,
          2032,
          2033,
          2034,
          2035,
          2036,
          2037,
          2038,
          2039,
          2040,
          2041,
          2042,
          2043,
          2044,
          2045,
          2046,
          2047,
          2048,
          2049,
          2050,
          2051,
          2052,
          2053,
          2054,
          2055,
          2056,
          2057,
          2058,
          2059,
          2060,
          2061,
          2062,
          2063,
          2064,
          2065,
          2066,
          2067,
          2068,
          2069,
          2070,
          2071,
          2072,
          2073,
          2074,
          2075,
          2076,
          2077,
          2078,
          2079,
          2080,
          2081,
          2082,
          2083,
          2084,
          2085,
          2086,
          2087,
          2088,
          2089,
          2090,
          2091,
          2092,
          2093,
          2094,
          2095,
          2096,
          2097,
          2098,
          2099,
          2100
         ],
         "xaxis": "x4",
         "y": [
          null,
          null,
          null,
          null,
          null,
          null,
          null,
          null,
          null,
          null,
          null,
          null,
          null,
          null,
          null,
          null,
          null,
          null,
          null,
          null,
          null,
          null,
          null,
          null,
          null,
          0.006095730133333337,
          0.0037570771626666464,
          0.0020217855573333473,
          0.0008898553173333285,
          0.00036128644266665913,
          0.00043607893333334047,
          0.0003229333546666747,
          0.0002397815253333414,
          0.0001866234453333263,
          0.00016345911466666553,
          0.00017028853333333365,
          0.00015599646933332667,
          0.00016171419733332834,
          0.0001874417173333363,
          0.00023317902933334207,
          0.0002989261333333291,
          0.00043218977066666783,
          0.0006508804159999739,
          0.0009549980693333515,
          0.0013445427306666626,
          0.0018195144000000022,
          0.0022080421013333427,
          0.002866124298666688,
          0.0037937609919999945,
          0.004990952181333336,
          0.006457697866666688,
          0.008483181994666704,
          0.011741329952000007,
          0.01623214173866672,
          0.021955617354666713,
          0.028911756800000077,
          0.028440659048000166,
          0.028044668512000003,
          0.027723785191999962,
          0.02747800908800002,
          0.027307340199999974,
          0.027211778527999955,
          0.027191324072000072,
          0.027245976832000005,
          0.027375736807999762,
          0.027580603999999915,
          0.02812865956533328,
          0.028832541087999947,
          0.029692248567999818,
          0.030707782005333178,
          0.03187914139999985,
          0.03320632675199995,
          0.03468933806133331,
          0.03632817532799986,
          0.03812283855199988,
          0.0400733277333332,
          0.03597709014399995,
          0.032343322442666626,
          0.029172024629333382,
          0.026463196703999936,
          0.024216838666666646,
          0.02243295051733346,
          0.021111532256000015,
          0.02025258388266676,
          0.01985610539733341,
          0.019922096800000063,
          0.020633483269333366,
          0.021369947104000062,
          0.022131488304000056,
          0.022918106869333352,
          0.023729802799999925,
          0.024566576095999965,
          0.025428426757333273,
          0.02631535478399991,
          0.027227360175999926,
          0.02816444293333323,
          0.028394595605333195,
          0.028628283114666652,
          0.028865505461333308,
          0.029106262645333225,
          0.02935055466666664,
          0.02959838152533333,
          0.02984974322133327,
          0.030104639754666557,
          0.03036307112533333,
          0.030625037333333317
         ],
         "yaxis": "y4"
        },
        {
         "line": {
          "color": "purple",
          "width": 4
         },
         "mode": "lines",
         "name": "MESSAGE",
         "showlegend": false,
         "type": "scatter",
         "x": [
          1995,
          1996,
          1997,
          1998,
          1999,
          2000,
          2001,
          2002,
          2003,
          2004,
          2005,
          2006,
          2007,
          2008,
          2009,
          2010,
          2011,
          2012,
          2013,
          2014,
          2015,
          2016,
          2017,
          2018,
          2019,
          2020,
          2021,
          2022,
          2023,
          2024,
          2025,
          2026,
          2027,
          2028,
          2029,
          2030,
          2031,
          2032,
          2033,
          2034,
          2035,
          2036,
          2037,
          2038,
          2039,
          2040,
          2041,
          2042,
          2043,
          2044,
          2045,
          2046,
          2047,
          2048,
          2049,
          2050,
          2051,
          2052,
          2053,
          2054,
          2055,
          2056,
          2057,
          2058,
          2059,
          2060,
          2061,
          2062,
          2063,
          2064,
          2065,
          2066,
          2067,
          2068,
          2069,
          2070,
          2071,
          2072,
          2073,
          2074,
          2075,
          2076,
          2077,
          2078,
          2079,
          2080,
          2081,
          2082,
          2083,
          2084,
          2085,
          2086,
          2087,
          2088,
          2089,
          2090,
          2091,
          2092,
          2093,
          2094,
          2095,
          2096,
          2097,
          2098,
          2099,
          2100
         ],
         "xaxis": "x4",
         "y": [
          null,
          null,
          null,
          null,
          null,
          null,
          null,
          null,
          null,
          null,
          null,
          null,
          null,
          null,
          null,
          null,
          null,
          null,
          null,
          null,
          null,
          null,
          null,
          null,
          null,
          4.2072581611787294e-30,
          0.00248657342981413,
          0.009946293719256531,
          0.02237916086832727,
          0.03978517487702623,
          0.06216433574535344,
          0.06731241912364373,
          0.07294503508941408,
          0.07906218364266417,
          0.08566386478339437,
          0.09275007851160431,
          0.09176744002042891,
          0.09154215327428918,
          0.09207421827318474,
          0.09336363501711618,
          0.09541040350608303,
          0.09534838553353726,
          0.09653378761902953,
          0.0989666097625606,
          0.10264685196412955,
          0.10757451422373716,
          0.11773533260081921,
          0.13095257228218812,
          0.14722623326784331,
          0.1665563155577854,
          0.18894281915201375,
          0.20054760486089274,
          0.21296173831963924,
          0.22618521952825474,
          0.2402180484867372,
          0.25506022519508814,
          0.27105301564943735,
          0.2879816920237383,
          0.3058462543179911,
          0.32464670253219546,
          0.34438303666635156,
          0.35550741867217495,
          0.36714360760017883,
          0.3792916034503622,
          0.3919514062227263,
          0.40512301591727057,
          0.41154647696680186,
          0.4184915161065505,
          0.4259581333365166,
          0.43394632865669935,
          0.4424561020670994,
          0.45148745356771647,
          0.4610403831585512,
          0.47111489083960284,
          0.48171097661087137,
          0.4928286404723579,
          0.4954136263661055,
          0.4983805386471553,
          0.5017293773155065,
          0.5054601423711594,
          0.5095728338141141,
          0.5140674516443715,
          0.5189439958619299,
          0.5242024664667904,
          0.5298428634589533,
          0.5358651868384174,
          0.5295973751133852,
          0.5237043715221799,
          0.518186176064801,
          0.5130427887412495,
          0.5082742095515242,
          0.5038804384956262,
          0.4998614755735551,
          0.49621732078531045,
          0.49294797413089286,
          0.4900534356103017,
          0.4868306786249859,
          0.48429788421204534,
          0.48245505237147995,
          0.4813021831032904,
          0.4808392764074765,
          0.4810663322840365,
          0.4819833507329734,
          0.4835903317542852,
          0.485887275347973,
          0.48887418151403567
         ],
         "yaxis": "y4"
        },
        {
         "line": {
          "color": "palegreen",
          "width": 4
         },
         "mode": "lines",
         "name": "PRIMES",
         "showlegend": false,
         "type": "scatter",
         "x": [
          1995,
          1996,
          1997,
          1998,
          1999,
          2000,
          2001,
          2002,
          2003,
          2004,
          2005,
          2006,
          2007,
          2008,
          2009,
          2010,
          2011,
          2012,
          2013,
          2014,
          2015,
          2016,
          2017,
          2018,
          2019,
          2020,
          2021,
          2022,
          2023,
          2024,
          2025,
          2026,
          2027,
          2028,
          2029,
          2030,
          2031,
          2032,
          2033,
          2034,
          2035,
          2036,
          2037,
          2038,
          2039,
          2040,
          2041,
          2042,
          2043,
          2044,
          2045,
          2046,
          2047,
          2048,
          2049,
          2050,
          2051,
          2052,
          2053,
          2054,
          2055,
          2056,
          2057,
          2058,
          2059,
          2060,
          2061,
          2062,
          2063,
          2064,
          2065,
          2066,
          2067,
          2068,
          2069,
          2070,
          2071,
          2072,
          2073,
          2074,
          2075,
          2076,
          2077,
          2078,
          2079,
          2080,
          2081,
          2082,
          2083,
          2084,
          2085,
          2086,
          2087,
          2088,
          2089,
          2090,
          2091,
          2092,
          2093,
          2094,
          2095,
          2096,
          2097,
          2098,
          2099,
          2100
         ],
         "xaxis": "x4",
         "y": [
          null,
          null,
          null,
          null,
          null,
          null,
          null,
          null,
          null,
          null,
          null,
          null,
          null,
          null,
          null,
          null,
          null,
          null,
          null,
          null,
          null,
          null,
          null,
          null,
          null,
          0.00003405046664074198,
          0.00009802461607327937,
          0.00028791135382407466,
          0.0006037106798931167,
          0.0010454225942804216,
          0.0016130470969859458,
          0.005975893088722297,
          0.01376898856540401,
          0.024992333527031032,
          0.03964592797360337,
          0.057729771905121054,
          0.05829424274831135,
          0.05981060453398407,
          0.0622788572621393,
          0.06569900093277665,
          0.0700710355458965,
          0.07039699172225337,
          0.0710544233094509,
          0.07204333030748915,
          0.07336371271636814,
          0.07501557053608789,
          0.0763397787958318,
          0.07793467555928472,
          0.0798002608264466,
          0.08193653459731746,
          0.08434349687189728,
          0.09200016406714935,
          0.10045765051678691,
          0.10971595622080997,
          0.11977508117921853,
          0.13063502539201258,
          0.13235501330426316,
          0.13455394333821957,
          0.13723181549388144,
          0.14038862977124913,
          0.1440243861703223,
          0.14302417957631827,
          0.14208906460841927,
          0.14121904126662588,
          0.1404141095509374,
          0.13967426946135442,
          0.1389855912454995,
          0.13831827934501176,
          0.13767233375989166,
          0.13704775449013887,
          0.13644454153575386,
          0.13486543854809588,
          0.13332188875980902,
          0.13181389217089276,
          0.13034144878134749,
          0.12890455859117272,
          null,
          null,
          null,
          null,
          null,
          null,
          null,
          null,
          null,
          null,
          null,
          null,
          null,
          null,
          null,
          null,
          null,
          null,
          null,
          null,
          null,
          null,
          null,
          null,
          null,
          null,
          null,
          null,
          null,
          null
         ],
         "yaxis": "y4"
        }
       ],
       "layout": {
        "annotations": [
         {
          "align": "left",
          "font": {
           "size": 14
          },
          "showarrow": false,
          "text": "LimBio",
          "x": 285,
          "y": 1.25
         },
         {
          "align": "left",
          "font": {
           "size": 14
          },
          "showarrow": false,
          "text": "LimCCS",
          "x": 285,
          "y": 1.22
         },
         {
          "align": "left",
          "font": {
           "size": 14
          },
          "showarrow": false,
          "text": "LimNuclear",
          "x": 285,
          "y": 1.19
         },
         {
          "align": "left",
          "font": {
           "size": 14
          },
          "showarrow": false,
          "text": "HighVRE",
          "x": 285,
          "y": 1.16
         },
         {
          "align": "left",
          "font": {
           "size": 14
          },
          "showarrow": false,
          "text": "HighElectrification",
          "x": 285,
          "y": 1.13
         },
         {
          "align": "left",
          "font": {
           "size": 14
          },
          "showarrow": false,
          "text": "HighH2",
          "x": 285,
          "y": 1.1
         },
         {
          "align": "left",
          "font": {
           "size": 14
          },
          "showarrow": false,
          "text": "ResidualFossil",
          "x": 285,
          "y": 1.07
         },
         {
          "align": "left",
          "font": {
           "size": 14
          },
          "showarrow": false,
          "text": "HighEff",
          "x": 285,
          "y": 1.04
         },
         {
          "align": "left",
          "font": {
           "size": 14
          },
          "showarrow": false,
          "text": "DIAG-C400-lin",
          "x": 285,
          "y": 1.01
         },
         {
          "font": {
           "size": 30
          },
          "showarrow": false,
          "text": "(a)",
          "x": 115,
          "xref": "x",
          "y": 1.28,
          "yref": "y"
         },
         {
          "font": {
           "size": 30
          },
          "showarrow": false,
          "text": "(b)",
          "x": 0.62,
          "xref": "x2",
          "y": 0.69,
          "yref": "y2"
         },
         {
          "font": {
           "size": 30
          },
          "showarrow": false,
          "text": "(c)",
          "x": 2023,
          "xref": "x3",
          "y": -2.2,
          "yref": "y3"
         },
         {
          "font": {
           "size": 30
          },
          "showarrow": false,
          "text": "(d)",
          "x": 2023,
          "xref": "x4",
          "y": 0.8,
          "yref": "y4"
         }
        ],
        "font": {
         "size": 20
        },
        "height": 1200,
        "legend": {
         "font": {
          "size": 18
         },
         "orientation": "h",
         "x": 0.04,
         "y": 1.1
        },
        "template": {
         "data": {
          "bar": [
           {
            "error_x": {
             "color": "rgb(36,36,36)"
            },
            "error_y": {
             "color": "rgb(36,36,36)"
            },
            "marker": {
             "line": {
              "color": "white",
              "width": 0.5
             },
             "pattern": {
              "fillmode": "overlay",
              "size": 10,
              "solidity": 0.2
             }
            },
            "type": "bar"
           }
          ],
          "barpolar": [
           {
            "marker": {
             "line": {
              "color": "white",
              "width": 0.5
             },
             "pattern": {
              "fillmode": "overlay",
              "size": 10,
              "solidity": 0.2
             }
            },
            "type": "barpolar"
           }
          ],
          "carpet": [
           {
            "aaxis": {
             "endlinecolor": "rgb(36,36,36)",
             "gridcolor": "white",
             "linecolor": "white",
             "minorgridcolor": "white",
             "startlinecolor": "rgb(36,36,36)"
            },
            "baxis": {
             "endlinecolor": "rgb(36,36,36)",
             "gridcolor": "white",
             "linecolor": "white",
             "minorgridcolor": "white",
             "startlinecolor": "rgb(36,36,36)"
            },
            "type": "carpet"
           }
          ],
          "choropleth": [
           {
            "colorbar": {
             "outlinewidth": 1,
             "tickcolor": "rgb(36,36,36)",
             "ticks": "outside"
            },
            "type": "choropleth"
           }
          ],
          "contour": [
           {
            "colorbar": {
             "outlinewidth": 1,
             "tickcolor": "rgb(36,36,36)",
             "ticks": "outside"
            },
            "colorscale": [
             [
              0,
              "#440154"
             ],
             [
              0.1111111111111111,
              "#482878"
             ],
             [
              0.2222222222222222,
              "#3e4989"
             ],
             [
              0.3333333333333333,
              "#31688e"
             ],
             [
              0.4444444444444444,
              "#26828e"
             ],
             [
              0.5555555555555556,
              "#1f9e89"
             ],
             [
              0.6666666666666666,
              "#35b779"
             ],
             [
              0.7777777777777778,
              "#6ece58"
             ],
             [
              0.8888888888888888,
              "#b5de2b"
             ],
             [
              1,
              "#fde725"
             ]
            ],
            "type": "contour"
           }
          ],
          "contourcarpet": [
           {
            "colorbar": {
             "outlinewidth": 1,
             "tickcolor": "rgb(36,36,36)",
             "ticks": "outside"
            },
            "type": "contourcarpet"
           }
          ],
          "heatmap": [
           {
            "colorbar": {
             "outlinewidth": 1,
             "tickcolor": "rgb(36,36,36)",
             "ticks": "outside"
            },
            "colorscale": [
             [
              0,
              "#440154"
             ],
             [
              0.1111111111111111,
              "#482878"
             ],
             [
              0.2222222222222222,
              "#3e4989"
             ],
             [
              0.3333333333333333,
              "#31688e"
             ],
             [
              0.4444444444444444,
              "#26828e"
             ],
             [
              0.5555555555555556,
              "#1f9e89"
             ],
             [
              0.6666666666666666,
              "#35b779"
             ],
             [
              0.7777777777777778,
              "#6ece58"
             ],
             [
              0.8888888888888888,
              "#b5de2b"
             ],
             [
              1,
              "#fde725"
             ]
            ],
            "type": "heatmap"
           }
          ],
          "heatmapgl": [
           {
            "colorbar": {
             "outlinewidth": 1,
             "tickcolor": "rgb(36,36,36)",
             "ticks": "outside"
            },
            "colorscale": [
             [
              0,
              "#440154"
             ],
             [
              0.1111111111111111,
              "#482878"
             ],
             [
              0.2222222222222222,
              "#3e4989"
             ],
             [
              0.3333333333333333,
              "#31688e"
             ],
             [
              0.4444444444444444,
              "#26828e"
             ],
             [
              0.5555555555555556,
              "#1f9e89"
             ],
             [
              0.6666666666666666,
              "#35b779"
             ],
             [
              0.7777777777777778,
              "#6ece58"
             ],
             [
              0.8888888888888888,
              "#b5de2b"
             ],
             [
              1,
              "#fde725"
             ]
            ],
            "type": "heatmapgl"
           }
          ],
          "histogram": [
           {
            "marker": {
             "line": {
              "color": "white",
              "width": 0.6
             }
            },
            "type": "histogram"
           }
          ],
          "histogram2d": [
           {
            "colorbar": {
             "outlinewidth": 1,
             "tickcolor": "rgb(36,36,36)",
             "ticks": "outside"
            },
            "colorscale": [
             [
              0,
              "#440154"
             ],
             [
              0.1111111111111111,
              "#482878"
             ],
             [
              0.2222222222222222,
              "#3e4989"
             ],
             [
              0.3333333333333333,
              "#31688e"
             ],
             [
              0.4444444444444444,
              "#26828e"
             ],
             [
              0.5555555555555556,
              "#1f9e89"
             ],
             [
              0.6666666666666666,
              "#35b779"
             ],
             [
              0.7777777777777778,
              "#6ece58"
             ],
             [
              0.8888888888888888,
              "#b5de2b"
             ],
             [
              1,
              "#fde725"
             ]
            ],
            "type": "histogram2d"
           }
          ],
          "histogram2dcontour": [
           {
            "colorbar": {
             "outlinewidth": 1,
             "tickcolor": "rgb(36,36,36)",
             "ticks": "outside"
            },
            "colorscale": [
             [
              0,
              "#440154"
             ],
             [
              0.1111111111111111,
              "#482878"
             ],
             [
              0.2222222222222222,
              "#3e4989"
             ],
             [
              0.3333333333333333,
              "#31688e"
             ],
             [
              0.4444444444444444,
              "#26828e"
             ],
             [
              0.5555555555555556,
              "#1f9e89"
             ],
             [
              0.6666666666666666,
              "#35b779"
             ],
             [
              0.7777777777777778,
              "#6ece58"
             ],
             [
              0.8888888888888888,
              "#b5de2b"
             ],
             [
              1,
              "#fde725"
             ]
            ],
            "type": "histogram2dcontour"
           }
          ],
          "mesh3d": [
           {
            "colorbar": {
             "outlinewidth": 1,
             "tickcolor": "rgb(36,36,36)",
             "ticks": "outside"
            },
            "type": "mesh3d"
           }
          ],
          "parcoords": [
           {
            "line": {
             "colorbar": {
              "outlinewidth": 1,
              "tickcolor": "rgb(36,36,36)",
              "ticks": "outside"
             }
            },
            "type": "parcoords"
           }
          ],
          "pie": [
           {
            "automargin": true,
            "type": "pie"
           }
          ],
          "scatter": [
           {
            "fillpattern": {
             "fillmode": "overlay",
             "size": 10,
             "solidity": 0.2
            },
            "type": "scatter"
           }
          ],
          "scatter3d": [
           {
            "line": {
             "colorbar": {
              "outlinewidth": 1,
              "tickcolor": "rgb(36,36,36)",
              "ticks": "outside"
             }
            },
            "marker": {
             "colorbar": {
              "outlinewidth": 1,
              "tickcolor": "rgb(36,36,36)",
              "ticks": "outside"
             }
            },
            "type": "scatter3d"
           }
          ],
          "scattercarpet": [
           {
            "marker": {
             "colorbar": {
              "outlinewidth": 1,
              "tickcolor": "rgb(36,36,36)",
              "ticks": "outside"
             }
            },
            "type": "scattercarpet"
           }
          ],
          "scattergeo": [
           {
            "marker": {
             "colorbar": {
              "outlinewidth": 1,
              "tickcolor": "rgb(36,36,36)",
              "ticks": "outside"
             }
            },
            "type": "scattergeo"
           }
          ],
          "scattergl": [
           {
            "marker": {
             "colorbar": {
              "outlinewidth": 1,
              "tickcolor": "rgb(36,36,36)",
              "ticks": "outside"
             }
            },
            "type": "scattergl"
           }
          ],
          "scattermapbox": [
           {
            "marker": {
             "colorbar": {
              "outlinewidth": 1,
              "tickcolor": "rgb(36,36,36)",
              "ticks": "outside"
             }
            },
            "type": "scattermapbox"
           }
          ],
          "scatterpolar": [
           {
            "marker": {
             "colorbar": {
              "outlinewidth": 1,
              "tickcolor": "rgb(36,36,36)",
              "ticks": "outside"
             }
            },
            "type": "scatterpolar"
           }
          ],
          "scatterpolargl": [
           {
            "marker": {
             "colorbar": {
              "outlinewidth": 1,
              "tickcolor": "rgb(36,36,36)",
              "ticks": "outside"
             }
            },
            "type": "scatterpolargl"
           }
          ],
          "scatterternary": [
           {
            "marker": {
             "colorbar": {
              "outlinewidth": 1,
              "tickcolor": "rgb(36,36,36)",
              "ticks": "outside"
             }
            },
            "type": "scatterternary"
           }
          ],
          "surface": [
           {
            "colorbar": {
             "outlinewidth": 1,
             "tickcolor": "rgb(36,36,36)",
             "ticks": "outside"
            },
            "colorscale": [
             [
              0,
              "#440154"
             ],
             [
              0.1111111111111111,
              "#482878"
             ],
             [
              0.2222222222222222,
              "#3e4989"
             ],
             [
              0.3333333333333333,
              "#31688e"
             ],
             [
              0.4444444444444444,
              "#26828e"
             ],
             [
              0.5555555555555556,
              "#1f9e89"
             ],
             [
              0.6666666666666666,
              "#35b779"
             ],
             [
              0.7777777777777778,
              "#6ece58"
             ],
             [
              0.8888888888888888,
              "#b5de2b"
             ],
             [
              1,
              "#fde725"
             ]
            ],
            "type": "surface"
           }
          ],
          "table": [
           {
            "cells": {
             "fill": {
              "color": "rgb(237,237,237)"
             },
             "line": {
              "color": "white"
             }
            },
            "header": {
             "fill": {
              "color": "rgb(217,217,217)"
             },
             "line": {
              "color": "white"
             }
            },
            "type": "table"
           }
          ]
         },
         "layout": {
          "annotationdefaults": {
           "arrowhead": 0,
           "arrowwidth": 1
          },
          "autotypenumbers": "strict",
          "coloraxis": {
           "colorbar": {
            "outlinewidth": 1,
            "tickcolor": "rgb(36,36,36)",
            "ticks": "outside"
           }
          },
          "colorscale": {
           "diverging": [
            [
             0,
             "rgb(103,0,31)"
            ],
            [
             0.1,
             "rgb(178,24,43)"
            ],
            [
             0.2,
             "rgb(214,96,77)"
            ],
            [
             0.3,
             "rgb(244,165,130)"
            ],
            [
             0.4,
             "rgb(253,219,199)"
            ],
            [
             0.5,
             "rgb(247,247,247)"
            ],
            [
             0.6,
             "rgb(209,229,240)"
            ],
            [
             0.7,
             "rgb(146,197,222)"
            ],
            [
             0.8,
             "rgb(67,147,195)"
            ],
            [
             0.9,
             "rgb(33,102,172)"
            ],
            [
             1,
             "rgb(5,48,97)"
            ]
           ],
           "sequential": [
            [
             0,
             "#440154"
            ],
            [
             0.1111111111111111,
             "#482878"
            ],
            [
             0.2222222222222222,
             "#3e4989"
            ],
            [
             0.3333333333333333,
             "#31688e"
            ],
            [
             0.4444444444444444,
             "#26828e"
            ],
            [
             0.5555555555555556,
             "#1f9e89"
            ],
            [
             0.6666666666666666,
             "#35b779"
            ],
            [
             0.7777777777777778,
             "#6ece58"
            ],
            [
             0.8888888888888888,
             "#b5de2b"
            ],
            [
             1,
             "#fde725"
            ]
           ],
           "sequentialminus": [
            [
             0,
             "#440154"
            ],
            [
             0.1111111111111111,
             "#482878"
            ],
            [
             0.2222222222222222,
             "#3e4989"
            ],
            [
             0.3333333333333333,
             "#31688e"
            ],
            [
             0.4444444444444444,
             "#26828e"
            ],
            [
             0.5555555555555556,
             "#1f9e89"
            ],
            [
             0.6666666666666666,
             "#35b779"
            ],
            [
             0.7777777777777778,
             "#6ece58"
            ],
            [
             0.8888888888888888,
             "#b5de2b"
            ],
            [
             1,
             "#fde725"
            ]
           ]
          },
          "colorway": [
           "#1F77B4",
           "#FF7F0E",
           "#2CA02C",
           "#D62728",
           "#9467BD",
           "#8C564B",
           "#E377C2",
           "#7F7F7F",
           "#BCBD22",
           "#17BECF"
          ],
          "font": {
           "color": "rgb(36,36,36)"
          },
          "geo": {
           "bgcolor": "white",
           "lakecolor": "white",
           "landcolor": "white",
           "showlakes": true,
           "showland": true,
           "subunitcolor": "white"
          },
          "hoverlabel": {
           "align": "left"
          },
          "hovermode": "closest",
          "mapbox": {
           "style": "light"
          },
          "paper_bgcolor": "white",
          "plot_bgcolor": "white",
          "polar": {
           "angularaxis": {
            "gridcolor": "rgb(232,232,232)",
            "linecolor": "rgb(36,36,36)",
            "showgrid": false,
            "showline": true,
            "ticks": "outside"
           },
           "bgcolor": "white",
           "radialaxis": {
            "gridcolor": "rgb(232,232,232)",
            "linecolor": "rgb(36,36,36)",
            "showgrid": false,
            "showline": true,
            "ticks": "outside"
           }
          },
          "scene": {
           "xaxis": {
            "backgroundcolor": "white",
            "gridcolor": "rgb(232,232,232)",
            "gridwidth": 2,
            "linecolor": "rgb(36,36,36)",
            "showbackground": true,
            "showgrid": false,
            "showline": true,
            "ticks": "outside",
            "zeroline": false,
            "zerolinecolor": "rgb(36,36,36)"
           },
           "yaxis": {
            "backgroundcolor": "white",
            "gridcolor": "rgb(232,232,232)",
            "gridwidth": 2,
            "linecolor": "rgb(36,36,36)",
            "showbackground": true,
            "showgrid": false,
            "showline": true,
            "ticks": "outside",
            "zeroline": false,
            "zerolinecolor": "rgb(36,36,36)"
           },
           "zaxis": {
            "backgroundcolor": "white",
            "gridcolor": "rgb(232,232,232)",
            "gridwidth": 2,
            "linecolor": "rgb(36,36,36)",
            "showbackground": true,
            "showgrid": false,
            "showline": true,
            "ticks": "outside",
            "zeroline": false,
            "zerolinecolor": "rgb(36,36,36)"
           }
          },
          "shapedefaults": {
           "fillcolor": "black",
           "line": {
            "width": 0
           },
           "opacity": 0.3
          },
          "ternary": {
           "aaxis": {
            "gridcolor": "rgb(232,232,232)",
            "linecolor": "rgb(36,36,36)",
            "showgrid": false,
            "showline": true,
            "ticks": "outside"
           },
           "baxis": {
            "gridcolor": "rgb(232,232,232)",
            "linecolor": "rgb(36,36,36)",
            "showgrid": false,
            "showline": true,
            "ticks": "outside"
           },
           "bgcolor": "white",
           "caxis": {
            "gridcolor": "rgb(232,232,232)",
            "linecolor": "rgb(36,36,36)",
            "showgrid": false,
            "showline": true,
            "ticks": "outside"
           }
          },
          "title": {
           "x": 0.05
          },
          "xaxis": {
           "automargin": true,
           "gridcolor": "rgb(232,232,232)",
           "linecolor": "rgb(36,36,36)",
           "showgrid": false,
           "showline": true,
           "ticks": "outside",
           "title": {
            "standoff": 15
           },
           "zeroline": false,
           "zerolinecolor": "rgb(36,36,36)"
          },
          "yaxis": {
           "automargin": true,
           "gridcolor": "rgb(232,232,232)",
           "linecolor": "rgb(36,36,36)",
           "showgrid": false,
           "showline": true,
           "ticks": "outside",
           "title": {
            "standoff": 15
           },
           "zeroline": false,
           "zerolinecolor": "rgb(36,36,36)"
          }
         }
        },
        "width": 1800,
        "xaxis": {
         "anchor": "y",
         "domain": [
          0,
          0.45
         ],
         "range": [
          110,
          250
         ],
         "title": {
          "font": {
           "size": 30
          },
          "text": "Mitigation speed potential (R<sub>3</sub>)"
         }
        },
        "xaxis2": {
         "anchor": "y2",
         "domain": [
          0.55,
          1
         ],
         "range": [
          0.6,
          1.2
         ],
         "title": {
          "font": {
           "size": 30
          },
          "text": "Carbon Intensity Reduction (M<sub>1</sub>)"
         }
        },
        "xaxis3": {
         "anchor": "y3",
         "domain": [
          0,
          0.45
         ],
         "range": [
          2020,
          2100
         ],
         "title": {
          "font": {
           "size": 30
          },
          "text": "Time (years)"
         }
        },
        "xaxis4": {
         "anchor": "y4",
         "domain": [
          0.55,
          1
         ],
         "range": [
          2020,
          2100
         ],
         "title": {
          "font": {
           "size": 30
          },
          "text": "Time (years)"
         }
        },
        "yaxis": {
         "anchor": "x",
         "domain": [
          0.3833333333333333,
          0.9999999999999999
         ],
         "range": [
          0.6,
          1.3
         ],
         "title": {
          "font": {
           "size": 30
          },
          "text": "Relative Abatement Index (R<sub>1</sub>)"
         }
        },
        "yaxis2": {
         "anchor": "x2",
         "domain": [
          0.3833333333333333,
          0.9999999999999999
         ],
         "range": [
          0.32,
          0.7
         ],
         "title": {
          "font": {
           "size": 30
          },
          "text": "Energy Intensity Reduction (M<sub>2</sub>)"
         }
        },
        "yaxis3": {
         "anchor": "x3",
         "domain": [
          0,
          0.2333333333333333
         ],
         "range": [
          -6,
          -2
         ],
         "title": {
          "font": {
           "size": 25
          },
          "text": "Sensitivity<br>primary energy (R<sub>4</sub>)"
         },
         "type": "log"
        },
        "yaxis4": {
         "anchor": "x4",
         "domain": [
          0,
          0.2333333333333333
         ],
         "range": [
          -4,
          1
         ],
         "title": {
          "font": {
           "size": 25
          },
          "text": "Sensitivity<br>demand (R<sub>5</sub>)"
         },
         "type": "log"
        }
       }
      }
     },
     "metadata": {},
     "output_type": "display_data"
    }
   ],
   "source": [
    "fig = make_subplots(\n",
    "    rows=3, cols=2,\n",
    "    horizontal_spacing = 0.10,\n",
    "    vertical_spacing=0.15,\n",
    "    specs = [[{\"rowspan\": 2}, {\"rowspan\": 2}],\n",
    "             [None, None],\n",
    "             [{}, {}],\n",
    "            ],\n",
    "    subplot_titles = (\"\", \"\", \"\", \"\"),\n",
    ")\n",
    "\n",
    "for col_i, col in enumerate([1, 2]):\n",
    "        var_x = [ind_xr.sel(Indicator=\"S3_speedmax\", Time=2050).Value, ind_xr.sel(Indicator=\"M1_cir\", Time=2050).Value][col_i]\n",
    "        var_y = [ind_xr.sel(Indicator=\"S1_rai\", Time=2050).Value, ind_xr.sel(Indicator=\"M2_eir\", Time=2050).Value][col_i]\n",
    "\n",
    "        # SHADED AREAS IN THE BACKGROUND\n",
    "        ar_x = np.array(var_x)\n",
    "        ar_y = np.array(var_y)\n",
    "        ar_x = ar_x[ar_x != 0]\n",
    "        ar_y = ar_y[ar_y != 0]\n",
    "        m_y = np.nanmedian(ar_y)\n",
    "        m_y1 = np.nanmedian(ar_y)+np.nanstd(ar_y)\n",
    "        m_y1b = np.nanmedian(ar_y)+2*np.nanstd(ar_y)\n",
    "        m_y0 = np.nanmedian(ar_y)-np.nanstd(ar_y)\n",
    "        m_y0b = np.nanmedian(ar_y)-2*np.nanstd(ar_y)\n",
    "        m_x = np.nanmedian(ar_x)\n",
    "        m_x1 = np.nanmedian(ar_x)+np.nanstd(ar_x)\n",
    "        m_x1b = np.nanmedian(ar_x)+2*np.nanstd(ar_x)\n",
    "        m_x0 = np.nanmedian(ar_x)-np.nanstd(ar_x)\n",
    "        m_x0b = np.nanmedian(ar_x)-2*np.nanstd(ar_x)\n",
    "        mn_x = [113, 0.615][col_i]\n",
    "        mn_y = [0.61, 0.325][col_i]\n",
    "\n",
    "        fig.add_trace(go.Scatter(x=[0, mn_x, 1e3], y=[m_y]*3, text='\\u03B7', textfont={\"size\": font_symbol}, mode='text+lines', showlegend=False, line={'dash':'dash'}, marker = {\"symbol\": \"square\", \"color\": 'silver', \"size\": 35, \"line\": {\"color\": \"black\", \"width\": 0}}), 1, col)\n",
    "        fig.add_trace(go.Scatter(x=[0, mn_x, 1e3], y=[m_y1]*3, text='+\\u03C3', textfont={\"size\": font_symbol}, mode='text', showlegend=False, marker = {\"symbol\": \"square\", \"color\": 'silver', \"size\": 35, \"line\": {\"color\": \"black\", \"width\": 0}}), 1, col)\n",
    "        fig.add_trace(go.Scatter(x=[0, mn_x, 1e3], y=[m_y0]*3, text='-\\u03C3', textfont={\"size\": font_symbol}, mode='text', showlegend=False, marker = {\"symbol\": \"square\", \"color\": 'silver', \"size\": 35, \"line\": {\"color\": \"black\", \"width\": 0}}), 1, col)\n",
    "        fig.add_trace(go.Scatter(x=[0, mn_x, 1e3], y=[m_y1b]*3, text='+2\\u03C3', textfont={\"size\": font_symbol}, mode='text', showlegend=False, marker = {\"symbol\": \"square\", \"color\": 'silver', \"size\": 35, \"line\": {\"color\": \"black\", \"width\": 0}}), 1, col)\n",
    "        fig.add_trace(go.Scatter(x=[0, mn_x, 1e3], y=[m_y0b]*3, text='-2\\u03C3', textfont={\"size\": font_symbol}, mode='text', showlegend=False, marker = {\"symbol\": \"square\", \"color\": 'silver', \"size\": 35, \"line\": {\"color\": \"black\", \"width\": 0}}), 1, col)\n",
    "        fig.add_trace(go.Scatter(x=[-1e3, 1e3, 1e3, -1e3], y=[m_y0, m_y0, m_y1, m_y1], fillcolor='silver', line={'color':'silver'}, showlegend=False, fill='toself', opacity=0.25), 1, col)\n",
    "        fig.add_trace(go.Scatter(x=[-1e3, 1e3, 1e3, -1e3], y=[m_y0b, m_y0b, m_y1b, m_y1b], showlegend=False, fillcolor='silver', line={'color':'silver'}, fill='toself', opacity=0.1), 1, col)\n",
    "\n",
    "        fig.add_trace(go.Scatter(x=[m_x]*3, y=[-1e3, mn_y, 1e3], text='\\u03B7', textfont={\"size\": font_symbol}, mode='text+lines', showlegend=False, line={'dash':'dash'}, marker = {\"symbol\": \"square\", \"color\": 'silver', \"size\": 35, \"line\": {\"color\": \"black\", \"width\": 0}}), 1, col)\n",
    "        fig.add_trace(go.Scatter(x=[m_x1]*3, y=[-1e3, mn_y, 1e3], text='+\\u03C3', textfont={\"size\": font_symbol}, mode='text', showlegend=False, line={'dash':'dash'}, marker = {\"symbol\": \"square\", \"color\": 'silver', \"size\": 35, \"line\": {\"color\": \"black\", \"width\": 0}}), 1, col)\n",
    "        fig.add_trace(go.Scatter(x=[m_x0]*3, y=[-1e3, mn_y, 1e3], text='-\\u03C3', textfont={\"size\": font_symbol}, mode='text', showlegend=False, line={'dash':'dash'}, marker = {\"symbol\": \"square\", \"color\": 'silver', \"size\": 35, \"line\": {\"color\": \"black\", \"width\": 0}}), 1, col)\n",
    "        fig.add_trace(go.Scatter(x=[m_x1b]*3, y=[-1e3, mn_y, 1e3], text='+2\\u03C3', textfont={\"size\": font_symbol}, mode='text', showlegend=False, line={'dash':'dash'}, marker = {\"symbol\": \"square\", \"color\": 'silver', \"size\": 35, \"line\": {\"color\": \"black\", \"width\": 0}}), 1, col)\n",
    "        fig.add_trace(go.Scatter(x=[m_x0b]*3, y=[-1e3, mn_y, 1e3], text='-2\\u03C3', textfont={\"size\": font_symbol}, mode='text', showlegend=False, line={'dash':'dash'}, marker = {\"symbol\": \"square\", \"color\": 'silver', \"size\": 35, \"line\": {\"color\": \"black\", \"width\": 0}}), 1, col)\n",
    "        fig.add_trace(go.Scatter(x=[m_x0, m_x0, m_x1, m_x1], y=[-1e3, 1e3, 1e3, -1e3], fillcolor='silver', line={'color':'silver'}, showlegend=False, fill='toself', opacity=0.25), 1, col)\n",
    "        fig.add_trace(go.Scatter(x=[m_x0b, m_x0b, m_x1b, m_x1b], y=[-1e3, 1e3, 1e3, -1e3], showlegend=False, fillcolor='silver', line={'color':'silver'}, fill='toself', opacity=0.1), 1, col)\n",
    "\n",
    "        # ACTUAL DATA\n",
    "        for m_i, m in enumerate(list_of_models):\n",
    "                for s_i, s in enumerate(settings['scenarios_c400'][1:]):\n",
    "                        fig.add_trace(go.Scatter(x=[var_x.sel(Scenario=\"DIAG-C400-lin\", Model=m), var_x.sel(Scenario=s, Model=m)],\n",
    "                                                y=[var_y.sel(Scenario=\"DIAG-C400-lin\", Model=m), var_y.sel(Scenario=s, Model=m)], name=m,\n",
    "                                                mode='lines+markers',\n",
    "                                                showlegend=False,\n",
    "                                                line={'width': 3, 'dash': 'solid'},\n",
    "                                                text=[\"\", names[s_i]],\n",
    "                                                textfont = dict(color='black',\n",
    "                                                                size=15),\n",
    "                                                marker={\"color\": list_of_colors[m_i],\n",
    "                                                        \"size\": [12, 30],\n",
    "                                                        \"line\": {\"color\": \"black\", \"width\": 0.5}}\n",
    "                                                ), 1, col)\n",
    "\n",
    "        for m_i, m in enumerate(list_of_models):\n",
    "                for s_i, s in enumerate(settings['scenarios_c400'][1:]):\n",
    "                        fig.add_trace(go.Scatter(x=[var_x.sel(Scenario=\"DIAG-C400-lin\", Model=m), var_x.sel(Scenario=s, Model=m)],\n",
    "                                                y=[var_y.sel(Scenario=\"DIAG-C400-lin\", Model=m), var_y.sel(Scenario=s, Model=m)], name=m,\n",
    "                                                mode='text+markers',\n",
    "                                                showlegend=False,\n",
    "                                                text=[\"\", names[s_i]],\n",
    "                                                textfont = dict(color='black',\n",
    "                                                                size=font_annot),\n",
    "                                                marker={\"color\": list_of_colors[m_i],\n",
    "                                                        \"size\": [12, 30],\n",
    "                                                        \"line\": {\"color\": \"black\", \"width\": 0.5}}\n",
    "                                                ), 1, col)\n",
    "\n",
    "        # Dummy for legend\n",
    "        for m_i, m in enumerate(list_of_models):\n",
    "                fig.add_trace(go.Scatter(x=[-1e3],\n",
    "                                        y=[1e3],\n",
    "                                        mode='markers+text',\n",
    "                                        showlegend=[True, False][col_i], line_width=4,\n",
    "                                        name=list_of_model_shortnames[m_i],\n",
    "                                        #text=\"<b>\"+m[0]+\"</b>\",\n",
    "                                        hovertemplate='<b>DIAG-C400-lin</b> <br>'+\"ERT\"+': %{y:.2f} <br>'+\"Carbon capture\"+': %{x:.2f}',\n",
    "                                        marker={\"color\": list_of_colors[m_i],\n",
    "                                                \"size\": 30,\n",
    "                                                \"symbol\": \"square\",\n",
    "                                                \"line\": {\"color\": \"black\", \"width\": 4}}\n",
    "                                        ), 1, col)\n",
    "\n",
    "        for m_i, m in enumerate(list_of_models):\n",
    "                fig.add_trace(go.Scatter(x=[var_x.sel(Scenario=\"DIAG-C400-lin\", Model=m)],\n",
    "                                        y=[var_y.sel(Scenario=\"DIAG-C400-lin\", Model=m)],\n",
    "                                        mode='markers',\n",
    "                                        showlegend=False, line_width=4,\n",
    "                                        name=list_of_model_shortnames[m_i],\n",
    "                                        #text=\"<b>\"+m[0]+\"</b>\",\n",
    "                                        text=\"<b>\"+\"-\"+\"</b>\",\n",
    "                                        hovertemplate='<b>DIAG-C400-lin</b> <br>'+\"ERT\"+': %{y:.2f} <br>'+\"Carbon capture\"+': %{x:.2f}',\n",
    "                                        marker={\"color\": \"black\", #ModelCols_touse[m_i],\n",
    "                                                \"size\": 12,\n",
    "                                                \"symbol\": \"circle\",\n",
    "                                                \"line\": {\"color\": \"black\", \"width\": 4}}\n",
    "                                        ), 1, col)\n",
    "\n",
    "        fig.update_xaxes(row=1, col=col, title=[\"Mitigation speed potential (R<sub>3</sub>)\", 'Carbon Intensity Reduction (M<sub>1</sub>)'][col_i], title_font_size=font_axes, range=[[110, 250], [0.60, 1.2]][col_i])\n",
    "        fig.update_yaxes(row=1, col=col, title=[\"Relative Abatement Index (R<sub>1</sub>)\", 'Energy Intensity Reduction (M<sub>2</sub>)'][col_i], title_font_size=font_axes, range=[[0.60, 1.3], [0.32, 0.70]][col_i])\n",
    "\n",
    "\n",
    "for s_i, s in enumerate(settings['scenarios_c400'][1:]+['DIAG-C400-lin']):\n",
    "        fig.add_trace(go.Scatter(x=[260],\n",
    "                                y=[1.25-s_i*0.03], name=m,\n",
    "                                mode='text+markers',\n",
    "                                showlegend=False,\n",
    "                                text=[names[s_i]],\n",
    "                                textfont = dict(color='black',\n",
    "                                                size=font_annot-10),\n",
    "                                marker={\"color\": 'white',\n",
    "                                        \"size\": 25,\n",
    "                                        \"line\": {\"color\": \"black\", \"width\": 0.5}}\n",
    "                                ), 1, 1)\n",
    "        strin = s[14:]\n",
    "        if s == \"DIAG-C400-lin\": strin = \"DIAG-C400-lin\"\n",
    "        fig.add_annotation(x=260+25, y=1.25-s_i*0.03, text=strin, showarrow=False, align='left', font=dict(size=14))\n",
    "\n",
    "\n",
    "for m_i, m in enumerate(list_of_models):\n",
    "        fig.add_trace(go.Scatter(x=ind_xr.Time,\n",
    "                                y=ind_xr.sel(Indicator = \"S4_sensprim\", Model=m, Scenario='DIAG-C400-lin').Value,\n",
    "                                mode='lines',\n",
    "                                showlegend=False, line_width=4,\n",
    "                                name=list_of_model_shortnames[m_i],\n",
    "                                line = {'color': list_of_colors[m_i]}\n",
    "                                ), 3, 1)\n",
    "fig.update_xaxes(row=3, col=1, title=\"Time (years)\", title_font_size=font_axes, range=[2020, 2100])\n",
    "fig.update_yaxes(row=3, col=1, type=\"log\", title=\"Sensitivity<br>primary energy (R<sub>4</sub>)\", title_font_size=font_axes-5, range=[-6, -2])\n",
    "\n",
    "for m_i, m in enumerate(list_of_models):\n",
    "        fig.add_trace(go.Scatter(x=ind_xr.Time,\n",
    "                                y=ind_xr.sel(Indicator = \"S5_sensdem\", Model=m, Scenario='DIAG-C400-lin').Value,\n",
    "                                mode='lines',\n",
    "                                showlegend=False, line_width=4,\n",
    "                                name=list_of_model_shortnames[m_i],\n",
    "                                line = {'color': list_of_colors[m_i]}\n",
    "                                ), 3, 2)\n",
    "fig.update_xaxes(row=3, col=2, title=\"Time (years)\", title_font_size=font_axes, range=[2020, 2100])\n",
    "fig.update_yaxes(row=3, col=2, type=\"log\", title=\"Sensitivity<br>demand (R<sub>5</sub>)\", title_font_size=font_axes-5, range=[-4, 1])\n",
    "\n",
    "# Panel annotations\n",
    "fig.add_annotation(x=115, y=1.28, text=\"(a)\", showarrow=False, font=dict(size=30), row=1, col=1)\n",
    "fig.add_annotation(x=0.62, y=0.69, text=\"(b)\", showarrow=False, font=dict(size=30), row=1, col=2)\n",
    "fig.add_annotation(x=2023, y=-2.2, text=\"(c)\", showarrow=False, font=dict(size=30), row=3, col=1)\n",
    "fig.add_annotation(x=2023, y=0.8, text=\"(d)\", showarrow=False, font=dict(size=30), row=3, col=2)\n",
    "\n",
    "#fig.update_annotations(font_size=font_annot)\n",
    "fig.update_layout(font_size = 20)\n",
    "fig.update_layout(legend=dict(x=0.04, y=1.1, orientation=\"h\", font_size=18))\n",
    "fig.update_layout(height=1200, width=1800)\n",
    "fig.update_layout(template=\"simple_white\")\n",
    "fig.show()\n",
    "fig.write_image(settings['paths']['figures'] + \"Figure_2.png\", scale=4)"
   ]
  }
 ],
 "metadata": {
  "kernelspec": {
   "display_name": "MyEnv",
   "language": "python",
   "name": "python3"
  },
  "language_info": {
   "codemirror_mode": {
    "name": "ipython",
    "version": 3
   },
   "file_extension": ".py",
   "mimetype": "text/x-python",
   "name": "python",
   "nbconvert_exporter": "python",
   "pygments_lexer": "ipython3",
   "version": "3.9.16"
  },
  "orig_nbformat": 4,
  "vscode": {
   "interpreter": {
    "hash": "36d5d389870ab01fa625d0d5123f82469a3683fa0e02c4f7e9e76e9a75345aa3"
   }
  }
 },
 "nbformat": 4,
 "nbformat_minor": 2
}
