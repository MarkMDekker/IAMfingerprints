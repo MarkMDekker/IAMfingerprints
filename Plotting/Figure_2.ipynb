{
 "cells": [
  {
   "attachments": {},
   "cell_type": "markdown",
   "metadata": {},
   "source": [
    "## Preambule"
   ]
  },
  {
   "cell_type": "code",
   "execution_count": 26,
   "metadata": {},
   "outputs": [],
   "source": [
    "import numpy as np\n",
    "import pandas as pd\n",
    "import matplotlib.pyplot as plt\n",
    "import matplotlib.patches as pth\n",
    "import xarray as xr\n",
    "from plotly.subplots import make_subplots\n",
    "from tqdm import tqdm\n",
    "import plotly.graph_objects as go\n",
    "from pathlib import Path\n",
    "import yaml"
   ]
  },
  {
   "attachments": {},
   "cell_type": "markdown",
   "metadata": {},
   "source": [
    "## Read"
   ]
  },
  {
   "cell_type": "code",
   "execution_count": 27,
   "metadata": {},
   "outputs": [],
   "source": [
    "with open(\"../Configuration/config.yaml\", \"r\") as stream:\n",
    "    settings = yaml.load(stream, Loader=yaml.Loader)\n",
    "integers_touse = [0, 1, 3, 4, 5, 7, 8, 9]\n",
    "list_of_models = np.array([settings['models'][m]['full_name'] for m in settings['models'].keys()])[integers_touse]\n",
    "list_of_model_shortnames = np.array([settings['models'][m]['short_name'] for m in settings['models'].keys()])[integers_touse]\n",
    "list_of_colors = np.array([settings['models'][m]['color'] for m in settings['models'].keys()])[integers_touse]\n",
    "ind_xr = xr.open_dataset(settings['paths']['data']+\"XRindicators.nc\").sel(Model=list_of_models, Region='Europe')\n",
    "data_xr = xr.open_dataset(settings['paths']['data']+\"XRdata.nc\").sel(Model=list_of_models, Region='Europe')"
   ]
  },
  {
   "attachments": {},
   "cell_type": "markdown",
   "metadata": {},
   "source": [
    "## Check coverage"
   ]
  },
  {
   "cell_type": "code",
   "execution_count": 28,
   "metadata": {},
   "outputs": [
    {
     "name": "stdout",
     "output_type": "stream",
     "text": [
      "Fraction model-scenario coverage: 0.925\n"
     ]
    }
   ],
   "source": [
    "ar = np.array(data_xr.sel(Variable=\"Emissions|CO2\", Time=2050, Scenario=settings['scenarios_c400']+['DIAG-NPI']).Value).flatten()\n",
    "print(\"Fraction model-scenario coverage:\", len(np.where(~np.isnan(ar))[0])/len(ar))"
   ]
  },
  {
   "attachments": {},
   "cell_type": "markdown",
   "metadata": {},
   "source": [
    "## Now specify to only the c400 scenarios"
   ]
  },
  {
   "cell_type": "code",
   "execution_count": 29,
   "metadata": {},
   "outputs": [],
   "source": [
    "ind_xr = xr.open_dataset(settings['paths']['data']+\"XRindicators.nc\").sel(Scenario=settings['scenarios_c400'], Model=list_of_models, Region='Europe')\n",
    "data_xr = xr.open_dataset(settings['paths']['data']+\"XRdata.nc\").sel(Scenario=settings['scenarios_c400'], Model=list_of_models, Region='Europe')"
   ]
  },
  {
   "attachments": {},
   "cell_type": "markdown",
   "metadata": {},
   "source": [
    "## Plot"
   ]
  },
  {
   "cell_type": "code",
   "execution_count": 30,
   "metadata": {},
   "outputs": [],
   "source": [
    "font_symbol = 18\n",
    "font_axes = 30\n",
    "font_annot = 25\n",
    "names = ['B', 'C', 'N', 'V', 'El', 'H', 'F', 'Ef', '-']"
   ]
  },
  {
   "cell_type": "code",
   "execution_count": 40,
   "metadata": {},
   "outputs": [
    {
     "data": {
      "application/vnd.plotly.v1+json": {
       "config": {
        "plotlyServerURL": "https://plotly.com"
       },
       "data": [
        {
         "line": {
          "dash": "dash"
         },
         "marker": {
          "color": "silver",
          "line": {
           "color": "black",
           "width": 0
          },
          "size": 35,
          "symbol": "square"
         },
         "mode": "text+lines",
         "showlegend": false,
         "text": "η",
         "textfont": {
          "size": 18
         },
         "type": "scatter",
         "x": [
          0,
          105,
          1000
         ],
         "xaxis": "x",
         "y": [
          0.9299800733462938,
          0.9299800733462938,
          0.9299800733462938
         ],
         "yaxis": "y"
        },
        {
         "marker": {
          "color": "silver",
          "line": {
           "color": "black",
           "width": 0
          },
          "size": 35,
          "symbol": "square"
         },
         "mode": "text",
         "showlegend": false,
         "text": "+σ",
         "textfont": {
          "size": 18
         },
         "type": "scatter",
         "x": [
          0,
          105,
          1000
         ],
         "xaxis": "x",
         "y": [
          1.07109710627386,
          1.07109710627386,
          1.07109710627386
         ],
         "yaxis": "y"
        },
        {
         "marker": {
          "color": "silver",
          "line": {
           "color": "black",
           "width": 0
          },
          "size": 35,
          "symbol": "square"
         },
         "mode": "text",
         "showlegend": false,
         "text": "-σ",
         "textfont": {
          "size": 18
         },
         "type": "scatter",
         "x": [
          0,
          105,
          1000
         ],
         "xaxis": "x",
         "y": [
          0.7888630404187279,
          0.7888630404187279,
          0.7888630404187279
         ],
         "yaxis": "y"
        },
        {
         "marker": {
          "color": "silver",
          "line": {
           "color": "black",
           "width": 0
          },
          "size": 35,
          "symbol": "square"
         },
         "mode": "text",
         "showlegend": false,
         "text": "+2σ",
         "textfont": {
          "size": 18
         },
         "type": "scatter",
         "x": [
          0,
          105,
          1000
         ],
         "xaxis": "x",
         "y": [
          1.2122141392014258,
          1.2122141392014258,
          1.2122141392014258
         ],
         "yaxis": "y"
        },
        {
         "marker": {
          "color": "silver",
          "line": {
           "color": "black",
           "width": 0
          },
          "size": 35,
          "symbol": "square"
         },
         "mode": "text",
         "showlegend": false,
         "text": "-2σ",
         "textfont": {
          "size": 18
         },
         "type": "scatter",
         "x": [
          0,
          105,
          1000
         ],
         "xaxis": "x",
         "y": [
          0.6477460074911618,
          0.6477460074911618,
          0.6477460074911618
         ],
         "yaxis": "y"
        },
        {
         "fill": "toself",
         "fillcolor": "silver",
         "line": {
          "color": "silver"
         },
         "opacity": 0.25,
         "showlegend": false,
         "type": "scatter",
         "x": [
          -1000,
          1000,
          1000,
          -1000
         ],
         "xaxis": "x",
         "y": [
          0.7888630404187279,
          0.7888630404187279,
          1.07109710627386,
          1.07109710627386
         ],
         "yaxis": "y"
        },
        {
         "fill": "toself",
         "fillcolor": "silver",
         "line": {
          "color": "silver"
         },
         "opacity": 0.1,
         "showlegend": false,
         "type": "scatter",
         "x": [
          -1000,
          1000,
          1000,
          -1000
         ],
         "xaxis": "x",
         "y": [
          0.6477460074911618,
          0.6477460074911618,
          1.2122141392014258,
          1.2122141392014258
         ],
         "yaxis": "y"
        },
        {
         "line": {
          "dash": "dash"
         },
         "marker": {
          "color": "silver",
          "line": {
           "color": "black",
           "width": 0
          },
          "size": 35,
          "symbol": "square"
         },
         "mode": "text+lines",
         "showlegend": false,
         "text": "η",
         "textfont": {
          "size": 18
         },
         "type": "scatter",
         "x": [
          175.07661434467695,
          175.07661434467695,
          175.07661434467695
         ],
         "xaxis": "x",
         "y": [
          -1000,
          0.61,
          1000
         ],
         "yaxis": "y"
        },
        {
         "line": {
          "dash": "dash"
         },
         "marker": {
          "color": "silver",
          "line": {
           "color": "black",
           "width": 0
          },
          "size": 35,
          "symbol": "square"
         },
         "mode": "text",
         "showlegend": false,
         "text": "+σ",
         "textfont": {
          "size": 18
         },
         "type": "scatter",
         "x": [
          199.57003742780188,
          199.57003742780188,
          199.57003742780188
         ],
         "xaxis": "x",
         "y": [
          -1000,
          0.61,
          1000
         ],
         "yaxis": "y"
        },
        {
         "line": {
          "dash": "dash"
         },
         "marker": {
          "color": "silver",
          "line": {
           "color": "black",
           "width": 0
          },
          "size": 35,
          "symbol": "square"
         },
         "mode": "text",
         "showlegend": false,
         "text": "-σ",
         "textfont": {
          "size": 18
         },
         "type": "scatter",
         "x": [
          150.58319126155203,
          150.58319126155203,
          150.58319126155203
         ],
         "xaxis": "x",
         "y": [
          -1000,
          0.61,
          1000
         ],
         "yaxis": "y"
        },
        {
         "line": {
          "dash": "dash"
         },
         "marker": {
          "color": "silver",
          "line": {
           "color": "black",
           "width": 0
          },
          "size": 35,
          "symbol": "square"
         },
         "mode": "text",
         "showlegend": false,
         "text": "+2σ",
         "textfont": {
          "size": 18
         },
         "type": "scatter",
         "x": [
          224.0634605109268,
          224.0634605109268,
          224.0634605109268
         ],
         "xaxis": "x",
         "y": [
          -1000,
          0.61,
          1000
         ],
         "yaxis": "y"
        },
        {
         "line": {
          "dash": "dash"
         },
         "marker": {
          "color": "silver",
          "line": {
           "color": "black",
           "width": 0
          },
          "size": 35,
          "symbol": "square"
         },
         "mode": "text",
         "showlegend": false,
         "text": "-2σ",
         "textfont": {
          "size": 18
         },
         "type": "scatter",
         "x": [
          126.08976817842711,
          126.08976817842711,
          126.08976817842711
         ],
         "xaxis": "x",
         "y": [
          -1000,
          0.61,
          1000
         ],
         "yaxis": "y"
        },
        {
         "fill": "toself",
         "fillcolor": "silver",
         "line": {
          "color": "silver"
         },
         "opacity": 0.25,
         "showlegend": false,
         "type": "scatter",
         "x": [
          150.58319126155203,
          150.58319126155203,
          199.57003742780188,
          199.57003742780188
         ],
         "xaxis": "x",
         "y": [
          -1000,
          1000,
          1000,
          -1000
         ],
         "yaxis": "y"
        },
        {
         "fill": "toself",
         "fillcolor": "silver",
         "line": {
          "color": "silver"
         },
         "opacity": 0.1,
         "showlegend": false,
         "type": "scatter",
         "x": [
          126.08976817842711,
          126.08976817842711,
          224.0634605109268,
          224.0634605109268
         ],
         "xaxis": "x",
         "y": [
          -1000,
          1000,
          1000,
          -1000
         ],
         "yaxis": "y"
        },
        {
         "line": {
          "dash": "solid",
          "width": 3
         },
         "marker": {
          "color": "lightskyblue",
          "line": {
           "color": "black",
           "width": 0.5
          },
          "size": [
           12,
           30
          ]
         },
         "mode": "lines+markers",
         "name": "IMAGE 3.2",
         "showlegend": false,
         "text": [
          "",
          "B"
         ],
         "textfont": {
          "color": "black",
          "size": 15
         },
         "type": "scatter",
         "x": [
          184.65368402071772,
          188.59690637292806
         ],
         "xaxis": "x",
         "y": [
          0.9592446713291976,
          0.8438233234534837
         ],
         "yaxis": "y"
        },
        {
         "line": {
          "dash": "solid",
          "width": 3
         },
         "marker": {
          "color": "lightskyblue",
          "line": {
           "color": "black",
           "width": 0.5
          },
          "size": [
           12,
           30
          ]
         },
         "mode": "lines+markers",
         "name": "IMAGE 3.2",
         "showlegend": false,
         "text": [
          "",
          "C"
         ],
         "textfont": {
          "color": "black",
          "size": 15
         },
         "type": "scatter",
         "x": [
          184.65368402071772,
          184.7003469322808
         ],
         "xaxis": "x",
         "y": [
          0.9592446713291976,
          0.8637289721379735
         ],
         "yaxis": "y"
        },
        {
         "line": {
          "dash": "solid",
          "width": 3
         },
         "marker": {
          "color": "lightskyblue",
          "line": {
           "color": "black",
           "width": 0.5
          },
          "size": [
           12,
           30
          ]
         },
         "mode": "lines+markers",
         "name": "IMAGE 3.2",
         "showlegend": false,
         "text": [
          "",
          "N"
         ],
         "textfont": {
          "color": "black",
          "size": 15
         },
         "type": "scatter",
         "x": [
          184.65368402071772,
          185.08247774548363
         ],
         "xaxis": "x",
         "y": [
          0.9592446713291976,
          0.9539113612744025
         ],
         "yaxis": "y"
        },
        {
         "line": {
          "dash": "solid",
          "width": 3
         },
         "marker": {
          "color": "lightskyblue",
          "line": {
           "color": "black",
           "width": 0.5
          },
          "size": [
           12,
           30
          ]
         },
         "mode": "lines+markers",
         "name": "IMAGE 3.2",
         "showlegend": false,
         "text": [
          "",
          "V"
         ],
         "textfont": {
          "color": "black",
          "size": 15
         },
         "type": "scatter",
         "x": [
          184.65368402071772,
          184.27566290244
         ],
         "xaxis": "x",
         "y": [
          0.9592446713291976,
          1.0067846316830407
         ],
         "yaxis": "y"
        },
        {
         "line": {
          "dash": "solid",
          "width": 3
         },
         "marker": {
          "color": "lightskyblue",
          "line": {
           "color": "black",
           "width": 0.5
          },
          "size": [
           12,
           30
          ]
         },
         "mode": "lines+markers",
         "name": "IMAGE 3.2",
         "showlegend": false,
         "text": [
          "",
          "El"
         ],
         "textfont": {
          "color": "black",
          "size": 15
         },
         "type": "scatter",
         "x": [
          184.65368402071772,
          195.38642725374075
         ],
         "xaxis": "x",
         "y": [
          0.9592446713291976,
          0.9911049240779173
         ],
         "yaxis": "y"
        },
        {
         "line": {
          "dash": "solid",
          "width": 3
         },
         "marker": {
          "color": "lightskyblue",
          "line": {
           "color": "black",
           "width": 0.5
          },
          "size": [
           12,
           30
          ]
         },
         "mode": "lines+markers",
         "name": "IMAGE 3.2",
         "showlegend": false,
         "text": [
          "",
          "H"
         ],
         "textfont": {
          "color": "black",
          "size": 15
         },
         "type": "scatter",
         "x": [
          184.65368402071772,
          185.62747258378658
         ],
         "xaxis": "x",
         "y": [
          0.9592446713291976,
          0.9942643807393897
         ],
         "yaxis": "y"
        },
        {
         "line": {
          "dash": "solid",
          "width": 3
         },
         "marker": {
          "color": "lightskyblue",
          "line": {
           "color": "black",
           "width": 0.5
          },
          "size": [
           12,
           30
          ]
         },
         "mode": "lines+markers",
         "name": "IMAGE 3.2",
         "showlegend": false,
         "text": [
          "",
          "F"
         ],
         "textfont": {
          "color": "black",
          "size": 15
         },
         "type": "scatter",
         "x": [
          184.65368402071772,
          189.48315737387156
         ],
         "xaxis": "x",
         "y": [
          0.9592446713291976,
          1.0328386585358118
         ],
         "yaxis": "y"
        },
        {
         "line": {
          "dash": "solid",
          "width": 3
         },
         "marker": {
          "color": "lightskyblue",
          "line": {
           "color": "black",
           "width": 0.5
          },
          "size": [
           12,
           30
          ]
         },
         "mode": "lines+markers",
         "name": "IMAGE 3.2",
         "showlegend": false,
         "text": [
          "",
          "Ef"
         ],
         "textfont": {
          "color": "black",
          "size": 15
         },
         "type": "scatter",
         "x": [
          184.65368402071772,
          184.42194086520476
         ],
         "xaxis": "x",
         "y": [
          0.9592446713291976,
          0.9661726194896604
         ],
         "yaxis": "y"
        },
        {
         "line": {
          "dash": "solid",
          "width": 3
         },
         "marker": {
          "color": "goldenrod",
          "line": {
           "color": "black",
           "width": 0.5
          },
          "size": [
           12,
           30
          ]
         },
         "mode": "lines+markers",
         "name": "PROMETHEUS 1.2",
         "showlegend": false,
         "text": [
          "",
          "B"
         ],
         "textfont": {
          "color": "black",
          "size": 15
         },
         "type": "scatter",
         "x": [
          153.15610230579796,
          152.57126364840587
         ],
         "xaxis": "x",
         "y": [
          0.9162835262952043,
          0.6927444134284753
         ],
         "yaxis": "y"
        },
        {
         "line": {
          "dash": "solid",
          "width": 3
         },
         "marker": {
          "color": "goldenrod",
          "line": {
           "color": "black",
           "width": 0.5
          },
          "size": [
           12,
           30
          ]
         },
         "mode": "lines+markers",
         "name": "PROMETHEUS 1.2",
         "showlegend": false,
         "text": [
          "",
          "C"
         ],
         "textfont": {
          "color": "black",
          "size": 15
         },
         "type": "scatter",
         "x": [
          153.15610230579796,
          153.25382346079186
         ],
         "xaxis": "x",
         "y": [
          0.9162835262952043,
          0.8596924232694546
         ],
         "yaxis": "y"
        },
        {
         "line": {
          "dash": "solid",
          "width": 3
         },
         "marker": {
          "color": "goldenrod",
          "line": {
           "color": "black",
           "width": 0.5
          },
          "size": [
           12,
           30
          ]
         },
         "mode": "lines+markers",
         "name": "PROMETHEUS 1.2",
         "showlegend": false,
         "text": [
          "",
          "N"
         ],
         "textfont": {
          "color": "black",
          "size": 15
         },
         "type": "scatter",
         "x": [
          153.15610230579796,
          154.76329495784012
         ],
         "xaxis": "x",
         "y": [
          0.9162835262952043,
          0.8889259019189703
         ],
         "yaxis": "y"
        },
        {
         "line": {
          "dash": "solid",
          "width": 3
         },
         "marker": {
          "color": "goldenrod",
          "line": {
           "color": "black",
           "width": 0.5
          },
          "size": [
           12,
           30
          ]
         },
         "mode": "lines+markers",
         "name": "PROMETHEUS 1.2",
         "showlegend": false,
         "text": [
          "",
          "V"
         ],
         "textfont": {
          "color": "black",
          "size": 15
         },
         "type": "scatter",
         "x": [
          153.15610230579796,
          154.4748875707403
         ],
         "xaxis": "x",
         "y": [
          0.9162835262952043,
          0.8074425642777444
         ],
         "yaxis": "y"
        },
        {
         "line": {
          "dash": "solid",
          "width": 3
         },
         "marker": {
          "color": "goldenrod",
          "line": {
           "color": "black",
           "width": 0.5
          },
          "size": [
           12,
           30
          ]
         },
         "mode": "lines+markers",
         "name": "PROMETHEUS 1.2",
         "showlegend": false,
         "text": [
          "",
          "El"
         ],
         "textfont": {
          "color": "black",
          "size": 15
         },
         "type": "scatter",
         "x": [
          153.15610230579796,
          158.05987367378566
         ],
         "xaxis": "x",
         "y": [
          0.9162835262952043,
          0.9232083426378687
         ],
         "yaxis": "y"
        },
        {
         "line": {
          "dash": "solid",
          "width": 3
         },
         "marker": {
          "color": "goldenrod",
          "line": {
           "color": "black",
           "width": 0.5
          },
          "size": [
           12,
           30
          ]
         },
         "mode": "lines+markers",
         "name": "PROMETHEUS 1.2",
         "showlegend": false,
         "text": [
          "",
          "H"
         ],
         "textfont": {
          "color": "black",
          "size": 15
         },
         "type": "scatter",
         "x": [
          153.15610230579796,
          null
         ],
         "xaxis": "x",
         "y": [
          0.9162835262952043,
          null
         ],
         "yaxis": "y"
        },
        {
         "line": {
          "dash": "solid",
          "width": 3
         },
         "marker": {
          "color": "goldenrod",
          "line": {
           "color": "black",
           "width": 0.5
          },
          "size": [
           12,
           30
          ]
         },
         "mode": "lines+markers",
         "name": "PROMETHEUS 1.2",
         "showlegend": false,
         "text": [
          "",
          "F"
         ],
         "textfont": {
          "color": "black",
          "size": 15
         },
         "type": "scatter",
         "x": [
          153.15610230579796,
          null
         ],
         "xaxis": "x",
         "y": [
          0.9162835262952043,
          null
         ],
         "yaxis": "y"
        },
        {
         "line": {
          "dash": "solid",
          "width": 3
         },
         "marker": {
          "color": "goldenrod",
          "line": {
           "color": "black",
           "width": 0.5
          },
          "size": [
           12,
           30
          ]
         },
         "mode": "lines+markers",
         "name": "PROMETHEUS 1.2",
         "showlegend": false,
         "text": [
          "",
          "Ef"
         ],
         "textfont": {
          "color": "black",
          "size": 15
         },
         "type": "scatter",
         "x": [
          153.15610230579796,
          154.00602234340568
         ],
         "xaxis": "x",
         "y": [
          0.9162835262952043,
          0.924857275878859
         ],
         "yaxis": "y"
        },
        {
         "line": {
          "dash": "solid",
          "width": 3
         },
         "marker": {
          "color": "tomato",
          "line": {
           "color": "black",
           "width": 0.5
          },
          "size": [
           12,
           30
          ]
         },
         "mode": "lines+markers",
         "name": "REMIND 2.1",
         "showlegend": false,
         "text": [
          "",
          "B"
         ],
         "textfont": {
          "color": "black",
          "size": 15
         },
         "type": "scatter",
         "x": [
          180.78106000000025,
          172.83220000000028
         ],
         "xaxis": "x",
         "y": [
          1.1754351148627167,
          0.9505513493163282
         ],
         "yaxis": "y"
        },
        {
         "line": {
          "dash": "solid",
          "width": 3
         },
         "marker": {
          "color": "tomato",
          "line": {
           "color": "black",
           "width": 0.5
          },
          "size": [
           12,
           30
          ]
         },
         "mode": "lines+markers",
         "name": "REMIND 2.1",
         "showlegend": false,
         "text": [
          "",
          "C"
         ],
         "textfont": {
          "color": "black",
          "size": 15
         },
         "type": "scatter",
         "x": [
          180.78106000000025,
          179.1288800000002
         ],
         "xaxis": "x",
         "y": [
          1.1754351148627167,
          1.0070930596715244
         ],
         "yaxis": "y"
        },
        {
         "line": {
          "dash": "solid",
          "width": 3
         },
         "marker": {
          "color": "tomato",
          "line": {
           "color": "black",
           "width": 0.5
          },
          "size": [
           12,
           30
          ]
         },
         "mode": "lines+markers",
         "name": "REMIND 2.1",
         "showlegend": false,
         "text": [
          "",
          "N"
         ],
         "textfont": {
          "color": "black",
          "size": 15
         },
         "type": "scatter",
         "x": [
          180.78106000000025,
          181.05764000000045
         ],
         "xaxis": "x",
         "y": [
          1.1754351148627167,
          1.1766300579607274
         ],
         "yaxis": "y"
        },
        {
         "line": {
          "dash": "solid",
          "width": 3
         },
         "marker": {
          "color": "tomato",
          "line": {
           "color": "black",
           "width": 0.5
          },
          "size": [
           12,
           30
          ]
         },
         "mode": "lines+markers",
         "name": "REMIND 2.1",
         "showlegend": false,
         "text": [
          "",
          "V"
         ],
         "textfont": {
          "color": "black",
          "size": 15
         },
         "type": "scatter",
         "x": [
          180.78106000000025,
          182.0649000000003
         ],
         "xaxis": "x",
         "y": [
          1.1754351148627167,
          1.1809849264778067
         ],
         "yaxis": "y"
        },
        {
         "line": {
          "dash": "solid",
          "width": 3
         },
         "marker": {
          "color": "tomato",
          "line": {
           "color": "black",
           "width": 0.5
          },
          "size": [
           12,
           30
          ]
         },
         "mode": "lines+markers",
         "name": "REMIND 2.1",
         "showlegend": false,
         "text": [
          "",
          "El"
         ],
         "textfont": {
          "color": "black",
          "size": 15
         },
         "type": "scatter",
         "x": [
          180.78106000000025,
          185.3829400000002
         ],
         "xaxis": "x",
         "y": [
          1.1754351148627167,
          1.1873239710674446
         ],
         "yaxis": "y"
        },
        {
         "line": {
          "dash": "solid",
          "width": 3
         },
         "marker": {
          "color": "tomato",
          "line": {
           "color": "black",
           "width": 0.5
          },
          "size": [
           12,
           30
          ]
         },
         "mode": "lines+markers",
         "name": "REMIND 2.1",
         "showlegend": false,
         "text": [
          "",
          "H"
         ],
         "textfont": {
          "color": "black",
          "size": 15
         },
         "type": "scatter",
         "x": [
          180.78106000000025,
          184.06916
         ],
         "xaxis": "x",
         "y": [
          1.1754351148627167,
          1.2062851083870267
         ],
         "yaxis": "y"
        },
        {
         "line": {
          "dash": "solid",
          "width": 3
         },
         "marker": {
          "color": "tomato",
          "line": {
           "color": "black",
           "width": 0.5
          },
          "size": [
           12,
           30
          ]
         },
         "mode": "lines+markers",
         "name": "REMIND 2.1",
         "showlegend": false,
         "text": [
          "",
          "F"
         ],
         "textfont": {
          "color": "black",
          "size": 15
         },
         "type": "scatter",
         "x": [
          180.78106000000025,
          228.04064000000017
         ],
         "xaxis": "x",
         "y": [
          1.1754351148627167,
          1.1362984392398465
         ],
         "yaxis": "y"
        },
        {
         "line": {
          "dash": "solid",
          "width": 3
         },
         "marker": {
          "color": "tomato",
          "line": {
           "color": "black",
           "width": 0.5
          },
          "size": [
           12,
           30
          ]
         },
         "mode": "lines+markers",
         "name": "REMIND 2.1",
         "showlegend": false,
         "text": [
          "",
          "Ef"
         ],
         "textfont": {
          "color": "black",
          "size": 15
         },
         "type": "scatter",
         "x": [
          180.78106000000025,
          189.19750000000022
         ],
         "xaxis": "x",
         "y": [
          1.1754351148627167,
          1.2157297547963026
         ],
         "yaxis": "y"
        },
        {
         "line": {
          "dash": "solid",
          "width": 3
         },
         "marker": {
          "color": "forestgreen",
          "line": {
           "color": "black",
           "width": 0.5
          },
          "size": [
           12,
           30
          ]
         },
         "mode": "lines+markers",
         "name": "WITCH 5.0",
         "showlegend": false,
         "text": [
          "",
          "B"
         ],
         "textfont": {
          "color": "black",
          "size": 15
         },
         "type": "scatter",
         "x": [
          200.8516956749222,
          200.96621516416417
         ],
         "xaxis": "x",
         "y": [
          0.8754224366316201,
          0.7902714806612379
         ],
         "yaxis": "y"
        },
        {
         "line": {
          "dash": "solid",
          "width": 3
         },
         "marker": {
          "color": "forestgreen",
          "line": {
           "color": "black",
           "width": 0.5
          },
          "size": [
           12,
           30
          ]
         },
         "mode": "lines+markers",
         "name": "WITCH 5.0",
         "showlegend": false,
         "text": [
          "",
          "C"
         ],
         "textfont": {
          "color": "black",
          "size": 15
         },
         "type": "scatter",
         "x": [
          200.8516956749222,
          217.15515194749196
         ],
         "xaxis": "x",
         "y": [
          0.8754224366316201,
          0.6126542520689606
         ],
         "yaxis": "y"
        },
        {
         "line": {
          "dash": "solid",
          "width": 3
         },
         "marker": {
          "color": "forestgreen",
          "line": {
           "color": "black",
           "width": 0.5
          },
          "size": [
           12,
           30
          ]
         },
         "mode": "lines+markers",
         "name": "WITCH 5.0",
         "showlegend": false,
         "text": [
          "",
          "N"
         ],
         "textfont": {
          "color": "black",
          "size": 15
         },
         "type": "scatter",
         "x": [
          200.8516956749222,
          202.10723190669614
         ],
         "xaxis": "x",
         "y": [
          0.8754224366316201,
          0.8755631446526075
         ],
         "yaxis": "y"
        },
        {
         "line": {
          "dash": "solid",
          "width": 3
         },
         "marker": {
          "color": "forestgreen",
          "line": {
           "color": "black",
           "width": 0.5
          },
          "size": [
           12,
           30
          ]
         },
         "mode": "lines+markers",
         "name": "WITCH 5.0",
         "showlegend": false,
         "text": [
          "",
          "V"
         ],
         "textfont": {
          "color": "black",
          "size": 15
         },
         "type": "scatter",
         "x": [
          200.8516956749222,
          200.80993279271797
         ],
         "xaxis": "x",
         "y": [
          0.8754224366316201,
          0.8753647169033668
         ],
         "yaxis": "y"
        },
        {
         "line": {
          "dash": "solid",
          "width": 3
         },
         "marker": {
          "color": "forestgreen",
          "line": {
           "color": "black",
           "width": 0.5
          },
          "size": [
           12,
           30
          ]
         },
         "mode": "lines+markers",
         "name": "WITCH 5.0",
         "showlegend": false,
         "text": [
          "",
          "El"
         ],
         "textfont": {
          "color": "black",
          "size": 15
         },
         "type": "scatter",
         "x": [
          200.8516956749222,
          226.3859281075861
         ],
         "xaxis": "x",
         "y": [
          0.8754224366316201,
          1.0932660280355457
         ],
         "yaxis": "y"
        },
        {
         "line": {
          "dash": "solid",
          "width": 3
         },
         "marker": {
          "color": "forestgreen",
          "line": {
           "color": "black",
           "width": 0.5
          },
          "size": [
           12,
           30
          ]
         },
         "mode": "lines+markers",
         "name": "WITCH 5.0",
         "showlegend": false,
         "text": [
          "",
          "H"
         ],
         "textfont": {
          "color": "black",
          "size": 15
         },
         "type": "scatter",
         "x": [
          200.8516956749222,
          200.93257848087796
         ],
         "xaxis": "x",
         "y": [
          0.8754224366316201,
          0.8750940978773719
         ],
         "yaxis": "y"
        },
        {
         "line": {
          "dash": "solid",
          "width": 3
         },
         "marker": {
          "color": "forestgreen",
          "line": {
           "color": "black",
           "width": 0.5
          },
          "size": [
           12,
           30
          ]
         },
         "mode": "lines+markers",
         "name": "WITCH 5.0",
         "showlegend": false,
         "text": [
          "",
          "F"
         ],
         "textfont": {
          "color": "black",
          "size": 15
         },
         "type": "scatter",
         "x": [
          200.8516956749222,
          216.15006658413404
         ],
         "xaxis": "x",
         "y": [
          0.8754224366316201,
          1.2578090335615901
         ],
         "yaxis": "y"
        },
        {
         "line": {
          "dash": "solid",
          "width": 3
         },
         "marker": {
          "color": "forestgreen",
          "line": {
           "color": "black",
           "width": 0.5
          },
          "size": [
           12,
           30
          ]
         },
         "mode": "lines+markers",
         "name": "WITCH 5.0",
         "showlegend": false,
         "text": [
          "",
          "Ef"
         ],
         "textfont": {
          "color": "black",
          "size": 15
         },
         "type": "scatter",
         "x": [
          200.8516956749222,
          200.08589334717817
         ],
         "xaxis": "x",
         "y": [
          0.8754224366316201,
          0.8553232403824472
         ],
         "yaxis": "y"
        },
        {
         "line": {
          "dash": "solid",
          "width": 3
         },
         "marker": {
          "color": "darkgrey",
          "line": {
           "color": "black",
           "width": 0.5
          },
          "size": [
           12,
           30
          ]
         },
         "mode": "lines+markers",
         "name": "Euro-Calliope 2.0",
         "showlegend": false,
         "text": [
          "",
          "B"
         ],
         "textfont": {
          "color": "black",
          "size": 15
         },
         "type": "scatter",
         "x": [
          167.77213644825633,
          167.77213644825633
         ],
         "xaxis": "x",
         "y": [
          0.9996545960963845,
          0.9996545960963845
         ],
         "yaxis": "y"
        },
        {
         "line": {
          "dash": "solid",
          "width": 3
         },
         "marker": {
          "color": "darkgrey",
          "line": {
           "color": "black",
           "width": 0.5
          },
          "size": [
           12,
           30
          ]
         },
         "mode": "lines+markers",
         "name": "Euro-Calliope 2.0",
         "showlegend": false,
         "text": [
          "",
          "C"
         ],
         "textfont": {
          "color": "black",
          "size": 15
         },
         "type": "scatter",
         "x": [
          167.77213644825633,
          167.77213644825633
         ],
         "xaxis": "x",
         "y": [
          0.9996545960963845,
          0.9996545960963845
         ],
         "yaxis": "y"
        },
        {
         "line": {
          "dash": "solid",
          "width": 3
         },
         "marker": {
          "color": "darkgrey",
          "line": {
           "color": "black",
           "width": 0.5
          },
          "size": [
           12,
           30
          ]
         },
         "mode": "lines+markers",
         "name": "Euro-Calliope 2.0",
         "showlegend": false,
         "text": [
          "",
          "N"
         ],
         "textfont": {
          "color": "black",
          "size": 15
         },
         "type": "scatter",
         "x": [
          167.77213644825633,
          158.79459620063153
         ],
         "xaxis": "x",
         "y": [
          0.9996545960963845,
          0.9995761437571783
         ],
         "yaxis": "y"
        },
        {
         "line": {
          "dash": "solid",
          "width": 3
         },
         "marker": {
          "color": "darkgrey",
          "line": {
           "color": "black",
           "width": 0.5
          },
          "size": [
           12,
           30
          ]
         },
         "mode": "lines+markers",
         "name": "Euro-Calliope 2.0",
         "showlegend": false,
         "text": [
          "",
          "V"
         ],
         "textfont": {
          "color": "black",
          "size": 15
         },
         "type": "scatter",
         "x": [
          167.77213644825633,
          167.77213644825633
         ],
         "xaxis": "x",
         "y": [
          0.9996545960963845,
          0.99965689648285
         ],
         "yaxis": "y"
        },
        {
         "line": {
          "dash": "solid",
          "width": 3
         },
         "marker": {
          "color": "darkgrey",
          "line": {
           "color": "black",
           "width": 0.5
          },
          "size": [
           12,
           30
          ]
         },
         "mode": "lines+markers",
         "name": "Euro-Calliope 2.0",
         "showlegend": false,
         "text": [
          "",
          "El"
         ],
         "textfont": {
          "color": "black",
          "size": 15
         },
         "type": "scatter",
         "x": [
          167.77213644825633,
          188.30106930401053
         ],
         "xaxis": "x",
         "y": [
          0.9996545960963845,
          0.9999870515314768
         ],
         "yaxis": "y"
        },
        {
         "line": {
          "dash": "solid",
          "width": 3
         },
         "marker": {
          "color": "darkgrey",
          "line": {
           "color": "black",
           "width": 0.5
          },
          "size": [
           12,
           30
          ]
         },
         "mode": "lines+markers",
         "name": "Euro-Calliope 2.0",
         "showlegend": false,
         "text": [
          "",
          "H"
         ],
         "textfont": {
          "color": "black",
          "size": 15
         },
         "type": "scatter",
         "x": [
          167.77213644825633,
          216.33695365293136
         ],
         "xaxis": "x",
         "y": [
          0.9996545960963845,
          0.9996763174485367
         ],
         "yaxis": "y"
        },
        {
         "line": {
          "dash": "solid",
          "width": 3
         },
         "marker": {
          "color": "darkgrey",
          "line": {
           "color": "black",
           "width": 0.5
          },
          "size": [
           12,
           30
          ]
         },
         "mode": "lines+markers",
         "name": "Euro-Calliope 2.0",
         "showlegend": false,
         "text": [
          "",
          "F"
         ],
         "textfont": {
          "color": "black",
          "size": 15
         },
         "type": "scatter",
         "x": [
          167.77213644825633,
          167.77213644825633
         ],
         "xaxis": "x",
         "y": [
          0.9996545960963845,
          0.9996522073927185
         ],
         "yaxis": "y"
        },
        {
         "line": {
          "dash": "solid",
          "width": 3
         },
         "marker": {
          "color": "darkgrey",
          "line": {
           "color": "black",
           "width": 0.5
          },
          "size": [
           12,
           30
          ]
         },
         "mode": "lines+markers",
         "name": "Euro-Calliope 2.0",
         "showlegend": false,
         "text": [
          "",
          "Ef"
         ],
         "textfont": {
          "color": "black",
          "size": 15
         },
         "type": "scatter",
         "x": [
          167.77213644825633,
          167.77213644825633
         ],
         "xaxis": "x",
         "y": [
          0.9996545960963845,
          0.9996539478395121
         ],
         "yaxis": "y"
        },
        {
         "line": {
          "dash": "solid",
          "width": 3
         },
         "marker": {
          "color": "royalblue",
          "line": {
           "color": "black",
           "width": 0.5
          },
          "size": [
           12,
           30
          ]
         },
         "mode": "lines+markers",
         "name": "TIAM-ECN 1.2",
         "showlegend": false,
         "text": [
          "",
          "B"
         ],
         "textfont": {
          "color": "black",
          "size": 15
         },
         "type": "scatter",
         "x": [
          113.02220000000011,
          171.75519133128637
         ],
         "xaxis": "x",
         "y": [
          0.7112046604572883,
          0.6519178300027703
         ],
         "yaxis": "y"
        },
        {
         "line": {
          "dash": "solid",
          "width": 3
         },
         "marker": {
          "color": "royalblue",
          "line": {
           "color": "black",
           "width": 0.5
          },
          "size": [
           12,
           30
          ]
         },
         "mode": "lines+markers",
         "name": "TIAM-ECN 1.2",
         "showlegend": false,
         "text": [
          "",
          "C"
         ],
         "textfont": {
          "color": "black",
          "size": 15
         },
         "type": "scatter",
         "x": [
          113.02220000000011,
          175.09290813123607
         ],
         "xaxis": "x",
         "y": [
          0.7112046604572883,
          0.6902276064767252
         ],
         "yaxis": "y"
        },
        {
         "line": {
          "dash": "solid",
          "width": 3
         },
         "marker": {
          "color": "royalblue",
          "line": {
           "color": "black",
           "width": 0.5
          },
          "size": [
           12,
           30
          ]
         },
         "mode": "lines+markers",
         "name": "TIAM-ECN 1.2",
         "showlegend": false,
         "text": [
          "",
          "N"
         ],
         "textfont": {
          "color": "black",
          "size": 15
         },
         "type": "scatter",
         "x": [
          113.02220000000011,
          172.96175915898675
         ],
         "xaxis": "x",
         "y": [
          0.7112046604572883,
          0.6841394372761416
         ],
         "yaxis": "y"
        },
        {
         "line": {
          "dash": "solid",
          "width": 3
         },
         "marker": {
          "color": "royalblue",
          "line": {
           "color": "black",
           "width": 0.5
          },
          "size": [
           12,
           30
          ]
         },
         "mode": "lines+markers",
         "name": "TIAM-ECN 1.2",
         "showlegend": false,
         "text": [
          "",
          "V"
         ],
         "textfont": {
          "color": "black",
          "size": 15
         },
         "type": "scatter",
         "x": [
          113.02220000000011,
          243.7383834455295
         ],
         "xaxis": "x",
         "y": [
          0.7112046604572883,
          0.6876829688374797
         ],
         "yaxis": "y"
        },
        {
         "line": {
          "dash": "solid",
          "width": 3
         },
         "marker": {
          "color": "royalblue",
          "line": {
           "color": "black",
           "width": 0.5
          },
          "size": [
           12,
           30
          ]
         },
         "mode": "lines+markers",
         "name": "TIAM-ECN 1.2",
         "showlegend": false,
         "text": [
          "",
          "El"
         ],
         "textfont": {
          "color": "black",
          "size": 15
         },
         "type": "scatter",
         "x": [
          113.02220000000011,
          246.10016016157078
         ],
         "xaxis": "x",
         "y": [
          0.7112046604572883,
          0.7245201319137357
         ],
         "yaxis": "y"
        },
        {
         "line": {
          "dash": "solid",
          "width": 3
         },
         "marker": {
          "color": "royalblue",
          "line": {
           "color": "black",
           "width": 0.5
          },
          "size": [
           12,
           30
          ]
         },
         "mode": "lines+markers",
         "name": "TIAM-ECN 1.2",
         "showlegend": false,
         "text": [
          "",
          "H"
         ],
         "textfont": {
          "color": "black",
          "size": 15
         },
         "type": "scatter",
         "x": [
          113.02220000000011,
          175.92878591780573
         ],
         "xaxis": "x",
         "y": [
          0.7112046604572883,
          0.7247584152493668
         ],
         "yaxis": "y"
        },
        {
         "line": {
          "dash": "solid",
          "width": 3
         },
         "marker": {
          "color": "royalblue",
          "line": {
           "color": "black",
           "width": 0.5
          },
          "size": [
           12,
           30
          ]
         },
         "mode": "lines+markers",
         "name": "TIAM-ECN 1.2",
         "showlegend": false,
         "text": [
          "",
          "F"
         ],
         "textfont": {
          "color": "black",
          "size": 15
         },
         "type": "scatter",
         "x": [
          113.02220000000011,
          null
         ],
         "xaxis": "x",
         "y": [
          0.7112046604572883,
          null
         ],
         "yaxis": "y"
        },
        {
         "line": {
          "dash": "solid",
          "width": 3
         },
         "marker": {
          "color": "royalblue",
          "line": {
           "color": "black",
           "width": 0.5
          },
          "size": [
           12,
           30
          ]
         },
         "mode": "lines+markers",
         "name": "TIAM-ECN 1.2",
         "showlegend": false,
         "text": [
          "",
          "Ef"
         ],
         "textfont": {
          "color": "black",
          "size": 15
         },
         "type": "scatter",
         "x": [
          113.02220000000011,
          156.62811260517037
         ],
         "xaxis": "x",
         "y": [
          0.7112046604572883,
          0.9800638603432521
         ],
         "yaxis": "y"
        },
        {
         "line": {
          "dash": "solid",
          "width": 3
         },
         "marker": {
          "color": "purple",
          "line": {
           "color": "black",
           "width": 0.5
          },
          "size": [
           12,
           30
          ]
         },
         "mode": "lines+markers",
         "name": "MESSAGEix-GLOBIOM 1.2",
         "showlegend": false,
         "text": [
          "",
          "B"
         ],
         "textfont": {
          "color": "black",
          "size": 15
         },
         "type": "scatter",
         "x": [
          170.61919135807875,
          168.3181968516799
         ],
         "xaxis": "x",
         "y": [
          0.862218374011189,
          0.8512739606315562
         ],
         "yaxis": "y"
        },
        {
         "line": {
          "dash": "solid",
          "width": 3
         },
         "marker": {
          "color": "purple",
          "line": {
           "color": "black",
           "width": 0.5
          },
          "size": [
           12,
           30
          ]
         },
         "mode": "lines+markers",
         "name": "MESSAGEix-GLOBIOM 1.2",
         "showlegend": false,
         "text": [
          "",
          "C"
         ],
         "textfont": {
          "color": "black",
          "size": 15
         },
         "type": "scatter",
         "x": [
          170.61919135807875,
          169.72546002860418
         ],
         "xaxis": "x",
         "y": [
          0.862218374011189,
          0.8629454612803449
         ],
         "yaxis": "y"
        },
        {
         "line": {
          "dash": "solid",
          "width": 3
         },
         "marker": {
          "color": "purple",
          "line": {
           "color": "black",
           "width": 0.5
          },
          "size": [
           12,
           30
          ]
         },
         "mode": "lines+markers",
         "name": "MESSAGEix-GLOBIOM 1.2",
         "showlegend": false,
         "text": [
          "",
          "N"
         ],
         "textfont": {
          "color": "black",
          "size": 15
         },
         "type": "scatter",
         "x": [
          170.61919135807875,
          168.79696353550753
         ],
         "xaxis": "x",
         "y": [
          0.862218374011189,
          0.8610710735687075
         ],
         "yaxis": "y"
        },
        {
         "line": {
          "dash": "solid",
          "width": 3
         },
         "marker": {
          "color": "purple",
          "line": {
           "color": "black",
           "width": 0.5
          },
          "size": [
           12,
           30
          ]
         },
         "mode": "lines+markers",
         "name": "MESSAGEix-GLOBIOM 1.2",
         "showlegend": false,
         "text": [
          "",
          "V"
         ],
         "textfont": {
          "color": "black",
          "size": 15
         },
         "type": "scatter",
         "x": [
          170.61919135807875,
          170.23200616110717
         ],
         "xaxis": "x",
         "y": [
          0.862218374011189,
          0.8710454277076423
         ],
         "yaxis": "y"
        },
        {
         "line": {
          "dash": "solid",
          "width": 3
         },
         "marker": {
          "color": "purple",
          "line": {
           "color": "black",
           "width": 0.5
          },
          "size": [
           12,
           30
          ]
         },
         "mode": "lines+markers",
         "name": "MESSAGEix-GLOBIOM 1.2",
         "showlegend": false,
         "text": [
          "",
          "El"
         ],
         "textfont": {
          "color": "black",
          "size": 15
         },
         "type": "scatter",
         "x": [
          170.61919135807875,
          175.06032055811784
         ],
         "xaxis": "x",
         "y": [
          0.862218374011189,
          0.8911972160439676
         ],
         "yaxis": "y"
        },
        {
         "line": {
          "dash": "solid",
          "width": 3
         },
         "marker": {
          "color": "purple",
          "line": {
           "color": "black",
           "width": 0.5
          },
          "size": [
           12,
           30
          ]
         },
         "mode": "lines+markers",
         "name": "MESSAGEix-GLOBIOM 1.2",
         "showlegend": false,
         "text": [
          "",
          "H"
         ],
         "textfont": {
          "color": "black",
          "size": 15
         },
         "type": "scatter",
         "x": [
          170.61919135807875,
          168.11944649111547
         ],
         "xaxis": "x",
         "y": [
          0.862218374011189,
          0.8565501224955973
         ],
         "yaxis": "y"
        },
        {
         "line": {
          "dash": "solid",
          "width": 3
         },
         "marker": {
          "color": "purple",
          "line": {
           "color": "black",
           "width": 0.5
          },
          "size": [
           12,
           30
          ]
         },
         "mode": "lines+markers",
         "name": "MESSAGEix-GLOBIOM 1.2",
         "showlegend": false,
         "text": [
          "",
          "F"
         ],
         "textfont": {
          "color": "black",
          "size": 15
         },
         "type": "scatter",
         "x": [
          170.61919135807875,
          223.6294529214165
         ],
         "xaxis": "x",
         "y": [
          0.862218374011189,
          0.9104490793644738
         ],
         "yaxis": "y"
        },
        {
         "line": {
          "dash": "solid",
          "width": 3
         },
         "marker": {
          "color": "purple",
          "line": {
           "color": "black",
           "width": 0.5
          },
          "size": [
           12,
           30
          ]
         },
         "mode": "lines+markers",
         "name": "MESSAGEix-GLOBIOM 1.2",
         "showlegend": false,
         "text": [
          "",
          "Ef"
         ],
         "textfont": {
          "color": "black",
          "size": 15
         },
         "type": "scatter",
         "x": [
          170.61919135807875,
          null
         ],
         "xaxis": "x",
         "y": [
          0.862218374011189,
          null
         ],
         "yaxis": "y"
        },
        {
         "line": {
          "dash": "solid",
          "width": 3
         },
         "marker": {
          "color": "palegreen",
          "line": {
           "color": "black",
           "width": 0.5
          },
          "size": [
           12,
           30
          ]
         },
         "mode": "lines+markers",
         "name": "PRIMES 2022",
         "showlegend": false,
         "text": [
          "",
          "B"
         ],
         "textfont": {
          "color": "black",
          "size": 15
         },
         "type": "scatter",
         "x": [
          150.3584051058233,
          150.2874954799886
         ],
         "xaxis": "x",
         "y": [
          0.9402672263099785,
          0.9226164535040409
         ],
         "yaxis": "y"
        },
        {
         "line": {
          "dash": "solid",
          "width": 3
         },
         "marker": {
          "color": "palegreen",
          "line": {
           "color": "black",
           "width": 0.5
          },
          "size": [
           12,
           30
          ]
         },
         "mode": "lines+markers",
         "name": "PRIMES 2022",
         "showlegend": false,
         "text": [
          "",
          "C"
         ],
         "textfont": {
          "color": "black",
          "size": 15
         },
         "type": "scatter",
         "x": [
          150.3584051058233,
          149.43764597256632
         ],
         "xaxis": "x",
         "y": [
          0.9402672263099785,
          0.8626522877049786
         ],
         "yaxis": "y"
        },
        {
         "line": {
          "dash": "solid",
          "width": 3
         },
         "marker": {
          "color": "palegreen",
          "line": {
           "color": "black",
           "width": 0.5
          },
          "size": [
           12,
           30
          ]
         },
         "mode": "lines+markers",
         "name": "PRIMES 2022",
         "showlegend": false,
         "text": [
          "",
          "N"
         ],
         "textfont": {
          "color": "black",
          "size": 15
         },
         "type": "scatter",
         "x": [
          150.3584051058233,
          148.08713959367697
         ],
         "xaxis": "x",
         "y": [
          0.9402672263099785,
          0.9351028708137287
         ],
         "yaxis": "y"
        },
        {
         "line": {
          "dash": "solid",
          "width": 3
         },
         "marker": {
          "color": "palegreen",
          "line": {
           "color": "black",
           "width": 0.5
          },
          "size": [
           12,
           30
          ]
         },
         "mode": "lines+markers",
         "name": "PRIMES 2022",
         "showlegend": false,
         "text": [
          "",
          "V"
         ],
         "textfont": {
          "color": "black",
          "size": 15
         },
         "type": "scatter",
         "x": [
          150.3584051058233,
          null
         ],
         "xaxis": "x",
         "y": [
          0.9402672263099785,
          null
         ],
         "yaxis": "y"
        },
        {
         "line": {
          "dash": "solid",
          "width": 3
         },
         "marker": {
          "color": "palegreen",
          "line": {
           "color": "black",
           "width": 0.5
          },
          "size": [
           12,
           30
          ]
         },
         "mode": "lines+markers",
         "name": "PRIMES 2022",
         "showlegend": false,
         "text": [
          "",
          "El"
         ],
         "textfont": {
          "color": "black",
          "size": 15
         },
         "type": "scatter",
         "x": [
          150.3584051058233,
          152.01075355918397
         ],
         "xaxis": "x",
         "y": [
          0.9402672263099785,
          0.9397270270553081
         ],
         "yaxis": "y"
        },
        {
         "line": {
          "dash": "solid",
          "width": 3
         },
         "marker": {
          "color": "palegreen",
          "line": {
           "color": "black",
           "width": 0.5
          },
          "size": [
           12,
           30
          ]
         },
         "mode": "lines+markers",
         "name": "PRIMES 2022",
         "showlegend": false,
         "text": [
          "",
          "H"
         ],
         "textfont": {
          "color": "black",
          "size": 15
         },
         "type": "scatter",
         "x": [
          150.3584051058233,
          153.60363395968034
         ],
         "xaxis": "x",
         "y": [
          0.9402672263099785,
          0.939621654727886
         ],
         "yaxis": "y"
        },
        {
         "line": {
          "dash": "solid",
          "width": 3
         },
         "marker": {
          "color": "palegreen",
          "line": {
           "color": "black",
           "width": 0.5
          },
          "size": [
           12,
           30
          ]
         },
         "mode": "lines+markers",
         "name": "PRIMES 2022",
         "showlegend": false,
         "text": [
          "",
          "F"
         ],
         "textfont": {
          "color": "black",
          "size": 15
         },
         "type": "scatter",
         "x": [
          150.3584051058233,
          null
         ],
         "xaxis": "x",
         "y": [
          0.9402672263099785,
          null
         ],
         "yaxis": "y"
        },
        {
         "line": {
          "dash": "solid",
          "width": 3
         },
         "marker": {
          "color": "palegreen",
          "line": {
           "color": "black",
           "width": 0.5
          },
          "size": [
           12,
           30
          ]
         },
         "mode": "lines+markers",
         "name": "PRIMES 2022",
         "showlegend": false,
         "text": [
          "",
          "Ef"
         ],
         "textfont": {
          "color": "black",
          "size": 15
         },
         "type": "scatter",
         "x": [
          150.3584051058233,
          161.58528211112116
         ],
         "xaxis": "x",
         "y": [
          0.9402672263099785,
          0.945458072149441
         ],
         "yaxis": "y"
        },
        {
         "marker": {
          "color": "lightskyblue",
          "line": {
           "color": "black",
           "width": 0.5
          },
          "size": [
           12,
           30
          ]
         },
         "mode": "text+markers",
         "name": "IMAGE 3.2",
         "showlegend": false,
         "text": [
          "",
          "B"
         ],
         "textfont": {
          "color": "black",
          "size": 25
         },
         "type": "scatter",
         "x": [
          184.65368402071772,
          188.59690637292806
         ],
         "xaxis": "x",
         "y": [
          0.9592446713291976,
          0.8438233234534837
         ],
         "yaxis": "y"
        },
        {
         "marker": {
          "color": "lightskyblue",
          "line": {
           "color": "black",
           "width": 0.5
          },
          "size": [
           12,
           30
          ]
         },
         "mode": "text+markers",
         "name": "IMAGE 3.2",
         "showlegend": false,
         "text": [
          "",
          "C"
         ],
         "textfont": {
          "color": "black",
          "size": 25
         },
         "type": "scatter",
         "x": [
          184.65368402071772,
          184.7003469322808
         ],
         "xaxis": "x",
         "y": [
          0.9592446713291976,
          0.8637289721379735
         ],
         "yaxis": "y"
        },
        {
         "marker": {
          "color": "lightskyblue",
          "line": {
           "color": "black",
           "width": 0.5
          },
          "size": [
           12,
           30
          ]
         },
         "mode": "text+markers",
         "name": "IMAGE 3.2",
         "showlegend": false,
         "text": [
          "",
          "N"
         ],
         "textfont": {
          "color": "black",
          "size": 25
         },
         "type": "scatter",
         "x": [
          184.65368402071772,
          185.08247774548363
         ],
         "xaxis": "x",
         "y": [
          0.9592446713291976,
          0.9539113612744025
         ],
         "yaxis": "y"
        },
        {
         "marker": {
          "color": "lightskyblue",
          "line": {
           "color": "black",
           "width": 0.5
          },
          "size": [
           12,
           30
          ]
         },
         "mode": "text+markers",
         "name": "IMAGE 3.2",
         "showlegend": false,
         "text": [
          "",
          "V"
         ],
         "textfont": {
          "color": "black",
          "size": 25
         },
         "type": "scatter",
         "x": [
          184.65368402071772,
          184.27566290244
         ],
         "xaxis": "x",
         "y": [
          0.9592446713291976,
          1.0067846316830407
         ],
         "yaxis": "y"
        },
        {
         "marker": {
          "color": "lightskyblue",
          "line": {
           "color": "black",
           "width": 0.5
          },
          "size": [
           12,
           30
          ]
         },
         "mode": "text+markers",
         "name": "IMAGE 3.2",
         "showlegend": false,
         "text": [
          "",
          "El"
         ],
         "textfont": {
          "color": "black",
          "size": 25
         },
         "type": "scatter",
         "x": [
          184.65368402071772,
          195.38642725374075
         ],
         "xaxis": "x",
         "y": [
          0.9592446713291976,
          0.9911049240779173
         ],
         "yaxis": "y"
        },
        {
         "marker": {
          "color": "lightskyblue",
          "line": {
           "color": "black",
           "width": 0.5
          },
          "size": [
           12,
           30
          ]
         },
         "mode": "text+markers",
         "name": "IMAGE 3.2",
         "showlegend": false,
         "text": [
          "",
          "H"
         ],
         "textfont": {
          "color": "black",
          "size": 25
         },
         "type": "scatter",
         "x": [
          184.65368402071772,
          185.62747258378658
         ],
         "xaxis": "x",
         "y": [
          0.9592446713291976,
          0.9942643807393897
         ],
         "yaxis": "y"
        },
        {
         "marker": {
          "color": "lightskyblue",
          "line": {
           "color": "black",
           "width": 0.5
          },
          "size": [
           12,
           30
          ]
         },
         "mode": "text+markers",
         "name": "IMAGE 3.2",
         "showlegend": false,
         "text": [
          "",
          "F"
         ],
         "textfont": {
          "color": "black",
          "size": 25
         },
         "type": "scatter",
         "x": [
          184.65368402071772,
          189.48315737387156
         ],
         "xaxis": "x",
         "y": [
          0.9592446713291976,
          1.0328386585358118
         ],
         "yaxis": "y"
        },
        {
         "marker": {
          "color": "lightskyblue",
          "line": {
           "color": "black",
           "width": 0.5
          },
          "size": [
           12,
           30
          ]
         },
         "mode": "text+markers",
         "name": "IMAGE 3.2",
         "showlegend": false,
         "text": [
          "",
          "Ef"
         ],
         "textfont": {
          "color": "black",
          "size": 25
         },
         "type": "scatter",
         "x": [
          184.65368402071772,
          184.42194086520476
         ],
         "xaxis": "x",
         "y": [
          0.9592446713291976,
          0.9661726194896604
         ],
         "yaxis": "y"
        },
        {
         "marker": {
          "color": "goldenrod",
          "line": {
           "color": "black",
           "width": 0.5
          },
          "size": [
           12,
           30
          ]
         },
         "mode": "text+markers",
         "name": "PROMETHEUS 1.2",
         "showlegend": false,
         "text": [
          "",
          "B"
         ],
         "textfont": {
          "color": "black",
          "size": 25
         },
         "type": "scatter",
         "x": [
          153.15610230579796,
          152.57126364840587
         ],
         "xaxis": "x",
         "y": [
          0.9162835262952043,
          0.6927444134284753
         ],
         "yaxis": "y"
        },
        {
         "marker": {
          "color": "goldenrod",
          "line": {
           "color": "black",
           "width": 0.5
          },
          "size": [
           12,
           30
          ]
         },
         "mode": "text+markers",
         "name": "PROMETHEUS 1.2",
         "showlegend": false,
         "text": [
          "",
          "C"
         ],
         "textfont": {
          "color": "black",
          "size": 25
         },
         "type": "scatter",
         "x": [
          153.15610230579796,
          153.25382346079186
         ],
         "xaxis": "x",
         "y": [
          0.9162835262952043,
          0.8596924232694546
         ],
         "yaxis": "y"
        },
        {
         "marker": {
          "color": "goldenrod",
          "line": {
           "color": "black",
           "width": 0.5
          },
          "size": [
           12,
           30
          ]
         },
         "mode": "text+markers",
         "name": "PROMETHEUS 1.2",
         "showlegend": false,
         "text": [
          "",
          "N"
         ],
         "textfont": {
          "color": "black",
          "size": 25
         },
         "type": "scatter",
         "x": [
          153.15610230579796,
          154.76329495784012
         ],
         "xaxis": "x",
         "y": [
          0.9162835262952043,
          0.8889259019189703
         ],
         "yaxis": "y"
        },
        {
         "marker": {
          "color": "goldenrod",
          "line": {
           "color": "black",
           "width": 0.5
          },
          "size": [
           12,
           30
          ]
         },
         "mode": "text+markers",
         "name": "PROMETHEUS 1.2",
         "showlegend": false,
         "text": [
          "",
          "V"
         ],
         "textfont": {
          "color": "black",
          "size": 25
         },
         "type": "scatter",
         "x": [
          153.15610230579796,
          154.4748875707403
         ],
         "xaxis": "x",
         "y": [
          0.9162835262952043,
          0.8074425642777444
         ],
         "yaxis": "y"
        },
        {
         "marker": {
          "color": "goldenrod",
          "line": {
           "color": "black",
           "width": 0.5
          },
          "size": [
           12,
           30
          ]
         },
         "mode": "text+markers",
         "name": "PROMETHEUS 1.2",
         "showlegend": false,
         "text": [
          "",
          "El"
         ],
         "textfont": {
          "color": "black",
          "size": 25
         },
         "type": "scatter",
         "x": [
          153.15610230579796,
          158.05987367378566
         ],
         "xaxis": "x",
         "y": [
          0.9162835262952043,
          0.9232083426378687
         ],
         "yaxis": "y"
        },
        {
         "marker": {
          "color": "goldenrod",
          "line": {
           "color": "black",
           "width": 0.5
          },
          "size": [
           12,
           30
          ]
         },
         "mode": "text+markers",
         "name": "PROMETHEUS 1.2",
         "showlegend": false,
         "text": [
          "",
          "H"
         ],
         "textfont": {
          "color": "black",
          "size": 25
         },
         "type": "scatter",
         "x": [
          153.15610230579796,
          null
         ],
         "xaxis": "x",
         "y": [
          0.9162835262952043,
          null
         ],
         "yaxis": "y"
        },
        {
         "marker": {
          "color": "goldenrod",
          "line": {
           "color": "black",
           "width": 0.5
          },
          "size": [
           12,
           30
          ]
         },
         "mode": "text+markers",
         "name": "PROMETHEUS 1.2",
         "showlegend": false,
         "text": [
          "",
          "F"
         ],
         "textfont": {
          "color": "black",
          "size": 25
         },
         "type": "scatter",
         "x": [
          153.15610230579796,
          null
         ],
         "xaxis": "x",
         "y": [
          0.9162835262952043,
          null
         ],
         "yaxis": "y"
        },
        {
         "marker": {
          "color": "goldenrod",
          "line": {
           "color": "black",
           "width": 0.5
          },
          "size": [
           12,
           30
          ]
         },
         "mode": "text+markers",
         "name": "PROMETHEUS 1.2",
         "showlegend": false,
         "text": [
          "",
          "Ef"
         ],
         "textfont": {
          "color": "black",
          "size": 25
         },
         "type": "scatter",
         "x": [
          153.15610230579796,
          154.00602234340568
         ],
         "xaxis": "x",
         "y": [
          0.9162835262952043,
          0.924857275878859
         ],
         "yaxis": "y"
        },
        {
         "marker": {
          "color": "tomato",
          "line": {
           "color": "black",
           "width": 0.5
          },
          "size": [
           12,
           30
          ]
         },
         "mode": "text+markers",
         "name": "REMIND 2.1",
         "showlegend": false,
         "text": [
          "",
          "B"
         ],
         "textfont": {
          "color": "black",
          "size": 25
         },
         "type": "scatter",
         "x": [
          180.78106000000025,
          172.83220000000028
         ],
         "xaxis": "x",
         "y": [
          1.1754351148627167,
          0.9505513493163282
         ],
         "yaxis": "y"
        },
        {
         "marker": {
          "color": "tomato",
          "line": {
           "color": "black",
           "width": 0.5
          },
          "size": [
           12,
           30
          ]
         },
         "mode": "text+markers",
         "name": "REMIND 2.1",
         "showlegend": false,
         "text": [
          "",
          "C"
         ],
         "textfont": {
          "color": "black",
          "size": 25
         },
         "type": "scatter",
         "x": [
          180.78106000000025,
          179.1288800000002
         ],
         "xaxis": "x",
         "y": [
          1.1754351148627167,
          1.0070930596715244
         ],
         "yaxis": "y"
        },
        {
         "marker": {
          "color": "tomato",
          "line": {
           "color": "black",
           "width": 0.5
          },
          "size": [
           12,
           30
          ]
         },
         "mode": "text+markers",
         "name": "REMIND 2.1",
         "showlegend": false,
         "text": [
          "",
          "N"
         ],
         "textfont": {
          "color": "black",
          "size": 25
         },
         "type": "scatter",
         "x": [
          180.78106000000025,
          181.05764000000045
         ],
         "xaxis": "x",
         "y": [
          1.1754351148627167,
          1.1766300579607274
         ],
         "yaxis": "y"
        },
        {
         "marker": {
          "color": "tomato",
          "line": {
           "color": "black",
           "width": 0.5
          },
          "size": [
           12,
           30
          ]
         },
         "mode": "text+markers",
         "name": "REMIND 2.1",
         "showlegend": false,
         "text": [
          "",
          "V"
         ],
         "textfont": {
          "color": "black",
          "size": 25
         },
         "type": "scatter",
         "x": [
          180.78106000000025,
          182.0649000000003
         ],
         "xaxis": "x",
         "y": [
          1.1754351148627167,
          1.1809849264778067
         ],
         "yaxis": "y"
        },
        {
         "marker": {
          "color": "tomato",
          "line": {
           "color": "black",
           "width": 0.5
          },
          "size": [
           12,
           30
          ]
         },
         "mode": "text+markers",
         "name": "REMIND 2.1",
         "showlegend": false,
         "text": [
          "",
          "El"
         ],
         "textfont": {
          "color": "black",
          "size": 25
         },
         "type": "scatter",
         "x": [
          180.78106000000025,
          185.3829400000002
         ],
         "xaxis": "x",
         "y": [
          1.1754351148627167,
          1.1873239710674446
         ],
         "yaxis": "y"
        },
        {
         "marker": {
          "color": "tomato",
          "line": {
           "color": "black",
           "width": 0.5
          },
          "size": [
           12,
           30
          ]
         },
         "mode": "text+markers",
         "name": "REMIND 2.1",
         "showlegend": false,
         "text": [
          "",
          "H"
         ],
         "textfont": {
          "color": "black",
          "size": 25
         },
         "type": "scatter",
         "x": [
          180.78106000000025,
          184.06916
         ],
         "xaxis": "x",
         "y": [
          1.1754351148627167,
          1.2062851083870267
         ],
         "yaxis": "y"
        },
        {
         "marker": {
          "color": "tomato",
          "line": {
           "color": "black",
           "width": 0.5
          },
          "size": [
           12,
           30
          ]
         },
         "mode": "text+markers",
         "name": "REMIND 2.1",
         "showlegend": false,
         "text": [
          "",
          "F"
         ],
         "textfont": {
          "color": "black",
          "size": 25
         },
         "type": "scatter",
         "x": [
          180.78106000000025,
          228.04064000000017
         ],
         "xaxis": "x",
         "y": [
          1.1754351148627167,
          1.1362984392398465
         ],
         "yaxis": "y"
        },
        {
         "marker": {
          "color": "tomato",
          "line": {
           "color": "black",
           "width": 0.5
          },
          "size": [
           12,
           30
          ]
         },
         "mode": "text+markers",
         "name": "REMIND 2.1",
         "showlegend": false,
         "text": [
          "",
          "Ef"
         ],
         "textfont": {
          "color": "black",
          "size": 25
         },
         "type": "scatter",
         "x": [
          180.78106000000025,
          189.19750000000022
         ],
         "xaxis": "x",
         "y": [
          1.1754351148627167,
          1.2157297547963026
         ],
         "yaxis": "y"
        },
        {
         "marker": {
          "color": "forestgreen",
          "line": {
           "color": "black",
           "width": 0.5
          },
          "size": [
           12,
           30
          ]
         },
         "mode": "text+markers",
         "name": "WITCH 5.0",
         "showlegend": false,
         "text": [
          "",
          "B"
         ],
         "textfont": {
          "color": "black",
          "size": 25
         },
         "type": "scatter",
         "x": [
          200.8516956749222,
          200.96621516416417
         ],
         "xaxis": "x",
         "y": [
          0.8754224366316201,
          0.7902714806612379
         ],
         "yaxis": "y"
        },
        {
         "marker": {
          "color": "forestgreen",
          "line": {
           "color": "black",
           "width": 0.5
          },
          "size": [
           12,
           30
          ]
         },
         "mode": "text+markers",
         "name": "WITCH 5.0",
         "showlegend": false,
         "text": [
          "",
          "C"
         ],
         "textfont": {
          "color": "black",
          "size": 25
         },
         "type": "scatter",
         "x": [
          200.8516956749222,
          217.15515194749196
         ],
         "xaxis": "x",
         "y": [
          0.8754224366316201,
          0.6126542520689606
         ],
         "yaxis": "y"
        },
        {
         "marker": {
          "color": "forestgreen",
          "line": {
           "color": "black",
           "width": 0.5
          },
          "size": [
           12,
           30
          ]
         },
         "mode": "text+markers",
         "name": "WITCH 5.0",
         "showlegend": false,
         "text": [
          "",
          "N"
         ],
         "textfont": {
          "color": "black",
          "size": 25
         },
         "type": "scatter",
         "x": [
          200.8516956749222,
          202.10723190669614
         ],
         "xaxis": "x",
         "y": [
          0.8754224366316201,
          0.8755631446526075
         ],
         "yaxis": "y"
        },
        {
         "marker": {
          "color": "forestgreen",
          "line": {
           "color": "black",
           "width": 0.5
          },
          "size": [
           12,
           30
          ]
         },
         "mode": "text+markers",
         "name": "WITCH 5.0",
         "showlegend": false,
         "text": [
          "",
          "V"
         ],
         "textfont": {
          "color": "black",
          "size": 25
         },
         "type": "scatter",
         "x": [
          200.8516956749222,
          200.80993279271797
         ],
         "xaxis": "x",
         "y": [
          0.8754224366316201,
          0.8753647169033668
         ],
         "yaxis": "y"
        },
        {
         "marker": {
          "color": "forestgreen",
          "line": {
           "color": "black",
           "width": 0.5
          },
          "size": [
           12,
           30
          ]
         },
         "mode": "text+markers",
         "name": "WITCH 5.0",
         "showlegend": false,
         "text": [
          "",
          "El"
         ],
         "textfont": {
          "color": "black",
          "size": 25
         },
         "type": "scatter",
         "x": [
          200.8516956749222,
          226.3859281075861
         ],
         "xaxis": "x",
         "y": [
          0.8754224366316201,
          1.0932660280355457
         ],
         "yaxis": "y"
        },
        {
         "marker": {
          "color": "forestgreen",
          "line": {
           "color": "black",
           "width": 0.5
          },
          "size": [
           12,
           30
          ]
         },
         "mode": "text+markers",
         "name": "WITCH 5.0",
         "showlegend": false,
         "text": [
          "",
          "H"
         ],
         "textfont": {
          "color": "black",
          "size": 25
         },
         "type": "scatter",
         "x": [
          200.8516956749222,
          200.93257848087796
         ],
         "xaxis": "x",
         "y": [
          0.8754224366316201,
          0.8750940978773719
         ],
         "yaxis": "y"
        },
        {
         "marker": {
          "color": "forestgreen",
          "line": {
           "color": "black",
           "width": 0.5
          },
          "size": [
           12,
           30
          ]
         },
         "mode": "text+markers",
         "name": "WITCH 5.0",
         "showlegend": false,
         "text": [
          "",
          "F"
         ],
         "textfont": {
          "color": "black",
          "size": 25
         },
         "type": "scatter",
         "x": [
          200.8516956749222,
          216.15006658413404
         ],
         "xaxis": "x",
         "y": [
          0.8754224366316201,
          1.2578090335615901
         ],
         "yaxis": "y"
        },
        {
         "marker": {
          "color": "forestgreen",
          "line": {
           "color": "black",
           "width": 0.5
          },
          "size": [
           12,
           30
          ]
         },
         "mode": "text+markers",
         "name": "WITCH 5.0",
         "showlegend": false,
         "text": [
          "",
          "Ef"
         ],
         "textfont": {
          "color": "black",
          "size": 25
         },
         "type": "scatter",
         "x": [
          200.8516956749222,
          200.08589334717817
         ],
         "xaxis": "x",
         "y": [
          0.8754224366316201,
          0.8553232403824472
         ],
         "yaxis": "y"
        },
        {
         "marker": {
          "color": "darkgrey",
          "line": {
           "color": "black",
           "width": 0.5
          },
          "size": [
           12,
           30
          ]
         },
         "mode": "text+markers",
         "name": "Euro-Calliope 2.0",
         "showlegend": false,
         "text": [
          "",
          "B"
         ],
         "textfont": {
          "color": "black",
          "size": 25
         },
         "type": "scatter",
         "x": [
          167.77213644825633,
          167.77213644825633
         ],
         "xaxis": "x",
         "y": [
          0.9996545960963845,
          0.9996545960963845
         ],
         "yaxis": "y"
        },
        {
         "marker": {
          "color": "darkgrey",
          "line": {
           "color": "black",
           "width": 0.5
          },
          "size": [
           12,
           30
          ]
         },
         "mode": "text+markers",
         "name": "Euro-Calliope 2.0",
         "showlegend": false,
         "text": [
          "",
          "C"
         ],
         "textfont": {
          "color": "black",
          "size": 25
         },
         "type": "scatter",
         "x": [
          167.77213644825633,
          167.77213644825633
         ],
         "xaxis": "x",
         "y": [
          0.9996545960963845,
          0.9996545960963845
         ],
         "yaxis": "y"
        },
        {
         "marker": {
          "color": "darkgrey",
          "line": {
           "color": "black",
           "width": 0.5
          },
          "size": [
           12,
           30
          ]
         },
         "mode": "text+markers",
         "name": "Euro-Calliope 2.0",
         "showlegend": false,
         "text": [
          "",
          "N"
         ],
         "textfont": {
          "color": "black",
          "size": 25
         },
         "type": "scatter",
         "x": [
          167.77213644825633,
          158.79459620063153
         ],
         "xaxis": "x",
         "y": [
          0.9996545960963845,
          0.9995761437571783
         ],
         "yaxis": "y"
        },
        {
         "marker": {
          "color": "darkgrey",
          "line": {
           "color": "black",
           "width": 0.5
          },
          "size": [
           12,
           30
          ]
         },
         "mode": "text+markers",
         "name": "Euro-Calliope 2.0",
         "showlegend": false,
         "text": [
          "",
          "V"
         ],
         "textfont": {
          "color": "black",
          "size": 25
         },
         "type": "scatter",
         "x": [
          167.77213644825633,
          167.77213644825633
         ],
         "xaxis": "x",
         "y": [
          0.9996545960963845,
          0.99965689648285
         ],
         "yaxis": "y"
        },
        {
         "marker": {
          "color": "darkgrey",
          "line": {
           "color": "black",
           "width": 0.5
          },
          "size": [
           12,
           30
          ]
         },
         "mode": "text+markers",
         "name": "Euro-Calliope 2.0",
         "showlegend": false,
         "text": [
          "",
          "El"
         ],
         "textfont": {
          "color": "black",
          "size": 25
         },
         "type": "scatter",
         "x": [
          167.77213644825633,
          188.30106930401053
         ],
         "xaxis": "x",
         "y": [
          0.9996545960963845,
          0.9999870515314768
         ],
         "yaxis": "y"
        },
        {
         "marker": {
          "color": "darkgrey",
          "line": {
           "color": "black",
           "width": 0.5
          },
          "size": [
           12,
           30
          ]
         },
         "mode": "text+markers",
         "name": "Euro-Calliope 2.0",
         "showlegend": false,
         "text": [
          "",
          "H"
         ],
         "textfont": {
          "color": "black",
          "size": 25
         },
         "type": "scatter",
         "x": [
          167.77213644825633,
          216.33695365293136
         ],
         "xaxis": "x",
         "y": [
          0.9996545960963845,
          0.9996763174485367
         ],
         "yaxis": "y"
        },
        {
         "marker": {
          "color": "darkgrey",
          "line": {
           "color": "black",
           "width": 0.5
          },
          "size": [
           12,
           30
          ]
         },
         "mode": "text+markers",
         "name": "Euro-Calliope 2.0",
         "showlegend": false,
         "text": [
          "",
          "F"
         ],
         "textfont": {
          "color": "black",
          "size": 25
         },
         "type": "scatter",
         "x": [
          167.77213644825633,
          167.77213644825633
         ],
         "xaxis": "x",
         "y": [
          0.9996545960963845,
          0.9996522073927185
         ],
         "yaxis": "y"
        },
        {
         "marker": {
          "color": "darkgrey",
          "line": {
           "color": "black",
           "width": 0.5
          },
          "size": [
           12,
           30
          ]
         },
         "mode": "text+markers",
         "name": "Euro-Calliope 2.0",
         "showlegend": false,
         "text": [
          "",
          "Ef"
         ],
         "textfont": {
          "color": "black",
          "size": 25
         },
         "type": "scatter",
         "x": [
          167.77213644825633,
          167.77213644825633
         ],
         "xaxis": "x",
         "y": [
          0.9996545960963845,
          0.9996539478395121
         ],
         "yaxis": "y"
        },
        {
         "marker": {
          "color": "royalblue",
          "line": {
           "color": "black",
           "width": 0.5
          },
          "size": [
           12,
           30
          ]
         },
         "mode": "text+markers",
         "name": "TIAM-ECN 1.2",
         "showlegend": false,
         "text": [
          "",
          "B"
         ],
         "textfont": {
          "color": "black",
          "size": 25
         },
         "type": "scatter",
         "x": [
          113.02220000000011,
          171.75519133128637
         ],
         "xaxis": "x",
         "y": [
          0.7112046604572883,
          0.6519178300027703
         ],
         "yaxis": "y"
        },
        {
         "marker": {
          "color": "royalblue",
          "line": {
           "color": "black",
           "width": 0.5
          },
          "size": [
           12,
           30
          ]
         },
         "mode": "text+markers",
         "name": "TIAM-ECN 1.2",
         "showlegend": false,
         "text": [
          "",
          "C"
         ],
         "textfont": {
          "color": "black",
          "size": 25
         },
         "type": "scatter",
         "x": [
          113.02220000000011,
          175.09290813123607
         ],
         "xaxis": "x",
         "y": [
          0.7112046604572883,
          0.6902276064767252
         ],
         "yaxis": "y"
        },
        {
         "marker": {
          "color": "royalblue",
          "line": {
           "color": "black",
           "width": 0.5
          },
          "size": [
           12,
           30
          ]
         },
         "mode": "text+markers",
         "name": "TIAM-ECN 1.2",
         "showlegend": false,
         "text": [
          "",
          "N"
         ],
         "textfont": {
          "color": "black",
          "size": 25
         },
         "type": "scatter",
         "x": [
          113.02220000000011,
          172.96175915898675
         ],
         "xaxis": "x",
         "y": [
          0.7112046604572883,
          0.6841394372761416
         ],
         "yaxis": "y"
        },
        {
         "marker": {
          "color": "royalblue",
          "line": {
           "color": "black",
           "width": 0.5
          },
          "size": [
           12,
           30
          ]
         },
         "mode": "text+markers",
         "name": "TIAM-ECN 1.2",
         "showlegend": false,
         "text": [
          "",
          "V"
         ],
         "textfont": {
          "color": "black",
          "size": 25
         },
         "type": "scatter",
         "x": [
          113.02220000000011,
          243.7383834455295
         ],
         "xaxis": "x",
         "y": [
          0.7112046604572883,
          0.6876829688374797
         ],
         "yaxis": "y"
        },
        {
         "marker": {
          "color": "royalblue",
          "line": {
           "color": "black",
           "width": 0.5
          },
          "size": [
           12,
           30
          ]
         },
         "mode": "text+markers",
         "name": "TIAM-ECN 1.2",
         "showlegend": false,
         "text": [
          "",
          "El"
         ],
         "textfont": {
          "color": "black",
          "size": 25
         },
         "type": "scatter",
         "x": [
          113.02220000000011,
          246.10016016157078
         ],
         "xaxis": "x",
         "y": [
          0.7112046604572883,
          0.7245201319137357
         ],
         "yaxis": "y"
        },
        {
         "marker": {
          "color": "royalblue",
          "line": {
           "color": "black",
           "width": 0.5
          },
          "size": [
           12,
           30
          ]
         },
         "mode": "text+markers",
         "name": "TIAM-ECN 1.2",
         "showlegend": false,
         "text": [
          "",
          "H"
         ],
         "textfont": {
          "color": "black",
          "size": 25
         },
         "type": "scatter",
         "x": [
          113.02220000000011,
          175.92878591780573
         ],
         "xaxis": "x",
         "y": [
          0.7112046604572883,
          0.7247584152493668
         ],
         "yaxis": "y"
        },
        {
         "marker": {
          "color": "royalblue",
          "line": {
           "color": "black",
           "width": 0.5
          },
          "size": [
           12,
           30
          ]
         },
         "mode": "text+markers",
         "name": "TIAM-ECN 1.2",
         "showlegend": false,
         "text": [
          "",
          "F"
         ],
         "textfont": {
          "color": "black",
          "size": 25
         },
         "type": "scatter",
         "x": [
          113.02220000000011,
          null
         ],
         "xaxis": "x",
         "y": [
          0.7112046604572883,
          null
         ],
         "yaxis": "y"
        },
        {
         "marker": {
          "color": "royalblue",
          "line": {
           "color": "black",
           "width": 0.5
          },
          "size": [
           12,
           30
          ]
         },
         "mode": "text+markers",
         "name": "TIAM-ECN 1.2",
         "showlegend": false,
         "text": [
          "",
          "Ef"
         ],
         "textfont": {
          "color": "black",
          "size": 25
         },
         "type": "scatter",
         "x": [
          113.02220000000011,
          156.62811260517037
         ],
         "xaxis": "x",
         "y": [
          0.7112046604572883,
          0.9800638603432521
         ],
         "yaxis": "y"
        },
        {
         "marker": {
          "color": "purple",
          "line": {
           "color": "black",
           "width": 0.5
          },
          "size": [
           12,
           30
          ]
         },
         "mode": "text+markers",
         "name": "MESSAGEix-GLOBIOM 1.2",
         "showlegend": false,
         "text": [
          "",
          "B"
         ],
         "textfont": {
          "color": "black",
          "size": 25
         },
         "type": "scatter",
         "x": [
          170.61919135807875,
          168.3181968516799
         ],
         "xaxis": "x",
         "y": [
          0.862218374011189,
          0.8512739606315562
         ],
         "yaxis": "y"
        },
        {
         "marker": {
          "color": "purple",
          "line": {
           "color": "black",
           "width": 0.5
          },
          "size": [
           12,
           30
          ]
         },
         "mode": "text+markers",
         "name": "MESSAGEix-GLOBIOM 1.2",
         "showlegend": false,
         "text": [
          "",
          "C"
         ],
         "textfont": {
          "color": "black",
          "size": 25
         },
         "type": "scatter",
         "x": [
          170.61919135807875,
          169.72546002860418
         ],
         "xaxis": "x",
         "y": [
          0.862218374011189,
          0.8629454612803449
         ],
         "yaxis": "y"
        },
        {
         "marker": {
          "color": "purple",
          "line": {
           "color": "black",
           "width": 0.5
          },
          "size": [
           12,
           30
          ]
         },
         "mode": "text+markers",
         "name": "MESSAGEix-GLOBIOM 1.2",
         "showlegend": false,
         "text": [
          "",
          "N"
         ],
         "textfont": {
          "color": "black",
          "size": 25
         },
         "type": "scatter",
         "x": [
          170.61919135807875,
          168.79696353550753
         ],
         "xaxis": "x",
         "y": [
          0.862218374011189,
          0.8610710735687075
         ],
         "yaxis": "y"
        },
        {
         "marker": {
          "color": "purple",
          "line": {
           "color": "black",
           "width": 0.5
          },
          "size": [
           12,
           30
          ]
         },
         "mode": "text+markers",
         "name": "MESSAGEix-GLOBIOM 1.2",
         "showlegend": false,
         "text": [
          "",
          "V"
         ],
         "textfont": {
          "color": "black",
          "size": 25
         },
         "type": "scatter",
         "x": [
          170.61919135807875,
          170.23200616110717
         ],
         "xaxis": "x",
         "y": [
          0.862218374011189,
          0.8710454277076423
         ],
         "yaxis": "y"
        },
        {
         "marker": {
          "color": "purple",
          "line": {
           "color": "black",
           "width": 0.5
          },
          "size": [
           12,
           30
          ]
         },
         "mode": "text+markers",
         "name": "MESSAGEix-GLOBIOM 1.2",
         "showlegend": false,
         "text": [
          "",
          "El"
         ],
         "textfont": {
          "color": "black",
          "size": 25
         },
         "type": "scatter",
         "x": [
          170.61919135807875,
          175.06032055811784
         ],
         "xaxis": "x",
         "y": [
          0.862218374011189,
          0.8911972160439676
         ],
         "yaxis": "y"
        },
        {
         "marker": {
          "color": "purple",
          "line": {
           "color": "black",
           "width": 0.5
          },
          "size": [
           12,
           30
          ]
         },
         "mode": "text+markers",
         "name": "MESSAGEix-GLOBIOM 1.2",
         "showlegend": false,
         "text": [
          "",
          "H"
         ],
         "textfont": {
          "color": "black",
          "size": 25
         },
         "type": "scatter",
         "x": [
          170.61919135807875,
          168.11944649111547
         ],
         "xaxis": "x",
         "y": [
          0.862218374011189,
          0.8565501224955973
         ],
         "yaxis": "y"
        },
        {
         "marker": {
          "color": "purple",
          "line": {
           "color": "black",
           "width": 0.5
          },
          "size": [
           12,
           30
          ]
         },
         "mode": "text+markers",
         "name": "MESSAGEix-GLOBIOM 1.2",
         "showlegend": false,
         "text": [
          "",
          "F"
         ],
         "textfont": {
          "color": "black",
          "size": 25
         },
         "type": "scatter",
         "x": [
          170.61919135807875,
          223.6294529214165
         ],
         "xaxis": "x",
         "y": [
          0.862218374011189,
          0.9104490793644738
         ],
         "yaxis": "y"
        },
        {
         "marker": {
          "color": "purple",
          "line": {
           "color": "black",
           "width": 0.5
          },
          "size": [
           12,
           30
          ]
         },
         "mode": "text+markers",
         "name": "MESSAGEix-GLOBIOM 1.2",
         "showlegend": false,
         "text": [
          "",
          "Ef"
         ],
         "textfont": {
          "color": "black",
          "size": 25
         },
         "type": "scatter",
         "x": [
          170.61919135807875,
          null
         ],
         "xaxis": "x",
         "y": [
          0.862218374011189,
          null
         ],
         "yaxis": "y"
        },
        {
         "marker": {
          "color": "palegreen",
          "line": {
           "color": "black",
           "width": 0.5
          },
          "size": [
           12,
           30
          ]
         },
         "mode": "text+markers",
         "name": "PRIMES 2022",
         "showlegend": false,
         "text": [
          "",
          "B"
         ],
         "textfont": {
          "color": "black",
          "size": 25
         },
         "type": "scatter",
         "x": [
          150.3584051058233,
          150.2874954799886
         ],
         "xaxis": "x",
         "y": [
          0.9402672263099785,
          0.9226164535040409
         ],
         "yaxis": "y"
        },
        {
         "marker": {
          "color": "palegreen",
          "line": {
           "color": "black",
           "width": 0.5
          },
          "size": [
           12,
           30
          ]
         },
         "mode": "text+markers",
         "name": "PRIMES 2022",
         "showlegend": false,
         "text": [
          "",
          "C"
         ],
         "textfont": {
          "color": "black",
          "size": 25
         },
         "type": "scatter",
         "x": [
          150.3584051058233,
          149.43764597256632
         ],
         "xaxis": "x",
         "y": [
          0.9402672263099785,
          0.8626522877049786
         ],
         "yaxis": "y"
        },
        {
         "marker": {
          "color": "palegreen",
          "line": {
           "color": "black",
           "width": 0.5
          },
          "size": [
           12,
           30
          ]
         },
         "mode": "text+markers",
         "name": "PRIMES 2022",
         "showlegend": false,
         "text": [
          "",
          "N"
         ],
         "textfont": {
          "color": "black",
          "size": 25
         },
         "type": "scatter",
         "x": [
          150.3584051058233,
          148.08713959367697
         ],
         "xaxis": "x",
         "y": [
          0.9402672263099785,
          0.9351028708137287
         ],
         "yaxis": "y"
        },
        {
         "marker": {
          "color": "palegreen",
          "line": {
           "color": "black",
           "width": 0.5
          },
          "size": [
           12,
           30
          ]
         },
         "mode": "text+markers",
         "name": "PRIMES 2022",
         "showlegend": false,
         "text": [
          "",
          "V"
         ],
         "textfont": {
          "color": "black",
          "size": 25
         },
         "type": "scatter",
         "x": [
          150.3584051058233,
          null
         ],
         "xaxis": "x",
         "y": [
          0.9402672263099785,
          null
         ],
         "yaxis": "y"
        },
        {
         "marker": {
          "color": "palegreen",
          "line": {
           "color": "black",
           "width": 0.5
          },
          "size": [
           12,
           30
          ]
         },
         "mode": "text+markers",
         "name": "PRIMES 2022",
         "showlegend": false,
         "text": [
          "",
          "El"
         ],
         "textfont": {
          "color": "black",
          "size": 25
         },
         "type": "scatter",
         "x": [
          150.3584051058233,
          152.01075355918397
         ],
         "xaxis": "x",
         "y": [
          0.9402672263099785,
          0.9397270270553081
         ],
         "yaxis": "y"
        },
        {
         "marker": {
          "color": "palegreen",
          "line": {
           "color": "black",
           "width": 0.5
          },
          "size": [
           12,
           30
          ]
         },
         "mode": "text+markers",
         "name": "PRIMES 2022",
         "showlegend": false,
         "text": [
          "",
          "H"
         ],
         "textfont": {
          "color": "black",
          "size": 25
         },
         "type": "scatter",
         "x": [
          150.3584051058233,
          153.60363395968034
         ],
         "xaxis": "x",
         "y": [
          0.9402672263099785,
          0.939621654727886
         ],
         "yaxis": "y"
        },
        {
         "marker": {
          "color": "palegreen",
          "line": {
           "color": "black",
           "width": 0.5
          },
          "size": [
           12,
           30
          ]
         },
         "mode": "text+markers",
         "name": "PRIMES 2022",
         "showlegend": false,
         "text": [
          "",
          "F"
         ],
         "textfont": {
          "color": "black",
          "size": 25
         },
         "type": "scatter",
         "x": [
          150.3584051058233,
          null
         ],
         "xaxis": "x",
         "y": [
          0.9402672263099785,
          null
         ],
         "yaxis": "y"
        },
        {
         "marker": {
          "color": "palegreen",
          "line": {
           "color": "black",
           "width": 0.5
          },
          "size": [
           12,
           30
          ]
         },
         "mode": "text+markers",
         "name": "PRIMES 2022",
         "showlegend": false,
         "text": [
          "",
          "Ef"
         ],
         "textfont": {
          "color": "black",
          "size": 25
         },
         "type": "scatter",
         "x": [
          150.3584051058233,
          161.58528211112116
         ],
         "xaxis": "x",
         "y": [
          0.9402672263099785,
          0.945458072149441
         ],
         "yaxis": "y"
        },
        {
         "hovertemplate": "<b>DIAG-C400-lin</b> <br>ERT: %{y:.2f} <br>Carbon capture: %{x:.2f}",
         "line": {
          "width": 4
         },
         "marker": {
          "color": "lightskyblue",
          "line": {
           "color": "black",
           "width": 4
          },
          "size": 30,
          "symbol": "square"
         },
         "mode": "markers+text",
         "name": "IMAGE",
         "showlegend": true,
         "type": "scatter",
         "x": [
          -1000
         ],
         "xaxis": "x",
         "y": [
          1000
         ],
         "yaxis": "y"
        },
        {
         "hovertemplate": "<b>DIAG-C400-lin</b> <br>ERT: %{y:.2f} <br>Carbon capture: %{x:.2f}",
         "line": {
          "width": 4
         },
         "marker": {
          "color": "goldenrod",
          "line": {
           "color": "black",
           "width": 4
          },
          "size": 30,
          "symbol": "square"
         },
         "mode": "markers+text",
         "name": "PROMETHEUS",
         "showlegend": true,
         "type": "scatter",
         "x": [
          -1000
         ],
         "xaxis": "x",
         "y": [
          1000
         ],
         "yaxis": "y"
        },
        {
         "hovertemplate": "<b>DIAG-C400-lin</b> <br>ERT: %{y:.2f} <br>Carbon capture: %{x:.2f}",
         "line": {
          "width": 4
         },
         "marker": {
          "color": "tomato",
          "line": {
           "color": "black",
           "width": 4
          },
          "size": 30,
          "symbol": "square"
         },
         "mode": "markers+text",
         "name": "REMIND",
         "showlegend": true,
         "type": "scatter",
         "x": [
          -1000
         ],
         "xaxis": "x",
         "y": [
          1000
         ],
         "yaxis": "y"
        },
        {
         "hovertemplate": "<b>DIAG-C400-lin</b> <br>ERT: %{y:.2f} <br>Carbon capture: %{x:.2f}",
         "line": {
          "width": 4
         },
         "marker": {
          "color": "forestgreen",
          "line": {
           "color": "black",
           "width": 4
          },
          "size": 30,
          "symbol": "square"
         },
         "mode": "markers+text",
         "name": "WITCH",
         "showlegend": true,
         "type": "scatter",
         "x": [
          -1000
         ],
         "xaxis": "x",
         "y": [
          1000
         ],
         "yaxis": "y"
        },
        {
         "hovertemplate": "<b>DIAG-C400-lin</b> <br>ERT: %{y:.2f} <br>Carbon capture: %{x:.2f}",
         "line": {
          "width": 4
         },
         "marker": {
          "color": "darkgrey",
          "line": {
           "color": "black",
           "width": 4
          },
          "size": 30,
          "symbol": "square"
         },
         "mode": "markers+text",
         "name": "Euro-Calliope",
         "showlegend": true,
         "type": "scatter",
         "x": [
          -1000
         ],
         "xaxis": "x",
         "y": [
          1000
         ],
         "yaxis": "y"
        },
        {
         "hovertemplate": "<b>DIAG-C400-lin</b> <br>ERT: %{y:.2f} <br>Carbon capture: %{x:.2f}",
         "line": {
          "width": 4
         },
         "marker": {
          "color": "royalblue",
          "line": {
           "color": "black",
           "width": 4
          },
          "size": 30,
          "symbol": "square"
         },
         "mode": "markers+text",
         "name": "TIAM-ECN",
         "showlegend": true,
         "type": "scatter",
         "x": [
          -1000
         ],
         "xaxis": "x",
         "y": [
          1000
         ],
         "yaxis": "y"
        },
        {
         "hovertemplate": "<b>DIAG-C400-lin</b> <br>ERT: %{y:.2f} <br>Carbon capture: %{x:.2f}",
         "line": {
          "width": 4
         },
         "marker": {
          "color": "purple",
          "line": {
           "color": "black",
           "width": 4
          },
          "size": 30,
          "symbol": "square"
         },
         "mode": "markers+text",
         "name": "MESSAGE",
         "showlegend": true,
         "type": "scatter",
         "x": [
          -1000
         ],
         "xaxis": "x",
         "y": [
          1000
         ],
         "yaxis": "y"
        },
        {
         "hovertemplate": "<b>DIAG-C400-lin</b> <br>ERT: %{y:.2f} <br>Carbon capture: %{x:.2f}",
         "line": {
          "width": 4
         },
         "marker": {
          "color": "palegreen",
          "line": {
           "color": "black",
           "width": 4
          },
          "size": 30,
          "symbol": "square"
         },
         "mode": "markers+text",
         "name": "PRIMES",
         "showlegend": true,
         "type": "scatter",
         "x": [
          -1000
         ],
         "xaxis": "x",
         "y": [
          1000
         ],
         "yaxis": "y"
        },
        {
         "hovertemplate": "<b>DIAG-C400-lin</b> <br>ERT: %{y:.2f} <br>Carbon capture: %{x:.2f}",
         "line": {
          "width": 4
         },
         "marker": {
          "color": "black",
          "line": {
           "color": "black",
           "width": 4
          },
          "size": 12,
          "symbol": "circle"
         },
         "mode": "markers",
         "name": "IMAGE",
         "showlegend": false,
         "text": "<b>-</b>",
         "type": "scatter",
         "x": [
          184.65368402071772
         ],
         "xaxis": "x",
         "y": [
          0.9592446713291976
         ],
         "yaxis": "y"
        },
        {
         "hovertemplate": "<b>DIAG-C400-lin</b> <br>ERT: %{y:.2f} <br>Carbon capture: %{x:.2f}",
         "line": {
          "width": 4
         },
         "marker": {
          "color": "black",
          "line": {
           "color": "black",
           "width": 4
          },
          "size": 12,
          "symbol": "circle"
         },
         "mode": "markers",
         "name": "PROMETHEUS",
         "showlegend": false,
         "text": "<b>-</b>",
         "type": "scatter",
         "x": [
          153.15610230579796
         ],
         "xaxis": "x",
         "y": [
          0.9162835262952043
         ],
         "yaxis": "y"
        },
        {
         "hovertemplate": "<b>DIAG-C400-lin</b> <br>ERT: %{y:.2f} <br>Carbon capture: %{x:.2f}",
         "line": {
          "width": 4
         },
         "marker": {
          "color": "black",
          "line": {
           "color": "black",
           "width": 4
          },
          "size": 12,
          "symbol": "circle"
         },
         "mode": "markers",
         "name": "REMIND",
         "showlegend": false,
         "text": "<b>-</b>",
         "type": "scatter",
         "x": [
          180.78106000000025
         ],
         "xaxis": "x",
         "y": [
          1.1754351148627167
         ],
         "yaxis": "y"
        },
        {
         "hovertemplate": "<b>DIAG-C400-lin</b> <br>ERT: %{y:.2f} <br>Carbon capture: %{x:.2f}",
         "line": {
          "width": 4
         },
         "marker": {
          "color": "black",
          "line": {
           "color": "black",
           "width": 4
          },
          "size": 12,
          "symbol": "circle"
         },
         "mode": "markers",
         "name": "WITCH",
         "showlegend": false,
         "text": "<b>-</b>",
         "type": "scatter",
         "x": [
          200.8516956749222
         ],
         "xaxis": "x",
         "y": [
          0.8754224366316201
         ],
         "yaxis": "y"
        },
        {
         "hovertemplate": "<b>DIAG-C400-lin</b> <br>ERT: %{y:.2f} <br>Carbon capture: %{x:.2f}",
         "line": {
          "width": 4
         },
         "marker": {
          "color": "black",
          "line": {
           "color": "black",
           "width": 4
          },
          "size": 12,
          "symbol": "circle"
         },
         "mode": "markers",
         "name": "Euro-Calliope",
         "showlegend": false,
         "text": "<b>-</b>",
         "type": "scatter",
         "x": [
          167.77213644825633
         ],
         "xaxis": "x",
         "y": [
          0.9996545960963845
         ],
         "yaxis": "y"
        },
        {
         "hovertemplate": "<b>DIAG-C400-lin</b> <br>ERT: %{y:.2f} <br>Carbon capture: %{x:.2f}",
         "line": {
          "width": 4
         },
         "marker": {
          "color": "black",
          "line": {
           "color": "black",
           "width": 4
          },
          "size": 12,
          "symbol": "circle"
         },
         "mode": "markers",
         "name": "TIAM-ECN",
         "showlegend": false,
         "text": "<b>-</b>",
         "type": "scatter",
         "x": [
          113.02220000000011
         ],
         "xaxis": "x",
         "y": [
          0.7112046604572883
         ],
         "yaxis": "y"
        },
        {
         "hovertemplate": "<b>DIAG-C400-lin</b> <br>ERT: %{y:.2f} <br>Carbon capture: %{x:.2f}",
         "line": {
          "width": 4
         },
         "marker": {
          "color": "black",
          "line": {
           "color": "black",
           "width": 4
          },
          "size": 12,
          "symbol": "circle"
         },
         "mode": "markers",
         "name": "MESSAGE",
         "showlegend": false,
         "text": "<b>-</b>",
         "type": "scatter",
         "x": [
          170.61919135807875
         ],
         "xaxis": "x",
         "y": [
          0.862218374011189
         ],
         "yaxis": "y"
        },
        {
         "hovertemplate": "<b>DIAG-C400-lin</b> <br>ERT: %{y:.2f} <br>Carbon capture: %{x:.2f}",
         "line": {
          "width": 4
         },
         "marker": {
          "color": "black",
          "line": {
           "color": "black",
           "width": 4
          },
          "size": 12,
          "symbol": "circle"
         },
         "mode": "markers",
         "name": "PRIMES",
         "showlegend": false,
         "text": "<b>-</b>",
         "type": "scatter",
         "x": [
          150.3584051058233
         ],
         "xaxis": "x",
         "y": [
          0.9402672263099785
         ],
         "yaxis": "y"
        },
        {
         "line": {
          "dash": "dash"
         },
         "marker": {
          "color": "silver",
          "line": {
           "color": "black",
           "width": 0
          },
          "size": 35,
          "symbol": "square"
         },
         "mode": "text+lines",
         "showlegend": false,
         "text": "η",
         "textfont": {
          "size": 18
         },
         "type": "scatter",
         "x": [
          0,
          0.475,
          1000
         ],
         "xaxis": "x2",
         "y": [
          0.5124351933977283,
          0.5124351933977283,
          0.5124351933977283
         ],
         "yaxis": "y2"
        },
        {
         "marker": {
          "color": "silver",
          "line": {
           "color": "black",
           "width": 0
          },
          "size": 35,
          "symbol": "square"
         },
         "mode": "text",
         "showlegend": false,
         "text": "+σ",
         "textfont": {
          "size": 18
         },
         "type": "scatter",
         "x": [
          0,
          0.475,
          1000
         ],
         "xaxis": "x2",
         "y": [
          0.5822986587208647,
          0.5822986587208647,
          0.5822986587208647
         ],
         "yaxis": "y2"
        },
        {
         "marker": {
          "color": "silver",
          "line": {
           "color": "black",
           "width": 0
          },
          "size": 35,
          "symbol": "square"
         },
         "mode": "text",
         "showlegend": false,
         "text": "-σ",
         "textfont": {
          "size": 18
         },
         "type": "scatter",
         "x": [
          0,
          0.475,
          1000
         ],
         "xaxis": "x2",
         "y": [
          0.44257172807459183,
          0.44257172807459183,
          0.44257172807459183
         ],
         "yaxis": "y2"
        },
        {
         "marker": {
          "color": "silver",
          "line": {
           "color": "black",
           "width": 0
          },
          "size": 35,
          "symbol": "square"
         },
         "mode": "text",
         "showlegend": false,
         "text": "+2σ",
         "textfont": {
          "size": 18
         },
         "type": "scatter",
         "x": [
          0,
          0.475,
          1000
         ],
         "xaxis": "x2",
         "y": [
          0.6521621240440011,
          0.6521621240440011,
          0.6521621240440011
         ],
         "yaxis": "y2"
        },
        {
         "marker": {
          "color": "silver",
          "line": {
           "color": "black",
           "width": 0
          },
          "size": 35,
          "symbol": "square"
         },
         "mode": "text",
         "showlegend": false,
         "text": "-2σ",
         "textfont": {
          "size": 18
         },
         "type": "scatter",
         "x": [
          0,
          0.475,
          1000
         ],
         "xaxis": "x2",
         "y": [
          0.3727082627514554,
          0.3727082627514554,
          0.3727082627514554
         ],
         "yaxis": "y2"
        },
        {
         "fill": "toself",
         "fillcolor": "silver",
         "line": {
          "color": "silver"
         },
         "opacity": 0.25,
         "showlegend": false,
         "type": "scatter",
         "x": [
          -1000,
          1000,
          1000,
          -1000
         ],
         "xaxis": "x2",
         "y": [
          0.44257172807459183,
          0.44257172807459183,
          0.5822986587208647,
          0.5822986587208647
         ],
         "yaxis": "y2"
        },
        {
         "fill": "toself",
         "fillcolor": "silver",
         "line": {
          "color": "silver"
         },
         "opacity": 0.1,
         "showlegend": false,
         "type": "scatter",
         "x": [
          -1000,
          1000,
          1000,
          -1000
         ],
         "xaxis": "x2",
         "y": [
          0.3727082627514554,
          0.3727082627514554,
          0.6521621240440011,
          0.6521621240440011
         ],
         "yaxis": "y2"
        },
        {
         "line": {
          "dash": "dash"
         },
         "marker": {
          "color": "silver",
          "line": {
           "color": "black",
           "width": 0
          },
          "size": 35,
          "symbol": "square"
         },
         "mode": "text+lines",
         "showlegend": false,
         "text": "η",
         "textfont": {
          "size": 18
         },
         "type": "scatter",
         "x": [
          0.9523302760652061,
          0.9523302760652061,
          0.9523302760652061
         ],
         "xaxis": "x2",
         "y": [
          -1000,
          0.36,
          1000
         ],
         "yaxis": "y2"
        },
        {
         "line": {
          "dash": "dash"
         },
         "marker": {
          "color": "silver",
          "line": {
           "color": "black",
           "width": 0
          },
          "size": 35,
          "symbol": "square"
         },
         "mode": "text",
         "showlegend": false,
         "text": "+σ",
         "textfont": {
          "size": 18
         },
         "type": "scatter",
         "x": [
          1.0883734005463688,
          1.0883734005463688,
          1.0883734005463688
         ],
         "xaxis": "x2",
         "y": [
          -1000,
          0.36,
          1000
         ],
         "yaxis": "y2"
        },
        {
         "line": {
          "dash": "dash"
         },
         "marker": {
          "color": "silver",
          "line": {
           "color": "black",
           "width": 0
          },
          "size": 35,
          "symbol": "square"
         },
         "mode": "text",
         "showlegend": false,
         "text": "-σ",
         "textfont": {
          "size": 18
         },
         "type": "scatter",
         "x": [
          0.8162871515840434,
          0.8162871515840434,
          0.8162871515840434
         ],
         "xaxis": "x2",
         "y": [
          -1000,
          0.36,
          1000
         ],
         "yaxis": "y2"
        },
        {
         "line": {
          "dash": "dash"
         },
         "marker": {
          "color": "silver",
          "line": {
           "color": "black",
           "width": 0
          },
          "size": 35,
          "symbol": "square"
         },
         "mode": "text",
         "showlegend": false,
         "text": "+2σ",
         "textfont": {
          "size": 18
         },
         "type": "scatter",
         "x": [
          1.2244165250275316,
          1.2244165250275316,
          1.2244165250275316
         ],
         "xaxis": "x2",
         "y": [
          -1000,
          0.36,
          1000
         ],
         "yaxis": "y2"
        },
        {
         "line": {
          "dash": "dash"
         },
         "marker": {
          "color": "silver",
          "line": {
           "color": "black",
           "width": 0
          },
          "size": 35,
          "symbol": "square"
         },
         "mode": "text",
         "showlegend": false,
         "text": "-2σ",
         "textfont": {
          "size": 18
         },
         "type": "scatter",
         "x": [
          0.6802440271028807,
          0.6802440271028807,
          0.6802440271028807
         ],
         "xaxis": "x2",
         "y": [
          -1000,
          0.36,
          1000
         ],
         "yaxis": "y2"
        },
        {
         "fill": "toself",
         "fillcolor": "silver",
         "line": {
          "color": "silver"
         },
         "opacity": 0.25,
         "showlegend": false,
         "type": "scatter",
         "x": [
          0.8162871515840434,
          0.8162871515840434,
          1.0883734005463688,
          1.0883734005463688
         ],
         "xaxis": "x2",
         "y": [
          -1000,
          1000,
          1000,
          -1000
         ],
         "yaxis": "y2"
        },
        {
         "fill": "toself",
         "fillcolor": "silver",
         "line": {
          "color": "silver"
         },
         "opacity": 0.1,
         "showlegend": false,
         "type": "scatter",
         "x": [
          0.6802440271028807,
          0.6802440271028807,
          1.2244165250275316,
          1.2244165250275316
         ],
         "xaxis": "x2",
         "y": [
          -1000,
          1000,
          1000,
          -1000
         ],
         "yaxis": "y2"
        },
        {
         "line": {
          "dash": "solid",
          "width": 3
         },
         "marker": {
          "color": "lightskyblue",
          "line": {
           "color": "black",
           "width": 0.5
          },
          "size": [
           12,
           30
          ]
         },
         "mode": "lines+markers",
         "name": "IMAGE 3.2",
         "showlegend": false,
         "text": [
          "",
          "B"
         ],
         "textfont": {
          "color": "black",
          "size": 15
         },
         "type": "scatter",
         "x": [
          0.9638214061466025,
          0.8552363501143757
         ],
         "xaxis": "x2",
         "y": [
          0.5012689329897626,
          0.5223713627203062
         ],
         "yaxis": "y2"
        },
        {
         "line": {
          "dash": "solid",
          "width": 3
         },
         "marker": {
          "color": "lightskyblue",
          "line": {
           "color": "black",
           "width": 0.5
          },
          "size": [
           12,
           30
          ]
         },
         "mode": "lines+markers",
         "name": "IMAGE 3.2",
         "showlegend": false,
         "text": [
          "",
          "C"
         ],
         "textfont": {
          "color": "black",
          "size": 15
         },
         "type": "scatter",
         "x": [
          0.9638214061466025,
          0.8778168020252377
         ],
         "xaxis": "x2",
         "y": [
          0.5012689329897626,
          0.5062288069904431
         ],
         "yaxis": "y2"
        },
        {
         "line": {
          "dash": "solid",
          "width": 3
         },
         "marker": {
          "color": "lightskyblue",
          "line": {
           "color": "black",
           "width": 0.5
          },
          "size": [
           12,
           30
          ]
         },
         "mode": "lines+markers",
         "name": "IMAGE 3.2",
         "showlegend": false,
         "text": [
          "",
          "N"
         ],
         "textfont": {
          "color": "black",
          "size": 15
         },
         "type": "scatter",
         "x": [
          0.9638214061466025,
          0.9591046029618238
         ],
         "xaxis": "x2",
         "y": [
          0.5012689329897626,
          0.5010544454173849
         ],
         "yaxis": "y2"
        },
        {
         "line": {
          "dash": "solid",
          "width": 3
         },
         "marker": {
          "color": "lightskyblue",
          "line": {
           "color": "black",
           "width": 0.5
          },
          "size": [
           12,
           30
          ]
         },
         "mode": "lines+markers",
         "name": "IMAGE 3.2",
         "showlegend": false,
         "text": [
          "",
          "V"
         ],
         "textfont": {
          "color": "black",
          "size": 15
         },
         "type": "scatter",
         "x": [
          0.9638214061466025,
          1.0059707785819927
         ],
         "xaxis": "x2",
         "y": [
          0.5012689329897626,
          0.4969293096944637
         ],
         "yaxis": "y2"
        },
        {
         "line": {
          "dash": "solid",
          "width": 3
         },
         "marker": {
          "color": "lightskyblue",
          "line": {
           "color": "black",
           "width": 0.5
          },
          "size": [
           12,
           30
          ]
         },
         "mode": "lines+markers",
         "name": "IMAGE 3.2",
         "showlegend": false,
         "text": [
          "",
          "El"
         ],
         "textfont": {
          "color": "black",
          "size": 15
         },
         "type": "scatter",
         "x": [
          0.9638214061466025,
          0.9921871053247537
         ],
         "xaxis": "x2",
         "y": [
          0.5012689329897626,
          0.4959525811445115
         ],
         "yaxis": "y2"
        },
        {
         "line": {
          "dash": "solid",
          "width": 3
         },
         "marker": {
          "color": "lightskyblue",
          "line": {
           "color": "black",
           "width": 0.5
          },
          "size": [
           12,
           30
          ]
         },
         "mode": "lines+markers",
         "name": "IMAGE 3.2",
         "showlegend": false,
         "text": [
          "",
          "H"
         ],
         "textfont": {
          "color": "black",
          "size": 15
         },
         "type": "scatter",
         "x": [
          0.9638214061466025,
          0.9951624716966976
         ],
         "xaxis": "x2",
         "y": [
          0.5012689329897626,
          0.4750831656767727
         ],
         "yaxis": "y2"
        },
        {
         "line": {
          "dash": "solid",
          "width": 3
         },
         "marker": {
          "color": "lightskyblue",
          "line": {
           "color": "black",
           "width": 0.5
          },
          "size": [
           12,
           30
          ]
         },
         "mode": "lines+markers",
         "name": "IMAGE 3.2",
         "showlegend": false,
         "text": [
          "",
          "F"
         ],
         "textfont": {
          "color": "black",
          "size": 15
         },
         "type": "scatter",
         "x": [
          0.9638214061466025,
          1.0325187875460564
         ],
         "xaxis": "x2",
         "y": [
          0.5012689329897626,
          0.552920487521196
         ],
         "yaxis": "y2"
        },
        {
         "line": {
          "dash": "solid",
          "width": 3
         },
         "marker": {
          "color": "lightskyblue",
          "line": {
           "color": "black",
           "width": 0.5
          },
          "size": [
           12,
           30
          ]
         },
         "mode": "lines+markers",
         "name": "IMAGE 3.2",
         "showlegend": false,
         "text": [
          "",
          "Ef"
         ],
         "textfont": {
          "color": "black",
          "size": 15
         },
         "type": "scatter",
         "x": [
          0.9638214061466025,
          0.9684289392189057
         ],
         "xaxis": "x2",
         "y": [
          0.5012689329897626,
          0.5256347140587092
         ],
         "yaxis": "y2"
        },
        {
         "line": {
          "dash": "solid",
          "width": 3
         },
         "marker": {
          "color": "goldenrod",
          "line": {
           "color": "black",
           "width": 0.5
          },
          "size": [
           12,
           30
          ]
         },
         "mode": "lines+markers",
         "name": "PROMETHEUS 1.2",
         "showlegend": false,
         "text": [
          "",
          "B"
         ],
         "textfont": {
          "color": "black",
          "size": 15
         },
         "type": "scatter",
         "x": [
          0.9276672301553953,
          0.7406682853795049
         ],
         "xaxis": "x2",
         "y": [
          0.5539067871971037,
          0.543338981103851
         ],
         "yaxis": "y2"
        },
        {
         "line": {
          "dash": "solid",
          "width": 3
         },
         "marker": {
          "color": "goldenrod",
          "line": {
           "color": "black",
           "width": 0.5
          },
          "size": [
           12,
           30
          ]
         },
         "mode": "lines+markers",
         "name": "PROMETHEUS 1.2",
         "showlegend": false,
         "text": [
          "",
          "C"
         ],
         "textfont": {
          "color": "black",
          "size": 15
         },
         "type": "scatter",
         "x": [
          0.9276672301553953,
          0.878636925367538
         ],
         "xaxis": "x2",
         "y": [
          0.5539067871971037,
          0.5544008658539804
         ],
         "yaxis": "y2"
        },
        {
         "line": {
          "dash": "solid",
          "width": 3
         },
         "marker": {
          "color": "goldenrod",
          "line": {
           "color": "black",
           "width": 0.5
          },
          "size": [
           12,
           30
          ]
         },
         "mode": "lines+markers",
         "name": "PROMETHEUS 1.2",
         "showlegend": false,
         "text": [
          "",
          "N"
         ],
         "textfont": {
          "color": "black",
          "size": 15
         },
         "type": "scatter",
         "x": [
          0.9276672301553953,
          0.9035755816839717
         ],
         "xaxis": "x2",
         "y": [
          0.5539067871971037,
          0.5560075832503782
         ],
         "yaxis": "y2"
        },
        {
         "line": {
          "dash": "solid",
          "width": 3
         },
         "marker": {
          "color": "goldenrod",
          "line": {
           "color": "black",
           "width": 0.5
          },
          "size": [
           12,
           30
          ]
         },
         "mode": "lines+markers",
         "name": "PROMETHEUS 1.2",
         "showlegend": false,
         "text": [
          "",
          "V"
         ],
         "textfont": {
          "color": "black",
          "size": 15
         },
         "type": "scatter",
         "x": [
          0.9276672301553953,
          0.832217193231196
         ],
         "xaxis": "x2",
         "y": [
          0.5539067871971037,
          0.5576534714913973
         ],
         "yaxis": "y2"
        },
        {
         "line": {
          "dash": "solid",
          "width": 3
         },
         "marker": {
          "color": "goldenrod",
          "line": {
           "color": "black",
           "width": 0.5
          },
          "size": [
           12,
           30
          ]
         },
         "mode": "lines+markers",
         "name": "PROMETHEUS 1.2",
         "showlegend": false,
         "text": [
          "",
          "El"
         ],
         "textfont": {
          "color": "black",
          "size": 15
         },
         "type": "scatter",
         "x": [
          0.9276672301553953,
          0.9298519082888177
         ],
         "xaxis": "x2",
         "y": [
          0.5539067871971037,
          0.5780626562261834
         ],
         "yaxis": "y2"
        },
        {
         "line": {
          "dash": "solid",
          "width": 3
         },
         "marker": {
          "color": "goldenrod",
          "line": {
           "color": "black",
           "width": 0.5
          },
          "size": [
           12,
           30
          ]
         },
         "mode": "lines+markers",
         "name": "PROMETHEUS 1.2",
         "showlegend": false,
         "text": [
          "",
          "H"
         ],
         "textfont": {
          "color": "black",
          "size": 15
         },
         "type": "scatter",
         "x": [
          0.9276672301553953,
          null
         ],
         "xaxis": "x2",
         "y": [
          0.5539067871971037,
          null
         ],
         "yaxis": "y2"
        },
        {
         "line": {
          "dash": "solid",
          "width": 3
         },
         "marker": {
          "color": "goldenrod",
          "line": {
           "color": "black",
           "width": 0.5
          },
          "size": [
           12,
           30
          ]
         },
         "mode": "lines+markers",
         "name": "PROMETHEUS 1.2",
         "showlegend": false,
         "text": [
          "",
          "F"
         ],
         "textfont": {
          "color": "black",
          "size": 15
         },
         "type": "scatter",
         "x": [
          0.9276672301553953,
          null
         ],
         "xaxis": "x2",
         "y": [
          0.5539067871971037,
          null
         ],
         "yaxis": "y2"
        },
        {
         "line": {
          "dash": "solid",
          "width": 3
         },
         "marker": {
          "color": "goldenrod",
          "line": {
           "color": "black",
           "width": 0.5
          },
          "size": [
           12,
           30
          ]
         },
         "mode": "lines+markers",
         "name": "PROMETHEUS 1.2",
         "showlegend": false,
         "text": [
          "",
          "Ef"
         ],
         "textfont": {
          "color": "black",
          "size": 15
         },
         "type": "scatter",
         "x": [
          0.9276672301553953,
          0.9292565626415213
         ],
         "xaxis": "x2",
         "y": [
          0.5539067871971037,
          0.5905974323356792
         ],
         "yaxis": "y2"
        },
        {
         "line": {
          "dash": "solid",
          "width": 3
         },
         "marker": {
          "color": "tomato",
          "line": {
           "color": "black",
           "width": 0.5
          },
          "size": [
           12,
           30
          ]
         },
         "mode": "lines+markers",
         "name": "REMIND 2.1",
         "showlegend": false,
         "text": [
          "",
          "B"
         ],
         "textfont": {
          "color": "black",
          "size": 15
         },
         "type": "scatter",
         "x": [
          1.0733254599186333,
          0.9797818359357774
         ],
         "xaxis": "x2",
         "y": [
          0.48771266774110367,
          0.4766855956092564
         ],
         "yaxis": "y2"
        },
        {
         "line": {
          "dash": "solid",
          "width": 3
         },
         "marker": {
          "color": "tomato",
          "line": {
           "color": "black",
           "width": 0.5
          },
          "size": [
           12,
           30
          ]
         },
         "mode": "lines+markers",
         "name": "REMIND 2.1",
         "showlegend": false,
         "text": [
          "",
          "C"
         ],
         "textfont": {
          "color": "black",
          "size": 15
         },
         "type": "scatter",
         "x": [
          1.0733254599186333,
          1.0029951652199436
         ],
         "xaxis": "x2",
         "y": [
          0.48771266774110367,
          0.49177419109279535
         ],
         "yaxis": "y2"
        },
        {
         "line": {
          "dash": "solid",
          "width": 3
         },
         "marker": {
          "color": "tomato",
          "line": {
           "color": "black",
           "width": 0.5
          },
          "size": [
           12,
           30
          ]
         },
         "mode": "lines+markers",
         "name": "REMIND 2.1",
         "showlegend": false,
         "text": [
          "",
          "N"
         ],
         "textfont": {
          "color": "black",
          "size": 15
         },
         "type": "scatter",
         "x": [
          1.0733254599186333,
          1.0738882345707694
         ],
         "xaxis": "x2",
         "y": [
          0.48771266774110367,
          0.4880790115863564
         ],
         "yaxis": "y2"
        },
        {
         "line": {
          "dash": "solid",
          "width": 3
         },
         "marker": {
          "color": "tomato",
          "line": {
           "color": "black",
           "width": 0.5
          },
          "size": [
           12,
           30
          ]
         },
         "mode": "lines+markers",
         "name": "REMIND 2.1",
         "showlegend": false,
         "text": [
          "",
          "V"
         ],
         "textfont": {
          "color": "black",
          "size": 15
         },
         "type": "scatter",
         "x": [
          1.0733254599186333,
          1.0731360772455834
         ],
         "xaxis": "x2",
         "y": [
          0.48771266774110367,
          0.47099574793348575
         ],
         "yaxis": "y2"
        },
        {
         "line": {
          "dash": "solid",
          "width": 3
         },
         "marker": {
          "color": "tomato",
          "line": {
           "color": "black",
           "width": 0.5
          },
          "size": [
           12,
           30
          ]
         },
         "mode": "lines+markers",
         "name": "REMIND 2.1",
         "showlegend": false,
         "text": [
          "",
          "El"
         ],
         "textfont": {
          "color": "black",
          "size": 15
         },
         "type": "scatter",
         "x": [
          1.0733254599186333,
          1.0777611246891847
         ],
         "xaxis": "x2",
         "y": [
          0.48771266774110367,
          0.48430526057545764
         ],
         "yaxis": "y2"
        },
        {
         "line": {
          "dash": "solid",
          "width": 3
         },
         "marker": {
          "color": "tomato",
          "line": {
           "color": "black",
           "width": 0.5
          },
          "size": [
           12,
           30
          ]
         },
         "mode": "lines+markers",
         "name": "REMIND 2.1",
         "showlegend": false,
         "text": [
          "",
          "H"
         ],
         "textfont": {
          "color": "black",
          "size": 15
         },
         "type": "scatter",
         "x": [
          1.0733254599186333,
          1.0795177915413507
         ],
         "xaxis": "x2",
         "y": [
          0.48771266774110367,
          0.4447821752361072
         ],
         "yaxis": "y2"
        },
        {
         "line": {
          "dash": "solid",
          "width": 3
         },
         "marker": {
          "color": "tomato",
          "line": {
           "color": "black",
           "width": 0.5
          },
          "size": [
           12,
           30
          ]
         },
         "mode": "lines+markers",
         "name": "REMIND 2.1",
         "showlegend": false,
         "text": [
          "",
          "F"
         ],
         "textfont": {
          "color": "black",
          "size": 15
         },
         "type": "scatter",
         "x": [
          1.0733254599186333,
          1.05271634804565
         ],
         "xaxis": "x2",
         "y": [
          0.48771266774110367,
          0.448701277891735
         ],
         "yaxis": "y2"
        },
        {
         "line": {
          "dash": "solid",
          "width": 3
         },
         "marker": {
          "color": "tomato",
          "line": {
           "color": "black",
           "width": 0.5
          },
          "size": [
           12,
           30
          ]
         },
         "mode": "lines+markers",
         "name": "REMIND 2.1",
         "showlegend": false,
         "text": [
          "",
          "Ef"
         ],
         "textfont": {
          "color": "black",
          "size": 15
         },
         "type": "scatter",
         "x": [
          1.0733254599186333,
          1.122878795830188
         ],
         "xaxis": "x2",
         "y": [
          0.48771266774110367,
          0.6122677134934223
         ],
         "yaxis": "y2"
        },
        {
         "line": {
          "dash": "solid",
          "width": 3
         },
         "marker": {
          "color": "forestgreen",
          "line": {
           "color": "black",
           "width": 0.5
          },
          "size": [
           12,
           30
          ]
         },
         "mode": "lines+markers",
         "name": "WITCH 5.0",
         "showlegend": false,
         "text": [
          "",
          "B"
         ],
         "textfont": {
          "color": "black",
          "size": 15
         },
         "type": "scatter",
         "x": [
          0.8958047678362874,
          0.8229147665576807
         ],
         "xaxis": "x2",
         "y": [
          0.6671711958591166,
          0.6705687156127279
         ],
         "yaxis": "y2"
        },
        {
         "line": {
          "dash": "solid",
          "width": 3
         },
         "marker": {
          "color": "forestgreen",
          "line": {
           "color": "black",
           "width": 0.5
          },
          "size": [
           12,
           30
          ]
         },
         "mode": "lines+markers",
         "name": "WITCH 5.0",
         "showlegend": false,
         "text": [
          "",
          "C"
         ],
         "textfont": {
          "color": "black",
          "size": 15
         },
         "type": "scatter",
         "x": [
          0.8958047678362874,
          0.6671892870203155
         ],
         "xaxis": "x2",
         "y": [
          0.6671711958591166,
          0.6762278938358366
         ],
         "yaxis": "y2"
        },
        {
         "line": {
          "dash": "solid",
          "width": 3
         },
         "marker": {
          "color": "forestgreen",
          "line": {
           "color": "black",
           "width": 0.5
          },
          "size": [
           12,
           30
          ]
         },
         "mode": "lines+markers",
         "name": "WITCH 5.0",
         "showlegend": false,
         "text": [
          "",
          "N"
         ],
         "textfont": {
          "color": "black",
          "size": 15
         },
         "type": "scatter",
         "x": [
          0.8958047678362874,
          0.8956639018369413
         ],
         "xaxis": "x2",
         "y": [
          0.6671711958591166,
          0.6680675005045474
         ],
         "yaxis": "y2"
        },
        {
         "line": {
          "dash": "solid",
          "width": 3
         },
         "marker": {
          "color": "forestgreen",
          "line": {
           "color": "black",
           "width": 0.5
          },
          "size": [
           12,
           30
          ]
         },
         "mode": "lines+markers",
         "name": "WITCH 5.0",
         "showlegend": false,
         "text": [
          "",
          "V"
         ],
         "textfont": {
          "color": "black",
          "size": 15
         },
         "type": "scatter",
         "x": [
          0.8958047678362874,
          0.8957590317689078
         ],
         "xaxis": "x2",
         "y": [
          0.6671711958591166,
          0.6671598283198472
         ],
         "yaxis": "y2"
        },
        {
         "line": {
          "dash": "solid",
          "width": 3
         },
         "marker": {
          "color": "forestgreen",
          "line": {
           "color": "black",
           "width": 0.5
          },
          "size": [
           12,
           30
          ]
         },
         "mode": "lines+markers",
         "name": "WITCH 5.0",
         "showlegend": false,
         "text": [
          "",
          "El"
         ],
         "textfont": {
          "color": "black",
          "size": 15
         },
         "type": "scatter",
         "x": [
          0.8958047678362874,
          1.0650770808814358
         ],
         "xaxis": "x2",
         "y": [
          0.6671711958591166,
          0.6041343828420269
         ],
         "yaxis": "y2"
        },
        {
         "line": {
          "dash": "solid",
          "width": 3
         },
         "marker": {
          "color": "forestgreen",
          "line": {
           "color": "black",
           "width": 0.5
          },
          "size": [
           12,
           30
          ]
         },
         "mode": "lines+markers",
         "name": "WITCH 5.0",
         "showlegend": false,
         "text": [
          "",
          "H"
         ],
         "textfont": {
          "color": "black",
          "size": 15
         },
         "type": "scatter",
         "x": [
          0.8958047678362874,
          0.8953845388999544
         ],
         "xaxis": "x2",
         "y": [
          0.6671711958591166,
          0.6676421957688525
         ],
         "yaxis": "y2"
        },
        {
         "line": {
          "dash": "solid",
          "width": 3
         },
         "marker": {
          "color": "forestgreen",
          "line": {
           "color": "black",
           "width": 0.5
          },
          "size": [
           12,
           30
          ]
         },
         "mode": "lines+markers",
         "name": "WITCH 5.0",
         "showlegend": false,
         "text": [
          "",
          "F"
         ],
         "textfont": {
          "color": "black",
          "size": 15
         },
         "type": "scatter",
         "x": [
          0.8958047678362874,
          1.193994963435427
         ],
         "xaxis": "x2",
         "y": [
          0.6671711958591166,
          0.5709131498193737
         ],
         "yaxis": "y2"
        },
        {
         "line": {
          "dash": "solid",
          "width": 3
         },
         "marker": {
          "color": "forestgreen",
          "line": {
           "color": "black",
           "width": 0.5
          },
          "size": [
           12,
           30
          ]
         },
         "mode": "lines+markers",
         "name": "WITCH 5.0",
         "showlegend": false,
         "text": [
          "",
          "Ef"
         ],
         "textfont": {
          "color": "black",
          "size": 15
         },
         "type": "scatter",
         "x": [
          0.8958047678362874,
          0.8839425523823173
         ],
         "xaxis": "x2",
         "y": [
          0.6671711958591166,
          0.6533089442879111
         ],
         "yaxis": "y2"
        },
        {
         "line": {
          "dash": "solid",
          "width": 3
         },
         "marker": {
          "color": "darkgrey",
          "line": {
           "color": "black",
           "width": 0.5
          },
          "size": [
           12,
           30
          ]
         },
         "mode": "lines+markers",
         "name": "Euro-Calliope 2.0",
         "showlegend": false,
         "text": [
          "",
          "B"
         ],
         "textfont": {
          "color": "black",
          "size": 15
         },
         "type": "scatter",
         "x": [
          0.9998138080079082,
          0.9998138080079082
         ],
         "xaxis": "x2",
         "y": [
          0.4524022955336941,
          0.4524022955336941
         ],
         "yaxis": "y2"
        },
        {
         "line": {
          "dash": "solid",
          "width": 3
         },
         "marker": {
          "color": "darkgrey",
          "line": {
           "color": "black",
           "width": 0.5
          },
          "size": [
           12,
           30
          ]
         },
         "mode": "lines+markers",
         "name": "Euro-Calliope 2.0",
         "showlegend": false,
         "text": [
          "",
          "C"
         ],
         "textfont": {
          "color": "black",
          "size": 15
         },
         "type": "scatter",
         "x": [
          0.9998138080079082,
          0.9998138080079082
         ],
         "xaxis": "x2",
         "y": [
          0.4524022955336941,
          0.4524022955336941
         ],
         "yaxis": "y2"
        },
        {
         "line": {
          "dash": "solid",
          "width": 3
         },
         "marker": {
          "color": "darkgrey",
          "line": {
           "color": "black",
           "width": 0.5
          },
          "size": [
           12,
           30
          ]
         },
         "mode": "lines+markers",
         "name": "Euro-Calliope 2.0",
         "showlegend": false,
         "text": [
          "",
          "N"
         ],
         "textfont": {
          "color": "black",
          "size": 15
         },
         "type": "scatter",
         "x": [
          0.9998138080079082,
          0.9997719072977242
         ],
         "xaxis": "x2",
         "y": [
          0.4524022955336941,
          0.45146724053690834
         ],
         "yaxis": "y2"
        },
        {
         "line": {
          "dash": "solid",
          "width": 3
         },
         "marker": {
          "color": "darkgrey",
          "line": {
           "color": "black",
           "width": 0.5
          },
          "size": [
           12,
           30
          ]
         },
         "mode": "lines+markers",
         "name": "Euro-Calliope 2.0",
         "showlegend": false,
         "text": [
          "",
          "V"
         ],
         "textfont": {
          "color": "black",
          "size": 15
         },
         "type": "scatter",
         "x": [
          0.9998138080079082,
          0.9998150061764638
         ],
         "xaxis": "x2",
         "y": [
          0.4524022955336941,
          0.452526229046235
         ],
         "yaxis": "y2"
        },
        {
         "line": {
          "dash": "solid",
          "width": 3
         },
         "marker": {
          "color": "darkgrey",
          "line": {
           "color": "black",
           "width": 0.5
          },
          "size": [
           12,
           30
          ]
         },
         "mode": "lines+markers",
         "name": "Euro-Calliope 2.0",
         "showlegend": false,
         "text": [
          "",
          "El"
         ],
         "textfont": {
          "color": "black",
          "size": 15
         },
         "type": "scatter",
         "x": [
          0.9998138080079082,
          0.999992985248591
         ],
         "xaxis": "x2",
         "y": [
          0.4524022955336941,
          0.45511921071429445
         ],
         "yaxis": "y2"
        },
        {
         "line": {
          "dash": "solid",
          "width": 3
         },
         "marker": {
          "color": "darkgrey",
          "line": {
           "color": "black",
           "width": 0.5
          },
          "size": [
           12,
           30
          ]
         },
         "mode": "lines+markers",
         "name": "Euro-Calliope 2.0",
         "showlegend": false,
         "text": [
          "",
          "H"
         ],
         "textfont": {
          "color": "black",
          "size": 15
         },
         "type": "scatter",
         "x": [
          0.9998138080079082,
          0.9998254643868822
         ],
         "xaxis": "x2",
         "y": [
          0.4524022955336941,
          0.4525674599702092
         ],
         "yaxis": "y2"
        },
        {
         "line": {
          "dash": "solid",
          "width": 3
         },
         "marker": {
          "color": "darkgrey",
          "line": {
           "color": "black",
           "width": 0.5
          },
          "size": [
           12,
           30
          ]
         },
         "mode": "lines+markers",
         "name": "Euro-Calliope 2.0",
         "showlegend": false,
         "text": [
          "",
          "F"
         ],
         "textfont": {
          "color": "black",
          "size": 15
         },
         "type": "scatter",
         "x": [
          0.9998138080079082,
          0.9998124686099902
         ],
         "xaxis": "x2",
         "y": [
          0.4524022955336941,
          0.45255341669825067
         ],
         "yaxis": "y2"
        },
        {
         "line": {
          "dash": "solid",
          "width": 3
         },
         "marker": {
          "color": "darkgrey",
          "line": {
           "color": "black",
           "width": 0.5
          },
          "size": [
           12,
           30
          ]
         },
         "mode": "lines+markers",
         "name": "Euro-Calliope 2.0",
         "showlegend": false,
         "text": [
          "",
          "Ef"
         ],
         "textfont": {
          "color": "black",
          "size": 15
         },
         "type": "scatter",
         "x": [
          0.9998138080079082,
          0.9998134409903556
         ],
         "xaxis": "x2",
         "y": [
          0.4524022955336941,
          0.45245387054781167
         ],
         "yaxis": "y2"
        },
        {
         "line": {
          "dash": "solid",
          "width": 3
         },
         "marker": {
          "color": "royalblue",
          "line": {
           "color": "black",
           "width": 0.5
          },
          "size": [
           12,
           30
          ]
         },
         "mode": "lines+markers",
         "name": "TIAM-ECN 1.2",
         "showlegend": false,
         "text": [
          "",
          "B"
         ],
         "textfont": {
          "color": "black",
          "size": 15
         },
         "type": "scatter",
         "x": [
          0.7151672196785851,
          0.5335289680725829
         ],
         "xaxis": "x2",
         "y": [
          0.35889425097032657,
          0.5281689049702004
         ],
         "yaxis": "y2"
        },
        {
         "line": {
          "dash": "solid",
          "width": 3
         },
         "marker": {
          "color": "royalblue",
          "line": {
           "color": "black",
           "width": 0.5
          },
          "size": [
           12,
           30
          ]
         },
         "mode": "lines+markers",
         "name": "TIAM-ECN 1.2",
         "showlegend": false,
         "text": [
          "",
          "C"
         ],
         "textfont": {
          "color": "black",
          "size": 15
         },
         "type": "scatter",
         "x": [
          0.7151672196785851,
          0.5882295202583115
         ],
         "xaxis": "x2",
         "y": [
          0.35889425097032657,
          0.5243177313844664
         ],
         "yaxis": "y2"
        },
        {
         "line": {
          "dash": "solid",
          "width": 3
         },
         "marker": {
          "color": "royalblue",
          "line": {
           "color": "black",
           "width": 0.5
          },
          "size": [
           12,
           30
          ]
         },
         "mode": "lines+markers",
         "name": "TIAM-ECN 1.2",
         "showlegend": false,
         "text": [
          "",
          "N"
         ],
         "textfont": {
          "color": "black",
          "size": 15
         },
         "type": "scatter",
         "x": [
          0.7151672196785851,
          0.5817896982982703
         ],
         "xaxis": "x2",
         "y": [
          0.35889425097032657,
          0.522437586603596
         ],
         "yaxis": "y2"
        },
        {
         "line": {
          "dash": "solid",
          "width": 3
         },
         "marker": {
          "color": "royalblue",
          "line": {
           "color": "black",
           "width": 0.5
          },
          "size": [
           12,
           30
          ]
         },
         "mode": "lines+markers",
         "name": "TIAM-ECN 1.2",
         "showlegend": false,
         "text": [
          "",
          "V"
         ],
         "textfont": {
          "color": "black",
          "size": 15
         },
         "type": "scatter",
         "x": [
          0.7151672196785851,
          0.5840737882294659
         ],
         "xaxis": "x2",
         "y": [
          0.35889425097032657,
          0.5252020478565694
         ],
         "yaxis": "y2"
        },
        {
         "line": {
          "dash": "solid",
          "width": 3
         },
         "marker": {
          "color": "royalblue",
          "line": {
           "color": "black",
           "width": 0.5
          },
          "size": [
           12,
           30
          ]
         },
         "mode": "lines+markers",
         "name": "TIAM-ECN 1.2",
         "showlegend": false,
         "text": [
          "",
          "El"
         ],
         "textfont": {
          "color": "black",
          "size": 15
         },
         "type": "scatter",
         "x": [
          0.7151672196785851,
          0.6371993733265502
         ],
         "xaxis": "x2",
         "y": [
          0.35889425097032657,
          0.5198783412833305
         ],
         "yaxis": "y2"
        },
        {
         "line": {
          "dash": "solid",
          "width": 3
         },
         "marker": {
          "color": "royalblue",
          "line": {
           "color": "black",
           "width": 0.5
          },
          "size": [
           12,
           30
          ]
         },
         "mode": "lines+markers",
         "name": "TIAM-ECN 1.2",
         "showlegend": false,
         "text": [
          "",
          "H"
         ],
         "textfont": {
          "color": "black",
          "size": 15
         },
         "type": "scatter",
         "x": [
          0.7151672196785851,
          0.634424319969654
         ],
         "xaxis": "x2",
         "y": [
          0.35889425097032657,
          0.5239350442669821
         ],
         "yaxis": "y2"
        },
        {
         "line": {
          "dash": "solid",
          "width": 3
         },
         "marker": {
          "color": "royalblue",
          "line": {
           "color": "black",
           "width": 0.5
          },
          "size": [
           12,
           30
          ]
         },
         "mode": "lines+markers",
         "name": "TIAM-ECN 1.2",
         "showlegend": false,
         "text": [
          "",
          "F"
         ],
         "textfont": {
          "color": "black",
          "size": 15
         },
         "type": "scatter",
         "x": [
          0.7151672196785851,
          null
         ],
         "xaxis": "x2",
         "y": [
          0.35889425097032657,
          null
         ],
         "yaxis": "y2"
        },
        {
         "line": {
          "dash": "solid",
          "width": 3
         },
         "marker": {
          "color": "royalblue",
          "line": {
           "color": "black",
           "width": 0.5
          },
          "size": [
           12,
           30
          ]
         },
         "mode": "lines+markers",
         "name": "TIAM-ECN 1.2",
         "showlegend": false,
         "text": [
          "",
          "Ef"
         ],
         "textfont": {
          "color": "black",
          "size": 15
         },
         "type": "scatter",
         "x": [
          0.7151672196785851,
          0.9763922051433106
         ],
         "xaxis": "x2",
         "y": [
          0.35889425097032657,
          0.4660321554305639
         ],
         "yaxis": "y2"
        },
        {
         "line": {
          "dash": "solid",
          "width": 3
         },
         "marker": {
          "color": "purple",
          "line": {
           "color": "black",
           "width": 0.5
          },
          "size": [
           12,
           30
          ]
         },
         "mode": "lines+markers",
         "name": "MESSAGEix-GLOBIOM 1.2",
         "showlegend": false,
         "text": [
          "",
          "B"
         ],
         "textfont": {
          "color": "black",
          "size": 15
         },
         "type": "scatter",
         "x": [
          0.8729198452260192,
          0.8603454599279173
         ],
         "xaxis": "x2",
         "y": [
          0.4448348577712002,
          0.45446598824774226
         ],
         "yaxis": "y2"
        },
        {
         "line": {
          "dash": "solid",
          "width": 3
         },
         "marker": {
          "color": "purple",
          "line": {
           "color": "black",
           "width": 0.5
          },
          "size": [
           12,
           30
          ]
         },
         "mode": "lines+markers",
         "name": "MESSAGEix-GLOBIOM 1.2",
         "showlegend": false,
         "text": [
          "",
          "C"
         ],
         "textfont": {
          "color": "black",
          "size": 15
         },
         "type": "scatter",
         "x": [
          0.8729198452260192,
          0.8725404130195341
         ],
         "xaxis": "x2",
         "y": [
          0.4448348577712002,
          0.4490517536075951
         ],
         "yaxis": "y2"
        },
        {
         "line": {
          "dash": "solid",
          "width": 3
         },
         "marker": {
          "color": "purple",
          "line": {
           "color": "black",
           "width": 0.5
          },
          "size": [
           12,
           30
          ]
         },
         "mode": "lines+markers",
         "name": "MESSAGEix-GLOBIOM 1.2",
         "showlegend": false,
         "text": [
          "",
          "N"
         ],
         "textfont": {
          "color": "black",
          "size": 15
         },
         "type": "scatter",
         "x": [
          0.8729198452260192,
          0.8717435148069832
         ],
         "xaxis": "x2",
         "y": [
          0.4448348577712002,
          0.44522963583068575
         ],
         "yaxis": "y2"
        },
        {
         "line": {
          "dash": "solid",
          "width": 3
         },
         "marker": {
          "color": "purple",
          "line": {
           "color": "black",
           "width": 0.5
          },
          "size": [
           12,
           30
          ]
         },
         "mode": "lines+markers",
         "name": "MESSAGEix-GLOBIOM 1.2",
         "showlegend": false,
         "text": [
          "",
          "V"
         ],
         "textfont": {
          "color": "black",
          "size": 15
         },
         "type": "scatter",
         "x": [
          0.8729198452260192,
          0.881441089868295
         ],
         "xaxis": "x2",
         "y": [
          0.4448348577712002,
          0.4435445534161042
         ],
         "yaxis": "y2"
        },
        {
         "line": {
          "dash": "solid",
          "width": 3
         },
         "marker": {
          "color": "purple",
          "line": {
           "color": "black",
           "width": 0.5
          },
          "size": [
           12,
           30
          ]
         },
         "mode": "lines+markers",
         "name": "MESSAGEix-GLOBIOM 1.2",
         "showlegend": false,
         "text": [
          "",
          "El"
         ],
         "textfont": {
          "color": "black",
          "size": 15
         },
         "type": "scatter",
         "x": [
          0.8729198452260192,
          0.9020292333727012
         ],
         "xaxis": "x2",
         "y": [
          0.4448348577712002,
          0.4364987783301584
         ],
         "yaxis": "y2"
        },
        {
         "line": {
          "dash": "solid",
          "width": 3
         },
         "marker": {
          "color": "purple",
          "line": {
           "color": "black",
           "width": 0.5
          },
          "size": [
           12,
           30
          ]
         },
         "mode": "lines+markers",
         "name": "MESSAGEix-GLOBIOM 1.2",
         "showlegend": false,
         "text": [
          "",
          "H"
         ],
         "textfont": {
          "color": "black",
          "size": 15
         },
         "type": "scatter",
         "x": [
          0.8729198452260192,
          0.8675627147004454
         ],
         "xaxis": "x2",
         "y": [
          0.4448348577712002,
          0.44551427702477037
         ],
         "yaxis": "y2"
        },
        {
         "line": {
          "dash": "solid",
          "width": 3
         },
         "marker": {
          "color": "purple",
          "line": {
           "color": "black",
           "width": 0.5
          },
          "size": [
           12,
           30
          ]
         },
         "mode": "lines+markers",
         "name": "MESSAGEix-GLOBIOM 1.2",
         "showlegend": false,
         "text": [
          "",
          "F"
         ],
         "textfont": {
          "color": "black",
          "size": 15
         },
         "type": "scatter",
         "x": [
          0.8729198452260192,
          0.9129642869506871
         ],
         "xaxis": "x2",
         "y": [
          0.4448348577712002,
          0.4707762401778332
         ],
         "yaxis": "y2"
        },
        {
         "line": {
          "dash": "solid",
          "width": 3
         },
         "marker": {
          "color": "purple",
          "line": {
           "color": "black",
           "width": 0.5
          },
          "size": [
           12,
           30
          ]
         },
         "mode": "lines+markers",
         "name": "MESSAGEix-GLOBIOM 1.2",
         "showlegend": false,
         "text": [
          "",
          "Ef"
         ],
         "textfont": {
          "color": "black",
          "size": 15
         },
         "type": "scatter",
         "x": [
          0.8729198452260192,
          null
         ],
         "xaxis": "x2",
         "y": [
          0.4448348577712002,
          null
         ],
         "yaxis": "y2"
        },
        {
         "line": {
          "dash": "solid",
          "width": 3
         },
         "marker": {
          "color": "palegreen",
          "line": {
           "color": "black",
           "width": 0.5
          },
          "size": [
           12,
           30
          ]
         },
         "mode": "lines+markers",
         "name": "PRIMES 2022",
         "showlegend": false,
         "text": [
          "",
          "B"
         ],
         "textfont": {
          "color": "black",
          "size": 15
         },
         "type": "scatter",
         "x": [
          0.9600139265139506,
          0.9481250561469743
         ],
         "xaxis": "x2",
         "y": [
          0.5264138654271823,
          0.5270817793327348
         ],
         "yaxis": "y2"
        },
        {
         "line": {
          "dash": "solid",
          "width": 3
         },
         "marker": {
          "color": "palegreen",
          "line": {
           "color": "black",
           "width": 0.5
          },
          "size": [
           12,
           30
          ]
         },
         "mode": "lines+markers",
         "name": "PRIMES 2022",
         "showlegend": false,
         "text": [
          "",
          "C"
         ],
         "textfont": {
          "color": "black",
          "size": 15
         },
         "type": "scatter",
         "x": [
          0.9600139265139506,
          0.9076827503660237
         ],
         "xaxis": "x2",
         "y": [
          0.5264138654271823,
          0.5283350225413748
         ],
         "yaxis": "y2"
        },
        {
         "line": {
          "dash": "solid",
          "width": 3
         },
         "marker": {
          "color": "palegreen",
          "line": {
           "color": "black",
           "width": 0.5
          },
          "size": [
           12,
           30
          ]
         },
         "mode": "lines+markers",
         "name": "PRIMES 2022",
         "showlegend": false,
         "text": [
          "",
          "N"
         ],
         "textfont": {
          "color": "black",
          "size": 15
         },
         "type": "scatter",
         "x": [
          0.9600139265139506,
          0.956535495983438
         ],
         "xaxis": "x2",
         "y": [
          0.5264138654271823,
          0.5266462582984731
         ],
         "yaxis": "y2"
        },
        {
         "line": {
          "dash": "solid",
          "width": 3
         },
         "marker": {
          "color": "palegreen",
          "line": {
           "color": "black",
           "width": 0.5
          },
          "size": [
           12,
           30
          ]
         },
         "mode": "lines+markers",
         "name": "PRIMES 2022",
         "showlegend": false,
         "text": [
          "",
          "V"
         ],
         "textfont": {
          "color": "black",
          "size": 15
         },
         "type": "scatter",
         "x": [
          0.9600139265139506,
          null
         ],
         "xaxis": "x2",
         "y": [
          0.5264138654271823,
          null
         ],
         "yaxis": "y2"
        },
        {
         "line": {
          "dash": "solid",
          "width": 3
         },
         "marker": {
          "color": "palegreen",
          "line": {
           "color": "black",
           "width": 0.5
          },
          "size": [
           12,
           30
          ]
         },
         "mode": "lines+markers",
         "name": "PRIMES 2022",
         "showlegend": false,
         "text": [
          "",
          "El"
         ],
         "textfont": {
          "color": "black",
          "size": 15
         },
         "type": "scatter",
         "x": [
          0.9600139265139506,
          0.9589909563387495
         ],
         "xaxis": "x2",
         "y": [
          0.5264138654271823,
          0.5340513810784656
         ],
         "yaxis": "y2"
        },
        {
         "line": {
          "dash": "solid",
          "width": 3
         },
         "marker": {
          "color": "palegreen",
          "line": {
           "color": "black",
           "width": 0.5
          },
          "size": [
           12,
           30
          ]
         },
         "mode": "lines+markers",
         "name": "PRIMES 2022",
         "showlegend": false,
         "text": [
          "",
          "H"
         ],
         "textfont": {
          "color": "black",
          "size": 15
         },
         "type": "scatter",
         "x": [
          0.9600139265139506,
          0.9602343861970932
         ],
         "xaxis": "x2",
         "y": [
          0.5264138654271823,
          0.5186415798050134
         ],
         "yaxis": "y2"
        },
        {
         "line": {
          "dash": "solid",
          "width": 3
         },
         "marker": {
          "color": "palegreen",
          "line": {
           "color": "black",
           "width": 0.5
          },
          "size": [
           12,
           30
          ]
         },
         "mode": "lines+markers",
         "name": "PRIMES 2022",
         "showlegend": false,
         "text": [
          "",
          "F"
         ],
         "textfont": {
          "color": "black",
          "size": 15
         },
         "type": "scatter",
         "x": [
          0.9600139265139506,
          null
         ],
         "xaxis": "x2",
         "y": [
          0.5264138654271823,
          null
         ],
         "yaxis": "y2"
        },
        {
         "line": {
          "dash": "solid",
          "width": 3
         },
         "marker": {
          "color": "palegreen",
          "line": {
           "color": "black",
           "width": 0.5
          },
          "size": [
           12,
           30
          ]
         },
         "mode": "lines+markers",
         "name": "PRIMES 2022",
         "showlegend": false,
         "text": [
          "",
          "Ef"
         ],
         "textfont": {
          "color": "black",
          "size": 15
         },
         "type": "scatter",
         "x": [
          0.9600139265139506,
          0.9595246080572193
         ],
         "xaxis": "x2",
         "y": [
          0.5264138654271823,
          0.5727968182726543
         ],
         "yaxis": "y2"
        },
        {
         "marker": {
          "color": "lightskyblue",
          "line": {
           "color": "black",
           "width": 0.5
          },
          "size": [
           12,
           30
          ]
         },
         "mode": "text+markers",
         "name": "IMAGE 3.2",
         "showlegend": false,
         "text": [
          "",
          "B"
         ],
         "textfont": {
          "color": "black",
          "size": 25
         },
         "type": "scatter",
         "x": [
          0.9638214061466025,
          0.8552363501143757
         ],
         "xaxis": "x2",
         "y": [
          0.5012689329897626,
          0.5223713627203062
         ],
         "yaxis": "y2"
        },
        {
         "marker": {
          "color": "lightskyblue",
          "line": {
           "color": "black",
           "width": 0.5
          },
          "size": [
           12,
           30
          ]
         },
         "mode": "text+markers",
         "name": "IMAGE 3.2",
         "showlegend": false,
         "text": [
          "",
          "C"
         ],
         "textfont": {
          "color": "black",
          "size": 25
         },
         "type": "scatter",
         "x": [
          0.9638214061466025,
          0.8778168020252377
         ],
         "xaxis": "x2",
         "y": [
          0.5012689329897626,
          0.5062288069904431
         ],
         "yaxis": "y2"
        },
        {
         "marker": {
          "color": "lightskyblue",
          "line": {
           "color": "black",
           "width": 0.5
          },
          "size": [
           12,
           30
          ]
         },
         "mode": "text+markers",
         "name": "IMAGE 3.2",
         "showlegend": false,
         "text": [
          "",
          "N"
         ],
         "textfont": {
          "color": "black",
          "size": 25
         },
         "type": "scatter",
         "x": [
          0.9638214061466025,
          0.9591046029618238
         ],
         "xaxis": "x2",
         "y": [
          0.5012689329897626,
          0.5010544454173849
         ],
         "yaxis": "y2"
        },
        {
         "marker": {
          "color": "lightskyblue",
          "line": {
           "color": "black",
           "width": 0.5
          },
          "size": [
           12,
           30
          ]
         },
         "mode": "text+markers",
         "name": "IMAGE 3.2",
         "showlegend": false,
         "text": [
          "",
          "V"
         ],
         "textfont": {
          "color": "black",
          "size": 25
         },
         "type": "scatter",
         "x": [
          0.9638214061466025,
          1.0059707785819927
         ],
         "xaxis": "x2",
         "y": [
          0.5012689329897626,
          0.4969293096944637
         ],
         "yaxis": "y2"
        },
        {
         "marker": {
          "color": "lightskyblue",
          "line": {
           "color": "black",
           "width": 0.5
          },
          "size": [
           12,
           30
          ]
         },
         "mode": "text+markers",
         "name": "IMAGE 3.2",
         "showlegend": false,
         "text": [
          "",
          "El"
         ],
         "textfont": {
          "color": "black",
          "size": 25
         },
         "type": "scatter",
         "x": [
          0.9638214061466025,
          0.9921871053247537
         ],
         "xaxis": "x2",
         "y": [
          0.5012689329897626,
          0.4959525811445115
         ],
         "yaxis": "y2"
        },
        {
         "marker": {
          "color": "lightskyblue",
          "line": {
           "color": "black",
           "width": 0.5
          },
          "size": [
           12,
           30
          ]
         },
         "mode": "text+markers",
         "name": "IMAGE 3.2",
         "showlegend": false,
         "text": [
          "",
          "H"
         ],
         "textfont": {
          "color": "black",
          "size": 25
         },
         "type": "scatter",
         "x": [
          0.9638214061466025,
          0.9951624716966976
         ],
         "xaxis": "x2",
         "y": [
          0.5012689329897626,
          0.4750831656767727
         ],
         "yaxis": "y2"
        },
        {
         "marker": {
          "color": "lightskyblue",
          "line": {
           "color": "black",
           "width": 0.5
          },
          "size": [
           12,
           30
          ]
         },
         "mode": "text+markers",
         "name": "IMAGE 3.2",
         "showlegend": false,
         "text": [
          "",
          "F"
         ],
         "textfont": {
          "color": "black",
          "size": 25
         },
         "type": "scatter",
         "x": [
          0.9638214061466025,
          1.0325187875460564
         ],
         "xaxis": "x2",
         "y": [
          0.5012689329897626,
          0.552920487521196
         ],
         "yaxis": "y2"
        },
        {
         "marker": {
          "color": "lightskyblue",
          "line": {
           "color": "black",
           "width": 0.5
          },
          "size": [
           12,
           30
          ]
         },
         "mode": "text+markers",
         "name": "IMAGE 3.2",
         "showlegend": false,
         "text": [
          "",
          "Ef"
         ],
         "textfont": {
          "color": "black",
          "size": 25
         },
         "type": "scatter",
         "x": [
          0.9638214061466025,
          0.9684289392189057
         ],
         "xaxis": "x2",
         "y": [
          0.5012689329897626,
          0.5256347140587092
         ],
         "yaxis": "y2"
        },
        {
         "marker": {
          "color": "goldenrod",
          "line": {
           "color": "black",
           "width": 0.5
          },
          "size": [
           12,
           30
          ]
         },
         "mode": "text+markers",
         "name": "PROMETHEUS 1.2",
         "showlegend": false,
         "text": [
          "",
          "B"
         ],
         "textfont": {
          "color": "black",
          "size": 25
         },
         "type": "scatter",
         "x": [
          0.9276672301553953,
          0.7406682853795049
         ],
         "xaxis": "x2",
         "y": [
          0.5539067871971037,
          0.543338981103851
         ],
         "yaxis": "y2"
        },
        {
         "marker": {
          "color": "goldenrod",
          "line": {
           "color": "black",
           "width": 0.5
          },
          "size": [
           12,
           30
          ]
         },
         "mode": "text+markers",
         "name": "PROMETHEUS 1.2",
         "showlegend": false,
         "text": [
          "",
          "C"
         ],
         "textfont": {
          "color": "black",
          "size": 25
         },
         "type": "scatter",
         "x": [
          0.9276672301553953,
          0.878636925367538
         ],
         "xaxis": "x2",
         "y": [
          0.5539067871971037,
          0.5544008658539804
         ],
         "yaxis": "y2"
        },
        {
         "marker": {
          "color": "goldenrod",
          "line": {
           "color": "black",
           "width": 0.5
          },
          "size": [
           12,
           30
          ]
         },
         "mode": "text+markers",
         "name": "PROMETHEUS 1.2",
         "showlegend": false,
         "text": [
          "",
          "N"
         ],
         "textfont": {
          "color": "black",
          "size": 25
         },
         "type": "scatter",
         "x": [
          0.9276672301553953,
          0.9035755816839717
         ],
         "xaxis": "x2",
         "y": [
          0.5539067871971037,
          0.5560075832503782
         ],
         "yaxis": "y2"
        },
        {
         "marker": {
          "color": "goldenrod",
          "line": {
           "color": "black",
           "width": 0.5
          },
          "size": [
           12,
           30
          ]
         },
         "mode": "text+markers",
         "name": "PROMETHEUS 1.2",
         "showlegend": false,
         "text": [
          "",
          "V"
         ],
         "textfont": {
          "color": "black",
          "size": 25
         },
         "type": "scatter",
         "x": [
          0.9276672301553953,
          0.832217193231196
         ],
         "xaxis": "x2",
         "y": [
          0.5539067871971037,
          0.5576534714913973
         ],
         "yaxis": "y2"
        },
        {
         "marker": {
          "color": "goldenrod",
          "line": {
           "color": "black",
           "width": 0.5
          },
          "size": [
           12,
           30
          ]
         },
         "mode": "text+markers",
         "name": "PROMETHEUS 1.2",
         "showlegend": false,
         "text": [
          "",
          "El"
         ],
         "textfont": {
          "color": "black",
          "size": 25
         },
         "type": "scatter",
         "x": [
          0.9276672301553953,
          0.9298519082888177
         ],
         "xaxis": "x2",
         "y": [
          0.5539067871971037,
          0.5780626562261834
         ],
         "yaxis": "y2"
        },
        {
         "marker": {
          "color": "goldenrod",
          "line": {
           "color": "black",
           "width": 0.5
          },
          "size": [
           12,
           30
          ]
         },
         "mode": "text+markers",
         "name": "PROMETHEUS 1.2",
         "showlegend": false,
         "text": [
          "",
          "H"
         ],
         "textfont": {
          "color": "black",
          "size": 25
         },
         "type": "scatter",
         "x": [
          0.9276672301553953,
          null
         ],
         "xaxis": "x2",
         "y": [
          0.5539067871971037,
          null
         ],
         "yaxis": "y2"
        },
        {
         "marker": {
          "color": "goldenrod",
          "line": {
           "color": "black",
           "width": 0.5
          },
          "size": [
           12,
           30
          ]
         },
         "mode": "text+markers",
         "name": "PROMETHEUS 1.2",
         "showlegend": false,
         "text": [
          "",
          "F"
         ],
         "textfont": {
          "color": "black",
          "size": 25
         },
         "type": "scatter",
         "x": [
          0.9276672301553953,
          null
         ],
         "xaxis": "x2",
         "y": [
          0.5539067871971037,
          null
         ],
         "yaxis": "y2"
        },
        {
         "marker": {
          "color": "goldenrod",
          "line": {
           "color": "black",
           "width": 0.5
          },
          "size": [
           12,
           30
          ]
         },
         "mode": "text+markers",
         "name": "PROMETHEUS 1.2",
         "showlegend": false,
         "text": [
          "",
          "Ef"
         ],
         "textfont": {
          "color": "black",
          "size": 25
         },
         "type": "scatter",
         "x": [
          0.9276672301553953,
          0.9292565626415213
         ],
         "xaxis": "x2",
         "y": [
          0.5539067871971037,
          0.5905974323356792
         ],
         "yaxis": "y2"
        },
        {
         "marker": {
          "color": "tomato",
          "line": {
           "color": "black",
           "width": 0.5
          },
          "size": [
           12,
           30
          ]
         },
         "mode": "text+markers",
         "name": "REMIND 2.1",
         "showlegend": false,
         "text": [
          "",
          "B"
         ],
         "textfont": {
          "color": "black",
          "size": 25
         },
         "type": "scatter",
         "x": [
          1.0733254599186333,
          0.9797818359357774
         ],
         "xaxis": "x2",
         "y": [
          0.48771266774110367,
          0.4766855956092564
         ],
         "yaxis": "y2"
        },
        {
         "marker": {
          "color": "tomato",
          "line": {
           "color": "black",
           "width": 0.5
          },
          "size": [
           12,
           30
          ]
         },
         "mode": "text+markers",
         "name": "REMIND 2.1",
         "showlegend": false,
         "text": [
          "",
          "C"
         ],
         "textfont": {
          "color": "black",
          "size": 25
         },
         "type": "scatter",
         "x": [
          1.0733254599186333,
          1.0029951652199436
         ],
         "xaxis": "x2",
         "y": [
          0.48771266774110367,
          0.49177419109279535
         ],
         "yaxis": "y2"
        },
        {
         "marker": {
          "color": "tomato",
          "line": {
           "color": "black",
           "width": 0.5
          },
          "size": [
           12,
           30
          ]
         },
         "mode": "text+markers",
         "name": "REMIND 2.1",
         "showlegend": false,
         "text": [
          "",
          "N"
         ],
         "textfont": {
          "color": "black",
          "size": 25
         },
         "type": "scatter",
         "x": [
          1.0733254599186333,
          1.0738882345707694
         ],
         "xaxis": "x2",
         "y": [
          0.48771266774110367,
          0.4880790115863564
         ],
         "yaxis": "y2"
        },
        {
         "marker": {
          "color": "tomato",
          "line": {
           "color": "black",
           "width": 0.5
          },
          "size": [
           12,
           30
          ]
         },
         "mode": "text+markers",
         "name": "REMIND 2.1",
         "showlegend": false,
         "text": [
          "",
          "V"
         ],
         "textfont": {
          "color": "black",
          "size": 25
         },
         "type": "scatter",
         "x": [
          1.0733254599186333,
          1.0731360772455834
         ],
         "xaxis": "x2",
         "y": [
          0.48771266774110367,
          0.47099574793348575
         ],
         "yaxis": "y2"
        },
        {
         "marker": {
          "color": "tomato",
          "line": {
           "color": "black",
           "width": 0.5
          },
          "size": [
           12,
           30
          ]
         },
         "mode": "text+markers",
         "name": "REMIND 2.1",
         "showlegend": false,
         "text": [
          "",
          "El"
         ],
         "textfont": {
          "color": "black",
          "size": 25
         },
         "type": "scatter",
         "x": [
          1.0733254599186333,
          1.0777611246891847
         ],
         "xaxis": "x2",
         "y": [
          0.48771266774110367,
          0.48430526057545764
         ],
         "yaxis": "y2"
        },
        {
         "marker": {
          "color": "tomato",
          "line": {
           "color": "black",
           "width": 0.5
          },
          "size": [
           12,
           30
          ]
         },
         "mode": "text+markers",
         "name": "REMIND 2.1",
         "showlegend": false,
         "text": [
          "",
          "H"
         ],
         "textfont": {
          "color": "black",
          "size": 25
         },
         "type": "scatter",
         "x": [
          1.0733254599186333,
          1.0795177915413507
         ],
         "xaxis": "x2",
         "y": [
          0.48771266774110367,
          0.4447821752361072
         ],
         "yaxis": "y2"
        },
        {
         "marker": {
          "color": "tomato",
          "line": {
           "color": "black",
           "width": 0.5
          },
          "size": [
           12,
           30
          ]
         },
         "mode": "text+markers",
         "name": "REMIND 2.1",
         "showlegend": false,
         "text": [
          "",
          "F"
         ],
         "textfont": {
          "color": "black",
          "size": 25
         },
         "type": "scatter",
         "x": [
          1.0733254599186333,
          1.05271634804565
         ],
         "xaxis": "x2",
         "y": [
          0.48771266774110367,
          0.448701277891735
         ],
         "yaxis": "y2"
        },
        {
         "marker": {
          "color": "tomato",
          "line": {
           "color": "black",
           "width": 0.5
          },
          "size": [
           12,
           30
          ]
         },
         "mode": "text+markers",
         "name": "REMIND 2.1",
         "showlegend": false,
         "text": [
          "",
          "Ef"
         ],
         "textfont": {
          "color": "black",
          "size": 25
         },
         "type": "scatter",
         "x": [
          1.0733254599186333,
          1.122878795830188
         ],
         "xaxis": "x2",
         "y": [
          0.48771266774110367,
          0.6122677134934223
         ],
         "yaxis": "y2"
        },
        {
         "marker": {
          "color": "forestgreen",
          "line": {
           "color": "black",
           "width": 0.5
          },
          "size": [
           12,
           30
          ]
         },
         "mode": "text+markers",
         "name": "WITCH 5.0",
         "showlegend": false,
         "text": [
          "",
          "B"
         ],
         "textfont": {
          "color": "black",
          "size": 25
         },
         "type": "scatter",
         "x": [
          0.8958047678362874,
          0.8229147665576807
         ],
         "xaxis": "x2",
         "y": [
          0.6671711958591166,
          0.6705687156127279
         ],
         "yaxis": "y2"
        },
        {
         "marker": {
          "color": "forestgreen",
          "line": {
           "color": "black",
           "width": 0.5
          },
          "size": [
           12,
           30
          ]
         },
         "mode": "text+markers",
         "name": "WITCH 5.0",
         "showlegend": false,
         "text": [
          "",
          "C"
         ],
         "textfont": {
          "color": "black",
          "size": 25
         },
         "type": "scatter",
         "x": [
          0.8958047678362874,
          0.6671892870203155
         ],
         "xaxis": "x2",
         "y": [
          0.6671711958591166,
          0.6762278938358366
         ],
         "yaxis": "y2"
        },
        {
         "marker": {
          "color": "forestgreen",
          "line": {
           "color": "black",
           "width": 0.5
          },
          "size": [
           12,
           30
          ]
         },
         "mode": "text+markers",
         "name": "WITCH 5.0",
         "showlegend": false,
         "text": [
          "",
          "N"
         ],
         "textfont": {
          "color": "black",
          "size": 25
         },
         "type": "scatter",
         "x": [
          0.8958047678362874,
          0.8956639018369413
         ],
         "xaxis": "x2",
         "y": [
          0.6671711958591166,
          0.6680675005045474
         ],
         "yaxis": "y2"
        },
        {
         "marker": {
          "color": "forestgreen",
          "line": {
           "color": "black",
           "width": 0.5
          },
          "size": [
           12,
           30
          ]
         },
         "mode": "text+markers",
         "name": "WITCH 5.0",
         "showlegend": false,
         "text": [
          "",
          "V"
         ],
         "textfont": {
          "color": "black",
          "size": 25
         },
         "type": "scatter",
         "x": [
          0.8958047678362874,
          0.8957590317689078
         ],
         "xaxis": "x2",
         "y": [
          0.6671711958591166,
          0.6671598283198472
         ],
         "yaxis": "y2"
        },
        {
         "marker": {
          "color": "forestgreen",
          "line": {
           "color": "black",
           "width": 0.5
          },
          "size": [
           12,
           30
          ]
         },
         "mode": "text+markers",
         "name": "WITCH 5.0",
         "showlegend": false,
         "text": [
          "",
          "El"
         ],
         "textfont": {
          "color": "black",
          "size": 25
         },
         "type": "scatter",
         "x": [
          0.8958047678362874,
          1.0650770808814358
         ],
         "xaxis": "x2",
         "y": [
          0.6671711958591166,
          0.6041343828420269
         ],
         "yaxis": "y2"
        },
        {
         "marker": {
          "color": "forestgreen",
          "line": {
           "color": "black",
           "width": 0.5
          },
          "size": [
           12,
           30
          ]
         },
         "mode": "text+markers",
         "name": "WITCH 5.0",
         "showlegend": false,
         "text": [
          "",
          "H"
         ],
         "textfont": {
          "color": "black",
          "size": 25
         },
         "type": "scatter",
         "x": [
          0.8958047678362874,
          0.8953845388999544
         ],
         "xaxis": "x2",
         "y": [
          0.6671711958591166,
          0.6676421957688525
         ],
         "yaxis": "y2"
        },
        {
         "marker": {
          "color": "forestgreen",
          "line": {
           "color": "black",
           "width": 0.5
          },
          "size": [
           12,
           30
          ]
         },
         "mode": "text+markers",
         "name": "WITCH 5.0",
         "showlegend": false,
         "text": [
          "",
          "F"
         ],
         "textfont": {
          "color": "black",
          "size": 25
         },
         "type": "scatter",
         "x": [
          0.8958047678362874,
          1.193994963435427
         ],
         "xaxis": "x2",
         "y": [
          0.6671711958591166,
          0.5709131498193737
         ],
         "yaxis": "y2"
        },
        {
         "marker": {
          "color": "forestgreen",
          "line": {
           "color": "black",
           "width": 0.5
          },
          "size": [
           12,
           30
          ]
         },
         "mode": "text+markers",
         "name": "WITCH 5.0",
         "showlegend": false,
         "text": [
          "",
          "Ef"
         ],
         "textfont": {
          "color": "black",
          "size": 25
         },
         "type": "scatter",
         "x": [
          0.8958047678362874,
          0.8839425523823173
         ],
         "xaxis": "x2",
         "y": [
          0.6671711958591166,
          0.6533089442879111
         ],
         "yaxis": "y2"
        },
        {
         "marker": {
          "color": "darkgrey",
          "line": {
           "color": "black",
           "width": 0.5
          },
          "size": [
           12,
           30
          ]
         },
         "mode": "text+markers",
         "name": "Euro-Calliope 2.0",
         "showlegend": false,
         "text": [
          "",
          "B"
         ],
         "textfont": {
          "color": "black",
          "size": 25
         },
         "type": "scatter",
         "x": [
          0.9998138080079082,
          0.9998138080079082
         ],
         "xaxis": "x2",
         "y": [
          0.4524022955336941,
          0.4524022955336941
         ],
         "yaxis": "y2"
        },
        {
         "marker": {
          "color": "darkgrey",
          "line": {
           "color": "black",
           "width": 0.5
          },
          "size": [
           12,
           30
          ]
         },
         "mode": "text+markers",
         "name": "Euro-Calliope 2.0",
         "showlegend": false,
         "text": [
          "",
          "C"
         ],
         "textfont": {
          "color": "black",
          "size": 25
         },
         "type": "scatter",
         "x": [
          0.9998138080079082,
          0.9998138080079082
         ],
         "xaxis": "x2",
         "y": [
          0.4524022955336941,
          0.4524022955336941
         ],
         "yaxis": "y2"
        },
        {
         "marker": {
          "color": "darkgrey",
          "line": {
           "color": "black",
           "width": 0.5
          },
          "size": [
           12,
           30
          ]
         },
         "mode": "text+markers",
         "name": "Euro-Calliope 2.0",
         "showlegend": false,
         "text": [
          "",
          "N"
         ],
         "textfont": {
          "color": "black",
          "size": 25
         },
         "type": "scatter",
         "x": [
          0.9998138080079082,
          0.9997719072977242
         ],
         "xaxis": "x2",
         "y": [
          0.4524022955336941,
          0.45146724053690834
         ],
         "yaxis": "y2"
        },
        {
         "marker": {
          "color": "darkgrey",
          "line": {
           "color": "black",
           "width": 0.5
          },
          "size": [
           12,
           30
          ]
         },
         "mode": "text+markers",
         "name": "Euro-Calliope 2.0",
         "showlegend": false,
         "text": [
          "",
          "V"
         ],
         "textfont": {
          "color": "black",
          "size": 25
         },
         "type": "scatter",
         "x": [
          0.9998138080079082,
          0.9998150061764638
         ],
         "xaxis": "x2",
         "y": [
          0.4524022955336941,
          0.452526229046235
         ],
         "yaxis": "y2"
        },
        {
         "marker": {
          "color": "darkgrey",
          "line": {
           "color": "black",
           "width": 0.5
          },
          "size": [
           12,
           30
          ]
         },
         "mode": "text+markers",
         "name": "Euro-Calliope 2.0",
         "showlegend": false,
         "text": [
          "",
          "El"
         ],
         "textfont": {
          "color": "black",
          "size": 25
         },
         "type": "scatter",
         "x": [
          0.9998138080079082,
          0.999992985248591
         ],
         "xaxis": "x2",
         "y": [
          0.4524022955336941,
          0.45511921071429445
         ],
         "yaxis": "y2"
        },
        {
         "marker": {
          "color": "darkgrey",
          "line": {
           "color": "black",
           "width": 0.5
          },
          "size": [
           12,
           30
          ]
         },
         "mode": "text+markers",
         "name": "Euro-Calliope 2.0",
         "showlegend": false,
         "text": [
          "",
          "H"
         ],
         "textfont": {
          "color": "black",
          "size": 25
         },
         "type": "scatter",
         "x": [
          0.9998138080079082,
          0.9998254643868822
         ],
         "xaxis": "x2",
         "y": [
          0.4524022955336941,
          0.4525674599702092
         ],
         "yaxis": "y2"
        },
        {
         "marker": {
          "color": "darkgrey",
          "line": {
           "color": "black",
           "width": 0.5
          },
          "size": [
           12,
           30
          ]
         },
         "mode": "text+markers",
         "name": "Euro-Calliope 2.0",
         "showlegend": false,
         "text": [
          "",
          "F"
         ],
         "textfont": {
          "color": "black",
          "size": 25
         },
         "type": "scatter",
         "x": [
          0.9998138080079082,
          0.9998124686099902
         ],
         "xaxis": "x2",
         "y": [
          0.4524022955336941,
          0.45255341669825067
         ],
         "yaxis": "y2"
        },
        {
         "marker": {
          "color": "darkgrey",
          "line": {
           "color": "black",
           "width": 0.5
          },
          "size": [
           12,
           30
          ]
         },
         "mode": "text+markers",
         "name": "Euro-Calliope 2.0",
         "showlegend": false,
         "text": [
          "",
          "Ef"
         ],
         "textfont": {
          "color": "black",
          "size": 25
         },
         "type": "scatter",
         "x": [
          0.9998138080079082,
          0.9998134409903556
         ],
         "xaxis": "x2",
         "y": [
          0.4524022955336941,
          0.45245387054781167
         ],
         "yaxis": "y2"
        },
        {
         "marker": {
          "color": "royalblue",
          "line": {
           "color": "black",
           "width": 0.5
          },
          "size": [
           12,
           30
          ]
         },
         "mode": "text+markers",
         "name": "TIAM-ECN 1.2",
         "showlegend": false,
         "text": [
          "",
          "B"
         ],
         "textfont": {
          "color": "black",
          "size": 25
         },
         "type": "scatter",
         "x": [
          0.7151672196785851,
          0.5335289680725829
         ],
         "xaxis": "x2",
         "y": [
          0.35889425097032657,
          0.5281689049702004
         ],
         "yaxis": "y2"
        },
        {
         "marker": {
          "color": "royalblue",
          "line": {
           "color": "black",
           "width": 0.5
          },
          "size": [
           12,
           30
          ]
         },
         "mode": "text+markers",
         "name": "TIAM-ECN 1.2",
         "showlegend": false,
         "text": [
          "",
          "C"
         ],
         "textfont": {
          "color": "black",
          "size": 25
         },
         "type": "scatter",
         "x": [
          0.7151672196785851,
          0.5882295202583115
         ],
         "xaxis": "x2",
         "y": [
          0.35889425097032657,
          0.5243177313844664
         ],
         "yaxis": "y2"
        },
        {
         "marker": {
          "color": "royalblue",
          "line": {
           "color": "black",
           "width": 0.5
          },
          "size": [
           12,
           30
          ]
         },
         "mode": "text+markers",
         "name": "TIAM-ECN 1.2",
         "showlegend": false,
         "text": [
          "",
          "N"
         ],
         "textfont": {
          "color": "black",
          "size": 25
         },
         "type": "scatter",
         "x": [
          0.7151672196785851,
          0.5817896982982703
         ],
         "xaxis": "x2",
         "y": [
          0.35889425097032657,
          0.522437586603596
         ],
         "yaxis": "y2"
        },
        {
         "marker": {
          "color": "royalblue",
          "line": {
           "color": "black",
           "width": 0.5
          },
          "size": [
           12,
           30
          ]
         },
         "mode": "text+markers",
         "name": "TIAM-ECN 1.2",
         "showlegend": false,
         "text": [
          "",
          "V"
         ],
         "textfont": {
          "color": "black",
          "size": 25
         },
         "type": "scatter",
         "x": [
          0.7151672196785851,
          0.5840737882294659
         ],
         "xaxis": "x2",
         "y": [
          0.35889425097032657,
          0.5252020478565694
         ],
         "yaxis": "y2"
        },
        {
         "marker": {
          "color": "royalblue",
          "line": {
           "color": "black",
           "width": 0.5
          },
          "size": [
           12,
           30
          ]
         },
         "mode": "text+markers",
         "name": "TIAM-ECN 1.2",
         "showlegend": false,
         "text": [
          "",
          "El"
         ],
         "textfont": {
          "color": "black",
          "size": 25
         },
         "type": "scatter",
         "x": [
          0.7151672196785851,
          0.6371993733265502
         ],
         "xaxis": "x2",
         "y": [
          0.35889425097032657,
          0.5198783412833305
         ],
         "yaxis": "y2"
        },
        {
         "marker": {
          "color": "royalblue",
          "line": {
           "color": "black",
           "width": 0.5
          },
          "size": [
           12,
           30
          ]
         },
         "mode": "text+markers",
         "name": "TIAM-ECN 1.2",
         "showlegend": false,
         "text": [
          "",
          "H"
         ],
         "textfont": {
          "color": "black",
          "size": 25
         },
         "type": "scatter",
         "x": [
          0.7151672196785851,
          0.634424319969654
         ],
         "xaxis": "x2",
         "y": [
          0.35889425097032657,
          0.5239350442669821
         ],
         "yaxis": "y2"
        },
        {
         "marker": {
          "color": "royalblue",
          "line": {
           "color": "black",
           "width": 0.5
          },
          "size": [
           12,
           30
          ]
         },
         "mode": "text+markers",
         "name": "TIAM-ECN 1.2",
         "showlegend": false,
         "text": [
          "",
          "F"
         ],
         "textfont": {
          "color": "black",
          "size": 25
         },
         "type": "scatter",
         "x": [
          0.7151672196785851,
          null
         ],
         "xaxis": "x2",
         "y": [
          0.35889425097032657,
          null
         ],
         "yaxis": "y2"
        },
        {
         "marker": {
          "color": "royalblue",
          "line": {
           "color": "black",
           "width": 0.5
          },
          "size": [
           12,
           30
          ]
         },
         "mode": "text+markers",
         "name": "TIAM-ECN 1.2",
         "showlegend": false,
         "text": [
          "",
          "Ef"
         ],
         "textfont": {
          "color": "black",
          "size": 25
         },
         "type": "scatter",
         "x": [
          0.7151672196785851,
          0.9763922051433106
         ],
         "xaxis": "x2",
         "y": [
          0.35889425097032657,
          0.4660321554305639
         ],
         "yaxis": "y2"
        },
        {
         "marker": {
          "color": "purple",
          "line": {
           "color": "black",
           "width": 0.5
          },
          "size": [
           12,
           30
          ]
         },
         "mode": "text+markers",
         "name": "MESSAGEix-GLOBIOM 1.2",
         "showlegend": false,
         "text": [
          "",
          "B"
         ],
         "textfont": {
          "color": "black",
          "size": 25
         },
         "type": "scatter",
         "x": [
          0.8729198452260192,
          0.8603454599279173
         ],
         "xaxis": "x2",
         "y": [
          0.4448348577712002,
          0.45446598824774226
         ],
         "yaxis": "y2"
        },
        {
         "marker": {
          "color": "purple",
          "line": {
           "color": "black",
           "width": 0.5
          },
          "size": [
           12,
           30
          ]
         },
         "mode": "text+markers",
         "name": "MESSAGEix-GLOBIOM 1.2",
         "showlegend": false,
         "text": [
          "",
          "C"
         ],
         "textfont": {
          "color": "black",
          "size": 25
         },
         "type": "scatter",
         "x": [
          0.8729198452260192,
          0.8725404130195341
         ],
         "xaxis": "x2",
         "y": [
          0.4448348577712002,
          0.4490517536075951
         ],
         "yaxis": "y2"
        },
        {
         "marker": {
          "color": "purple",
          "line": {
           "color": "black",
           "width": 0.5
          },
          "size": [
           12,
           30
          ]
         },
         "mode": "text+markers",
         "name": "MESSAGEix-GLOBIOM 1.2",
         "showlegend": false,
         "text": [
          "",
          "N"
         ],
         "textfont": {
          "color": "black",
          "size": 25
         },
         "type": "scatter",
         "x": [
          0.8729198452260192,
          0.8717435148069832
         ],
         "xaxis": "x2",
         "y": [
          0.4448348577712002,
          0.44522963583068575
         ],
         "yaxis": "y2"
        },
        {
         "marker": {
          "color": "purple",
          "line": {
           "color": "black",
           "width": 0.5
          },
          "size": [
           12,
           30
          ]
         },
         "mode": "text+markers",
         "name": "MESSAGEix-GLOBIOM 1.2",
         "showlegend": false,
         "text": [
          "",
          "V"
         ],
         "textfont": {
          "color": "black",
          "size": 25
         },
         "type": "scatter",
         "x": [
          0.8729198452260192,
          0.881441089868295
         ],
         "xaxis": "x2",
         "y": [
          0.4448348577712002,
          0.4435445534161042
         ],
         "yaxis": "y2"
        },
        {
         "marker": {
          "color": "purple",
          "line": {
           "color": "black",
           "width": 0.5
          },
          "size": [
           12,
           30
          ]
         },
         "mode": "text+markers",
         "name": "MESSAGEix-GLOBIOM 1.2",
         "showlegend": false,
         "text": [
          "",
          "El"
         ],
         "textfont": {
          "color": "black",
          "size": 25
         },
         "type": "scatter",
         "x": [
          0.8729198452260192,
          0.9020292333727012
         ],
         "xaxis": "x2",
         "y": [
          0.4448348577712002,
          0.4364987783301584
         ],
         "yaxis": "y2"
        },
        {
         "marker": {
          "color": "purple",
          "line": {
           "color": "black",
           "width": 0.5
          },
          "size": [
           12,
           30
          ]
         },
         "mode": "text+markers",
         "name": "MESSAGEix-GLOBIOM 1.2",
         "showlegend": false,
         "text": [
          "",
          "H"
         ],
         "textfont": {
          "color": "black",
          "size": 25
         },
         "type": "scatter",
         "x": [
          0.8729198452260192,
          0.8675627147004454
         ],
         "xaxis": "x2",
         "y": [
          0.4448348577712002,
          0.44551427702477037
         ],
         "yaxis": "y2"
        },
        {
         "marker": {
          "color": "purple",
          "line": {
           "color": "black",
           "width": 0.5
          },
          "size": [
           12,
           30
          ]
         },
         "mode": "text+markers",
         "name": "MESSAGEix-GLOBIOM 1.2",
         "showlegend": false,
         "text": [
          "",
          "F"
         ],
         "textfont": {
          "color": "black",
          "size": 25
         },
         "type": "scatter",
         "x": [
          0.8729198452260192,
          0.9129642869506871
         ],
         "xaxis": "x2",
         "y": [
          0.4448348577712002,
          0.4707762401778332
         ],
         "yaxis": "y2"
        },
        {
         "marker": {
          "color": "purple",
          "line": {
           "color": "black",
           "width": 0.5
          },
          "size": [
           12,
           30
          ]
         },
         "mode": "text+markers",
         "name": "MESSAGEix-GLOBIOM 1.2",
         "showlegend": false,
         "text": [
          "",
          "Ef"
         ],
         "textfont": {
          "color": "black",
          "size": 25
         },
         "type": "scatter",
         "x": [
          0.8729198452260192,
          null
         ],
         "xaxis": "x2",
         "y": [
          0.4448348577712002,
          null
         ],
         "yaxis": "y2"
        },
        {
         "marker": {
          "color": "palegreen",
          "line": {
           "color": "black",
           "width": 0.5
          },
          "size": [
           12,
           30
          ]
         },
         "mode": "text+markers",
         "name": "PRIMES 2022",
         "showlegend": false,
         "text": [
          "",
          "B"
         ],
         "textfont": {
          "color": "black",
          "size": 25
         },
         "type": "scatter",
         "x": [
          0.9600139265139506,
          0.9481250561469743
         ],
         "xaxis": "x2",
         "y": [
          0.5264138654271823,
          0.5270817793327348
         ],
         "yaxis": "y2"
        },
        {
         "marker": {
          "color": "palegreen",
          "line": {
           "color": "black",
           "width": 0.5
          },
          "size": [
           12,
           30
          ]
         },
         "mode": "text+markers",
         "name": "PRIMES 2022",
         "showlegend": false,
         "text": [
          "",
          "C"
         ],
         "textfont": {
          "color": "black",
          "size": 25
         },
         "type": "scatter",
         "x": [
          0.9600139265139506,
          0.9076827503660237
         ],
         "xaxis": "x2",
         "y": [
          0.5264138654271823,
          0.5283350225413748
         ],
         "yaxis": "y2"
        },
        {
         "marker": {
          "color": "palegreen",
          "line": {
           "color": "black",
           "width": 0.5
          },
          "size": [
           12,
           30
          ]
         },
         "mode": "text+markers",
         "name": "PRIMES 2022",
         "showlegend": false,
         "text": [
          "",
          "N"
         ],
         "textfont": {
          "color": "black",
          "size": 25
         },
         "type": "scatter",
         "x": [
          0.9600139265139506,
          0.956535495983438
         ],
         "xaxis": "x2",
         "y": [
          0.5264138654271823,
          0.5266462582984731
         ],
         "yaxis": "y2"
        },
        {
         "marker": {
          "color": "palegreen",
          "line": {
           "color": "black",
           "width": 0.5
          },
          "size": [
           12,
           30
          ]
         },
         "mode": "text+markers",
         "name": "PRIMES 2022",
         "showlegend": false,
         "text": [
          "",
          "V"
         ],
         "textfont": {
          "color": "black",
          "size": 25
         },
         "type": "scatter",
         "x": [
          0.9600139265139506,
          null
         ],
         "xaxis": "x2",
         "y": [
          0.5264138654271823,
          null
         ],
         "yaxis": "y2"
        },
        {
         "marker": {
          "color": "palegreen",
          "line": {
           "color": "black",
           "width": 0.5
          },
          "size": [
           12,
           30
          ]
         },
         "mode": "text+markers",
         "name": "PRIMES 2022",
         "showlegend": false,
         "text": [
          "",
          "El"
         ],
         "textfont": {
          "color": "black",
          "size": 25
         },
         "type": "scatter",
         "x": [
          0.9600139265139506,
          0.9589909563387495
         ],
         "xaxis": "x2",
         "y": [
          0.5264138654271823,
          0.5340513810784656
         ],
         "yaxis": "y2"
        },
        {
         "marker": {
          "color": "palegreen",
          "line": {
           "color": "black",
           "width": 0.5
          },
          "size": [
           12,
           30
          ]
         },
         "mode": "text+markers",
         "name": "PRIMES 2022",
         "showlegend": false,
         "text": [
          "",
          "H"
         ],
         "textfont": {
          "color": "black",
          "size": 25
         },
         "type": "scatter",
         "x": [
          0.9600139265139506,
          0.9602343861970932
         ],
         "xaxis": "x2",
         "y": [
          0.5264138654271823,
          0.5186415798050134
         ],
         "yaxis": "y2"
        },
        {
         "marker": {
          "color": "palegreen",
          "line": {
           "color": "black",
           "width": 0.5
          },
          "size": [
           12,
           30
          ]
         },
         "mode": "text+markers",
         "name": "PRIMES 2022",
         "showlegend": false,
         "text": [
          "",
          "F"
         ],
         "textfont": {
          "color": "black",
          "size": 25
         },
         "type": "scatter",
         "x": [
          0.9600139265139506,
          null
         ],
         "xaxis": "x2",
         "y": [
          0.5264138654271823,
          null
         ],
         "yaxis": "y2"
        },
        {
         "marker": {
          "color": "palegreen",
          "line": {
           "color": "black",
           "width": 0.5
          },
          "size": [
           12,
           30
          ]
         },
         "mode": "text+markers",
         "name": "PRIMES 2022",
         "showlegend": false,
         "text": [
          "",
          "Ef"
         ],
         "textfont": {
          "color": "black",
          "size": 25
         },
         "type": "scatter",
         "x": [
          0.9600139265139506,
          0.9595246080572193
         ],
         "xaxis": "x2",
         "y": [
          0.5264138654271823,
          0.5727968182726543
         ],
         "yaxis": "y2"
        },
        {
         "hovertemplate": "<b>DIAG-C400-lin</b> <br>ERT: %{y:.2f} <br>Carbon capture: %{x:.2f}",
         "line": {
          "width": 4
         },
         "marker": {
          "color": "lightskyblue",
          "line": {
           "color": "black",
           "width": 4
          },
          "size": 30,
          "symbol": "square"
         },
         "mode": "markers+text",
         "name": "IMAGE",
         "showlegend": false,
         "type": "scatter",
         "x": [
          -1000
         ],
         "xaxis": "x2",
         "y": [
          1000
         ],
         "yaxis": "y2"
        },
        {
         "hovertemplate": "<b>DIAG-C400-lin</b> <br>ERT: %{y:.2f} <br>Carbon capture: %{x:.2f}",
         "line": {
          "width": 4
         },
         "marker": {
          "color": "goldenrod",
          "line": {
           "color": "black",
           "width": 4
          },
          "size": 30,
          "symbol": "square"
         },
         "mode": "markers+text",
         "name": "PROMETHEUS",
         "showlegend": false,
         "type": "scatter",
         "x": [
          -1000
         ],
         "xaxis": "x2",
         "y": [
          1000
         ],
         "yaxis": "y2"
        },
        {
         "hovertemplate": "<b>DIAG-C400-lin</b> <br>ERT: %{y:.2f} <br>Carbon capture: %{x:.2f}",
         "line": {
          "width": 4
         },
         "marker": {
          "color": "tomato",
          "line": {
           "color": "black",
           "width": 4
          },
          "size": 30,
          "symbol": "square"
         },
         "mode": "markers+text",
         "name": "REMIND",
         "showlegend": false,
         "type": "scatter",
         "x": [
          -1000
         ],
         "xaxis": "x2",
         "y": [
          1000
         ],
         "yaxis": "y2"
        },
        {
         "hovertemplate": "<b>DIAG-C400-lin</b> <br>ERT: %{y:.2f} <br>Carbon capture: %{x:.2f}",
         "line": {
          "width": 4
         },
         "marker": {
          "color": "forestgreen",
          "line": {
           "color": "black",
           "width": 4
          },
          "size": 30,
          "symbol": "square"
         },
         "mode": "markers+text",
         "name": "WITCH",
         "showlegend": false,
         "type": "scatter",
         "x": [
          -1000
         ],
         "xaxis": "x2",
         "y": [
          1000
         ],
         "yaxis": "y2"
        },
        {
         "hovertemplate": "<b>DIAG-C400-lin</b> <br>ERT: %{y:.2f} <br>Carbon capture: %{x:.2f}",
         "line": {
          "width": 4
         },
         "marker": {
          "color": "darkgrey",
          "line": {
           "color": "black",
           "width": 4
          },
          "size": 30,
          "symbol": "square"
         },
         "mode": "markers+text",
         "name": "Euro-Calliope",
         "showlegend": false,
         "type": "scatter",
         "x": [
          -1000
         ],
         "xaxis": "x2",
         "y": [
          1000
         ],
         "yaxis": "y2"
        },
        {
         "hovertemplate": "<b>DIAG-C400-lin</b> <br>ERT: %{y:.2f} <br>Carbon capture: %{x:.2f}",
         "line": {
          "width": 4
         },
         "marker": {
          "color": "royalblue",
          "line": {
           "color": "black",
           "width": 4
          },
          "size": 30,
          "symbol": "square"
         },
         "mode": "markers+text",
         "name": "TIAM-ECN",
         "showlegend": false,
         "type": "scatter",
         "x": [
          -1000
         ],
         "xaxis": "x2",
         "y": [
          1000
         ],
         "yaxis": "y2"
        },
        {
         "hovertemplate": "<b>DIAG-C400-lin</b> <br>ERT: %{y:.2f} <br>Carbon capture: %{x:.2f}",
         "line": {
          "width": 4
         },
         "marker": {
          "color": "purple",
          "line": {
           "color": "black",
           "width": 4
          },
          "size": 30,
          "symbol": "square"
         },
         "mode": "markers+text",
         "name": "MESSAGE",
         "showlegend": false,
         "type": "scatter",
         "x": [
          -1000
         ],
         "xaxis": "x2",
         "y": [
          1000
         ],
         "yaxis": "y2"
        },
        {
         "hovertemplate": "<b>DIAG-C400-lin</b> <br>ERT: %{y:.2f} <br>Carbon capture: %{x:.2f}",
         "line": {
          "width": 4
         },
         "marker": {
          "color": "palegreen",
          "line": {
           "color": "black",
           "width": 4
          },
          "size": 30,
          "symbol": "square"
         },
         "mode": "markers+text",
         "name": "PRIMES",
         "showlegend": false,
         "type": "scatter",
         "x": [
          -1000
         ],
         "xaxis": "x2",
         "y": [
          1000
         ],
         "yaxis": "y2"
        },
        {
         "hovertemplate": "<b>DIAG-C400-lin</b> <br>ERT: %{y:.2f} <br>Carbon capture: %{x:.2f}",
         "line": {
          "width": 4
         },
         "marker": {
          "color": "black",
          "line": {
           "color": "black",
           "width": 4
          },
          "size": 12,
          "symbol": "circle"
         },
         "mode": "markers",
         "name": "IMAGE",
         "showlegend": false,
         "text": "<b>-</b>",
         "type": "scatter",
         "x": [
          0.9638214061466025
         ],
         "xaxis": "x2",
         "y": [
          0.5012689329897626
         ],
         "yaxis": "y2"
        },
        {
         "hovertemplate": "<b>DIAG-C400-lin</b> <br>ERT: %{y:.2f} <br>Carbon capture: %{x:.2f}",
         "line": {
          "width": 4
         },
         "marker": {
          "color": "black",
          "line": {
           "color": "black",
           "width": 4
          },
          "size": 12,
          "symbol": "circle"
         },
         "mode": "markers",
         "name": "PROMETHEUS",
         "showlegend": false,
         "text": "<b>-</b>",
         "type": "scatter",
         "x": [
          0.9276672301553953
         ],
         "xaxis": "x2",
         "y": [
          0.5539067871971037
         ],
         "yaxis": "y2"
        },
        {
         "hovertemplate": "<b>DIAG-C400-lin</b> <br>ERT: %{y:.2f} <br>Carbon capture: %{x:.2f}",
         "line": {
          "width": 4
         },
         "marker": {
          "color": "black",
          "line": {
           "color": "black",
           "width": 4
          },
          "size": 12,
          "symbol": "circle"
         },
         "mode": "markers",
         "name": "REMIND",
         "showlegend": false,
         "text": "<b>-</b>",
         "type": "scatter",
         "x": [
          1.0733254599186333
         ],
         "xaxis": "x2",
         "y": [
          0.48771266774110367
         ],
         "yaxis": "y2"
        },
        {
         "hovertemplate": "<b>DIAG-C400-lin</b> <br>ERT: %{y:.2f} <br>Carbon capture: %{x:.2f}",
         "line": {
          "width": 4
         },
         "marker": {
          "color": "black",
          "line": {
           "color": "black",
           "width": 4
          },
          "size": 12,
          "symbol": "circle"
         },
         "mode": "markers",
         "name": "WITCH",
         "showlegend": false,
         "text": "<b>-</b>",
         "type": "scatter",
         "x": [
          0.8958047678362874
         ],
         "xaxis": "x2",
         "y": [
          0.6671711958591166
         ],
         "yaxis": "y2"
        },
        {
         "hovertemplate": "<b>DIAG-C400-lin</b> <br>ERT: %{y:.2f} <br>Carbon capture: %{x:.2f}",
         "line": {
          "width": 4
         },
         "marker": {
          "color": "black",
          "line": {
           "color": "black",
           "width": 4
          },
          "size": 12,
          "symbol": "circle"
         },
         "mode": "markers",
         "name": "Euro-Calliope",
         "showlegend": false,
         "text": "<b>-</b>",
         "type": "scatter",
         "x": [
          0.9998138080079082
         ],
         "xaxis": "x2",
         "y": [
          0.4524022955336941
         ],
         "yaxis": "y2"
        },
        {
         "hovertemplate": "<b>DIAG-C400-lin</b> <br>ERT: %{y:.2f} <br>Carbon capture: %{x:.2f}",
         "line": {
          "width": 4
         },
         "marker": {
          "color": "black",
          "line": {
           "color": "black",
           "width": 4
          },
          "size": 12,
          "symbol": "circle"
         },
         "mode": "markers",
         "name": "TIAM-ECN",
         "showlegend": false,
         "text": "<b>-</b>",
         "type": "scatter",
         "x": [
          0.7151672196785851
         ],
         "xaxis": "x2",
         "y": [
          0.35889425097032657
         ],
         "yaxis": "y2"
        },
        {
         "hovertemplate": "<b>DIAG-C400-lin</b> <br>ERT: %{y:.2f} <br>Carbon capture: %{x:.2f}",
         "line": {
          "width": 4
         },
         "marker": {
          "color": "black",
          "line": {
           "color": "black",
           "width": 4
          },
          "size": 12,
          "symbol": "circle"
         },
         "mode": "markers",
         "name": "MESSAGE",
         "showlegend": false,
         "text": "<b>-</b>",
         "type": "scatter",
         "x": [
          0.8729198452260192
         ],
         "xaxis": "x2",
         "y": [
          0.4448348577712002
         ],
         "yaxis": "y2"
        },
        {
         "hovertemplate": "<b>DIAG-C400-lin</b> <br>ERT: %{y:.2f} <br>Carbon capture: %{x:.2f}",
         "line": {
          "width": 4
         },
         "marker": {
          "color": "black",
          "line": {
           "color": "black",
           "width": 4
          },
          "size": 12,
          "symbol": "circle"
         },
         "mode": "markers",
         "name": "PRIMES",
         "showlegend": false,
         "text": "<b>-</b>",
         "type": "scatter",
         "x": [
          0.9600139265139506
         ],
         "xaxis": "x2",
         "y": [
          0.5264138654271823
         ],
         "yaxis": "y2"
        },
        {
         "marker": {
          "color": "white",
          "line": {
           "color": "black",
           "width": 0.5
          },
          "size": 25
         },
         "mode": "text+markers",
         "name": "PRIMES 2022",
         "showlegend": false,
         "text": [
          "B"
         ],
         "textfont": {
          "color": "black",
          "size": 15
         },
         "type": "scatter",
         "x": [
          260
         ],
         "xaxis": "x",
         "y": [
          1.25
         ],
         "yaxis": "y"
        },
        {
         "marker": {
          "color": "white",
          "line": {
           "color": "black",
           "width": 0.5
          },
          "size": 25
         },
         "mode": "text+markers",
         "name": "PRIMES 2022",
         "showlegend": false,
         "text": [
          "C"
         ],
         "textfont": {
          "color": "black",
          "size": 15
         },
         "type": "scatter",
         "x": [
          260
         ],
         "xaxis": "x",
         "y": [
          1.22
         ],
         "yaxis": "y"
        },
        {
         "marker": {
          "color": "white",
          "line": {
           "color": "black",
           "width": 0.5
          },
          "size": 25
         },
         "mode": "text+markers",
         "name": "PRIMES 2022",
         "showlegend": false,
         "text": [
          "N"
         ],
         "textfont": {
          "color": "black",
          "size": 15
         },
         "type": "scatter",
         "x": [
          260
         ],
         "xaxis": "x",
         "y": [
          1.19
         ],
         "yaxis": "y"
        },
        {
         "marker": {
          "color": "white",
          "line": {
           "color": "black",
           "width": 0.5
          },
          "size": 25
         },
         "mode": "text+markers",
         "name": "PRIMES 2022",
         "showlegend": false,
         "text": [
          "V"
         ],
         "textfont": {
          "color": "black",
          "size": 15
         },
         "type": "scatter",
         "x": [
          260
         ],
         "xaxis": "x",
         "y": [
          1.16
         ],
         "yaxis": "y"
        },
        {
         "marker": {
          "color": "white",
          "line": {
           "color": "black",
           "width": 0.5
          },
          "size": 25
         },
         "mode": "text+markers",
         "name": "PRIMES 2022",
         "showlegend": false,
         "text": [
          "El"
         ],
         "textfont": {
          "color": "black",
          "size": 15
         },
         "type": "scatter",
         "x": [
          260
         ],
         "xaxis": "x",
         "y": [
          1.13
         ],
         "yaxis": "y"
        },
        {
         "marker": {
          "color": "white",
          "line": {
           "color": "black",
           "width": 0.5
          },
          "size": 25
         },
         "mode": "text+markers",
         "name": "PRIMES 2022",
         "showlegend": false,
         "text": [
          "H"
         ],
         "textfont": {
          "color": "black",
          "size": 15
         },
         "type": "scatter",
         "x": [
          260
         ],
         "xaxis": "x",
         "y": [
          1.1
         ],
         "yaxis": "y"
        },
        {
         "marker": {
          "color": "white",
          "line": {
           "color": "black",
           "width": 0.5
          },
          "size": 25
         },
         "mode": "text+markers",
         "name": "PRIMES 2022",
         "showlegend": false,
         "text": [
          "F"
         ],
         "textfont": {
          "color": "black",
          "size": 15
         },
         "type": "scatter",
         "x": [
          260
         ],
         "xaxis": "x",
         "y": [
          1.07
         ],
         "yaxis": "y"
        },
        {
         "marker": {
          "color": "white",
          "line": {
           "color": "black",
           "width": 0.5
          },
          "size": 25
         },
         "mode": "text+markers",
         "name": "PRIMES 2022",
         "showlegend": false,
         "text": [
          "Ef"
         ],
         "textfont": {
          "color": "black",
          "size": 15
         },
         "type": "scatter",
         "x": [
          260
         ],
         "xaxis": "x",
         "y": [
          1.04
         ],
         "yaxis": "y"
        },
        {
         "marker": {
          "color": "white",
          "line": {
           "color": "black",
           "width": 0.5
          },
          "size": 25
         },
         "mode": "text+markers",
         "name": "PRIMES 2022",
         "showlegend": false,
         "text": [
          "-"
         ],
         "textfont": {
          "color": "black",
          "size": 15
         },
         "type": "scatter",
         "x": [
          260
         ],
         "xaxis": "x",
         "y": [
          1.01
         ],
         "yaxis": "y"
        },
        {
         "line": {
          "color": "lightskyblue",
          "width": 4
         },
         "mode": "lines",
         "name": "IMAGE",
         "showlegend": false,
         "type": "scatter",
         "x": [
          1995,
          1996,
          1997,
          1998,
          1999,
          2000,
          2001,
          2002,
          2003,
          2004,
          2005,
          2006,
          2007,
          2008,
          2009,
          2010,
          2011,
          2012,
          2013,
          2014,
          2015,
          2016,
          2017,
          2018,
          2019,
          2020,
          2021,
          2022,
          2023,
          2024,
          2025,
          2026,
          2027,
          2028,
          2029,
          2030,
          2031,
          2032,
          2033,
          2034,
          2035,
          2036,
          2037,
          2038,
          2039,
          2040,
          2041,
          2042,
          2043,
          2044,
          2045,
          2046,
          2047,
          2048,
          2049,
          2050,
          2051,
          2052,
          2053,
          2054,
          2055,
          2056,
          2057,
          2058,
          2059,
          2060,
          2061,
          2062,
          2063,
          2064,
          2065,
          2066,
          2067,
          2068,
          2069,
          2070,
          2071,
          2072,
          2073,
          2074,
          2075,
          2076,
          2077,
          2078,
          2079,
          2080,
          2081,
          2082,
          2083,
          2084,
          2085,
          2086,
          2087,
          2088,
          2089,
          2090,
          2091,
          2092,
          2093,
          2094,
          2095,
          2096,
          2097,
          2098,
          2099,
          2100
         ],
         "xaxis": "x3",
         "y": [
          null,
          null,
          null,
          null,
          null,
          null,
          null,
          null,
          null,
          null,
          null,
          null,
          null,
          null,
          null,
          null,
          null,
          null,
          null,
          null,
          null,
          null,
          null,
          null,
          null,
          7.293566675032287e-7,
          0.0000040359483079494085,
          0.000013372072928201913,
          0.000029768164956499625,
          0.00005481264447411248,
          0.00009099931909863867,
          0.0001639928763171182,
          0.00034256955000204036,
          0.0006215256131701356,
          0.0010057871703594088,
          0.0015185610773435557,
          0.0025266339324465674,
          0.003960776954327971,
          0.005883638259636135,
          0.008417144148925042,
          0.01176089742070136,
          0.015312771546546306,
          0.020110994668202136,
          0.02642600285691123,
          0.03475354163826989,
          0.045986893246767795,
          0.04896308286443631,
          0.052562970825093584,
          0.0568442483394029,
          0.06192174629595782,
          0.06799161783356934,
          0.07204046577664157,
          0.0775995687641683,
          0.08525552616516581,
          0.0961105713151466,
          0.11234281493503741,
          0.12150396954785843,
          0.13207062793754662,
          0.14423161573089047,
          0.15822297152013223,
          0.17434072392555394,
          0.18497973172096702,
          0.19625207795885943,
          0.20814247388193033,
          0.22063763510638662,
          0.23372638431445245,
          0.23965536257958794,
          0.24599523791541203,
          0.2527628059246388,
          0.25998052756141554,
          0.26767755429768064,
          0.2718045201306238,
          0.2764718953505435,
          0.28162663916192476,
          0.28722817871565187,
          0.29324712026213373,
          0.2975510560010454,
          0.3022726272964872,
          0.307368237967887,
          0.31280175883054673,
          0.31854339751907046,
          0.3255529623232237,
          0.3329227020652212,
          0.34064554731760704,
          0.3487173861457444,
          0.35713702829989186,
          0.3635357311343351,
          0.37051728139066953,
          0.37814123552520273,
          0.3864890931424327,
          0.39567064342789626,
          0.40818141458444857,
          0.4216298892163001,
          0.4360815183383832,
          0.451609046001479,
          0.4682934678726447,
          0.48422781542094945,
          0.5017048428422801,
          0.5209039558072245,
          0.5420352062699721,
          0.5653456033192551,
          0.5752415098027874,
          0.5857166725968027,
          0.5968161140066417,
          0.6085904732053992,
          0.621096764631172
         ],
         "yaxis": "y3"
        },
        {
         "line": {
          "color": "goldenrod",
          "width": 4
         },
         "mode": "lines",
         "name": "PROMETHEUS",
         "showlegend": false,
         "type": "scatter",
         "x": [
          1995,
          1996,
          1997,
          1998,
          1999,
          2000,
          2001,
          2002,
          2003,
          2004,
          2005,
          2006,
          2007,
          2008,
          2009,
          2010,
          2011,
          2012,
          2013,
          2014,
          2015,
          2016,
          2017,
          2018,
          2019,
          2020,
          2021,
          2022,
          2023,
          2024,
          2025,
          2026,
          2027,
          2028,
          2029,
          2030,
          2031,
          2032,
          2033,
          2034,
          2035,
          2036,
          2037,
          2038,
          2039,
          2040,
          2041,
          2042,
          2043,
          2044,
          2045,
          2046,
          2047,
          2048,
          2049,
          2050,
          2051,
          2052,
          2053,
          2054,
          2055,
          2056,
          2057,
          2058,
          2059,
          2060,
          2061,
          2062,
          2063,
          2064,
          2065,
          2066,
          2067,
          2068,
          2069,
          2070,
          2071,
          2072,
          2073,
          2074,
          2075,
          2076,
          2077,
          2078,
          2079,
          2080,
          2081,
          2082,
          2083,
          2084,
          2085,
          2086,
          2087,
          2088,
          2089,
          2090,
          2091,
          2092,
          2093,
          2094,
          2095,
          2096,
          2097,
          2098,
          2099,
          2100
         ],
         "xaxis": "x3",
         "y": [
          null,
          null,
          null,
          null,
          null,
          null,
          null,
          null,
          null,
          null,
          null,
          null,
          null,
          null,
          null,
          null,
          null,
          null,
          null,
          null,
          null,
          null,
          null,
          null,
          null,
          1.2983255548592795e-7,
          0.00019438686438130867,
          0.0007127473810038696,
          0.001506675511651264,
          0.002600100284465582,
          0.004273253888982348,
          0.004968450968524714,
          0.005816464880438759,
          0.006797681212926975,
          0.007920968417298176,
          0.009276767992195954,
          0.009433510827206453,
          0.009667814680811673,
          0.009995671324071153,
          0.010451027233229724,
          0.011102768285439768,
          0.011728169351582825,
          0.012642556977786603,
          0.013854544604137719,
          0.015381126919597117,
          0.017249910600442567,
          0.018422401855454882,
          0.01982757110776973,
          0.02147198832342484,
          0.02336585782440443,
          0.0255232761846961,
          0.02857728563049482,
          0.032030407071447844,
          0.03589147907168984,
          0.040181503273480544,
          0.044939668414019154,
          null,
          null,
          null,
          null,
          null,
          null,
          null,
          null,
          null,
          null,
          null,
          null,
          null,
          null,
          null,
          null,
          null,
          null,
          null,
          null,
          null,
          null,
          null,
          null,
          null,
          null,
          null,
          null,
          null,
          null,
          null,
          null,
          null,
          null,
          null,
          null,
          null,
          null,
          null,
          null,
          null,
          null,
          null,
          null,
          null,
          null,
          null,
          null,
          null,
          null
         ],
         "yaxis": "y3"
        },
        {
         "line": {
          "color": "tomato",
          "width": 4
         },
         "mode": "lines",
         "name": "REMIND",
         "showlegend": false,
         "type": "scatter",
         "x": [
          1995,
          1996,
          1997,
          1998,
          1999,
          2000,
          2001,
          2002,
          2003,
          2004,
          2005,
          2006,
          2007,
          2008,
          2009,
          2010,
          2011,
          2012,
          2013,
          2014,
          2015,
          2016,
          2017,
          2018,
          2019,
          2020,
          2021,
          2022,
          2023,
          2024,
          2025,
          2026,
          2027,
          2028,
          2029,
          2030,
          2031,
          2032,
          2033,
          2034,
          2035,
          2036,
          2037,
          2038,
          2039,
          2040,
          2041,
          2042,
          2043,
          2044,
          2045,
          2046,
          2047,
          2048,
          2049,
          2050,
          2051,
          2052,
          2053,
          2054,
          2055,
          2056,
          2057,
          2058,
          2059,
          2060,
          2061,
          2062,
          2063,
          2064,
          2065,
          2066,
          2067,
          2068,
          2069,
          2070,
          2071,
          2072,
          2073,
          2074,
          2075,
          2076,
          2077,
          2078,
          2079,
          2080,
          2081,
          2082,
          2083,
          2084,
          2085,
          2086,
          2087,
          2088,
          2089,
          2090,
          2091,
          2092,
          2093,
          2094,
          2095,
          2096,
          2097,
          2098,
          2099,
          2100
         ],
         "xaxis": "x3",
         "y": [
          null,
          null,
          null,
          null,
          null,
          null,
          null,
          null,
          null,
          null,
          null,
          null,
          null,
          null,
          null,
          null,
          null,
          null,
          null,
          null,
          null,
          null,
          null,
          null,
          null,
          0.0000018264543616807883,
          0.00014746728368450696,
          0.0004575184417820985,
          0.000884955790607069,
          0.0014545896689678098,
          0.0022733556329170117,
          0.0037224267881162637,
          0.005321344948118248,
          0.007233974056149203,
          0.00990970905974665,
          0.015851810746714923,
          0.0164613274335015,
          0.017169548833770563,
          0.01813340501053157,
          0.01968010585506411,
          0.02272794505706258,
          0.024275545301326387,
          0.026617050353522343,
          0.03011053206570554,
          0.03548921269651913,
          0.04455844016431139,
          0.04539149725562147,
          0.046755229625582664,
          0.04911478678195379,
          0.05385882100145583,
          0.06663802243685536,
          0.06731105506097536,
          0.06856618289282344,
          0.07099014712790537,
          0.07610701540212174,
          0.08886724077109988,
          0.09165032634673799,
          0.09543043464485386,
          0.1006288253105149,
          0.10791158015877234,
          0.11839663804377569,
          0.12324261410576312,
          0.1298851701562549,
          0.13910176275861355,
          0.1521195154747438,
          0.1709599317715207,
          0.17469352335383265,
          0.17932418899309852,
          0.1851097969608962,
          0.1924077262893442,
          0.20172598419657572,
          0.2138098804605373,
          0.22979888150232228,
          0.2515381918193257,
          0.2822960417758015,
          0.3289336550975553,
          0.3380589826748205,
          0.34826212091930003,
          0.3596856984600517,
          0.37249902901656473,
          0.38690569347225834,
          0.40315426643654817,
          0.4215516213266464,
          0.4424592339188807,
          0.4660329086674525,
          0.4862498509413714,
          0.49682017558175323,
          0.5079721556414651,
          0.5196283352455912,
          0.5316428695804187,
          0.5437622877625722,
          0.5555689660528721,
          0.5664259502836638,
          0.5756009006407877,
          0.584016621690587,
          0.6179338194608927,
          0.6199592160692342,
          0.622156998312227,
          0.6245689719400873,
          0.6272532148101458,
          0.6302922684212872,
          0.6338064718557538,
          0.6379764215283847,
          0.6430823336370451,
          0.6495763230314203,
          0.6788093775495124
         ],
         "yaxis": "y3"
        },
        {
         "line": {
          "color": "forestgreen",
          "width": 4
         },
         "mode": "lines",
         "name": "WITCH",
         "showlegend": false,
         "type": "scatter",
         "x": [
          1995,
          1996,
          1997,
          1998,
          1999,
          2000,
          2001,
          2002,
          2003,
          2004,
          2005,
          2006,
          2007,
          2008,
          2009,
          2010,
          2011,
          2012,
          2013,
          2014,
          2015,
          2016,
          2017,
          2018,
          2019,
          2020,
          2021,
          2022,
          2023,
          2024,
          2025,
          2026,
          2027,
          2028,
          2029,
          2030,
          2031,
          2032,
          2033,
          2034,
          2035,
          2036,
          2037,
          2038,
          2039,
          2040,
          2041,
          2042,
          2043,
          2044,
          2045,
          2046,
          2047,
          2048,
          2049,
          2050,
          2051,
          2052,
          2053,
          2054,
          2055,
          2056,
          2057,
          2058,
          2059,
          2060,
          2061,
          2062,
          2063,
          2064,
          2065,
          2066,
          2067,
          2068,
          2069,
          2070,
          2071,
          2072,
          2073,
          2074,
          2075,
          2076,
          2077,
          2078,
          2079,
          2080,
          2081,
          2082,
          2083,
          2084,
          2085,
          2086,
          2087,
          2088,
          2089,
          2090,
          2091,
          2092,
          2093,
          2094,
          2095,
          2096,
          2097,
          2098,
          2099,
          2100
         ],
         "xaxis": "x3",
         "y": [
          null,
          null,
          null,
          null,
          null,
          null,
          null,
          null,
          null,
          null,
          null,
          null,
          null,
          null,
          null,
          null,
          null,
          null,
          null,
          null,
          null,
          null,
          null,
          null,
          null,
          0.0003753852428663623,
          0.0002274416381313793,
          0.0004018398081549825,
          0.000708839015889793,
          0.0011402228077570277,
          0.0017298215971770917,
          0.002415039360125472,
          0.0034739622223958827,
          0.00469522042501551,
          0.006043097013757485,
          0.007530306284905602,
          0.006992570105104497,
          0.0069549333891156025,
          0.007250812882434485,
          0.007789833323804185,
          0.008517771713750183,
          0.009325750234344265,
          0.010298986915903243,
          0.01139487025690201,
          0.012589350742519129,
          0.013870223166710879,
          0.014768905956555398,
          0.015777273133497326,
          0.016889276097929833,
          0.01810217554363449,
          0.019416106142488322,
          0.020921548468504837,
          0.02413201410049796,
          0.02983945034914153,
          0.03925593893735537,
          0.05428965069492329,
          0.054805610922128135,
          0.05543134673313381,
          0.05617066370797686,
          0.05702805340573126,
          0.05800875635513136,
          0.05913139495500316,
          0.06036388847012903,
          0.06170314466726048,
          0.06314787861554218,
          0.0646981822309741,
          0.06508959375653162,
          0.06556388715584505,
          0.0661223971641503,
          0.06676668486627517,
          0.06749854760287217,
          0.06813075303174777,
          0.06880946283629819,
          0.06953427280783558,
          0.07030505736703727,
          0.07112195954162694,
          0.07163744378864098,
          0.0721922744317129,
          0.07278406512696103,
          0.07341079802479873,
          0.0740707737243852,
          0.07454242880164827,
          0.07504458700897766,
          0.07557415781269704,
          0.07612849240651309,
          0.07670531126881039,
          0.0774117998183215,
          0.07846434223179681,
          0.07992442582832741,
          0.08186567359607222,
          0.0843761801580788,
          0.0847180447120173,
          0.08507758149822463,
          0.08545274458944754,
          0.08584183097932943,
          0.08624341956014044,
          0.08681233081844478,
          0.08741459423269715,
          0.08804818490583423,
          0.08871138086627174,
          0.08940271419387967,
          0.0897783397524424,
          0.09017307019516355,
          0.09058602069454065,
          0.09101652836843203,
          0.09146411165804753
         ],
         "yaxis": "y3"
        },
        {
         "line": {
          "color": "darkgrey",
          "width": 4
         },
         "mode": "lines",
         "name": "Euro-Calliope",
         "showlegend": false,
         "type": "scatter",
         "x": [
          1995,
          1996,
          1997,
          1998,
          1999,
          2000,
          2001,
          2002,
          2003,
          2004,
          2005,
          2006,
          2007,
          2008,
          2009,
          2010,
          2011,
          2012,
          2013,
          2014,
          2015,
          2016,
          2017,
          2018,
          2019,
          2020,
          2021,
          2022,
          2023,
          2024,
          2025,
          2026,
          2027,
          2028,
          2029,
          2030,
          2031,
          2032,
          2033,
          2034,
          2035,
          2036,
          2037,
          2038,
          2039,
          2040,
          2041,
          2042,
          2043,
          2044,
          2045,
          2046,
          2047,
          2048,
          2049,
          2050,
          2051,
          2052,
          2053,
          2054,
          2055,
          2056,
          2057,
          2058,
          2059,
          2060,
          2061,
          2062,
          2063,
          2064,
          2065,
          2066,
          2067,
          2068,
          2069,
          2070,
          2071,
          2072,
          2073,
          2074,
          2075,
          2076,
          2077,
          2078,
          2079,
          2080,
          2081,
          2082,
          2083,
          2084,
          2085,
          2086,
          2087,
          2088,
          2089,
          2090,
          2091,
          2092,
          2093,
          2094,
          2095,
          2096,
          2097,
          2098,
          2099,
          2100
         ],
         "xaxis": "x3",
         "y": [
          null,
          null,
          null,
          null,
          null,
          null,
          null,
          null,
          null,
          null,
          null,
          null,
          null,
          null,
          null,
          null,
          null,
          null,
          null,
          null,
          null,
          null,
          null,
          null,
          null,
          1.7608502348683298e-33,
          0.003083680411153016,
          0.007802230940786979,
          0.012509535813316678,
          0.01717179717995945,
          0.02196405765939168,
          0.027079123225008443,
          0.032737719847376986,
          0.03939370923985468,
          0.04929246336561205,
          0.12383501621169855,
          0.12269537078010663,
          0.12237495912441552,
          0.12263180018306483,
          0.12332515088884458,
          0.12437179718558732,
          0.12572285591048402,
          0.12735094157975949,
          0.12924281933464368,
          0.13139506416496258,
          0.1338113902410259,
          0.13650086631059616,
          0.13947647360798934,
          0.1427534943506746,
          0.1463470310306497,
          0.1502674034548071,
          0.15451083719088965,
          0.15903970462259145,
          0.16373931131742744,
          0.1683203431520101,
          0.15889260406725633,
          null,
          null,
          null,
          null,
          null,
          null,
          null,
          null,
          null,
          null,
          null,
          null,
          null,
          null,
          null,
          null,
          null,
          null,
          null,
          null,
          null,
          null,
          null,
          null,
          null,
          null,
          null,
          null,
          null,
          null,
          null,
          null,
          null,
          null,
          null,
          null,
          null,
          null,
          null,
          null,
          null,
          null,
          null,
          null,
          null,
          null,
          null,
          null,
          null,
          null
         ],
         "yaxis": "y3"
        },
        {
         "line": {
          "color": "royalblue",
          "width": 4
         },
         "mode": "lines",
         "name": "TIAM-ECN",
         "showlegend": false,
         "type": "scatter",
         "x": [
          1995,
          1996,
          1997,
          1998,
          1999,
          2000,
          2001,
          2002,
          2003,
          2004,
          2005,
          2006,
          2007,
          2008,
          2009,
          2010,
          2011,
          2012,
          2013,
          2014,
          2015,
          2016,
          2017,
          2018,
          2019,
          2020,
          2021,
          2022,
          2023,
          2024,
          2025,
          2026,
          2027,
          2028,
          2029,
          2030,
          2031,
          2032,
          2033,
          2034,
          2035,
          2036,
          2037,
          2038,
          2039,
          2040,
          2041,
          2042,
          2043,
          2044,
          2045,
          2046,
          2047,
          2048,
          2049,
          2050,
          2051,
          2052,
          2053,
          2054,
          2055,
          2056,
          2057,
          2058,
          2059,
          2060,
          2061,
          2062,
          2063,
          2064,
          2065,
          2066,
          2067,
          2068,
          2069,
          2070,
          2071,
          2072,
          2073,
          2074,
          2075,
          2076,
          2077,
          2078,
          2079,
          2080,
          2081,
          2082,
          2083,
          2084,
          2085,
          2086,
          2087,
          2088,
          2089,
          2090,
          2091,
          2092,
          2093,
          2094,
          2095,
          2096,
          2097,
          2098,
          2099,
          2100
         ],
         "xaxis": "x3",
         "y": [
          null,
          null,
          null,
          null,
          null,
          null,
          null,
          null,
          null,
          null,
          null,
          null,
          null,
          null,
          null,
          null,
          null,
          null,
          null,
          null,
          null,
          null,
          null,
          null,
          null,
          0.08524500270719057,
          0.10036492199351561,
          0.14953689828220476,
          0.1902287991208827,
          0.22558119053322417,
          0.26417601041302463,
          0.2370156107844772,
          0.21517952833369042,
          0.19862528643099814,
          0.18761118175279043,
          0.1827001603354794,
          0.18398081674498293,
          0.18691505867981076,
          0.19167906681537442,
          0.19856495484596307,
          0.2080382176702486,
          0.19936251768915536,
          0.19337736992189675,
          0.19102180651956563,
          0.19431718492270464,
          0.20790612211945603,
          0.20184142916134623,
          0.19713597905677976,
          0.19369865735278835,
          0.19147592858584267,
          0.19045077224890458,
          0.1834585839236534,
          0.17875946176932136,
          0.17668739998032496,
          0.17835516850241223,
          0.18645154580950773,
          0.1818577490828563,
          0.18069612525236742,
          0.18222869256038463,
          0.186414696801762,
          0.1937542239176013,
          0.20532514908213262,
          0.22300628753323887,
          0.24998601640628795,
          0.29184544965707915,
          0.3590015944554229,
          0.3649438027085544,
          0.37255379036235864,
          0.3820155929836971,
          0.39353186836414655,
          0.4073257728443013,
          0.42364312879705246,
          0.44275499794918444,
          0.4649608395027864,
          0.49059253321780255,
          0.520019707538853,
          0.5451385795238475,
          0.5730993774249296,
          0.6042460946701232,
          0.6389742773832737,
          0.6777402298935373,
          0.7210721546147294,
          0.7695836985052483,
          0.8239905109021807,
          0.8851305925376829,
          0.9539894483559619,
          0.9648215406987585,
          0.9778454794178886,
          0.9931189081620273,
          1.0107231068310036,
          1.0307643046623052,
          1.0533756251446882,
          1.0787197390799832,
          1.1069923355149835,
          1.138426561121531,
          1.173298630141598,
          1.1758832190014374,
          1.1796106588020974,
          1.1842751158711555,
          1.1897161219029844,
          1.195807542283481,
          1.2024494969511803,
          1.2095623739202328,
          1.2170823454405255,
          1.2249579761429792,
          1.2331476335879217
         ],
         "yaxis": "y3"
        },
        {
         "line": {
          "color": "purple",
          "width": 4
         },
         "mode": "lines",
         "name": "MESSAGE",
         "showlegend": false,
         "type": "scatter",
         "x": [
          1995,
          1996,
          1997,
          1998,
          1999,
          2000,
          2001,
          2002,
          2003,
          2004,
          2005,
          2006,
          2007,
          2008,
          2009,
          2010,
          2011,
          2012,
          2013,
          2014,
          2015,
          2016,
          2017,
          2018,
          2019,
          2020,
          2021,
          2022,
          2023,
          2024,
          2025,
          2026,
          2027,
          2028,
          2029,
          2030,
          2031,
          2032,
          2033,
          2034,
          2035,
          2036,
          2037,
          2038,
          2039,
          2040,
          2041,
          2042,
          2043,
          2044,
          2045,
          2046,
          2047,
          2048,
          2049,
          2050,
          2051,
          2052,
          2053,
          2054,
          2055,
          2056,
          2057,
          2058,
          2059,
          2060,
          2061,
          2062,
          2063,
          2064,
          2065,
          2066,
          2067,
          2068,
          2069,
          2070,
          2071,
          2072,
          2073,
          2074,
          2075,
          2076,
          2077,
          2078,
          2079,
          2080,
          2081,
          2082,
          2083,
          2084,
          2085,
          2086,
          2087,
          2088,
          2089,
          2090,
          2091,
          2092,
          2093,
          2094,
          2095,
          2096,
          2097,
          2098,
          2099,
          2100
         ],
         "xaxis": "x3",
         "y": [
          null,
          null,
          null,
          null,
          null,
          null,
          null,
          null,
          null,
          null,
          null,
          null,
          null,
          null,
          null,
          null,
          null,
          null,
          null,
          null,
          null,
          null,
          null,
          null,
          null,
          0,
          0.001120359420127552,
          0.0041584131196360456,
          0.008731810761362577,
          0.01456180448279969,
          0.02144621473685832,
          0.019328942703006943,
          0.018130534404091896,
          0.017564542922972975,
          0.017456586022340608,
          0.017696727210166404,
          0.013975402777078786,
          0.011698874949713724,
          0.01038779713454523,
          0.009747944117465,
          0.009593409050894643,
          0.009806480302466418,
          0.010297268167737628,
          0.011024394194176267,
          0.011962854273755362,
          0.013100206818448836,
          0.015681286169506557,
          0.018891097925027245,
          0.022822348511757344,
          0.027708417457819167,
          0.034118536004678165,
          0.03937270728156139,
          0.0478356666251496,
          0.061300109101244296,
          0.08290623626156195,
          0.1184201687497771,
          0.12001453747425585,
          0.12287713658874914,
          0.12765094136584187,
          0.13544964799874795,
          0.14826668211125943,
          0.14726201761868243,
          0.15482018323585617,
          0.17843567266832067,
          0.23364186472333986,
          0.35556035703051825,
          0.37413360875742635,
          0.3957775084366247,
          0.4211094793403337,
          0.45091699979064964,
          0.4862136619390168,
          0.5283186307120235,
          0.5789711366937315,
          0.6404986977895974,
          0.7160700439333306,
          0.8100862452441827,
          0.8172536274675216,
          0.8261485483213903,
          0.8371450385824085,
          0.8507411855665677,
          0.8676134220040117,
          0.888702940999342,
          0.9153619287740556,
          0.9496328985290761,
          0.9950000541129368,
          1.06375869261926,
          1.0637066202460894,
          1.0637251973105835,
          1.0638146471619099,
          1.0639752162737734,
          1.0642071739015164,
          1.0645108117642688,
          1.0648864437511654,
          1.0653344056507108,
          1.0658550549024226,
          1.2300774727502144,
          1.2303441385540472,
          1.2306197478795593,
          1.2309040143423953,
          1.231196662962318,
          1.231497429609244,
          1.2318060604840748,
          1.2321223116319895,
          1.2324459484860648,
          1.2327767454392513,
          0.0797373825314862
         ],
         "yaxis": "y3"
        },
        {
         "line": {
          "color": "palegreen",
          "width": 4
         },
         "mode": "lines",
         "name": "PRIMES",
         "showlegend": false,
         "type": "scatter",
         "x": [
          1995,
          1996,
          1997,
          1998,
          1999,
          2000,
          2001,
          2002,
          2003,
          2004,
          2005,
          2006,
          2007,
          2008,
          2009,
          2010,
          2011,
          2012,
          2013,
          2014,
          2015,
          2016,
          2017,
          2018,
          2019,
          2020,
          2021,
          2022,
          2023,
          2024,
          2025,
          2026,
          2027,
          2028,
          2029,
          2030,
          2031,
          2032,
          2033,
          2034,
          2035,
          2036,
          2037,
          2038,
          2039,
          2040,
          2041,
          2042,
          2043,
          2044,
          2045,
          2046,
          2047,
          2048,
          2049,
          2050,
          2051,
          2052,
          2053,
          2054,
          2055,
          2056,
          2057,
          2058,
          2059,
          2060,
          2061,
          2062,
          2063,
          2064,
          2065,
          2066,
          2067,
          2068,
          2069,
          2070,
          2071,
          2072,
          2073,
          2074,
          2075,
          2076,
          2077,
          2078,
          2079,
          2080,
          2081,
          2082,
          2083,
          2084,
          2085,
          2086,
          2087,
          2088,
          2089,
          2090,
          2091,
          2092,
          2093,
          2094,
          2095,
          2096,
          2097,
          2098,
          2099,
          2100
         ],
         "xaxis": "x3",
         "y": [
          null,
          null,
          null,
          null,
          null,
          null,
          null,
          null,
          null,
          null,
          null,
          null,
          null,
          null,
          null,
          null,
          null,
          null,
          null,
          null,
          null,
          null,
          null,
          null,
          null,
          0.35757067578041013,
          0.3575549001946979,
          0.35755275065701053,
          0.35756293312190907,
          0.35758540084136514,
          0.35762187894634145,
          0.35775185051982966,
          0.35797936915273637,
          0.35831093251908674,
          0.3587707297851095,
          0.35941217673763187,
          0.35996406684720705,
          0.3608463083365848,
          0.3621287420851657,
          0.3639414328127764,
          0.36654458221423564,
          0.3688377994092904,
          0.3716794731823507,
          0.3751359862354167,
          0.3793652243621074,
          0.3851566134596764,
          0.39131214794142904,
          0.39864133350476233,
          0.40726850472998183,
          0.417368620263043,
          0.4292102484220015,
          0.44477611055566396,
          0.46255505011134784,
          0.48275587172694207,
          0.5056096806333711,
          0.5313726283194672,
          0.5461256200551541,
          0.5620354984854261,
          0.57919341410221,
          0.5976990026790877,
          0.6176613224684825,
          0.6256121816172356,
          0.6339739507382308,
          0.6427749271586973,
          0.6520459636814466,
          0.6618207511577296,
          0.6623390032149965,
          0.6628820148974893,
          0.6634497075751612,
          0.66404200956641,
          0.6646588563836796,
          0.6651826702716013,
          0.665742983450775,
          0.666338366941004,
          0.6669674728635345,
          0.6676290314702527,
          null,
          null,
          null,
          null,
          null,
          null,
          null,
          null,
          null,
          null,
          null,
          null,
          null,
          null,
          null,
          null,
          null,
          null,
          null,
          null,
          null,
          null,
          null,
          null,
          null,
          null,
          null,
          null,
          null,
          null
         ],
         "yaxis": "y3"
        },
        {
         "line": {
          "color": "lightskyblue",
          "width": 4
         },
         "mode": "lines",
         "name": "IMAGE",
         "showlegend": false,
         "type": "scatter",
         "x": [
          1995,
          1996,
          1997,
          1998,
          1999,
          2000,
          2001,
          2002,
          2003,
          2004,
          2005,
          2006,
          2007,
          2008,
          2009,
          2010,
          2011,
          2012,
          2013,
          2014,
          2015,
          2016,
          2017,
          2018,
          2019,
          2020,
          2021,
          2022,
          2023,
          2024,
          2025,
          2026,
          2027,
          2028,
          2029,
          2030,
          2031,
          2032,
          2033,
          2034,
          2035,
          2036,
          2037,
          2038,
          2039,
          2040,
          2041,
          2042,
          2043,
          2044,
          2045,
          2046,
          2047,
          2048,
          2049,
          2050,
          2051,
          2052,
          2053,
          2054,
          2055,
          2056,
          2057,
          2058,
          2059,
          2060,
          2061,
          2062,
          2063,
          2064,
          2065,
          2066,
          2067,
          2068,
          2069,
          2070,
          2071,
          2072,
          2073,
          2074,
          2075,
          2076,
          2077,
          2078,
          2079,
          2080,
          2081,
          2082,
          2083,
          2084,
          2085,
          2086,
          2087,
          2088,
          2089,
          2090,
          2091,
          2092,
          2093,
          2094,
          2095,
          2096,
          2097,
          2098,
          2099,
          2100
         ],
         "xaxis": "x4",
         "y": [
          null,
          null,
          null,
          null,
          null,
          null,
          null,
          null,
          null,
          null,
          null,
          null,
          null,
          null,
          null,
          null,
          null,
          null,
          null,
          null,
          null,
          null,
          null,
          null,
          null,
          2.7577185432700923e-7,
          0.000020395738538963926,
          0.00007474154847527112,
          0.00016681258827912505,
          0.0003004895377495995,
          0.0004800838210882719,
          0.000543893224628399,
          0.0006285197091671756,
          0.0007346469812706426,
          0.0008630914358676414,
          0.0010148562455157665,
          0.0010285384090949281,
          0.001079311669377604,
          0.0011725798346064976,
          0.001315615985298415,
          0.0015183736063773148,
          0.0017362961017411244,
          0.0020387867564209397,
          0.002437077784540349,
          0.00294421897360948,
          0.003575415161669449,
          0.004064985867071367,
          0.004621314194796731,
          0.0052474218733470435,
          0.005946485326960013,
          0.00672184433855669,
          0.007025289175760771,
          0.007346771158531023,
          0.0076862295778886,
          0.008043617830413248,
          0.008418903588491579,
          0.008499786594682783,
          0.008594587462349675,
          0.008702951623008673,
          0.008824552767354039,
          0.008959091512831604,
          0.00888560852338459,
          0.008828988706295691,
          0.008788765498845637,
          0.008764505224969174,
          0.008755805440129164,
          0.00867030081643633,
          0.00860053657027828,
          0.008546036247002018,
          0.008506346003672458,
          0.00848103321213972,
          0.008359314871188777,
          0.008248977817093113,
          0.008149606963781383,
          0.008060810803409786,
          0.007982219733163834,
          0.007796935885244709,
          0.007623325275407602,
          0.007460983693479362,
          0.00730953100944787,
          0.007168609481961327,
          0.007043356155477532,
          0.006936201553889027,
          0.0068466598113441635,
          0.006774269738463244,
          0.0067185931787471275,
          0.006715708810997231,
          0.006768611088763258,
          0.006875886892636382,
          0.007036168152461706,
          0.007248129798028985,
          0.007568753593155654,
          0.007943381768447126,
          0.008371142103206199,
          0.00885119069428057,
          0.009382710398965979,
          0.00975240791394194,
          0.010152221400522575,
          0.01058176617496837,
          0.011040678423573785,
          0.011528613800476916,
          0.011872725707884902,
          0.012232510866580245,
          0.012607835472593996,
          0.01299857805427312,
          0.013404628702752686
         ],
         "yaxis": "y4"
        },
        {
         "line": {
          "color": "goldenrod",
          "width": 4
         },
         "mode": "lines",
         "name": "PROMETHEUS",
         "showlegend": false,
         "type": "scatter",
         "x": [
          1995,
          1996,
          1997,
          1998,
          1999,
          2000,
          2001,
          2002,
          2003,
          2004,
          2005,
          2006,
          2007,
          2008,
          2009,
          2010,
          2011,
          2012,
          2013,
          2014,
          2015,
          2016,
          2017,
          2018,
          2019,
          2020,
          2021,
          2022,
          2023,
          2024,
          2025,
          2026,
          2027,
          2028,
          2029,
          2030,
          2031,
          2032,
          2033,
          2034,
          2035,
          2036,
          2037,
          2038,
          2039,
          2040,
          2041,
          2042,
          2043,
          2044,
          2045,
          2046,
          2047,
          2048,
          2049,
          2050,
          2051,
          2052,
          2053,
          2054,
          2055,
          2056,
          2057,
          2058,
          2059,
          2060,
          2061,
          2062,
          2063,
          2064,
          2065,
          2066,
          2067,
          2068,
          2069,
          2070,
          2071,
          2072,
          2073,
          2074,
          2075,
          2076,
          2077,
          2078,
          2079,
          2080,
          2081,
          2082,
          2083,
          2084,
          2085,
          2086,
          2087,
          2088,
          2089,
          2090,
          2091,
          2092,
          2093,
          2094,
          2095,
          2096,
          2097,
          2098,
          2099,
          2100
         ],
         "xaxis": "x4",
         "y": [
          null,
          null,
          null,
          null,
          null,
          null,
          null,
          null,
          null,
          null,
          null,
          null,
          null,
          null,
          null,
          null,
          null,
          null,
          null,
          null,
          null,
          null,
          null,
          null,
          null,
          2.8698176049754662e-8,
          0.000005729322186182273,
          0.000022759975906380992,
          0.00005219782858083981,
          0.00009525037786276747,
          0.00015327737488083702,
          0.00018267480912745904,
          0.00022899009642122535,
          0.0002943055735193727,
          0.0003809785617140989,
          0.0004916844832065591,
          0.0006453314705408055,
          0.0008735223965736966,
          0.0011866757041730464,
          0.0015968559981635207,
          0.002118090242990069,
          0.0022053660514841002,
          0.00230484351634954,
          0.0024181746673787082,
          0.0025473117411929213,
          0.0026945742979950383,
          0.0026130479576892732,
          0.0025379624096525982,
          0.0024703801218113803,
          0.002411535979319875,
          0.002362867716096864,
          0.0023312597168559253,
          0.00230137880984315,
          0.002273314354342189,
          0.0022471659075666813,
          0.002223044403837435,
          null,
          null,
          null,
          null,
          null,
          null,
          null,
          null,
          null,
          null,
          null,
          null,
          null,
          null,
          null,
          null,
          null,
          null,
          null,
          null,
          null,
          null,
          null,
          null,
          null,
          null,
          null,
          null,
          null,
          null,
          null,
          null,
          null,
          null,
          null,
          null,
          null,
          null,
          null,
          null,
          null,
          null,
          null,
          null,
          null,
          null,
          null,
          null,
          null,
          null
         ],
         "yaxis": "y4"
        },
        {
         "line": {
          "color": "tomato",
          "width": 4
         },
         "mode": "lines",
         "name": "REMIND",
         "showlegend": false,
         "type": "scatter",
         "x": [
          1995,
          1996,
          1997,
          1998,
          1999,
          2000,
          2001,
          2002,
          2003,
          2004,
          2005,
          2006,
          2007,
          2008,
          2009,
          2010,
          2011,
          2012,
          2013,
          2014,
          2015,
          2016,
          2017,
          2018,
          2019,
          2020,
          2021,
          2022,
          2023,
          2024,
          2025,
          2026,
          2027,
          2028,
          2029,
          2030,
          2031,
          2032,
          2033,
          2034,
          2035,
          2036,
          2037,
          2038,
          2039,
          2040,
          2041,
          2042,
          2043,
          2044,
          2045,
          2046,
          2047,
          2048,
          2049,
          2050,
          2051,
          2052,
          2053,
          2054,
          2055,
          2056,
          2057,
          2058,
          2059,
          2060,
          2061,
          2062,
          2063,
          2064,
          2065,
          2066,
          2067,
          2068,
          2069,
          2070,
          2071,
          2072,
          2073,
          2074,
          2075,
          2076,
          2077,
          2078,
          2079,
          2080,
          2081,
          2082,
          2083,
          2084,
          2085,
          2086,
          2087,
          2088,
          2089,
          2090,
          2091,
          2092,
          2093,
          2094,
          2095,
          2096,
          2097,
          2098,
          2099,
          2100
         ],
         "xaxis": "x4",
         "y": [
          null,
          null,
          null,
          null,
          null,
          null,
          null,
          null,
          null,
          null,
          null,
          null,
          null,
          null,
          null,
          null,
          null,
          null,
          null,
          null,
          null,
          null,
          null,
          null,
          null,
          5.525827290793145e-10,
          0.000008746605219203582,
          0.00003594525714331948,
          0.0000831937895779728,
          0.00015223229982587783,
          0.0002449582950233129,
          0.0003234074944882803,
          0.0004234881773411044,
          0.0005488515504871905,
          0.0007039126409347612,
          0.0008940476063793217,
          0.0011469021748732229,
          0.0014751540191288012,
          0.0018989267617794726,
          0.002445651282503965,
          0.0031534832045903884,
          0.0030345814940441404,
          0.0030068692318644657,
          0.003088854208084057,
          0.0033039878854541544,
          0.003682366895286834,
          0.004160038313837636,
          0.0047698082960442615,
          0.005515362475071748,
          0.006400634264380242,
          0.0074298231921672,
          0.008035486902848518,
          0.008688369906022111,
          0.009389331845311622,
          0.010139443532312538,
          0.010940004762998098,
          0.011185183122864656,
          0.011440349068447734,
          0.011705805406119684,
          0.011981879521960143,
          0.012268924966856184,
          0.012323633498431026,
          0.012384645269726088,
          0.012452170006573171,
          0.012526432117991792,
          0.01260767180531619,
          0.012543279399792823,
          0.012480527616061334,
          0.012419398317977016,
          0.012359873640685646,
          0.012301935986630937,
          0.01224556802163578,
          0.012190752671055613,
          0.01213747311600276,
          0.012085712789640142,
          0.012035455373543053,
          0.01201259738388411,
          0.011990386943913883,
          0.011968814858297672,
          0.011947872144689092,
          0.011927550026138538,
          0.011907839923848139,
          0.011888733450254542,
          0.011870222402422463,
          0.01185229875573253,
          0.011834954657848167,
          0.011897747824392171,
          0.011961510528893993,
          0.012026240604709587,
          0.012091935972050992,
          0.012158594637132389,
          0.01222621469136779,
          0.012294794310620097,
          0.012364331754500973,
          0.0124348253657214,
          0.012506273569492486,
          0.012487430485507914,
          0.012470160631359792,
          0.012454427951497605,
          0.012440197907415068,
          0.012427437406911546,
          0.01241611473705991,
          0.012406199500664171,
          0.012397662556004219,
          0.012390475959677918,
          0.012384612912363145
         ],
         "yaxis": "y4"
        },
        {
         "line": {
          "color": "forestgreen",
          "width": 4
         },
         "mode": "lines",
         "name": "WITCH",
         "showlegend": false,
         "type": "scatter",
         "x": [
          1995,
          1996,
          1997,
          1998,
          1999,
          2000,
          2001,
          2002,
          2003,
          2004,
          2005,
          2006,
          2007,
          2008,
          2009,
          2010,
          2011,
          2012,
          2013,
          2014,
          2015,
          2016,
          2017,
          2018,
          2019,
          2020,
          2021,
          2022,
          2023,
          2024,
          2025,
          2026,
          2027,
          2028,
          2029,
          2030,
          2031,
          2032,
          2033,
          2034,
          2035,
          2036,
          2037,
          2038,
          2039,
          2040,
          2041,
          2042,
          2043,
          2044,
          2045,
          2046,
          2047,
          2048,
          2049,
          2050,
          2051,
          2052,
          2053,
          2054,
          2055,
          2056,
          2057,
          2058,
          2059,
          2060,
          2061,
          2062,
          2063,
          2064,
          2065,
          2066,
          2067,
          2068,
          2069,
          2070,
          2071,
          2072,
          2073,
          2074,
          2075,
          2076,
          2077,
          2078,
          2079,
          2080,
          2081,
          2082,
          2083,
          2084,
          2085,
          2086,
          2087,
          2088,
          2089,
          2090,
          2091,
          2092,
          2093,
          2094,
          2095,
          2096,
          2097,
          2098,
          2099,
          2100
         ],
         "xaxis": "x4",
         "y": [
          null,
          null,
          null,
          null,
          null,
          null,
          null,
          null,
          null,
          null,
          null,
          null,
          null,
          null,
          null,
          null,
          null,
          null,
          null,
          null,
          null,
          null,
          null,
          null,
          null,
          0.00019878514204091876,
          0.00019411451365300016,
          0.0001900365426622032,
          0.000186573458443459,
          0.00018378406731111067,
          0.0001817960348964735,
          0.00015158903957585427,
          0.0001402589474783416,
          0.00014565661261335905,
          0.00016589348084210817,
          0.00019930726483295726,
          0.0003917348933124109,
          0.0006484896862567938,
          0.0009581359543573753,
          0.001311208460219701,
          0.0016998667303900325,
          0.0019973482905639144,
          0.0023182960164715295,
          0.002662311988356142,
          0.003029035390198284,
          0.0034181483450447005,
          0.0036613027118616026,
          0.003920489057058918,
          0.0041956300444349484,
          0.0044866659267042384,
          0.004793557620730242,
          0.004271502422596582,
          0.003976713183302522,
          0.003929818047351447,
          0.004155293370954429,
          0.0046822774777322594,
          0.004714852220147023,
          0.004757646507409188,
          0.004811114164112386,
          0.004875770400259906,
          0.004952196752541618,
          0.0051416803921498265,
          0.005348533389844551,
          0.005572576416080222,
          0.005813684250413612,
          0.00607178522578199,
          0.00621906900377199,
          0.006374194120986369,
          0.006537270234721909,
          0.006708417836796402,
          0.00688776826991427,
          0.006980835996644361,
          0.007076351683406777,
          0.007174262325303822,
          0.007274518682042421,
          0.00737707512428423,
          0.007285598048121887,
          0.007201006414465044,
          0.007122943828608511,
          0.007051075444163234,
          0.006985086480368916,
          0.006809196715725996,
          0.0066428565818045125,
          0.006485553365125465,
          0.006336807728157767,
          0.006196171171887049,
          0.006000718530922188,
          0.005823251008355436,
          0.005662572510939175,
          0.005517574763698096,
          0.005387229991772074,
          0.005242180575024238,
          0.005111782982589187,
          0.004994959112210467,
          0.004890718014965542,
          0.00479814792037804,
          0.004690542942004932,
          0.004595755281231097,
          0.004512897188099643,
          0.004441147515343923,
          0.0043797460708658266,
          0.004421073105496383,
          0.004499074829232479,
          0.004609759725219232,
          0.004749559336944472,
          0.004915279351314244
         ],
         "yaxis": "y4"
        },
        {
         "line": {
          "color": "darkgrey",
          "width": 4
         },
         "mode": "lines",
         "name": "Euro-Calliope",
         "showlegend": false,
         "type": "scatter",
         "x": [
          1995,
          1996,
          1997,
          1998,
          1999,
          2000,
          2001,
          2002,
          2003,
          2004,
          2005,
          2006,
          2007,
          2008,
          2009,
          2010,
          2011,
          2012,
          2013,
          2014,
          2015,
          2016,
          2017,
          2018,
          2019,
          2020,
          2021,
          2022,
          2023,
          2024,
          2025,
          2026,
          2027,
          2028,
          2029,
          2030,
          2031,
          2032,
          2033,
          2034,
          2035,
          2036,
          2037,
          2038,
          2039,
          2040,
          2041,
          2042,
          2043,
          2044,
          2045,
          2046,
          2047,
          2048,
          2049,
          2050,
          2051,
          2052,
          2053,
          2054,
          2055,
          2056,
          2057,
          2058,
          2059,
          2060,
          2061,
          2062,
          2063,
          2064,
          2065,
          2066,
          2067,
          2068,
          2069,
          2070,
          2071,
          2072,
          2073,
          2074,
          2075,
          2076,
          2077,
          2078,
          2079,
          2080,
          2081,
          2082,
          2083,
          2084,
          2085,
          2086,
          2087,
          2088,
          2089,
          2090,
          2091,
          2092,
          2093,
          2094,
          2095,
          2096,
          2097,
          2098,
          2099,
          2100
         ],
         "xaxis": "x4",
         "y": [
          null,
          null,
          null,
          null,
          null,
          null,
          null,
          null,
          null,
          null,
          null,
          null,
          null,
          null,
          null,
          null,
          null,
          null,
          null,
          null,
          null,
          null,
          null,
          null,
          null,
          0,
          0.000008363878445063956,
          0.00003267260974621078,
          0.0000718270685699027,
          0.000124821568846339,
          0.00019073598463884668,
          0.0002687286406093946,
          0.0003580298905402806,
          0.00045793631193105633,
          0.000567805453034144,
          0.0006870510759891717,
          0.0006444501595631284,
          0.0006028273094343357,
          0.0005623351033501499,
          0.0005231426320786789,
          0.00048543739367123853,
          0.00044942743154102483,
          0.0004153437518999684,
          0.0003834430619527206,
          0.0003540108771894062,
          0.000327365054372541,
          0.0003038598166557884,
          0.0002838903490455172,
          0.0002678980565456382,
          0.00025637659434151654,
          0.0002498787999424867,
          0.0002490246821472603,
          0.0002545106520738926,
          0.0002671202186400038,
          0.0002877364164914842,
          0.00031735629064127464,
          null,
          null,
          null,
          null,
          null,
          null,
          null,
          null,
          null,
          null,
          null,
          null,
          null,
          null,
          null,
          null,
          null,
          null,
          null,
          null,
          null,
          null,
          null,
          null,
          null,
          null,
          null,
          null,
          null,
          null,
          null,
          null,
          null,
          null,
          null,
          null,
          null,
          null,
          null,
          null,
          null,
          null,
          null,
          null,
          null,
          null,
          null,
          null,
          null,
          null
         ],
         "yaxis": "y4"
        },
        {
         "line": {
          "color": "royalblue",
          "width": 4
         },
         "mode": "lines",
         "name": "TIAM-ECN",
         "showlegend": false,
         "type": "scatter",
         "x": [
          1995,
          1996,
          1997,
          1998,
          1999,
          2000,
          2001,
          2002,
          2003,
          2004,
          2005,
          2006,
          2007,
          2008,
          2009,
          2010,
          2011,
          2012,
          2013,
          2014,
          2015,
          2016,
          2017,
          2018,
          2019,
          2020,
          2021,
          2022,
          2023,
          2024,
          2025,
          2026,
          2027,
          2028,
          2029,
          2030,
          2031,
          2032,
          2033,
          2034,
          2035,
          2036,
          2037,
          2038,
          2039,
          2040,
          2041,
          2042,
          2043,
          2044,
          2045,
          2046,
          2047,
          2048,
          2049,
          2050,
          2051,
          2052,
          2053,
          2054,
          2055,
          2056,
          2057,
          2058,
          2059,
          2060,
          2061,
          2062,
          2063,
          2064,
          2065,
          2066,
          2067,
          2068,
          2069,
          2070,
          2071,
          2072,
          2073,
          2074,
          2075,
          2076,
          2077,
          2078,
          2079,
          2080,
          2081,
          2082,
          2083,
          2084,
          2085,
          2086,
          2087,
          2088,
          2089,
          2090,
          2091,
          2092,
          2093,
          2094,
          2095,
          2096,
          2097,
          2098,
          2099,
          2100
         ],
         "xaxis": "x4",
         "y": [
          null,
          null,
          null,
          null,
          null,
          null,
          null,
          null,
          null,
          null,
          null,
          null,
          null,
          null,
          null,
          null,
          null,
          null,
          null,
          null,
          null,
          null,
          null,
          null,
          null,
          0.04930857368027771,
          0.030316416844721115,
          0.016557304830460674,
          0.007565126858006136,
          0.0029209160290774253,
          0.002248219224979346,
          0.004558180976976896,
          0.009598213243294115,
          0.016992946037118404,
          0.02642261368312715,
          0.03761501974552262,
          0.03782087737481274,
          0.03806845397657719,
          0.038360388628402096,
          0.038699605653931025,
          0.0390893552824255,
          0.03970624745676182,
          0.040377824671361515,
          0.041109757251908026,
          0.041908456669253046,
          0.04278119203092387,
          0.04445635304740126,
          0.04624295690728009,
          0.048149272305334216,
          0.05018436159551478,
          0.05235817364390153,
          0.05199543324810169,
          0.05164180848492487,
          0.05129770270185616,
          0.05096353956980465,
          0.0506397646724136,
          0.05198666484282364,
          0.05334964235737124,
          0.054728438302687275,
          0.05612279892498628,
          0.0575324755299784,
          0.05895722438498502,
          0.06039680662320359,
          0.06185098815007114,
          0.06331953955167376,
          0.06480223600515482,
          0.06581954079975633,
          0.06684378673229241,
          0.06787490316706125,
          0.06891282023467225,
          0.06995746882237425,
          0.07100878056452326,
          0.07206668783318766,
          0.07313112372888911,
          0.07420202207147586,
          0.07527931739112781,
          0.07541693933453997,
          0.07556830402216803,
          0.07573343504678731,
          0.07591235713557047,
          0.07610509616056835,
          0.07631167914939381,
          0.07653213429611117,
          0.0767664909723355,
          0.07701477973854386,
          0.07727703235560311,
          0.07875309569916379,
          0.08024254698740768,
          0.08174527010362921,
          0.08326115018635077,
          0.08479007361479067,
          0.08633192799451965,
          0.08788660214330364,
          0.08945398607712973,
          0.09103397099641286,
          0.0926264492723808,
          0.09335291436139899,
          0.09408624871078537,
          0.09482643171103139,
          0.0955734428480597,
          0.09632726170260832,
          0.09708786794961898,
          0.09785524135763102,
          0.09862936178817927,
          0.09941020919519704,
          0.10019776362442352
         ],
         "yaxis": "y4"
        },
        {
         "line": {
          "color": "purple",
          "width": 4
         },
         "mode": "lines",
         "name": "MESSAGE",
         "showlegend": false,
         "type": "scatter",
         "x": [
          1995,
          1996,
          1997,
          1998,
          1999,
          2000,
          2001,
          2002,
          2003,
          2004,
          2005,
          2006,
          2007,
          2008,
          2009,
          2010,
          2011,
          2012,
          2013,
          2014,
          2015,
          2016,
          2017,
          2018,
          2019,
          2020,
          2021,
          2022,
          2023,
          2024,
          2025,
          2026,
          2027,
          2028,
          2029,
          2030,
          2031,
          2032,
          2033,
          2034,
          2035,
          2036,
          2037,
          2038,
          2039,
          2040,
          2041,
          2042,
          2043,
          2044,
          2045,
          2046,
          2047,
          2048,
          2049,
          2050,
          2051,
          2052,
          2053,
          2054,
          2055,
          2056,
          2057,
          2058,
          2059,
          2060,
          2061,
          2062,
          2063,
          2064,
          2065,
          2066,
          2067,
          2068,
          2069,
          2070,
          2071,
          2072,
          2073,
          2074,
          2075,
          2076,
          2077,
          2078,
          2079,
          2080,
          2081,
          2082,
          2083,
          2084,
          2085,
          2086,
          2087,
          2088,
          2089,
          2090,
          2091,
          2092,
          2093,
          2094,
          2095,
          2096,
          2097,
          2098,
          2099,
          2100
         ],
         "xaxis": "x4",
         "y": [
          null,
          null,
          null,
          null,
          null,
          null,
          null,
          null,
          null,
          null,
          null,
          null,
          null,
          null,
          null,
          null,
          null,
          null,
          null,
          null,
          null,
          null,
          null,
          null,
          null,
          0,
          0.000009286712200764137,
          0.00003791141375883877,
          0.00008708047196805001,
          0.00015808504028562954,
          0.0002523084334071061,
          0.00028128103042241245,
          0.0003138340830172731,
          0.00035028640944619575,
          0.000390993554212835,
          0.00043635311727686015,
          0.00043893838028528047,
          0.0004430404149684903,
          0.00044872491827384716,
          0.0004560659922852416,
          0.0004651485320827525,
          0.0004572726726778671,
          0.00045788067460672137,
          0.00046766800368771617,
          0.0004873955731335086,
          0.0005178969370731629,
          0.0005829509569393981,
          0.0006746304689064202,
          0.0007921788669851257,
          0.0009348632619957678,
          0.0011019736602470441,
          0.00114105357335528,
          0.00118357405068555,
          0.0012294989773797777,
          0.0012787930513995399,
          0.001331421742852741,
          0.001380058212792866,
          0.0014317880881970179,
          0.0014865310032464703,
          0.0015442102318761139,
          0.0016047524574914797,
          0.0016385292120920207,
          0.001674101478605568,
          0.0017114123077210579,
          0.001750407436405643,
          0.0017910351201587162,
          0.001808212244160912,
          0.0018274524414191088,
          0.0018486913870680393,
          0.0018718672143943876,
          0.0018969203927394207,
          0.0019237936127931645,
          0.0019524316787630808,
          0.0019827814069407874,
          0.0020147915302272776,
          0.0020484126082110816,
          0.0020513990810060363,
          0.002055571184743265,
          0.002060873562725687,
          0.002067253615065604,
          0.0020746613421343822,
          0.00208304919807786,
          0.002092371953673836,
          0.0021025865678654344,
          0.002113652067356764,
          0.002125529433705185,
          0.002093011403160878,
          0.002062039888521811,
          0.0020325666631321932,
          0.0020045452789756966,
          0.001977930987288439,
          0.0019526806633480389,
          0.0019287527351869718,
          0.0019061071159954541,
          0.0018847051399948642,
          0.0018645095015772724,
          0.001832143075669603,
          0.0018020320921536416,
          0.0017741117676345868,
          0.001748319291534255,
          0.0017245937577936128,
          0.0017028760992770474,
          0.0016831090247571474,
          0.0016652369583647706,
          0.0016492059813951459,
          0.0016349637763659701
         ],
         "yaxis": "y4"
        },
        {
         "line": {
          "color": "palegreen",
          "width": 4
         },
         "mode": "lines",
         "name": "PRIMES",
         "showlegend": false,
         "type": "scatter",
         "x": [
          1995,
          1996,
          1997,
          1998,
          1999,
          2000,
          2001,
          2002,
          2003,
          2004,
          2005,
          2006,
          2007,
          2008,
          2009,
          2010,
          2011,
          2012,
          2013,
          2014,
          2015,
          2016,
          2017,
          2018,
          2019,
          2020,
          2021,
          2022,
          2023,
          2024,
          2025,
          2026,
          2027,
          2028,
          2029,
          2030,
          2031,
          2032,
          2033,
          2034,
          2035,
          2036,
          2037,
          2038,
          2039,
          2040,
          2041,
          2042,
          2043,
          2044,
          2045,
          2046,
          2047,
          2048,
          2049,
          2050,
          2051,
          2052,
          2053,
          2054,
          2055,
          2056,
          2057,
          2058,
          2059,
          2060,
          2061,
          2062,
          2063,
          2064,
          2065,
          2066,
          2067,
          2068,
          2069,
          2070,
          2071,
          2072,
          2073,
          2074,
          2075,
          2076,
          2077,
          2078,
          2079,
          2080,
          2081,
          2082,
          2083,
          2084,
          2085,
          2086,
          2087,
          2088,
          2089,
          2090,
          2091,
          2092,
          2093,
          2094,
          2095,
          2096,
          2097,
          2098,
          2099,
          2100
         ],
         "xaxis": "x4",
         "y": [
          null,
          null,
          null,
          null,
          null,
          null,
          null,
          null,
          null,
          null,
          null,
          null,
          null,
          null,
          null,
          null,
          null,
          null,
          null,
          null,
          null,
          null,
          null,
          null,
          null,
          3.424760983936791e-7,
          6.843158414389524e-7,
          0.0000016681319731235548,
          0.0000032519561719138413,
          0.00000540076451043839,
          0.000008085658309398208,
          0.000029405675220881575,
          0.0000708144199312765,
          0.00013661801691358492,
          0.00023212070870756596,
          0.00036389747415535063,
          0.00039425990062010784,
          0.0004375279836079293,
          0.0004947456829978246,
          0.0005670951766625126,
          0.0006559305165295819,
          0.0006908973645964731,
          0.000731479012086603,
          0.0007784361475919113,
          0.0008326920287363001,
          0.0008953820245707271,
          0.0009231357347400585,
          0.0009539450285239834,
          0.0009880087691480806,
          0.0010255508885242165,
          0.0010668255273742976,
          0.0011504542776348684,
          0.00124341020431391,
          0.0013457785582078566,
          0.001457652560905804,
          0.0015791338595668785,
          0.0015401244640298251,
          0.001516089668151959,
          0.0015071677935796478,
          0.0015134989297338035,
          0.0015352249619189117,
          0.0015192073337425595,
          0.0015056478832443185,
          0.0014944859229503494,
          0.0014856625145191593,
          0.0014791204187020075,
          0.0014722334612263088,
          0.0014658590012806584,
          0.0014599927158818748,
          0.0014546304110836187,
          0.001449768020746667,
          0.001429891348746995,
          0.001410583156390648,
          0.0013918441680104265,
          0.001373675138928713,
          0.0013560768559742595,
          null,
          null,
          null,
          null,
          null,
          null,
          null,
          null,
          null,
          null,
          null,
          null,
          null,
          null,
          null,
          null,
          null,
          null,
          null,
          null,
          null,
          null,
          null,
          null,
          null,
          null,
          null,
          null,
          null,
          null
         ],
         "yaxis": "y4"
        }
       ],
       "layout": {
        "annotations": [
         {
          "align": "left",
          "font": {
           "size": 14
          },
          "showarrow": false,
          "text": "LimBio",
          "x": 285,
          "y": 1.25
         },
         {
          "align": "left",
          "font": {
           "size": 14
          },
          "showarrow": false,
          "text": "LimCCS",
          "x": 285,
          "y": 1.22
         },
         {
          "align": "left",
          "font": {
           "size": 14
          },
          "showarrow": false,
          "text": "LimNuclear",
          "x": 285,
          "y": 1.19
         },
         {
          "align": "left",
          "font": {
           "size": 14
          },
          "showarrow": false,
          "text": "HighVRE",
          "x": 285,
          "y": 1.16
         },
         {
          "align": "left",
          "font": {
           "size": 14
          },
          "showarrow": false,
          "text": "HighElectrification",
          "x": 285,
          "y": 1.13
         },
         {
          "align": "left",
          "font": {
           "size": 14
          },
          "showarrow": false,
          "text": "HighH2",
          "x": 285,
          "y": 1.1
         },
         {
          "align": "left",
          "font": {
           "size": 14
          },
          "showarrow": false,
          "text": "ResidualFossil",
          "x": 285,
          "y": 1.07
         },
         {
          "align": "left",
          "font": {
           "size": 14
          },
          "showarrow": false,
          "text": "HighEff",
          "x": 285,
          "y": 1.04
         },
         {
          "align": "left",
          "font": {
           "size": 14
          },
          "showarrow": false,
          "text": "DIAG-C400-lin",
          "x": 285,
          "y": 1.01
         },
         {
          "font": {
           "size": 30
          },
          "showarrow": false,
          "text": "(a)",
          "x": 107,
          "xref": "x",
          "y": 1.28,
          "yref": "y"
         },
         {
          "font": {
           "size": 30
          },
          "showarrow": false,
          "text": "(b)",
          "x": 0.49,
          "xref": "x2",
          "y": 0.69,
          "yref": "y2"
         },
         {
          "font": {
           "size": 30
          },
          "showarrow": false,
          "text": "(c)",
          "x": 2023,
          "xref": "x3",
          "y": 0.5,
          "yref": "y3"
         },
         {
          "font": {
           "size": 30
          },
          "showarrow": false,
          "text": "(d)",
          "x": 2023,
          "xref": "x4",
          "y": -1.5,
          "yref": "y4"
         }
        ],
        "font": {
         "size": 20
        },
        "height": 1200,
        "legend": {
         "font": {
          "size": 18
         },
         "orientation": "h",
         "x": 0.04,
         "y": 1.1
        },
        "template": {
         "data": {
          "bar": [
           {
            "error_x": {
             "color": "rgb(36,36,36)"
            },
            "error_y": {
             "color": "rgb(36,36,36)"
            },
            "marker": {
             "line": {
              "color": "white",
              "width": 0.5
             },
             "pattern": {
              "fillmode": "overlay",
              "size": 10,
              "solidity": 0.2
             }
            },
            "type": "bar"
           }
          ],
          "barpolar": [
           {
            "marker": {
             "line": {
              "color": "white",
              "width": 0.5
             },
             "pattern": {
              "fillmode": "overlay",
              "size": 10,
              "solidity": 0.2
             }
            },
            "type": "barpolar"
           }
          ],
          "carpet": [
           {
            "aaxis": {
             "endlinecolor": "rgb(36,36,36)",
             "gridcolor": "white",
             "linecolor": "white",
             "minorgridcolor": "white",
             "startlinecolor": "rgb(36,36,36)"
            },
            "baxis": {
             "endlinecolor": "rgb(36,36,36)",
             "gridcolor": "white",
             "linecolor": "white",
             "minorgridcolor": "white",
             "startlinecolor": "rgb(36,36,36)"
            },
            "type": "carpet"
           }
          ],
          "choropleth": [
           {
            "colorbar": {
             "outlinewidth": 1,
             "tickcolor": "rgb(36,36,36)",
             "ticks": "outside"
            },
            "type": "choropleth"
           }
          ],
          "contour": [
           {
            "colorbar": {
             "outlinewidth": 1,
             "tickcolor": "rgb(36,36,36)",
             "ticks": "outside"
            },
            "colorscale": [
             [
              0,
              "#440154"
             ],
             [
              0.1111111111111111,
              "#482878"
             ],
             [
              0.2222222222222222,
              "#3e4989"
             ],
             [
              0.3333333333333333,
              "#31688e"
             ],
             [
              0.4444444444444444,
              "#26828e"
             ],
             [
              0.5555555555555556,
              "#1f9e89"
             ],
             [
              0.6666666666666666,
              "#35b779"
             ],
             [
              0.7777777777777778,
              "#6ece58"
             ],
             [
              0.8888888888888888,
              "#b5de2b"
             ],
             [
              1,
              "#fde725"
             ]
            ],
            "type": "contour"
           }
          ],
          "contourcarpet": [
           {
            "colorbar": {
             "outlinewidth": 1,
             "tickcolor": "rgb(36,36,36)",
             "ticks": "outside"
            },
            "type": "contourcarpet"
           }
          ],
          "heatmap": [
           {
            "colorbar": {
             "outlinewidth": 1,
             "tickcolor": "rgb(36,36,36)",
             "ticks": "outside"
            },
            "colorscale": [
             [
              0,
              "#440154"
             ],
             [
              0.1111111111111111,
              "#482878"
             ],
             [
              0.2222222222222222,
              "#3e4989"
             ],
             [
              0.3333333333333333,
              "#31688e"
             ],
             [
              0.4444444444444444,
              "#26828e"
             ],
             [
              0.5555555555555556,
              "#1f9e89"
             ],
             [
              0.6666666666666666,
              "#35b779"
             ],
             [
              0.7777777777777778,
              "#6ece58"
             ],
             [
              0.8888888888888888,
              "#b5de2b"
             ],
             [
              1,
              "#fde725"
             ]
            ],
            "type": "heatmap"
           }
          ],
          "heatmapgl": [
           {
            "colorbar": {
             "outlinewidth": 1,
             "tickcolor": "rgb(36,36,36)",
             "ticks": "outside"
            },
            "colorscale": [
             [
              0,
              "#440154"
             ],
             [
              0.1111111111111111,
              "#482878"
             ],
             [
              0.2222222222222222,
              "#3e4989"
             ],
             [
              0.3333333333333333,
              "#31688e"
             ],
             [
              0.4444444444444444,
              "#26828e"
             ],
             [
              0.5555555555555556,
              "#1f9e89"
             ],
             [
              0.6666666666666666,
              "#35b779"
             ],
             [
              0.7777777777777778,
              "#6ece58"
             ],
             [
              0.8888888888888888,
              "#b5de2b"
             ],
             [
              1,
              "#fde725"
             ]
            ],
            "type": "heatmapgl"
           }
          ],
          "histogram": [
           {
            "marker": {
             "line": {
              "color": "white",
              "width": 0.6
             }
            },
            "type": "histogram"
           }
          ],
          "histogram2d": [
           {
            "colorbar": {
             "outlinewidth": 1,
             "tickcolor": "rgb(36,36,36)",
             "ticks": "outside"
            },
            "colorscale": [
             [
              0,
              "#440154"
             ],
             [
              0.1111111111111111,
              "#482878"
             ],
             [
              0.2222222222222222,
              "#3e4989"
             ],
             [
              0.3333333333333333,
              "#31688e"
             ],
             [
              0.4444444444444444,
              "#26828e"
             ],
             [
              0.5555555555555556,
              "#1f9e89"
             ],
             [
              0.6666666666666666,
              "#35b779"
             ],
             [
              0.7777777777777778,
              "#6ece58"
             ],
             [
              0.8888888888888888,
              "#b5de2b"
             ],
             [
              1,
              "#fde725"
             ]
            ],
            "type": "histogram2d"
           }
          ],
          "histogram2dcontour": [
           {
            "colorbar": {
             "outlinewidth": 1,
             "tickcolor": "rgb(36,36,36)",
             "ticks": "outside"
            },
            "colorscale": [
             [
              0,
              "#440154"
             ],
             [
              0.1111111111111111,
              "#482878"
             ],
             [
              0.2222222222222222,
              "#3e4989"
             ],
             [
              0.3333333333333333,
              "#31688e"
             ],
             [
              0.4444444444444444,
              "#26828e"
             ],
             [
              0.5555555555555556,
              "#1f9e89"
             ],
             [
              0.6666666666666666,
              "#35b779"
             ],
             [
              0.7777777777777778,
              "#6ece58"
             ],
             [
              0.8888888888888888,
              "#b5de2b"
             ],
             [
              1,
              "#fde725"
             ]
            ],
            "type": "histogram2dcontour"
           }
          ],
          "mesh3d": [
           {
            "colorbar": {
             "outlinewidth": 1,
             "tickcolor": "rgb(36,36,36)",
             "ticks": "outside"
            },
            "type": "mesh3d"
           }
          ],
          "parcoords": [
           {
            "line": {
             "colorbar": {
              "outlinewidth": 1,
              "tickcolor": "rgb(36,36,36)",
              "ticks": "outside"
             }
            },
            "type": "parcoords"
           }
          ],
          "pie": [
           {
            "automargin": true,
            "type": "pie"
           }
          ],
          "scatter": [
           {
            "fillpattern": {
             "fillmode": "overlay",
             "size": 10,
             "solidity": 0.2
            },
            "type": "scatter"
           }
          ],
          "scatter3d": [
           {
            "line": {
             "colorbar": {
              "outlinewidth": 1,
              "tickcolor": "rgb(36,36,36)",
              "ticks": "outside"
             }
            },
            "marker": {
             "colorbar": {
              "outlinewidth": 1,
              "tickcolor": "rgb(36,36,36)",
              "ticks": "outside"
             }
            },
            "type": "scatter3d"
           }
          ],
          "scattercarpet": [
           {
            "marker": {
             "colorbar": {
              "outlinewidth": 1,
              "tickcolor": "rgb(36,36,36)",
              "ticks": "outside"
             }
            },
            "type": "scattercarpet"
           }
          ],
          "scattergeo": [
           {
            "marker": {
             "colorbar": {
              "outlinewidth": 1,
              "tickcolor": "rgb(36,36,36)",
              "ticks": "outside"
             }
            },
            "type": "scattergeo"
           }
          ],
          "scattergl": [
           {
            "marker": {
             "colorbar": {
              "outlinewidth": 1,
              "tickcolor": "rgb(36,36,36)",
              "ticks": "outside"
             }
            },
            "type": "scattergl"
           }
          ],
          "scattermapbox": [
           {
            "marker": {
             "colorbar": {
              "outlinewidth": 1,
              "tickcolor": "rgb(36,36,36)",
              "ticks": "outside"
             }
            },
            "type": "scattermapbox"
           }
          ],
          "scatterpolar": [
           {
            "marker": {
             "colorbar": {
              "outlinewidth": 1,
              "tickcolor": "rgb(36,36,36)",
              "ticks": "outside"
             }
            },
            "type": "scatterpolar"
           }
          ],
          "scatterpolargl": [
           {
            "marker": {
             "colorbar": {
              "outlinewidth": 1,
              "tickcolor": "rgb(36,36,36)",
              "ticks": "outside"
             }
            },
            "type": "scatterpolargl"
           }
          ],
          "scatterternary": [
           {
            "marker": {
             "colorbar": {
              "outlinewidth": 1,
              "tickcolor": "rgb(36,36,36)",
              "ticks": "outside"
             }
            },
            "type": "scatterternary"
           }
          ],
          "surface": [
           {
            "colorbar": {
             "outlinewidth": 1,
             "tickcolor": "rgb(36,36,36)",
             "ticks": "outside"
            },
            "colorscale": [
             [
              0,
              "#440154"
             ],
             [
              0.1111111111111111,
              "#482878"
             ],
             [
              0.2222222222222222,
              "#3e4989"
             ],
             [
              0.3333333333333333,
              "#31688e"
             ],
             [
              0.4444444444444444,
              "#26828e"
             ],
             [
              0.5555555555555556,
              "#1f9e89"
             ],
             [
              0.6666666666666666,
              "#35b779"
             ],
             [
              0.7777777777777778,
              "#6ece58"
             ],
             [
              0.8888888888888888,
              "#b5de2b"
             ],
             [
              1,
              "#fde725"
             ]
            ],
            "type": "surface"
           }
          ],
          "table": [
           {
            "cells": {
             "fill": {
              "color": "rgb(237,237,237)"
             },
             "line": {
              "color": "white"
             }
            },
            "header": {
             "fill": {
              "color": "rgb(217,217,217)"
             },
             "line": {
              "color": "white"
             }
            },
            "type": "table"
           }
          ]
         },
         "layout": {
          "annotationdefaults": {
           "arrowhead": 0,
           "arrowwidth": 1
          },
          "autotypenumbers": "strict",
          "coloraxis": {
           "colorbar": {
            "outlinewidth": 1,
            "tickcolor": "rgb(36,36,36)",
            "ticks": "outside"
           }
          },
          "colorscale": {
           "diverging": [
            [
             0,
             "rgb(103,0,31)"
            ],
            [
             0.1,
             "rgb(178,24,43)"
            ],
            [
             0.2,
             "rgb(214,96,77)"
            ],
            [
             0.3,
             "rgb(244,165,130)"
            ],
            [
             0.4,
             "rgb(253,219,199)"
            ],
            [
             0.5,
             "rgb(247,247,247)"
            ],
            [
             0.6,
             "rgb(209,229,240)"
            ],
            [
             0.7,
             "rgb(146,197,222)"
            ],
            [
             0.8,
             "rgb(67,147,195)"
            ],
            [
             0.9,
             "rgb(33,102,172)"
            ],
            [
             1,
             "rgb(5,48,97)"
            ]
           ],
           "sequential": [
            [
             0,
             "#440154"
            ],
            [
             0.1111111111111111,
             "#482878"
            ],
            [
             0.2222222222222222,
             "#3e4989"
            ],
            [
             0.3333333333333333,
             "#31688e"
            ],
            [
             0.4444444444444444,
             "#26828e"
            ],
            [
             0.5555555555555556,
             "#1f9e89"
            ],
            [
             0.6666666666666666,
             "#35b779"
            ],
            [
             0.7777777777777778,
             "#6ece58"
            ],
            [
             0.8888888888888888,
             "#b5de2b"
            ],
            [
             1,
             "#fde725"
            ]
           ],
           "sequentialminus": [
            [
             0,
             "#440154"
            ],
            [
             0.1111111111111111,
             "#482878"
            ],
            [
             0.2222222222222222,
             "#3e4989"
            ],
            [
             0.3333333333333333,
             "#31688e"
            ],
            [
             0.4444444444444444,
             "#26828e"
            ],
            [
             0.5555555555555556,
             "#1f9e89"
            ],
            [
             0.6666666666666666,
             "#35b779"
            ],
            [
             0.7777777777777778,
             "#6ece58"
            ],
            [
             0.8888888888888888,
             "#b5de2b"
            ],
            [
             1,
             "#fde725"
            ]
           ]
          },
          "colorway": [
           "#1F77B4",
           "#FF7F0E",
           "#2CA02C",
           "#D62728",
           "#9467BD",
           "#8C564B",
           "#E377C2",
           "#7F7F7F",
           "#BCBD22",
           "#17BECF"
          ],
          "font": {
           "color": "rgb(36,36,36)"
          },
          "geo": {
           "bgcolor": "white",
           "lakecolor": "white",
           "landcolor": "white",
           "showlakes": true,
           "showland": true,
           "subunitcolor": "white"
          },
          "hoverlabel": {
           "align": "left"
          },
          "hovermode": "closest",
          "mapbox": {
           "style": "light"
          },
          "paper_bgcolor": "white",
          "plot_bgcolor": "white",
          "polar": {
           "angularaxis": {
            "gridcolor": "rgb(232,232,232)",
            "linecolor": "rgb(36,36,36)",
            "showgrid": false,
            "showline": true,
            "ticks": "outside"
           },
           "bgcolor": "white",
           "radialaxis": {
            "gridcolor": "rgb(232,232,232)",
            "linecolor": "rgb(36,36,36)",
            "showgrid": false,
            "showline": true,
            "ticks": "outside"
           }
          },
          "scene": {
           "xaxis": {
            "backgroundcolor": "white",
            "gridcolor": "rgb(232,232,232)",
            "gridwidth": 2,
            "linecolor": "rgb(36,36,36)",
            "showbackground": true,
            "showgrid": false,
            "showline": true,
            "ticks": "outside",
            "zeroline": false,
            "zerolinecolor": "rgb(36,36,36)"
           },
           "yaxis": {
            "backgroundcolor": "white",
            "gridcolor": "rgb(232,232,232)",
            "gridwidth": 2,
            "linecolor": "rgb(36,36,36)",
            "showbackground": true,
            "showgrid": false,
            "showline": true,
            "ticks": "outside",
            "zeroline": false,
            "zerolinecolor": "rgb(36,36,36)"
           },
           "zaxis": {
            "backgroundcolor": "white",
            "gridcolor": "rgb(232,232,232)",
            "gridwidth": 2,
            "linecolor": "rgb(36,36,36)",
            "showbackground": true,
            "showgrid": false,
            "showline": true,
            "ticks": "outside",
            "zeroline": false,
            "zerolinecolor": "rgb(36,36,36)"
           }
          },
          "shapedefaults": {
           "fillcolor": "black",
           "line": {
            "width": 0
           },
           "opacity": 0.3
          },
          "ternary": {
           "aaxis": {
            "gridcolor": "rgb(232,232,232)",
            "linecolor": "rgb(36,36,36)",
            "showgrid": false,
            "showline": true,
            "ticks": "outside"
           },
           "baxis": {
            "gridcolor": "rgb(232,232,232)",
            "linecolor": "rgb(36,36,36)",
            "showgrid": false,
            "showline": true,
            "ticks": "outside"
           },
           "bgcolor": "white",
           "caxis": {
            "gridcolor": "rgb(232,232,232)",
            "linecolor": "rgb(36,36,36)",
            "showgrid": false,
            "showline": true,
            "ticks": "outside"
           }
          },
          "title": {
           "x": 0.05
          },
          "xaxis": {
           "automargin": true,
           "gridcolor": "rgb(232,232,232)",
           "linecolor": "rgb(36,36,36)",
           "showgrid": false,
           "showline": true,
           "ticks": "outside",
           "title": {
            "standoff": 15
           },
           "zeroline": false,
           "zerolinecolor": "rgb(36,36,36)"
          },
          "yaxis": {
           "automargin": true,
           "gridcolor": "rgb(232,232,232)",
           "linecolor": "rgb(36,36,36)",
           "showgrid": false,
           "showline": true,
           "ticks": "outside",
           "title": {
            "standoff": 15
           },
           "zeroline": false,
           "zerolinecolor": "rgb(36,36,36)"
          }
         }
        },
        "width": 1800,
        "xaxis": {
         "anchor": "y",
         "domain": [
          0,
          0.45
         ],
         "range": [
          100,
          310
         ],
         "title": {
          "font": {
           "size": 30
          },
          "text": "Mitigation speed potential (R<sub>3</sub>)"
         }
        },
        "xaxis2": {
         "anchor": "y2",
         "domain": [
          0.55,
          1
         ],
         "range": [
          0.46,
          1.3
         ],
         "title": {
          "font": {
           "size": 30
          },
          "text": "Carbon Intensity Reduction (M<sub>1</sub>)"
         }
        },
        "xaxis3": {
         "anchor": "y3",
         "domain": [
          0,
          0.45
         ],
         "range": [
          2020,
          2100
         ],
         "title": {
          "font": {
           "size": 30
          },
          "text": "Time (years)"
         }
        },
        "xaxis4": {
         "anchor": "y4",
         "domain": [
          0.55,
          1
         ],
         "range": [
          2020,
          2100
         ],
         "title": {
          "font": {
           "size": 30
          },
          "text": "Time (years)"
         }
        },
        "yaxis": {
         "anchor": "x",
         "domain": [
          0.3833333333333333,
          0.9999999999999999
         ],
         "range": [
          0.6,
          1.3
         ],
         "title": {
          "font": {
           "size": 30
          },
          "text": "Relative Abatement Index (R<sub>1</sub>)"
         }
        },
        "yaxis2": {
         "anchor": "x2",
         "domain": [
          0.3833333333333333,
          0.9999999999999999
         ],
         "range": [
          0.35,
          0.7
         ],
         "title": {
          "font": {
           "size": 30
          },
          "text": "Energy Intensity Reduction (M<sub>2</sub>)"
         }
        },
        "yaxis3": {
         "anchor": "x3",
         "domain": [
          0,
          0.2333333333333333
         ],
         "range": [
          -4,
          1
         ],
         "title": {
          "font": {
           "size": 25
          },
          "text": "Sensitivity<br>primary energy (S<sub>4</sub>)"
         },
         "type": "log"
        },
        "yaxis4": {
         "anchor": "x4",
         "domain": [
          0,
          0.2333333333333333
         ],
         "range": [
          -6,
          -1
         ],
         "title": {
          "font": {
           "size": 25
          },
          "text": "Sensitivity<br>demand (S<sub>5</sub>)"
         },
         "type": "log"
        }
       }
      }
     },
     "metadata": {},
     "output_type": "display_data"
    }
   ],
   "source": [
    "fig = make_subplots(\n",
    "    rows=3, cols=2,\n",
    "    horizontal_spacing = 0.10,\n",
    "    vertical_spacing=0.15,\n",
    "    specs = [[{\"rowspan\": 2}, {\"rowspan\": 2}],\n",
    "             [None, None],\n",
    "             [{}, {}],\n",
    "            ],\n",
    "    subplot_titles = (\"\", \"\", \"\", \"\"),\n",
    ")\n",
    "\n",
    "for col_i, col in enumerate([1, 2]):\n",
    "        var_x = [ind_xr.sel(Indicator=\"S3_speedmax\", Time=2050).Value, ind_xr.sel(Indicator=\"M1_cir\", Time=2050).Value][col_i]\n",
    "        var_y = [ind_xr.sel(Indicator=\"S1_rai\", Time=2050).Value, ind_xr.sel(Indicator=\"M2_eir\", Time=2050).Value][col_i]\n",
    "\n",
    "        # SHADED AREAS IN THE BACKGROUND\n",
    "        ar_x = np.array(var_x)\n",
    "        ar_y = np.array(var_y)\n",
    "        ar_x = ar_x[ar_x != 0]\n",
    "        ar_y = ar_y[ar_y != 0]\n",
    "        m_y = np.nanmedian(ar_y)\n",
    "        m_y1 = np.nanmedian(ar_y)+np.nanstd(ar_y)\n",
    "        m_y1b = np.nanmedian(ar_y)+2*np.nanstd(ar_y)\n",
    "        m_y0 = np.nanmedian(ar_y)-np.nanstd(ar_y)\n",
    "        m_y0b = np.nanmedian(ar_y)-2*np.nanstd(ar_y)\n",
    "        m_x = np.nanmedian(ar_x)\n",
    "        m_x1 = np.nanmedian(ar_x)+np.nanstd(ar_x)\n",
    "        m_x1b = np.nanmedian(ar_x)+2*np.nanstd(ar_x)\n",
    "        m_x0 = np.nanmedian(ar_x)-np.nanstd(ar_x)\n",
    "        m_x0b = np.nanmedian(ar_x)-2*np.nanstd(ar_x)\n",
    "        mn_x = [105, 0.475][col_i]\n",
    "        mn_y = [0.61, 0.36][col_i]\n",
    "\n",
    "        fig.add_trace(go.Scatter(x=[0, mn_x, 1e3], y=[m_y]*3, text='\\u03B7', textfont={\"size\": font_symbol}, mode='text+lines', showlegend=False, line={'dash':'dash'}, marker = {\"symbol\": \"square\", \"color\": 'silver', \"size\": 35, \"line\": {\"color\": \"black\", \"width\": 0}}), 1, col)\n",
    "        fig.add_trace(go.Scatter(x=[0, mn_x, 1e3], y=[m_y1]*3, text='+\\u03C3', textfont={\"size\": font_symbol}, mode='text', showlegend=False, marker = {\"symbol\": \"square\", \"color\": 'silver', \"size\": 35, \"line\": {\"color\": \"black\", \"width\": 0}}), 1, col)\n",
    "        fig.add_trace(go.Scatter(x=[0, mn_x, 1e3], y=[m_y0]*3, text='-\\u03C3', textfont={\"size\": font_symbol}, mode='text', showlegend=False, marker = {\"symbol\": \"square\", \"color\": 'silver', \"size\": 35, \"line\": {\"color\": \"black\", \"width\": 0}}), 1, col)\n",
    "        fig.add_trace(go.Scatter(x=[0, mn_x, 1e3], y=[m_y1b]*3, text='+2\\u03C3', textfont={\"size\": font_symbol}, mode='text', showlegend=False, marker = {\"symbol\": \"square\", \"color\": 'silver', \"size\": 35, \"line\": {\"color\": \"black\", \"width\": 0}}), 1, col)\n",
    "        fig.add_trace(go.Scatter(x=[0, mn_x, 1e3], y=[m_y0b]*3, text='-2\\u03C3', textfont={\"size\": font_symbol}, mode='text', showlegend=False, marker = {\"symbol\": \"square\", \"color\": 'silver', \"size\": 35, \"line\": {\"color\": \"black\", \"width\": 0}}), 1, col)\n",
    "        fig.add_trace(go.Scatter(x=[-1e3, 1e3, 1e3, -1e3], y=[m_y0, m_y0, m_y1, m_y1], fillcolor='silver', line={'color':'silver'}, showlegend=False, fill='toself', opacity=0.25), 1, col)\n",
    "        fig.add_trace(go.Scatter(x=[-1e3, 1e3, 1e3, -1e3], y=[m_y0b, m_y0b, m_y1b, m_y1b], showlegend=False, fillcolor='silver', line={'color':'silver'}, fill='toself', opacity=0.1), 1, col)\n",
    "\n",
    "        fig.add_trace(go.Scatter(x=[m_x]*3, y=[-1e3, mn_y, 1e3], text='\\u03B7', textfont={\"size\": font_symbol}, mode='text+lines', showlegend=False, line={'dash':'dash'}, marker = {\"symbol\": \"square\", \"color\": 'silver', \"size\": 35, \"line\": {\"color\": \"black\", \"width\": 0}}), 1, col)\n",
    "        fig.add_trace(go.Scatter(x=[m_x1]*3, y=[-1e3, mn_y, 1e3], text='+\\u03C3', textfont={\"size\": font_symbol}, mode='text', showlegend=False, line={'dash':'dash'}, marker = {\"symbol\": \"square\", \"color\": 'silver', \"size\": 35, \"line\": {\"color\": \"black\", \"width\": 0}}), 1, col)\n",
    "        fig.add_trace(go.Scatter(x=[m_x0]*3, y=[-1e3, mn_y, 1e3], text='-\\u03C3', textfont={\"size\": font_symbol}, mode='text', showlegend=False, line={'dash':'dash'}, marker = {\"symbol\": \"square\", \"color\": 'silver', \"size\": 35, \"line\": {\"color\": \"black\", \"width\": 0}}), 1, col)\n",
    "        fig.add_trace(go.Scatter(x=[m_x1b]*3, y=[-1e3, mn_y, 1e3], text='+2\\u03C3', textfont={\"size\": font_symbol}, mode='text', showlegend=False, line={'dash':'dash'}, marker = {\"symbol\": \"square\", \"color\": 'silver', \"size\": 35, \"line\": {\"color\": \"black\", \"width\": 0}}), 1, col)\n",
    "        fig.add_trace(go.Scatter(x=[m_x0b]*3, y=[-1e3, mn_y, 1e3], text='-2\\u03C3', textfont={\"size\": font_symbol}, mode='text', showlegend=False, line={'dash':'dash'}, marker = {\"symbol\": \"square\", \"color\": 'silver', \"size\": 35, \"line\": {\"color\": \"black\", \"width\": 0}}), 1, col)\n",
    "        fig.add_trace(go.Scatter(x=[m_x0, m_x0, m_x1, m_x1], y=[-1e3, 1e3, 1e3, -1e3], fillcolor='silver', line={'color':'silver'}, showlegend=False, fill='toself', opacity=0.25), 1, col)\n",
    "        fig.add_trace(go.Scatter(x=[m_x0b, m_x0b, m_x1b, m_x1b], y=[-1e3, 1e3, 1e3, -1e3], showlegend=False, fillcolor='silver', line={'color':'silver'}, fill='toself', opacity=0.1), 1, col)\n",
    "\n",
    "        # ACTUAL DATA\n",
    "        for m_i, m in enumerate(list_of_models):\n",
    "                for s_i, s in enumerate(settings['scenarios_c400'][1:]):\n",
    "                        fig.add_trace(go.Scatter(x=[var_x.sel(Scenario=\"DIAG-C400-lin\", Model=m), var_x.sel(Scenario=s, Model=m)],\n",
    "                                                y=[var_y.sel(Scenario=\"DIAG-C400-lin\", Model=m), var_y.sel(Scenario=s, Model=m)], name=m,\n",
    "                                                mode='lines+markers',\n",
    "                                                showlegend=False,\n",
    "                                                line={'width': 3, 'dash': 'solid'},\n",
    "                                                text=[\"\", names[s_i]],\n",
    "                                                textfont = dict(color='black',\n",
    "                                                                size=15),\n",
    "                                                marker={\"color\": list_of_colors[m_i],\n",
    "                                                        \"size\": [12, 30],\n",
    "                                                        \"line\": {\"color\": \"black\", \"width\": 0.5}}\n",
    "                                                ), 1, col)\n",
    "\n",
    "        for m_i, m in enumerate(list_of_models):\n",
    "                for s_i, s in enumerate(settings['scenarios_c400'][1:]):\n",
    "                        fig.add_trace(go.Scatter(x=[var_x.sel(Scenario=\"DIAG-C400-lin\", Model=m), var_x.sel(Scenario=s, Model=m)],\n",
    "                                                y=[var_y.sel(Scenario=\"DIAG-C400-lin\", Model=m), var_y.sel(Scenario=s, Model=m)], name=m,\n",
    "                                                mode='text+markers',\n",
    "                                                showlegend=False,\n",
    "                                                text=[\"\", names[s_i]],\n",
    "                                                textfont = dict(color='black',\n",
    "                                                                size=font_annot),\n",
    "                                                marker={\"color\": list_of_colors[m_i],\n",
    "                                                        \"size\": [12, 30],\n",
    "                                                        \"line\": {\"color\": \"black\", \"width\": 0.5}}\n",
    "                                                ), 1, col)\n",
    "\n",
    "        # Dummy for legend\n",
    "        for m_i, m in enumerate(list_of_models):\n",
    "                fig.add_trace(go.Scatter(x=[-1e3],\n",
    "                                        y=[1e3],\n",
    "                                        mode='markers+text',\n",
    "                                        showlegend=[True, False][col_i], line_width=4,\n",
    "                                        name=list_of_model_shortnames[m_i],\n",
    "                                        #text=\"<b>\"+m[0]+\"</b>\",\n",
    "                                        hovertemplate='<b>DIAG-C400-lin</b> <br>'+\"ERT\"+': %{y:.2f} <br>'+\"Carbon capture\"+': %{x:.2f}',\n",
    "                                        marker={\"color\": list_of_colors[m_i],\n",
    "                                                \"size\": 30,\n",
    "                                                \"symbol\": \"square\",\n",
    "                                                \"line\": {\"color\": \"black\", \"width\": 4}}\n",
    "                                        ), 1, col)\n",
    "\n",
    "        for m_i, m in enumerate(list_of_models):\n",
    "                fig.add_trace(go.Scatter(x=[var_x.sel(Scenario=\"DIAG-C400-lin\", Model=m)],\n",
    "                                        y=[var_y.sel(Scenario=\"DIAG-C400-lin\", Model=m)],\n",
    "                                        mode='markers',\n",
    "                                        showlegend=False, line_width=4,\n",
    "                                        name=list_of_model_shortnames[m_i],\n",
    "                                        #text=\"<b>\"+m[0]+\"</b>\",\n",
    "                                        text=\"<b>\"+\"-\"+\"</b>\",\n",
    "                                        hovertemplate='<b>DIAG-C400-lin</b> <br>'+\"ERT\"+': %{y:.2f} <br>'+\"Carbon capture\"+': %{x:.2f}',\n",
    "                                        marker={\"color\": \"black\", #ModelCols_touse[m_i],\n",
    "                                                \"size\": 12,\n",
    "                                                \"symbol\": \"circle\",\n",
    "                                                \"line\": {\"color\": \"black\", \"width\": 4}}\n",
    "                                        ), 1, col)\n",
    "\n",
    "        fig.update_xaxes(row=1, col=col, title=[\"Mitigation speed potential (R<sub>3</sub>)\", 'Carbon Intensity Reduction (M<sub>1</sub>)'][col_i], title_font_size=font_axes, range=[[100, 310], [0.46, 1.3]][col_i])\n",
    "        fig.update_yaxes(row=1, col=col, title=[\"Relative Abatement Index (R<sub>1</sub>)\", 'Energy Intensity Reduction (M<sub>2</sub>)'][col_i], title_font_size=font_axes, range=[[0.60, 1.3], [0.35, 0.70]][col_i])\n",
    "\n",
    "\n",
    "for s_i, s in enumerate(settings['scenarios_c400'][1:]+['DIAG-C400-lin']):\n",
    "        fig.add_trace(go.Scatter(x=[260],\n",
    "                                y=[1.25-s_i*0.03], name=m,\n",
    "                                mode='text+markers',\n",
    "                                showlegend=False,\n",
    "                                text=[names[s_i]],\n",
    "                                textfont = dict(color='black',\n",
    "                                                size=font_annot-10),\n",
    "                                marker={\"color\": 'white',\n",
    "                                        \"size\": 25,\n",
    "                                        \"line\": {\"color\": \"black\", \"width\": 0.5}}\n",
    "                                ), 1, 1)\n",
    "        strin = s[14:]\n",
    "        if s == \"DIAG-C400-lin\": strin = \"DIAG-C400-lin\"\n",
    "        fig.add_annotation(x=260+25, y=1.25-s_i*0.03, text=strin, showarrow=False, align='left', font=dict(size=14))\n",
    "\n",
    "\n",
    "for m_i, m in enumerate(list_of_models):\n",
    "        fig.add_trace(go.Scatter(x=ind_xr.Time,\n",
    "                                y=ind_xr.sel(Indicator = \"S4_sensprim\", Model=m, Scenario='DIAG-C400-lin').Value,\n",
    "                                mode='lines',\n",
    "                                showlegend=False, line_width=4,\n",
    "                                name=list_of_model_shortnames[m_i],\n",
    "                                line = {'color': list_of_colors[m_i]}\n",
    "                                ), 3, 1)\n",
    "fig.update_xaxes(row=3, col=1, title=\"Time (years)\", title_font_size=font_axes, range=[2020, 2100])\n",
    "fig.update_yaxes(row=3, col=1, type=\"log\", title=\"Sensitivity<br>primary energy (S<sub>4</sub>)\", title_font_size=font_axes-5, range=[-4, 1])\n",
    "\n",
    "for m_i, m in enumerate(list_of_models):\n",
    "        fig.add_trace(go.Scatter(x=ind_xr.Time,\n",
    "                                y=ind_xr.sel(Indicator = \"S5_sensdem\", Model=m, Scenario='DIAG-C400-lin').Value,\n",
    "                                mode='lines',\n",
    "                                showlegend=False, line_width=4,\n",
    "                                name=list_of_model_shortnames[m_i],\n",
    "                                line = {'color': list_of_colors[m_i]}\n",
    "                                ), 3, 2)\n",
    "fig.update_xaxes(row=3, col=2, title=\"Time (years)\", title_font_size=font_axes, range=[2020, 2100])\n",
    "fig.update_yaxes(row=3, col=2, type=\"log\", title=\"Sensitivity<br>demand (S<sub>5</sub>)\", title_font_size=font_axes-5, range=[-6, -1])\n",
    "\n",
    "# Panel annotations\n",
    "fig.add_annotation(x=107, y=1.28, text=\"(a)\", showarrow=False, font=dict(size=30), row=1, col=1)\n",
    "fig.add_annotation(x=0.49, y=0.69, text=\"(b)\", showarrow=False, font=dict(size=30), row=1, col=2)\n",
    "fig.add_annotation(x=2023, y=0.5, text=\"(c)\", showarrow=False, font=dict(size=30), row=3, col=1)\n",
    "fig.add_annotation(x=2023, y=-1.5, text=\"(d)\", showarrow=False, font=dict(size=30), row=3, col=2)\n",
    "\n",
    "#fig.update_annotations(font_size=font_annot)\n",
    "fig.update_layout(font_size = 20)\n",
    "fig.update_layout(legend=dict(x=0.04, y=1.1, orientation=\"h\", font_size=18))\n",
    "fig.update_layout(height=1200, width=1800)\n",
    "fig.update_layout(template=\"simple_white\")\n",
    "fig.show()\n",
    "fig.write_image(settings['paths']['figures'] + \"Figure_2.png\", scale=4)"
   ]
  }
 ],
 "metadata": {
  "kernelspec": {
   "display_name": "MyEnv",
   "language": "python",
   "name": "python3"
  },
  "language_info": {
   "codemirror_mode": {
    "name": "ipython",
    "version": 3
   },
   "file_extension": ".py",
   "mimetype": "text/x-python",
   "name": "python",
   "nbconvert_exporter": "python",
   "pygments_lexer": "ipython3",
   "version": "3.9.16"
  },
  "orig_nbformat": 4,
  "vscode": {
   "interpreter": {
    "hash": "36d5d389870ab01fa625d0d5123f82469a3683fa0e02c4f7e9e76e9a75345aa3"
   }
  }
 },
 "nbformat": 4,
 "nbformat_minor": 2
}
