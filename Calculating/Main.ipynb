{
 "cells": [
  {
   "attachments": {},
   "cell_type": "markdown",
   "metadata": {},
   "source": [
    "## Preambule"
   ]
  },
  {
   "cell_type": "code",
   "execution_count": 138,
   "metadata": {},
   "outputs": [],
   "source": [
    "import numpy as np\n",
    "import pandas as pd\n",
    "import yaml\n",
    "from pathlib import Path\n",
    "import xarray as xr\n",
    "import matplotlib.pyplot as plt\n",
    "from importlib import reload"
   ]
  },
  {
   "attachments": {},
   "cell_type": "markdown",
   "metadata": {},
   "source": [
    "## Run class"
   ]
  },
  {
   "cell_type": "code",
   "execution_count": 139,
   "metadata": {},
   "outputs": [],
   "source": [
    "import Classes\n",
    "reload(Classes)\n",
    "from Classes import ecemf_reader, calculator"
   ]
  },
  {
   "cell_type": "code",
   "execution_count": 140,
   "metadata": {},
   "outputs": [
    {
     "name": "stderr",
     "output_type": "stream",
     "text": [
      "x:\\user\\dekkerm\\Projects\\IAMfingerprints\\Calculating\\Classes.py:53: RuntimeWarning: Mean of empty slice.\n",
      "  ag = (np.array(self.pd_mod[(self.pd_mod.Variable == 'GDP|PPP') & (self.pd_mod.Model == m) & (self.pd_mod.Region == 'Europe')])[:, 5:]).mean(axis=0)\n",
      "x:\\user\\dekkerm\\Projects\\IAMfingerprints\\Calculating\\Classes.py:61: RuntimeWarning: Mean of empty slice.\n",
      "  ag = (np.array(self.pd_mod[(self.pd_mod.Variable == 'GDP|PPP') & (self.pd_mod.Model == m) & (self.pd_mod.Region == 'World')])[:, 5:]).mean(axis=0)\n",
      "x:\\user\\dekkerm\\Projects\\IAMfingerprints\\Calculating\\Classes.py:70: RuntimeWarning: Mean of empty slice\n",
      "  av_gdp[t_i, 0] = np.nanmean(np.array(all_gdpse)[:, t_i].astype(float))\n",
      "x:\\user\\dekkerm\\Projects\\IAMfingerprints\\Calculating\\Classes.py:72: RuntimeWarning: Mean of empty slice\n",
      "  av_gdp[t_i, 1] = np.nanmean(np.array(all_gdpsw)[:, t_i].astype(float))\n"
     ]
    }
   ],
   "source": [
    "readclass = ecemf_reader()\n",
    "readclass.read_csv_files()\n",
    "readclass.add_average_gdps()\n",
    "readclass.convert_to_xr()"
   ]
  },
  {
   "cell_type": "code",
   "execution_count": 141,
   "metadata": {},
   "outputs": [
    {
     "name": "stderr",
     "output_type": "stream",
     "text": [
      "x:\\user\\dekkerm\\Projects\\IAMfingerprints\\Calculating\\Classes.py:171: RuntimeWarning: All-NaN slice encountered\n",
      "  potentials[s_i, m_i] = np.nanmax(speed[s_i, m_i], axis=1)\n",
      "x:\\user\\dekkerm\\Projects\\IAMfingerprints\\Calculating\\Classes.py:194: RuntimeWarning: Mean of empty slice\n",
      "  sens_prim = np.nanmean(var_prim, axis=1)\n",
      "x:\\user\\dekkerm\\Projects\\IAMfingerprints\\Calculating\\Classes.py:216: RuntimeWarning: Mean of empty slice\n",
      "  sens_dem = np.nanmean(var_dem, axis=1)\n"
     ]
    }
   ],
   "source": [
    "calcclass = calculator(readclass.data_xr)\n",
    "calcclass.calculate_responsiveness_indicators()\n",
    "calcclass.calculate_mitigationstrategy_indicators()\n",
    "calcclass.calculate_energysupply_indicators()\n",
    "calcclass.calculate_energydemand_indicators()\n",
    "calcclass.calculate_costandeffort_indicators()\n",
    "calcclass.convert_to_indicator_xr()\n",
    "calcclass.export_indicators_to_netcdf()"
   ]
  }
 ],
 "metadata": {
  "kernelspec": {
   "display_name": "MyEnv",
   "language": "python",
   "name": "python3"
  },
  "language_info": {
   "codemirror_mode": {
    "name": "ipython",
    "version": 3
   },
   "file_extension": ".py",
   "mimetype": "text/x-python",
   "name": "python",
   "nbconvert_exporter": "python",
   "pygments_lexer": "ipython3",
   "version": "3.9.16"
  },
  "orig_nbformat": 4
 },
 "nbformat": 4,
 "nbformat_minor": 2
}
