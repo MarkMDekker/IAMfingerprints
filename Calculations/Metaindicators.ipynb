{
 "cells": [
  {
   "cell_type": "markdown",
   "metadata": {},
   "source": [
    "#### Script to compute model fingerprints expressed in Tab. 1 of the main text"
   ]
  },
  {
   "cell_type": "markdown",
   "metadata": {},
   "source": [
    "##### Preambule"
   ]
  },
  {
   "cell_type": "code",
   "execution_count": 1,
   "metadata": {},
   "outputs": [],
   "source": [
    "import numpy as np\n",
    "import xarray as xr\n",
    "import yaml"
   ]
  },
  {
   "cell_type": "markdown",
   "metadata": {},
   "source": [
    "##### Read config file"
   ]
  },
  {
   "cell_type": "code",
   "execution_count": 2,
   "metadata": {},
   "outputs": [],
   "source": [
    "with open(\"../Configuration/config.yaml\", \"r\") as stream:\n",
    "    settings = yaml.load(stream, Loader=yaml.Loader)\n",
    "list_of_models = [settings['models'][m]['full_name'] for m in settings['models'].keys()]\n",
    "list_of_colors = [settings['models'][m]['color'] for m in settings['models'].keys()]"
   ]
  },
  {
   "cell_type": "markdown",
   "metadata": {},
   "source": [
    "##### Read data"
   ]
  },
  {
   "cell_type": "code",
   "execution_count": 3,
   "metadata": {},
   "outputs": [],
   "source": [
    "ind_xr = xr.open_dataset(settings['paths']['data']['output']+\"XRindicators.nc\")"
   ]
  },
  {
   "cell_type": "markdown",
   "metadata": {},
   "source": [
    "##### Compute"
   ]
  },
  {
   "cell_type": "code",
   "execution_count": 4,
   "metadata": {},
   "outputs": [
    {
     "name": "stdout",
     "output_type": "stream",
     "text": [
      "IMAGE 3.2              :        0.5\n",
      "PROMETHEUS 1.2         :       -0.8\n",
      "OSeMBE v1.0.0          :        nan\n",
      "REMIND 2.1             :        0.3\n",
      "WITCH 5.0              :        1.0\n",
      "Euro-Calliope 2.0      :        nan\n",
      "MEESA v1.1             :        nan\n",
      "TIAM-ECN 1.2           :       -1.8\n",
      "MESSAGEix-GLOBIOM 1.2  :       -1.4\n",
      "PRIMES 2022            :       -0.0\n"
     ]
    }
   ],
   "source": [
    "inds = ['C3_dem']\n",
    "for model in list_of_models:\n",
    "    vals = []\n",
    "    for ind in inds:\n",
    "        std_ens = ind_xr.sel(Indicator=ind, Time=2050, Region='Europe', Model=settings['models_touse'], Scenario=settings['scenarios_c400']).std()\n",
    "        med_ens = ind_xr.sel(Indicator=ind, Time=2050, Region='Europe', Model=settings['models_touse'], Scenario=settings['scenarios_c400']).median()\n",
    "        med_mod = ind_xr.sel(Indicator=ind, Time=2050, Region='Europe', Model=model, Scenario=settings['scenarios_c400']).median()\n",
    "        vals.append(float(((med_mod-med_ens) / std_ens).Value))\n",
    "    print(f\"{model:<22} : {np.round(np.mean(vals), 1):>10}\")"
   ]
  },
  {
   "cell_type": "code",
   "execution_count": 5,
   "metadata": {},
   "outputs": [
    {
     "name": "stdout",
     "output_type": "stream",
     "text": [
      "IMAGE 3.2             | F: 0.72       | R: -0.63      | O: 0.37       |\n",
      "PROMETHEUS 1.2        | F: 0.56       | R: -0.92      | O: 1.85       |\n",
      "OSeMBE v1.0.0         | F: nan        | R: -0.42      | O: nan        |\n",
      "REMIND 2.1            | F: -0.68      | R: 0.69       | O: 0.06       |\n",
      "WITCH 5.0             | F: 0.99       | R: -0.1       | O: 0.18       |\n",
      "Euro-Calliope 2.0     | F: -0.96      | R: 1.27       | O: -0.67      |\n",
      "MEESA v1.1            | F: nan        | R: nan        | O: nan        |\n",
      "TIAM-ECN 1.2          | F: 1.4        | R: -0.5       | O: 0.25       |\n",
      "MESSAGEix-GLOBIOM 1.2 | F: 0.59       | R: -0.09      | O: 0.42       |\n",
      "PRIMES 2022           | F: 0.05       | R: 0.06       | O: -0.38      |\n"
     ]
    }
   ],
   "source": [
    "indlists = [['ES1_coal', 'ES2_oil', 'ES3_gas'],\n",
    " ['ES5_wind', 'ES4_solar'],\n",
    " ['ES6_biomass', 'ES7_nuclear']]\n",
    "indnames = ['Fossil', 'Renew', 'Other']\n",
    "\n",
    "for model in list_of_models:\n",
    "    output_line = f\"{model:<21} |\"\n",
    "    \n",
    "    for inds_i, inds in enumerate(indlists):\n",
    "        vals = []\n",
    "        \n",
    "        for ind in inds:\n",
    "            std_ens = ind_xr.sel(Indicator=ind, Time=2050, Region='Europe', Model=settings['models_touse'], Scenario=settings['scenarios_c400']).std()\n",
    "            med_ens = ind_xr.sel(Indicator=ind, Time=2050, Region='Europe', Model=settings['models_touse'], Scenario=settings['scenarios_c400']).median()\n",
    "            med_mod = ind_xr.sel(Indicator=ind, Time=2050, Region='Europe', Model=model, Scenario=settings['scenarios_c400']).median()\n",
    "            vals.append(float(((med_mod - med_ens) / std_ens).Value))\n",
    "        \n",
    "        output_line += f\" {indnames[inds_i][0]}: {np.round(np.mean(vals), 2):<10} |\"\n",
    "    \n",
    "    print(output_line)"
   ]
  },
  {
   "cell_type": "code",
   "execution_count": 6,
   "metadata": {},
   "outputs": [
    {
     "name": "stdout",
     "output_type": "stream",
     "text": [
      "IMAGE 3.2             | M1_cir: 0.6        | M2_eir: 0.3        | M3_cc: 1.4        | M4_nonco2: -1.2       |\n",
      "PROMETHEUS 1.2        | M1_cir: -0.4       | M2_eir: 0.8        | M3_cc: -0.7       | M4_nonco2: nan        |\n",
      "OSeMBE v1.0.0         | M1_cir: nan        | M2_eir: nan        | M3_cc: nan        | M4_nonco2: nan        |\n",
      "REMIND 2.1            | M1_cir: 1.2        | M2_eir: -0.1       | M3_cc: 0.2        | M4_nonco2: -1.2       |\n",
      "WITCH 5.0             | M1_cir: -0.5       | M2_eir: 2.2        | M3_cc: 1.4        | M4_nonco2: -0.0       |\n",
      "Euro-Calliope 2.0     | M1_cir: 0.5        | M2_eir: -0.5       | M3_cc: nan        | M4_nonco2: nan        |\n",
      "MEESA v1.1            | M1_cir: nan        | M2_eir: nan        | M3_cc: -0.2       | M4_nonco2: nan        |\n",
      "TIAM-ECN 1.2          | M1_cir: -1.9       | M2_eir: -1.6       | M3_cc: -0.1       | M4_nonco2: 1.8        |\n",
      "MESSAGEix-GLOBIOM 1.2 | M1_cir: -0.7       | M2_eir: -0.6       | M3_cc: 1.4        | M4_nonco2: 0.1        |\n",
      "PRIMES 2022           | M1_cir: 0.1        | M2_eir: 0.5        | M3_cc: -0.1       | M4_nonco2: 1.0        |\n"
     ]
    }
   ],
   "source": [
    "inds = ['M1_cir', 'M2_eir', 'M3_cc', 'M4_nonco2']\n",
    "\n",
    "for model in list_of_models:\n",
    "    output_line = f\"{model:<21} |\"\n",
    "    \n",
    "    for ind in inds:\n",
    "        std_ens = ind_xr.sel(Indicator=ind, Time=2050, Region='Europe', Scenario=settings['scenarios_c400']).std()\n",
    "        med_ens = ind_xr.sel(Indicator=ind, Time=2050, Region='Europe', Scenario=settings['scenarios_c400']).median()\n",
    "        med_mod = ind_xr.sel(Indicator=ind, Time=2050, Region='Europe', Model=model, Scenario=settings['scenarios_c400']).median()\n",
    "        \n",
    "        output_line += f\" {ind}: {np.round(float(((med_mod - med_ens) / std_ens).Value), 1):<10} |\"\n",
    "    \n",
    "    print(output_line)"
   ]
  }
 ],
 "metadata": {
  "kernelspec": {
   "display_name": "MyEnv",
   "language": "python",
   "name": "python3"
  },
  "language_info": {
   "codemirror_mode": {
    "name": "ipython",
    "version": 3
   },
   "file_extension": ".py",
   "mimetype": "text/x-python",
   "name": "python",
   "nbconvert_exporter": "python",
   "pygments_lexer": "ipython3",
   "version": "3.9.16"
  },
  "orig_nbformat": 4
 },
 "nbformat": 4,
 "nbformat_minor": 2
}
