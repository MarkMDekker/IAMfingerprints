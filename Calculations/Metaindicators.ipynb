{
 "cells": [
  {
   "cell_type": "markdown",
   "metadata": {},
   "source": [
    "#### Script to compute model fingerprints expressed in Tab. 1 of the main text"
   ]
  },
  {
   "cell_type": "markdown",
   "metadata": {},
   "source": [
    "##### Preambule"
   ]
  },
  {
   "cell_type": "code",
   "execution_count": 15,
   "metadata": {},
   "outputs": [],
   "source": [
    "import numpy as np\n",
    "import xarray as xr\n",
    "import yaml"
   ]
  },
  {
   "cell_type": "markdown",
   "metadata": {},
   "source": [
    "##### Read config file"
   ]
  },
  {
   "cell_type": "code",
   "execution_count": 16,
   "metadata": {},
   "outputs": [],
   "source": [
    "with open(\"../Configuration/config.yaml\", \"r\") as stream:\n",
    "    settings = yaml.load(stream, Loader=yaml.Loader)\n",
    "list_of_models = [settings['models'][m]['full_name'] for m in settings['models'].keys()]\n",
    "list_of_colors = [settings['models'][m]['color'] for m in settings['models'].keys()]"
   ]
  },
  {
   "cell_type": "markdown",
   "metadata": {},
   "source": [
    "##### Read data"
   ]
  },
  {
   "cell_type": "code",
   "execution_count": 17,
   "metadata": {},
   "outputs": [],
   "source": [
    "ind_xr = xr.open_dataset(settings['paths']['data']['output']+\"XRindicators.nc\")"
   ]
  },
  {
   "cell_type": "code",
   "execution_count": 27,
   "metadata": {},
   "outputs": [],
   "source": [
    "list_of_models_resorted = ['WITCH 5.0', 'PRIMES 2022', 'MESSAGEix-GLOBIOM 1.2', 'PROMETHEUS 1.2', 'IMAGE 3.2', 'REMIND 2.1', 'Euro-Calliope 2.0', 'TIAM-ECN 1.2']\n",
    "list_of_models_resorted2 = ['REMIND 2.1', 'Euro-Calliope 2.0', 'IMAGE 3.2', 'PRIMES 2022', 'PROMETHEUS 1.2', 'WITCH 5.0', 'MESSAGEix-GLOBIOM 1.2', 'TIAM-ECN 1.2']"
   ]
  },
  {
   "cell_type": "markdown",
   "metadata": {},
   "source": [
    "##### Compute"
   ]
  },
  {
   "cell_type": "code",
   "execution_count": 18,
   "metadata": {},
   "outputs": [
    {
     "name": "stdout",
     "output_type": "stream",
     "text": [
      "IMAGE 3.2              :        0.5\n",
      "PROMETHEUS 1.2         :       -0.8\n",
      "OSeMBE v1.0.0          :        nan\n",
      "REMIND 2.1             :        0.3\n",
      "WITCH 5.0              :        1.0\n",
      "Euro-Calliope 2.0      :        nan\n",
      "MEESA v1.1             :        nan\n",
      "TIAM-ECN 1.2           :       -1.8\n",
      "MESSAGEix-GLOBIOM 1.2  :       -1.4\n",
      "PRIMES 2022            :       -0.0\n"
     ]
    }
   ],
   "source": [
    "inds = ['C3_dem']\n",
    "for model in list_of_models:\n",
    "    vals = []\n",
    "    for ind in inds:\n",
    "        std_ens = ind_xr.sel(Indicator=ind, Time=2050, Region='Europe', Model=settings['models_touse'], Scenario=settings['scenarios_c400']).std()\n",
    "        med_ens = ind_xr.sel(Indicator=ind, Time=2050, Region='Europe', Model=settings['models_touse'], Scenario=settings['scenarios_c400']).median()\n",
    "        med_mod = ind_xr.sel(Indicator=ind, Time=2050, Region='Europe', Model=model, Scenario=settings['scenarios_c400']).median()\n",
    "        vals.append(float(((med_mod-med_ens) / std_ens).Value))\n",
    "    print(f\"{model:<22} : {np.round(np.mean(vals), 1):>10}\")"
   ]
  },
  {
   "cell_type": "code",
   "execution_count": 29,
   "metadata": {},
   "outputs": [
    {
     "name": "stdout",
     "output_type": "stream",
     "text": [
      "REMIND 2.1            | T: 1.88       | S: 1.28       |\n",
      "Euro-Calliope 2.0     | T: 0.56       | S: 1.22       |\n",
      "IMAGE 3.2             | T: 0.6        | S: 0.47       |\n",
      "PRIMES 2022           | T: 0.11       | S: -0.28      |\n",
      "PROMETHEUS 1.2        | T: -0.27      | S: 0.02       |\n",
      "WITCH 5.0             | T: -0.37      | S: 0.43       |\n",
      "MESSAGEix-GLOBIOM 1.2 | T: -0.47      | S: 0.18       |\n",
      "TIAM-ECN 1.2          | T: -1.58      | S: -0.35      |\n"
     ]
    }
   ],
   "source": [
    "indlists = [[\"R1_rai\"],\n",
    " [\"R4_sensprim\", \"R5_sensdem\"]]\n",
    "indnames = ['Tax resp', 'Scen resp']\n",
    "\n",
    "for model in list_of_models_resorted2:\n",
    "    output_line = f\"{model:<21} |\"\n",
    "    \n",
    "    for inds_i, inds in enumerate(indlists):\n",
    "        vals = []\n",
    "        \n",
    "        for ind in inds:\n",
    "            std_ens = ind_xr.sel(Indicator=ind, Time=2050, Region='Europe', Model=settings['models_touse'], Scenario=settings['scenarios_c400']).std()\n",
    "            med_ens = ind_xr.sel(Indicator=ind, Time=2050, Region='Europe', Model=settings['models_touse'], Scenario=settings['scenarios_c400']).median()\n",
    "            med_mod = ind_xr.sel(Indicator=ind, Time=2050, Region='Europe', Model=model, Scenario=settings['scenarios_c400']).median()\n",
    "            vals.append(float(((med_mod - med_ens) / std_ens).Value))\n",
    "        \n",
    "        output_line += f\" {indnames[inds_i][0]}: {np.round(np.mean(vals), 2):<10} |\"\n",
    "    \n",
    "    print(output_line)"
   ]
  },
  {
   "cell_type": "code",
   "execution_count": 31,
   "metadata": {},
   "outputs": [
    {
     "name": "stdout",
     "output_type": "stream",
     "text": [
      "REMIND 2.1            | M1_cir: 1.2        | M2_eir: -0.1       | M3_cc: 0.2        | M4_nonco2: -1.2       |\n",
      "Euro-Calliope 2.0     | M1_cir: 0.5        | M2_eir: -0.5       | M3_cc: nan        | M4_nonco2: nan        |\n",
      "IMAGE 3.2             | M1_cir: 0.6        | M2_eir: 0.3        | M3_cc: 1.4        | M4_nonco2: -1.2       |\n",
      "PRIMES 2022           | M1_cir: 0.1        | M2_eir: 0.5        | M3_cc: -0.1       | M4_nonco2: 1.0        |\n",
      "PROMETHEUS 1.2        | M1_cir: -0.4       | M2_eir: 0.8        | M3_cc: -0.7       | M4_nonco2: nan        |\n",
      "WITCH 5.0             | M1_cir: -0.5       | M2_eir: 2.2        | M3_cc: 1.4        | M4_nonco2: -0.0       |\n",
      "MESSAGEix-GLOBIOM 1.2 | M1_cir: -0.7       | M2_eir: -0.6       | M3_cc: 1.4        | M4_nonco2: 0.1        |\n",
      "TIAM-ECN 1.2          | M1_cir: -1.9       | M2_eir: -1.6       | M3_cc: -0.1       | M4_nonco2: 1.8        |\n"
     ]
    }
   ],
   "source": [
    "inds = [\"M1_cir\", \"M2_eir\", \"M3_cc\", \"M4_nonco2\"]\n",
    "for model in list_of_models_resorted2:\n",
    "    output_line = f\"{model:<21} |\"\n",
    "    \n",
    "    for ind in inds:\n",
    "        std_ens = ind_xr.sel(Indicator=ind, Time=2050, Region='Europe', Scenario=settings['scenarios_c400']).std()\n",
    "        med_ens = ind_xr.sel(Indicator=ind, Time=2050, Region='Europe', Scenario=settings['scenarios_c400']).median()\n",
    "        med_mod = ind_xr.sel(Indicator=ind, Time=2050, Region='Europe', Model=model, Scenario=settings['scenarios_c400']).median()\n",
    "        \n",
    "        output_line += f\" {ind}: {np.round(float(((med_mod - med_ens) / std_ens).Value), 1):<10} |\"\n",
    "    \n",
    "    print(output_line)"
   ]
  },
  {
   "cell_type": "code",
   "execution_count": 32,
   "metadata": {},
   "outputs": [
    {
     "name": "stdout",
     "output_type": "stream",
     "text": [
      "REMIND 2.1            | F: -0.68      | R: 0.69       | O: 0.06       |\n",
      "Euro-Calliope 2.0     | F: -0.96      | R: 1.27       | O: -0.67      |\n",
      "IMAGE 3.2             | F: 0.72       | R: -0.63      | O: 0.37       |\n",
      "PRIMES 2022           | F: 0.05       | R: 0.06       | O: -0.38      |\n",
      "PROMETHEUS 1.2        | F: 0.56       | R: -0.92      | O: 1.85       |\n",
      "WITCH 5.0             | F: 0.99       | R: -0.1       | O: 0.18       |\n",
      "MESSAGEix-GLOBIOM 1.2 | F: 0.59       | R: -0.09      | O: 0.42       |\n",
      "TIAM-ECN 1.2          | F: 1.4        | R: -0.5       | O: 0.25       |\n"
     ]
    }
   ],
   "source": [
    "indlists = [['ES1_coal', 'ES2_oil', 'ES3_gas'],\n",
    " ['ES5_wind', 'ES4_solar'],\n",
    " ['ES6_biomass', 'ES7_nuclear']]\n",
    "indnames = ['Fossil', 'Renew', 'Other']\n",
    "\n",
    "for model in list_of_models_resorted2:\n",
    "    output_line = f\"{model:<21} |\"\n",
    "    \n",
    "    for inds_i, inds in enumerate(indlists):\n",
    "        vals = []\n",
    "        \n",
    "        for ind in inds:\n",
    "            std_ens = ind_xr.sel(Indicator=ind, Time=2050, Region='Europe', Model=settings['models_touse'], Scenario=settings['scenarios_c400']).std()\n",
    "            med_ens = ind_xr.sel(Indicator=ind, Time=2050, Region='Europe', Model=settings['models_touse'], Scenario=settings['scenarios_c400']).median()\n",
    "            med_mod = ind_xr.sel(Indicator=ind, Time=2050, Region='Europe', Model=model, Scenario=settings['scenarios_c400']).median()\n",
    "            vals.append(float(((med_mod - med_ens) / std_ens).Value))\n",
    "        \n",
    "        output_line += f\" {indnames[inds_i][0]}: {np.round(np.mean(vals), 2):<10} |\"\n",
    "    \n",
    "    print(output_line)"
   ]
  },
  {
   "cell_type": "code",
   "execution_count": 33,
   "metadata": {},
   "outputs": [
    {
     "name": "stdout",
     "output_type": "stream",
     "text": [
      "REMIND 2.1            | E: 0.91       |\n",
      "Euro-Calliope 2.0     | E: nan        |\n",
      "IMAGE 3.2             | E: -0.48      |\n",
      "PRIMES 2022           | E: 0.04       |\n",
      "PROMETHEUS 1.2        | E: -0.05      |\n",
      "WITCH 5.0             | E: 0.72       |\n",
      "MESSAGEix-GLOBIOM 1.2 | E: -0.45      |\n",
      "TIAM-ECN 1.2          | E: -0.94      |\n"
     ]
    }
   ],
   "source": [
    "indlists = [[\"ED1_etrans\", \"ED2_eindus\", \"ED3_ebuild\"]]\n",
    "indnames = ['Elec']\n",
    "\n",
    "for model in list_of_models_resorted2:\n",
    "    output_line = f\"{model:<21} |\"\n",
    "    \n",
    "    for inds_i, inds in enumerate(indlists):\n",
    "        vals = []\n",
    "        \n",
    "        for ind in inds:\n",
    "            std_ens = ind_xr.sel(Indicator=ind, Time=2050, Region='Europe', Model=settings['models_touse'], Scenario=settings['scenarios_c400']).std()\n",
    "            med_ens = ind_xr.sel(Indicator=ind, Time=2050, Region='Europe', Model=settings['models_touse'], Scenario=settings['scenarios_c400']).median()\n",
    "            med_mod = ind_xr.sel(Indicator=ind, Time=2050, Region='Europe', Model=model, Scenario=settings['scenarios_c400']).median()\n",
    "            vals.append(float(((med_mod - med_ens) / std_ens).Value))\n",
    "        \n",
    "        output_line += f\" {indnames[inds_i][0]}: {np.round(np.mean(vals), 2):<10} |\"\n",
    "    \n",
    "    print(output_line)"
   ]
  },
  {
   "cell_type": "code",
   "execution_count": 34,
   "metadata": {},
   "outputs": [
    {
     "name": "stdout",
     "output_type": "stream",
     "text": [
      "REMIND 2.1            | C: -0.56      |\n",
      "Euro-Calliope 2.0     | C: nan        |\n",
      "IMAGE 3.2             | C: 0.01       |\n",
      "PRIMES 2022           | C: nan        |\n",
      "PROMETHEUS 1.2        | C: nan        |\n",
      "WITCH 5.0             | C: 0.63       |\n",
      "MESSAGEix-GLOBIOM 1.2 | C: -0.02      |\n",
      "TIAM-ECN 1.2          | C: 2.8        |\n"
     ]
    }
   ],
   "source": [
    "indlists = [[\"C1_cost\"]]\n",
    "indnames = ['Costs']\n",
    "\n",
    "for model in list_of_models_resorted2:\n",
    "    output_line = f\"{model:<21} |\"\n",
    "    \n",
    "    for inds_i, inds in enumerate(indlists):\n",
    "        vals = []\n",
    "        \n",
    "        for ind in inds:\n",
    "            std_ens = ind_xr.sel(Indicator=ind, Time=2050, Region='Europe', Model=settings['models_touse'], Scenario=settings['scenarios_c400']).std()\n",
    "            med_ens = ind_xr.sel(Indicator=ind, Time=2050, Region='Europe', Model=settings['models_touse'], Scenario=settings['scenarios_c400']).median()\n",
    "            med_mod = ind_xr.sel(Indicator=ind, Time=2050, Region='Europe', Model=model, Scenario=settings['scenarios_c400']).median()\n",
    "            vals.append(float(((med_mod - med_ens) / std_ens).Value))\n",
    "        \n",
    "        output_line += f\" {indnames[inds_i][0]}: {np.round(np.mean(vals), 2):<10} |\"\n",
    "    \n",
    "    print(output_line)"
   ]
  },
  {
   "cell_type": "code",
   "execution_count": 30,
   "metadata": {},
   "outputs": [
    {
     "name": "stdout",
     "output_type": "stream",
     "text": [
      "WITCH 5.0             | M1_cir: -0.5       | M2_eir: 2.2        | M3_cc: 1.4        | M4_nonco2: -0.0       |\n",
      "PRIMES 2022           | M1_cir: 0.1        | M2_eir: 0.5        | M3_cc: -0.1       | M4_nonco2: 1.0        |\n",
      "MESSAGEix-GLOBIOM 1.2 | M1_cir: -0.7       | M2_eir: -0.6       | M3_cc: 1.4        | M4_nonco2: 0.1        |\n",
      "PROMETHEUS 1.2        | M1_cir: -0.4       | M2_eir: 0.8        | M3_cc: -0.7       | M4_nonco2: nan        |\n",
      "IMAGE 3.2             | M1_cir: 0.6        | M2_eir: 0.3        | M3_cc: 1.4        | M4_nonco2: -1.2       |\n",
      "REMIND 2.1            | M1_cir: 1.2        | M2_eir: -0.1       | M3_cc: 0.2        | M4_nonco2: -1.2       |\n",
      "Euro-Calliope 2.0     | M1_cir: 0.5        | M2_eir: -0.5       | M3_cc: nan        | M4_nonco2: nan        |\n",
      "TIAM-ECN 1.2          | M1_cir: -1.9       | M2_eir: -1.6       | M3_cc: -0.1       | M4_nonco2: 1.8        |\n"
     ]
    }
   ],
   "source": [
    "# inds = [\"R1_rai\", \"R2_time\", \"R3_speedmax\", \"R4_sensprim\", \"R5_sensdem\"]\n",
    "inds = [\"M1_cir\", \"M2_eir\", \"M3_cc\", \"M4_nonco2\"]\n",
    "#inds = [\"ES1_coal\", \"ES2_oil\", \"ES3_gas\", \"ES4_solar\", \"ES5_wind\", \"ES6_biomass\", \"ES7_nuclear\"]\n",
    "# inds = [\"ED1_etrans\", \"ED2_eindus\", \"ED3_ebuild\", \"ED4_emise\", \"ED5_hydrogen\"]\n",
    "# inds = [\"C1_cost\", \"C2_ti\", \"C3_dem\"]\n",
    "\n",
    "for model in list_of_models_resorted:\n",
    "    output_line = f\"{model:<21} |\"\n",
    "    \n",
    "    for ind in inds:\n",
    "        std_ens = ind_xr.sel(Indicator=ind, Time=2050, Region='Europe', Scenario=settings['scenarios_c400']).std()\n",
    "        med_ens = ind_xr.sel(Indicator=ind, Time=2050, Region='Europe', Scenario=settings['scenarios_c400']).median()\n",
    "        med_mod = ind_xr.sel(Indicator=ind, Time=2050, Region='Europe', Model=model, Scenario=settings['scenarios_c400']).median()\n",
    "        \n",
    "        output_line += f\" {ind}: {np.round(float(((med_mod - med_ens) / std_ens).Value), 1):<10} |\"\n",
    "    \n",
    "    print(output_line)"
   ]
  }
 ],
 "metadata": {
  "kernelspec": {
   "display_name": "MyEnv",
   "language": "python",
   "name": "python3"
  },
  "language_info": {
   "codemirror_mode": {
    "name": "ipython",
    "version": 3
   },
   "file_extension": ".py",
   "mimetype": "text/x-python",
   "name": "python",
   "nbconvert_exporter": "python",
   "pygments_lexer": "ipython3",
   "version": "3.9.16"
  },
  "orig_nbformat": 4
 },
 "nbformat": 4,
 "nbformat_minor": 2
}
