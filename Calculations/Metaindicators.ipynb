{
 "cells": [
  {
   "cell_type": "markdown",
   "metadata": {},
   "source": [
    "#### Script to compute model fingerprints expressed in Tab. 1 of the main text"
   ]
  },
  {
   "cell_type": "markdown",
   "metadata": {},
   "source": [
    "##### Preambule"
   ]
  },
  {
   "cell_type": "code",
   "execution_count": 1,
   "metadata": {},
   "outputs": [],
   "source": [
    "import numpy as np\n",
    "import xarray as xr\n",
    "import yaml"
   ]
  },
  {
   "cell_type": "markdown",
   "metadata": {},
   "source": [
    "##### Read config file"
   ]
  },
  {
   "cell_type": "code",
   "execution_count": null,
   "metadata": {},
   "outputs": [],
   "source": []
  },
  {
   "cell_type": "markdown",
   "metadata": {},
   "source": [
    "##### Read data"
   ]
  },
  {
   "cell_type": "code",
   "execution_count": null,
   "metadata": {},
   "outputs": [],
   "source": [
    "ind_xr = xr.open_dataset()"
   ]
  },
  {
   "cell_type": "markdown",
   "metadata": {},
   "source": [
    "##### Compute"
   ]
  },
  {
   "cell_type": "code",
   "execution_count": null,
   "metadata": {},
   "outputs": [],
   "source": [
    "inds = ['C3_dem']\n",
    "for model in mods:\n",
    "    vals = []\n",
    "    for ind in inds:\n",
    "        std_ens = calcclass.ind_xr.sel(Indicator=ind, Time=2050, Region='Europe', Model=calcclass.settings['models_touse'], Scenario=calcclass.settings['scenarios_c400']).std()\n",
    "        med_ens = calcclass.ind_xr.sel(Indicator=ind, Time=2050, Region='Europe', Model=calcclass.settings['models_touse'], Scenario=calcclass.settings['scenarios_c400']).median()\n",
    "        med_mod = calcclass.ind_xr.sel(Indicator=ind, Time=2050, Region='Europe', Model=model, Scenario=calcclass.settings['scenarios_c400']).median()\n",
    "        vals.append(float(((med_mod-med_ens) / std_ens).Value))\n",
    "\n",
    "    print(model)\n",
    "    print(np.round(np.mean(vals), 1))\n",
    "    print('')"
   ]
  }
 ],
 "metadata": {
  "kernelspec": {
   "display_name": "MyEnv",
   "language": "python",
   "name": "python3"
  },
  "language_info": {
   "codemirror_mode": {
    "name": "ipython",
    "version": 3
   },
   "file_extension": ".py",
   "mimetype": "text/x-python",
   "name": "python",
   "nbconvert_exporter": "python",
   "pygments_lexer": "ipython3",
   "version": "3.9.16"
  },
  "orig_nbformat": 4
 },
 "nbformat": 4,
 "nbformat_minor": 2
}
